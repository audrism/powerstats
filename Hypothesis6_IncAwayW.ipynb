{
 "cells": [
  {
   "cell_type": "markdown",
   "metadata": {},
   "source": [
    "## Hypothesis\n",
    "To predict the incentive level requested to predict the incentive level requested to shut down or lower 5 degrees during the winter\n",
    "    \n",
    "IV: Age, Gender, OwnRent, SqftCate, HouseholdS, Political, Ethnic, Income, Educ\n",
    "    Latitude, HomeW, EnergyC, MC, ComfNW, HabitC, Winter_avg"
   ]
  },
  {
   "cell_type": "code",
   "execution_count": 69,
   "metadata": {
    "collapsed": false
   },
   "outputs": [],
   "source": [
    "options(digits=2);\n",
    "# Read in the data\n",
    "survey <- read.csv(\"DR_Survey2_Share_Complete.csv\",header=T);\n",
    "#populate missing values\n",
    "#survey$IncHomeS[survey$IncHomeS==99] = NA;\n",
    "#survey$IncHomeS[survey$IncHomeS==999] = NA;\n",
    "\n",
    "#survey <- survey[survey$HomeS>60,];\n",
    "#survey <- survey[survey$HomeS<80,];\n",
    "\n",
    "#survey <- survey[survey$HomeW>60,];\n",
    "#survey <- survey[survey$HomeW<80,];\n",
    "\n",
    "data <- survey[,-c(1:7)];\n",
    "\n",
    "#We investigate only use people who use A/C when being at home in summer\n",
    "data1 <- data[data$HomeSYN==1,-which(names(data) %in% c(\"HomeWYN\",\"AwayWNY\",\"HomeSYN\",\"AwaySNY\",\"City\",\"Utility\",\n",
    "    \"ReasonPos\",\"ReasonNeg\",\"NBillS\",\"NBillW\",\"valid1\",\"valid2\",\"valid\",\"Attitude\",\"Trust\",\"MCG\",\"Frugal\",\"ComfortS\",\"ComfortW\",\"SubN\",\"PBC\",\"ACYN\",\"HeatYN\",\n",
    "    \"Longitude\", \"Job\",\"hot\",\"cold\"))];"
   ]
  },
  {
   "cell_type": "code",
   "execution_count": 70,
   "metadata": {
    "collapsed": false
   },
   "outputs": [
    {
     "data": {
      "text/plain": [
       "   Min. 1st Qu.  Median    Mean 3rd Qu.    Max. \n",
       "      1       3       5       6       7      99 "
      ]
     },
     "metadata": {},
     "output_type": "display_data"
    },
    {
     "data": {
      "text/plain": [
       "\n",
       "  1   2   3   4   5   6   7   8  99 \n",
       " 61  42  68 132 102  79  88  79  11 "
      ]
     },
     "metadata": {},
     "output_type": "display_data"
    },
    {
     "data": {
      "image/png": "[encoded data removed]",
      "text/plain": [
       "Plot with title \"Histogram of data1$IncAwayW\""
      ]
     },
     "metadata": {},
     "output_type": "display_data"
    }
   ],
   "source": [
    "summary(data1$IncAwayW)\n",
    "table(data1$IncAwayW)\n",
    "hist(data1$IncAwayW)"
   ]
  },
  {
   "cell_type": "code",
   "execution_count": 71,
   "metadata": {
    "collapsed": false
   },
   "outputs": [
    {
     "name": "stdout",
     "output_type": "stream",
     "text": [
      "[1] \"HomeW\" \"28\"   \n",
      "[1] \"AwayW\" \"87\"   \n",
      "[1] \"AwayS\" \"101\"  \n",
      "[1] \"IncWD\" \"56\"   \n",
      "[1] \"IncDish\" \"183\"    \n",
      "[1] \"Age\" \"4\"  \n",
      "[1] \"Income\" \"3\"     \n",
      "[1] \"Educ\" \"5\"   \n",
      "[1] \"Latitude\" \"21\"      \n",
      "[1] \"Summer_avgF\" \"33\"         \n",
      "[1] \"Winter_avgF\" \"33\"         \n",
      "[1] \"Summer_avgC\" \"33\"         \n",
      "[1] \"Winter_avgC\" \"33\"         \n",
      "[1] \"Summer_avg\" \"33\"        \n",
      "[1] \"Winter_avg\" \"33\"        \n"
     ]
    }
   ],
   "source": [
    "#Fields with lots of missing values\n",
    "for (n in names(data1)){\n",
    "    nmis = sum(is.na(data1[,n]))\n",
    "    if(nmis >1)  print (c(n, sum(is.na(data1[,n]))))\n",
    "}"
   ]
  },
  {
   "cell_type": "code",
   "execution_count": 72,
   "metadata": {
    "collapsed": false
   },
   "outputs": [
    {
     "name": "stdout",
     "output_type": "stream",
     "text": [
      "[1] 662 104\n",
      "[1] 601 104\n"
     ]
    }
   ],
   "source": [
    "#lets remover these\n",
    "data2 <- data1[,-which(names(data1) %in% c(\"HomeW\",\"AwayW\",\n",
    "                    \"AwayS\",\"IncWD\",\"IncDish\"))];\n",
    "print(dim(data2))\n",
    "data2 <- na.omit(data2)\n",
    "print(dim(data2))\n",
    "#table(data2$Political)"
   ]
  },
  {
   "cell_type": "code",
   "execution_count": 73,
   "metadata": {
    "collapsed": false
   },
   "outputs": [
    {
     "data": {
      "text/plain": [
       "   Min. 1st Qu.  Median    Mean 3rd Qu.    Max. \n",
       "      1       3       5       6       7      99 "
      ]
     },
     "metadata": {},
     "output_type": "display_data"
    },
    {
     "data": {
      "text/plain": [
       "\n",
       "  1   2   3   4   5   6   7   8  99 \n",
       " 59  38  64 114  93  66  80  76  11 "
      ]
     },
     "metadata": {},
     "output_type": "display_data"
    },
    {
     "data": {
      "image/png": "[encoded data removed]",
      "text/plain": [
       "Plot with title \"Histogram of data2$IncAwayW\""
      ]
     },
     "metadata": {},
     "output_type": "display_data"
    }
   ],
   "source": [
    "summary(data2$IncAwayW)\n",
    "table(data2$IncAwayW)\n",
    "hist(data2$IncAwayW)"
   ]
  },
  {
   "cell_type": "code",
   "execution_count": 74,
   "metadata": {
    "collapsed": false
   },
   "outputs": [
    {
     "data": {
      "text/html": [
       "<ol class=list-inline>\n",
       "\t<li>'Age'</li>\n",
       "\t<li>'Atti'</li>\n",
       "\t<li>'Atti1'</li>\n",
       "\t<li>'Atti2'</li>\n",
       "\t<li>'Atti3'</li>\n",
       "\t<li>'Atti4'</li>\n",
       "\t<li>'BillS'</li>\n",
       "\t<li>'BillW'</li>\n",
       "\t<li>'CashYN'</li>\n",
       "\t<li>'ComfNS'</li>\n",
       "\t<li>'ComfNS1'</li>\n",
       "\t<li>'ComfNS2'</li>\n",
       "\t<li>'ComfNS3'</li>\n",
       "\t<li>'ComfNW'</li>\n",
       "\t<li>'ComfNW1'</li>\n",
       "\t<li>'ComfNW2'</li>\n",
       "\t<li>'ControlN1'</li>\n",
       "\t<li>'ControlN2R'</li>\n",
       "\t<li>'ControlN3'</li>\n",
       "\t<li>'ControlN4'</li>\n",
       "\t<li>'ConvB1'</li>\n",
       "\t<li>'ConvB2'</li>\n",
       "\t<li>'ConvB3'</li>\n",
       "\t<li>'ConvB4'</li>\n",
       "\t<li>'Educ'</li>\n",
       "\t<li>'EmerRForm'</li>\n",
       "\t<li>'EnergyC'</li>\n",
       "\t<li>'EnergyC1'</li>\n",
       "\t<li>'EnergyC2'</li>\n",
       "\t<li>'EnergyC3'</li>\n",
       "\t<li>'EnergyC4'</li>\n",
       "\t<li>'Ethnic'</li>\n",
       "\t<li>'Frugal1'</li>\n",
       "\t<li>'Frugal2'</li>\n",
       "\t<li>'Frugal3'</li>\n",
       "\t<li>'Gender'</li>\n",
       "\t<li>'HabitC'</li>\n",
       "\t<li>'HabitC1'</li>\n",
       "\t<li>'HabitC2'</li>\n",
       "\t<li>'HabitC3'</li>\n",
       "\t<li>'HabitC4'</li>\n",
       "\t<li>'HabitC5'</li>\n",
       "\t<li>'HabitC6'</li>\n",
       "\t<li>'HabitC7'</li>\n",
       "\t<li>'HabitE1'</li>\n",
       "\t<li>'HabitE2'</li>\n",
       "\t<li>'HabitE3'</li>\n",
       "\t<li>'HabitG'</li>\n",
       "\t<li>'HomeS'</li>\n",
       "\t<li>'HouseholdS'</li>\n",
       "\t<li>'INT1'</li>\n",
       "\t<li>'INT2'</li>\n",
       "\t<li>'INT3'</li>\n",
       "\t<li>'INT4'</li>\n",
       "\t<li>'IncAutoS'</li>\n",
       "\t<li>'IncAutoW'</li>\n",
       "\t<li>'IncAwayS'</li>\n",
       "\t<li>'IncAwayW'</li>\n",
       "\t<li>'IncEmer10S'</li>\n",
       "\t<li>'IncEmer10W'</li>\n",
       "\t<li>'IncEmer30S'</li>\n",
       "\t<li>'IncEmer30W'</li>\n",
       "\t<li>'IncHomeS'</li>\n",
       "\t<li>'IncHomeW'</li>\n",
       "\t<li>'Income'</li>\n",
       "\t<li>'Latitude'</li>\n",
       "\t<li>'MC'</li>\n",
       "\t<li>'MC1'</li>\n",
       "\t<li>'MC2'</li>\n",
       "\t<li>'MC3'</li>\n",
       "\t<li>'MC4'</li>\n",
       "\t<li>'MC5'</li>\n",
       "\t<li>'MCBill'</li>\n",
       "\t<li>'OwnRent'</li>\n",
       "\t<li>'PBC1'</li>\n",
       "\t<li>'PBC2'</li>\n",
       "\t<li>'PBC3R'</li>\n",
       "\t<li>'PBC4'</li>\n",
       "\t<li>'PBC5'</li>\n",
       "\t<li>'Political'</li>\n",
       "\t<li>'RewardForm'</li>\n",
       "\t<li>'SN'</li>\n",
       "\t<li>'SN1'</li>\n",
       "\t<li>'SN2'</li>\n",
       "\t<li>'SN3'</li>\n",
       "\t<li>'SN4'</li>\n",
       "\t<li>'Sqft'</li>\n",
       "\t<li>'SqftCate'</li>\n",
       "\t<li>'State'</li>\n",
       "\t<li>'SubNorm'</li>\n",
       "\t<li>'SubNorm1'</li>\n",
       "\t<li>'SubNorm2'</li>\n",
       "\t<li>'SubNorm3'</li>\n",
       "\t<li>'Summer_avg'</li>\n",
       "\t<li>'Summer_avgC'</li>\n",
       "\t<li>'Summer_avgF'</li>\n",
       "\t<li>'Trust1'</li>\n",
       "\t<li>'Trust2'</li>\n",
       "\t<li>'Trust3'</li>\n",
       "\t<li>'Trust4'</li>\n",
       "\t<li>'Winter_avg'</li>\n",
       "\t<li>'Winter_avgC'</li>\n",
       "\t<li>'Winter_avgF'</li>\n",
       "\t<li>'X.9to5'</li>\n",
       "</ol>\n"
      ],
      "text/latex": [
       "\\begin{enumerate*}\n",
       "\\item 'Age'\n",
       "\\item 'Atti'\n",
       "\\item 'Atti1'\n",
       "\\item 'Atti2'\n",
       "\\item 'Atti3'\n",
       "\\item 'Atti4'\n",
       "\\item 'BillS'\n",
       "\\item 'BillW'\n",
       "\\item 'CashYN'\n",
       "\\item 'ComfNS'\n",
       "\\item 'ComfNS1'\n",
       "\\item 'ComfNS2'\n",
       "\\item 'ComfNS3'\n",
       "\\item 'ComfNW'\n",
       "\\item 'ComfNW1'\n",
       "\\item 'ComfNW2'\n",
       "\\item 'ControlN1'\n",
       "\\item 'ControlN2R'\n",
       "\\item 'ControlN3'\n",
       "\\item 'ControlN4'\n",
       "\\item 'ConvB1'\n",
       "\\item 'ConvB2'\n",
       "\\item 'ConvB3'\n",
       "\\item 'ConvB4'\n",
       "\\item 'Educ'\n",
       "\\item 'EmerRForm'\n",
       "\\item 'EnergyC'\n",
       "\\item 'EnergyC1'\n",
       "\\item 'EnergyC2'\n",
       "\\item 'EnergyC3'\n",
       "\\item 'EnergyC4'\n",
       "\\item 'Ethnic'\n",
       "\\item 'Frugal1'\n",
       "\\item 'Frugal2'\n",
       "\\item 'Frugal3'\n",
       "\\item 'Gender'\n",
       "\\item 'HabitC'\n",
       "\\item 'HabitC1'\n",
       "\\item 'HabitC2'\n",
       "\\item 'HabitC3'\n",
       "\\item 'HabitC4'\n",
       "\\item 'HabitC5'\n",
       "\\item 'HabitC6'\n",
       "\\item 'HabitC7'\n",
       "\\item 'HabitE1'\n",
       "\\item 'HabitE2'\n",
       "\\item 'HabitE3'\n",
       "\\item 'HabitG'\n",
       "\\item 'HomeS'\n",
       "\\item 'HouseholdS'\n",
       "\\item 'INT1'\n",
       "\\item 'INT2'\n",
       "\\item 'INT3'\n",
       "\\item 'INT4'\n",
       "\\item 'IncAutoS'\n",
       "\\item 'IncAutoW'\n",
       "\\item 'IncAwayS'\n",
       "\\item 'IncAwayW'\n",
       "\\item 'IncEmer10S'\n",
       "\\item 'IncEmer10W'\n",
       "\\item 'IncEmer30S'\n",
       "\\item 'IncEmer30W'\n",
       "\\item 'IncHomeS'\n",
       "\\item 'IncHomeW'\n",
       "\\item 'Income'\n",
       "\\item 'Latitude'\n",
       "\\item 'MC'\n",
       "\\item 'MC1'\n",
       "\\item 'MC2'\n",
       "\\item 'MC3'\n",
       "\\item 'MC4'\n",
       "\\item 'MC5'\n",
       "\\item 'MCBill'\n",
       "\\item 'OwnRent'\n",
       "\\item 'PBC1'\n",
       "\\item 'PBC2'\n",
       "\\item 'PBC3R'\n",
       "\\item 'PBC4'\n",
       "\\item 'PBC5'\n",
       "\\item 'Political'\n",
       "\\item 'RewardForm'\n",
       "\\item 'SN'\n",
       "\\item 'SN1'\n",
       "\\item 'SN2'\n",
       "\\item 'SN3'\n",
       "\\item 'SN4'\n",
       "\\item 'Sqft'\n",
       "\\item 'SqftCate'\n",
       "\\item 'State'\n",
       "\\item 'SubNorm'\n",
       "\\item 'SubNorm1'\n",
       "\\item 'SubNorm2'\n",
       "\\item 'SubNorm3'\n",
       "\\item 'Summer\\_avg'\n",
       "\\item 'Summer\\_avgC'\n",
       "\\item 'Summer\\_avgF'\n",
       "\\item 'Trust1'\n",
       "\\item 'Trust2'\n",
       "\\item 'Trust3'\n",
       "\\item 'Trust4'\n",
       "\\item 'Winter\\_avg'\n",
       "\\item 'Winter\\_avgC'\n",
       "\\item 'Winter\\_avgF'\n",
       "\\item 'X.9to5'\n",
       "\\end{enumerate*}\n"
      ],
      "text/markdown": [
       "1. 'Age'\n",
       "2. 'Atti'\n",
       "3. 'Atti1'\n",
       "4. 'Atti2'\n",
       "5. 'Atti3'\n",
       "6. 'Atti4'\n",
       "7. 'BillS'\n",
       "8. 'BillW'\n",
       "9. 'CashYN'\n",
       "10. 'ComfNS'\n",
       "11. 'ComfNS1'\n",
       "12. 'ComfNS2'\n",
       "13. 'ComfNS3'\n",
       "14. 'ComfNW'\n",
       "15. 'ComfNW1'\n",
       "16. 'ComfNW2'\n",
       "17. 'ControlN1'\n",
       "18. 'ControlN2R'\n",
       "19. 'ControlN3'\n",
       "20. 'ControlN4'\n",
       "21. 'ConvB1'\n",
       "22. 'ConvB2'\n",
       "23. 'ConvB3'\n",
       "24. 'ConvB4'\n",
       "25. 'Educ'\n",
       "26. 'EmerRForm'\n",
       "27. 'EnergyC'\n",
       "28. 'EnergyC1'\n",
       "29. 'EnergyC2'\n",
       "30. 'EnergyC3'\n",
       "31. 'EnergyC4'\n",
       "32. 'Ethnic'\n",
       "33. 'Frugal1'\n",
       "34. 'Frugal2'\n",
       "35. 'Frugal3'\n",
       "36. 'Gender'\n",
       "37. 'HabitC'\n",
       "38. 'HabitC1'\n",
       "39. 'HabitC2'\n",
       "40. 'HabitC3'\n",
       "41. 'HabitC4'\n",
       "42. 'HabitC5'\n",
       "43. 'HabitC6'\n",
       "44. 'HabitC7'\n",
       "45. 'HabitE1'\n",
       "46. 'HabitE2'\n",
       "47. 'HabitE3'\n",
       "48. 'HabitG'\n",
       "49. 'HomeS'\n",
       "50. 'HouseholdS'\n",
       "51. 'INT1'\n",
       "52. 'INT2'\n",
       "53. 'INT3'\n",
       "54. 'INT4'\n",
       "55. 'IncAutoS'\n",
       "56. 'IncAutoW'\n",
       "57. 'IncAwayS'\n",
       "58. 'IncAwayW'\n",
       "59. 'IncEmer10S'\n",
       "60. 'IncEmer10W'\n",
       "61. 'IncEmer30S'\n",
       "62. 'IncEmer30W'\n",
       "63. 'IncHomeS'\n",
       "64. 'IncHomeW'\n",
       "65. 'Income'\n",
       "66. 'Latitude'\n",
       "67. 'MC'\n",
       "68. 'MC1'\n",
       "69. 'MC2'\n",
       "70. 'MC3'\n",
       "71. 'MC4'\n",
       "72. 'MC5'\n",
       "73. 'MCBill'\n",
       "74. 'OwnRent'\n",
       "75. 'PBC1'\n",
       "76. 'PBC2'\n",
       "77. 'PBC3R'\n",
       "78. 'PBC4'\n",
       "79. 'PBC5'\n",
       "80. 'Political'\n",
       "81. 'RewardForm'\n",
       "82. 'SN'\n",
       "83. 'SN1'\n",
       "84. 'SN2'\n",
       "85. 'SN3'\n",
       "86. 'SN4'\n",
       "87. 'Sqft'\n",
       "88. 'SqftCate'\n",
       "89. 'State'\n",
       "90. 'SubNorm'\n",
       "91. 'SubNorm1'\n",
       "92. 'SubNorm2'\n",
       "93. 'SubNorm3'\n",
       "94. 'Summer_avg'\n",
       "95. 'Summer_avgC'\n",
       "96. 'Summer_avgF'\n",
       "97. 'Trust1'\n",
       "98. 'Trust2'\n",
       "99. 'Trust3'\n",
       "100. 'Trust4'\n",
       "101. 'Winter_avg'\n",
       "102. 'Winter_avgC'\n",
       "103. 'Winter_avgF'\n",
       "104. 'X.9to5'\n",
       "\n",
       "\n"
      ],
      "text/plain": [
       "  [1] \"Age\"         \"Atti\"        \"Atti1\"       \"Atti2\"       \"Atti3\"      \n",
       "  [6] \"Atti4\"       \"BillS\"       \"BillW\"       \"CashYN\"      \"ComfNS\"     \n",
       " [11] \"ComfNS1\"     \"ComfNS2\"     \"ComfNS3\"     \"ComfNW\"      \"ComfNW1\"    \n",
       " [16] \"ComfNW2\"     \"ControlN1\"   \"ControlN2R\"  \"ControlN3\"   \"ControlN4\"  \n",
       " [21] \"ConvB1\"      \"ConvB2\"      \"ConvB3\"      \"ConvB4\"      \"Educ\"       \n",
       " [26] \"EmerRForm\"   \"EnergyC\"     \"EnergyC1\"    \"EnergyC2\"    \"EnergyC3\"   \n",
       " [31] \"EnergyC4\"    \"Ethnic\"      \"Frugal1\"     \"Frugal2\"     \"Frugal3\"    \n",
       " [36] \"Gender\"      \"HabitC\"      \"HabitC1\"     \"HabitC2\"     \"HabitC3\"    \n",
       " [41] \"HabitC4\"     \"HabitC5\"     \"HabitC6\"     \"HabitC7\"     \"HabitE1\"    \n",
       " [46] \"HabitE2\"     \"HabitE3\"     \"HabitG\"      \"HomeS\"       \"HouseholdS\" \n",
       " [51] \"INT1\"        \"INT2\"        \"INT3\"        \"INT4\"        \"IncAutoS\"   \n",
       " [56] \"IncAutoW\"    \"IncAwayS\"    \"IncAwayW\"    \"IncEmer10S\"  \"IncEmer10W\" \n",
       " [61] \"IncEmer30S\"  \"IncEmer30W\"  \"IncHomeS\"    \"IncHomeW\"    \"Income\"     \n",
       " [66] \"Latitude\"    \"MC\"          \"MC1\"         \"MC2\"         \"MC3\"        \n",
       " [71] \"MC4\"         \"MC5\"         \"MCBill\"      \"OwnRent\"     \"PBC1\"       \n",
       " [76] \"PBC2\"        \"PBC3R\"       \"PBC4\"        \"PBC5\"        \"Political\"  \n",
       " [81] \"RewardForm\"  \"SN\"          \"SN1\"         \"SN2\"         \"SN3\"        \n",
       " [86] \"SN4\"         \"Sqft\"        \"SqftCate\"    \"State\"       \"SubNorm\"    \n",
       " [91] \"SubNorm1\"    \"SubNorm2\"    \"SubNorm3\"    \"Summer_avg\"  \"Summer_avgC\"\n",
       " [96] \"Summer_avgF\" \"Trust1\"      \"Trust2\"      \"Trust3\"      \"Trust4\"     \n",
       "[101] \"Winter_avg\"  \"Winter_avgC\" \"Winter_avgF\" \"X.9to5\"     "
      ]
     },
     "metadata": {},
     "output_type": "display_data"
    }
   ],
   "source": [
    "sort(names(data2))"
   ]
  },
  {
   "cell_type": "code",
   "execution_count": 75,
   "metadata": {
    "collapsed": false
   },
   "outputs": [],
   "source": [
    "#names(data2)\n",
    "#These are only variables we really care about\n",
    "IVS = c(\"Age\",\n",
    "\"Gender\",\n",
    "\"OwnRent\",\n",
    "\"SqftCate\",\n",
    "\"HouseholdS\",\n",
    "\"Political\",\n",
    "\"Ethnic\",\n",
    "\"Income\",\n",
    "\"Educ\",\n",
    "\"Frugal\",\n",
    "\"MC\",\n",
    "\"EnergyC\",\n",
    "\"Trust\",\n",
    "\"ComfNW\",\n",
    "\"Atti\",\n",
    "\"SubNorm\",\n",
    "\"PBC\",\n",
    "\"SN\",\n",
    "\"HabitG\",\n",
    "\"HabitC\",\n",
    "\"Latitude\",\n",
    "\"Winter_avgF\",     \n",
    "\"HomeW\",\n",
    "\"CashYN\")"
   ]
  },
  {
   "cell_type": "code",
   "execution_count": 76,
   "metadata": {
    "collapsed": false
   },
   "outputs": [
    {
     "data": {
      "text/html": [
       "<ol class=list-inline>\n",
       "\t<li>'Age'</li>\n",
       "\t<li>'Atti'</li>\n",
       "\t<li>'Atti1'</li>\n",
       "\t<li>'Atti2'</li>\n",
       "\t<li>'Atti3'</li>\n",
       "\t<li>'Atti4'</li>\n",
       "\t<li>'BillS'</li>\n",
       "\t<li>'BillW'</li>\n",
       "\t<li>'CashYN'</li>\n",
       "\t<li>'ComfNS'</li>\n",
       "\t<li>'ComfNS1'</li>\n",
       "\t<li>'ComfNS2'</li>\n",
       "\t<li>'ComfNS3'</li>\n",
       "\t<li>'ComfNW'</li>\n",
       "\t<li>'ComfNW1'</li>\n",
       "\t<li>'ComfNW2'</li>\n",
       "\t<li>'ControlN1'</li>\n",
       "\t<li>'ControlN2R'</li>\n",
       "\t<li>'ControlN3'</li>\n",
       "\t<li>'ControlN4'</li>\n",
       "\t<li>'ConvB1'</li>\n",
       "\t<li>'ConvB2'</li>\n",
       "\t<li>'ConvB3'</li>\n",
       "\t<li>'ConvB4'</li>\n",
       "\t<li>'Educ'</li>\n",
       "\t<li>'EmerRForm'</li>\n",
       "\t<li>'EnergyC'</li>\n",
       "\t<li>'EnergyC1'</li>\n",
       "\t<li>'EnergyC2'</li>\n",
       "\t<li>'EnergyC3'</li>\n",
       "\t<li>'EnergyC4'</li>\n",
       "\t<li>'Ethnic'</li>\n",
       "\t<li>'Frugal1'</li>\n",
       "\t<li>'Frugal2'</li>\n",
       "\t<li>'Frugal3'</li>\n",
       "\t<li>'Gender'</li>\n",
       "\t<li>'HabitC'</li>\n",
       "\t<li>'HabitC1'</li>\n",
       "\t<li>'HabitC2'</li>\n",
       "\t<li>'HabitC3'</li>\n",
       "\t<li>'HabitC4'</li>\n",
       "\t<li>'HabitC5'</li>\n",
       "\t<li>'HabitC6'</li>\n",
       "\t<li>'HabitC7'</li>\n",
       "\t<li>'HabitE1'</li>\n",
       "\t<li>'HabitE2'</li>\n",
       "\t<li>'HabitE3'</li>\n",
       "\t<li>'HabitG'</li>\n",
       "\t<li>'HomeS'</li>\n",
       "\t<li>'HouseholdS'</li>\n",
       "\t<li>'INT1'</li>\n",
       "\t<li>'INT2'</li>\n",
       "\t<li>'INT3'</li>\n",
       "\t<li>'INT4'</li>\n",
       "\t<li>'IncAutoS'</li>\n",
       "\t<li>'IncAutoW'</li>\n",
       "\t<li>'IncAwayS'</li>\n",
       "\t<li>'IncAwayW'</li>\n",
       "\t<li>'IncEmer10S'</li>\n",
       "\t<li>'IncEmer10W'</li>\n",
       "\t<li>'IncEmer30S'</li>\n",
       "\t<li>'IncEmer30W'</li>\n",
       "\t<li>'IncHomeS'</li>\n",
       "\t<li>'IncHomeW'</li>\n",
       "\t<li>'Income'</li>\n",
       "\t<li>'Latitude'</li>\n",
       "\t<li>'MC'</li>\n",
       "\t<li>'MC1'</li>\n",
       "\t<li>'MC2'</li>\n",
       "\t<li>'MC3'</li>\n",
       "\t<li>'MC4'</li>\n",
       "\t<li>'MC5'</li>\n",
       "\t<li>'MCBill'</li>\n",
       "\t<li>'OwnRent'</li>\n",
       "\t<li>'PBC1'</li>\n",
       "\t<li>'PBC2'</li>\n",
       "\t<li>'PBC3R'</li>\n",
       "\t<li>'PBC4'</li>\n",
       "\t<li>'PBC5'</li>\n",
       "\t<li>'Political'</li>\n",
       "\t<li>'RewardForm'</li>\n",
       "\t<li>'SN'</li>\n",
       "\t<li>'SN1'</li>\n",
       "\t<li>'SN2'</li>\n",
       "\t<li>'SN3'</li>\n",
       "\t<li>'SN4'</li>\n",
       "\t<li>'Sqft'</li>\n",
       "\t<li>'SqftCate'</li>\n",
       "\t<li>'State'</li>\n",
       "\t<li>'SubNorm'</li>\n",
       "\t<li>'SubNorm1'</li>\n",
       "\t<li>'SubNorm2'</li>\n",
       "\t<li>'SubNorm3'</li>\n",
       "\t<li>'Summer_avg'</li>\n",
       "\t<li>'Summer_avgC'</li>\n",
       "\t<li>'Summer_avgF'</li>\n",
       "\t<li>'Trust1'</li>\n",
       "\t<li>'Trust2'</li>\n",
       "\t<li>'Trust3'</li>\n",
       "\t<li>'Trust4'</li>\n",
       "\t<li>'Winter_avg'</li>\n",
       "\t<li>'Winter_avgC'</li>\n",
       "\t<li>'Winter_avgF'</li>\n",
       "\t<li>'X.9to5'</li>\n",
       "</ol>\n"
      ],
      "text/latex": [
       "\\begin{enumerate*}\n",
       "\\item 'Age'\n",
       "\\item 'Atti'\n",
       "\\item 'Atti1'\n",
       "\\item 'Atti2'\n",
       "\\item 'Atti3'\n",
       "\\item 'Atti4'\n",
       "\\item 'BillS'\n",
       "\\item 'BillW'\n",
       "\\item 'CashYN'\n",
       "\\item 'ComfNS'\n",
       "\\item 'ComfNS1'\n",
       "\\item 'ComfNS2'\n",
       "\\item 'ComfNS3'\n",
       "\\item 'ComfNW'\n",
       "\\item 'ComfNW1'\n",
       "\\item 'ComfNW2'\n",
       "\\item 'ControlN1'\n",
       "\\item 'ControlN2R'\n",
       "\\item 'ControlN3'\n",
       "\\item 'ControlN4'\n",
       "\\item 'ConvB1'\n",
       "\\item 'ConvB2'\n",
       "\\item 'ConvB3'\n",
       "\\item 'ConvB4'\n",
       "\\item 'Educ'\n",
       "\\item 'EmerRForm'\n",
       "\\item 'EnergyC'\n",
       "\\item 'EnergyC1'\n",
       "\\item 'EnergyC2'\n",
       "\\item 'EnergyC3'\n",
       "\\item 'EnergyC4'\n",
       "\\item 'Ethnic'\n",
       "\\item 'Frugal1'\n",
       "\\item 'Frugal2'\n",
       "\\item 'Frugal3'\n",
       "\\item 'Gender'\n",
       "\\item 'HabitC'\n",
       "\\item 'HabitC1'\n",
       "\\item 'HabitC2'\n",
       "\\item 'HabitC3'\n",
       "\\item 'HabitC4'\n",
       "\\item 'HabitC5'\n",
       "\\item 'HabitC6'\n",
       "\\item 'HabitC7'\n",
       "\\item 'HabitE1'\n",
       "\\item 'HabitE2'\n",
       "\\item 'HabitE3'\n",
       "\\item 'HabitG'\n",
       "\\item 'HomeS'\n",
       "\\item 'HouseholdS'\n",
       "\\item 'INT1'\n",
       "\\item 'INT2'\n",
       "\\item 'INT3'\n",
       "\\item 'INT4'\n",
       "\\item 'IncAutoS'\n",
       "\\item 'IncAutoW'\n",
       "\\item 'IncAwayS'\n",
       "\\item 'IncAwayW'\n",
       "\\item 'IncEmer10S'\n",
       "\\item 'IncEmer10W'\n",
       "\\item 'IncEmer30S'\n",
       "\\item 'IncEmer30W'\n",
       "\\item 'IncHomeS'\n",
       "\\item 'IncHomeW'\n",
       "\\item 'Income'\n",
       "\\item 'Latitude'\n",
       "\\item 'MC'\n",
       "\\item 'MC1'\n",
       "\\item 'MC2'\n",
       "\\item 'MC3'\n",
       "\\item 'MC4'\n",
       "\\item 'MC5'\n",
       "\\item 'MCBill'\n",
       "\\item 'OwnRent'\n",
       "\\item 'PBC1'\n",
       "\\item 'PBC2'\n",
       "\\item 'PBC3R'\n",
       "\\item 'PBC4'\n",
       "\\item 'PBC5'\n",
       "\\item 'Political'\n",
       "\\item 'RewardForm'\n",
       "\\item 'SN'\n",
       "\\item 'SN1'\n",
       "\\item 'SN2'\n",
       "\\item 'SN3'\n",
       "\\item 'SN4'\n",
       "\\item 'Sqft'\n",
       "\\item 'SqftCate'\n",
       "\\item 'State'\n",
       "\\item 'SubNorm'\n",
       "\\item 'SubNorm1'\n",
       "\\item 'SubNorm2'\n",
       "\\item 'SubNorm3'\n",
       "\\item 'Summer\\_avg'\n",
       "\\item 'Summer\\_avgC'\n",
       "\\item 'Summer\\_avgF'\n",
       "\\item 'Trust1'\n",
       "\\item 'Trust2'\n",
       "\\item 'Trust3'\n",
       "\\item 'Trust4'\n",
       "\\item 'Winter\\_avg'\n",
       "\\item 'Winter\\_avgC'\n",
       "\\item 'Winter\\_avgF'\n",
       "\\item 'X.9to5'\n",
       "\\end{enumerate*}\n"
      ],
      "text/markdown": [
       "1. 'Age'\n",
       "2. 'Atti'\n",
       "3. 'Atti1'\n",
       "4. 'Atti2'\n",
       "5. 'Atti3'\n",
       "6. 'Atti4'\n",
       "7. 'BillS'\n",
       "8. 'BillW'\n",
       "9. 'CashYN'\n",
       "10. 'ComfNS'\n",
       "11. 'ComfNS1'\n",
       "12. 'ComfNS2'\n",
       "13. 'ComfNS3'\n",
       "14. 'ComfNW'\n",
       "15. 'ComfNW1'\n",
       "16. 'ComfNW2'\n",
       "17. 'ControlN1'\n",
       "18. 'ControlN2R'\n",
       "19. 'ControlN3'\n",
       "20. 'ControlN4'\n",
       "21. 'ConvB1'\n",
       "22. 'ConvB2'\n",
       "23. 'ConvB3'\n",
       "24. 'ConvB4'\n",
       "25. 'Educ'\n",
       "26. 'EmerRForm'\n",
       "27. 'EnergyC'\n",
       "28. 'EnergyC1'\n",
       "29. 'EnergyC2'\n",
       "30. 'EnergyC3'\n",
       "31. 'EnergyC4'\n",
       "32. 'Ethnic'\n",
       "33. 'Frugal1'\n",
       "34. 'Frugal2'\n",
       "35. 'Frugal3'\n",
       "36. 'Gender'\n",
       "37. 'HabitC'\n",
       "38. 'HabitC1'\n",
       "39. 'HabitC2'\n",
       "40. 'HabitC3'\n",
       "41. 'HabitC4'\n",
       "42. 'HabitC5'\n",
       "43. 'HabitC6'\n",
       "44. 'HabitC7'\n",
       "45. 'HabitE1'\n",
       "46. 'HabitE2'\n",
       "47. 'HabitE3'\n",
       "48. 'HabitG'\n",
       "49. 'HomeS'\n",
       "50. 'HouseholdS'\n",
       "51. 'INT1'\n",
       "52. 'INT2'\n",
       "53. 'INT3'\n",
       "54. 'INT4'\n",
       "55. 'IncAutoS'\n",
       "56. 'IncAutoW'\n",
       "57. 'IncAwayS'\n",
       "58. 'IncAwayW'\n",
       "59. 'IncEmer10S'\n",
       "60. 'IncEmer10W'\n",
       "61. 'IncEmer30S'\n",
       "62. 'IncEmer30W'\n",
       "63. 'IncHomeS'\n",
       "64. 'IncHomeW'\n",
       "65. 'Income'\n",
       "66. 'Latitude'\n",
       "67. 'MC'\n",
       "68. 'MC1'\n",
       "69. 'MC2'\n",
       "70. 'MC3'\n",
       "71. 'MC4'\n",
       "72. 'MC5'\n",
       "73. 'MCBill'\n",
       "74. 'OwnRent'\n",
       "75. 'PBC1'\n",
       "76. 'PBC2'\n",
       "77. 'PBC3R'\n",
       "78. 'PBC4'\n",
       "79. 'PBC5'\n",
       "80. 'Political'\n",
       "81. 'RewardForm'\n",
       "82. 'SN'\n",
       "83. 'SN1'\n",
       "84. 'SN2'\n",
       "85. 'SN3'\n",
       "86. 'SN4'\n",
       "87. 'Sqft'\n",
       "88. 'SqftCate'\n",
       "89. 'State'\n",
       "90. 'SubNorm'\n",
       "91. 'SubNorm1'\n",
       "92. 'SubNorm2'\n",
       "93. 'SubNorm3'\n",
       "94. 'Summer_avg'\n",
       "95. 'Summer_avgC'\n",
       "96. 'Summer_avgF'\n",
       "97. 'Trust1'\n",
       "98. 'Trust2'\n",
       "99. 'Trust3'\n",
       "100. 'Trust4'\n",
       "101. 'Winter_avg'\n",
       "102. 'Winter_avgC'\n",
       "103. 'Winter_avgF'\n",
       "104. 'X.9to5'\n",
       "\n",
       "\n"
      ],
      "text/plain": [
       "  [1] \"Age\"         \"Atti\"        \"Atti1\"       \"Atti2\"       \"Atti3\"      \n",
       "  [6] \"Atti4\"       \"BillS\"       \"BillW\"       \"CashYN\"      \"ComfNS\"     \n",
       " [11] \"ComfNS1\"     \"ComfNS2\"     \"ComfNS3\"     \"ComfNW\"      \"ComfNW1\"    \n",
       " [16] \"ComfNW2\"     \"ControlN1\"   \"ControlN2R\"  \"ControlN3\"   \"ControlN4\"  \n",
       " [21] \"ConvB1\"      \"ConvB2\"      \"ConvB3\"      \"ConvB4\"      \"Educ\"       \n",
       " [26] \"EmerRForm\"   \"EnergyC\"     \"EnergyC1\"    \"EnergyC2\"    \"EnergyC3\"   \n",
       " [31] \"EnergyC4\"    \"Ethnic\"      \"Frugal1\"     \"Frugal2\"     \"Frugal3\"    \n",
       " [36] \"Gender\"      \"HabitC\"      \"HabitC1\"     \"HabitC2\"     \"HabitC3\"    \n",
       " [41] \"HabitC4\"     \"HabitC5\"     \"HabitC6\"     \"HabitC7\"     \"HabitE1\"    \n",
       " [46] \"HabitE2\"     \"HabitE3\"     \"HabitG\"      \"HomeS\"       \"HouseholdS\" \n",
       " [51] \"INT1\"        \"INT2\"        \"INT3\"        \"INT4\"        \"IncAutoS\"   \n",
       " [56] \"IncAutoW\"    \"IncAwayS\"    \"IncAwayW\"    \"IncEmer10S\"  \"IncEmer10W\" \n",
       " [61] \"IncEmer30S\"  \"IncEmer30W\"  \"IncHomeS\"    \"IncHomeW\"    \"Income\"     \n",
       " [66] \"Latitude\"    \"MC\"          \"MC1\"         \"MC2\"         \"MC3\"        \n",
       " [71] \"MC4\"         \"MC5\"         \"MCBill\"      \"OwnRent\"     \"PBC1\"       \n",
       " [76] \"PBC2\"        \"PBC3R\"       \"PBC4\"        \"PBC5\"        \"Political\"  \n",
       " [81] \"RewardForm\"  \"SN\"          \"SN1\"         \"SN2\"         \"SN3\"        \n",
       " [86] \"SN4\"         \"Sqft\"        \"SqftCate\"    \"State\"       \"SubNorm\"    \n",
       " [91] \"SubNorm1\"    \"SubNorm2\"    \"SubNorm3\"    \"Summer_avg\"  \"Summer_avgC\"\n",
       " [96] \"Summer_avgF\" \"Trust1\"      \"Trust2\"      \"Trust3\"      \"Trust4\"     \n",
       "[101] \"Winter_avg\"  \"Winter_avgC\" \"Winter_avgF\" \"X.9to5\"     "
      ]
     },
     "metadata": {},
     "output_type": "display_data"
    },
    {
     "data": {
      "text/html": [
       "<ol class=list-inline>\n",
       "\t<li>'Age'</li>\n",
       "\t<li>'Atti'</li>\n",
       "\t<li>'CashYN'</li>\n",
       "\t<li>'ComfNW'</li>\n",
       "\t<li>'Educ'</li>\n",
       "\t<li>'EnergyC'</li>\n",
       "\t<li>'Ethnic'</li>\n",
       "\t<li>'Frugal'</li>\n",
       "\t<li>'Gender'</li>\n",
       "\t<li>'HabitC'</li>\n",
       "\t<li>'HabitG'</li>\n",
       "\t<li>'HomeW'</li>\n",
       "\t<li>'HouseholdS'</li>\n",
       "\t<li>'Income'</li>\n",
       "\t<li>'Latitude'</li>\n",
       "\t<li>'MC'</li>\n",
       "\t<li>'OwnRent'</li>\n",
       "\t<li>'PBC'</li>\n",
       "\t<li>'Political'</li>\n",
       "\t<li>'SN'</li>\n",
       "\t<li>'SqftCate'</li>\n",
       "\t<li>'SubNorm'</li>\n",
       "\t<li>'Trust'</li>\n",
       "\t<li>'Winter_avgF'</li>\n",
       "</ol>\n"
      ],
      "text/latex": [
       "\\begin{enumerate*}\n",
       "\\item 'Age'\n",
       "\\item 'Atti'\n",
       "\\item 'CashYN'\n",
       "\\item 'ComfNW'\n",
       "\\item 'Educ'\n",
       "\\item 'EnergyC'\n",
       "\\item 'Ethnic'\n",
       "\\item 'Frugal'\n",
       "\\item 'Gender'\n",
       "\\item 'HabitC'\n",
       "\\item 'HabitG'\n",
       "\\item 'HomeW'\n",
       "\\item 'HouseholdS'\n",
       "\\item 'Income'\n",
       "\\item 'Latitude'\n",
       "\\item 'MC'\n",
       "\\item 'OwnRent'\n",
       "\\item 'PBC'\n",
       "\\item 'Political'\n",
       "\\item 'SN'\n",
       "\\item 'SqftCate'\n",
       "\\item 'SubNorm'\n",
       "\\item 'Trust'\n",
       "\\item 'Winter\\_avgF'\n",
       "\\end{enumerate*}\n"
      ],
      "text/markdown": [
       "1. 'Age'\n",
       "2. 'Atti'\n",
       "3. 'CashYN'\n",
       "4. 'ComfNW'\n",
       "5. 'Educ'\n",
       "6. 'EnergyC'\n",
       "7. 'Ethnic'\n",
       "8. 'Frugal'\n",
       "9. 'Gender'\n",
       "10. 'HabitC'\n",
       "11. 'HabitG'\n",
       "12. 'HomeW'\n",
       "13. 'HouseholdS'\n",
       "14. 'Income'\n",
       "15. 'Latitude'\n",
       "16. 'MC'\n",
       "17. 'OwnRent'\n",
       "18. 'PBC'\n",
       "19. 'Political'\n",
       "20. 'SN'\n",
       "21. 'SqftCate'\n",
       "22. 'SubNorm'\n",
       "23. 'Trust'\n",
       "24. 'Winter_avgF'\n",
       "\n",
       "\n"
      ],
      "text/plain": [
       " [1] \"Age\"         \"Atti\"        \"CashYN\"      \"ComfNW\"      \"Educ\"       \n",
       " [6] \"EnergyC\"     \"Ethnic\"      \"Frugal\"      \"Gender\"      \"HabitC\"     \n",
       "[11] \"HabitG\"      \"HomeW\"       \"HouseholdS\"  \"Income\"      \"Latitude\"   \n",
       "[16] \"MC\"          \"OwnRent\"     \"PBC\"         \"Political\"   \"SN\"         \n",
       "[21] \"SqftCate\"    \"SubNorm\"     \"Trust\"       \"Winter_avgF\""
      ]
     },
     "metadata": {},
     "output_type": "display_data"
    }
   ],
   "source": [
    "sort(names(data2))\n",
    "paste(sort(IVS))"
   ]
  },
  {
   "cell_type": "code",
   "execution_count": 77,
   "metadata": {
    "collapsed": false
   },
   "outputs": [
    {
     "data": {
      "text/html": [
       "<ol class=list-inline>\n",
       "\t<li>'Age'</li>\n",
       "\t<li>'Atti'</li>\n",
       "\t<li>'CashYN'</li>\n",
       "\t<li>'ComfNW'</li>\n",
       "\t<li>'Educ'</li>\n",
       "\t<li>'EnergyC'</li>\n",
       "\t<li>'Ethnic'</li>\n",
       "\t<li>'Gender'</li>\n",
       "\t<li>'HabitC'</li>\n",
       "\t<li>'HabitG'</li>\n",
       "\t<li>'HouseholdS'</li>\n",
       "\t<li>'IncAwayW'</li>\n",
       "\t<li>'Income'</li>\n",
       "\t<li>'Latitude'</li>\n",
       "\t<li>'MC'</li>\n",
       "\t<li>'OwnRent'</li>\n",
       "\t<li>'Political'</li>\n",
       "\t<li>'SN'</li>\n",
       "\t<li>'SqftCate'</li>\n",
       "\t<li>'SubNorm'</li>\n",
       "\t<li>'Winter_avgF'</li>\n",
       "</ol>\n"
      ],
      "text/latex": [
       "\\begin{enumerate*}\n",
       "\\item 'Age'\n",
       "\\item 'Atti'\n",
       "\\item 'CashYN'\n",
       "\\item 'ComfNW'\n",
       "\\item 'Educ'\n",
       "\\item 'EnergyC'\n",
       "\\item 'Ethnic'\n",
       "\\item 'Gender'\n",
       "\\item 'HabitC'\n",
       "\\item 'HabitG'\n",
       "\\item 'HouseholdS'\n",
       "\\item 'IncAwayW'\n",
       "\\item 'Income'\n",
       "\\item 'Latitude'\n",
       "\\item 'MC'\n",
       "\\item 'OwnRent'\n",
       "\\item 'Political'\n",
       "\\item 'SN'\n",
       "\\item 'SqftCate'\n",
       "\\item 'SubNorm'\n",
       "\\item 'Winter\\_avgF'\n",
       "\\end{enumerate*}\n"
      ],
      "text/markdown": [
       "1. 'Age'\n",
       "2. 'Atti'\n",
       "3. 'CashYN'\n",
       "4. 'ComfNW'\n",
       "5. 'Educ'\n",
       "6. 'EnergyC'\n",
       "7. 'Ethnic'\n",
       "8. 'Gender'\n",
       "9. 'HabitC'\n",
       "10. 'HabitG'\n",
       "11. 'HouseholdS'\n",
       "12. 'IncAwayW'\n",
       "13. 'Income'\n",
       "14. 'Latitude'\n",
       "15. 'MC'\n",
       "16. 'OwnRent'\n",
       "17. 'Political'\n",
       "18. 'SN'\n",
       "19. 'SqftCate'\n",
       "20. 'SubNorm'\n",
       "21. 'Winter_avgF'\n",
       "\n",
       "\n"
      ],
      "text/plain": [
       " [1] \"Age\"         \"Atti\"        \"CashYN\"      \"ComfNW\"      \"Educ\"       \n",
       " [6] \"EnergyC\"     \"Ethnic\"      \"Gender\"      \"HabitC\"      \"HabitG\"     \n",
       "[11] \"HouseholdS\"  \"IncAwayW\"    \"Income\"      \"Latitude\"    \"MC\"         \n",
       "[16] \"OwnRent\"     \"Political\"   \"SN\"          \"SqftCate\"    \"SubNorm\"    \n",
       "[21] \"Winter_avgF\""
      ]
     },
     "metadata": {},
     "output_type": "display_data"
    }
   ],
   "source": [
    "data1 <- data2[, which(names(data2) %in% c(\"IncAwayW\",IVS))];\n",
    "sort(names(data1))"
   ]
  },
  {
   "cell_type": "code",
   "execution_count": 78,
   "metadata": {
    "collapsed": true
   },
   "outputs": [],
   "source": [
    "#Check to see if there are anymore missing values\n",
    "for (n in names(data1)){\n",
    "    nmis = sum(is.na(data1[,n]))\n",
    "    if(nmis >1)  print (c(n, sum(is.na(data1[,n]))))\n",
    "}"
   ]
  },
  {
   "cell_type": "code",
   "execution_count": 79,
   "metadata": {
    "collapsed": false
   },
   "outputs": [],
   "source": [
    "#names(data1)\n",
    "\n",
    "#Fields with lots of missing values\n",
    "for (n in names(data1)){\n",
    "    nmis = sum(is.na(data1[,n]))\n",
    "    if(nmis >1)  print (c(n, sum(is.na(data1[,n]))))\n",
    "}\n",
    "    \n",
    "    \n",
    "# What about high correlations?\n",
    "hiCor <- function(x, level){\n",
    "  res <- cor(x,method=\"spearman\");\n",
    "  res1 <- res; res1[res<0] <- -res[res < 0];\n",
    "  for (i in 1:dim(x)[2]){\n",
    "    res1[i,i] <- 0;\n",
    "  }\n",
    "  sel <- apply(res1,1,max,na.rm=T) > level;\n",
    "  res[sel,sel];\n",
    "}\n",
    "#hiCor(data1,.75)"
   ]
  },
  {
   "cell_type": "code",
   "execution_count": 80,
   "metadata": {
    "collapsed": false
   },
   "outputs": [
    {
     "data": {
      "text/html": [
       "<ol class=list-inline>\n",
       "\t<li>'IncAwayW'</li>\n",
       "\t<li>'Age'</li>\n",
       "\t<li>'Gender'</li>\n",
       "\t<li>'OwnRent'</li>\n",
       "\t<li>'SqftCate'</li>\n",
       "\t<li>'HouseholdS'</li>\n",
       "\t<li>'Political'</li>\n",
       "\t<li>'Ethnic'</li>\n",
       "\t<li>'Income'</li>\n",
       "\t<li>'Educ'</li>\n",
       "\t<li>'Latitude'</li>\n",
       "\t<li>'EnergyC'</li>\n",
       "\t<li>'CashYN'</li>\n",
       "\t<li>'MC'</li>\n",
       "\t<li>'ComfNW'</li>\n",
       "\t<li>'Atti'</li>\n",
       "\t<li>'SubNorm'</li>\n",
       "\t<li>'SN'</li>\n",
       "\t<li>'HabitG'</li>\n",
       "\t<li>'HabitC'</li>\n",
       "\t<li>'Winter_avgF'</li>\n",
       "</ol>\n"
      ],
      "text/latex": [
       "\\begin{enumerate*}\n",
       "\\item 'IncAwayW'\n",
       "\\item 'Age'\n",
       "\\item 'Gender'\n",
       "\\item 'OwnRent'\n",
       "\\item 'SqftCate'\n",
       "\\item 'HouseholdS'\n",
       "\\item 'Political'\n",
       "\\item 'Ethnic'\n",
       "\\item 'Income'\n",
       "\\item 'Educ'\n",
       "\\item 'Latitude'\n",
       "\\item 'EnergyC'\n",
       "\\item 'CashYN'\n",
       "\\item 'MC'\n",
       "\\item 'ComfNW'\n",
       "\\item 'Atti'\n",
       "\\item 'SubNorm'\n",
       "\\item 'SN'\n",
       "\\item 'HabitG'\n",
       "\\item 'HabitC'\n",
       "\\item 'Winter\\_avgF'\n",
       "\\end{enumerate*}\n"
      ],
      "text/markdown": [
       "1. 'IncAwayW'\n",
       "2. 'Age'\n",
       "3. 'Gender'\n",
       "4. 'OwnRent'\n",
       "5. 'SqftCate'\n",
       "6. 'HouseholdS'\n",
       "7. 'Political'\n",
       "8. 'Ethnic'\n",
       "9. 'Income'\n",
       "10. 'Educ'\n",
       "11. 'Latitude'\n",
       "12. 'EnergyC'\n",
       "13. 'CashYN'\n",
       "14. 'MC'\n",
       "15. 'ComfNW'\n",
       "16. 'Atti'\n",
       "17. 'SubNorm'\n",
       "18. 'SN'\n",
       "19. 'HabitG'\n",
       "20. 'HabitC'\n",
       "21. 'Winter_avgF'\n",
       "\n",
       "\n"
      ],
      "text/plain": [
       " [1] \"IncAwayW\"    \"Age\"         \"Gender\"      \"OwnRent\"     \"SqftCate\"   \n",
       " [6] \"HouseholdS\"  \"Political\"   \"Ethnic\"      \"Income\"      \"Educ\"       \n",
       "[11] \"Latitude\"    \"EnergyC\"     \"CashYN\"      \"MC\"          \"ComfNW\"     \n",
       "[16] \"Atti\"        \"SubNorm\"     \"SN\"          \"HabitG\"      \"HabitC\"     \n",
       "[21] \"Winter_avgF\""
      ]
     },
     "metadata": {},
     "output_type": "display_data"
    }
   ],
   "source": [
    "data2 <- data1;\n",
    "data2 <- na.omit(data2)\n",
    "names(data2)"
   ]
  },
  {
   "cell_type": "code",
   "execution_count": 81,
   "metadata": {
    "collapsed": true
   },
   "outputs": [],
   "source": [
    "#Check to see if there are anymore missing values\n",
    "for (n in names(data2)){\n",
    "    nmis = sum(is.na(data2[,n]))\n",
    "    if(nmis >1)  print (c(n, sum(is.na(data2[,n]))))\n",
    "}"
   ]
  },
  {
   "cell_type": "code",
   "execution_count": 82,
   "metadata": {
    "collapsed": false
   },
   "outputs": [
    {
     "data": {
      "text/html": [
       "<table>\n",
       "<thead><tr><th></th><th scope=col>Latitude</th><th scope=col>Winter_avgF</th></tr></thead>\n",
       "<tbody>\n",
       "\t<tr><th scope=row>Latitude</th><td> 1.00</td><td>-0.85</td></tr>\n",
       "\t<tr><th scope=row>Winter_avgF</th><td>-0.85</td><td> 1.00</td></tr>\n",
       "</tbody>\n",
       "</table>\n"
      ],
      "text/latex": [
       "\\begin{tabular}{r|ll}\n",
       "  & Latitude & Winter\\_avgF\\\\\n",
       "\\hline\n",
       "\tLatitude &  1.00 & -0.85\\\\\n",
       "\tWinter\\_avgF & -0.85 &  1.00\\\\\n",
       "\\end{tabular}\n"
      ],
      "text/markdown": [
       "1. 1\n",
       "2. -0.852822802901674\n",
       "3. -0.852822802901674\n",
       "4. 1\n",
       "\n",
       "\n"
      ],
      "text/plain": [
       "            Latitude Winter_avgF\n",
       "Latitude     1.00    -0.85      \n",
       "Winter_avgF -0.85     1.00      "
      ]
     },
     "metadata": {},
     "output_type": "display_data"
    }
   ],
   "source": [
    "hiCor(data2,.7)"
   ]
  },
  {
   "cell_type": "code",
   "execution_count": 83,
   "metadata": {
    "collapsed": false
   },
   "outputs": [
    {
     "name": "stdout",
     "output_type": "stream",
     "text": [
      "[1] 0.13\n",
      "    EnergyC    MC  Atti SubNorm    SN HabitG HabitC\n",
      "PC1   -0.42 -0.34 -0.44   -0.38 -0.23  -0.31  -0.28\n",
      "[1] 0.24\n",
      "      Age OwnRent SqftCate HouseholdS Income\n",
      "PC2 -0.34    -0.5    -0.52      -0.27  -0.43\n",
      "[1] 0.33\n",
      "    Latitude Winter_avgF\n",
      "PC3    -0.65        0.65\n",
      "[1] 0.4\n",
      "    Gender HouseholdS Ethnic  Educ ComfNW HabitC\n",
      "PC4   0.37       0.48  -0.31 -0.31   0.47  -0.28\n",
      "[1] 0.46\n",
      "    Political Ethnic Income  Educ EnergyC HabitG HabitC\n",
      "PC5      -0.5   0.21  -0.26 -0.44   -0.24    0.4   0.29\n",
      "[1] 0.52\n",
      "      Age Gender Ethnic CashYN    MC ComfNW   SN HabitC\n",
      "PC6 -0.44  -0.28  -0.27  -0.41 -0.28  -0.27 0.35   0.25\n",
      "[1] 0.57\n",
      "    IncAwayW   Age Gender Political Income CashYN SubNorm   SN\n",
      "PC7     0.34 -0.23  -0.26     -0.21   0.23   0.62    0.22 0.26\n",
      "[1] 0.62\n",
      "    IncAwayW Gender Ethnic   MC HabitG\n",
      "PC8    -0.75  -0.31  -0.27 0.22    0.3\n",
      "[1] 0.66\n",
      "     Age Gender HouseholdS Educ EnergyC CashYN ComfNW  Atti SubNorm   SN\n",
      "PC9 0.33   0.21       -0.3 0.29   -0.25  -0.29   0.45 -0.22    0.21 0.29\n",
      "[1] 0.71\n",
      "     IncAwayW Political Ethnic Educ SubNorm   SN HabitG HabitC\n",
      "PC10    -0.36     -0.24   0.59 0.23    0.31 0.24  -0.26  -0.21\n",
      "[1] 0.75\n",
      "     IncAwayW   Age Political Educ CashYN   MC ComfNW    SN\n",
      "PC11      0.2 -0.29      -0.2 0.38  -0.48 0.41   0.24 -0.41\n",
      "[1] 0.78\n",
      "     Gender OwnRent Educ CashYN    SN HabitC\n",
      "PC12   0.55   -0.21 0.27   0.24 -0.28   0.47\n",
      "[1] 0.82\n",
      "     SqftCate Political Ethnic ComfNW  Atti SubNorm    SN HabitG\n",
      "PC13     0.26      0.51   0.35   0.26 -0.21    0.23 -0.26   0.46\n",
      "[1] 0.85\n",
      "     Gender Political Income EnergyC    MC SubNorm    SN\n",
      "PC14  -0.27     -0.31   -0.2     0.2 -0.42    0.51 -0.43\n",
      "[1] 0.88\n",
      "     OwnRent Political Income EnergyC    MC SubNorm HabitG\n",
      "PC15    -0.2     -0.28   0.52    0.26 -0.44   -0.21   0.44\n",
      "[1] 0.9\n",
      "      Age OwnRent HouseholdS EnergyC ComfNW\n",
      "PC16 0.52   -0.55       0.37    -0.2  -0.22\n",
      "[1] 0.93\n",
      "     HouseholdS Income Educ    MC ComfNW HabitG HabitC\n",
      "PC17       0.37  -0.46 0.46 -0.21  -0.22   0.34  -0.26\n",
      "[1] 0.95\n",
      "     Gender OwnRent Ethnic ComfNW Atti SubNorm HabitC\n",
      "PC18  -0.31   -0.32   0.24   0.34 0.36   -0.43   0.36\n",
      "[1] 0.97\n",
      "     OwnRent SqftCate HouseholdS HabitC\n",
      "PC19   -0.39     0.71      -0.37  -0.27\n",
      "[1] 0.99\n",
      "     EnergyC  Atti\n",
      "PC20    0.65 -0.65\n"
     ]
    }
   ],
   "source": [
    "res<-prcomp(data2, retx=F,scale=T)$rotation[,1:20];\n",
    "resAbs <- res;\n",
    "resAbs[res<0] <- -res[res<0];\n",
    "z <- cumsum(prcomp(data2, retx=F,scale=T)$sdev^2)/\n",
    "     sum(prcomp(data2, retx=F,scale=T)$sdev^2)\n",
    "\n",
    "for (i in 1:20){\n",
    "  print(z[i]);\n",
    "  print(t(res[resAbs[,i]>.2,i,drop=FALSE]));\n",
    "}\n"
   ]
  },
  {
   "cell_type": "code",
   "execution_count": 84,
   "metadata": {
    "collapsed": false
   },
   "outputs": [
    {
     "data": {
      "image/png": "[encoded data removed]",
      "text/plain": [
       "plot without title"
      ]
     },
     "metadata": {},
     "output_type": "display_data"
    }
   ],
   "source": [
    "plot(1:dim(data2)[2],cumsum(prcomp(data2, retx=F,scale=T)$sdev^2)/\n",
    "     sum(prcomp(data2, retx=F,scale=T)$sdev^2),\n",
    "     ylim=c(0,1),xlab=\"Number of coponents\",\n",
    "     ylab=\"Fraction of variance\");"
   ]
  },
  {
   "cell_type": "code",
   "execution_count": 85,
   "metadata": {
    "collapsed": true
   },
   "outputs": [],
   "source": [
    "res <- c();\n",
    "vnam <- names(data2);\n",
    "for (i in 2:dim(data2)[2]){\n",
    "  fmla <- as.formula(paste(vnam[i],paste(vnam[-c(1,i)],collapse=\"+\"),sep=\"~\"));\n",
    "  res <- rbind(res,c(i,round(summary(lm(fmla,data=data2))$r.squared,2)));\n",
    "}"
   ]
  },
  {
   "cell_type": "code",
   "execution_count": 86,
   "metadata": {
    "collapsed": false
   },
   "outputs": [
    {
     "data": {
      "text/html": [
       "<table>\n",
       "<tbody>\n",
       "\t<tr><th scope=row>Winter_avgF</th><td>21  </td><td>0.64</td></tr>\n",
       "\t<tr><th scope=row>Latitude</th><td>11  </td><td>0.63</td></tr>\n",
       "\t<tr><th scope=row>Atti</th><td>16  </td><td>0.42</td></tr>\n",
       "\t<tr><th scope=row>EnergyC</th><td>12  </td><td>0.40</td></tr>\n",
       "\t<tr><th scope=row>SqftCate</th><td> 5  </td><td>0.38</td></tr>\n",
       "\t<tr><th scope=row>OwnRent</th><td> 4  </td><td>0.33</td></tr>\n",
       "\t<tr><th scope=row>Income</th><td> 9  </td><td>0.27</td></tr>\n",
       "\t<tr><th scope=row>SubNorm</th><td>17  </td><td>0.27</td></tr>\n",
       "\t<tr><th scope=row>HouseholdS</th><td> 6  </td><td>0.25</td></tr>\n",
       "\t<tr><th scope=row>HabitC</th><td>20  </td><td>0.25</td></tr>\n",
       "\t<tr><th scope=row>MC</th><td>14  </td><td>0.23</td></tr>\n",
       "\t<tr><th scope=row>HabitG</th><td>19  </td><td>0.22</td></tr>\n",
       "\t<tr><th scope=row>Age</th><td> 2  </td><td>0.19</td></tr>\n",
       "\t<tr><th scope=row>ComfNW</th><td>15  </td><td>0.18</td></tr>\n",
       "\t<tr><th scope=row>Educ</th><td>10  </td><td>0.16</td></tr>\n",
       "\t<tr><th scope=row>Gender</th><td> 3  </td><td>0.15</td></tr>\n",
       "\t<tr><th scope=row>Political</th><td> 7  </td><td>0.15</td></tr>\n",
       "\t<tr><th scope=row>SN</th><td>18  </td><td>0.14</td></tr>\n",
       "\t<tr><th scope=row>Ethnic</th><td> 8  </td><td>0.11</td></tr>\n",
       "\t<tr><th scope=row>CashYN</th><td>13  </td><td>0.03</td></tr>\n",
       "</tbody>\n",
       "</table>\n"
      ],
      "text/latex": [
       "\\begin{tabular}{r|ll}\n",
       "\tWinter\\_avgF & 21   & 0.64\\\\\n",
       "\tLatitude & 11   & 0.63\\\\\n",
       "\tAtti & 16   & 0.42\\\\\n",
       "\tEnergyC & 12   & 0.40\\\\\n",
       "\tSqftCate &  5   & 0.38\\\\\n",
       "\tOwnRent &  4   & 0.33\\\\\n",
       "\tIncome &  9   & 0.27\\\\\n",
       "\tSubNorm & 17   & 0.27\\\\\n",
       "\tHouseholdS &  6   & 0.25\\\\\n",
       "\tHabitC & 20   & 0.25\\\\\n",
       "\tMC & 14   & 0.23\\\\\n",
       "\tHabitG & 19   & 0.22\\\\\n",
       "\tAge &  2   & 0.19\\\\\n",
       "\tComfNW & 15   & 0.18\\\\\n",
       "\tEduc & 10   & 0.16\\\\\n",
       "\tGender &  3   & 0.15\\\\\n",
       "\tPolitical &  7   & 0.15\\\\\n",
       "\tSN & 18   & 0.14\\\\\n",
       "\tEthnic &  8   & 0.11\\\\\n",
       "\tCashYN & 13   & 0.03\\\\\n",
       "\\end{tabular}\n"
      ],
      "text/markdown": [
       "1. 21\n",
       "2. 11\n",
       "3. 16\n",
       "4. 12\n",
       "5. 5\n",
       "6. 4\n",
       "7. 9\n",
       "8. 17\n",
       "9. 6\n",
       "10. 20\n",
       "11. 14\n",
       "12. 19\n",
       "13. 2\n",
       "14. 15\n",
       "15. 10\n",
       "16. 3\n",
       "17. 7\n",
       "18. 18\n",
       "19. 8\n",
       "20. 13\n",
       "21. 0.64\n",
       "22. 0.63\n",
       "23. 0.42\n",
       "24. 0.4\n",
       "25. 0.38\n",
       "26. 0.33\n",
       "27. 0.27\n",
       "28. 0.27\n",
       "29. 0.25\n",
       "30. 0.25\n",
       "31. 0.23\n",
       "32. 0.22\n",
       "33. 0.19\n",
       "34. 0.18\n",
       "35. 0.16\n",
       "36. 0.15\n",
       "37. 0.15\n",
       "38. 0.14\n",
       "39. 0.11\n",
       "40. 0.03\n",
       "\n",
       "\n"
      ],
      "text/plain": [
       "            [,1] [,2]\n",
       "Winter_avgF 21   0.64\n",
       "Latitude    11   0.63\n",
       "Atti        16   0.42\n",
       "EnergyC     12   0.40\n",
       "SqftCate     5   0.38\n",
       "OwnRent      4   0.33\n",
       "Income       9   0.27\n",
       "SubNorm     17   0.27\n",
       "HouseholdS   6   0.25\n",
       "HabitC      20   0.25\n",
       "MC          14   0.23\n",
       "HabitG      19   0.22\n",
       "Age          2   0.19\n",
       "ComfNW      15   0.18\n",
       "Educ        10   0.16\n",
       "Gender       3   0.15\n",
       "Political    7   0.15\n",
       "SN          18   0.14\n",
       "Ethnic       8   0.11\n",
       "CashYN      13   0.03"
      ]
     },
     "metadata": {},
     "output_type": "display_data"
    }
   ],
   "source": [
    "row.names(res) <- vnam[res[,1]];\n",
    "o = order(-res[,2]);\n",
    "res[o,][res[o,2]<.7,]"
   ]
  },
  {
   "cell_type": "code",
   "execution_count": 87,
   "metadata": {
    "collapsed": false
   },
   "outputs": [
    {
     "name": "stdout",
     "output_type": "stream",
     "text": [
      "\n",
      "Call:\n",
      "factanal(x = data2, factors = 2, rotation = \"varimax\")\n",
      "\n",
      "Uniquenesses:\n",
      "   IncAwayW         Age      Gender     OwnRent    SqftCate  HouseholdS \n",
      "       0.99        0.99        0.92        1.00        0.99        1.00 \n",
      "  Political      Ethnic      Income        Educ    Latitude     EnergyC \n",
      "       0.94        0.97        1.00        0.98        0.38        0.51 \n",
      "     CashYN          MC      ComfNW        Atti     SubNorm          SN \n",
      "       1.00        0.79        0.98        0.42        0.74        0.92 \n",
      "     HabitG      HabitC Winter_avgF \n",
      "       0.86        0.90        0.00 \n",
      "\n",
      "Loadings:\n",
      "            Factor1 Factor2\n",
      "EnergyC      0.68          \n",
      "Atti         0.75          \n",
      "SubNorm      0.50          \n",
      "Latitude             0.76  \n",
      "Winter_avgF         -0.97  \n",
      "IncAwayW                   \n",
      "Age                        \n",
      "Gender                     \n",
      "OwnRent                    \n",
      "SqftCate                   \n",
      "HouseholdS                 \n",
      "Political                  \n",
      "Ethnic                     \n",
      "Income                     \n",
      "Educ                       \n",
      "CashYN                     \n",
      "MC           0.46          \n",
      "ComfNW                     \n",
      "SN                         \n",
      "HabitG       0.37          \n",
      "HabitC       0.32          \n",
      "\n",
      "               Factor1 Factor2\n",
      "SS loadings        2.1    1.62\n",
      "Proportion Var     0.1    0.08\n",
      "Cumulative Var     0.1    0.18\n",
      "\n",
      "Test of the hypothesis that 2 factors are sufficient.\n",
      "The chi square statistic is 1002 on 169 degrees of freedom.\n",
      "The p-value is 2.1e-118 \n"
     ]
    }
   ],
   "source": [
    "fit <- factanal(data2, 2, rotation=\"varimax\")\n",
    "print(fit, digits=2, cutoff=.3, sort=TRUE)"
   ]
  },
  {
   "cell_type": "code",
   "execution_count": 88,
   "metadata": {
    "collapsed": false
   },
   "outputs": [],
   "source": [
    "IndepPred <- row.names(res[o,][res[o,2]<.7,])"
   ]
  },
  {
   "cell_type": "code",
   "execution_count": 89,
   "metadata": {
    "collapsed": false
   },
   "outputs": [],
   "source": [
    "#IndepPred = c('Atti', 'EnergyC', 'SqftCate', 'OwnRent', 'MC', 'HouseholdS', 'Income', 'SubNorm', 'HabitC', 'Educ', 'PBC', 'Political', 'Gender', 'ComfNW', 'Latitude', 'Ethnic')\n",
    "IndepPred = c('Age', 'Gender', 'OwnRent', 'SqftCate', 'HouseholdS', 'Political', 'Ethnic', 'Income', 'Educ', 'Latitude', 'EnergyC', 'MC', 'ComfNW', 'HabitC', 'Winter_avgF')"
   ]
  },
  {
   "cell_type": "code",
   "execution_count": 90,
   "metadata": {
    "collapsed": true
   },
   "outputs": [],
   "source": [
    "fmla <- as.formula(paste(\"IncAwayW\",paste(IndepPred,collapse=\"+\"),sep=\"~\"));"
   ]
  },
  {
   "cell_type": "code",
   "execution_count": 91,
   "metadata": {
    "collapsed": false
   },
   "outputs": [
    {
     "data": {
      "text/plain": [
       "\n",
       "  1   2   3   4   5   6   7   8  99 \n",
       " 59  38  64 114  93  66  80  76  11 "
      ]
     },
     "metadata": {},
     "output_type": "display_data"
    }
   ],
   "source": [
    "table(data2[,\"IncAwayW\"])"
   ]
  },
  {
   "cell_type": "code",
   "execution_count": 92,
   "metadata": {
    "collapsed": false
   },
   "outputs": [
    {
     "data": {
      "text/plain": [
       "\n",
       "Call:\n",
       "lm(formula = fmla, data = data2)\n",
       "\n",
       "Residuals:\n",
       "   Min     1Q Median     3Q    Max \n",
       "-10.84  -3.66  -1.50   0.72  93.42 \n",
       "\n",
       "Coefficients:\n",
       "            Estimate Std. Error t value Pr(>|t|)  \n",
       "(Intercept)   3.6445     9.7774    0.37    0.709  \n",
       "Age           0.0528     0.0516    1.02    0.307  \n",
       "Gender       -0.9237     1.1247   -0.82    0.412  \n",
       "OwnRent      -0.8950     1.2248   -0.73    0.465  \n",
       "SqftCate     -0.7423     0.5944   -1.25    0.212  \n",
       "HouseholdS    0.1455     0.4969    0.29    0.770  \n",
       "Political    -0.6729     0.6827   -0.99    0.325  \n",
       "Ethnic        1.5383     1.4472    1.06    0.288  \n",
       "Income        0.5190     0.3032    1.71    0.087 .\n",
       "Educ         -0.6433     0.5093   -1.26    0.207  \n",
       "Latitude     -0.0298     0.1638   -0.18    0.856  \n",
       "EnergyC      -0.2334     0.4204   -0.56    0.579  \n",
       "MC           -0.1262     0.5178   -0.24    0.808  \n",
       "ComfNW        0.1358     0.3303    0.41    0.681  \n",
       "HabitC        0.7023     0.3954    1.78    0.076 .\n",
       "Winter_avgF   0.1052     0.0746    1.41    0.159  \n",
       "---\n",
       "Signif. codes:  0 '***' 0.001 '**' 0.01 '*' 0.05 '.' 0.1 ' ' 1\n",
       "\n",
       "Residual standard error: 13 on 585 degrees of freedom\n",
       "Multiple R-squared:  0.0303,\tAdjusted R-squared:  0.00542 \n",
       "F-statistic: 1.22 on 15 and 585 DF,  p-value: 0.253\n"
      ]
     },
     "metadata": {},
     "output_type": "display_data"
    }
   ],
   "source": [
    "mod = lm(fmla,data=data2)\n",
    "summary(mod)"
   ]
  },
  {
   "cell_type": "code",
   "execution_count": 93,
   "metadata": {
    "collapsed": false
   },
   "outputs": [
    {
     "data": {
      "text/html": [
       "<table>\n",
       "<thead><tr><th></th><th scope=col>Df</th><th scope=col>Sum Sq</th><th scope=col>Mean Sq</th><th scope=col>F value</th><th scope=col>Pr(&gt;F)</th></tr></thead>\n",
       "<tbody>\n",
       "\t<tr><th scope=row>Age</th><td>  1    </td><td>  159.4</td><td>159.4  </td><td>0.975  </td><td>0.324  </td></tr>\n",
       "\t<tr><th scope=row>Gender</th><td>  1    </td><td>  146.6</td><td>146.6  </td><td>0.897  </td><td>0.344  </td></tr>\n",
       "\t<tr><th scope=row>OwnRent</th><td>  1    </td><td>  100.1</td><td>100.1  </td><td>0.613  </td><td>0.434  </td></tr>\n",
       "\t<tr><th scope=row>SqftCate</th><td>  1    </td><td>   22.5</td><td> 22.5  </td><td>0.137  </td><td>0.711  </td></tr>\n",
       "\t<tr><th scope=row>HouseholdS</th><td>  1    </td><td>   18.6</td><td> 18.6  </td><td>0.114  </td><td>0.736  </td></tr>\n",
       "\t<tr><th scope=row>Political</th><td>  1    </td><td>  390.5</td><td>390.5  </td><td>2.390  </td><td>0.123  </td></tr>\n",
       "\t<tr><th scope=row>Ethnic</th><td>  1    </td><td>   52.0</td><td> 52.0  </td><td>0.318  </td><td>0.573  </td></tr>\n",
       "\t<tr><th scope=row>Income</th><td>  1    </td><td>  261.2</td><td>261.2  </td><td>1.599  </td><td>0.207  </td></tr>\n",
       "\t<tr><th scope=row>Educ</th><td>  1    </td><td>  285.6</td><td>285.6  </td><td>1.748  </td><td>0.187  </td></tr>\n",
       "\t<tr><th scope=row>Latitude</th><td>  1    </td><td>  670.5</td><td>670.5  </td><td>4.103  </td><td>0.043  </td></tr>\n",
       "\t<tr><th scope=row>EnergyC</th><td>  1    </td><td>   30.7</td><td> 30.7  </td><td>0.188  </td><td>0.665  </td></tr>\n",
       "\t<tr><th scope=row>MC</th><td>  1    </td><td>    3.0</td><td>  3.0  </td><td>0.018  </td><td>0.892  </td></tr>\n",
       "\t<tr><th scope=row>ComfNW</th><td>  1    </td><td>    6.3</td><td>  6.3  </td><td>0.038  </td><td>0.845  </td></tr>\n",
       "\t<tr><th scope=row>HabitC</th><td>  1    </td><td>  513.1</td><td>513.1  </td><td>3.140  </td><td>0.077  </td></tr>\n",
       "\t<tr><th scope=row>Winter_avgF</th><td>  1    </td><td>  325.1</td><td>325.1  </td><td>1.990  </td><td>0.159  </td></tr>\n",
       "\t<tr><th scope=row>Residuals</th><td>585    </td><td>95600.8</td><td>163.4  </td><td>   NA  </td><td>   NA  </td></tr>\n",
       "</tbody>\n",
       "</table>\n"
      ],
      "text/latex": [
       "\\begin{tabular}{r|lllll}\n",
       "  & Df & Sum Sq & Mean Sq & F value & Pr(>F)\\\\\n",
       "\\hline\n",
       "\tAge &   1     &   159.4 & 159.4   & 0.975   & 0.324  \\\\\n",
       "\tGender &   1     &   146.6 & 146.6   & 0.897   & 0.344  \\\\\n",
       "\tOwnRent &   1     &   100.1 & 100.1   & 0.613   & 0.434  \\\\\n",
       "\tSqftCate &   1     &    22.5 &  22.5   & 0.137   & 0.711  \\\\\n",
       "\tHouseholdS &   1     &    18.6 &  18.6   & 0.114   & 0.736  \\\\\n",
       "\tPolitical &   1     &   390.5 & 390.5   & 2.390   & 0.123  \\\\\n",
       "\tEthnic &   1     &    52.0 &  52.0   & 0.318   & 0.573  \\\\\n",
       "\tIncome &   1     &   261.2 & 261.2   & 1.599   & 0.207  \\\\\n",
       "\tEduc &   1     &   285.6 & 285.6   & 1.748   & 0.187  \\\\\n",
       "\tLatitude &   1     &   670.5 & 670.5   & 4.103   & 0.043  \\\\\n",
       "\tEnergyC &   1     &    30.7 &  30.7   & 0.188   & 0.665  \\\\\n",
       "\tMC &   1     &     3.0 &   3.0   & 0.018   & 0.892  \\\\\n",
       "\tComfNW &   1     &     6.3 &   6.3   & 0.038   & 0.845  \\\\\n",
       "\tHabitC &   1     &   513.1 & 513.1   & 3.140   & 0.077  \\\\\n",
       "\tWinter\\_avgF &   1     &   325.1 & 325.1   & 1.990   & 0.159  \\\\\n",
       "\tResiduals & 585     & 95600.8 & 163.4   &    NA   &    NA  \\\\\n",
       "\\end{tabular}\n"
      ],
      "text/plain": [
       "            Df  Sum Sq  Mean Sq F value Pr(>F)\n",
       "Age           1   159.4 159.4   0.975   0.324 \n",
       "Gender        1   146.6 146.6   0.897   0.344 \n",
       "OwnRent       1   100.1 100.1   0.613   0.434 \n",
       "SqftCate      1    22.5  22.5   0.137   0.711 \n",
       "HouseholdS    1    18.6  18.6   0.114   0.736 \n",
       "Political     1   390.5 390.5   2.390   0.123 \n",
       "Ethnic        1    52.0  52.0   0.318   0.573 \n",
       "Income        1   261.2 261.2   1.599   0.207 \n",
       "Educ          1   285.6 285.6   1.748   0.187 \n",
       "Latitude      1   670.5 670.5   4.103   0.043 \n",
       "EnergyC       1    30.7  30.7   0.188   0.665 \n",
       "MC            1     3.0   3.0   0.018   0.892 \n",
       "ComfNW        1     6.3   6.3   0.038   0.845 \n",
       "HabitC        1   513.1 513.1   3.140   0.077 \n",
       "Winter_avgF   1   325.1 325.1   1.990   0.159 \n",
       "Residuals   585 95600.8 163.4      NA      NA "
      ]
     },
     "metadata": {},
     "output_type": "display_data"
    }
   ],
   "source": [
    "anova(mod)"
   ]
  },
  {
   "cell_type": "code",
   "execution_count": 94,
   "metadata": {
    "collapsed": false
   },
   "outputs": [
    {
     "data": {
      "text/plain": [
       "\n",
       "Call:\n",
       "lm(formula = fmla, data = data2, subset = data2$Latitude > 37)\n",
       "\n",
       "Residuals:\n",
       "   Min     1Q Median     3Q    Max \n",
       "-10.92  -2.87  -0.66   1.58  86.14 \n",
       "\n",
       "Coefficients:\n",
       "            Estimate Std. Error t value Pr(>|t|)   \n",
       "(Intercept)  -5.1002    10.0949   -0.51   0.6138   \n",
       "Age           0.1289     0.0478    2.70   0.0073 **\n",
       "Gender       -0.0917     1.0650   -0.09   0.9314   \n",
       "OwnRent       1.1762     1.2213    0.96   0.3363   \n",
       "SqftCate     -1.0120     0.5701   -1.78   0.0769 . \n",
       "HouseholdS    0.3448     0.5027    0.69   0.4933   \n",
       "Political    -1.3224     0.6341   -2.09   0.0378 * \n",
       "Ethnic        1.4936     1.5260    0.98   0.3284   \n",
       "Income        0.1370     0.2914    0.47   0.6386   \n",
       "Educ         -1.1021     0.4812   -2.29   0.0227 * \n",
       "Latitude      0.0137     0.1956    0.07   0.9444   \n",
       "EnergyC       0.4872     0.3886    1.25   0.2109   \n",
       "MC            0.6698     0.4736    1.41   0.1583   \n",
       "ComfNW        0.0117     0.3130    0.04   0.9702   \n",
       "HabitC        0.3485     0.3769    0.92   0.3558   \n",
       "Winter_avgF   0.0820     0.0673    1.22   0.2237   \n",
       "---\n",
       "Signif. codes:  0 '***' 0.001 '**' 0.01 '*' 0.05 '.' 0.1 ' ' 1\n",
       "\n",
       "Residual standard error: 9 on 314 degrees of freedom\n",
       "Multiple R-squared:  0.0878,\tAdjusted R-squared:  0.0443 \n",
       "F-statistic: 2.02 on 15 and 314 DF,  p-value: 0.014\n"
      ]
     },
     "metadata": {},
     "output_type": "display_data"
    }
   ],
   "source": [
    "mod = lm(fmla,data=data2,subs=data2$Latitude>37)\n",
    "summary(mod)"
   ]
  },
  {
   "cell_type": "code",
   "execution_count": 95,
   "metadata": {
    "collapsed": false
   },
   "outputs": [
    {
     "data": {
      "text/html": [
       "<table>\n",
       "<thead><tr><th></th><th scope=col>Df</th><th scope=col>Sum Sq</th><th scope=col>Mean Sq</th><th scope=col>F value</th><th scope=col>Pr(&gt;F)</th></tr></thead>\n",
       "<tbody>\n",
       "\t<tr><th scope=row>Age</th><td>  1    </td><td>  750.7</td><td>750.7  </td><td>9.285  </td><td>0.0025 </td></tr>\n",
       "\t<tr><th scope=row>Gender</th><td>  1    </td><td>    2.4</td><td>  2.4  </td><td>0.029  </td><td>0.8639 </td></tr>\n",
       "\t<tr><th scope=row>OwnRent</th><td>  1    </td><td>   38.5</td><td> 38.5  </td><td>0.476  </td><td>0.4906 </td></tr>\n",
       "\t<tr><th scope=row>SqftCate</th><td>  1    </td><td>   93.8</td><td> 93.8  </td><td>1.160  </td><td>0.2822 </td></tr>\n",
       "\t<tr><th scope=row>HouseholdS</th><td>  1    </td><td>   81.5</td><td> 81.5  </td><td>1.008  </td><td>0.3162 </td></tr>\n",
       "\t<tr><th scope=row>Political</th><td>  1    </td><td>  424.8</td><td>424.8  </td><td>5.254  </td><td>0.0226 </td></tr>\n",
       "\t<tr><th scope=row>Ethnic</th><td>  1    </td><td>   57.2</td><td> 57.2  </td><td>0.707  </td><td>0.4010 </td></tr>\n",
       "\t<tr><th scope=row>Income</th><td>  1    </td><td>    1.8</td><td>  1.8  </td><td>0.023  </td><td>0.8803 </td></tr>\n",
       "\t<tr><th scope=row>Educ</th><td>  1    </td><td>  335.2</td><td>335.2  </td><td>4.145  </td><td>0.0426 </td></tr>\n",
       "\t<tr><th scope=row>Latitude</th><td>  1    </td><td>   17.0</td><td> 17.0  </td><td>0.210  </td><td>0.6470 </td></tr>\n",
       "\t<tr><th scope=row>EnergyC</th><td>  1    </td><td>  233.1</td><td>233.1  </td><td>2.883  </td><td>0.0905 </td></tr>\n",
       "\t<tr><th scope=row>MC</th><td>  1    </td><td>  213.5</td><td>213.5  </td><td>2.640  </td><td>0.1052 </td></tr>\n",
       "\t<tr><th scope=row>ComfNW</th><td>  1    </td><td>    6.5</td><td>  6.5  </td><td>0.081  </td><td>0.7763 </td></tr>\n",
       "\t<tr><th scope=row>HabitC</th><td>  1    </td><td>   68.8</td><td> 68.8  </td><td>0.851  </td><td>0.3571 </td></tr>\n",
       "\t<tr><th scope=row>Winter_avgF</th><td>  1    </td><td>  120.2</td><td>120.2  </td><td>1.486  </td><td>0.2237 </td></tr>\n",
       "\t<tr><th scope=row>Residuals</th><td>314    </td><td>25389.0</td><td> 80.9  </td><td>   NA  </td><td>    NA </td></tr>\n",
       "</tbody>\n",
       "</table>\n"
      ],
      "text/latex": [
       "\\begin{tabular}{r|lllll}\n",
       "  & Df & Sum Sq & Mean Sq & F value & Pr(>F)\\\\\n",
       "\\hline\n",
       "\tAge &   1     &   750.7 & 750.7   & 9.285   & 0.0025 \\\\\n",
       "\tGender &   1     &     2.4 &   2.4   & 0.029   & 0.8639 \\\\\n",
       "\tOwnRent &   1     &    38.5 &  38.5   & 0.476   & 0.4906 \\\\\n",
       "\tSqftCate &   1     &    93.8 &  93.8   & 1.160   & 0.2822 \\\\\n",
       "\tHouseholdS &   1     &    81.5 &  81.5   & 1.008   & 0.3162 \\\\\n",
       "\tPolitical &   1     &   424.8 & 424.8   & 5.254   & 0.0226 \\\\\n",
       "\tEthnic &   1     &    57.2 &  57.2   & 0.707   & 0.4010 \\\\\n",
       "\tIncome &   1     &     1.8 &   1.8   & 0.023   & 0.8803 \\\\\n",
       "\tEduc &   1     &   335.2 & 335.2   & 4.145   & 0.0426 \\\\\n",
       "\tLatitude &   1     &    17.0 &  17.0   & 0.210   & 0.6470 \\\\\n",
       "\tEnergyC &   1     &   233.1 & 233.1   & 2.883   & 0.0905 \\\\\n",
       "\tMC &   1     &   213.5 & 213.5   & 2.640   & 0.1052 \\\\\n",
       "\tComfNW &   1     &     6.5 &   6.5   & 0.081   & 0.7763 \\\\\n",
       "\tHabitC &   1     &    68.8 &  68.8   & 0.851   & 0.3571 \\\\\n",
       "\tWinter\\_avgF &   1     &   120.2 & 120.2   & 1.486   & 0.2237 \\\\\n",
       "\tResiduals & 314     & 25389.0 &  80.9   &    NA   &     NA \\\\\n",
       "\\end{tabular}\n"
      ],
      "text/plain": [
       "            Df  Sum Sq  Mean Sq F value Pr(>F)\n",
       "Age           1   750.7 750.7   9.285   0.0025\n",
       "Gender        1     2.4   2.4   0.029   0.8639\n",
       "OwnRent       1    38.5  38.5   0.476   0.4906\n",
       "SqftCate      1    93.8  93.8   1.160   0.2822\n",
       "HouseholdS    1    81.5  81.5   1.008   0.3162\n",
       "Political     1   424.8 424.8   5.254   0.0226\n",
       "Ethnic        1    57.2  57.2   0.707   0.4010\n",
       "Income        1     1.8   1.8   0.023   0.8803\n",
       "Educ          1   335.2 335.2   4.145   0.0426\n",
       "Latitude      1    17.0  17.0   0.210   0.6470\n",
       "EnergyC       1   233.1 233.1   2.883   0.0905\n",
       "MC            1   213.5 213.5   2.640   0.1052\n",
       "ComfNW        1     6.5   6.5   0.081   0.7763\n",
       "HabitC        1    68.8  68.8   0.851   0.3571\n",
       "Winter_avgF   1   120.2 120.2   1.486   0.2237\n",
       "Residuals   314 25389.0  80.9      NA       NA"
      ]
     },
     "metadata": {},
     "output_type": "display_data"
    }
   ],
   "source": [
    "anova(mod)"
   ]
  },
  {
   "cell_type": "code",
   "execution_count": 96,
   "metadata": {
    "collapsed": false
   },
   "outputs": [
    {
     "data": {
      "text/plain": [
       "\n",
       "Call:\n",
       "lm(formula = fmla, data = data2, subset = data2$Winter_avgF < \n",
       "    40)\n",
       "\n",
       "Residuals:\n",
       "   Min     1Q Median     3Q    Max \n",
       "-10.92  -2.13  -0.21   1.66  86.48 \n",
       "\n",
       "Coefficients:\n",
       "            Estimate Std. Error t value Pr(>|t|)  \n",
       "(Intercept)  -7.0143     7.2227   -0.97    0.332  \n",
       "Age           0.0908     0.0390    2.33    0.021 *\n",
       "Gender       -0.5643     0.8575   -0.66    0.511  \n",
       "OwnRent       1.0921     0.9747    1.12    0.263  \n",
       "SqftCate     -0.5104     0.4569   -1.12    0.265  \n",
       "HouseholdS   -0.2020     0.3902   -0.52    0.605  \n",
       "Political    -0.7065     0.5079   -1.39    0.165  \n",
       "Ethnic        1.4590     1.2480    1.17    0.243  \n",
       "Income        0.0267     0.2378    0.11    0.911  \n",
       "Educ         -0.9810     0.3850   -2.55    0.011 *\n",
       "Latitude      0.0928     0.1177    0.79    0.431  \n",
       "EnergyC       0.4361     0.3176    1.37    0.171  \n",
       "MC            0.5049     0.3833    1.32    0.189  \n",
       "ComfNW        0.2918     0.2502    1.17    0.244  \n",
       "HabitC        0.4882     0.2977    1.64    0.102  \n",
       "Winter_avgF   0.0586     0.0678    0.86    0.388  \n",
       "---\n",
       "Signif. codes:  0 '***' 0.001 '**' 0.01 '*' 0.05 '.' 0.1 ' ' 1\n",
       "\n",
       "Residual standard error: 7.3 on 330 degrees of freedom\n",
       "Multiple R-squared:  0.0766,\tAdjusted R-squared:  0.0346 \n",
       "F-statistic: 1.82 on 15 and 330 DF,  p-value: 0.0304\n"
      ]
     },
     "metadata": {},
     "output_type": "display_data"
    }
   ],
   "source": [
    "mod = lm(fmla,data=data2,subs=data2$Winter_avgF<40)\n",
    "summary(mod)"
   ]
  },
  {
   "cell_type": "code",
   "execution_count": 97,
   "metadata": {
    "collapsed": false
   },
   "outputs": [
    {
     "data": {
      "text/html": [
       "<table>\n",
       "<thead><tr><th></th><th scope=col>Df</th><th scope=col>Sum Sq</th><th scope=col>Mean Sq</th><th scope=col>F value</th><th scope=col>Pr(&gt;F)</th></tr></thead>\n",
       "<tbody>\n",
       "\t<tr><th scope=row>Age</th><td>  1    </td><td>4.0e+02</td><td>400.44 </td><td>7.4608 </td><td>0.0066 </td></tr>\n",
       "\t<tr><th scope=row>Gender</th><td>  1    </td><td>2.8e+00</td><td>  2.82 </td><td>0.0525 </td><td>0.8189 </td></tr>\n",
       "\t<tr><th scope=row>OwnRent</th><td>  1    </td><td>1.4e+01</td><td> 14.17 </td><td>0.2640 </td><td>0.6077 </td></tr>\n",
       "\t<tr><th scope=row>SqftCate</th><td>  1    </td><td>6.6e+01</td><td> 66.24 </td><td>1.2342 </td><td>0.2674 </td></tr>\n",
       "\t<tr><th scope=row>HouseholdS</th><td>  1    </td><td>1.7e-01</td><td>  0.17 </td><td>0.0032 </td><td>0.9552 </td></tr>\n",
       "\t<tr><th scope=row>Political</th><td>  1    </td><td>1.7e+02</td><td>168.60 </td><td>3.1413 </td><td>0.0773 </td></tr>\n",
       "\t<tr><th scope=row>Ethnic</th><td>  1    </td><td>5.3e+01</td><td> 52.87 </td><td>0.9850 </td><td>0.3217 </td></tr>\n",
       "\t<tr><th scope=row>Income</th><td>  1    </td><td>2.4e+01</td><td> 24.00 </td><td>0.4472 </td><td>0.5041 </td></tr>\n",
       "\t<tr><th scope=row>Educ</th><td>  1    </td><td>2.6e+02</td><td>256.20 </td><td>4.7733 </td><td>0.0296 </td></tr>\n",
       "\t<tr><th scope=row>Latitude</th><td>  1    </td><td>9.7e+00</td><td>  9.71 </td><td>0.1810 </td><td>0.6708 </td></tr>\n",
       "\t<tr><th scope=row>EnergyC</th><td>  1    </td><td>1.7e+02</td><td>165.39 </td><td>3.0814 </td><td>0.0801 </td></tr>\n",
       "\t<tr><th scope=row>MC</th><td>  1    </td><td>1.1e+02</td><td>109.12 </td><td>2.0330 </td><td>0.1549 </td></tr>\n",
       "\t<tr><th scope=row>ComfNW</th><td>  1    </td><td>2.2e+01</td><td> 22.44 </td><td>0.4181 </td><td>0.5183 </td></tr>\n",
       "\t<tr><th scope=row>HabitC</th><td>  1    </td><td>1.4e+02</td><td>136.59 </td><td>2.5448 </td><td>0.1116 </td></tr>\n",
       "\t<tr><th scope=row>Winter_avgF</th><td>  1    </td><td>4.0e+01</td><td> 40.14 </td><td>0.7479 </td><td>0.3878 </td></tr>\n",
       "\t<tr><th scope=row>Residuals</th><td>330    </td><td>1.8e+04</td><td> 53.67 </td><td>    NA </td><td>    NA </td></tr>\n",
       "</tbody>\n",
       "</table>\n"
      ],
      "text/latex": [
       "\\begin{tabular}{r|lllll}\n",
       "  & Df & Sum Sq & Mean Sq & F value & Pr(>F)\\\\\n",
       "\\hline\n",
       "\tAge &   1     & 4.0e+02 & 400.44  & 7.4608  & 0.0066 \\\\\n",
       "\tGender &   1     & 2.8e+00 &   2.82  & 0.0525  & 0.8189 \\\\\n",
       "\tOwnRent &   1     & 1.4e+01 &  14.17  & 0.2640  & 0.6077 \\\\\n",
       "\tSqftCate &   1     & 6.6e+01 &  66.24  & 1.2342  & 0.2674 \\\\\n",
       "\tHouseholdS &   1     & 1.7e-01 &   0.17  & 0.0032  & 0.9552 \\\\\n",
       "\tPolitical &   1     & 1.7e+02 & 168.60  & 3.1413  & 0.0773 \\\\\n",
       "\tEthnic &   1     & 5.3e+01 &  52.87  & 0.9850  & 0.3217 \\\\\n",
       "\tIncome &   1     & 2.4e+01 &  24.00  & 0.4472  & 0.5041 \\\\\n",
       "\tEduc &   1     & 2.6e+02 & 256.20  & 4.7733  & 0.0296 \\\\\n",
       "\tLatitude &   1     & 9.7e+00 &   9.71  & 0.1810  & 0.6708 \\\\\n",
       "\tEnergyC &   1     & 1.7e+02 & 165.39  & 3.0814  & 0.0801 \\\\\n",
       "\tMC &   1     & 1.1e+02 & 109.12  & 2.0330  & 0.1549 \\\\\n",
       "\tComfNW &   1     & 2.2e+01 &  22.44  & 0.4181  & 0.5183 \\\\\n",
       "\tHabitC &   1     & 1.4e+02 & 136.59  & 2.5448  & 0.1116 \\\\\n",
       "\tWinter\\_avgF &   1     & 4.0e+01 &  40.14  & 0.7479  & 0.3878 \\\\\n",
       "\tResiduals & 330     & 1.8e+04 &  53.67  &     NA  &     NA \\\\\n",
       "\\end{tabular}\n"
      ],
      "text/plain": [
       "            Df  Sum Sq  Mean Sq F value Pr(>F)\n",
       "Age           1 4.0e+02 400.44  7.4608  0.0066\n",
       "Gender        1 2.8e+00   2.82  0.0525  0.8189\n",
       "OwnRent       1 1.4e+01  14.17  0.2640  0.6077\n",
       "SqftCate      1 6.6e+01  66.24  1.2342  0.2674\n",
       "HouseholdS    1 1.7e-01   0.17  0.0032  0.9552\n",
       "Political     1 1.7e+02 168.60  3.1413  0.0773\n",
       "Ethnic        1 5.3e+01  52.87  0.9850  0.3217\n",
       "Income        1 2.4e+01  24.00  0.4472  0.5041\n",
       "Educ          1 2.6e+02 256.20  4.7733  0.0296\n",
       "Latitude      1 9.7e+00   9.71  0.1810  0.6708\n",
       "EnergyC       1 1.7e+02 165.39  3.0814  0.0801\n",
       "MC            1 1.1e+02 109.12  2.0330  0.1549\n",
       "ComfNW        1 2.2e+01  22.44  0.4181  0.5183\n",
       "HabitC        1 1.4e+02 136.59  2.5448  0.1116\n",
       "Winter_avgF   1 4.0e+01  40.14  0.7479  0.3878\n",
       "Residuals   330 1.8e+04  53.67      NA      NA"
      ]
     },
     "metadata": {},
     "output_type": "display_data"
    }
   ],
   "source": [
    "anova(mod)"
   ]
  },
  {
   "cell_type": "code",
   "execution_count": 98,
   "metadata": {
    "collapsed": true
   },
   "outputs": [],
   "source": [
    "IndepPred = c('Age', 'Gender', 'OwnRent', 'SqftCate', 'HouseholdS', 'Political', 'Ethnic', 'Income', 'Educ', 'Latitude', 'EnergyC', 'MC', 'ComfNW', 'HabitC', 'Winter_avgF', 'CashYN')\n",
    "fmla <- as.formula(paste(\"IncAwayW\",paste(IndepPred,collapse=\"+\"),sep=\"~\"));"
   ]
  },
  {
   "cell_type": "code",
   "execution_count": 99,
   "metadata": {
    "collapsed": false
   },
   "outputs": [
    {
     "data": {
      "text/plain": [
       "\n",
       "Call:\n",
       "lm(formula = fmla, data = data2)\n",
       "\n",
       "Residuals:\n",
       "   Min     1Q Median     3Q    Max \n",
       "-10.92  -3.72  -1.55   0.66  93.31 \n",
       "\n",
       "Coefficients:\n",
       "            Estimate Std. Error t value Pr(>|t|)  \n",
       "(Intercept)   1.7738     9.9570    0.18    0.859  \n",
       "Age           0.0500     0.0517    0.97    0.334  \n",
       "Gender       -0.9012     1.1249   -0.80    0.423  \n",
       "OwnRent      -0.8151     1.2275   -0.66    0.507  \n",
       "SqftCate     -0.7307     0.5945   -1.23    0.220  \n",
       "HouseholdS    0.1539     0.4970    0.31    0.757  \n",
       "Political    -0.6464     0.6832   -0.95    0.344  \n",
       "Ethnic        1.5660     1.4474    1.08    0.280  \n",
       "Income        0.5012     0.3037    1.65    0.099 .\n",
       "Educ         -0.6518     0.5094   -1.28    0.201  \n",
       "Latitude     -0.0242     0.1639   -0.15    0.883  \n",
       "EnergyC      -0.2413     0.4205   -0.57    0.566  \n",
       "MC           -0.1700     0.5197   -0.33    0.744  \n",
       "ComfNW        0.1284     0.3304    0.39    0.698  \n",
       "HabitC        0.7259     0.3961    1.83    0.067 .\n",
       "Winter_avgF   0.1054     0.0746    1.41    0.158  \n",
       "CashYNTRUE    1.9384     1.9503    0.99    0.321  \n",
       "---\n",
       "Signif. codes:  0 '***' 0.001 '**' 0.01 '*' 0.05 '.' 0.1 ' ' 1\n",
       "\n",
       "Residual standard error: 13 on 584 degrees of freedom\n",
       "Multiple R-squared:  0.0319,\tAdjusted R-squared:  0.0054 \n",
       "F-statistic:  1.2 on 16 and 584 DF,  p-value: 0.26\n"
      ]
     },
     "metadata": {},
     "output_type": "display_data"
    }
   ],
   "source": [
    "mod = lm(fmla,data=data2)\n",
    "summary(mod)"
   ]
  },
  {
   "cell_type": "code",
   "execution_count": 100,
   "metadata": {
    "collapsed": false
   },
   "outputs": [
    {
     "data": {
      "text/html": [
       "<table>\n",
       "<thead><tr><th></th><th scope=col>Df</th><th scope=col>Sum Sq</th><th scope=col>Mean Sq</th><th scope=col>F value</th><th scope=col>Pr(&gt;F)</th></tr></thead>\n",
       "<tbody>\n",
       "\t<tr><th scope=row>Age</th><td>  1    </td><td>  159.4</td><td>159.4  </td><td>0.975  </td><td>0.324  </td></tr>\n",
       "\t<tr><th scope=row>Gender</th><td>  1    </td><td>  146.6</td><td>146.6  </td><td>0.897  </td><td>0.344  </td></tr>\n",
       "\t<tr><th scope=row>OwnRent</th><td>  1    </td><td>  100.1</td><td>100.1  </td><td>0.613  </td><td>0.434  </td></tr>\n",
       "\t<tr><th scope=row>SqftCate</th><td>  1    </td><td>   22.5</td><td> 22.5  </td><td>0.137  </td><td>0.711  </td></tr>\n",
       "\t<tr><th scope=row>HouseholdS</th><td>  1    </td><td>   18.6</td><td> 18.6  </td><td>0.114  </td><td>0.736  </td></tr>\n",
       "\t<tr><th scope=row>Political</th><td>  1    </td><td>  390.5</td><td>390.5  </td><td>2.390  </td><td>0.123  </td></tr>\n",
       "\t<tr><th scope=row>Ethnic</th><td>  1    </td><td>   52.0</td><td> 52.0  </td><td>0.318  </td><td>0.573  </td></tr>\n",
       "\t<tr><th scope=row>Income</th><td>  1    </td><td>  261.2</td><td>261.2  </td><td>1.599  </td><td>0.207  </td></tr>\n",
       "\t<tr><th scope=row>Educ</th><td>  1    </td><td>  285.6</td><td>285.6  </td><td>1.748  </td><td>0.187  </td></tr>\n",
       "\t<tr><th scope=row>Latitude</th><td>  1    </td><td>  670.5</td><td>670.5  </td><td>4.103  </td><td>0.043  </td></tr>\n",
       "\t<tr><th scope=row>EnergyC</th><td>  1    </td><td>   30.7</td><td> 30.7  </td><td>0.188  </td><td>0.665  </td></tr>\n",
       "\t<tr><th scope=row>MC</th><td>  1    </td><td>    3.0</td><td>  3.0  </td><td>0.018  </td><td>0.892  </td></tr>\n",
       "\t<tr><th scope=row>ComfNW</th><td>  1    </td><td>    6.3</td><td>  6.3  </td><td>0.038  </td><td>0.845  </td></tr>\n",
       "\t<tr><th scope=row>HabitC</th><td>  1    </td><td>  513.1</td><td>513.1  </td><td>3.140  </td><td>0.077  </td></tr>\n",
       "\t<tr><th scope=row>Winter_avgF</th><td>  1    </td><td>  325.1</td><td>325.1  </td><td>1.990  </td><td>0.159  </td></tr>\n",
       "\t<tr><th scope=row>CashYN</th><td>  1    </td><td>  161.4</td><td>161.4  </td><td>0.988  </td><td>0.321  </td></tr>\n",
       "\t<tr><th scope=row>Residuals</th><td>584    </td><td>95439.4</td><td>163.4  </td><td>   NA  </td><td>   NA  </td></tr>\n",
       "</tbody>\n",
       "</table>\n"
      ],
      "text/latex": [
       "\\begin{tabular}{r|lllll}\n",
       "  & Df & Sum Sq & Mean Sq & F value & Pr(>F)\\\\\n",
       "\\hline\n",
       "\tAge &   1     &   159.4 & 159.4   & 0.975   & 0.324  \\\\\n",
       "\tGender &   1     &   146.6 & 146.6   & 0.897   & 0.344  \\\\\n",
       "\tOwnRent &   1     &   100.1 & 100.1   & 0.613   & 0.434  \\\\\n",
       "\tSqftCate &   1     &    22.5 &  22.5   & 0.137   & 0.711  \\\\\n",
       "\tHouseholdS &   1     &    18.6 &  18.6   & 0.114   & 0.736  \\\\\n",
       "\tPolitical &   1     &   390.5 & 390.5   & 2.390   & 0.123  \\\\\n",
       "\tEthnic &   1     &    52.0 &  52.0   & 0.318   & 0.573  \\\\\n",
       "\tIncome &   1     &   261.2 & 261.2   & 1.599   & 0.207  \\\\\n",
       "\tEduc &   1     &   285.6 & 285.6   & 1.748   & 0.187  \\\\\n",
       "\tLatitude &   1     &   670.5 & 670.5   & 4.103   & 0.043  \\\\\n",
       "\tEnergyC &   1     &    30.7 &  30.7   & 0.188   & 0.665  \\\\\n",
       "\tMC &   1     &     3.0 &   3.0   & 0.018   & 0.892  \\\\\n",
       "\tComfNW &   1     &     6.3 &   6.3   & 0.038   & 0.845  \\\\\n",
       "\tHabitC &   1     &   513.1 & 513.1   & 3.140   & 0.077  \\\\\n",
       "\tWinter\\_avgF &   1     &   325.1 & 325.1   & 1.990   & 0.159  \\\\\n",
       "\tCashYN &   1     &   161.4 & 161.4   & 0.988   & 0.321  \\\\\n",
       "\tResiduals & 584     & 95439.4 & 163.4   &    NA   &    NA  \\\\\n",
       "\\end{tabular}\n"
      ],
      "text/plain": [
       "            Df  Sum Sq  Mean Sq F value Pr(>F)\n",
       "Age           1   159.4 159.4   0.975   0.324 \n",
       "Gender        1   146.6 146.6   0.897   0.344 \n",
       "OwnRent       1   100.1 100.1   0.613   0.434 \n",
       "SqftCate      1    22.5  22.5   0.137   0.711 \n",
       "HouseholdS    1    18.6  18.6   0.114   0.736 \n",
       "Political     1   390.5 390.5   2.390   0.123 \n",
       "Ethnic        1    52.0  52.0   0.318   0.573 \n",
       "Income        1   261.2 261.2   1.599   0.207 \n",
       "Educ          1   285.6 285.6   1.748   0.187 \n",
       "Latitude      1   670.5 670.5   4.103   0.043 \n",
       "EnergyC       1    30.7  30.7   0.188   0.665 \n",
       "MC            1     3.0   3.0   0.018   0.892 \n",
       "ComfNW        1     6.3   6.3   0.038   0.845 \n",
       "HabitC        1   513.1 513.1   3.140   0.077 \n",
       "Winter_avgF   1   325.1 325.1   1.990   0.159 \n",
       "CashYN        1   161.4 161.4   0.988   0.321 \n",
       "Residuals   584 95439.4 163.4      NA      NA "
      ]
     },
     "metadata": {},
     "output_type": "display_data"
    }
   ],
   "source": [
    "anova(mod)"
   ]
  },
  {
   "cell_type": "code",
   "execution_count": 101,
   "metadata": {
    "collapsed": false
   },
   "outputs": [
    {
     "data": {
      "text/plain": [
       "\n",
       "Call:\n",
       "lm(formula = fmla, data = data2, subset = data2$Latitude > 37)\n",
       "\n",
       "Residuals:\n",
       "   Min     1Q Median     3Q    Max \n",
       "-11.01  -2.93  -0.61   1.56  86.11 \n",
       "\n",
       "Coefficients:\n",
       "            Estimate Std. Error t value Pr(>|t|)   \n",
       "(Intercept)  -5.8586    10.2335   -0.57   0.5674   \n",
       "Age           0.1260     0.0482    2.62   0.0094 **\n",
       "Gender       -0.0795     1.0666   -0.07   0.9407   \n",
       "OwnRent       1.2330     1.2287    1.00   0.3164   \n",
       "SqftCate     -1.0120     0.5708   -1.77   0.0772 . \n",
       "HouseholdS    0.3420     0.5034    0.68   0.4974   \n",
       "Political    -1.3226     0.6349   -2.08   0.0381 * \n",
       "Ethnic        1.5325     1.5301    1.00   0.3173   \n",
       "Income        0.1345     0.2918    0.46   0.6452   \n",
       "Educ         -1.0985     0.4818   -2.28   0.0233 * \n",
       "Latitude      0.0145     0.1958    0.07   0.9412   \n",
       "EnergyC       0.4828     0.3892    1.24   0.2158   \n",
       "MC            0.6515     0.4757    1.37   0.1718   \n",
       "ComfNW        0.0133     0.3134    0.04   0.9662   \n",
       "HabitC        0.3640     0.3788    0.96   0.3373   \n",
       "Winter_avgF   0.0822     0.0673    1.22   0.2231   \n",
       "CashYNTRUE    0.8082     1.7063    0.47   0.6361   \n",
       "---\n",
       "Signif. codes:  0 '***' 0.001 '**' 0.01 '*' 0.05 '.' 0.1 ' ' 1\n",
       "\n",
       "Residual standard error: 9 on 313 degrees of freedom\n",
       "Multiple R-squared:  0.0885,\tAdjusted R-squared:  0.0419 \n",
       "F-statistic:  1.9 on 16 and 313 DF,  p-value: 0.0199\n"
      ]
     },
     "metadata": {},
     "output_type": "display_data"
    }
   ],
   "source": [
    "mod = lm(fmla,data=data2,subs=data2$Latitude>37)\n",
    "summary(mod)"
   ]
  },
  {
   "cell_type": "code",
   "execution_count": 102,
   "metadata": {
    "collapsed": false
   },
   "outputs": [
    {
     "data": {
      "text/html": [
       "<table>\n",
       "<thead><tr><th></th><th scope=col>Df</th><th scope=col>Sum Sq</th><th scope=col>Mean Sq</th><th scope=col>F value</th><th scope=col>Pr(&gt;F)</th></tr></thead>\n",
       "<tbody>\n",
       "\t<tr><th scope=row>Age</th><td>  1    </td><td>  750.7</td><td>750.7  </td><td>9.262  </td><td>0.0025 </td></tr>\n",
       "\t<tr><th scope=row>Gender</th><td>  1    </td><td>    2.4</td><td>  2.4  </td><td>0.029  </td><td>0.8641 </td></tr>\n",
       "\t<tr><th scope=row>OwnRent</th><td>  1    </td><td>   38.5</td><td> 38.5  </td><td>0.475  </td><td>0.4911 </td></tr>\n",
       "\t<tr><th scope=row>SqftCate</th><td>  1    </td><td>   93.8</td><td> 93.8  </td><td>1.157  </td><td>0.2828 </td></tr>\n",
       "\t<tr><th scope=row>HouseholdS</th><td>  1    </td><td>   81.5</td><td> 81.5  </td><td>1.005  </td><td>0.3168 </td></tr>\n",
       "\t<tr><th scope=row>Political</th><td>  1    </td><td>  424.8</td><td>424.8  </td><td>5.241  </td><td>0.0227 </td></tr>\n",
       "\t<tr><th scope=row>Ethnic</th><td>  1    </td><td>   57.2</td><td> 57.2  </td><td>0.706  </td><td>0.4015 </td></tr>\n",
       "\t<tr><th scope=row>Income</th><td>  1    </td><td>    1.8</td><td>  1.8  </td><td>0.023  </td><td>0.8805 </td></tr>\n",
       "\t<tr><th scope=row>Educ</th><td>  1    </td><td>  335.2</td><td>335.2  </td><td>4.135  </td><td>0.0428 </td></tr>\n",
       "\t<tr><th scope=row>Latitude</th><td>  1    </td><td>   17.0</td><td> 17.0  </td><td>0.210  </td><td>0.6474 </td></tr>\n",
       "\t<tr><th scope=row>EnergyC</th><td>  1    </td><td>  233.1</td><td>233.1  </td><td>2.876  </td><td>0.0909 </td></tr>\n",
       "\t<tr><th scope=row>MC</th><td>  1    </td><td>  213.5</td><td>213.5  </td><td>2.634  </td><td>0.1056 </td></tr>\n",
       "\t<tr><th scope=row>ComfNW</th><td>  1    </td><td>    6.5</td><td>  6.5  </td><td>0.081  </td><td>0.7766 </td></tr>\n",
       "\t<tr><th scope=row>HabitC</th><td>  1    </td><td>   68.8</td><td> 68.8  </td><td>0.848  </td><td>0.3577 </td></tr>\n",
       "\t<tr><th scope=row>Winter_avgF</th><td>  1    </td><td>  120.2</td><td>120.2  </td><td>1.482  </td><td>0.2243 </td></tr>\n",
       "\t<tr><th scope=row>CashYN</th><td>  1    </td><td>   18.2</td><td> 18.2  </td><td>0.224  </td><td>0.6361 </td></tr>\n",
       "\t<tr><th scope=row>Residuals</th><td>313    </td><td>25370.9</td><td> 81.1  </td><td>   NA  </td><td>    NA </td></tr>\n",
       "</tbody>\n",
       "</table>\n"
      ],
      "text/latex": [
       "\\begin{tabular}{r|lllll}\n",
       "  & Df & Sum Sq & Mean Sq & F value & Pr(>F)\\\\\n",
       "\\hline\n",
       "\tAge &   1     &   750.7 & 750.7   & 9.262   & 0.0025 \\\\\n",
       "\tGender &   1     &     2.4 &   2.4   & 0.029   & 0.8641 \\\\\n",
       "\tOwnRent &   1     &    38.5 &  38.5   & 0.475   & 0.4911 \\\\\n",
       "\tSqftCate &   1     &    93.8 &  93.8   & 1.157   & 0.2828 \\\\\n",
       "\tHouseholdS &   1     &    81.5 &  81.5   & 1.005   & 0.3168 \\\\\n",
       "\tPolitical &   1     &   424.8 & 424.8   & 5.241   & 0.0227 \\\\\n",
       "\tEthnic &   1     &    57.2 &  57.2   & 0.706   & 0.4015 \\\\\n",
       "\tIncome &   1     &     1.8 &   1.8   & 0.023   & 0.8805 \\\\\n",
       "\tEduc &   1     &   335.2 & 335.2   & 4.135   & 0.0428 \\\\\n",
       "\tLatitude &   1     &    17.0 &  17.0   & 0.210   & 0.6474 \\\\\n",
       "\tEnergyC &   1     &   233.1 & 233.1   & 2.876   & 0.0909 \\\\\n",
       "\tMC &   1     &   213.5 & 213.5   & 2.634   & 0.1056 \\\\\n",
       "\tComfNW &   1     &     6.5 &   6.5   & 0.081   & 0.7766 \\\\\n",
       "\tHabitC &   1     &    68.8 &  68.8   & 0.848   & 0.3577 \\\\\n",
       "\tWinter\\_avgF &   1     &   120.2 & 120.2   & 1.482   & 0.2243 \\\\\n",
       "\tCashYN &   1     &    18.2 &  18.2   & 0.224   & 0.6361 \\\\\n",
       "\tResiduals & 313     & 25370.9 &  81.1   &    NA   &     NA \\\\\n",
       "\\end{tabular}\n"
      ],
      "text/plain": [
       "            Df  Sum Sq  Mean Sq F value Pr(>F)\n",
       "Age           1   750.7 750.7   9.262   0.0025\n",
       "Gender        1     2.4   2.4   0.029   0.8641\n",
       "OwnRent       1    38.5  38.5   0.475   0.4911\n",
       "SqftCate      1    93.8  93.8   1.157   0.2828\n",
       "HouseholdS    1    81.5  81.5   1.005   0.3168\n",
       "Political     1   424.8 424.8   5.241   0.0227\n",
       "Ethnic        1    57.2  57.2   0.706   0.4015\n",
       "Income        1     1.8   1.8   0.023   0.8805\n",
       "Educ          1   335.2 335.2   4.135   0.0428\n",
       "Latitude      1    17.0  17.0   0.210   0.6474\n",
       "EnergyC       1   233.1 233.1   2.876   0.0909\n",
       "MC            1   213.5 213.5   2.634   0.1056\n",
       "ComfNW        1     6.5   6.5   0.081   0.7766\n",
       "HabitC        1    68.8  68.8   0.848   0.3577\n",
       "Winter_avgF   1   120.2 120.2   1.482   0.2243\n",
       "CashYN        1    18.2  18.2   0.224   0.6361\n",
       "Residuals   313 25370.9  81.1      NA       NA"
      ]
     },
     "metadata": {},
     "output_type": "display_data"
    }
   ],
   "source": [
    "anova(mod)"
   ]
  },
  {
   "cell_type": "code",
   "execution_count": 103,
   "metadata": {
    "collapsed": false
   },
   "outputs": [
    {
     "data": {
      "text/plain": [
       "\n",
       "Call:\n",
       "lm(formula = fmla, data = data2, subset = data2$Winter_avgF < \n",
       "    40)\n",
       "\n",
       "Residuals:\n",
       "   Min     1Q Median     3Q    Max \n",
       "-10.95  -2.06  -0.25   1.60  86.44 \n",
       "\n",
       "Coefficients:\n",
       "            Estimate Std. Error t value Pr(>|t|)  \n",
       "(Intercept)  -7.7111     7.3743   -1.05    0.296  \n",
       "Age           0.0893     0.0392    2.28    0.023 *\n",
       "Gender       -0.5657     0.8585   -0.66    0.510  \n",
       "OwnRent       1.1259     0.9783    1.15    0.251  \n",
       "SqftCate     -0.5124     0.4574   -1.12    0.264  \n",
       "HouseholdS   -0.2046     0.3907   -0.52    0.601  \n",
       "Political    -0.7026     0.5085   -1.38    0.168  \n",
       "Ethnic        1.4509     1.2496    1.16    0.246  \n",
       "Income        0.0286     0.2382    0.12    0.905  \n",
       "Educ         -0.9817     0.3855   -2.55    0.011 *\n",
       "Latitude      0.0957     0.1180    0.81    0.418  \n",
       "EnergyC       0.4313     0.3181    1.36    0.176  \n",
       "MC            0.4905     0.3849    1.27    0.203  \n",
       "ComfNW        0.2959     0.2507    1.18    0.239  \n",
       "HabitC        0.5004     0.2991    1.67    0.095 .\n",
       "Winter_avgF   0.0591     0.0679    0.87    0.385  \n",
       "CashYNTRUE    0.6654     1.3810    0.48    0.630  \n",
       "---\n",
       "Signif. codes:  0 '***' 0.001 '**' 0.01 '*' 0.05 '.' 0.1 ' ' 1\n",
       "\n",
       "Residual standard error: 7.3 on 329 degrees of freedom\n",
       "Multiple R-squared:  0.0772,\tAdjusted R-squared:  0.0324 \n",
       "F-statistic: 1.72 on 16 and 329 DF,  p-value: 0.0415\n"
      ]
     },
     "metadata": {},
     "output_type": "display_data"
    }
   ],
   "source": [
    "mod = lm(fmla,data=data2,subs=data2$Winter_avgF<40)\n",
    "summary(mod)"
   ]
  },
  {
   "cell_type": "code",
   "execution_count": 104,
   "metadata": {
    "collapsed": false
   },
   "outputs": [
    {
     "data": {
      "text/html": [
       "<table>\n",
       "<thead><tr><th></th><th scope=col>Df</th><th scope=col>Sum Sq</th><th scope=col>Mean Sq</th><th scope=col>F value</th><th scope=col>Pr(&gt;F)</th></tr></thead>\n",
       "<tbody>\n",
       "\t<tr><th scope=row>Age</th><td>  1    </td><td>4.0e+02</td><td>400.44 </td><td>7.4435 </td><td>0.0067 </td></tr>\n",
       "\t<tr><th scope=row>Gender</th><td>  1    </td><td>2.8e+00</td><td>  2.82 </td><td>0.0524 </td><td>0.8191 </td></tr>\n",
       "\t<tr><th scope=row>OwnRent</th><td>  1    </td><td>1.4e+01</td><td> 14.17 </td><td>0.2634 </td><td>0.6082 </td></tr>\n",
       "\t<tr><th scope=row>SqftCate</th><td>  1    </td><td>6.6e+01</td><td> 66.24 </td><td>1.2313 </td><td>0.2680 </td></tr>\n",
       "\t<tr><th scope=row>HouseholdS</th><td>  1    </td><td>1.7e-01</td><td>  0.17 </td><td>0.0032 </td><td>0.9553 </td></tr>\n",
       "\t<tr><th scope=row>Political</th><td>  1    </td><td>1.7e+02</td><td>168.60 </td><td>3.1340 </td><td>0.0776 </td></tr>\n",
       "\t<tr><th scope=row>Ethnic</th><td>  1    </td><td>5.3e+01</td><td> 52.87 </td><td>0.9827 </td><td>0.3223 </td></tr>\n",
       "\t<tr><th scope=row>Income</th><td>  1    </td><td>2.4e+01</td><td> 24.00 </td><td>0.4461 </td><td>0.5046 </td></tr>\n",
       "\t<tr><th scope=row>Educ</th><td>  1    </td><td>2.6e+02</td><td>256.20 </td><td>4.7622 </td><td>0.0298 </td></tr>\n",
       "\t<tr><th scope=row>Latitude</th><td>  1    </td><td>9.7e+00</td><td>  9.71 </td><td>0.1805 </td><td>0.6712 </td></tr>\n",
       "\t<tr><th scope=row>EnergyC</th><td>  1    </td><td>1.7e+02</td><td>165.39 </td><td>3.0742 </td><td>0.0805 </td></tr>\n",
       "\t<tr><th scope=row>MC</th><td>  1    </td><td>1.1e+02</td><td>109.12 </td><td>2.0283 </td><td>0.1553 </td></tr>\n",
       "\t<tr><th scope=row>ComfNW</th><td>  1    </td><td>2.2e+01</td><td> 22.44 </td><td>0.4171 </td><td>0.5188 </td></tr>\n",
       "\t<tr><th scope=row>HabitC</th><td>  1    </td><td>1.4e+02</td><td>136.59 </td><td>2.5389 </td><td>0.1120 </td></tr>\n",
       "\t<tr><th scope=row>Winter_avgF</th><td>  1    </td><td>4.0e+01</td><td> 40.14 </td><td>0.7461 </td><td>0.3883 </td></tr>\n",
       "\t<tr><th scope=row>CashYN</th><td>  1    </td><td>1.2e+01</td><td> 12.49 </td><td>0.2321 </td><td>0.6303 </td></tr>\n",
       "\t<tr><th scope=row>Residuals</th><td>329    </td><td>1.8e+04</td><td> 53.80 </td><td>    NA </td><td>    NA </td></tr>\n",
       "</tbody>\n",
       "</table>\n"
      ],
      "text/latex": [
       "\\begin{tabular}{r|lllll}\n",
       "  & Df & Sum Sq & Mean Sq & F value & Pr(>F)\\\\\n",
       "\\hline\n",
       "\tAge &   1     & 4.0e+02 & 400.44  & 7.4435  & 0.0067 \\\\\n",
       "\tGender &   1     & 2.8e+00 &   2.82  & 0.0524  & 0.8191 \\\\\n",
       "\tOwnRent &   1     & 1.4e+01 &  14.17  & 0.2634  & 0.6082 \\\\\n",
       "\tSqftCate &   1     & 6.6e+01 &  66.24  & 1.2313  & 0.2680 \\\\\n",
       "\tHouseholdS &   1     & 1.7e-01 &   0.17  & 0.0032  & 0.9553 \\\\\n",
       "\tPolitical &   1     & 1.7e+02 & 168.60  & 3.1340  & 0.0776 \\\\\n",
       "\tEthnic &   1     & 5.3e+01 &  52.87  & 0.9827  & 0.3223 \\\\\n",
       "\tIncome &   1     & 2.4e+01 &  24.00  & 0.4461  & 0.5046 \\\\\n",
       "\tEduc &   1     & 2.6e+02 & 256.20  & 4.7622  & 0.0298 \\\\\n",
       "\tLatitude &   1     & 9.7e+00 &   9.71  & 0.1805  & 0.6712 \\\\\n",
       "\tEnergyC &   1     & 1.7e+02 & 165.39  & 3.0742  & 0.0805 \\\\\n",
       "\tMC &   1     & 1.1e+02 & 109.12  & 2.0283  & 0.1553 \\\\\n",
       "\tComfNW &   1     & 2.2e+01 &  22.44  & 0.4171  & 0.5188 \\\\\n",
       "\tHabitC &   1     & 1.4e+02 & 136.59  & 2.5389  & 0.1120 \\\\\n",
       "\tWinter\\_avgF &   1     & 4.0e+01 &  40.14  & 0.7461  & 0.3883 \\\\\n",
       "\tCashYN &   1     & 1.2e+01 &  12.49  & 0.2321  & 0.6303 \\\\\n",
       "\tResiduals & 329     & 1.8e+04 &  53.80  &     NA  &     NA \\\\\n",
       "\\end{tabular}\n"
      ],
      "text/plain": [
       "            Df  Sum Sq  Mean Sq F value Pr(>F)\n",
       "Age           1 4.0e+02 400.44  7.4435  0.0067\n",
       "Gender        1 2.8e+00   2.82  0.0524  0.8191\n",
       "OwnRent       1 1.4e+01  14.17  0.2634  0.6082\n",
       "SqftCate      1 6.6e+01  66.24  1.2313  0.2680\n",
       "HouseholdS    1 1.7e-01   0.17  0.0032  0.9553\n",
       "Political     1 1.7e+02 168.60  3.1340  0.0776\n",
       "Ethnic        1 5.3e+01  52.87  0.9827  0.3223\n",
       "Income        1 2.4e+01  24.00  0.4461  0.5046\n",
       "Educ          1 2.6e+02 256.20  4.7622  0.0298\n",
       "Latitude      1 9.7e+00   9.71  0.1805  0.6712\n",
       "EnergyC       1 1.7e+02 165.39  3.0742  0.0805\n",
       "MC            1 1.1e+02 109.12  2.0283  0.1553\n",
       "ComfNW        1 2.2e+01  22.44  0.4171  0.5188\n",
       "HabitC        1 1.4e+02 136.59  2.5389  0.1120\n",
       "Winter_avgF   1 4.0e+01  40.14  0.7461  0.3883\n",
       "CashYN        1 1.2e+01  12.49  0.2321  0.6303\n",
       "Residuals   329 1.8e+04  53.80      NA      NA"
      ]
     },
     "metadata": {},
     "output_type": "display_data"
    }
   ],
   "source": [
    "anova(mod)"
   ]
  }
 ],
 "metadata": {
  "kernelspec": {
   "display_name": "R",
   "language": "R",
   "name": "ir"
  },
  "language_info": {
   "codemirror_mode": "r",
   "file_extension": ".r",
   "mimetype": "text/x-r-source",
   "name": "R",
   "pygments_lexer": "r",
   "version": "3.3.1"
  }
 },
 "nbformat": 4,
 "nbformat_minor": 1
}
