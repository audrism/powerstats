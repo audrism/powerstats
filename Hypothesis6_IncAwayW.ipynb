{
 "cells": [
  {
   "cell_type": "markdown",
   "metadata": {},
   "source": [
    "## Hypothesis\n",
    "To predict the incentive level requested for raising thermostat settings for 2-3F \n",
    "    when being at home in summer.\n",
    "    \n",
    "IV: Age, Gender, OwnRent, SqftCate, HouseholdS, Political, Ethnic, Income, Educ\n",
    "    Latitude, HomeS, EnergyC, MC, ComfNS, HabitC\n",
    "\n",
    "### Filter: HomeSYN=1 (i.e., only use people who use A/C when being at home in summer)\n"
   ]
  },
  {
   "cell_type": "code",
   "execution_count": 1,
   "metadata": {
    "collapsed": false
   },
   "outputs": [],
   "source": [
    "options(digits=2);\n",
    "# Read in the data\n",
    "survey <- read.csv(\"DR_Survey2_Share_Complete.csv\",header=T);\n",
    "#populate missing values\n",
    "#survey$IncHomeS[survey$IncHomeS==99] = NA;\n",
    "#survey$IncHomeS[survey$IncHomeS==999] = NA;\n",
    "\n",
    "#survey <- survey[survey$HomeS>60,];\n",
    "#survey <- survey[survey$HomeS<80,];\n",
    "\n",
    "#survey <- survey[survey$HomeW>60,];\n",
    "#survey <- survey[survey$HomeW<80,];\n",
    "\n",
    "data <- survey[,-c(1:7)];\n",
    "\n",
    "#We investigate only use people who use A/C when being at home in summer\n",
    "data1 <- data[data$HomeSYN==1,-which(names(data) %in% c(\"HomeWYN\",\"AwayWNY\",\"HomeSYN\",\"AwaySNY\",\"City\",\"Utility\",\n",
    "    \"ReasonPos\",\"ReasonNeg\",\"NBillS\",\"NBillW\",\"valid1\",\"valid2\",\"valid\",\"Attitude\",\"Trust\",\"MCG\",\"Frugal\",\"ComfortS\",\"ComfortW\",\"SubN\",\"PBC\",\"ACYN\",\"HeatYN\",\n",
    "    \"Longitude\", \"Job\",\"hot\",\"cold\"))];"
   ]
  },
  {
   "cell_type": "code",
   "execution_count": 6,
   "metadata": {
    "collapsed": false
   },
   "outputs": [
    {
     "data": {
      "text/plain": [
       "   Min. 1st Qu.  Median    Mean 3rd Qu.    Max. \n",
       "      1       3       5       6       7      99 "
      ]
     },
     "metadata": {},
     "output_type": "display_data"
    },
    {
     "data": {
      "text/plain": [
       "\n",
       "  1   2   3   4   5   6   7   8  99 \n",
       " 61  42  68 132 102  79  88  79  11 "
      ]
     },
     "metadata": {},
     "output_type": "display_data"
    },
    {
     "data": {
      "image/png": "[encoded data removed]",
      "text/plain": [
       "Plot with title \"Histogram of data1$IncAwayW\""
      ]
     },
     "metadata": {},
     "output_type": "display_data"
    }
   ],
   "source": [
    "summary(data1$IncAwayW)\n",
    "table(data1$IncAwayW)\n",
    "hist(data1$IncAwayW)"
   ]
  },
  {
   "cell_type": "code",
   "execution_count": 7,
   "metadata": {
    "collapsed": false
   },
   "outputs": [
    {
     "name": "stdout",
     "output_type": "stream",
     "text": [
      "[1] \"HomeW\" \"28\"   \n",
      "[1] \"AwayW\" \"87\"   \n",
      "[1] \"AwayS\" \"101\"  \n",
      "[1] \"IncWD\" \"56\"   \n",
      "[1] \"IncDish\" \"183\"    \n",
      "[1] \"Age\" \"4\"  \n",
      "[1] \"Income\" \"3\"     \n",
      "[1] \"Educ\" \"5\"   \n",
      "[1] \"Latitude\" \"21\"      \n"
     ]
    }
   ],
   "source": [
    "#Fields with lots of missing values\n",
    "for (n in names(data1)){\n",
    "    nmis = sum(is.na(data1[,n]))\n",
    "    if(nmis >1)  print (c(n, sum(is.na(data1[,n]))))\n",
    "}"
   ]
  },
  {
   "cell_type": "code",
   "execution_count": 8,
   "metadata": {
    "collapsed": false
   },
   "outputs": [
    {
     "name": "stdout",
     "output_type": "stream",
     "text": [
      "[1] 662 100\n",
      "[1] 632 100\n"
     ]
    }
   ],
   "source": [
    "#lets remover these\n",
    "data2 <- data1[,-which(names(data1) %in% c(\"HomeW\",\"AwayW\",\n",
    "                    \"AwayS\",\"IncWD\",\"IncDish\"))];\n",
    "print(dim(data2))\n",
    "data2 <- na.omit(data2)\n",
    "print(dim(data2))\n",
    "#table(data2$Political)"
   ]
  },
  {
   "cell_type": "code",
   "execution_count": 9,
   "metadata": {
    "collapsed": false
   },
   "outputs": [
    {
     "data": {
      "text/plain": [
       "   Min. 1st Qu.  Median    Mean 3rd Qu.    Max. \n",
       "      1       3       5       6       7      99 "
      ]
     },
     "metadata": {},
     "output_type": "display_data"
    },
    {
     "data": {
      "text/plain": [
       "\n",
       "  1   2   3   4   5   6   7   8  99 \n",
       " 59  40  64 128  97  71  86  76  11 "
      ]
     },
     "metadata": {},
     "output_type": "display_data"
    },
    {
     "data": {
      "image/png": "[encoded data removed]",
      "text/plain": [
       "Plot with title \"Histogram of data2$IncAwayW\""
      ]
     },
     "metadata": {},
     "output_type": "display_data"
    }
   ],
   "source": [
    "summary(data2$IncAwayW)\n",
    "table(data2$IncAwayW)\n",
    "hist(data2$IncAwayW)"
   ]
  },
  {
   "cell_type": "code",
   "execution_count": 10,
   "metadata": {
    "collapsed": false
   },
   "outputs": [
    {
     "data": {
      "text/html": [
       "<ol class=list-inline>\n",
       "\t<li>'Age'</li>\n",
       "\t<li>'Atti'</li>\n",
       "\t<li>'Atti1'</li>\n",
       "\t<li>'Atti2'</li>\n",
       "\t<li>'Atti3'</li>\n",
       "\t<li>'Atti4'</li>\n",
       "\t<li>'BillS'</li>\n",
       "\t<li>'BillW'</li>\n",
       "\t<li>'CashYN'</li>\n",
       "\t<li>'ComfNS'</li>\n",
       "\t<li>'ComfNS1'</li>\n",
       "\t<li>'ComfNS2'</li>\n",
       "\t<li>'ComfNS3'</li>\n",
       "\t<li>'ComfNW'</li>\n",
       "\t<li>'ComfNW1'</li>\n",
       "\t<li>'ComfNW2'</li>\n",
       "\t<li>'ControlN1'</li>\n",
       "\t<li>'ControlN2R'</li>\n",
       "\t<li>'ControlN3'</li>\n",
       "\t<li>'ControlN4'</li>\n",
       "\t<li>'ConvB1'</li>\n",
       "\t<li>'ConvB2'</li>\n",
       "\t<li>'ConvB3'</li>\n",
       "\t<li>'ConvB4'</li>\n",
       "\t<li>'Educ'</li>\n",
       "\t<li>'EmerRForm'</li>\n",
       "\t<li>'EnergyC'</li>\n",
       "\t<li>'EnergyC1'</li>\n",
       "\t<li>'EnergyC2'</li>\n",
       "\t<li>'EnergyC3'</li>\n",
       "\t<li>'EnergyC4'</li>\n",
       "\t<li>'Ethnic'</li>\n",
       "\t<li>'Frugal1'</li>\n",
       "\t<li>'Frugal2'</li>\n",
       "\t<li>'Frugal3'</li>\n",
       "\t<li>'Gender'</li>\n",
       "\t<li>'HabitC'</li>\n",
       "\t<li>'HabitC1'</li>\n",
       "\t<li>'HabitC2'</li>\n",
       "\t<li>'HabitC3'</li>\n",
       "\t<li>'HabitC4'</li>\n",
       "\t<li>'HabitC5'</li>\n",
       "\t<li>'HabitC6'</li>\n",
       "\t<li>'HabitC7'</li>\n",
       "\t<li>'HabitE1'</li>\n",
       "\t<li>'HabitE2'</li>\n",
       "\t<li>'HabitE3'</li>\n",
       "\t<li>'HabitG'</li>\n",
       "\t<li>'HomeS'</li>\n",
       "\t<li>'HouseholdS'</li>\n",
       "\t<li>'INT1'</li>\n",
       "\t<li>'INT2'</li>\n",
       "\t<li>'INT3'</li>\n",
       "\t<li>'INT4'</li>\n",
       "\t<li>'IncAutoS'</li>\n",
       "\t<li>'IncAutoW'</li>\n",
       "\t<li>'IncAwayS'</li>\n",
       "\t<li>'IncAwayW'</li>\n",
       "\t<li>'IncEmer10S'</li>\n",
       "\t<li>'IncEmer10W'</li>\n",
       "\t<li>'IncEmer30S'</li>\n",
       "\t<li>'IncEmer30W'</li>\n",
       "\t<li>'IncHomeS'</li>\n",
       "\t<li>'IncHomeW'</li>\n",
       "\t<li>'Income'</li>\n",
       "\t<li>'Latitude'</li>\n",
       "\t<li>'MC'</li>\n",
       "\t<li>'MC1'</li>\n",
       "\t<li>'MC2'</li>\n",
       "\t<li>'MC3'</li>\n",
       "\t<li>'MC4'</li>\n",
       "\t<li>'MC5'</li>\n",
       "\t<li>'MCBill'</li>\n",
       "\t<li>'OwnRent'</li>\n",
       "\t<li>'PBC1'</li>\n",
       "\t<li>'PBC2'</li>\n",
       "\t<li>'PBC3R'</li>\n",
       "\t<li>'PBC4'</li>\n",
       "\t<li>'PBC5'</li>\n",
       "\t<li>'Political'</li>\n",
       "\t<li>'RewardForm'</li>\n",
       "\t<li>'SN'</li>\n",
       "\t<li>'SN1'</li>\n",
       "\t<li>'SN2'</li>\n",
       "\t<li>'SN3'</li>\n",
       "\t<li>'SN4'</li>\n",
       "\t<li>'Sqft'</li>\n",
       "\t<li>'SqftCate'</li>\n",
       "\t<li>'State'</li>\n",
       "\t<li>'SubNorm'</li>\n",
       "\t<li>'SubNorm1'</li>\n",
       "\t<li>'SubNorm2'</li>\n",
       "\t<li>'SubNorm3'</li>\n",
       "\t<li>'Summer_avg'</li>\n",
       "\t<li>'Trust1'</li>\n",
       "\t<li>'Trust2'</li>\n",
       "\t<li>'Trust3'</li>\n",
       "\t<li>'Trust4'</li>\n",
       "\t<li>'Winter_avg'</li>\n",
       "\t<li>'X.9to5'</li>\n",
       "</ol>\n"
      ],
      "text/latex": [
       "\\begin{enumerate*}\n",
       "\\item 'Age'\n",
       "\\item 'Atti'\n",
       "\\item 'Atti1'\n",
       "\\item 'Atti2'\n",
       "\\item 'Atti3'\n",
       "\\item 'Atti4'\n",
       "\\item 'BillS'\n",
       "\\item 'BillW'\n",
       "\\item 'CashYN'\n",
       "\\item 'ComfNS'\n",
       "\\item 'ComfNS1'\n",
       "\\item 'ComfNS2'\n",
       "\\item 'ComfNS3'\n",
       "\\item 'ComfNW'\n",
       "\\item 'ComfNW1'\n",
       "\\item 'ComfNW2'\n",
       "\\item 'ControlN1'\n",
       "\\item 'ControlN2R'\n",
       "\\item 'ControlN3'\n",
       "\\item 'ControlN4'\n",
       "\\item 'ConvB1'\n",
       "\\item 'ConvB2'\n",
       "\\item 'ConvB3'\n",
       "\\item 'ConvB4'\n",
       "\\item 'Educ'\n",
       "\\item 'EmerRForm'\n",
       "\\item 'EnergyC'\n",
       "\\item 'EnergyC1'\n",
       "\\item 'EnergyC2'\n",
       "\\item 'EnergyC3'\n",
       "\\item 'EnergyC4'\n",
       "\\item 'Ethnic'\n",
       "\\item 'Frugal1'\n",
       "\\item 'Frugal2'\n",
       "\\item 'Frugal3'\n",
       "\\item 'Gender'\n",
       "\\item 'HabitC'\n",
       "\\item 'HabitC1'\n",
       "\\item 'HabitC2'\n",
       "\\item 'HabitC3'\n",
       "\\item 'HabitC4'\n",
       "\\item 'HabitC5'\n",
       "\\item 'HabitC6'\n",
       "\\item 'HabitC7'\n",
       "\\item 'HabitE1'\n",
       "\\item 'HabitE2'\n",
       "\\item 'HabitE3'\n",
       "\\item 'HabitG'\n",
       "\\item 'HomeS'\n",
       "\\item 'HouseholdS'\n",
       "\\item 'INT1'\n",
       "\\item 'INT2'\n",
       "\\item 'INT3'\n",
       "\\item 'INT4'\n",
       "\\item 'IncAutoS'\n",
       "\\item 'IncAutoW'\n",
       "\\item 'IncAwayS'\n",
       "\\item 'IncAwayW'\n",
       "\\item 'IncEmer10S'\n",
       "\\item 'IncEmer10W'\n",
       "\\item 'IncEmer30S'\n",
       "\\item 'IncEmer30W'\n",
       "\\item 'IncHomeS'\n",
       "\\item 'IncHomeW'\n",
       "\\item 'Income'\n",
       "\\item 'Latitude'\n",
       "\\item 'MC'\n",
       "\\item 'MC1'\n",
       "\\item 'MC2'\n",
       "\\item 'MC3'\n",
       "\\item 'MC4'\n",
       "\\item 'MC5'\n",
       "\\item 'MCBill'\n",
       "\\item 'OwnRent'\n",
       "\\item 'PBC1'\n",
       "\\item 'PBC2'\n",
       "\\item 'PBC3R'\n",
       "\\item 'PBC4'\n",
       "\\item 'PBC5'\n",
       "\\item 'Political'\n",
       "\\item 'RewardForm'\n",
       "\\item 'SN'\n",
       "\\item 'SN1'\n",
       "\\item 'SN2'\n",
       "\\item 'SN3'\n",
       "\\item 'SN4'\n",
       "\\item 'Sqft'\n",
       "\\item 'SqftCate'\n",
       "\\item 'State'\n",
       "\\item 'SubNorm'\n",
       "\\item 'SubNorm1'\n",
       "\\item 'SubNorm2'\n",
       "\\item 'SubNorm3'\n",
       "\\item 'Summer\\_avg'\n",
       "\\item 'Trust1'\n",
       "\\item 'Trust2'\n",
       "\\item 'Trust3'\n",
       "\\item 'Trust4'\n",
       "\\item 'Winter\\_avg'\n",
       "\\item 'X.9to5'\n",
       "\\end{enumerate*}\n"
      ],
      "text/markdown": [
       "1. 'Age'\n",
       "2. 'Atti'\n",
       "3. 'Atti1'\n",
       "4. 'Atti2'\n",
       "5. 'Atti3'\n",
       "6. 'Atti4'\n",
       "7. 'BillS'\n",
       "8. 'BillW'\n",
       "9. 'CashYN'\n",
       "10. 'ComfNS'\n",
       "11. 'ComfNS1'\n",
       "12. 'ComfNS2'\n",
       "13. 'ComfNS3'\n",
       "14. 'ComfNW'\n",
       "15. 'ComfNW1'\n",
       "16. 'ComfNW2'\n",
       "17. 'ControlN1'\n",
       "18. 'ControlN2R'\n",
       "19. 'ControlN3'\n",
       "20. 'ControlN4'\n",
       "21. 'ConvB1'\n",
       "22. 'ConvB2'\n",
       "23. 'ConvB3'\n",
       "24. 'ConvB4'\n",
       "25. 'Educ'\n",
       "26. 'EmerRForm'\n",
       "27. 'EnergyC'\n",
       "28. 'EnergyC1'\n",
       "29. 'EnergyC2'\n",
       "30. 'EnergyC3'\n",
       "31. 'EnergyC4'\n",
       "32. 'Ethnic'\n",
       "33. 'Frugal1'\n",
       "34. 'Frugal2'\n",
       "35. 'Frugal3'\n",
       "36. 'Gender'\n",
       "37. 'HabitC'\n",
       "38. 'HabitC1'\n",
       "39. 'HabitC2'\n",
       "40. 'HabitC3'\n",
       "41. 'HabitC4'\n",
       "42. 'HabitC5'\n",
       "43. 'HabitC6'\n",
       "44. 'HabitC7'\n",
       "45. 'HabitE1'\n",
       "46. 'HabitE2'\n",
       "47. 'HabitE3'\n",
       "48. 'HabitG'\n",
       "49. 'HomeS'\n",
       "50. 'HouseholdS'\n",
       "51. 'INT1'\n",
       "52. 'INT2'\n",
       "53. 'INT3'\n",
       "54. 'INT4'\n",
       "55. 'IncAutoS'\n",
       "56. 'IncAutoW'\n",
       "57. 'IncAwayS'\n",
       "58. 'IncAwayW'\n",
       "59. 'IncEmer10S'\n",
       "60. 'IncEmer10W'\n",
       "61. 'IncEmer30S'\n",
       "62. 'IncEmer30W'\n",
       "63. 'IncHomeS'\n",
       "64. 'IncHomeW'\n",
       "65. 'Income'\n",
       "66. 'Latitude'\n",
       "67. 'MC'\n",
       "68. 'MC1'\n",
       "69. 'MC2'\n",
       "70. 'MC3'\n",
       "71. 'MC4'\n",
       "72. 'MC5'\n",
       "73. 'MCBill'\n",
       "74. 'OwnRent'\n",
       "75. 'PBC1'\n",
       "76. 'PBC2'\n",
       "77. 'PBC3R'\n",
       "78. 'PBC4'\n",
       "79. 'PBC5'\n",
       "80. 'Political'\n",
       "81. 'RewardForm'\n",
       "82. 'SN'\n",
       "83. 'SN1'\n",
       "84. 'SN2'\n",
       "85. 'SN3'\n",
       "86. 'SN4'\n",
       "87. 'Sqft'\n",
       "88. 'SqftCate'\n",
       "89. 'State'\n",
       "90. 'SubNorm'\n",
       "91. 'SubNorm1'\n",
       "92. 'SubNorm2'\n",
       "93. 'SubNorm3'\n",
       "94. 'Summer_avg'\n",
       "95. 'Trust1'\n",
       "96. 'Trust2'\n",
       "97. 'Trust3'\n",
       "98. 'Trust4'\n",
       "99. 'Winter_avg'\n",
       "100. 'X.9to5'\n",
       "\n",
       "\n"
      ],
      "text/plain": [
       "  [1] \"Age\"        \"Atti\"       \"Atti1\"      \"Atti2\"      \"Atti3\"     \n",
       "  [6] \"Atti4\"      \"BillS\"      \"BillW\"      \"CashYN\"     \"ComfNS\"    \n",
       " [11] \"ComfNS1\"    \"ComfNS2\"    \"ComfNS3\"    \"ComfNW\"     \"ComfNW1\"   \n",
       " [16] \"ComfNW2\"    \"ControlN1\"  \"ControlN2R\" \"ControlN3\"  \"ControlN4\" \n",
       " [21] \"ConvB1\"     \"ConvB2\"     \"ConvB3\"     \"ConvB4\"     \"Educ\"      \n",
       " [26] \"EmerRForm\"  \"EnergyC\"    \"EnergyC1\"   \"EnergyC2\"   \"EnergyC3\"  \n",
       " [31] \"EnergyC4\"   \"Ethnic\"     \"Frugal1\"    \"Frugal2\"    \"Frugal3\"   \n",
       " [36] \"Gender\"     \"HabitC\"     \"HabitC1\"    \"HabitC2\"    \"HabitC3\"   \n",
       " [41] \"HabitC4\"    \"HabitC5\"    \"HabitC6\"    \"HabitC7\"    \"HabitE1\"   \n",
       " [46] \"HabitE2\"    \"HabitE3\"    \"HabitG\"     \"HomeS\"      \"HouseholdS\"\n",
       " [51] \"INT1\"       \"INT2\"       \"INT3\"       \"INT4\"       \"IncAutoS\"  \n",
       " [56] \"IncAutoW\"   \"IncAwayS\"   \"IncAwayW\"   \"IncEmer10S\" \"IncEmer10W\"\n",
       " [61] \"IncEmer30S\" \"IncEmer30W\" \"IncHomeS\"   \"IncHomeW\"   \"Income\"    \n",
       " [66] \"Latitude\"   \"MC\"         \"MC1\"        \"MC2\"        \"MC3\"       \n",
       " [71] \"MC4\"        \"MC5\"        \"MCBill\"     \"OwnRent\"    \"PBC1\"      \n",
       " [76] \"PBC2\"       \"PBC3R\"      \"PBC4\"       \"PBC5\"       \"Political\" \n",
       " [81] \"RewardForm\" \"SN\"         \"SN1\"        \"SN2\"        \"SN3\"       \n",
       " [86] \"SN4\"        \"Sqft\"       \"SqftCate\"   \"State\"      \"SubNorm\"   \n",
       " [91] \"SubNorm1\"   \"SubNorm2\"   \"SubNorm3\"   \"Summer_avg\" \"Trust1\"    \n",
       " [96] \"Trust2\"     \"Trust3\"     \"Trust4\"     \"Winter_avg\" \"X.9to5\"    "
      ]
     },
     "metadata": {},
     "output_type": "display_data"
    }
   ],
   "source": [
    "sort(names(data2))"
   ]
  },
  {
   "cell_type": "code",
   "execution_count": 11,
   "metadata": {
    "collapsed": false
   },
   "outputs": [],
   "source": [
    "#names(data2)\n",
    "#These are only variables we really care about\n",
    "IVS = c(\"Age\",\n",
    "\"Gender\",\n",
    "\"OwnRent\",\n",
    "\"SqftCate\",\n",
    "\"HouseholdS\",\n",
    "\"Political\",\n",
    "\"Ethnic\",\n",
    "\"Income\",\n",
    "\"Educ\",\n",
    "\"Frugal\",\n",
    "\"MC\",\n",
    "\"EnergyC\",\n",
    "\"Trust\",\n",
    "\"ComfNS\",\n",
    "\"Atti\",\n",
    "\"SubNorm\",\n",
    "\"PBC\",\n",
    "\"SN\",\n",
    "\"HabitG\",\n",
    "\"HabitC\",\n",
    "\"Latitude\",\n",
    "\"Winter_avg\",     \n",
    "\"HomeW\")"
   ]
  },
  {
   "cell_type": "code",
   "execution_count": 12,
   "metadata": {
    "collapsed": false
   },
   "outputs": [
    {
     "data": {
      "text/html": [
       "<ol class=list-inline>\n",
       "\t<li>'Age'</li>\n",
       "\t<li>'Atti'</li>\n",
       "\t<li>'Atti1'</li>\n",
       "\t<li>'Atti2'</li>\n",
       "\t<li>'Atti3'</li>\n",
       "\t<li>'Atti4'</li>\n",
       "\t<li>'BillS'</li>\n",
       "\t<li>'BillW'</li>\n",
       "\t<li>'CashYN'</li>\n",
       "\t<li>'ComfNS'</li>\n",
       "\t<li>'ComfNS1'</li>\n",
       "\t<li>'ComfNS2'</li>\n",
       "\t<li>'ComfNS3'</li>\n",
       "\t<li>'ComfNW'</li>\n",
       "\t<li>'ComfNW1'</li>\n",
       "\t<li>'ComfNW2'</li>\n",
       "\t<li>'ControlN1'</li>\n",
       "\t<li>'ControlN2R'</li>\n",
       "\t<li>'ControlN3'</li>\n",
       "\t<li>'ControlN4'</li>\n",
       "\t<li>'ConvB1'</li>\n",
       "\t<li>'ConvB2'</li>\n",
       "\t<li>'ConvB3'</li>\n",
       "\t<li>'ConvB4'</li>\n",
       "\t<li>'Educ'</li>\n",
       "\t<li>'EmerRForm'</li>\n",
       "\t<li>'EnergyC'</li>\n",
       "\t<li>'EnergyC1'</li>\n",
       "\t<li>'EnergyC2'</li>\n",
       "\t<li>'EnergyC3'</li>\n",
       "\t<li>'EnergyC4'</li>\n",
       "\t<li>'Ethnic'</li>\n",
       "\t<li>'Frugal1'</li>\n",
       "\t<li>'Frugal2'</li>\n",
       "\t<li>'Frugal3'</li>\n",
       "\t<li>'Gender'</li>\n",
       "\t<li>'HabitC'</li>\n",
       "\t<li>'HabitC1'</li>\n",
       "\t<li>'HabitC2'</li>\n",
       "\t<li>'HabitC3'</li>\n",
       "\t<li>'HabitC4'</li>\n",
       "\t<li>'HabitC5'</li>\n",
       "\t<li>'HabitC6'</li>\n",
       "\t<li>'HabitC7'</li>\n",
       "\t<li>'HabitE1'</li>\n",
       "\t<li>'HabitE2'</li>\n",
       "\t<li>'HabitE3'</li>\n",
       "\t<li>'HabitG'</li>\n",
       "\t<li>'HomeS'</li>\n",
       "\t<li>'HouseholdS'</li>\n",
       "\t<li>'INT1'</li>\n",
       "\t<li>'INT2'</li>\n",
       "\t<li>'INT3'</li>\n",
       "\t<li>'INT4'</li>\n",
       "\t<li>'IncAutoS'</li>\n",
       "\t<li>'IncAutoW'</li>\n",
       "\t<li>'IncAwayS'</li>\n",
       "\t<li>'IncAwayW'</li>\n",
       "\t<li>'IncEmer10S'</li>\n",
       "\t<li>'IncEmer10W'</li>\n",
       "\t<li>'IncEmer30S'</li>\n",
       "\t<li>'IncEmer30W'</li>\n",
       "\t<li>'IncHomeS'</li>\n",
       "\t<li>'IncHomeW'</li>\n",
       "\t<li>'Income'</li>\n",
       "\t<li>'Latitude'</li>\n",
       "\t<li>'MC'</li>\n",
       "\t<li>'MC1'</li>\n",
       "\t<li>'MC2'</li>\n",
       "\t<li>'MC3'</li>\n",
       "\t<li>'MC4'</li>\n",
       "\t<li>'MC5'</li>\n",
       "\t<li>'MCBill'</li>\n",
       "\t<li>'OwnRent'</li>\n",
       "\t<li>'PBC1'</li>\n",
       "\t<li>'PBC2'</li>\n",
       "\t<li>'PBC3R'</li>\n",
       "\t<li>'PBC4'</li>\n",
       "\t<li>'PBC5'</li>\n",
       "\t<li>'Political'</li>\n",
       "\t<li>'RewardForm'</li>\n",
       "\t<li>'SN'</li>\n",
       "\t<li>'SN1'</li>\n",
       "\t<li>'SN2'</li>\n",
       "\t<li>'SN3'</li>\n",
       "\t<li>'SN4'</li>\n",
       "\t<li>'Sqft'</li>\n",
       "\t<li>'SqftCate'</li>\n",
       "\t<li>'State'</li>\n",
       "\t<li>'SubNorm'</li>\n",
       "\t<li>'SubNorm1'</li>\n",
       "\t<li>'SubNorm2'</li>\n",
       "\t<li>'SubNorm3'</li>\n",
       "\t<li>'Summer_avg'</li>\n",
       "\t<li>'Trust1'</li>\n",
       "\t<li>'Trust2'</li>\n",
       "\t<li>'Trust3'</li>\n",
       "\t<li>'Trust4'</li>\n",
       "\t<li>'Winter_avg'</li>\n",
       "\t<li>'X.9to5'</li>\n",
       "</ol>\n"
      ],
      "text/latex": [
       "\\begin{enumerate*}\n",
       "\\item 'Age'\n",
       "\\item 'Atti'\n",
       "\\item 'Atti1'\n",
       "\\item 'Atti2'\n",
       "\\item 'Atti3'\n",
       "\\item 'Atti4'\n",
       "\\item 'BillS'\n",
       "\\item 'BillW'\n",
       "\\item 'CashYN'\n",
       "\\item 'ComfNS'\n",
       "\\item 'ComfNS1'\n",
       "\\item 'ComfNS2'\n",
       "\\item 'ComfNS3'\n",
       "\\item 'ComfNW'\n",
       "\\item 'ComfNW1'\n",
       "\\item 'ComfNW2'\n",
       "\\item 'ControlN1'\n",
       "\\item 'ControlN2R'\n",
       "\\item 'ControlN3'\n",
       "\\item 'ControlN4'\n",
       "\\item 'ConvB1'\n",
       "\\item 'ConvB2'\n",
       "\\item 'ConvB3'\n",
       "\\item 'ConvB4'\n",
       "\\item 'Educ'\n",
       "\\item 'EmerRForm'\n",
       "\\item 'EnergyC'\n",
       "\\item 'EnergyC1'\n",
       "\\item 'EnergyC2'\n",
       "\\item 'EnergyC3'\n",
       "\\item 'EnergyC4'\n",
       "\\item 'Ethnic'\n",
       "\\item 'Frugal1'\n",
       "\\item 'Frugal2'\n",
       "\\item 'Frugal3'\n",
       "\\item 'Gender'\n",
       "\\item 'HabitC'\n",
       "\\item 'HabitC1'\n",
       "\\item 'HabitC2'\n",
       "\\item 'HabitC3'\n",
       "\\item 'HabitC4'\n",
       "\\item 'HabitC5'\n",
       "\\item 'HabitC6'\n",
       "\\item 'HabitC7'\n",
       "\\item 'HabitE1'\n",
       "\\item 'HabitE2'\n",
       "\\item 'HabitE3'\n",
       "\\item 'HabitG'\n",
       "\\item 'HomeS'\n",
       "\\item 'HouseholdS'\n",
       "\\item 'INT1'\n",
       "\\item 'INT2'\n",
       "\\item 'INT3'\n",
       "\\item 'INT4'\n",
       "\\item 'IncAutoS'\n",
       "\\item 'IncAutoW'\n",
       "\\item 'IncAwayS'\n",
       "\\item 'IncAwayW'\n",
       "\\item 'IncEmer10S'\n",
       "\\item 'IncEmer10W'\n",
       "\\item 'IncEmer30S'\n",
       "\\item 'IncEmer30W'\n",
       "\\item 'IncHomeS'\n",
       "\\item 'IncHomeW'\n",
       "\\item 'Income'\n",
       "\\item 'Latitude'\n",
       "\\item 'MC'\n",
       "\\item 'MC1'\n",
       "\\item 'MC2'\n",
       "\\item 'MC3'\n",
       "\\item 'MC4'\n",
       "\\item 'MC5'\n",
       "\\item 'MCBill'\n",
       "\\item 'OwnRent'\n",
       "\\item 'PBC1'\n",
       "\\item 'PBC2'\n",
       "\\item 'PBC3R'\n",
       "\\item 'PBC4'\n",
       "\\item 'PBC5'\n",
       "\\item 'Political'\n",
       "\\item 'RewardForm'\n",
       "\\item 'SN'\n",
       "\\item 'SN1'\n",
       "\\item 'SN2'\n",
       "\\item 'SN3'\n",
       "\\item 'SN4'\n",
       "\\item 'Sqft'\n",
       "\\item 'SqftCate'\n",
       "\\item 'State'\n",
       "\\item 'SubNorm'\n",
       "\\item 'SubNorm1'\n",
       "\\item 'SubNorm2'\n",
       "\\item 'SubNorm3'\n",
       "\\item 'Summer\\_avg'\n",
       "\\item 'Trust1'\n",
       "\\item 'Trust2'\n",
       "\\item 'Trust3'\n",
       "\\item 'Trust4'\n",
       "\\item 'Winter\\_avg'\n",
       "\\item 'X.9to5'\n",
       "\\end{enumerate*}\n"
      ],
      "text/markdown": [
       "1. 'Age'\n",
       "2. 'Atti'\n",
       "3. 'Atti1'\n",
       "4. 'Atti2'\n",
       "5. 'Atti3'\n",
       "6. 'Atti4'\n",
       "7. 'BillS'\n",
       "8. 'BillW'\n",
       "9. 'CashYN'\n",
       "10. 'ComfNS'\n",
       "11. 'ComfNS1'\n",
       "12. 'ComfNS2'\n",
       "13. 'ComfNS3'\n",
       "14. 'ComfNW'\n",
       "15. 'ComfNW1'\n",
       "16. 'ComfNW2'\n",
       "17. 'ControlN1'\n",
       "18. 'ControlN2R'\n",
       "19. 'ControlN3'\n",
       "20. 'ControlN4'\n",
       "21. 'ConvB1'\n",
       "22. 'ConvB2'\n",
       "23. 'ConvB3'\n",
       "24. 'ConvB4'\n",
       "25. 'Educ'\n",
       "26. 'EmerRForm'\n",
       "27. 'EnergyC'\n",
       "28. 'EnergyC1'\n",
       "29. 'EnergyC2'\n",
       "30. 'EnergyC3'\n",
       "31. 'EnergyC4'\n",
       "32. 'Ethnic'\n",
       "33. 'Frugal1'\n",
       "34. 'Frugal2'\n",
       "35. 'Frugal3'\n",
       "36. 'Gender'\n",
       "37. 'HabitC'\n",
       "38. 'HabitC1'\n",
       "39. 'HabitC2'\n",
       "40. 'HabitC3'\n",
       "41. 'HabitC4'\n",
       "42. 'HabitC5'\n",
       "43. 'HabitC6'\n",
       "44. 'HabitC7'\n",
       "45. 'HabitE1'\n",
       "46. 'HabitE2'\n",
       "47. 'HabitE3'\n",
       "48. 'HabitG'\n",
       "49. 'HomeS'\n",
       "50. 'HouseholdS'\n",
       "51. 'INT1'\n",
       "52. 'INT2'\n",
       "53. 'INT3'\n",
       "54. 'INT4'\n",
       "55. 'IncAutoS'\n",
       "56. 'IncAutoW'\n",
       "57. 'IncAwayS'\n",
       "58. 'IncAwayW'\n",
       "59. 'IncEmer10S'\n",
       "60. 'IncEmer10W'\n",
       "61. 'IncEmer30S'\n",
       "62. 'IncEmer30W'\n",
       "63. 'IncHomeS'\n",
       "64. 'IncHomeW'\n",
       "65. 'Income'\n",
       "66. 'Latitude'\n",
       "67. 'MC'\n",
       "68. 'MC1'\n",
       "69. 'MC2'\n",
       "70. 'MC3'\n",
       "71. 'MC4'\n",
       "72. 'MC5'\n",
       "73. 'MCBill'\n",
       "74. 'OwnRent'\n",
       "75. 'PBC1'\n",
       "76. 'PBC2'\n",
       "77. 'PBC3R'\n",
       "78. 'PBC4'\n",
       "79. 'PBC5'\n",
       "80. 'Political'\n",
       "81. 'RewardForm'\n",
       "82. 'SN'\n",
       "83. 'SN1'\n",
       "84. 'SN2'\n",
       "85. 'SN3'\n",
       "86. 'SN4'\n",
       "87. 'Sqft'\n",
       "88. 'SqftCate'\n",
       "89. 'State'\n",
       "90. 'SubNorm'\n",
       "91. 'SubNorm1'\n",
       "92. 'SubNorm2'\n",
       "93. 'SubNorm3'\n",
       "94. 'Summer_avg'\n",
       "95. 'Trust1'\n",
       "96. 'Trust2'\n",
       "97. 'Trust3'\n",
       "98. 'Trust4'\n",
       "99. 'Winter_avg'\n",
       "100. 'X.9to5'\n",
       "\n",
       "\n"
      ],
      "text/plain": [
       "  [1] \"Age\"        \"Atti\"       \"Atti1\"      \"Atti2\"      \"Atti3\"     \n",
       "  [6] \"Atti4\"      \"BillS\"      \"BillW\"      \"CashYN\"     \"ComfNS\"    \n",
       " [11] \"ComfNS1\"    \"ComfNS2\"    \"ComfNS3\"    \"ComfNW\"     \"ComfNW1\"   \n",
       " [16] \"ComfNW2\"    \"ControlN1\"  \"ControlN2R\" \"ControlN3\"  \"ControlN4\" \n",
       " [21] \"ConvB1\"     \"ConvB2\"     \"ConvB3\"     \"ConvB4\"     \"Educ\"      \n",
       " [26] \"EmerRForm\"  \"EnergyC\"    \"EnergyC1\"   \"EnergyC2\"   \"EnergyC3\"  \n",
       " [31] \"EnergyC4\"   \"Ethnic\"     \"Frugal1\"    \"Frugal2\"    \"Frugal3\"   \n",
       " [36] \"Gender\"     \"HabitC\"     \"HabitC1\"    \"HabitC2\"    \"HabitC3\"   \n",
       " [41] \"HabitC4\"    \"HabitC5\"    \"HabitC6\"    \"HabitC7\"    \"HabitE1\"   \n",
       " [46] \"HabitE2\"    \"HabitE3\"    \"HabitG\"     \"HomeS\"      \"HouseholdS\"\n",
       " [51] \"INT1\"       \"INT2\"       \"INT3\"       \"INT4\"       \"IncAutoS\"  \n",
       " [56] \"IncAutoW\"   \"IncAwayS\"   \"IncAwayW\"   \"IncEmer10S\" \"IncEmer10W\"\n",
       " [61] \"IncEmer30S\" \"IncEmer30W\" \"IncHomeS\"   \"IncHomeW\"   \"Income\"    \n",
       " [66] \"Latitude\"   \"MC\"         \"MC1\"        \"MC2\"        \"MC3\"       \n",
       " [71] \"MC4\"        \"MC5\"        \"MCBill\"     \"OwnRent\"    \"PBC1\"      \n",
       " [76] \"PBC2\"       \"PBC3R\"      \"PBC4\"       \"PBC5\"       \"Political\" \n",
       " [81] \"RewardForm\" \"SN\"         \"SN1\"        \"SN2\"        \"SN3\"       \n",
       " [86] \"SN4\"        \"Sqft\"       \"SqftCate\"   \"State\"      \"SubNorm\"   \n",
       " [91] \"SubNorm1\"   \"SubNorm2\"   \"SubNorm3\"   \"Summer_avg\" \"Trust1\"    \n",
       " [96] \"Trust2\"     \"Trust3\"     \"Trust4\"     \"Winter_avg\" \"X.9to5\"    "
      ]
     },
     "metadata": {},
     "output_type": "display_data"
    },
    {
     "data": {
      "text/html": [
       "<ol class=list-inline>\n",
       "\t<li>'Age'</li>\n",
       "\t<li>'Atti'</li>\n",
       "\t<li>'ComfNS'</li>\n",
       "\t<li>'Educ'</li>\n",
       "\t<li>'EnergyC'</li>\n",
       "\t<li>'Ethnic'</li>\n",
       "\t<li>'Frugal'</li>\n",
       "\t<li>'Gender'</li>\n",
       "\t<li>'HabitC'</li>\n",
       "\t<li>'HabitG'</li>\n",
       "\t<li>'HomeW'</li>\n",
       "\t<li>'HouseholdS'</li>\n",
       "\t<li>'Income'</li>\n",
       "\t<li>'Latitude'</li>\n",
       "\t<li>'MC'</li>\n",
       "\t<li>'OwnRent'</li>\n",
       "\t<li>'PBC'</li>\n",
       "\t<li>'Political'</li>\n",
       "\t<li>'SN'</li>\n",
       "\t<li>'SqftCate'</li>\n",
       "\t<li>'SubNorm'</li>\n",
       "\t<li>'Trust'</li>\n",
       "\t<li>'Winter_avg'</li>\n",
       "</ol>\n"
      ],
      "text/latex": [
       "\\begin{enumerate*}\n",
       "\\item 'Age'\n",
       "\\item 'Atti'\n",
       "\\item 'ComfNS'\n",
       "\\item 'Educ'\n",
       "\\item 'EnergyC'\n",
       "\\item 'Ethnic'\n",
       "\\item 'Frugal'\n",
       "\\item 'Gender'\n",
       "\\item 'HabitC'\n",
       "\\item 'HabitG'\n",
       "\\item 'HomeW'\n",
       "\\item 'HouseholdS'\n",
       "\\item 'Income'\n",
       "\\item 'Latitude'\n",
       "\\item 'MC'\n",
       "\\item 'OwnRent'\n",
       "\\item 'PBC'\n",
       "\\item 'Political'\n",
       "\\item 'SN'\n",
       "\\item 'SqftCate'\n",
       "\\item 'SubNorm'\n",
       "\\item 'Trust'\n",
       "\\item 'Winter\\_avg'\n",
       "\\end{enumerate*}\n"
      ],
      "text/markdown": [
       "1. 'Age'\n",
       "2. 'Atti'\n",
       "3. 'ComfNS'\n",
       "4. 'Educ'\n",
       "5. 'EnergyC'\n",
       "6. 'Ethnic'\n",
       "7. 'Frugal'\n",
       "8. 'Gender'\n",
       "9. 'HabitC'\n",
       "10. 'HabitG'\n",
       "11. 'HomeW'\n",
       "12. 'HouseholdS'\n",
       "13. 'Income'\n",
       "14. 'Latitude'\n",
       "15. 'MC'\n",
       "16. 'OwnRent'\n",
       "17. 'PBC'\n",
       "18. 'Political'\n",
       "19. 'SN'\n",
       "20. 'SqftCate'\n",
       "21. 'SubNorm'\n",
       "22. 'Trust'\n",
       "23. 'Winter_avg'\n",
       "\n",
       "\n"
      ],
      "text/plain": [
       " [1] \"Age\"        \"Atti\"       \"ComfNS\"     \"Educ\"       \"EnergyC\"   \n",
       " [6] \"Ethnic\"     \"Frugal\"     \"Gender\"     \"HabitC\"     \"HabitG\"    \n",
       "[11] \"HomeW\"      \"HouseholdS\" \"Income\"     \"Latitude\"   \"MC\"        \n",
       "[16] \"OwnRent\"    \"PBC\"        \"Political\"  \"SN\"         \"SqftCate\"  \n",
       "[21] \"SubNorm\"    \"Trust\"      \"Winter_avg\""
      ]
     },
     "metadata": {},
     "output_type": "display_data"
    }
   ],
   "source": [
    "sort(names(data2))\n",
    "paste(sort(IVS))"
   ]
  },
  {
   "cell_type": "code",
   "execution_count": 13,
   "metadata": {
    "collapsed": false
   },
   "outputs": [
    {
     "data": {
      "text/html": [
       "<ol class=list-inline>\n",
       "\t<li>'Age'</li>\n",
       "\t<li>'Atti'</li>\n",
       "\t<li>'ComfNS'</li>\n",
       "\t<li>'Educ'</li>\n",
       "\t<li>'EnergyC'</li>\n",
       "\t<li>'Ethnic'</li>\n",
       "\t<li>'Gender'</li>\n",
       "\t<li>'HabitC'</li>\n",
       "\t<li>'HabitG'</li>\n",
       "\t<li>'HouseholdS'</li>\n",
       "\t<li>'IncAwayW'</li>\n",
       "\t<li>'Income'</li>\n",
       "\t<li>'Latitude'</li>\n",
       "\t<li>'MC'</li>\n",
       "\t<li>'OwnRent'</li>\n",
       "\t<li>'Political'</li>\n",
       "\t<li>'SN'</li>\n",
       "\t<li>'SqftCate'</li>\n",
       "\t<li>'SubNorm'</li>\n",
       "\t<li>'Winter_avg'</li>\n",
       "</ol>\n"
      ],
      "text/latex": [
       "\\begin{enumerate*}\n",
       "\\item 'Age'\n",
       "\\item 'Atti'\n",
       "\\item 'ComfNS'\n",
       "\\item 'Educ'\n",
       "\\item 'EnergyC'\n",
       "\\item 'Ethnic'\n",
       "\\item 'Gender'\n",
       "\\item 'HabitC'\n",
       "\\item 'HabitG'\n",
       "\\item 'HouseholdS'\n",
       "\\item 'IncAwayW'\n",
       "\\item 'Income'\n",
       "\\item 'Latitude'\n",
       "\\item 'MC'\n",
       "\\item 'OwnRent'\n",
       "\\item 'Political'\n",
       "\\item 'SN'\n",
       "\\item 'SqftCate'\n",
       "\\item 'SubNorm'\n",
       "\\item 'Winter\\_avg'\n",
       "\\end{enumerate*}\n"
      ],
      "text/markdown": [
       "1. 'Age'\n",
       "2. 'Atti'\n",
       "3. 'ComfNS'\n",
       "4. 'Educ'\n",
       "5. 'EnergyC'\n",
       "6. 'Ethnic'\n",
       "7. 'Gender'\n",
       "8. 'HabitC'\n",
       "9. 'HabitG'\n",
       "10. 'HouseholdS'\n",
       "11. 'IncAwayW'\n",
       "12. 'Income'\n",
       "13. 'Latitude'\n",
       "14. 'MC'\n",
       "15. 'OwnRent'\n",
       "16. 'Political'\n",
       "17. 'SN'\n",
       "18. 'SqftCate'\n",
       "19. 'SubNorm'\n",
       "20. 'Winter_avg'\n",
       "\n",
       "\n"
      ],
      "text/plain": [
       " [1] \"Age\"        \"Atti\"       \"ComfNS\"     \"Educ\"       \"EnergyC\"   \n",
       " [6] \"Ethnic\"     \"Gender\"     \"HabitC\"     \"HabitG\"     \"HouseholdS\"\n",
       "[11] \"IncAwayW\"   \"Income\"     \"Latitude\"   \"MC\"         \"OwnRent\"   \n",
       "[16] \"Political\"  \"SN\"         \"SqftCate\"   \"SubNorm\"    \"Winter_avg\""
      ]
     },
     "metadata": {},
     "output_type": "display_data"
    }
   ],
   "source": [
    "data1 <- data2[, which(names(data2) %in% c(\"IncAwayW\",IVS))];\n",
    "sort(names(data1))"
   ]
  },
  {
   "cell_type": "code",
   "execution_count": 14,
   "metadata": {
    "collapsed": true
   },
   "outputs": [],
   "source": [
    "#Check to see if there are anymore missing values\n",
    "for (n in names(data1)){\n",
    "    nmis = sum(is.na(data1[,n]))\n",
    "    if(nmis >1)  print (c(n, sum(is.na(data1[,n]))))\n",
    "}"
   ]
  },
  {
   "cell_type": "code",
   "execution_count": 15,
   "metadata": {
    "collapsed": false
   },
   "outputs": [],
   "source": [
    "#names(data1)\n",
    "\n",
    "#Fields with lots of missing values\n",
    "for (n in names(data1)){\n",
    "    nmis = sum(is.na(data1[,n]))\n",
    "    if(nmis >1)  print (c(n, sum(is.na(data1[,n]))))\n",
    "}\n",
    "    \n",
    "    \n",
    "# What about high correlations?\n",
    "hiCor <- function(x, level){\n",
    "  res <- cor(x,method=\"spearman\");\n",
    "  res1 <- res; res1[res<0] <- -res[res < 0];\n",
    "  for (i in 1:dim(x)[2]){\n",
    "    res1[i,i] <- 0;\n",
    "  }\n",
    "  sel <- apply(res1,1,max,na.rm=T) > level;\n",
    "  res[sel,sel];\n",
    "}\n",
    "#hiCor(data1,.75)"
   ]
  },
  {
   "cell_type": "code",
   "execution_count": 16,
   "metadata": {
    "collapsed": false
   },
   "outputs": [
    {
     "data": {
      "text/html": [
       "<ol class=list-inline>\n",
       "\t<li>'IncAwayW'</li>\n",
       "\t<li>'Age'</li>\n",
       "\t<li>'Gender'</li>\n",
       "\t<li>'OwnRent'</li>\n",
       "\t<li>'SqftCate'</li>\n",
       "\t<li>'HouseholdS'</li>\n",
       "\t<li>'Political'</li>\n",
       "\t<li>'Ethnic'</li>\n",
       "\t<li>'Income'</li>\n",
       "\t<li>'Educ'</li>\n",
       "\t<li>'Latitude'</li>\n",
       "\t<li>'EnergyC'</li>\n",
       "\t<li>'MC'</li>\n",
       "\t<li>'ComfNS'</li>\n",
       "\t<li>'Atti'</li>\n",
       "\t<li>'SubNorm'</li>\n",
       "\t<li>'SN'</li>\n",
       "\t<li>'HabitG'</li>\n",
       "\t<li>'HabitC'</li>\n",
       "\t<li>'Winter_avg'</li>\n",
       "</ol>\n"
      ],
      "text/latex": [
       "\\begin{enumerate*}\n",
       "\\item 'IncAwayW'\n",
       "\\item 'Age'\n",
       "\\item 'Gender'\n",
       "\\item 'OwnRent'\n",
       "\\item 'SqftCate'\n",
       "\\item 'HouseholdS'\n",
       "\\item 'Political'\n",
       "\\item 'Ethnic'\n",
       "\\item 'Income'\n",
       "\\item 'Educ'\n",
       "\\item 'Latitude'\n",
       "\\item 'EnergyC'\n",
       "\\item 'MC'\n",
       "\\item 'ComfNS'\n",
       "\\item 'Atti'\n",
       "\\item 'SubNorm'\n",
       "\\item 'SN'\n",
       "\\item 'HabitG'\n",
       "\\item 'HabitC'\n",
       "\\item 'Winter\\_avg'\n",
       "\\end{enumerate*}\n"
      ],
      "text/markdown": [
       "1. 'IncAwayW'\n",
       "2. 'Age'\n",
       "3. 'Gender'\n",
       "4. 'OwnRent'\n",
       "5. 'SqftCate'\n",
       "6. 'HouseholdS'\n",
       "7. 'Political'\n",
       "8. 'Ethnic'\n",
       "9. 'Income'\n",
       "10. 'Educ'\n",
       "11. 'Latitude'\n",
       "12. 'EnergyC'\n",
       "13. 'MC'\n",
       "14. 'ComfNS'\n",
       "15. 'Atti'\n",
       "16. 'SubNorm'\n",
       "17. 'SN'\n",
       "18. 'HabitG'\n",
       "19. 'HabitC'\n",
       "20. 'Winter_avg'\n",
       "\n",
       "\n"
      ],
      "text/plain": [
       " [1] \"IncAwayW\"   \"Age\"        \"Gender\"     \"OwnRent\"    \"SqftCate\"  \n",
       " [6] \"HouseholdS\" \"Political\"  \"Ethnic\"     \"Income\"     \"Educ\"      \n",
       "[11] \"Latitude\"   \"EnergyC\"    \"MC\"         \"ComfNS\"     \"Atti\"      \n",
       "[16] \"SubNorm\"    \"SN\"         \"HabitG\"     \"HabitC\"     \"Winter_avg\""
      ]
     },
     "metadata": {},
     "output_type": "display_data"
    }
   ],
   "source": [
    "data2 <- data1;\n",
    "data2 <- na.omit(data2)\n",
    "names(data2)"
   ]
  },
  {
   "cell_type": "code",
   "execution_count": 17,
   "metadata": {
    "collapsed": true
   },
   "outputs": [],
   "source": [
    "#Check to see if there are anymore missing values\n",
    "for (n in names(data2)){\n",
    "    nmis = sum(is.na(data2[,n]))\n",
    "    if(nmis >1)  print (c(n, sum(is.na(data2[,n]))))\n",
    "}"
   ]
  },
  {
   "cell_type": "code",
   "execution_count": 18,
   "metadata": {
    "collapsed": false
   },
   "outputs": [
    {
     "data": {
      "text/html": [
       "<table>\n",
       "<thead><tr><th></th><th scope=col>Latitude</th><th scope=col>Winter_avg</th></tr></thead>\n",
       "<tbody>\n",
       "\t<tr><th scope=row>Latitude</th><td>1.00</td><td>0.82</td></tr>\n",
       "\t<tr><th scope=row>Winter_avg</th><td>0.82</td><td>1.00</td></tr>\n",
       "</tbody>\n",
       "</table>\n"
      ],
      "text/latex": [
       "\\begin{tabular}{r|ll}\n",
       "  & Latitude & Winter\\_avg\\\\\n",
       "\\hline\n",
       "\tLatitude & 1.00 & 0.82\\\\\n",
       "\tWinter\\_avg & 0.82 & 1.00\\\\\n",
       "\\end{tabular}\n"
      ],
      "text/markdown": [
       "1. 1\n",
       "2. 0.819818741465419\n",
       "3. 0.819818741465419\n",
       "4. 1\n",
       "\n",
       "\n"
      ],
      "text/plain": [
       "           Latitude Winter_avg\n",
       "Latitude   1.00     0.82      \n",
       "Winter_avg 0.82     1.00      "
      ]
     },
     "metadata": {},
     "output_type": "display_data"
    }
   ],
   "source": [
    "hiCor(data2,.7)"
   ]
  },
  {
   "cell_type": "code",
   "execution_count": 19,
   "metadata": {
    "collapsed": false
   },
   "outputs": [
    {
     "name": "stdout",
     "output_type": "stream",
     "text": [
      "[1] 0.14\n",
      "    EnergyC    MC  Atti SubNorm    SN HabitG HabitC\n",
      "PC1   -0.42 -0.34 -0.44   -0.37 -0.23  -0.32  -0.28\n",
      "[1] 0.25\n",
      "      Age OwnRent SqftCate HouseholdS Income\n",
      "PC2 -0.34    -0.5    -0.52      -0.28  -0.43\n",
      "[1] 0.34\n",
      "    Latitude ComfNS Winter_avg\n",
      "PC3    -0.65   0.21      -0.65\n",
      "[1] 0.41\n",
      "      Age Gender HouseholdS Ethnic  Educ HabitC\n",
      "PC4 -0.21   0.37       0.55  -0.27 -0.45  -0.27\n",
      "[1] 0.48\n",
      "    Political Ethnic Income  Educ EnergyC   MC HabitG HabitC\n",
      "PC5     -0.53   0.23  -0.22 -0.39   -0.24 0.21   0.42   0.29\n",
      "[1] 0.53\n",
      "     Age Gender Ethnic Income ComfNS    SN\n",
      "PC6 0.47    0.4   0.41  -0.22   0.36 -0.28\n",
      "[1] 0.59\n",
      "    OwnRent Ethnic  Educ ComfNS SubNorm    SN\n",
      "PC7    0.21  -0.26 -0.26  -0.56    -0.4 -0.48\n",
      "[1] 0.63\n",
      "    IncAwayW Gender HabitG\n",
      "PC8    -0.89  -0.24   0.24\n",
      "[1] 0.68\n",
      "      Age HouseholdS Political Ethnic EnergyC   MC    SN HabitC\n",
      "PC9 -0.38       0.25     -0.21   0.31    0.21 0.45 -0.35  -0.37\n",
      "[1] 0.72\n",
      "     IncAwayW Gender Ethnic Income    MC ComfNS Winter_avg\n",
      "PC10    -0.27   0.32   0.51   -0.2 -0.31  -0.44      -0.21\n",
      "[1] 0.76\n",
      "     Gender Political Ethnic  Educ   SN\n",
      "PC11  -0.54      0.35   0.37 -0.47 0.22\n",
      "[1] 0.8\n",
      "      Age Political Income ComfNS   SN HabitG HabitC\n",
      "PC12 0.24     -0.36  -0.27  -0.43 0.41  -0.33  -0.41\n",
      "[1] 0.83\n",
      "     Gender Political EnergyC   MC Atti   SN HabitG HabitC\n",
      "PC13   0.23      0.47   -0.34 0.42 -0.3 0.28   0.29  -0.24\n",
      "[1] 0.86\n",
      "       Age Income EnergyC Atti SubNorm   SN\n",
      "PC14 -0.25   0.27    0.21 0.24   -0.69 0.36\n",
      "[1] 0.89\n",
      "     Income    MC HabitG HabitC\n",
      "PC15   0.34 -0.43   0.58  -0.45\n",
      "[1] 0.92\n",
      "       Age OwnRent HouseholdS\n",
      "PC16 -0.45     0.7      -0.28\n",
      "[1] 0.94\n",
      "     Gender HouseholdS Income Educ SubNorm HabitG\n",
      "PC17   0.22      -0.32   0.56 -0.5    0.28  -0.24\n",
      "[1] 0.97\n",
      "     OwnRent SqftCate HouseholdS\n",
      "PC18   -0.31     0.73      -0.47\n",
      "[1] 0.99\n",
      "     EnergyC Atti\n",
      "PC19    0.63 -0.7\n",
      "[1] 1\n",
      "     Latitude Winter_avg\n",
      "PC20      0.7       -0.7\n"
     ]
    }
   ],
   "source": [
    "res<-prcomp(data2, retx=F,scale=T)$rotation[,1:20];\n",
    "resAbs <- res;\n",
    "resAbs[res<0] <- -res[res<0];\n",
    "z <- cumsum(prcomp(data2, retx=F,scale=T)$sdev^2)/\n",
    "     sum(prcomp(data2, retx=F,scale=T)$sdev^2)\n",
    "\n",
    "for (i in 1:20){\n",
    "  print(z[i]);\n",
    "  print(t(res[resAbs[,i]>.2,i,drop=FALSE]));\n",
    "}\n"
   ]
  },
  {
   "cell_type": "code",
   "execution_count": 20,
   "metadata": {
    "collapsed": false
   },
   "outputs": [
    {
     "data": {
      "image/png": "[encoded data removed]",
      "text/plain": [
       "plot without title"
      ]
     },
     "metadata": {},
     "output_type": "display_data"
    }
   ],
   "source": [
    "plot(1:dim(data2)[2],cumsum(prcomp(data2, retx=F,scale=T)$sdev^2)/\n",
    "     sum(prcomp(data2, retx=F,scale=T)$sdev^2),\n",
    "     ylim=c(0,1),xlab=\"Number of coponents\",\n",
    "     ylab=\"Fraction of variance\");"
   ]
  },
  {
   "cell_type": "code",
   "execution_count": 21,
   "metadata": {
    "collapsed": true
   },
   "outputs": [],
   "source": [
    "res <- c();\n",
    "vnam <- names(data2);\n",
    "for (i in 2:dim(data2)[2]){\n",
    "  fmla <- as.formula(paste(vnam[i],paste(vnam[-c(1,i)],collapse=\"+\"),sep=\"~\"));\n",
    "  res <- rbind(res,c(i,round(summary(lm(fmla,data=data2))$r.squared,2)));\n",
    "}"
   ]
  },
  {
   "cell_type": "code",
   "execution_count": 22,
   "metadata": {
    "collapsed": false
   },
   "outputs": [
    {
     "data": {
      "text/html": [
       "<table>\n",
       "<tbody>\n",
       "\t<tr><th scope=row>Latitude</th><td>11  </td><td>0.51</td></tr>\n",
       "\t<tr><th scope=row>Winter_avg</th><td>20  </td><td>0.51</td></tr>\n",
       "\t<tr><th scope=row>Atti</th><td>15  </td><td>0.42</td></tr>\n",
       "\t<tr><th scope=row>EnergyC</th><td>12  </td><td>0.39</td></tr>\n",
       "\t<tr><th scope=row>SqftCate</th><td> 5  </td><td>0.36</td></tr>\n",
       "\t<tr><th scope=row>OwnRent</th><td> 4  </td><td>0.31</td></tr>\n",
       "\t<tr><th scope=row>Income</th><td> 9  </td><td>0.26</td></tr>\n",
       "\t<tr><th scope=row>HouseholdS</th><td> 6  </td><td>0.25</td></tr>\n",
       "\t<tr><th scope=row>SubNorm</th><td>16  </td><td>0.25</td></tr>\n",
       "\t<tr><th scope=row>MC</th><td>13  </td><td>0.22</td></tr>\n",
       "\t<tr><th scope=row>HabitG</th><td>18  </td><td>0.22</td></tr>\n",
       "\t<tr><th scope=row>Age</th><td> 2  </td><td>0.20</td></tr>\n",
       "\t<tr><th scope=row>HabitC</th><td>19  </td><td>0.19</td></tr>\n",
       "\t<tr><th scope=row>Educ</th><td>10  </td><td>0.16</td></tr>\n",
       "\t<tr><th scope=row>Political</th><td> 7  </td><td>0.15</td></tr>\n",
       "\t<tr><th scope=row>SN</th><td>17  </td><td>0.14</td></tr>\n",
       "\t<tr><th scope=row>Gender</th><td> 3  </td><td>0.13</td></tr>\n",
       "\t<tr><th scope=row>ComfNS</th><td>14  </td><td>0.09</td></tr>\n",
       "\t<tr><th scope=row>Ethnic</th><td> 8  </td><td>0.07</td></tr>\n",
       "</tbody>\n",
       "</table>\n"
      ],
      "text/latex": [
       "\\begin{tabular}{r|ll}\n",
       "\tLatitude & 11   & 0.51\\\\\n",
       "\tWinter\\_avg & 20   & 0.51\\\\\n",
       "\tAtti & 15   & 0.42\\\\\n",
       "\tEnergyC & 12   & 0.39\\\\\n",
       "\tSqftCate &  5   & 0.36\\\\\n",
       "\tOwnRent &  4   & 0.31\\\\\n",
       "\tIncome &  9   & 0.26\\\\\n",
       "\tHouseholdS &  6   & 0.25\\\\\n",
       "\tSubNorm & 16   & 0.25\\\\\n",
       "\tMC & 13   & 0.22\\\\\n",
       "\tHabitG & 18   & 0.22\\\\\n",
       "\tAge &  2   & 0.20\\\\\n",
       "\tHabitC & 19   & 0.19\\\\\n",
       "\tEduc & 10   & 0.16\\\\\n",
       "\tPolitical &  7   & 0.15\\\\\n",
       "\tSN & 17   & 0.14\\\\\n",
       "\tGender &  3   & 0.13\\\\\n",
       "\tComfNS & 14   & 0.09\\\\\n",
       "\tEthnic &  8   & 0.07\\\\\n",
       "\\end{tabular}\n"
      ],
      "text/markdown": [
       "1. 11\n",
       "2. 20\n",
       "3. 15\n",
       "4. 12\n",
       "5. 5\n",
       "6. 4\n",
       "7. 9\n",
       "8. 6\n",
       "9. 16\n",
       "10. 13\n",
       "11. 18\n",
       "12. 2\n",
       "13. 19\n",
       "14. 10\n",
       "15. 7\n",
       "16. 17\n",
       "17. 3\n",
       "18. 14\n",
       "19. 8\n",
       "20. 0.51\n",
       "21. 0.51\n",
       "22. 0.42\n",
       "23. 0.39\n",
       "24. 0.36\n",
       "25. 0.31\n",
       "26. 0.26\n",
       "27. 0.25\n",
       "28. 0.25\n",
       "29. 0.22\n",
       "30. 0.22\n",
       "31. 0.2\n",
       "32. 0.19\n",
       "33. 0.16\n",
       "34. 0.15\n",
       "35. 0.14\n",
       "36. 0.13\n",
       "37. 0.09\n",
       "38. 0.07\n",
       "\n",
       "\n"
      ],
      "text/plain": [
       "           [,1] [,2]\n",
       "Latitude   11   0.51\n",
       "Winter_avg 20   0.51\n",
       "Atti       15   0.42\n",
       "EnergyC    12   0.39\n",
       "SqftCate    5   0.36\n",
       "OwnRent     4   0.31\n",
       "Income      9   0.26\n",
       "HouseholdS  6   0.25\n",
       "SubNorm    16   0.25\n",
       "MC         13   0.22\n",
       "HabitG     18   0.22\n",
       "Age         2   0.20\n",
       "HabitC     19   0.19\n",
       "Educ       10   0.16\n",
       "Political   7   0.15\n",
       "SN         17   0.14\n",
       "Gender      3   0.13\n",
       "ComfNS     14   0.09\n",
       "Ethnic      8   0.07"
      ]
     },
     "metadata": {},
     "output_type": "display_data"
    }
   ],
   "source": [
    "row.names(res) <- vnam[res[,1]];\n",
    "o = order(-res[,2]);\n",
    "res[o,][res[o,2]<.7,]"
   ]
  },
  {
   "cell_type": "code",
   "execution_count": 23,
   "metadata": {
    "collapsed": false
   },
   "outputs": [],
   "source": [
    "IndepPred <- row.names(res[o,][res[o,2]<.7,])"
   ]
  },
  {
   "cell_type": "code",
   "execution_count": 24,
   "metadata": {
    "collapsed": false
   },
   "outputs": [],
   "source": [
    "#IndepPred = c('Atti', 'EnergyC', 'SqftCate', 'OwnRent', 'MC', 'HouseholdS', 'Income', 'SubNorm', 'HabitC', 'Educ', 'PBC', 'Political', 'Gender', 'ComfNS', 'Latitude', 'Ethnic')\n",
    "IndepPred = c('Age', 'Gender', 'OwnRent', 'SqftCate', 'HouseholdS', 'Political', 'Ethnic', 'Income', 'Educ', 'Latitude', 'EnergyC', 'MC', 'ComfNS', 'HabitC', 'Winter_avg')"
   ]
  },
  {
   "cell_type": "code",
   "execution_count": 25,
   "metadata": {
    "collapsed": true
   },
   "outputs": [],
   "source": [
    "fmla <- as.formula(paste(\"IncAwayW\",paste(IndepPred,collapse=\"+\"),sep=\"~\"));"
   ]
  },
  {
   "cell_type": "code",
   "execution_count": 26,
   "metadata": {
    "collapsed": false
   },
   "outputs": [
    {
     "data": {
      "text/plain": [
       "\n",
       "  1   2   3   4   5   6   7   8  99 \n",
       " 59  40  64 128  97  71  86  76  11 "
      ]
     },
     "metadata": {},
     "output_type": "display_data"
    }
   ],
   "source": [
    "table(data2[,\"IncAwayW\"])"
   ]
  },
  {
   "cell_type": "code",
   "execution_count": 27,
   "metadata": {
    "collapsed": false
   },
   "outputs": [
    {
     "data": {
      "text/plain": [
       "\n",
       "Call:\n",
       "lm(formula = fmla, data = data2)\n",
       "\n",
       "Residuals:\n",
       "   Min     1Q Median     3Q    Max \n",
       "-11.40  -3.55  -1.56   0.67  92.96 \n",
       "\n",
       "Coefficients:\n",
       "            Estimate Std. Error t value Pr(>|t|)  \n",
       "(Intercept)  15.6368     6.6037    2.37    0.018 *\n",
       "Age           0.0581     0.0496    1.17    0.242  \n",
       "Gender       -0.5922     1.0564   -0.56    0.575  \n",
       "OwnRent      -0.9569     1.1520   -0.83    0.406  \n",
       "SqftCate     -0.6697     0.5569   -1.20    0.230  \n",
       "HouseholdS    0.0987     0.4725    0.21    0.835  \n",
       "Political    -0.7229     0.6503   -1.11    0.267  \n",
       "Ethnic        1.3243     1.3607    0.97    0.331  \n",
       "Income        0.5156     0.2922    1.76    0.078 .\n",
       "Educ         -0.6707     0.4841   -1.39    0.166  \n",
       "Latitude     -0.1314     0.1377   -0.95    0.340  \n",
       "EnergyC      -0.2847     0.4001   -0.71    0.477  \n",
       "MC           -0.1101     0.4940   -0.22    0.824  \n",
       "ComfNS       -0.3379     0.3538   -0.96    0.340  \n",
       "HabitC        0.5677     0.3687    1.54    0.124  \n",
       "Winter_avg   -0.9229     0.9334   -0.99    0.323  \n",
       "---\n",
       "Signif. codes:  0 '***' 0.001 '**' 0.01 '*' 0.05 '.' 0.1 ' ' 1\n",
       "\n",
       "Residual standard error: 12 on 616 degrees of freedom\n",
       "Multiple R-squared:  0.0292,\tAdjusted R-squared:  0.00554 \n",
       "F-statistic: 1.23 on 15 and 616 DF,  p-value: 0.24\n"
      ]
     },
     "metadata": {},
     "output_type": "display_data"
    }
   ],
   "source": [
    "mod = lm(fmla,data=data2)\n",
    "summary(mod)"
   ]
  },
  {
   "cell_type": "code",
   "execution_count": 28,
   "metadata": {
    "collapsed": false
   },
   "outputs": [
    {
     "data": {
      "text/plain": [
       "\n",
       "Call:\n",
       "lm(formula = fmla, data = data2, subset = data2$Latitude < 37)\n",
       "\n",
       "Residuals:\n",
       "   Min     1Q Median     3Q    Max \n",
       "-15.73  -5.21  -2.06   0.53  88.78 \n",
       "\n",
       "Coefficients:\n",
       "            Estimate Std. Error t value Pr(>|t|)  \n",
       "(Intercept)  32.9370    15.7554    2.09    0.038 *\n",
       "Age          -0.0324     0.1024   -0.32    0.752  \n",
       "Gender       -1.6916     2.1416   -0.79    0.430  \n",
       "OwnRent      -2.3828     2.2813   -1.04    0.297  \n",
       "SqftCate     -0.8781     1.1261   -0.78    0.436  \n",
       "HouseholdS    0.1469     0.8910    0.16    0.869  \n",
       "Political     0.3328     1.3599    0.24    0.807  \n",
       "Ethnic        1.8934     2.5103    0.75    0.451  \n",
       "Income        0.8819     0.5719    1.54    0.124  \n",
       "Educ         -0.0907     0.9881   -0.09    0.927  \n",
       "Latitude     -0.2492     0.3148   -0.79    0.429  \n",
       "EnergyC      -1.2556     0.8284   -1.52    0.131  \n",
       "MC           -1.0111     1.0586   -0.96    0.340  \n",
       "ComfNS       -0.7437     0.7123   -1.04    0.297  \n",
       "HabitC        1.0101     0.7402    1.36    0.174  \n",
       "Winter_avg   -3.1537     4.4269   -0.71    0.477  \n",
       "---\n",
       "Signif. codes:  0 '***' 0.001 '**' 0.01 '*' 0.05 '.' 0.1 ' ' 1\n",
       "\n",
       "Residual standard error: 16 on 255 degrees of freedom\n",
       "Multiple R-squared:  0.0556,\tAdjusted R-squared:  4.89e-05 \n",
       "F-statistic:    1 on 15 and 255 DF,  p-value: 0.455\n"
      ]
     },
     "metadata": {},
     "output_type": "display_data"
    }
   ],
   "source": [
    "mod = lm(fmla,data=data2,subs=data2$Latitude<37)\n",
    "summary(mod)"
   ]
  },
  {
   "cell_type": "code",
   "execution_count": 29,
   "metadata": {
    "collapsed": false
   },
   "outputs": [
    {
     "data": {
      "text/plain": [
       "\n",
       "Call:\n",
       "lm(formula = fmla, data = data2, subset = data2$Latitude > 37)\n",
       "\n",
       "Residuals:\n",
       "   Min     1Q Median     3Q    Max \n",
       "-10.18  -2.64  -0.46   1.52  86.75 \n",
       "\n",
       "Coefficients:\n",
       "            Estimate Std. Error t value Pr(>|t|)   \n",
       "(Intercept)  -1.0111     8.5689   -0.12   0.9061   \n",
       "Age           0.1233     0.0445    2.77   0.0059 **\n",
       "Gender       -0.0611     0.9719   -0.06   0.9499   \n",
       "OwnRent       1.0943     1.0912    1.00   0.3166   \n",
       "SqftCate     -0.9043     0.5072   -1.78   0.0755 . \n",
       "HouseholdS    0.2889     0.4620    0.63   0.5321   \n",
       "Political    -1.2463     0.5841   -2.13   0.0336 * \n",
       "Ethnic        1.1350     1.3781    0.82   0.4107   \n",
       "Income        0.1287     0.2741    0.47   0.6390   \n",
       "Educ         -1.0138     0.4393   -2.31   0.0216 * \n",
       "Latitude      0.0154     0.1867    0.08   0.9343   \n",
       "EnergyC       0.4455     0.3601    1.24   0.2169   \n",
       "MC            0.6559     0.4369    1.50   0.1342   \n",
       "ComfNS        0.1476     0.3317    0.44   0.6566   \n",
       "HabitC        0.3364     0.3410    0.99   0.3246   \n",
       "Winter_avg   -0.9797     0.8021   -1.22   0.2228   \n",
       "---\n",
       "Signif. codes:  0 '***' 0.001 '**' 0.01 '*' 0.05 '.' 0.1 ' ' 1\n",
       "\n",
       "Residual standard error: 8.6 on 345 degrees of freedom\n",
       "Multiple R-squared:  0.0826,\tAdjusted R-squared:  0.0427 \n",
       "F-statistic: 2.07 on 15 and 345 DF,  p-value: 0.0109\n"
      ]
     },
     "metadata": {},
     "output_type": "display_data"
    }
   ],
   "source": [
    "mod = lm(fmla,data=data2,subs=data2$Latitude>37)\n",
    "summary(mod)"
   ]
  },
  {
   "cell_type": "code",
   "execution_count": 30,
   "metadata": {
    "collapsed": false
   },
   "outputs": [
    {
     "data": {
      "text/plain": [
       "\n",
       "Call:\n",
       "lm(formula = fmla, data = data2, subset = data2$Winter_avg == \n",
       "    3)\n",
       "\n",
       "Residuals:\n",
       "   Min     1Q Median     3Q    Max \n",
       "-4.587 -1.331 -0.057  1.744  3.898 \n",
       "\n",
       "Coefficients: (1 not defined because of singularities)\n",
       "            Estimate Std. Error t value Pr(>|t|)  \n",
       "(Intercept)   5.1730     3.1422    1.65    0.103  \n",
       "Age           0.0244     0.0188    1.30    0.197  \n",
       "Gender        0.3539     0.4374    0.81    0.420  \n",
       "OwnRent       0.1299     0.4858    0.27    0.790  \n",
       "SqftCate     -0.3234     0.2264   -1.43    0.156  \n",
       "HouseholdS    0.1693     0.2047    0.83    0.410  \n",
       "Political    -0.0528     0.2611   -0.20    0.840  \n",
       "Ethnic        1.2172     0.6553    1.86    0.066 .\n",
       "Income       -0.1229     0.1247   -0.99    0.327  \n",
       "Educ         -0.0781     0.2053   -0.38    0.705  \n",
       "Latitude     -0.0667     0.0507   -1.32    0.191  \n",
       "EnergyC       0.0865     0.1666    0.52    0.605  \n",
       "MC           -0.0355     0.2140   -0.17    0.869  \n",
       "ComfNS        0.3538     0.1392    2.54    0.013 *\n",
       "HabitC       -0.1606     0.1491   -1.08    0.284  \n",
       "Winter_avg        NA         NA      NA       NA  \n",
       "---\n",
       "Signif. codes:  0 '***' 0.001 '**' 0.01 '*' 0.05 '.' 0.1 ' ' 1\n",
       "\n",
       "Residual standard error: 2.1 on 101 degrees of freedom\n",
       "Multiple R-squared:  0.158,\tAdjusted R-squared:  0.0416 \n",
       "F-statistic: 1.36 on 14 and 101 DF,  p-value: 0.189\n"
      ]
     },
     "metadata": {},
     "output_type": "display_data"
    }
   ],
   "source": [
    "#17 states with highest winter average temp\n",
    "mod = lm(fmla,data=data2,subs=data2$Winter_avg==3)\n",
    "summary(mod)"
   ]
  },
  {
   "cell_type": "code",
   "execution_count": 32,
   "metadata": {
    "collapsed": false
   },
   "outputs": [
    {
     "data": {
      "text/plain": [
       "\n",
       "Call:\n",
       "lm(formula = fmla, data = data2, subset = data2$Winter_avg == \n",
       "    2)\n",
       "\n",
       "Residuals:\n",
       "   Min     1Q Median     3Q    Max \n",
       "-14.33  -2.94  -0.65   1.97  81.65 \n",
       "\n",
       "Coefficients: (1 not defined because of singularities)\n",
       "            Estimate Std. Error t value Pr(>|t|)   \n",
       "(Intercept)  -6.9427    11.1499   -0.62   0.5343   \n",
       "Age           0.1778     0.0678    2.62   0.0094 **\n",
       "Gender       -0.6324     1.4067   -0.45   0.6536   \n",
       "OwnRent       1.3735     1.5542    0.88   0.3780   \n",
       "SqftCate     -0.8434     0.7316   -1.15   0.2504   \n",
       "HouseholdS   -0.1357     0.6675   -0.20   0.8391   \n",
       "Political    -1.3723     0.8356   -1.64   0.1022   \n",
       "Ethnic        0.9170     1.9330    0.47   0.6358   \n",
       "Income        0.0940     0.3990    0.24   0.8140   \n",
       "Educ         -1.4928     0.6150   -2.43   0.0161 * \n",
       "Latitude      0.1498     0.2221    0.67   0.5010   \n",
       "EnergyC       0.5557     0.5012    1.11   0.2690   \n",
       "MC            0.9641     0.6009    1.60   0.1103   \n",
       "ComfNS       -0.3783     0.4857   -0.78   0.4370   \n",
       "HabitC        0.6074     0.4656    1.30   0.1936   \n",
       "Winter_avg        NA         NA      NA       NA   \n",
       "---\n",
       "Signif. codes:  0 '***' 0.001 '**' 0.01 '*' 0.05 '.' 0.1 ' ' 1\n",
       "\n",
       "Residual standard error: 9.2 on 190 degrees of freedom\n",
       "Multiple R-squared:  0.13,\tAdjusted R-squared:  0.0657 \n",
       "F-statistic: 2.02 on 14 and 190 DF,  p-value: 0.0179\n"
      ]
     },
     "metadata": {},
     "output_type": "display_data"
    }
   ],
   "source": [
    "#17 middle states according to average winter temp\n",
    "mod = lm(fmla,data=data2,subs=data2$Winter_avg==2)\n",
    "summary(mod)"
   ]
  },
  {
   "cell_type": "code",
   "execution_count": 34,
   "metadata": {
    "collapsed": false
   },
   "outputs": [
    {
     "data": {
      "text/plain": [
       "\n",
       "Call:\n",
       "lm(formula = fmla, data = data2, subset = data2$Winter_avg == \n",
       "    1)\n",
       "\n",
       "Residuals:\n",
       "   Min     1Q Median     3Q    Max \n",
       "-13.25  -5.26  -2.32   0.03  91.71 \n",
       "\n",
       "Coefficients: (1 not defined because of singularities)\n",
       "            Estimate Std. Error t value Pr(>|t|)  \n",
       "(Intercept)  25.2766    12.5580    2.01    0.045 *\n",
       "Age           0.0179     0.0919    0.19    0.846  \n",
       "Gender       -0.7339     1.9607   -0.37    0.708  \n",
       "OwnRent      -2.4002     2.1466   -1.12    0.264  \n",
       "SqftCate     -0.9117     1.0305   -0.88    0.377  \n",
       "HouseholdS    0.5229     0.8359    0.63    0.532  \n",
       "Political    -0.1373     1.2319   -0.11    0.911  \n",
       "Ethnic        2.0604     2.3568    0.87    0.383  \n",
       "Income        0.8778     0.5237    1.68    0.095 .\n",
       "Educ         -0.2216     0.9177   -0.24    0.809  \n",
       "Latitude     -0.2745     0.2617   -1.05    0.295  \n",
       "EnergyC      -1.0795     0.7659   -1.41    0.160  \n",
       "MC           -0.7485     0.9538   -0.78    0.433  \n",
       "ComfNS       -0.5509     0.6670   -0.83    0.409  \n",
       "HabitC        0.8013     0.7066    1.13    0.258  \n",
       "Winter_avg        NA         NA      NA       NA  \n",
       "---\n",
       "Signif. codes:  0 '***' 0.001 '**' 0.01 '*' 0.05 '.' 0.1 ' ' 1\n",
       "\n",
       "Residual standard error: 16 on 296 degrees of freedom\n",
       "Multiple R-squared:  0.0411,\tAdjusted R-squared:  -0.00422 \n",
       "F-statistic: 0.907 on 14 and 296 DF,  p-value: 0.552\n"
      ]
     },
     "metadata": {},
     "output_type": "display_data"
    }
   ],
   "source": [
    "#bottom 17 states according to average winter temp\n",
    "mod = lm(fmla,data=data2,subs=data2$Winter_avg==1)\n",
    "summary(mod)"
   ]
  },
  {
   "cell_type": "code",
   "execution_count": 35,
   "metadata": {
    "collapsed": false
   },
   "outputs": [
    {
     "data": {
      "text/html": [
       "<table>\n",
       "<thead><tr><th></th><th scope=col>Df</th><th scope=col>Sum Sq</th><th scope=col>Mean Sq</th><th scope=col>F value</th><th scope=col>Pr(&gt;F)</th></tr></thead>\n",
       "<tbody>\n",
       "\t<tr><th scope=row>Age</th><td>  1    </td><td>   25.3</td><td> 25.3  </td><td>0.099  </td><td>0.754  </td></tr>\n",
       "\t<tr><th scope=row>Gender</th><td>  1    </td><td>  188.9</td><td>188.9  </td><td>0.737  </td><td>0.391  </td></tr>\n",
       "\t<tr><th scope=row>OwnRent</th><td>  1    </td><td>  327.6</td><td>327.6  </td><td>1.278  </td><td>0.259  </td></tr>\n",
       "\t<tr><th scope=row>SqftCate</th><td>  1    </td><td>    2.9</td><td>  2.9  </td><td>0.011  </td><td>0.915  </td></tr>\n",
       "\t<tr><th scope=row>HouseholdS</th><td>  1    </td><td>   29.4</td><td> 29.4  </td><td>0.115  </td><td>0.735  </td></tr>\n",
       "\t<tr><th scope=row>Political</th><td>  1    </td><td>  162.1</td><td>162.1  </td><td>0.632  </td><td>0.427  </td></tr>\n",
       "\t<tr><th scope=row>Ethnic</th><td>  1    </td><td>  179.8</td><td>179.8  </td><td>0.701  </td><td>0.403  </td></tr>\n",
       "\t<tr><th scope=row>Income</th><td>  1    </td><td>  799.2</td><td>799.2  </td><td>3.119  </td><td>0.078  </td></tr>\n",
       "\t<tr><th scope=row>Educ</th><td>  1    </td><td>   14.6</td><td> 14.6  </td><td>0.057  </td><td>0.811  </td></tr>\n",
       "\t<tr><th scope=row>Latitude</th><td>  1    </td><td>  320.1</td><td>320.1  </td><td>1.249  </td><td>0.265  </td></tr>\n",
       "\t<tr><th scope=row>EnergyC</th><td>  1    </td><td>  581.4</td><td>581.4  </td><td>2.268  </td><td>0.133  </td></tr>\n",
       "\t<tr><th scope=row>MC</th><td>  1    </td><td>   63.3</td><td> 63.3  </td><td>0.247  </td><td>0.620  </td></tr>\n",
       "\t<tr><th scope=row>ComfNS</th><td>  1    </td><td>  230.1</td><td>230.1  </td><td>0.898  </td><td>0.344  </td></tr>\n",
       "\t<tr><th scope=row>HabitC</th><td>  1    </td><td>  329.6</td><td>329.6  </td><td>1.286  </td><td>0.258  </td></tr>\n",
       "\t<tr><th scope=row>Residuals</th><td>296    </td><td>75858.1</td><td>256.3  </td><td>   NA  </td><td>   NA  </td></tr>\n",
       "</tbody>\n",
       "</table>\n"
      ],
      "text/latex": [
       "\\begin{tabular}{r|lllll}\n",
       "  & Df & Sum Sq & Mean Sq & F value & Pr(>F)\\\\\n",
       "\\hline\n",
       "\tAge &   1     &    25.3 &  25.3   & 0.099   & 0.754  \\\\\n",
       "\tGender &   1     &   188.9 & 188.9   & 0.737   & 0.391  \\\\\n",
       "\tOwnRent &   1     &   327.6 & 327.6   & 1.278   & 0.259  \\\\\n",
       "\tSqftCate &   1     &     2.9 &   2.9   & 0.011   & 0.915  \\\\\n",
       "\tHouseholdS &   1     &    29.4 &  29.4   & 0.115   & 0.735  \\\\\n",
       "\tPolitical &   1     &   162.1 & 162.1   & 0.632   & 0.427  \\\\\n",
       "\tEthnic &   1     &   179.8 & 179.8   & 0.701   & 0.403  \\\\\n",
       "\tIncome &   1     &   799.2 & 799.2   & 3.119   & 0.078  \\\\\n",
       "\tEduc &   1     &    14.6 &  14.6   & 0.057   & 0.811  \\\\\n",
       "\tLatitude &   1     &   320.1 & 320.1   & 1.249   & 0.265  \\\\\n",
       "\tEnergyC &   1     &   581.4 & 581.4   & 2.268   & 0.133  \\\\\n",
       "\tMC &   1     &    63.3 &  63.3   & 0.247   & 0.620  \\\\\n",
       "\tComfNS &   1     &   230.1 & 230.1   & 0.898   & 0.344  \\\\\n",
       "\tHabitC &   1     &   329.6 & 329.6   & 1.286   & 0.258  \\\\\n",
       "\tResiduals & 296     & 75858.1 & 256.3   &    NA   &    NA  \\\\\n",
       "\\end{tabular}\n"
      ],
      "text/plain": [
       "           Df  Sum Sq  Mean Sq F value Pr(>F)\n",
       "Age          1    25.3  25.3   0.099   0.754 \n",
       "Gender       1   188.9 188.9   0.737   0.391 \n",
       "OwnRent      1   327.6 327.6   1.278   0.259 \n",
       "SqftCate     1     2.9   2.9   0.011   0.915 \n",
       "HouseholdS   1    29.4  29.4   0.115   0.735 \n",
       "Political    1   162.1 162.1   0.632   0.427 \n",
       "Ethnic       1   179.8 179.8   0.701   0.403 \n",
       "Income       1   799.2 799.2   3.119   0.078 \n",
       "Educ         1    14.6  14.6   0.057   0.811 \n",
       "Latitude     1   320.1 320.1   1.249   0.265 \n",
       "EnergyC      1   581.4 581.4   2.268   0.133 \n",
       "MC           1    63.3  63.3   0.247   0.620 \n",
       "ComfNS       1   230.1 230.1   0.898   0.344 \n",
       "HabitC       1   329.6 329.6   1.286   0.258 \n",
       "Residuals  296 75858.1 256.3      NA      NA "
      ]
     },
     "metadata": {},
     "output_type": "display_data"
    }
   ],
   "source": [
    "anova(mod)"
   ]
  },
  {
   "cell_type": "code",
   "execution_count": 36,
   "metadata": {
    "collapsed": false
   },
   "outputs": [
    {
     "name": "stdout",
     "output_type": "stream",
     "text": [
      "\n",
      "Call:\n",
      "factanal(x = data2, factors = 2, rotation = \"varimax\")\n",
      "\n",
      "Uniquenesses:\n",
      "  IncAwayW        Age     Gender    OwnRent   SqftCate HouseholdS  Political \n",
      "      0.99       0.99       0.92       1.00       1.00       0.99       0.94 \n",
      "    Ethnic     Income       Educ   Latitude    EnergyC         MC     ComfNS \n",
      "      0.97       0.99       0.98       0.31       0.52       0.79       0.95 \n",
      "      Atti    SubNorm         SN     HabitG     HabitC Winter_avg \n",
      "      0.42       0.76       0.92       0.85       0.90       0.28 \n",
      "\n",
      "Loadings:\n",
      "           Factor1 Factor2\n",
      "EnergyC     0.69          \n",
      "Atti        0.76          \n",
      "Latitude            0.83  \n",
      "Winter_avg          0.85  \n",
      "IncAwayW                  \n",
      "Age                       \n",
      "Gender                    \n",
      "OwnRent                   \n",
      "SqftCate                  \n",
      "HouseholdS                \n",
      "Political                 \n",
      "Ethnic                    \n",
      "Income                    \n",
      "Educ                      \n",
      "MC          0.44          \n",
      "ComfNS                    \n",
      "SubNorm     0.49          \n",
      "SN                        \n",
      "HabitG      0.37          \n",
      "HabitC      0.32          \n",
      "\n",
      "               Factor1 Factor2\n",
      "SS loadings        2.0    1.52\n",
      "Proportion Var     0.1    0.08\n",
      "Cumulative Var     0.1    0.18\n",
      "\n",
      "Test of the hypothesis that 2 factors are sufficient.\n",
      "The chi square statistic is 925 on 151 degrees of freedom.\n",
      "The p-value is 2.5e-111 \n"
     ]
    }
   ],
   "source": [
    "fit <- factanal(data2, 2, rotation=\"varimax\")\n",
    "print(fit, digits=2, cutoff=.3, sort=TRUE)"
   ]
  },
  {
   "cell_type": "code",
   "execution_count": 168,
   "metadata": {
    "collapsed": false
   },
   "outputs": [
    {
     "data": {
      "text/plain": [
       "\n",
       "Call:\n",
       "lm(formula = IncHomeS ~ ComfNS + EnergyC + Age + Ethnic + MC + \n",
       "    Political + Educ, data = data2)\n",
       "\n",
       "Residuals:\n",
       "   Min     1Q Median     3Q    Max \n",
       "-4.422 -1.111 -0.151  0.985  4.816 \n",
       "\n",
       "Coefficients:\n",
       "            Estimate Std. Error t value Pr(>|t|)    \n",
       "(Intercept)  2.38581    0.59224    4.03  6.3e-05 ***\n",
       "ComfNS       0.37014    0.04774    7.75  3.7e-14 ***\n",
       "EnergyC     -0.09642    0.05315   -1.81  0.07016 .  \n",
       "Age          0.02134    0.00617    3.46  0.00058 ***\n",
       "Ethnic      -0.42435    0.18204   -2.33  0.02007 *  \n",
       "MC          -0.05075    0.06598   -0.77  0.44208    \n",
       "Political    0.09324    0.08700    1.07  0.28426    \n",
       "Educ         0.00636    0.06230    0.10  0.91875    \n",
       "---\n",
       "Signif. codes:  0 '***' 0.001 '**' 0.01 '*' 0.05 '.' 0.1 ' ' 1\n",
       "\n",
       "Residual standard error: 1.7 on 619 degrees of freedom\n",
       "Multiple R-squared:  0.126,\tAdjusted R-squared:  0.116 \n",
       "F-statistic: 12.7 on 7 and 619 DF,  p-value: 2.73e-15\n"
      ]
     },
     "metadata": {},
     "output_type": "display_data"
    }
   ],
   "source": [
    "mod = lm(IncHomeS~ComfNS+EnergyC+Age+Ethnic+MC+Political+Educ,data=data2)\n",
    "summary(mod)\n",
    "#plot(mod)"
   ]
  },
  {
   "cell_type": "code",
   "execution_count": 169,
   "metadata": {
    "collapsed": false
   },
   "outputs": [
    {
     "data": {
      "image/png": "[encoded data removed]",
      "text/plain": [
       "plot without title"
      ]
     },
     "metadata": {},
     "output_type": "display_data"
    }
   ],
   "source": [
    "plot(mod$residuals,data2$IncHomeS)\n",
    "z<-tapply(mod$residuals,data2$IncHomeS,mean)\n",
    "points(z,1:8,pch=\"*\",cex=3)"
   ]
  },
  {
   "cell_type": "code",
   "execution_count": 170,
   "metadata": {
    "collapsed": false
   },
   "outputs": [
    {
     "data": {
      "text/plain": [
       "\n",
       "Call:\n",
       "lm(formula = IncHomeS ~ ComfNS + Age, data = data2)\n",
       "\n",
       "Residuals:\n",
       "   Min     1Q Median     3Q    Max \n",
       " -3.76  -1.08  -0.18   1.02   4.69 \n",
       "\n",
       "Coefficients:\n",
       "            Estimate Std. Error t value Pr(>|t|)    \n",
       "(Intercept)  1.53248    0.31962    4.79  2.0e-06 ***\n",
       "ComfNS       0.37397    0.04712    7.94  9.7e-15 ***\n",
       "Age          0.01922    0.00612    3.14   0.0018 ** \n",
       "---\n",
       "Signif. codes:  0 '***' 0.001 '**' 0.01 '*' 0.05 '.' 0.1 ' ' 1\n",
       "\n",
       "Residual standard error: 1.7 on 624 degrees of freedom\n",
       "Multiple R-squared:  0.11,\tAdjusted R-squared:  0.107 \n",
       "F-statistic: 38.6 on 2 and 624 DF,  p-value: <2e-16\n"
      ]
     },
     "metadata": {},
     "output_type": "display_data"
    }
   ],
   "source": [
    "mod = lm(IncHomeS~ComfNS+Age,data=data2)\n",
    "summary(mod)"
   ]
  },
  {
   "cell_type": "code",
   "execution_count": 41,
   "metadata": {
    "collapsed": false
   },
   "outputs": [
    {
     "ename": "ERROR",
     "evalue": "Error in eval(expr, envir, enclos): object 'ComfNS3' not found\n",
     "output_type": "error",
     "traceback": [
      "Error in eval(expr, envir, enclos): object 'ComfNS3' not found\nTraceback:\n",
      "1. lm(IncHomeS ~ ComfNS3 + Age + HabitC2, data = data2)",
      "2. eval(mf, parent.frame())",
      "3. eval(expr, envir, enclos)",
      "4. stats::model.frame(formula = IncHomeS ~ ComfNS3 + Age + HabitC2, \n .     data = data2, drop.unused.levels = TRUE)",
      "5. model.frame.default(formula = IncHomeS ~ ComfNS3 + Age + HabitC2, \n .     data = data2, drop.unused.levels = TRUE)",
      "6. eval(predvars, data, env)",
      "7. eval(expr, envir, enclos)"
     ]
    }
   ],
   "source": [
    "#Probably overfitting\n",
    "mod1 = lm(IncHomeS~ComfNS3+Age+HabitC2,data=data2)\n",
    "summary(mod1)"
   ]
  },
  {
   "cell_type": "code",
   "execution_count": 19,
   "metadata": {
    "collapsed": false
   },
   "outputs": [
    {
     "name": "stderr",
     "output_type": "stream",
     "text": [
      "Loading required package: nlme\n",
      "This is mgcv 1.8-14. For overview type 'help(\"mgcv-package\")'.\n"
     ]
    }
   ],
   "source": [
    "library(mgcv)\n"
   ]
  },
  {
   "cell_type": "code",
   "execution_count": 20,
   "metadata": {
    "collapsed": false
   },
   "outputs": [
    {
     "data": {
      "text/plain": [
       "\n",
       "Family: gaussian \n",
       "Link function: identity \n",
       "\n",
       "Formula:\n",
       "IncHomeS ~ I(ComfNS3 <= 3) + I(ComfNS3 == 7) + s(Age)\n",
       "\n",
       "Parametric coefficients:\n",
       "                    Estimate Std. Error t value Pr(>|t|)    \n",
       "(Intercept)           4.1826     0.0906   46.17  < 2e-16 ***\n",
       "I(ComfNS3 <= 3)TRUE  -0.7694     0.1666   -4.62  4.7e-06 ***\n",
       "I(ComfNS3 == 7)TRUE   0.7656     0.1738    4.40  1.2e-05 ***\n",
       "---\n",
       "Signif. codes:  0 '***' 0.001 '**' 0.01 '*' 0.05 '.' 0.1 ' ' 1\n",
       "\n",
       "Approximate significance of smooth terms:\n",
       "       edf Ref.df    F p-value    \n",
       "s(Age)   1      1 13.3 0.00029 ***\n",
       "---\n",
       "Signif. codes:  0 '***' 0.001 '**' 0.01 '*' 0.05 '.' 0.1 ' ' 1\n",
       "\n",
       "R-sq.(adj) =  0.0975   Deviance explained = 10.2%\n",
       "GCV = 2.9649  Scale est. = 2.9465    n = 644"
      ]
     },
     "metadata": {},
     "output_type": "display_data"
    }
   ],
   "source": [
    "mGam = gam(IncHomeS~I(ComfNS3<=3)+I(ComfNS3==7)+s(Age),data=data2)\n",
    "summary(mGam)\n"
   ]
  },
  {
   "cell_type": "code",
   "execution_count": 21,
   "metadata": {
    "collapsed": false
   },
   "outputs": [
    {
     "data": {
      "image/png": "[encoded data removed]",
      "text/plain": [
       "plot without title"
      ]
     },
     "metadata": {},
     "output_type": "display_data"
    }
   ],
   "source": [
    "plot(mGam)"
   ]
  },
  {
   "cell_type": "code",
   "execution_count": 22,
   "metadata": {
    "collapsed": false
   },
   "outputs": [
    {
     "data": {
      "text/plain": [
       "\n",
       "Call:\n",
       "lm(formula = IncHomeS ~ I(ComfNS3 <= 3) + I(ComfNS3 == 7) + Age + \n",
       "    HabitC2 + Political, data = data2)\n",
       "\n",
       "Residuals:\n",
       "   Min     1Q Median     3Q    Max \n",
       "-4.234 -1.162 -0.081  1.001  4.540 \n",
       "\n",
       "Coefficients:\n",
       "                    Estimate Std. Error t value Pr(>|t|)    \n",
       "(Intercept)          4.19372    0.34065   12.31  < 2e-16 ***\n",
       "I(ComfNS3 <= 3)TRUE -0.77483    0.16608   -4.67  3.8e-06 ***\n",
       "I(ComfNS3 == 7)TRUE  0.75141    0.17314    4.34  1.7e-05 ***\n",
       "Age                  0.02211    0.00602    3.67  0.00026 ***\n",
       "HabitC2             -0.09516    0.03689   -2.58  0.01011 *  \n",
       "Political           -0.05864    0.03039   -1.93  0.05408 .  \n",
       "---\n",
       "Signif. codes:  0 '***' 0.001 '**' 0.01 '*' 0.05 '.' 0.1 ' ' 1\n",
       "\n",
       "Residual standard error: 1.7 on 638 degrees of freedom\n",
       "Multiple R-squared:  0.116,\tAdjusted R-squared:  0.109 \n",
       "F-statistic: 16.7 on 5 and 638 DF,  p-value: 1.68e-15\n"
      ]
     },
     "metadata": {},
     "output_type": "display_data"
    }
   ],
   "source": [
    "mod1 = lm(IncHomeS~I(ComfNS3<=3)+I(ComfNS3==7)+Age+HabitC2+ Political,data=data2)\n",
    "summary(mod1)\n"
   ]
  },
  {
   "cell_type": "code",
   "execution_count": 23,
   "metadata": {
    "collapsed": false
   },
   "outputs": [
    {
     "data": {
      "text/html": [
       "<table>\n",
       "<thead><tr><th></th><th scope=col>Df</th><th scope=col>Sum Sq</th><th scope=col>Mean Sq</th><th scope=col>F value</th><th scope=col>Pr(&gt;F)</th></tr></thead>\n",
       "<tbody>\n",
       "\t<tr><th scope=row>I(ComfNS3 &lt;= 3)</th><td>  1    </td><td> 115   </td><td>115.2  </td><td>39.6   </td><td>5.8e-10</td></tr>\n",
       "\t<tr><th scope=row>I(ComfNS3 == 7)</th><td>  1    </td><td>  59   </td><td> 59.2  </td><td>20.3   </td><td>7.7e-06</td></tr>\n",
       "\t<tr><th scope=row>Age</th><td>  1    </td><td>  39   </td><td> 39.1  </td><td>13.4   </td><td>2.7e-04</td></tr>\n",
       "\t<tr><th scope=row>HabitC2</th><td>  1    </td><td>  18   </td><td> 18.4  </td><td> 6.3   </td><td>1.2e-02</td></tr>\n",
       "\t<tr><th scope=row>Political</th><td>  1    </td><td>  11   </td><td> 10.8  </td><td> 3.7   </td><td>5.4e-02</td></tr>\n",
       "\t<tr><th scope=row>Residuals</th><td>638    </td><td>1857   </td><td>  2.9  </td><td>  NA   </td><td>     NA</td></tr>\n",
       "</tbody>\n",
       "</table>\n"
      ],
      "text/latex": [
       "\\begin{tabular}{r|lllll}\n",
       "  & Df & Sum Sq & Mean Sq & F value & Pr(>F)\\\\\n",
       "\\hline\n",
       "\tI(ComfNS3 <= 3) &   1     &  115    & 115.2   & 39.6    & 5.8e-10\\\\\n",
       "\tI(ComfNS3 == 7) &   1     &   59    &  59.2   & 20.3    & 7.7e-06\\\\\n",
       "\tAge &   1     &   39    &  39.1   & 13.4    & 2.7e-04\\\\\n",
       "\tHabitC2 &   1     &   18    &  18.4   &  6.3    & 1.2e-02\\\\\n",
       "\tPolitical &   1     &   11    &  10.8   &  3.7    & 5.4e-02\\\\\n",
       "\tResiduals & 638     & 1857    &   2.9   &   NA    &      NA\\\\\n",
       "\\end{tabular}\n"
      ],
      "text/plain": [
       "                Df  Sum Sq Mean Sq F value Pr(>F) \n",
       "I(ComfNS3 <= 3)   1  115   115.2   39.6    5.8e-10\n",
       "I(ComfNS3 == 7)   1   59    59.2   20.3    7.7e-06\n",
       "Age               1   39    39.1   13.4    2.7e-04\n",
       "HabitC2           1   18    18.4    6.3    1.2e-02\n",
       "Political         1   11    10.8    3.7    5.4e-02\n",
       "Residuals       638 1857     2.9     NA         NA"
      ]
     },
     "metadata": {},
     "output_type": "display_data"
    }
   ],
   "source": [
    "anova(mod1)"
   ]
  },
  {
   "cell_type": "code",
   "execution_count": 24,
   "metadata": {
    "collapsed": false
   },
   "outputs": [
    {
     "data": {
      "text/html": [
       "<table>\n",
       "<thead><tr><th></th><th scope=col>Df</th><th scope=col>Sum of Sq</th><th scope=col>RSS</th><th scope=col>AIC</th></tr></thead>\n",
       "<tbody>\n",
       "\t<tr><th scope=row>&lt;none&gt;</th><td>NA  </td><td>NA  </td><td>1857</td><td>694 </td></tr>\n",
       "\t<tr><th scope=row>I(ComfNS3 &lt;= 3)</th><td> 1  </td><td>63  </td><td>1920</td><td>713 </td></tr>\n",
       "\t<tr><th scope=row>I(ComfNS3 == 7)</th><td> 1  </td><td>55  </td><td>1911</td><td>711 </td></tr>\n",
       "\t<tr><th scope=row>Age</th><td> 1  </td><td>39  </td><td>1896</td><td>705 </td></tr>\n",
       "\t<tr><th scope=row>HabitC2</th><td> 1  </td><td>19  </td><td>1876</td><td>699 </td></tr>\n",
       "\t<tr><th scope=row>Political</th><td> 1  </td><td>11  </td><td>1867</td><td>696 </td></tr>\n",
       "</tbody>\n",
       "</table>\n"
      ],
      "text/latex": [
       "\\begin{tabular}{r|llll}\n",
       "  & Df & Sum of Sq & RSS & AIC\\\\\n",
       "\\hline\n",
       "\t<none> & NA   & NA   & 1857 & 694 \\\\\n",
       "\tI(ComfNS3 <= 3) &  1   & 63   & 1920 & 713 \\\\\n",
       "\tI(ComfNS3 == 7) &  1   & 55   & 1911 & 711 \\\\\n",
       "\tAge &  1   & 39   & 1896 & 705 \\\\\n",
       "\tHabitC2 &  1   & 19   & 1876 & 699 \\\\\n",
       "\tPolitical &  1   & 11   & 1867 & 696 \\\\\n",
       "\\end{tabular}\n"
      ],
      "text/plain": [
       "                Df Sum of Sq RSS  AIC\n",
       "<none>          NA NA        1857 694\n",
       "I(ComfNS3 <= 3)  1 63        1920 713\n",
       "I(ComfNS3 == 7)  1 55        1911 711\n",
       "Age              1 39        1896 705\n",
       "HabitC2          1 19        1876 699\n",
       "Political        1 11        1867 696"
      ]
     },
     "metadata": {},
     "output_type": "display_data"
    }
   ],
   "source": [
    "drop1(mod1)"
   ]
  },
  {
   "cell_type": "code",
   "execution_count": 25,
   "metadata": {
    "collapsed": false
   },
   "outputs": [
    {
     "name": "stderr",
     "output_type": "stream",
     "text": [
      "\n",
      "Attaching package: 'bnlearn'\n",
      "\n",
      "The following object is masked from 'package:stats':\n",
      "\n",
      "    sigma\n",
      "\n"
     ]
    }
   ],
   "source": [
    "library(bnlearn)"
   ]
  },
  {
   "cell_type": "code",
   "execution_count": 26,
   "metadata": {
    "collapsed": false
   },
   "outputs": [
    {
     "data": {
      "image/png": "[encoded data removed]",
      "text/plain": [
       "plot without title"
      ]
     },
     "metadata": {},
     "output_type": "display_data"
    }
   ],
   "source": [
    "dd2 = data2[,c('IncHomeS', 'ComfNS3','Age','HabitC2')]\n",
    "for (i in 1:4) dd2[,i] <- as.double(dd2[,i])\n",
    "dag2 = tabu(dd2)\n",
    "plot(dag2)"
   ]
  },
  {
   "cell_type": "code",
   "execution_count": 27,
   "metadata": {
    "collapsed": false
   },
   "outputs": [
    {
     "data": {
      "text/plain": [
       "\n",
       "Call:\n",
       "lm(formula = fmlaF, data = data2)\n",
       "\n",
       "Residuals:\n",
       "   Min     1Q Median     3Q    Max \n",
       "-3.672 -1.120 -0.092  1.051  4.878 \n",
       "\n",
       "Coefficients:\n",
       "             Estimate Std. Error t value Pr(>|t|)   \n",
       "(Intercept)  3.12e+00   1.26e+00    2.49   0.0132 * \n",
       "Age          2.37e-02   7.22e-03    3.28   0.0011 **\n",
       "Gender       1.02e-01   1.56e-01    0.66   0.5117   \n",
       "OwnRent     -1.93e-03   1.64e-01   -0.01   0.9906   \n",
       "BillS        6.56e-04   1.27e-03    0.52   0.6060   \n",
       "NBillS       1.30e-01   1.29e-01    1.01   0.3138   \n",
       "Sqft        -3.13e-05   1.11e-04   -0.28   0.7776   \n",
       "SqftCate    -3.01e-02   1.10e-01   -0.27   0.7853   \n",
       "HouseholdS  -8.02e-02   6.84e-02   -1.17   0.2412   \n",
       "Political   -6.80e-02   3.33e-02   -2.04   0.0417 * \n",
       "Ethnic       1.03e-01   6.05e-02    1.70   0.0901 . \n",
       "Income      -3.16e-02   4.24e-02   -0.74   0.4571   \n",
       "Educ         2.87e-02   6.87e-02    0.42   0.6760   \n",
       "MC1          2.52e-03   7.09e-02    0.04   0.9716   \n",
       "MC2          3.68e-02   7.60e-02    0.48   0.6290   \n",
       "MC3         -5.95e-02   7.00e-02   -0.85   0.3959   \n",
       "MC4          5.98e-02   7.07e-02    0.85   0.3981   \n",
       "MC5         -6.47e-02   8.78e-02   -0.74   0.4614   \n",
       "Frugal1     -3.85e-02   1.10e-01   -0.35   0.7262   \n",
       "Frugal2     -8.59e-02   9.05e-02   -0.95   0.3429   \n",
       "Frugal3     -1.18e-02   9.34e-02   -0.13   0.8995   \n",
       "Trust1       2.10e-01   1.22e-01    1.72   0.0863 . \n",
       "Trust2       1.28e-02   7.90e-02    0.16   0.8712   \n",
       "Trust3      -1.17e-01   7.59e-02   -1.54   0.1229   \n",
       "Trust4      -8.30e-02   1.16e-01   -0.72   0.4729   \n",
       "ComfNS1      5.25e-02   7.68e-02    0.68   0.4946   \n",
       "ComfNS2      8.00e-02   6.17e-02    1.30   0.1956   \n",
       "ComfNS3      1.46e-01   6.92e-02    2.11   0.0353 * \n",
       "ConvB1       3.75e-02   7.85e-02    0.48   0.6333   \n",
       "ConvB2      -5.31e-02   8.29e-02   -0.64   0.5225   \n",
       "ConvB3       1.24e-02   5.19e-02    0.24   0.8110   \n",
       "ConvB4      -8.88e-03   5.75e-02   -0.15   0.8772   \n",
       "ControlN1    8.58e-02   9.14e-02    0.94   0.3482   \n",
       "ControlN2R  -7.14e-02   4.63e-02   -1.54   0.1237   \n",
       "ControlN3    3.67e-02   7.92e-02    0.46   0.6429   \n",
       "ControlN4    7.48e-03   5.41e-02    0.14   0.8901   \n",
       "Atti1       -2.79e-03   1.20e-01   -0.02   0.9814   \n",
       "Atti2       -6.29e-02   1.14e-01   -0.55   0.5810   \n",
       "Atti3       -7.23e-02   1.13e-01   -0.64   0.5209   \n",
       "Atti4       -7.00e-03   1.11e-01   -0.06   0.9499   \n",
       "SubNorm1     9.04e-02   5.86e-02    1.54   0.1235   \n",
       "SubNorm2    -8.76e-03   6.82e-02   -0.13   0.8978   \n",
       "SubNorm3    -3.12e-02   5.47e-02   -0.57   0.5681   \n",
       "PBC1         1.24e-01   6.69e-02    1.85   0.0650 . \n",
       "PBC2        -1.11e-01   1.12e-01   -0.99   0.3216   \n",
       "PBC3R       -3.66e-03   5.19e-02   -0.07   0.9437   \n",
       "PBC4        -1.27e-02   1.11e-01   -0.12   0.9084   \n",
       "PBC5        -8.22e-02   7.38e-02   -1.11   0.2661   \n",
       "SN1          4.08e-02   1.03e-01    0.39   0.6933   \n",
       "SN2         -1.02e-01   1.04e-01   -0.97   0.3310   \n",
       "SN3         -2.25e-02   5.42e-02   -0.41   0.6786   \n",
       "SN4          1.01e-01   7.18e-02    1.41   0.1581   \n",
       "HabitC1      6.74e-02   8.87e-02    0.76   0.4474   \n",
       "HabitC2     -8.93e-02   4.26e-02   -2.10   0.0365 * \n",
       "HabitC3      6.36e-02   4.31e-02    1.48   0.1407   \n",
       "HabitC4      1.20e-02   4.01e-02    0.30   0.7645   \n",
       "HabitC5     -1.66e-02   3.91e-02   -0.42   0.6715   \n",
       "HabitC6     -4.51e-02   3.70e-02   -1.22   0.2239   \n",
       "HabitC7     -7.40e-03   4.43e-02   -0.17   0.8674   \n",
       "HabitE1      1.28e-02   1.64e-01    0.08   0.9377   \n",
       "HabitE2      1.07e-01   1.15e-01    0.93   0.3525   \n",
       "HabitE3     -1.98e-02   1.14e-01   -0.17   0.8620   \n",
       "---\n",
       "Signif. codes:  0 '***' 0.001 '**' 0.01 '*' 0.05 '.' 0.1 ' ' 1\n",
       "\n",
       "Residual standard error: 1.7 on 582 degrees of freedom\n",
       "Multiple R-squared:  0.199,\tAdjusted R-squared:  0.115 \n",
       "F-statistic: 2.37 on 61 and 582 DF,  p-value: 1.42e-07\n"
      ]
     },
     "metadata": {},
     "output_type": "display_data"
    }
   ],
   "source": [
    "fmlaF <- as.formula(paste(\"IncHomeS\",paste(IVS,collapse=\"+\"),sep=\"~\"));\n",
    "mod = lm(fmlaF,data=data2)\n",
    "summary(mod)"
   ]
  },
  {
   "cell_type": "code",
   "execution_count": null,
   "metadata": {
    "collapsed": true
   },
   "outputs": [],
   "source": []
  },
  {
   "cell_type": "code",
   "execution_count": 28,
   "metadata": {
    "collapsed": false
   },
   "outputs": [
    {
     "data": {
      "text/plain": [
       "\n",
       "Call:\n",
       "lm(formula = IncHomeS ~ ComfNS3 + Age + HabitC2 + Political + \n",
       "    Ethnic + Trust1, data = data2)\n",
       "\n",
       "Residuals:\n",
       "   Min     1Q Median     3Q    Max \n",
       "-4.518 -1.152 -0.131  1.015  4.526 \n",
       "\n",
       "Coefficients:\n",
       "            Estimate Std. Error t value Pr(>|t|)    \n",
       "(Intercept)  2.53367    0.43662    5.80  1.0e-08 ***\n",
       "ComfNS3      0.28415    0.03962    7.17  2.1e-12 ***\n",
       "Age          0.02216    0.00608    3.65  0.00029 ***\n",
       "HabitC2     -0.09861    0.03698   -2.67  0.00786 ** \n",
       "Political   -0.05255    0.03052   -1.72  0.08559 .  \n",
       "Ethnic       0.09676    0.05622    1.72  0.08571 .  \n",
       "Trust1       0.02235    0.04340    0.51  0.60675    \n",
       "---\n",
       "Signif. codes:  0 '***' 0.001 '**' 0.01 '*' 0.05 '.' 0.1 ' ' 1\n",
       "\n",
       "Residual standard error: 1.7 on 637 degrees of freedom\n",
       "Multiple R-squared:  0.114,\tAdjusted R-squared:  0.106 \n",
       "F-statistic: 13.7 on 6 and 637 DF,  p-value: 1.1e-14\n"
      ]
     },
     "metadata": {},
     "output_type": "display_data"
    }
   ],
   "source": [
    "#Probably overfitting\n",
    "mod1 = lm(IncHomeS~ComfNS3+Age+HabitC2+Political+Ethnic+Trust1,data=data2)\n",
    "summary(mod1)"
   ]
  },
  {
   "cell_type": "code",
   "execution_count": 29,
   "metadata": {
    "collapsed": false
   },
   "outputs": [
    {
     "ename": "ERROR",
     "evalue": "Error in parse(text = x, srcfile = src): <text>:1:24: unexpected '{'\n1: for (i in 1:length(IVS){\n                           ^\n",
     "output_type": "error",
     "traceback": [
      "Error in parse(text = x, srcfile = src): <text>:1:24: unexpected '{'\n1: for (i in 1:length(IVS){\n                           ^\nTraceback:\n"
     ]
    }
   ],
   "source": [
    "for (i in 1:length(IVS){\n",
    "  fmla <- as.formula(paste(IVS[i],paste(vnam[-c(1,i)],collapse=\"+\"),sep=\"~\"));\n",
    "  res <- rbind(res,c(i,round(summary(lm(fmla,data=data2))$r.squared,2)));\n",
    "}\n",
    "vnam <- (data2);\n",
    "fmlaF <- as.formula(paste(\"Age\",paste(IVS[-\"Age\"],collapse=\"+\"),sep=\"~\"));\n",
    "mod = lm(fmlaF,data=data2)\n",
    "summary(mod)"
   ]
  },
  {
   "cell_type": "code",
   "execution_count": null,
   "metadata": {
    "collapsed": true
   },
   "outputs": [],
   "source": [
    "ind <- 1:length(IVS);names(ind) <- IVS"
   ]
  },
  {
   "cell_type": "code",
   "execution_count": null,
   "metadata": {
    "collapsed": false
   },
   "outputs": [],
   "source": [
    "fmlaF <- as.formula(paste(\"Age\",paste(IVS[-ind[\"Age\"]],collapse=\"+\"),sep=\"~\"));\n",
    "mod = lm(fmlaF,data=data2)\n",
    "res <- summary(mod)$coefficients\n",
    "res[abs(res[,3])>3,]"
   ]
  },
  {
   "cell_type": "code",
   "execution_count": null,
   "metadata": {
    "collapsed": false
   },
   "outputs": [],
   "source": [
    "fmlaF <- as.formula(paste(\"ComfNS3\",paste(IVS[-ind[\"ComfNS3\"]],collapse=\"+\"),sep=\"~\"));\n",
    "mod = lm(fmlaF,data=data2)\n",
    "res <- summary(mod)$coefficients\n",
    "res[abs(res[,3])>3,]"
   ]
  },
  {
   "cell_type": "code",
   "execution_count": 30,
   "metadata": {
    "collapsed": false
   },
   "outputs": [
    {
     "data": {
      "image/png": "[encoded data removed]",
      "text/plain": [
       "plot without title"
      ]
     },
     "metadata": {},
     "output_type": "display_data"
    }
   ],
   "source": [
    "dd2 = data2[,c('IncHomeS', 'ComfNS3','Age','HabitC2',\"Gender\",\"OwnRent\",\"SqftCate\",\n",
    "               \"HouseholdS\",\"Atti3\",\"Atti4\",\"ComfNS1\",\"ComfNS2\")]\n",
    "for (i in 1:12) dd2[,i] <- as.double(dd2[,i])\n",
    "dag2 = tabu(dd2)\n",
    "plot(dag2)"
   ]
  },
  {
   "cell_type": "code",
   "execution_count": null,
   "metadata": {
    "collapsed": true
   },
   "outputs": [],
   "source": []
  }
 ],
 "metadata": {
  "kernelspec": {
   "display_name": "R",
   "language": "R",
   "name": "ir"
  },
  "language_info": {
   "codemirror_mode": "r",
   "file_extension": ".r",
   "mimetype": "text/x-r-source",
   "name": "R",
   "pygments_lexer": "r",
   "version": "3.3.1"
  }
 },
 "nbformat": 4,
 "nbformat_minor": 1
}
