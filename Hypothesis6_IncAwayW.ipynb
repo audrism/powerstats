{
 "cells": [
  {
   "cell_type": "markdown",
   "metadata": {},
   "source": [
    "## Hypothesis\n",
    "To predict the incentive level requested to predict the incentive level requested to shut down or lower 5 degrees during the winter\n",
    "    \n",
    "IV: Age, Gender, OwnRent, SqftCate, HouseholdS, Political, Ethnic, Income, Educ\n",
    "    Latitude, HomeW, EnergyC, MC, ComfNW, HabitC, Winter_avg"
   ]
  },
  {
   "cell_type": "code",
   "execution_count": 1,
   "metadata": {
    "collapsed": false
   },
   "outputs": [],
   "source": [
    "options(digits=2);\n",
    "# Read in the data\n",
    "survey <- read.csv(\"DR_Survey2_Share_Complete.csv\",header=T);\n",
    "#populate missing values\n",
    "#survey$IncHomeS[survey$IncHomeS==99] = NA;\n",
    "#survey$IncHomeS[survey$IncHomeS==999] = NA;\n",
    "\n",
    "#survey <- survey[survey$HomeS>60,];\n",
    "#survey <- survey[survey$HomeS<80,];\n",
    "\n",
    "#survey <- survey[survey$HomeW>60,];\n",
    "#survey <- survey[survey$HomeW<80,];\n",
    "\n",
    "data <- survey[,-c(1:7)];\n",
    "\n",
    "#We investigate only use people who use A/C when being at home in summer\n",
    "data1 <- data[data$HomeSYN==1,-which(names(data) %in% c(\"HomeWYN\",\"AwayWNY\",\"HomeSYN\",\"AwaySNY\",\"City\",\"Utility\",\n",
    "    \"ReasonPos\",\"ReasonNeg\",\"NBillS\",\"NBillW\",\"valid1\",\"valid2\",\"valid\",\"Attitude\",\"Trust\",\"MCG\",\"Frugal\",\"ComfortS\",\"ComfortW\",\"SubN\",\"PBC\",\"ACYN\",\"HeatYN\",\n",
    "    \"Longitude\", \"Job\",\"hot\",\"cold\"))];"
   ]
  },
  {
   "cell_type": "code",
   "execution_count": 2,
   "metadata": {
    "collapsed": false
   },
   "outputs": [
    {
     "data": {
      "text/plain": [
       "   Min. 1st Qu.  Median    Mean 3rd Qu.    Max. \n",
       "      1       3       5       6       7      99 "
      ]
     },
     "metadata": {},
     "output_type": "display_data"
    },
    {
     "data": {
      "text/plain": [
       "\n",
       "  1   2   3   4   5   6   7   8  99 \n",
       " 61  42  68 132 102  79  88  79  11 "
      ]
     },
     "metadata": {},
     "output_type": "display_data"
    },
    {
     "data": {
      "image/png": "[encoded data removed]",
      "text/plain": [
       "Plot with title \"Histogram of data1$IncAwayW\""
      ]
     },
     "metadata": {},
     "output_type": "display_data"
    }
   ],
   "source": [
    "summary(data1$IncAwayW)\n",
    "table(data1$IncAwayW)\n",
    "hist(data1$IncAwayW)"
   ]
  },
  {
   "cell_type": "code",
   "execution_count": 3,
   "metadata": {
    "collapsed": false
   },
   "outputs": [
    {
     "name": "stdout",
     "output_type": "stream",
     "text": [
      "[1] \"HomeW\" \"28\"   \n",
      "[1] \"AwayW\" \"87\"   \n",
      "[1] \"AwayS\" \"101\"  \n",
      "[1] \"IncWD\" \"56\"   \n",
      "[1] \"IncDish\" \"183\"    \n",
      "[1] \"Age\" \"4\"  \n",
      "[1] \"Income\" \"3\"     \n",
      "[1] \"Educ\" \"5\"   \n",
      "[1] \"Latitude\" \"21\"      \n"
     ]
    }
   ],
   "source": [
    "#Fields with lots of missing values\n",
    "for (n in names(data1)){\n",
    "    nmis = sum(is.na(data1[,n]))\n",
    "    if(nmis >1)  print (c(n, sum(is.na(data1[,n]))))\n",
    "}"
   ]
  },
  {
   "cell_type": "code",
   "execution_count": 4,
   "metadata": {
    "collapsed": false
   },
   "outputs": [
    {
     "name": "stdout",
     "output_type": "stream",
     "text": [
      "[1] 662 100\n",
      "[1] 632 100\n"
     ]
    }
   ],
   "source": [
    "#lets remover these\n",
    "data2 <- data1[,-which(names(data1) %in% c(\"HomeW\",\"AwayW\",\n",
    "                    \"AwayS\",\"IncWD\",\"IncDish\"))];\n",
    "print(dim(data2))\n",
    "data2 <- na.omit(data2)\n",
    "print(dim(data2))\n",
    "#table(data2$Political)"
   ]
  },
  {
   "cell_type": "code",
   "execution_count": 5,
   "metadata": {
    "collapsed": false
   },
   "outputs": [
    {
     "data": {
      "text/plain": [
       "   Min. 1st Qu.  Median    Mean 3rd Qu.    Max. \n",
       "      1       3       5       6       7      99 "
      ]
     },
     "metadata": {},
     "output_type": "display_data"
    },
    {
     "data": {
      "text/plain": [
       "\n",
       "  1   2   3   4   5   6   7   8  99 \n",
       " 59  40  64 128  97  71  86  76  11 "
      ]
     },
     "metadata": {},
     "output_type": "display_data"
    },
    {
     "data": {
      "image/png": "[encoded data removed]",
      "text/plain": [
       "Plot with title \"Histogram of data2$IncAwayW\""
      ]
     },
     "metadata": {},
     "output_type": "display_data"
    }
   ],
   "source": [
    "summary(data2$IncAwayW)\n",
    "table(data2$IncAwayW)\n",
    "hist(data2$IncAwayW)"
   ]
  },
  {
   "cell_type": "code",
   "execution_count": 6,
   "metadata": {
    "collapsed": false
   },
   "outputs": [
    {
     "data": {
      "text/html": [
       "<ol class=list-inline>\n",
       "\t<li>'Age'</li>\n",
       "\t<li>'Atti'</li>\n",
       "\t<li>'Atti1'</li>\n",
       "\t<li>'Atti2'</li>\n",
       "\t<li>'Atti3'</li>\n",
       "\t<li>'Atti4'</li>\n",
       "\t<li>'BillS'</li>\n",
       "\t<li>'BillW'</li>\n",
       "\t<li>'CashYN'</li>\n",
       "\t<li>'ComfNS'</li>\n",
       "\t<li>'ComfNS1'</li>\n",
       "\t<li>'ComfNS2'</li>\n",
       "\t<li>'ComfNS3'</li>\n",
       "\t<li>'ComfNW'</li>\n",
       "\t<li>'ComfNW1'</li>\n",
       "\t<li>'ComfNW2'</li>\n",
       "\t<li>'ControlN1'</li>\n",
       "\t<li>'ControlN2R'</li>\n",
       "\t<li>'ControlN3'</li>\n",
       "\t<li>'ControlN4'</li>\n",
       "\t<li>'ConvB1'</li>\n",
       "\t<li>'ConvB2'</li>\n",
       "\t<li>'ConvB3'</li>\n",
       "\t<li>'ConvB4'</li>\n",
       "\t<li>'Educ'</li>\n",
       "\t<li>'EmerRForm'</li>\n",
       "\t<li>'EnergyC'</li>\n",
       "\t<li>'EnergyC1'</li>\n",
       "\t<li>'EnergyC2'</li>\n",
       "\t<li>'EnergyC3'</li>\n",
       "\t<li>'EnergyC4'</li>\n",
       "\t<li>'Ethnic'</li>\n",
       "\t<li>'Frugal1'</li>\n",
       "\t<li>'Frugal2'</li>\n",
       "\t<li>'Frugal3'</li>\n",
       "\t<li>'Gender'</li>\n",
       "\t<li>'HabitC'</li>\n",
       "\t<li>'HabitC1'</li>\n",
       "\t<li>'HabitC2'</li>\n",
       "\t<li>'HabitC3'</li>\n",
       "\t<li>'HabitC4'</li>\n",
       "\t<li>'HabitC5'</li>\n",
       "\t<li>'HabitC6'</li>\n",
       "\t<li>'HabitC7'</li>\n",
       "\t<li>'HabitE1'</li>\n",
       "\t<li>'HabitE2'</li>\n",
       "\t<li>'HabitE3'</li>\n",
       "\t<li>'HabitG'</li>\n",
       "\t<li>'HomeS'</li>\n",
       "\t<li>'HouseholdS'</li>\n",
       "\t<li>'INT1'</li>\n",
       "\t<li>'INT2'</li>\n",
       "\t<li>'INT3'</li>\n",
       "\t<li>'INT4'</li>\n",
       "\t<li>'IncAutoS'</li>\n",
       "\t<li>'IncAutoW'</li>\n",
       "\t<li>'IncAwayS'</li>\n",
       "\t<li>'IncAwayW'</li>\n",
       "\t<li>'IncEmer10S'</li>\n",
       "\t<li>'IncEmer10W'</li>\n",
       "\t<li>'IncEmer30S'</li>\n",
       "\t<li>'IncEmer30W'</li>\n",
       "\t<li>'IncHomeS'</li>\n",
       "\t<li>'IncHomeW'</li>\n",
       "\t<li>'Income'</li>\n",
       "\t<li>'Latitude'</li>\n",
       "\t<li>'MC'</li>\n",
       "\t<li>'MC1'</li>\n",
       "\t<li>'MC2'</li>\n",
       "\t<li>'MC3'</li>\n",
       "\t<li>'MC4'</li>\n",
       "\t<li>'MC5'</li>\n",
       "\t<li>'MCBill'</li>\n",
       "\t<li>'OwnRent'</li>\n",
       "\t<li>'PBC1'</li>\n",
       "\t<li>'PBC2'</li>\n",
       "\t<li>'PBC3R'</li>\n",
       "\t<li>'PBC4'</li>\n",
       "\t<li>'PBC5'</li>\n",
       "\t<li>'Political'</li>\n",
       "\t<li>'RewardForm'</li>\n",
       "\t<li>'SN'</li>\n",
       "\t<li>'SN1'</li>\n",
       "\t<li>'SN2'</li>\n",
       "\t<li>'SN3'</li>\n",
       "\t<li>'SN4'</li>\n",
       "\t<li>'Sqft'</li>\n",
       "\t<li>'SqftCate'</li>\n",
       "\t<li>'State'</li>\n",
       "\t<li>'SubNorm'</li>\n",
       "\t<li>'SubNorm1'</li>\n",
       "\t<li>'SubNorm2'</li>\n",
       "\t<li>'SubNorm3'</li>\n",
       "\t<li>'Summer_avg'</li>\n",
       "\t<li>'Trust1'</li>\n",
       "\t<li>'Trust2'</li>\n",
       "\t<li>'Trust3'</li>\n",
       "\t<li>'Trust4'</li>\n",
       "\t<li>'Winter_avg'</li>\n",
       "\t<li>'X.9to5'</li>\n",
       "</ol>\n"
      ],
      "text/latex": [
       "\\begin{enumerate*}\n",
       "\\item 'Age'\n",
       "\\item 'Atti'\n",
       "\\item 'Atti1'\n",
       "\\item 'Atti2'\n",
       "\\item 'Atti3'\n",
       "\\item 'Atti4'\n",
       "\\item 'BillS'\n",
       "\\item 'BillW'\n",
       "\\item 'CashYN'\n",
       "\\item 'ComfNS'\n",
       "\\item 'ComfNS1'\n",
       "\\item 'ComfNS2'\n",
       "\\item 'ComfNS3'\n",
       "\\item 'ComfNW'\n",
       "\\item 'ComfNW1'\n",
       "\\item 'ComfNW2'\n",
       "\\item 'ControlN1'\n",
       "\\item 'ControlN2R'\n",
       "\\item 'ControlN3'\n",
       "\\item 'ControlN4'\n",
       "\\item 'ConvB1'\n",
       "\\item 'ConvB2'\n",
       "\\item 'ConvB3'\n",
       "\\item 'ConvB4'\n",
       "\\item 'Educ'\n",
       "\\item 'EmerRForm'\n",
       "\\item 'EnergyC'\n",
       "\\item 'EnergyC1'\n",
       "\\item 'EnergyC2'\n",
       "\\item 'EnergyC3'\n",
       "\\item 'EnergyC4'\n",
       "\\item 'Ethnic'\n",
       "\\item 'Frugal1'\n",
       "\\item 'Frugal2'\n",
       "\\item 'Frugal3'\n",
       "\\item 'Gender'\n",
       "\\item 'HabitC'\n",
       "\\item 'HabitC1'\n",
       "\\item 'HabitC2'\n",
       "\\item 'HabitC3'\n",
       "\\item 'HabitC4'\n",
       "\\item 'HabitC5'\n",
       "\\item 'HabitC6'\n",
       "\\item 'HabitC7'\n",
       "\\item 'HabitE1'\n",
       "\\item 'HabitE2'\n",
       "\\item 'HabitE3'\n",
       "\\item 'HabitG'\n",
       "\\item 'HomeS'\n",
       "\\item 'HouseholdS'\n",
       "\\item 'INT1'\n",
       "\\item 'INT2'\n",
       "\\item 'INT3'\n",
       "\\item 'INT4'\n",
       "\\item 'IncAutoS'\n",
       "\\item 'IncAutoW'\n",
       "\\item 'IncAwayS'\n",
       "\\item 'IncAwayW'\n",
       "\\item 'IncEmer10S'\n",
       "\\item 'IncEmer10W'\n",
       "\\item 'IncEmer30S'\n",
       "\\item 'IncEmer30W'\n",
       "\\item 'IncHomeS'\n",
       "\\item 'IncHomeW'\n",
       "\\item 'Income'\n",
       "\\item 'Latitude'\n",
       "\\item 'MC'\n",
       "\\item 'MC1'\n",
       "\\item 'MC2'\n",
       "\\item 'MC3'\n",
       "\\item 'MC4'\n",
       "\\item 'MC5'\n",
       "\\item 'MCBill'\n",
       "\\item 'OwnRent'\n",
       "\\item 'PBC1'\n",
       "\\item 'PBC2'\n",
       "\\item 'PBC3R'\n",
       "\\item 'PBC4'\n",
       "\\item 'PBC5'\n",
       "\\item 'Political'\n",
       "\\item 'RewardForm'\n",
       "\\item 'SN'\n",
       "\\item 'SN1'\n",
       "\\item 'SN2'\n",
       "\\item 'SN3'\n",
       "\\item 'SN4'\n",
       "\\item 'Sqft'\n",
       "\\item 'SqftCate'\n",
       "\\item 'State'\n",
       "\\item 'SubNorm'\n",
       "\\item 'SubNorm1'\n",
       "\\item 'SubNorm2'\n",
       "\\item 'SubNorm3'\n",
       "\\item 'Summer\\_avg'\n",
       "\\item 'Trust1'\n",
       "\\item 'Trust2'\n",
       "\\item 'Trust3'\n",
       "\\item 'Trust4'\n",
       "\\item 'Winter\\_avg'\n",
       "\\item 'X.9to5'\n",
       "\\end{enumerate*}\n"
      ],
      "text/markdown": [
       "1. 'Age'\n",
       "2. 'Atti'\n",
       "3. 'Atti1'\n",
       "4. 'Atti2'\n",
       "5. 'Atti3'\n",
       "6. 'Atti4'\n",
       "7. 'BillS'\n",
       "8. 'BillW'\n",
       "9. 'CashYN'\n",
       "10. 'ComfNS'\n",
       "11. 'ComfNS1'\n",
       "12. 'ComfNS2'\n",
       "13. 'ComfNS3'\n",
       "14. 'ComfNW'\n",
       "15. 'ComfNW1'\n",
       "16. 'ComfNW2'\n",
       "17. 'ControlN1'\n",
       "18. 'ControlN2R'\n",
       "19. 'ControlN3'\n",
       "20. 'ControlN4'\n",
       "21. 'ConvB1'\n",
       "22. 'ConvB2'\n",
       "23. 'ConvB3'\n",
       "24. 'ConvB4'\n",
       "25. 'Educ'\n",
       "26. 'EmerRForm'\n",
       "27. 'EnergyC'\n",
       "28. 'EnergyC1'\n",
       "29. 'EnergyC2'\n",
       "30. 'EnergyC3'\n",
       "31. 'EnergyC4'\n",
       "32. 'Ethnic'\n",
       "33. 'Frugal1'\n",
       "34. 'Frugal2'\n",
       "35. 'Frugal3'\n",
       "36. 'Gender'\n",
       "37. 'HabitC'\n",
       "38. 'HabitC1'\n",
       "39. 'HabitC2'\n",
       "40. 'HabitC3'\n",
       "41. 'HabitC4'\n",
       "42. 'HabitC5'\n",
       "43. 'HabitC6'\n",
       "44. 'HabitC7'\n",
       "45. 'HabitE1'\n",
       "46. 'HabitE2'\n",
       "47. 'HabitE3'\n",
       "48. 'HabitG'\n",
       "49. 'HomeS'\n",
       "50. 'HouseholdS'\n",
       "51. 'INT1'\n",
       "52. 'INT2'\n",
       "53. 'INT3'\n",
       "54. 'INT4'\n",
       "55. 'IncAutoS'\n",
       "56. 'IncAutoW'\n",
       "57. 'IncAwayS'\n",
       "58. 'IncAwayW'\n",
       "59. 'IncEmer10S'\n",
       "60. 'IncEmer10W'\n",
       "61. 'IncEmer30S'\n",
       "62. 'IncEmer30W'\n",
       "63. 'IncHomeS'\n",
       "64. 'IncHomeW'\n",
       "65. 'Income'\n",
       "66. 'Latitude'\n",
       "67. 'MC'\n",
       "68. 'MC1'\n",
       "69. 'MC2'\n",
       "70. 'MC3'\n",
       "71. 'MC4'\n",
       "72. 'MC5'\n",
       "73. 'MCBill'\n",
       "74. 'OwnRent'\n",
       "75. 'PBC1'\n",
       "76. 'PBC2'\n",
       "77. 'PBC3R'\n",
       "78. 'PBC4'\n",
       "79. 'PBC5'\n",
       "80. 'Political'\n",
       "81. 'RewardForm'\n",
       "82. 'SN'\n",
       "83. 'SN1'\n",
       "84. 'SN2'\n",
       "85. 'SN3'\n",
       "86. 'SN4'\n",
       "87. 'Sqft'\n",
       "88. 'SqftCate'\n",
       "89. 'State'\n",
       "90. 'SubNorm'\n",
       "91. 'SubNorm1'\n",
       "92. 'SubNorm2'\n",
       "93. 'SubNorm3'\n",
       "94. 'Summer_avg'\n",
       "95. 'Trust1'\n",
       "96. 'Trust2'\n",
       "97. 'Trust3'\n",
       "98. 'Trust4'\n",
       "99. 'Winter_avg'\n",
       "100. 'X.9to5'\n",
       "\n",
       "\n"
      ],
      "text/plain": [
       "  [1] \"Age\"        \"Atti\"       \"Atti1\"      \"Atti2\"      \"Atti3\"     \n",
       "  [6] \"Atti4\"      \"BillS\"      \"BillW\"      \"CashYN\"     \"ComfNS\"    \n",
       " [11] \"ComfNS1\"    \"ComfNS2\"    \"ComfNS3\"    \"ComfNW\"     \"ComfNW1\"   \n",
       " [16] \"ComfNW2\"    \"ControlN1\"  \"ControlN2R\" \"ControlN3\"  \"ControlN4\" \n",
       " [21] \"ConvB1\"     \"ConvB2\"     \"ConvB3\"     \"ConvB4\"     \"Educ\"      \n",
       " [26] \"EmerRForm\"  \"EnergyC\"    \"EnergyC1\"   \"EnergyC2\"   \"EnergyC3\"  \n",
       " [31] \"EnergyC4\"   \"Ethnic\"     \"Frugal1\"    \"Frugal2\"    \"Frugal3\"   \n",
       " [36] \"Gender\"     \"HabitC\"     \"HabitC1\"    \"HabitC2\"    \"HabitC3\"   \n",
       " [41] \"HabitC4\"    \"HabitC5\"    \"HabitC6\"    \"HabitC7\"    \"HabitE1\"   \n",
       " [46] \"HabitE2\"    \"HabitE3\"    \"HabitG\"     \"HomeS\"      \"HouseholdS\"\n",
       " [51] \"INT1\"       \"INT2\"       \"INT3\"       \"INT4\"       \"IncAutoS\"  \n",
       " [56] \"IncAutoW\"   \"IncAwayS\"   \"IncAwayW\"   \"IncEmer10S\" \"IncEmer10W\"\n",
       " [61] \"IncEmer30S\" \"IncEmer30W\" \"IncHomeS\"   \"IncHomeW\"   \"Income\"    \n",
       " [66] \"Latitude\"   \"MC\"         \"MC1\"        \"MC2\"        \"MC3\"       \n",
       " [71] \"MC4\"        \"MC5\"        \"MCBill\"     \"OwnRent\"    \"PBC1\"      \n",
       " [76] \"PBC2\"       \"PBC3R\"      \"PBC4\"       \"PBC5\"       \"Political\" \n",
       " [81] \"RewardForm\" \"SN\"         \"SN1\"        \"SN2\"        \"SN3\"       \n",
       " [86] \"SN4\"        \"Sqft\"       \"SqftCate\"   \"State\"      \"SubNorm\"   \n",
       " [91] \"SubNorm1\"   \"SubNorm2\"   \"SubNorm3\"   \"Summer_avg\" \"Trust1\"    \n",
       " [96] \"Trust2\"     \"Trust3\"     \"Trust4\"     \"Winter_avg\" \"X.9to5\"    "
      ]
     },
     "metadata": {},
     "output_type": "display_data"
    }
   ],
   "source": [
    "sort(names(data2))"
   ]
  },
  {
   "cell_type": "code",
   "execution_count": 7,
   "metadata": {
    "collapsed": false
   },
   "outputs": [],
   "source": [
    "#names(data2)\n",
    "#These are only variables we really care about\n",
    "IVS = c(\"Age\",\n",
    "\"Gender\",\n",
    "\"OwnRent\",\n",
    "\"SqftCate\",\n",
    "\"HouseholdS\",\n",
    "\"Political\",\n",
    "\"Ethnic\",\n",
    "\"Income\",\n",
    "\"Educ\",\n",
    "\"Frugal\",\n",
    "\"MC\",\n",
    "\"EnergyC\",\n",
    "\"Trust\",\n",
    "\"ComfNW\",\n",
    "\"Atti\",\n",
    "\"SubNorm\",\n",
    "\"PBC\",\n",
    "\"SN\",\n",
    "\"HabitG\",\n",
    "\"HabitC\",\n",
    "\"Latitude\",\n",
    "\"Winter_avg\",     \n",
    "\"HomeW\")"
   ]
  },
  {
   "cell_type": "code",
   "execution_count": 8,
   "metadata": {
    "collapsed": false
   },
   "outputs": [
    {
     "data": {
      "text/html": [
       "<ol class=list-inline>\n",
       "\t<li>'Age'</li>\n",
       "\t<li>'Atti'</li>\n",
       "\t<li>'Atti1'</li>\n",
       "\t<li>'Atti2'</li>\n",
       "\t<li>'Atti3'</li>\n",
       "\t<li>'Atti4'</li>\n",
       "\t<li>'BillS'</li>\n",
       "\t<li>'BillW'</li>\n",
       "\t<li>'CashYN'</li>\n",
       "\t<li>'ComfNS'</li>\n",
       "\t<li>'ComfNS1'</li>\n",
       "\t<li>'ComfNS2'</li>\n",
       "\t<li>'ComfNS3'</li>\n",
       "\t<li>'ComfNW'</li>\n",
       "\t<li>'ComfNW1'</li>\n",
       "\t<li>'ComfNW2'</li>\n",
       "\t<li>'ControlN1'</li>\n",
       "\t<li>'ControlN2R'</li>\n",
       "\t<li>'ControlN3'</li>\n",
       "\t<li>'ControlN4'</li>\n",
       "\t<li>'ConvB1'</li>\n",
       "\t<li>'ConvB2'</li>\n",
       "\t<li>'ConvB3'</li>\n",
       "\t<li>'ConvB4'</li>\n",
       "\t<li>'Educ'</li>\n",
       "\t<li>'EmerRForm'</li>\n",
       "\t<li>'EnergyC'</li>\n",
       "\t<li>'EnergyC1'</li>\n",
       "\t<li>'EnergyC2'</li>\n",
       "\t<li>'EnergyC3'</li>\n",
       "\t<li>'EnergyC4'</li>\n",
       "\t<li>'Ethnic'</li>\n",
       "\t<li>'Frugal1'</li>\n",
       "\t<li>'Frugal2'</li>\n",
       "\t<li>'Frugal3'</li>\n",
       "\t<li>'Gender'</li>\n",
       "\t<li>'HabitC'</li>\n",
       "\t<li>'HabitC1'</li>\n",
       "\t<li>'HabitC2'</li>\n",
       "\t<li>'HabitC3'</li>\n",
       "\t<li>'HabitC4'</li>\n",
       "\t<li>'HabitC5'</li>\n",
       "\t<li>'HabitC6'</li>\n",
       "\t<li>'HabitC7'</li>\n",
       "\t<li>'HabitE1'</li>\n",
       "\t<li>'HabitE2'</li>\n",
       "\t<li>'HabitE3'</li>\n",
       "\t<li>'HabitG'</li>\n",
       "\t<li>'HomeS'</li>\n",
       "\t<li>'HouseholdS'</li>\n",
       "\t<li>'INT1'</li>\n",
       "\t<li>'INT2'</li>\n",
       "\t<li>'INT3'</li>\n",
       "\t<li>'INT4'</li>\n",
       "\t<li>'IncAutoS'</li>\n",
       "\t<li>'IncAutoW'</li>\n",
       "\t<li>'IncAwayS'</li>\n",
       "\t<li>'IncAwayW'</li>\n",
       "\t<li>'IncEmer10S'</li>\n",
       "\t<li>'IncEmer10W'</li>\n",
       "\t<li>'IncEmer30S'</li>\n",
       "\t<li>'IncEmer30W'</li>\n",
       "\t<li>'IncHomeS'</li>\n",
       "\t<li>'IncHomeW'</li>\n",
       "\t<li>'Income'</li>\n",
       "\t<li>'Latitude'</li>\n",
       "\t<li>'MC'</li>\n",
       "\t<li>'MC1'</li>\n",
       "\t<li>'MC2'</li>\n",
       "\t<li>'MC3'</li>\n",
       "\t<li>'MC4'</li>\n",
       "\t<li>'MC5'</li>\n",
       "\t<li>'MCBill'</li>\n",
       "\t<li>'OwnRent'</li>\n",
       "\t<li>'PBC1'</li>\n",
       "\t<li>'PBC2'</li>\n",
       "\t<li>'PBC3R'</li>\n",
       "\t<li>'PBC4'</li>\n",
       "\t<li>'PBC5'</li>\n",
       "\t<li>'Political'</li>\n",
       "\t<li>'RewardForm'</li>\n",
       "\t<li>'SN'</li>\n",
       "\t<li>'SN1'</li>\n",
       "\t<li>'SN2'</li>\n",
       "\t<li>'SN3'</li>\n",
       "\t<li>'SN4'</li>\n",
       "\t<li>'Sqft'</li>\n",
       "\t<li>'SqftCate'</li>\n",
       "\t<li>'State'</li>\n",
       "\t<li>'SubNorm'</li>\n",
       "\t<li>'SubNorm1'</li>\n",
       "\t<li>'SubNorm2'</li>\n",
       "\t<li>'SubNorm3'</li>\n",
       "\t<li>'Summer_avg'</li>\n",
       "\t<li>'Trust1'</li>\n",
       "\t<li>'Trust2'</li>\n",
       "\t<li>'Trust3'</li>\n",
       "\t<li>'Trust4'</li>\n",
       "\t<li>'Winter_avg'</li>\n",
       "\t<li>'X.9to5'</li>\n",
       "</ol>\n"
      ],
      "text/latex": [
       "\\begin{enumerate*}\n",
       "\\item 'Age'\n",
       "\\item 'Atti'\n",
       "\\item 'Atti1'\n",
       "\\item 'Atti2'\n",
       "\\item 'Atti3'\n",
       "\\item 'Atti4'\n",
       "\\item 'BillS'\n",
       "\\item 'BillW'\n",
       "\\item 'CashYN'\n",
       "\\item 'ComfNS'\n",
       "\\item 'ComfNS1'\n",
       "\\item 'ComfNS2'\n",
       "\\item 'ComfNS3'\n",
       "\\item 'ComfNW'\n",
       "\\item 'ComfNW1'\n",
       "\\item 'ComfNW2'\n",
       "\\item 'ControlN1'\n",
       "\\item 'ControlN2R'\n",
       "\\item 'ControlN3'\n",
       "\\item 'ControlN4'\n",
       "\\item 'ConvB1'\n",
       "\\item 'ConvB2'\n",
       "\\item 'ConvB3'\n",
       "\\item 'ConvB4'\n",
       "\\item 'Educ'\n",
       "\\item 'EmerRForm'\n",
       "\\item 'EnergyC'\n",
       "\\item 'EnergyC1'\n",
       "\\item 'EnergyC2'\n",
       "\\item 'EnergyC3'\n",
       "\\item 'EnergyC4'\n",
       "\\item 'Ethnic'\n",
       "\\item 'Frugal1'\n",
       "\\item 'Frugal2'\n",
       "\\item 'Frugal3'\n",
       "\\item 'Gender'\n",
       "\\item 'HabitC'\n",
       "\\item 'HabitC1'\n",
       "\\item 'HabitC2'\n",
       "\\item 'HabitC3'\n",
       "\\item 'HabitC4'\n",
       "\\item 'HabitC5'\n",
       "\\item 'HabitC6'\n",
       "\\item 'HabitC7'\n",
       "\\item 'HabitE1'\n",
       "\\item 'HabitE2'\n",
       "\\item 'HabitE3'\n",
       "\\item 'HabitG'\n",
       "\\item 'HomeS'\n",
       "\\item 'HouseholdS'\n",
       "\\item 'INT1'\n",
       "\\item 'INT2'\n",
       "\\item 'INT3'\n",
       "\\item 'INT4'\n",
       "\\item 'IncAutoS'\n",
       "\\item 'IncAutoW'\n",
       "\\item 'IncAwayS'\n",
       "\\item 'IncAwayW'\n",
       "\\item 'IncEmer10S'\n",
       "\\item 'IncEmer10W'\n",
       "\\item 'IncEmer30S'\n",
       "\\item 'IncEmer30W'\n",
       "\\item 'IncHomeS'\n",
       "\\item 'IncHomeW'\n",
       "\\item 'Income'\n",
       "\\item 'Latitude'\n",
       "\\item 'MC'\n",
       "\\item 'MC1'\n",
       "\\item 'MC2'\n",
       "\\item 'MC3'\n",
       "\\item 'MC4'\n",
       "\\item 'MC5'\n",
       "\\item 'MCBill'\n",
       "\\item 'OwnRent'\n",
       "\\item 'PBC1'\n",
       "\\item 'PBC2'\n",
       "\\item 'PBC3R'\n",
       "\\item 'PBC4'\n",
       "\\item 'PBC5'\n",
       "\\item 'Political'\n",
       "\\item 'RewardForm'\n",
       "\\item 'SN'\n",
       "\\item 'SN1'\n",
       "\\item 'SN2'\n",
       "\\item 'SN3'\n",
       "\\item 'SN4'\n",
       "\\item 'Sqft'\n",
       "\\item 'SqftCate'\n",
       "\\item 'State'\n",
       "\\item 'SubNorm'\n",
       "\\item 'SubNorm1'\n",
       "\\item 'SubNorm2'\n",
       "\\item 'SubNorm3'\n",
       "\\item 'Summer\\_avg'\n",
       "\\item 'Trust1'\n",
       "\\item 'Trust2'\n",
       "\\item 'Trust3'\n",
       "\\item 'Trust4'\n",
       "\\item 'Winter\\_avg'\n",
       "\\item 'X.9to5'\n",
       "\\end{enumerate*}\n"
      ],
      "text/markdown": [
       "1. 'Age'\n",
       "2. 'Atti'\n",
       "3. 'Atti1'\n",
       "4. 'Atti2'\n",
       "5. 'Atti3'\n",
       "6. 'Atti4'\n",
       "7. 'BillS'\n",
       "8. 'BillW'\n",
       "9. 'CashYN'\n",
       "10. 'ComfNS'\n",
       "11. 'ComfNS1'\n",
       "12. 'ComfNS2'\n",
       "13. 'ComfNS3'\n",
       "14. 'ComfNW'\n",
       "15. 'ComfNW1'\n",
       "16. 'ComfNW2'\n",
       "17. 'ControlN1'\n",
       "18. 'ControlN2R'\n",
       "19. 'ControlN3'\n",
       "20. 'ControlN4'\n",
       "21. 'ConvB1'\n",
       "22. 'ConvB2'\n",
       "23. 'ConvB3'\n",
       "24. 'ConvB4'\n",
       "25. 'Educ'\n",
       "26. 'EmerRForm'\n",
       "27. 'EnergyC'\n",
       "28. 'EnergyC1'\n",
       "29. 'EnergyC2'\n",
       "30. 'EnergyC3'\n",
       "31. 'EnergyC4'\n",
       "32. 'Ethnic'\n",
       "33. 'Frugal1'\n",
       "34. 'Frugal2'\n",
       "35. 'Frugal3'\n",
       "36. 'Gender'\n",
       "37. 'HabitC'\n",
       "38. 'HabitC1'\n",
       "39. 'HabitC2'\n",
       "40. 'HabitC3'\n",
       "41. 'HabitC4'\n",
       "42. 'HabitC5'\n",
       "43. 'HabitC6'\n",
       "44. 'HabitC7'\n",
       "45. 'HabitE1'\n",
       "46. 'HabitE2'\n",
       "47. 'HabitE3'\n",
       "48. 'HabitG'\n",
       "49. 'HomeS'\n",
       "50. 'HouseholdS'\n",
       "51. 'INT1'\n",
       "52. 'INT2'\n",
       "53. 'INT3'\n",
       "54. 'INT4'\n",
       "55. 'IncAutoS'\n",
       "56. 'IncAutoW'\n",
       "57. 'IncAwayS'\n",
       "58. 'IncAwayW'\n",
       "59. 'IncEmer10S'\n",
       "60. 'IncEmer10W'\n",
       "61. 'IncEmer30S'\n",
       "62. 'IncEmer30W'\n",
       "63. 'IncHomeS'\n",
       "64. 'IncHomeW'\n",
       "65. 'Income'\n",
       "66. 'Latitude'\n",
       "67. 'MC'\n",
       "68. 'MC1'\n",
       "69. 'MC2'\n",
       "70. 'MC3'\n",
       "71. 'MC4'\n",
       "72. 'MC5'\n",
       "73. 'MCBill'\n",
       "74. 'OwnRent'\n",
       "75. 'PBC1'\n",
       "76. 'PBC2'\n",
       "77. 'PBC3R'\n",
       "78. 'PBC4'\n",
       "79. 'PBC5'\n",
       "80. 'Political'\n",
       "81. 'RewardForm'\n",
       "82. 'SN'\n",
       "83. 'SN1'\n",
       "84. 'SN2'\n",
       "85. 'SN3'\n",
       "86. 'SN4'\n",
       "87. 'Sqft'\n",
       "88. 'SqftCate'\n",
       "89. 'State'\n",
       "90. 'SubNorm'\n",
       "91. 'SubNorm1'\n",
       "92. 'SubNorm2'\n",
       "93. 'SubNorm3'\n",
       "94. 'Summer_avg'\n",
       "95. 'Trust1'\n",
       "96. 'Trust2'\n",
       "97. 'Trust3'\n",
       "98. 'Trust4'\n",
       "99. 'Winter_avg'\n",
       "100. 'X.9to5'\n",
       "\n",
       "\n"
      ],
      "text/plain": [
       "  [1] \"Age\"        \"Atti\"       \"Atti1\"      \"Atti2\"      \"Atti3\"     \n",
       "  [6] \"Atti4\"      \"BillS\"      \"BillW\"      \"CashYN\"     \"ComfNS\"    \n",
       " [11] \"ComfNS1\"    \"ComfNS2\"    \"ComfNS3\"    \"ComfNW\"     \"ComfNW1\"   \n",
       " [16] \"ComfNW2\"    \"ControlN1\"  \"ControlN2R\" \"ControlN3\"  \"ControlN4\" \n",
       " [21] \"ConvB1\"     \"ConvB2\"     \"ConvB3\"     \"ConvB4\"     \"Educ\"      \n",
       " [26] \"EmerRForm\"  \"EnergyC\"    \"EnergyC1\"   \"EnergyC2\"   \"EnergyC3\"  \n",
       " [31] \"EnergyC4\"   \"Ethnic\"     \"Frugal1\"    \"Frugal2\"    \"Frugal3\"   \n",
       " [36] \"Gender\"     \"HabitC\"     \"HabitC1\"    \"HabitC2\"    \"HabitC3\"   \n",
       " [41] \"HabitC4\"    \"HabitC5\"    \"HabitC6\"    \"HabitC7\"    \"HabitE1\"   \n",
       " [46] \"HabitE2\"    \"HabitE3\"    \"HabitG\"     \"HomeS\"      \"HouseholdS\"\n",
       " [51] \"INT1\"       \"INT2\"       \"INT3\"       \"INT4\"       \"IncAutoS\"  \n",
       " [56] \"IncAutoW\"   \"IncAwayS\"   \"IncAwayW\"   \"IncEmer10S\" \"IncEmer10W\"\n",
       " [61] \"IncEmer30S\" \"IncEmer30W\" \"IncHomeS\"   \"IncHomeW\"   \"Income\"    \n",
       " [66] \"Latitude\"   \"MC\"         \"MC1\"        \"MC2\"        \"MC3\"       \n",
       " [71] \"MC4\"        \"MC5\"        \"MCBill\"     \"OwnRent\"    \"PBC1\"      \n",
       " [76] \"PBC2\"       \"PBC3R\"      \"PBC4\"       \"PBC5\"       \"Political\" \n",
       " [81] \"RewardForm\" \"SN\"         \"SN1\"        \"SN2\"        \"SN3\"       \n",
       " [86] \"SN4\"        \"Sqft\"       \"SqftCate\"   \"State\"      \"SubNorm\"   \n",
       " [91] \"SubNorm1\"   \"SubNorm2\"   \"SubNorm3\"   \"Summer_avg\" \"Trust1\"    \n",
       " [96] \"Trust2\"     \"Trust3\"     \"Trust4\"     \"Winter_avg\" \"X.9to5\"    "
      ]
     },
     "metadata": {},
     "output_type": "display_data"
    },
    {
     "data": {
      "text/html": [
       "<ol class=list-inline>\n",
       "\t<li>'Age'</li>\n",
       "\t<li>'Atti'</li>\n",
       "\t<li>'ComfNW'</li>\n",
       "\t<li>'Educ'</li>\n",
       "\t<li>'EnergyC'</li>\n",
       "\t<li>'Ethnic'</li>\n",
       "\t<li>'Frugal'</li>\n",
       "\t<li>'Gender'</li>\n",
       "\t<li>'HabitC'</li>\n",
       "\t<li>'HabitG'</li>\n",
       "\t<li>'HomeW'</li>\n",
       "\t<li>'HouseholdS'</li>\n",
       "\t<li>'Income'</li>\n",
       "\t<li>'Latitude'</li>\n",
       "\t<li>'MC'</li>\n",
       "\t<li>'OwnRent'</li>\n",
       "\t<li>'PBC'</li>\n",
       "\t<li>'Political'</li>\n",
       "\t<li>'SN'</li>\n",
       "\t<li>'SqftCate'</li>\n",
       "\t<li>'SubNorm'</li>\n",
       "\t<li>'Trust'</li>\n",
       "\t<li>'Winter_avg'</li>\n",
       "</ol>\n"
      ],
      "text/latex": [
       "\\begin{enumerate*}\n",
       "\\item 'Age'\n",
       "\\item 'Atti'\n",
       "\\item 'ComfNW'\n",
       "\\item 'Educ'\n",
       "\\item 'EnergyC'\n",
       "\\item 'Ethnic'\n",
       "\\item 'Frugal'\n",
       "\\item 'Gender'\n",
       "\\item 'HabitC'\n",
       "\\item 'HabitG'\n",
       "\\item 'HomeW'\n",
       "\\item 'HouseholdS'\n",
       "\\item 'Income'\n",
       "\\item 'Latitude'\n",
       "\\item 'MC'\n",
       "\\item 'OwnRent'\n",
       "\\item 'PBC'\n",
       "\\item 'Political'\n",
       "\\item 'SN'\n",
       "\\item 'SqftCate'\n",
       "\\item 'SubNorm'\n",
       "\\item 'Trust'\n",
       "\\item 'Winter\\_avg'\n",
       "\\end{enumerate*}\n"
      ],
      "text/markdown": [
       "1. 'Age'\n",
       "2. 'Atti'\n",
       "3. 'ComfNW'\n",
       "4. 'Educ'\n",
       "5. 'EnergyC'\n",
       "6. 'Ethnic'\n",
       "7. 'Frugal'\n",
       "8. 'Gender'\n",
       "9. 'HabitC'\n",
       "10. 'HabitG'\n",
       "11. 'HomeW'\n",
       "12. 'HouseholdS'\n",
       "13. 'Income'\n",
       "14. 'Latitude'\n",
       "15. 'MC'\n",
       "16. 'OwnRent'\n",
       "17. 'PBC'\n",
       "18. 'Political'\n",
       "19. 'SN'\n",
       "20. 'SqftCate'\n",
       "21. 'SubNorm'\n",
       "22. 'Trust'\n",
       "23. 'Winter_avg'\n",
       "\n",
       "\n"
      ],
      "text/plain": [
       " [1] \"Age\"        \"Atti\"       \"ComfNW\"     \"Educ\"       \"EnergyC\"   \n",
       " [6] \"Ethnic\"     \"Frugal\"     \"Gender\"     \"HabitC\"     \"HabitG\"    \n",
       "[11] \"HomeW\"      \"HouseholdS\" \"Income\"     \"Latitude\"   \"MC\"        \n",
       "[16] \"OwnRent\"    \"PBC\"        \"Political\"  \"SN\"         \"SqftCate\"  \n",
       "[21] \"SubNorm\"    \"Trust\"      \"Winter_avg\""
      ]
     },
     "metadata": {},
     "output_type": "display_data"
    }
   ],
   "source": [
    "sort(names(data2))\n",
    "paste(sort(IVS))"
   ]
  },
  {
   "cell_type": "code",
   "execution_count": 9,
   "metadata": {
    "collapsed": false
   },
   "outputs": [
    {
     "data": {
      "text/html": [
       "<ol class=list-inline>\n",
       "\t<li>'Age'</li>\n",
       "\t<li>'Atti'</li>\n",
       "\t<li>'ComfNW'</li>\n",
       "\t<li>'Educ'</li>\n",
       "\t<li>'EnergyC'</li>\n",
       "\t<li>'Ethnic'</li>\n",
       "\t<li>'Gender'</li>\n",
       "\t<li>'HabitC'</li>\n",
       "\t<li>'HabitG'</li>\n",
       "\t<li>'HouseholdS'</li>\n",
       "\t<li>'IncAwayW'</li>\n",
       "\t<li>'Income'</li>\n",
       "\t<li>'Latitude'</li>\n",
       "\t<li>'MC'</li>\n",
       "\t<li>'OwnRent'</li>\n",
       "\t<li>'Political'</li>\n",
       "\t<li>'SN'</li>\n",
       "\t<li>'SqftCate'</li>\n",
       "\t<li>'SubNorm'</li>\n",
       "\t<li>'Winter_avg'</li>\n",
       "</ol>\n"
      ],
      "text/latex": [
       "\\begin{enumerate*}\n",
       "\\item 'Age'\n",
       "\\item 'Atti'\n",
       "\\item 'ComfNW'\n",
       "\\item 'Educ'\n",
       "\\item 'EnergyC'\n",
       "\\item 'Ethnic'\n",
       "\\item 'Gender'\n",
       "\\item 'HabitC'\n",
       "\\item 'HabitG'\n",
       "\\item 'HouseholdS'\n",
       "\\item 'IncAwayW'\n",
       "\\item 'Income'\n",
       "\\item 'Latitude'\n",
       "\\item 'MC'\n",
       "\\item 'OwnRent'\n",
       "\\item 'Political'\n",
       "\\item 'SN'\n",
       "\\item 'SqftCate'\n",
       "\\item 'SubNorm'\n",
       "\\item 'Winter\\_avg'\n",
       "\\end{enumerate*}\n"
      ],
      "text/markdown": [
       "1. 'Age'\n",
       "2. 'Atti'\n",
       "3. 'ComfNW'\n",
       "4. 'Educ'\n",
       "5. 'EnergyC'\n",
       "6. 'Ethnic'\n",
       "7. 'Gender'\n",
       "8. 'HabitC'\n",
       "9. 'HabitG'\n",
       "10. 'HouseholdS'\n",
       "11. 'IncAwayW'\n",
       "12. 'Income'\n",
       "13. 'Latitude'\n",
       "14. 'MC'\n",
       "15. 'OwnRent'\n",
       "16. 'Political'\n",
       "17. 'SN'\n",
       "18. 'SqftCate'\n",
       "19. 'SubNorm'\n",
       "20. 'Winter_avg'\n",
       "\n",
       "\n"
      ],
      "text/plain": [
       " [1] \"Age\"        \"Atti\"       \"ComfNW\"     \"Educ\"       \"EnergyC\"   \n",
       " [6] \"Ethnic\"     \"Gender\"     \"HabitC\"     \"HabitG\"     \"HouseholdS\"\n",
       "[11] \"IncAwayW\"   \"Income\"     \"Latitude\"   \"MC\"         \"OwnRent\"   \n",
       "[16] \"Political\"  \"SN\"         \"SqftCate\"   \"SubNorm\"    \"Winter_avg\""
      ]
     },
     "metadata": {},
     "output_type": "display_data"
    }
   ],
   "source": [
    "data1 <- data2[, which(names(data2) %in% c(\"IncAwayW\",IVS))];\n",
    "sort(names(data1))"
   ]
  },
  {
   "cell_type": "code",
   "execution_count": 10,
   "metadata": {
    "collapsed": true
   },
   "outputs": [],
   "source": [
    "#Check to see if there are anymore missing values\n",
    "for (n in names(data1)){\n",
    "    nmis = sum(is.na(data1[,n]))\n",
    "    if(nmis >1)  print (c(n, sum(is.na(data1[,n]))))\n",
    "}"
   ]
  },
  {
   "cell_type": "code",
   "execution_count": 11,
   "metadata": {
    "collapsed": false
   },
   "outputs": [],
   "source": [
    "#names(data1)\n",
    "\n",
    "#Fields with lots of missing values\n",
    "for (n in names(data1)){\n",
    "    nmis = sum(is.na(data1[,n]))\n",
    "    if(nmis >1)  print (c(n, sum(is.na(data1[,n]))))\n",
    "}\n",
    "    \n",
    "    \n",
    "# What about high correlations?\n",
    "hiCor <- function(x, level){\n",
    "  res <- cor(x,method=\"spearman\");\n",
    "  res1 <- res; res1[res<0] <- -res[res < 0];\n",
    "  for (i in 1:dim(x)[2]){\n",
    "    res1[i,i] <- 0;\n",
    "  }\n",
    "  sel <- apply(res1,1,max,na.rm=T) > level;\n",
    "  res[sel,sel];\n",
    "}\n",
    "#hiCor(data1,.75)"
   ]
  },
  {
   "cell_type": "code",
   "execution_count": 12,
   "metadata": {
    "collapsed": false
   },
   "outputs": [
    {
     "data": {
      "text/html": [
       "<ol class=list-inline>\n",
       "\t<li>'IncAwayW'</li>\n",
       "\t<li>'Age'</li>\n",
       "\t<li>'Gender'</li>\n",
       "\t<li>'OwnRent'</li>\n",
       "\t<li>'SqftCate'</li>\n",
       "\t<li>'HouseholdS'</li>\n",
       "\t<li>'Political'</li>\n",
       "\t<li>'Ethnic'</li>\n",
       "\t<li>'Income'</li>\n",
       "\t<li>'Educ'</li>\n",
       "\t<li>'Latitude'</li>\n",
       "\t<li>'EnergyC'</li>\n",
       "\t<li>'MC'</li>\n",
       "\t<li>'ComfNW'</li>\n",
       "\t<li>'Atti'</li>\n",
       "\t<li>'SubNorm'</li>\n",
       "\t<li>'SN'</li>\n",
       "\t<li>'HabitG'</li>\n",
       "\t<li>'HabitC'</li>\n",
       "\t<li>'Winter_avg'</li>\n",
       "</ol>\n"
      ],
      "text/latex": [
       "\\begin{enumerate*}\n",
       "\\item 'IncAwayW'\n",
       "\\item 'Age'\n",
       "\\item 'Gender'\n",
       "\\item 'OwnRent'\n",
       "\\item 'SqftCate'\n",
       "\\item 'HouseholdS'\n",
       "\\item 'Political'\n",
       "\\item 'Ethnic'\n",
       "\\item 'Income'\n",
       "\\item 'Educ'\n",
       "\\item 'Latitude'\n",
       "\\item 'EnergyC'\n",
       "\\item 'MC'\n",
       "\\item 'ComfNW'\n",
       "\\item 'Atti'\n",
       "\\item 'SubNorm'\n",
       "\\item 'SN'\n",
       "\\item 'HabitG'\n",
       "\\item 'HabitC'\n",
       "\\item 'Winter\\_avg'\n",
       "\\end{enumerate*}\n"
      ],
      "text/markdown": [
       "1. 'IncAwayW'\n",
       "2. 'Age'\n",
       "3. 'Gender'\n",
       "4. 'OwnRent'\n",
       "5. 'SqftCate'\n",
       "6. 'HouseholdS'\n",
       "7. 'Political'\n",
       "8. 'Ethnic'\n",
       "9. 'Income'\n",
       "10. 'Educ'\n",
       "11. 'Latitude'\n",
       "12. 'EnergyC'\n",
       "13. 'MC'\n",
       "14. 'ComfNW'\n",
       "15. 'Atti'\n",
       "16. 'SubNorm'\n",
       "17. 'SN'\n",
       "18. 'HabitG'\n",
       "19. 'HabitC'\n",
       "20. 'Winter_avg'\n",
       "\n",
       "\n"
      ],
      "text/plain": [
       " [1] \"IncAwayW\"   \"Age\"        \"Gender\"     \"OwnRent\"    \"SqftCate\"  \n",
       " [6] \"HouseholdS\" \"Political\"  \"Ethnic\"     \"Income\"     \"Educ\"      \n",
       "[11] \"Latitude\"   \"EnergyC\"    \"MC\"         \"ComfNW\"     \"Atti\"      \n",
       "[16] \"SubNorm\"    \"SN\"         \"HabitG\"     \"HabitC\"     \"Winter_avg\""
      ]
     },
     "metadata": {},
     "output_type": "display_data"
    }
   ],
   "source": [
    "data2 <- data1;\n",
    "data2 <- na.omit(data2)\n",
    "names(data2)"
   ]
  },
  {
   "cell_type": "code",
   "execution_count": 13,
   "metadata": {
    "collapsed": true
   },
   "outputs": [],
   "source": [
    "#Check to see if there are anymore missing values\n",
    "for (n in names(data2)){\n",
    "    nmis = sum(is.na(data2[,n]))\n",
    "    if(nmis >1)  print (c(n, sum(is.na(data2[,n]))))\n",
    "}"
   ]
  },
  {
   "cell_type": "code",
   "execution_count": 14,
   "metadata": {
    "collapsed": false
   },
   "outputs": [
    {
     "data": {
      "text/html": [
       "<table>\n",
       "<thead><tr><th></th><th scope=col>Latitude</th><th scope=col>Winter_avg</th></tr></thead>\n",
       "<tbody>\n",
       "\t<tr><th scope=row>Latitude</th><td>1.00</td><td>0.82</td></tr>\n",
       "\t<tr><th scope=row>Winter_avg</th><td>0.82</td><td>1.00</td></tr>\n",
       "</tbody>\n",
       "</table>\n"
      ],
      "text/latex": [
       "\\begin{tabular}{r|ll}\n",
       "  & Latitude & Winter\\_avg\\\\\n",
       "\\hline\n",
       "\tLatitude & 1.00 & 0.82\\\\\n",
       "\tWinter\\_avg & 0.82 & 1.00\\\\\n",
       "\\end{tabular}\n"
      ],
      "text/markdown": [
       "1. 1\n",
       "2. 0.819818741465419\n",
       "3. 0.819818741465419\n",
       "4. 1\n",
       "\n",
       "\n"
      ],
      "text/plain": [
       "           Latitude Winter_avg\n",
       "Latitude   1.00     0.82      \n",
       "Winter_avg 0.82     1.00      "
      ]
     },
     "metadata": {},
     "output_type": "display_data"
    }
   ],
   "source": [
    "hiCor(data2,.7)"
   ]
  },
  {
   "cell_type": "code",
   "execution_count": 15,
   "metadata": {
    "collapsed": false
   },
   "outputs": [
    {
     "name": "stdout",
     "output_type": "stream",
     "text": [
      "[1] 0.14\n",
      "    EnergyC    MC  Atti SubNorm    SN HabitG HabitC\n",
      "PC1   -0.42 -0.34 -0.44   -0.37 -0.23  -0.31  -0.29\n",
      "[1] 0.25\n",
      "      Age OwnRent SqftCate HouseholdS Income\n",
      "PC2 -0.34    -0.5    -0.52      -0.27  -0.44\n",
      "[1] 0.34\n",
      "    Latitude Winter_avg\n",
      "PC3    -0.66      -0.66\n",
      "[1] 0.42\n",
      "    Gender HouseholdS Ethnic  Educ ComfNW HabitC\n",
      "PC4   0.36       0.48  -0.32 -0.33   0.49   -0.3\n",
      "[1] 0.48\n",
      "    Political Ethnic Income  Educ EnergyC   MC HabitG HabitC\n",
      "PC5     -0.53   0.22  -0.22 -0.41   -0.24 0.21   0.41   0.28\n",
      "[1] 0.54\n",
      "     Age Gender HouseholdS Ethnic Income SubNorm    SN\n",
      "PC6 0.51   0.38       -0.2   0.31  -0.25   -0.26 -0.42\n",
      "[1] 0.59\n",
      "    IncAwayW Political Educ ComfNW SubNorm\n",
      "PC7     0.43     -0.24 0.43   0.55    0.25\n",
      "[1] 0.64\n",
      "    IncAwayW Gender Ethnic   MC ComfNW HabitG\n",
      "PC8    -0.75  -0.25  -0.21 0.23   0.24   0.27\n",
      "[1] 0.68\n",
      "    IncAwayW  Age Political Ethnic SubNorm HabitG HabitC\n",
      "PC9     0.31 0.24      0.21  -0.65   -0.27   0.26   0.27\n",
      "[1] 0.73\n",
      "     IncAwayW  Age Gender HouseholdS Income EnergyC    MC  Atti   SN HabitC\n",
      "PC10    -0.21 0.31   0.34       -0.2  -0.22    -0.2 -0.49 -0.22 0.47   0.26\n",
      "[1] 0.77\n",
      "     Age Gender HouseholdS  Educ  SN HabitC\n",
      "PC11 0.2  -0.53      -0.21 -0.38 0.4  -0.42\n",
      "[1] 0.8\n",
      "     SqftCate Political Ethnic ComfNW Atti SubNorm  SN HabitG\n",
      "PC12    -0.24      -0.5  -0.33   -0.3 0.21   -0.29 0.3  -0.46\n",
      "[1] 0.83\n",
      "     Gender Political EnergyC    MC SubNorm    SN\n",
      "PC13  -0.25     -0.34    0.24 -0.42    0.47 -0.41\n",
      "[1] 0.86\n",
      "     OwnRent Political Income EnergyC    MC SubNorm HabitG\n",
      "PC14   -0.23     -0.25    0.5    0.26 -0.44   -0.26   0.43\n",
      "[1] 0.89\n",
      "       Age OwnRent HouseholdS Income EnergyC    MC ComfNW\n",
      "PC15 -0.49     0.6      -0.25  -0.27    0.25 -0.21   0.21\n",
      "[1] 0.92\n",
      "     Gender OwnRent SqftCate HouseholdS Income  Educ ComfNW  Atti SubNorm\n",
      "PC16   0.29    0.36     -0.3      -0.21    0.3 -0.27  -0.24 -0.29    0.43\n",
      "     HabitC\n",
      "PC16  -0.24\n",
      "[1] 0.94\n",
      "     HouseholdS Income Educ ComfNW HabitG HabitC\n",
      "PC17        0.4  -0.38  0.4  -0.32   0.37  -0.37\n",
      "[1] 0.97\n",
      "     OwnRent SqftCate HouseholdS HabitC\n",
      "PC18     0.3    -0.68        0.4   0.29\n",
      "[1] 0.99\n",
      "     EnergyC Atti\n",
      "PC19   -0.63 0.64\n",
      "[1] 1\n",
      "     Latitude Winter_avg\n",
      "PC20      0.7       -0.7\n"
     ]
    }
   ],
   "source": [
    "res<-prcomp(data2, retx=F,scale=T)$rotation[,1:20];\n",
    "resAbs <- res;\n",
    "resAbs[res<0] <- -res[res<0];\n",
    "z <- cumsum(prcomp(data2, retx=F,scale=T)$sdev^2)/\n",
    "     sum(prcomp(data2, retx=F,scale=T)$sdev^2)\n",
    "\n",
    "for (i in 1:20){\n",
    "  print(z[i]);\n",
    "  print(t(res[resAbs[,i]>.2,i,drop=FALSE]));\n",
    "}\n"
   ]
  },
  {
   "cell_type": "code",
   "execution_count": 16,
   "metadata": {
    "collapsed": false
   },
   "outputs": [
    {
     "data": {
      "image/png": "[encoded data removed]",
      "text/plain": [
       "plot without title"
      ]
     },
     "metadata": {},
     "output_type": "display_data"
    }
   ],
   "source": [
    "plot(1:dim(data2)[2],cumsum(prcomp(data2, retx=F,scale=T)$sdev^2)/\n",
    "     sum(prcomp(data2, retx=F,scale=T)$sdev^2),\n",
    "     ylim=c(0,1),xlab=\"Number of coponents\",\n",
    "     ylab=\"Fraction of variance\");"
   ]
  },
  {
   "cell_type": "code",
   "execution_count": 17,
   "metadata": {
    "collapsed": true
   },
   "outputs": [],
   "source": [
    "res <- c();\n",
    "vnam <- names(data2);\n",
    "for (i in 2:dim(data2)[2]){\n",
    "  fmla <- as.formula(paste(vnam[i],paste(vnam[-c(1,i)],collapse=\"+\"),sep=\"~\"));\n",
    "  res <- rbind(res,c(i,round(summary(lm(fmla,data=data2))$r.squared,2)));\n",
    "}"
   ]
  },
  {
   "cell_type": "code",
   "execution_count": 18,
   "metadata": {
    "collapsed": false
   },
   "outputs": [
    {
     "data": {
      "text/html": [
       "<table>\n",
       "<tbody>\n",
       "\t<tr><th scope=row>Winter_avg</th><td>20  </td><td>0.52</td></tr>\n",
       "\t<tr><th scope=row>Latitude</th><td>11  </td><td>0.51</td></tr>\n",
       "\t<tr><th scope=row>Atti</th><td>15  </td><td>0.42</td></tr>\n",
       "\t<tr><th scope=row>EnergyC</th><td>12  </td><td>0.40</td></tr>\n",
       "\t<tr><th scope=row>SqftCate</th><td> 5  </td><td>0.36</td></tr>\n",
       "\t<tr><th scope=row>OwnRent</th><td> 4  </td><td>0.31</td></tr>\n",
       "\t<tr><th scope=row>HouseholdS</th><td> 6  </td><td>0.26</td></tr>\n",
       "\t<tr><th scope=row>Income</th><td> 9  </td><td>0.26</td></tr>\n",
       "\t<tr><th scope=row>SubNorm</th><td>16  </td><td>0.26</td></tr>\n",
       "\t<tr><th scope=row>HabitC</th><td>19  </td><td>0.25</td></tr>\n",
       "\t<tr><th scope=row>MC</th><td>13  </td><td>0.22</td></tr>\n",
       "\t<tr><th scope=row>HabitG</th><td>18  </td><td>0.22</td></tr>\n",
       "\t<tr><th scope=row>Age</th><td> 2  </td><td>0.19</td></tr>\n",
       "\t<tr><th scope=row>ComfNW</th><td>14  </td><td>0.18</td></tr>\n",
       "\t<tr><th scope=row>Educ</th><td>10  </td><td>0.16</td></tr>\n",
       "\t<tr><th scope=row>Gender</th><td> 3  </td><td>0.15</td></tr>\n",
       "\t<tr><th scope=row>Political</th><td> 7  </td><td>0.15</td></tr>\n",
       "\t<tr><th scope=row>SN</th><td>17  </td><td>0.14</td></tr>\n",
       "\t<tr><th scope=row>Ethnic</th><td> 8  </td><td>0.10</td></tr>\n",
       "</tbody>\n",
       "</table>\n"
      ],
      "text/latex": [
       "\\begin{tabular}{r|ll}\n",
       "\tWinter\\_avg & 20   & 0.52\\\\\n",
       "\tLatitude & 11   & 0.51\\\\\n",
       "\tAtti & 15   & 0.42\\\\\n",
       "\tEnergyC & 12   & 0.40\\\\\n",
       "\tSqftCate &  5   & 0.36\\\\\n",
       "\tOwnRent &  4   & 0.31\\\\\n",
       "\tHouseholdS &  6   & 0.26\\\\\n",
       "\tIncome &  9   & 0.26\\\\\n",
       "\tSubNorm & 16   & 0.26\\\\\n",
       "\tHabitC & 19   & 0.25\\\\\n",
       "\tMC & 13   & 0.22\\\\\n",
       "\tHabitG & 18   & 0.22\\\\\n",
       "\tAge &  2   & 0.19\\\\\n",
       "\tComfNW & 14   & 0.18\\\\\n",
       "\tEduc & 10   & 0.16\\\\\n",
       "\tGender &  3   & 0.15\\\\\n",
       "\tPolitical &  7   & 0.15\\\\\n",
       "\tSN & 17   & 0.14\\\\\n",
       "\tEthnic &  8   & 0.10\\\\\n",
       "\\end{tabular}\n"
      ],
      "text/markdown": [
       "1. 20\n",
       "2. 11\n",
       "3. 15\n",
       "4. 12\n",
       "5. 5\n",
       "6. 4\n",
       "7. 6\n",
       "8. 9\n",
       "9. 16\n",
       "10. 19\n",
       "11. 13\n",
       "12. 18\n",
       "13. 2\n",
       "14. 14\n",
       "15. 10\n",
       "16. 3\n",
       "17. 7\n",
       "18. 17\n",
       "19. 8\n",
       "20. 0.52\n",
       "21. 0.51\n",
       "22. 0.42\n",
       "23. 0.4\n",
       "24. 0.36\n",
       "25. 0.31\n",
       "26. 0.26\n",
       "27. 0.26\n",
       "28. 0.26\n",
       "29. 0.25\n",
       "30. 0.22\n",
       "31. 0.22\n",
       "32. 0.19\n",
       "33. 0.18\n",
       "34. 0.16\n",
       "35. 0.15\n",
       "36. 0.15\n",
       "37. 0.14\n",
       "38. 0.1\n",
       "\n",
       "\n"
      ],
      "text/plain": [
       "           [,1] [,2]\n",
       "Winter_avg 20   0.52\n",
       "Latitude   11   0.51\n",
       "Atti       15   0.42\n",
       "EnergyC    12   0.40\n",
       "SqftCate    5   0.36\n",
       "OwnRent     4   0.31\n",
       "HouseholdS  6   0.26\n",
       "Income      9   0.26\n",
       "SubNorm    16   0.26\n",
       "HabitC     19   0.25\n",
       "MC         13   0.22\n",
       "HabitG     18   0.22\n",
       "Age         2   0.19\n",
       "ComfNW     14   0.18\n",
       "Educ       10   0.16\n",
       "Gender      3   0.15\n",
       "Political   7   0.15\n",
       "SN         17   0.14\n",
       "Ethnic      8   0.10"
      ]
     },
     "metadata": {},
     "output_type": "display_data"
    }
   ],
   "source": [
    "row.names(res) <- vnam[res[,1]];\n",
    "o = order(-res[,2]);\n",
    "res[o,][res[o,2]<.7,]"
   ]
  },
  {
   "cell_type": "code",
   "execution_count": 19,
   "metadata": {
    "collapsed": false
   },
   "outputs": [],
   "source": [
    "IndepPred <- row.names(res[o,][res[o,2]<.7,])"
   ]
  },
  {
   "cell_type": "code",
   "execution_count": 20,
   "metadata": {
    "collapsed": false
   },
   "outputs": [],
   "source": [
    "#IndepPred = c('Atti', 'EnergyC', 'SqftCate', 'OwnRent', 'MC', 'HouseholdS', 'Income', 'SubNorm', 'HabitC', 'Educ', 'PBC', 'Political', 'Gender', 'ComfNW', 'Latitude', 'Ethnic')\n",
    "IndepPred = c('Age', 'Gender', 'OwnRent', 'SqftCate', 'HouseholdS', 'Political', 'Ethnic', 'Income', 'Educ', 'Latitude', 'EnergyC', 'MC', 'ComfNW', 'HabitC', 'Winter_avg')"
   ]
  },
  {
   "cell_type": "code",
   "execution_count": 21,
   "metadata": {
    "collapsed": true
   },
   "outputs": [],
   "source": [
    "fmla <- as.formula(paste(\"IncAwayW\",paste(IndepPred,collapse=\"+\"),sep=\"~\"));"
   ]
  },
  {
   "cell_type": "code",
   "execution_count": 22,
   "metadata": {
    "collapsed": false
   },
   "outputs": [
    {
     "data": {
      "text/plain": [
       "\n",
       "  1   2   3   4   5   6   7   8  99 \n",
       " 59  40  64 128  97  71  86  76  11 "
      ]
     },
     "metadata": {},
     "output_type": "display_data"
    }
   ],
   "source": [
    "table(data2[,\"IncAwayW\"])"
   ]
  },
  {
   "cell_type": "code",
   "execution_count": 23,
   "metadata": {
    "collapsed": false
   },
   "outputs": [
    {
     "data": {
      "text/plain": [
       "\n",
       "Call:\n",
       "lm(formula = fmla, data = data2)\n",
       "\n",
       "Residuals:\n",
       "   Min     1Q Median     3Q    Max \n",
       "-10.60  -3.61  -1.47   0.61  93.41 \n",
       "\n",
       "Coefficients:\n",
       "            Estimate Std. Error t value Pr(>|t|)  \n",
       "(Intercept)  12.4064     6.3140    1.96    0.050 *\n",
       "Age           0.0538     0.0494    1.09    0.277  \n",
       "Gender       -0.7135     1.0681   -0.67    0.504  \n",
       "OwnRent      -0.8840     1.1518   -0.77    0.443  \n",
       "SqftCate     -0.6653     0.5572   -1.19    0.233  \n",
       "HouseholdS    0.0800     0.4741    0.17    0.866  \n",
       "Political    -0.6701     0.6507   -1.03    0.303  \n",
       "Ethnic        1.3421     1.3833    0.97    0.332  \n",
       "Income        0.5079     0.2927    1.74    0.083 .\n",
       "Educ         -0.6405     0.4834   -1.33    0.186  \n",
       "Latitude     -0.1188     0.1373   -0.87    0.387  \n",
       "EnergyC      -0.2398     0.4018   -0.60    0.551  \n",
       "MC           -0.0964     0.4941   -0.20    0.845  \n",
       "ComfNW        0.1057     0.3126    0.34    0.735  \n",
       "HabitC        0.6592     0.3799    1.74    0.083 .\n",
       "Winter_avg   -0.9392     0.9361   -1.00    0.316  \n",
       "---\n",
       "Signif. codes:  0 '***' 0.001 '**' 0.01 '*' 0.05 '.' 0.1 ' ' 1\n",
       "\n",
       "Residual standard error: 12 on 616 degrees of freedom\n",
       "Multiple R-squared:  0.0279,\tAdjusted R-squared:  0.00425 \n",
       "F-statistic: 1.18 on 15 and 616 DF,  p-value: 0.283\n"
      ]
     },
     "metadata": {},
     "output_type": "display_data"
    }
   ],
   "source": [
    "mod = lm(fmla,data=data2)\n",
    "summary(mod)"
   ]
  },
  {
   "cell_type": "code",
   "execution_count": 24,
   "metadata": {
    "collapsed": false
   },
   "outputs": [
    {
     "data": {
      "text/plain": [
       "\n",
       "Call:\n",
       "lm(formula = fmla, data = data2, subset = data2$Latitude < 37)\n",
       "\n",
       "Residuals:\n",
       "   Min     1Q Median     3Q    Max \n",
       "-14.87  -5.29  -2.59   0.36  89.98 \n",
       "\n",
       "Coefficients:\n",
       "            Estimate Std. Error t value Pr(>|t|)  \n",
       "(Intercept)  25.2964    15.1610    1.67    0.096 .\n",
       "Age          -0.0446     0.1022   -0.44    0.663  \n",
       "Gender       -2.0428     2.1790   -0.94    0.349  \n",
       "OwnRent      -2.3357     2.2857   -1.02    0.308  \n",
       "SqftCate     -0.8786     1.1276   -0.78    0.437  \n",
       "HouseholdS   -0.0255     0.8953   -0.03    0.977  \n",
       "Political     0.4814     1.3676    0.35    0.725  \n",
       "Ethnic        1.9605     2.5477    0.77    0.442  \n",
       "Income        0.9159     0.5769    1.59    0.114  \n",
       "Educ          0.0821     0.9744    0.08    0.933  \n",
       "Latitude     -0.2274     0.3146   -0.72    0.470  \n",
       "EnergyC      -1.1439     0.8367   -1.37    0.173  \n",
       "MC           -0.9666     1.0585   -0.91    0.362  \n",
       "ComfNW        0.4296     0.6350    0.68    0.499  \n",
       "HabitC        1.1962     0.7624    1.57    0.118  \n",
       "Winter_avg   -3.0942     4.4475   -0.70    0.487  \n",
       "---\n",
       "Signif. codes:  0 '***' 0.001 '**' 0.01 '*' 0.05 '.' 0.1 ' ' 1\n",
       "\n",
       "Residual standard error: 16 on 255 degrees of freedom\n",
       "Multiple R-squared:  0.0533,\tAdjusted R-squared:  -0.00243 \n",
       "F-statistic: 0.956 on 15 and 255 DF,  p-value: 0.502\n"
      ]
     },
     "metadata": {},
     "output_type": "display_data"
    }
   ],
   "source": [
    "mod = lm(fmla,data=data2,subs=data2$Latitude<37)\n",
    "summary(mod)"
   ]
  },
  {
   "cell_type": "code",
   "execution_count": 25,
   "metadata": {
    "collapsed": false
   },
   "outputs": [
    {
     "data": {
      "text/plain": [
       "\n",
       "Call:\n",
       "lm(formula = fmla, data = data2, subset = data2$Latitude > 37)\n",
       "\n",
       "Residuals:\n",
       "   Min     1Q Median     3Q    Max \n",
       "-10.18  -2.64  -0.42   1.42  86.68 \n",
       "\n",
       "Coefficients:\n",
       "            Estimate Std. Error t value Pr(>|t|)   \n",
       "(Intercept)  0.76146    7.88891    0.10   0.9232   \n",
       "Age          0.12487    0.04435    2.82   0.0052 **\n",
       "Gender      -0.01394    0.97804   -0.01   0.9886   \n",
       "OwnRent      1.04863    1.08809    0.96   0.3359   \n",
       "SqftCate    -0.90199    0.50729   -1.78   0.0763 . \n",
       "HouseholdS   0.28121    0.46186    0.61   0.5430   \n",
       "Political   -1.27180    0.58206   -2.19   0.0296 * \n",
       "Ethnic       1.13537    1.40113    0.81   0.4183   \n",
       "Income       0.13682    0.27359    0.50   0.6173   \n",
       "Educ        -1.01463    0.43949   -2.31   0.0216 * \n",
       "Latitude    -0.00137    0.18282   -0.01   0.9940   \n",
       "EnergyC      0.42521    0.35976    1.18   0.2380   \n",
       "MC           0.65190    0.43690    1.49   0.1366   \n",
       "ComfNW      -0.02210    0.28353   -0.08   0.9379   \n",
       "HabitC       0.29715    0.35033    0.85   0.3969   \n",
       "Winter_avg  -0.96708    0.80303   -1.20   0.2293   \n",
       "---\n",
       "Signif. codes:  0 '***' 0.001 '**' 0.01 '*' 0.05 '.' 0.1 ' ' 1\n",
       "\n",
       "Residual standard error: 8.6 on 345 degrees of freedom\n",
       "Multiple R-squared:  0.0821,\tAdjusted R-squared:  0.0422 \n",
       "F-statistic: 2.06 on 15 and 345 DF,  p-value: 0.0116\n"
      ]
     },
     "metadata": {},
     "output_type": "display_data"
    }
   ],
   "source": [
    "mod = lm(fmla,data=data2,subs=data2$Latitude>37)\n",
    "summary(mod)"
   ]
  },
  {
   "cell_type": "code",
   "execution_count": 26,
   "metadata": {
    "collapsed": false
   },
   "outputs": [
    {
     "data": {
      "text/plain": [
       "\n",
       "Call:\n",
       "lm(formula = fmla, data = data2, subset = data2$Winter_avg == \n",
       "    3)\n",
       "\n",
       "Residuals:\n",
       "   Min     1Q Median     3Q    Max \n",
       "-4.290 -1.504 -0.141  1.800  4.116 \n",
       "\n",
       "Coefficients: (1 not defined because of singularities)\n",
       "            Estimate Std. Error t value Pr(>|t|)  \n",
       "(Intercept)   6.6309     2.9883    2.22    0.029 *\n",
       "Age           0.0217     0.0189    1.15    0.254  \n",
       "Gender        0.2798     0.4438    0.63    0.530  \n",
       "OwnRent       0.1511     0.4904    0.31    0.759  \n",
       "SqftCate     -0.2598     0.2264   -1.15    0.254  \n",
       "HouseholdS    0.0213     0.2036    0.10    0.917  \n",
       "Political    -0.1481     0.2615   -0.57    0.572  \n",
       "Ethnic        1.2404     0.6605    1.88    0.063 .\n",
       "Income       -0.0628     0.1249   -0.50    0.616  \n",
       "Educ         -0.1320     0.2077   -0.64    0.526  \n",
       "Latitude     -0.0774     0.0508   -1.52    0.131  \n",
       "EnergyC       0.0753     0.1675    0.45    0.654  \n",
       "MC           -0.0495     0.2152   -0.23    0.818  \n",
       "ComfNW        0.2744     0.1232    2.23    0.028 *\n",
       "HabitC       -0.1019     0.1592   -0.64    0.524  \n",
       "Winter_avg        NA         NA      NA       NA  \n",
       "---\n",
       "Signif. codes:  0 '***' 0.001 '**' 0.01 '*' 0.05 '.' 0.1 ' ' 1\n",
       "\n",
       "Residual standard error: 2.2 on 101 degrees of freedom\n",
       "Multiple R-squared:  0.146,\tAdjusted R-squared:  0.028 \n",
       "F-statistic: 1.24 on 14 and 101 DF,  p-value: 0.261\n"
      ]
     },
     "metadata": {},
     "output_type": "display_data"
    }
   ],
   "source": [
    "#17 states with highest winter average temp\n",
    "mod = lm(fmla,data=data2,subs=data2$Winter_avg==3)\n",
    "summary(mod)"
   ]
  },
  {
   "cell_type": "code",
   "execution_count": 27,
   "metadata": {
    "collapsed": false
   },
   "outputs": [
    {
     "data": {
      "text/plain": [
       "\n",
       "Call:\n",
       "lm(formula = fmla, data = data2, subset = data2$Winter_avg == \n",
       "    2)\n",
       "\n",
       "Residuals:\n",
       "   Min     1Q Median     3Q    Max \n",
       "-13.66  -3.18  -0.64   2.05  81.06 \n",
       "\n",
       "Coefficients: (1 not defined because of singularities)\n",
       "            Estimate Std. Error t value Pr(>|t|)  \n",
       "(Intercept) -10.7679    10.9042   -0.99    0.325  \n",
       "Age           0.1687     0.0668    2.53    0.012 *\n",
       "Gender       -0.7399     1.4253   -0.52    0.604  \n",
       "OwnRent       1.5225     1.5483    0.98    0.327  \n",
       "SqftCate     -0.7835     0.7301   -1.07    0.285  \n",
       "HouseholdS   -0.1868     0.6672   -0.28    0.780  \n",
       "Political    -1.3188     0.8419   -1.57    0.119  \n",
       "Ethnic        1.0031     2.0052    0.50    0.617  \n",
       "Income        0.0668     0.3982    0.17    0.867  \n",
       "Educ         -1.4997     0.6159   -2.44    0.016 *\n",
       "Latitude      0.1819     0.2199    0.83    0.409  \n",
       "EnergyC       0.5870     0.5028    1.17    0.244  \n",
       "MC            0.9272     0.6025    1.54    0.125  \n",
       "ComfNW        0.1003     0.4166    0.24    0.810  \n",
       "HabitC        0.7047     0.4784    1.47    0.142  \n",
       "Winter_avg        NA         NA      NA       NA  \n",
       "---\n",
       "Signif. codes:  0 '***' 0.001 '**' 0.01 '*' 0.05 '.' 0.1 ' ' 1\n",
       "\n",
       "Residual standard error: 9.2 on 190 degrees of freedom\n",
       "Multiple R-squared:  0.127,\tAdjusted R-squared:  0.063 \n",
       "F-statistic: 1.98 on 14 and 190 DF,  p-value: 0.0212\n"
      ]
     },
     "metadata": {},
     "output_type": "display_data"
    }
   ],
   "source": [
    "#17 middle states according to average winter temp\n",
    "mod = lm(fmla,data=data2,subs=data2$Winter_avg==2)\n",
    "summary(mod)"
   ]
  },
  {
   "cell_type": "code",
   "execution_count": 28,
   "metadata": {
    "collapsed": false
   },
   "outputs": [
    {
     "data": {
      "text/plain": [
       "\n",
       "Call:\n",
       "lm(formula = fmla, data = data2, subset = data2$Winter_avg == \n",
       "    1)\n",
       "\n",
       "Residuals:\n",
       "   Min     1Q Median     3Q    Max \n",
       "-12.60  -5.19  -2.36   0.09  91.92 \n",
       "\n",
       "Coefficients: (1 not defined because of singularities)\n",
       "            Estimate Std. Error t value Pr(>|t|)  \n",
       "(Intercept)  21.2214    12.0037    1.77    0.078 .\n",
       "Age           0.0117     0.0918    0.13    0.899  \n",
       "Gender       -0.8582     1.9932   -0.43    0.667  \n",
       "OwnRent      -2.3271     2.1491   -1.08    0.280  \n",
       "SqftCate     -0.9280     1.0326   -0.90    0.370  \n",
       "HouseholdS    0.4690     0.8384    0.56    0.576  \n",
       "Political    -0.0504     1.2319   -0.04    0.967  \n",
       "Ethnic        1.8490     2.3775    0.78    0.437  \n",
       "Income        0.8758     0.5281    1.66    0.098 .\n",
       "Educ         -0.0955     0.9062   -0.11    0.916  \n",
       "Latitude     -0.2617     0.2617   -1.00    0.318  \n",
       "EnergyC      -1.0353     0.7739   -1.34    0.182  \n",
       "MC           -0.7113     0.9540   -0.75    0.456  \n",
       "ComfNW        0.0196     0.5853    0.03    0.973  \n",
       "HabitC        0.8668     0.7232    1.20    0.232  \n",
       "Winter_avg        NA         NA      NA       NA  \n",
       "---\n",
       "Signif. codes:  0 '***' 0.001 '**' 0.01 '*' 0.05 '.' 0.1 ' ' 1\n",
       "\n",
       "Residual standard error: 16 on 296 degrees of freedom\n",
       "Multiple R-squared:  0.0389,\tAdjusted R-squared:  -0.00653 \n",
       "F-statistic: 0.856 on 14 and 296 DF,  p-value: 0.607\n"
      ]
     },
     "metadata": {},
     "output_type": "display_data"
    }
   ],
   "source": [
    "#bottom 17 states according to average winter temp\n",
    "mod = lm(fmla,data=data2,subs=data2$Winter_avg==1)\n",
    "summary(mod)"
   ]
  },
  {
   "cell_type": "code",
   "execution_count": 29,
   "metadata": {
    "collapsed": false
   },
   "outputs": [
    {
     "data": {
      "text/html": [
       "<table>\n",
       "<thead><tr><th></th><th scope=col>Df</th><th scope=col>Sum Sq</th><th scope=col>Mean Sq</th><th scope=col>F value</th><th scope=col>Pr(&gt;F)</th></tr></thead>\n",
       "<tbody>\n",
       "\t<tr><th scope=row>Age</th><td>  1    </td><td>   25.3</td><td> 25.3  </td><td>0.098  </td><td>0.754  </td></tr>\n",
       "\t<tr><th scope=row>Gender</th><td>  1    </td><td>  188.9</td><td>188.9  </td><td>0.735  </td><td>0.392  </td></tr>\n",
       "\t<tr><th scope=row>OwnRent</th><td>  1    </td><td>  327.6</td><td>327.6  </td><td>1.275  </td><td>0.260  </td></tr>\n",
       "\t<tr><th scope=row>SqftCate</th><td>  1    </td><td>    2.9</td><td>  2.9  </td><td>0.011  </td><td>0.915  </td></tr>\n",
       "\t<tr><th scope=row>HouseholdS</th><td>  1    </td><td>   29.4</td><td> 29.4  </td><td>0.114  </td><td>0.735  </td></tr>\n",
       "\t<tr><th scope=row>Political</th><td>  1    </td><td>  162.1</td><td>162.1  </td><td>0.631  </td><td>0.428  </td></tr>\n",
       "\t<tr><th scope=row>Ethnic</th><td>  1    </td><td>  179.8</td><td>179.8  </td><td>0.700  </td><td>0.404  </td></tr>\n",
       "\t<tr><th scope=row>Income</th><td>  1    </td><td>  799.2</td><td>799.2  </td><td>3.111  </td><td>0.079  </td></tr>\n",
       "\t<tr><th scope=row>Educ</th><td>  1    </td><td>   14.6</td><td> 14.6  </td><td>0.057  </td><td>0.812  </td></tr>\n",
       "\t<tr><th scope=row>Latitude</th><td>  1    </td><td>  320.1</td><td>320.1  </td><td>1.246  </td><td>0.265  </td></tr>\n",
       "\t<tr><th scope=row>EnergyC</th><td>  1    </td><td>  581.4</td><td>581.4  </td><td>2.263  </td><td>0.134  </td></tr>\n",
       "\t<tr><th scope=row>MC</th><td>  1    </td><td>   63.3</td><td> 63.3  </td><td>0.246  </td><td>0.620  </td></tr>\n",
       "\t<tr><th scope=row>ComfNW</th><td>  1    </td><td>   16.1</td><td> 16.1  </td><td>0.062  </td><td>0.803  </td></tr>\n",
       "\t<tr><th scope=row>HabitC</th><td>  1    </td><td>  369.0</td><td>369.0  </td><td>1.437  </td><td>0.232  </td></tr>\n",
       "\t<tr><th scope=row>Residuals</th><td>296    </td><td>76032.6</td><td>256.9  </td><td>   NA  </td><td>   NA  </td></tr>\n",
       "</tbody>\n",
       "</table>\n"
      ],
      "text/latex": [
       "\\begin{tabular}{r|lllll}\n",
       "  & Df & Sum Sq & Mean Sq & F value & Pr(>F)\\\\\n",
       "\\hline\n",
       "\tAge &   1     &    25.3 &  25.3   & 0.098   & 0.754  \\\\\n",
       "\tGender &   1     &   188.9 & 188.9   & 0.735   & 0.392  \\\\\n",
       "\tOwnRent &   1     &   327.6 & 327.6   & 1.275   & 0.260  \\\\\n",
       "\tSqftCate &   1     &     2.9 &   2.9   & 0.011   & 0.915  \\\\\n",
       "\tHouseholdS &   1     &    29.4 &  29.4   & 0.114   & 0.735  \\\\\n",
       "\tPolitical &   1     &   162.1 & 162.1   & 0.631   & 0.428  \\\\\n",
       "\tEthnic &   1     &   179.8 & 179.8   & 0.700   & 0.404  \\\\\n",
       "\tIncome &   1     &   799.2 & 799.2   & 3.111   & 0.079  \\\\\n",
       "\tEduc &   1     &    14.6 &  14.6   & 0.057   & 0.812  \\\\\n",
       "\tLatitude &   1     &   320.1 & 320.1   & 1.246   & 0.265  \\\\\n",
       "\tEnergyC &   1     &   581.4 & 581.4   & 2.263   & 0.134  \\\\\n",
       "\tMC &   1     &    63.3 &  63.3   & 0.246   & 0.620  \\\\\n",
       "\tComfNW &   1     &    16.1 &  16.1   & 0.062   & 0.803  \\\\\n",
       "\tHabitC &   1     &   369.0 & 369.0   & 1.437   & 0.232  \\\\\n",
       "\tResiduals & 296     & 76032.6 & 256.9   &    NA   &    NA  \\\\\n",
       "\\end{tabular}\n"
      ],
      "text/plain": [
       "           Df  Sum Sq  Mean Sq F value Pr(>F)\n",
       "Age          1    25.3  25.3   0.098   0.754 \n",
       "Gender       1   188.9 188.9   0.735   0.392 \n",
       "OwnRent      1   327.6 327.6   1.275   0.260 \n",
       "SqftCate     1     2.9   2.9   0.011   0.915 \n",
       "HouseholdS   1    29.4  29.4   0.114   0.735 \n",
       "Political    1   162.1 162.1   0.631   0.428 \n",
       "Ethnic       1   179.8 179.8   0.700   0.404 \n",
       "Income       1   799.2 799.2   3.111   0.079 \n",
       "Educ         1    14.6  14.6   0.057   0.812 \n",
       "Latitude     1   320.1 320.1   1.246   0.265 \n",
       "EnergyC      1   581.4 581.4   2.263   0.134 \n",
       "MC           1    63.3  63.3   0.246   0.620 \n",
       "ComfNW       1    16.1  16.1   0.062   0.803 \n",
       "HabitC       1   369.0 369.0   1.437   0.232 \n",
       "Residuals  296 76032.6 256.9      NA      NA "
      ]
     },
     "metadata": {},
     "output_type": "display_data"
    }
   ],
   "source": [
    "anova(mod)"
   ]
  },
  {
   "cell_type": "code",
   "execution_count": 30,
   "metadata": {
    "collapsed": false
   },
   "outputs": [
    {
     "name": "stdout",
     "output_type": "stream",
     "text": [
      "\n",
      "Call:\n",
      "factanal(x = data2, factors = 2, rotation = \"varimax\")\n",
      "\n",
      "Uniquenesses:\n",
      "  IncAwayW        Age     Gender    OwnRent   SqftCate HouseholdS  Political \n",
      "      0.99       0.99       0.92       1.00       0.99       0.99       0.93 \n",
      "    Ethnic     Income       Educ   Latitude    EnergyC         MC     ComfNW \n",
      "      0.97       0.99       0.98       0.43       0.51       0.79       0.98 \n",
      "      Atti    SubNorm         SN     HabitG     HabitC Winter_avg \n",
      "      0.42       0.76       0.92       0.86       0.89       0.12 \n",
      "\n",
      "Loadings:\n",
      "           Factor1 Factor2\n",
      "EnergyC     0.69          \n",
      "Atti        0.75          \n",
      "Latitude            0.73  \n",
      "Winter_avg          0.91  \n",
      "IncAwayW                  \n",
      "Age                       \n",
      "Gender                    \n",
      "OwnRent                   \n",
      "SqftCate                  \n",
      "HouseholdS                \n",
      "Political                 \n",
      "Ethnic                    \n",
      "Income                    \n",
      "Educ                      \n",
      "MC          0.46          \n",
      "ComfNW                    \n",
      "SubNorm     0.49          \n",
      "SN                        \n",
      "HabitG      0.38          \n",
      "HabitC      0.32          \n",
      "\n",
      "               Factor1 Factor2\n",
      "SS loadings        2.1    1.45\n",
      "Proportion Var     0.1    0.07\n",
      "Cumulative Var     0.1    0.18\n",
      "\n",
      "Test of the hypothesis that 2 factors are sufficient.\n",
      "The chi square statistic is 1002 on 151 degrees of freedom.\n",
      "The p-value is 1.2e-125 \n"
     ]
    }
   ],
   "source": [
    "fit <- factanal(data2, 2, rotation=\"varimax\")\n",
    "print(fit, digits=2, cutoff=.3, sort=TRUE)"
   ]
  },
  {
   "cell_type": "code",
   "execution_count": 31,
   "metadata": {
    "collapsed": false
   },
   "outputs": [
    {
     "data": {
      "text/plain": [
       "\n",
       "Call:\n",
       "lm(formula = IncAwayW ~ ComfNW + EnergyC + Age + Ethnic + MC + \n",
       "    Political + Educ, data = data2)\n",
       "\n",
       "Residuals:\n",
       "   Min     1Q Median     3Q    Max \n",
       " -7.73  -3.28  -1.51   0.24  94.00 \n",
       "\n",
       "Coefficients:\n",
       "            Estimate Std. Error t value Pr(>|t|)  \n",
       "(Intercept)   8.7382     4.1434    2.11    0.035 *\n",
       "ComfNW       -0.1290     0.2938   -0.44    0.661  \n",
       "EnergyC      -0.2496     0.3927   -0.64    0.525  \n",
       "Age           0.0433     0.0453    0.95    0.340  \n",
       "Ethnic        0.6172     1.3655    0.45    0.651  \n",
       "MC            0.0674     0.4871    0.14    0.890  \n",
       "Political    -0.7561     0.6410   -1.18    0.239  \n",
       "Educ         -0.4112     0.4585   -0.90    0.370  \n",
       "---\n",
       "Signif. codes:  0 '***' 0.001 '**' 0.01 '*' 0.05 '.' 0.1 ' ' 1\n",
       "\n",
       "Residual standard error: 12 on 624 degrees of freedom\n",
       "Multiple R-squared:  0.00821,\tAdjusted R-squared:  -0.00292 \n",
       "F-statistic: 0.738 on 7 and 624 DF,  p-value: 0.64\n"
      ]
     },
     "metadata": {},
     "output_type": "display_data"
    }
   ],
   "source": [
    "mod = lm(IncAwayW~ComfNW+EnergyC+Age+Ethnic+MC+Political+Educ,data=data2)\n",
    "summary(mod)\n",
    "#plot(mod)"
   ]
  },
  {
   "cell_type": "code",
   "execution_count": 32,
   "metadata": {
    "collapsed": false
   },
   "outputs": [
    {
     "ename": "ERROR",
     "evalue": "Error in tapply(mod$residuals, data2$IncHomeS, mean): arguments must have same length\n",
     "output_type": "error",
     "traceback": [
      "Error in tapply(mod$residuals, data2$IncHomeS, mean): arguments must have same length\nTraceback:\n",
      "1. tapply(mod$residuals, data2$IncHomeS, mean)",
      "2. stop(\"arguments must have same length\")"
     ]
    },
    {
     "data": {
      "image/png": "[encoded data removed]",
      "text/plain": [
       "plot without title"
      ]
     },
     "metadata": {},
     "output_type": "display_data"
    }
   ],
   "source": [
    "plot(mod$residuals,data2$IncHomeS)\n",
    "z<-tapply(mod$residuals,data2$IncHomeS,mean)\n",
    "points(z,1:8,pch=\"*\",cex=3)"
   ]
  },
  {
   "cell_type": "code",
   "execution_count": null,
   "metadata": {
    "collapsed": false
   },
   "outputs": [],
   "source": [
    "mod = lm(IncHomeS~ComfNS+Age,data=data2)\n",
    "summary(mod)"
   ]
  },
  {
   "cell_type": "code",
   "execution_count": null,
   "metadata": {
    "collapsed": false
   },
   "outputs": [],
   "source": [
    "#Probably overfitting\n",
    "mod1 = lm(IncHomeS~ComfNS3+Age+HabitC2,data=data2)\n",
    "summary(mod1)"
   ]
  },
  {
   "cell_type": "code",
   "execution_count": null,
   "metadata": {
    "collapsed": false
   },
   "outputs": [],
   "source": [
    "library(mgcv)\n"
   ]
  },
  {
   "cell_type": "code",
   "execution_count": null,
   "metadata": {
    "collapsed": false
   },
   "outputs": [],
   "source": [
    "mGam = gam(IncHomeS~I(ComfNS3<=3)+I(ComfNS3==7)+s(Age),data=data2)\n",
    "summary(mGam)\n"
   ]
  },
  {
   "cell_type": "code",
   "execution_count": null,
   "metadata": {
    "collapsed": false
   },
   "outputs": [],
   "source": [
    "plot(mGam)"
   ]
  },
  {
   "cell_type": "code",
   "execution_count": null,
   "metadata": {
    "collapsed": false
   },
   "outputs": [],
   "source": [
    "mod1 = lm(IncHomeS~I(ComfNS3<=3)+I(ComfNS3==7)+Age+HabitC2+ Political,data=data2)\n",
    "summary(mod1)\n"
   ]
  },
  {
   "cell_type": "code",
   "execution_count": null,
   "metadata": {
    "collapsed": false
   },
   "outputs": [],
   "source": [
    "anova(mod1)"
   ]
  },
  {
   "cell_type": "code",
   "execution_count": null,
   "metadata": {
    "collapsed": false
   },
   "outputs": [],
   "source": [
    "drop1(mod1)"
   ]
  },
  {
   "cell_type": "code",
   "execution_count": null,
   "metadata": {
    "collapsed": false
   },
   "outputs": [],
   "source": [
    "library(bnlearn)"
   ]
  },
  {
   "cell_type": "code",
   "execution_count": null,
   "metadata": {
    "collapsed": false
   },
   "outputs": [],
   "source": [
    "dd2 = data2[,c('IncHomeS', 'ComfNS3','Age','HabitC2')]\n",
    "for (i in 1:4) dd2[,i] <- as.double(dd2[,i])\n",
    "dag2 = tabu(dd2)\n",
    "plot(dag2)"
   ]
  },
  {
   "cell_type": "code",
   "execution_count": null,
   "metadata": {
    "collapsed": false
   },
   "outputs": [],
   "source": [
    "fmlaF <- as.formula(paste(\"IncHomeS\",paste(IVS,collapse=\"+\"),sep=\"~\"));\n",
    "mod = lm(fmlaF,data=data2)\n",
    "summary(mod)"
   ]
  },
  {
   "cell_type": "code",
   "execution_count": null,
   "metadata": {
    "collapsed": true
   },
   "outputs": [],
   "source": []
  },
  {
   "cell_type": "code",
   "execution_count": null,
   "metadata": {
    "collapsed": false
   },
   "outputs": [],
   "source": [
    "#Probably overfitting\n",
    "mod1 = lm(IncHomeS~ComfNS3+Age+HabitC2+Political+Ethnic+Trust1,data=data2)\n",
    "summary(mod1)"
   ]
  },
  {
   "cell_type": "code",
   "execution_count": null,
   "metadata": {
    "collapsed": false
   },
   "outputs": [],
   "source": [
    "for (i in 1:length(IVS){\n",
    "  fmla <- as.formula(paste(IVS[i],paste(vnam[-c(1,i)],collapse=\"+\"),sep=\"~\"));\n",
    "  res <- rbind(res,c(i,round(summary(lm(fmla,data=data2))$r.squared,2)));\n",
    "}\n",
    "vnam <- (data2);\n",
    "fmlaF <- as.formula(paste(\"Age\",paste(IVS[-\"Age\"],collapse=\"+\"),sep=\"~\"));\n",
    "mod = lm(fmlaF,data=data2)\n",
    "summary(mod)"
   ]
  },
  {
   "cell_type": "code",
   "execution_count": null,
   "metadata": {
    "collapsed": true
   },
   "outputs": [],
   "source": [
    "ind <- 1:length(IVS);names(ind) <- IVS"
   ]
  },
  {
   "cell_type": "code",
   "execution_count": null,
   "metadata": {
    "collapsed": false
   },
   "outputs": [],
   "source": [
    "fmlaF <- as.formula(paste(\"Age\",paste(IVS[-ind[\"Age\"]],collapse=\"+\"),sep=\"~\"));\n",
    "mod = lm(fmlaF,data=data2)\n",
    "res <- summary(mod)$coefficients\n",
    "res[abs(res[,3])>3,]"
   ]
  },
  {
   "cell_type": "code",
   "execution_count": null,
   "metadata": {
    "collapsed": false
   },
   "outputs": [],
   "source": [
    "fmlaF <- as.formula(paste(\"ComfNS3\",paste(IVS[-ind[\"ComfNS3\"]],collapse=\"+\"),sep=\"~\"));\n",
    "mod = lm(fmlaF,data=data2)\n",
    "res <- summary(mod)$coefficients\n",
    "res[abs(res[,3])>3,]"
   ]
  },
  {
   "cell_type": "code",
   "execution_count": null,
   "metadata": {
    "collapsed": false
   },
   "outputs": [],
   "source": [
    "dd2 = data2[,c('IncHomeS', 'ComfNS3','Age','HabitC2',\"Gender\",\"OwnRent\",\"SqftCate\",\n",
    "               \"HouseholdS\",\"Atti3\",\"Atti4\",\"ComfNS1\",\"ComfNS2\")]\n",
    "for (i in 1:12) dd2[,i] <- as.double(dd2[,i])\n",
    "dag2 = tabu(dd2)\n",
    "plot(dag2)"
   ]
  },
  {
   "cell_type": "code",
   "execution_count": null,
   "metadata": {
    "collapsed": true
   },
   "outputs": [],
   "source": []
  }
 ],
 "metadata": {
  "kernelspec": {
   "display_name": "R",
   "language": "R",
   "name": "ir"
  },
  "language_info": {
   "codemirror_mode": "r",
   "file_extension": ".r",
   "mimetype": "text/x-r-source",
   "name": "R",
   "pygments_lexer": "r",
   "version": "3.3.1"
  }
 },
 "nbformat": 4,
 "nbformat_minor": 1
}
