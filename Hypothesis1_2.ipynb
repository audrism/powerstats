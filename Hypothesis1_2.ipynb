{
 "cells": [
  {
   "cell_type": "markdown",
   "metadata": {},
   "source": [
    "## Hypothesis\n",
    "To predict the incentive level requested for raising thermostat settings for 2-3F \n",
    "    when being at home in summer.\n",
    "\n",
    "### Filter: HomeSYN=1 (i.e., only use people who use A/C when being at home in summer)\n",
    "\n",
    "Group IncHomeS and treat as categorical variable\n",
    "1,2,3 -> 1\n",
    "4,5 -> 2\n",
    "6,7 -> 3\n",
    "8 -> 4"
   ]
  },
  {
   "cell_type": "code",
   "execution_count": 1,
   "metadata": {
    "collapsed": false
   },
   "outputs": [
    {
     "data": {
      "text/html": [
       "<ol class=list-inline>\n",
       "\t<li>'ACYN'</li>\n",
       "\t<li>'Age'</li>\n",
       "\t<li>'Atti1'</li>\n",
       "\t<li>'Atti2'</li>\n",
       "\t<li>'Atti3'</li>\n",
       "\t<li>'Atti4'</li>\n",
       "\t<li>'Attitude'</li>\n",
       "\t<li>'AwayS'</li>\n",
       "\t<li>'AwaySNY'</li>\n",
       "\t<li>'AwayW'</li>\n",
       "\t<li>'AwayWNY'</li>\n",
       "\t<li>'BillS'</li>\n",
       "\t<li>'BillW'</li>\n",
       "\t<li>'City'</li>\n",
       "\t<li>'ComfNS1'</li>\n",
       "\t<li>'ComfNS2'</li>\n",
       "\t<li>'ComfNS3'</li>\n",
       "\t<li>'ComfNW1'</li>\n",
       "\t<li>'ComfNW2'</li>\n",
       "\t<li>'ComfortS'</li>\n",
       "\t<li>'ComfortW'</li>\n",
       "\t<li>'CompR'</li>\n",
       "\t<li>'ControlN1'</li>\n",
       "\t<li>'ControlN2R'</li>\n",
       "\t<li>'ControlN3'</li>\n",
       "\t<li>'ControlN4'</li>\n",
       "\t<li>'ConvB1'</li>\n",
       "\t<li>'ConvB2'</li>\n",
       "\t<li>'ConvB3'</li>\n",
       "\t<li>'ConvB4'</li>\n",
       "\t<li>'DeviceType'</li>\n",
       "\t<li>'Educ'</li>\n",
       "\t<li>'EmerRForm'</li>\n",
       "\t<li>'EnergyC'</li>\n",
       "\t<li>'EnergyC1'</li>\n",
       "\t<li>'EnergyC2'</li>\n",
       "\t<li>'EnergyC3'</li>\n",
       "\t<li>'EnergyC4'</li>\n",
       "\t<li>'Ethnic'</li>\n",
       "\t<li>'Frugal'</li>\n",
       "\t<li>'Frugal1'</li>\n",
       "\t<li>'Frugal2'</li>\n",
       "\t<li>'Frugal3'</li>\n",
       "\t<li>'Gender'</li>\n",
       "\t<li>'HTdevice'</li>\n",
       "\t<li>'HTsource'</li>\n",
       "\t<li>'HabitC1'</li>\n",
       "\t<li>'HabitC2'</li>\n",
       "\t<li>'HabitC3'</li>\n",
       "\t<li>'HabitC4'</li>\n",
       "\t<li>'HabitC5'</li>\n",
       "\t<li>'HabitC6'</li>\n",
       "\t<li>'HabitC7'</li>\n",
       "\t<li>'HabitE1'</li>\n",
       "\t<li>'HabitE2'</li>\n",
       "\t<li>'HabitE3'</li>\n",
       "\t<li>'HeatYN'</li>\n",
       "\t<li>'HomeS'</li>\n",
       "\t<li>'HomeSYN'</li>\n",
       "\t<li>'HomeW'</li>\n",
       "\t<li>'HomeWYN'</li>\n",
       "\t<li>'HouseholdS'</li>\n",
       "\t<li>'ID'</li>\n",
       "\t<li>'INT1'</li>\n",
       "\t<li>'INT2'</li>\n",
       "\t<li>'INT3'</li>\n",
       "\t<li>'INT4'</li>\n",
       "\t<li>'IncAutoS'</li>\n",
       "\t<li>'IncAutoW'</li>\n",
       "\t<li>'IncAwayS'</li>\n",
       "\t<li>'IncAwayW'</li>\n",
       "\t<li>'IncDish'</li>\n",
       "\t<li>'IncEmer10S'</li>\n",
       "\t<li>'IncEmer10W'</li>\n",
       "\t<li>'IncEmer30S'</li>\n",
       "\t<li>'IncEmer30W'</li>\n",
       "\t<li>'IncHomeS'</li>\n",
       "\t<li>'IncHomeW'</li>\n",
       "\t<li>'IncWD'</li>\n",
       "\t<li>'Income'</li>\n",
       "\t<li>'Job'</li>\n",
       "\t<li>'Latitude'</li>\n",
       "\t<li>'Longitude'</li>\n",
       "\t<li>'MC1'</li>\n",
       "\t<li>'MC2'</li>\n",
       "\t<li>'MC3'</li>\n",
       "\t<li>'MC4'</li>\n",
       "\t<li>'MC5'</li>\n",
       "\t<li>'MCBill'</li>\n",
       "\t<li>'MCG'</li>\n",
       "\t<li>'NBillS'</li>\n",
       "\t<li>'NBillW'</li>\n",
       "\t<li>'OwnRent'</li>\n",
       "\t<li>'PBC'</li>\n",
       "\t<li>'PBC1'</li>\n",
       "\t<li>'PBC2'</li>\n",
       "\t<li>'PBC3R'</li>\n",
       "\t<li>'PBC4'</li>\n",
       "\t<li>'PBC5'</li>\n",
       "\t<li>'PBillStatus'</li>\n",
       "\t<li>'Political'</li>\n",
       "\t<li>'ReasonNeg'</li>\n",
       "\t<li>'ReasonPos'</li>\n",
       "\t<li>'RewardForm'</li>\n",
       "\t<li>'SN1'</li>\n",
       "\t<li>'SN2'</li>\n",
       "\t<li>'SN3'</li>\n",
       "\t<li>'SN4'</li>\n",
       "\t<li>'Sqft'</li>\n",
       "\t<li>'SqftCate'</li>\n",
       "\t<li>'State'</li>\n",
       "\t<li>'SubN'</li>\n",
       "\t<li>'SubNorm1'</li>\n",
       "\t<li>'SubNorm2'</li>\n",
       "\t<li>'SubNorm3'</li>\n",
       "\t<li>'Trust'</li>\n",
       "\t<li>'Trust1'</li>\n",
       "\t<li>'Trust2'</li>\n",
       "\t<li>'Trust3'</li>\n",
       "\t<li>'Trust4'</li>\n",
       "\t<li>'Utility'</li>\n",
       "\t<li>'X.9to5'</li>\n",
       "\t<li>'cold'</li>\n",
       "\t<li>'hot'</li>\n",
       "\t<li>'valid'</li>\n",
       "\t<li>'valid1'</li>\n",
       "\t<li>'valid2'</li>\n",
       "</ol>\n"
      ],
      "text/latex": [
       "\\begin{enumerate*}\n",
       "\\item 'ACYN'\n",
       "\\item 'Age'\n",
       "\\item 'Atti1'\n",
       "\\item 'Atti2'\n",
       "\\item 'Atti3'\n",
       "\\item 'Atti4'\n",
       "\\item 'Attitude'\n",
       "\\item 'AwayS'\n",
       "\\item 'AwaySNY'\n",
       "\\item 'AwayW'\n",
       "\\item 'AwayWNY'\n",
       "\\item 'BillS'\n",
       "\\item 'BillW'\n",
       "\\item 'City'\n",
       "\\item 'ComfNS1'\n",
       "\\item 'ComfNS2'\n",
       "\\item 'ComfNS3'\n",
       "\\item 'ComfNW1'\n",
       "\\item 'ComfNW2'\n",
       "\\item 'ComfortS'\n",
       "\\item 'ComfortW'\n",
       "\\item 'CompR'\n",
       "\\item 'ControlN1'\n",
       "\\item 'ControlN2R'\n",
       "\\item 'ControlN3'\n",
       "\\item 'ControlN4'\n",
       "\\item 'ConvB1'\n",
       "\\item 'ConvB2'\n",
       "\\item 'ConvB3'\n",
       "\\item 'ConvB4'\n",
       "\\item 'DeviceType'\n",
       "\\item 'Educ'\n",
       "\\item 'EmerRForm'\n",
       "\\item 'EnergyC'\n",
       "\\item 'EnergyC1'\n",
       "\\item 'EnergyC2'\n",
       "\\item 'EnergyC3'\n",
       "\\item 'EnergyC4'\n",
       "\\item 'Ethnic'\n",
       "\\item 'Frugal'\n",
       "\\item 'Frugal1'\n",
       "\\item 'Frugal2'\n",
       "\\item 'Frugal3'\n",
       "\\item 'Gender'\n",
       "\\item 'HTdevice'\n",
       "\\item 'HTsource'\n",
       "\\item 'HabitC1'\n",
       "\\item 'HabitC2'\n",
       "\\item 'HabitC3'\n",
       "\\item 'HabitC4'\n",
       "\\item 'HabitC5'\n",
       "\\item 'HabitC6'\n",
       "\\item 'HabitC7'\n",
       "\\item 'HabitE1'\n",
       "\\item 'HabitE2'\n",
       "\\item 'HabitE3'\n",
       "\\item 'HeatYN'\n",
       "\\item 'HomeS'\n",
       "\\item 'HomeSYN'\n",
       "\\item 'HomeW'\n",
       "\\item 'HomeWYN'\n",
       "\\item 'HouseholdS'\n",
       "\\item 'ID'\n",
       "\\item 'INT1'\n",
       "\\item 'INT2'\n",
       "\\item 'INT3'\n",
       "\\item 'INT4'\n",
       "\\item 'IncAutoS'\n",
       "\\item 'IncAutoW'\n",
       "\\item 'IncAwayS'\n",
       "\\item 'IncAwayW'\n",
       "\\item 'IncDish'\n",
       "\\item 'IncEmer10S'\n",
       "\\item 'IncEmer10W'\n",
       "\\item 'IncEmer30S'\n",
       "\\item 'IncEmer30W'\n",
       "\\item 'IncHomeS'\n",
       "\\item 'IncHomeW'\n",
       "\\item 'IncWD'\n",
       "\\item 'Income'\n",
       "\\item 'Job'\n",
       "\\item 'Latitude'\n",
       "\\item 'Longitude'\n",
       "\\item 'MC1'\n",
       "\\item 'MC2'\n",
       "\\item 'MC3'\n",
       "\\item 'MC4'\n",
       "\\item 'MC5'\n",
       "\\item 'MCBill'\n",
       "\\item 'MCG'\n",
       "\\item 'NBillS'\n",
       "\\item 'NBillW'\n",
       "\\item 'OwnRent'\n",
       "\\item 'PBC'\n",
       "\\item 'PBC1'\n",
       "\\item 'PBC2'\n",
       "\\item 'PBC3R'\n",
       "\\item 'PBC4'\n",
       "\\item 'PBC5'\n",
       "\\item 'PBillStatus'\n",
       "\\item 'Political'\n",
       "\\item 'ReasonNeg'\n",
       "\\item 'ReasonPos'\n",
       "\\item 'RewardForm'\n",
       "\\item 'SN1'\n",
       "\\item 'SN2'\n",
       "\\item 'SN3'\n",
       "\\item 'SN4'\n",
       "\\item 'Sqft'\n",
       "\\item 'SqftCate'\n",
       "\\item 'State'\n",
       "\\item 'SubN'\n",
       "\\item 'SubNorm1'\n",
       "\\item 'SubNorm2'\n",
       "\\item 'SubNorm3'\n",
       "\\item 'Trust'\n",
       "\\item 'Trust1'\n",
       "\\item 'Trust2'\n",
       "\\item 'Trust3'\n",
       "\\item 'Trust4'\n",
       "\\item 'Utility'\n",
       "\\item 'X.9to5'\n",
       "\\item 'cold'\n",
       "\\item 'hot'\n",
       "\\item 'valid'\n",
       "\\item 'valid1'\n",
       "\\item 'valid2'\n",
       "\\end{enumerate*}\n"
      ],
      "text/markdown": [
       "1. 'ACYN'\n",
       "2. 'Age'\n",
       "3. 'Atti1'\n",
       "4. 'Atti2'\n",
       "5. 'Atti3'\n",
       "6. 'Atti4'\n",
       "7. 'Attitude'\n",
       "8. 'AwayS'\n",
       "9. 'AwaySNY'\n",
       "10. 'AwayW'\n",
       "11. 'AwayWNY'\n",
       "12. 'BillS'\n",
       "13. 'BillW'\n",
       "14. 'City'\n",
       "15. 'ComfNS1'\n",
       "16. 'ComfNS2'\n",
       "17. 'ComfNS3'\n",
       "18. 'ComfNW1'\n",
       "19. 'ComfNW2'\n",
       "20. 'ComfortS'\n",
       "21. 'ComfortW'\n",
       "22. 'CompR'\n",
       "23. 'ControlN1'\n",
       "24. 'ControlN2R'\n",
       "25. 'ControlN3'\n",
       "26. 'ControlN4'\n",
       "27. 'ConvB1'\n",
       "28. 'ConvB2'\n",
       "29. 'ConvB3'\n",
       "30. 'ConvB4'\n",
       "31. 'DeviceType'\n",
       "32. 'Educ'\n",
       "33. 'EmerRForm'\n",
       "34. 'EnergyC'\n",
       "35. 'EnergyC1'\n",
       "36. 'EnergyC2'\n",
       "37. 'EnergyC3'\n",
       "38. 'EnergyC4'\n",
       "39. 'Ethnic'\n",
       "40. 'Frugal'\n",
       "41. 'Frugal1'\n",
       "42. 'Frugal2'\n",
       "43. 'Frugal3'\n",
       "44. 'Gender'\n",
       "45. 'HTdevice'\n",
       "46. 'HTsource'\n",
       "47. 'HabitC1'\n",
       "48. 'HabitC2'\n",
       "49. 'HabitC3'\n",
       "50. 'HabitC4'\n",
       "51. 'HabitC5'\n",
       "52. 'HabitC6'\n",
       "53. 'HabitC7'\n",
       "54. 'HabitE1'\n",
       "55. 'HabitE2'\n",
       "56. 'HabitE3'\n",
       "57. 'HeatYN'\n",
       "58. 'HomeS'\n",
       "59. 'HomeSYN'\n",
       "60. 'HomeW'\n",
       "61. 'HomeWYN'\n",
       "62. 'HouseholdS'\n",
       "63. 'ID'\n",
       "64. 'INT1'\n",
       "65. 'INT2'\n",
       "66. 'INT3'\n",
       "67. 'INT4'\n",
       "68. 'IncAutoS'\n",
       "69. 'IncAutoW'\n",
       "70. 'IncAwayS'\n",
       "71. 'IncAwayW'\n",
       "72. 'IncDish'\n",
       "73. 'IncEmer10S'\n",
       "74. 'IncEmer10W'\n",
       "75. 'IncEmer30S'\n",
       "76. 'IncEmer30W'\n",
       "77. 'IncHomeS'\n",
       "78. 'IncHomeW'\n",
       "79. 'IncWD'\n",
       "80. 'Income'\n",
       "81. 'Job'\n",
       "82. 'Latitude'\n",
       "83. 'Longitude'\n",
       "84. 'MC1'\n",
       "85. 'MC2'\n",
       "86. 'MC3'\n",
       "87. 'MC4'\n",
       "88. 'MC5'\n",
       "89. 'MCBill'\n",
       "90. 'MCG'\n",
       "91. 'NBillS'\n",
       "92. 'NBillW'\n",
       "93. 'OwnRent'\n",
       "94. 'PBC'\n",
       "95. 'PBC1'\n",
       "96. 'PBC2'\n",
       "97. 'PBC3R'\n",
       "98. 'PBC4'\n",
       "99. 'PBC5'\n",
       "100. 'PBillStatus'\n",
       "101. 'Political'\n",
       "102. 'ReasonNeg'\n",
       "103. 'ReasonPos'\n",
       "104. 'RewardForm'\n",
       "105. 'SN1'\n",
       "106. 'SN2'\n",
       "107. 'SN3'\n",
       "108. 'SN4'\n",
       "109. 'Sqft'\n",
       "110. 'SqftCate'\n",
       "111. 'State'\n",
       "112. 'SubN'\n",
       "113. 'SubNorm1'\n",
       "114. 'SubNorm2'\n",
       "115. 'SubNorm3'\n",
       "116. 'Trust'\n",
       "117. 'Trust1'\n",
       "118. 'Trust2'\n",
       "119. 'Trust3'\n",
       "120. 'Trust4'\n",
       "121. 'Utility'\n",
       "122. 'X.9to5'\n",
       "123. 'cold'\n",
       "124. 'hot'\n",
       "125. 'valid'\n",
       "126. 'valid1'\n",
       "127. 'valid2'\n",
       "\n",
       "\n"
      ],
      "text/plain": [
       "  [1] \"ACYN\"        \"Age\"         \"Atti1\"       \"Atti2\"       \"Atti3\"      \n",
       "  [6] \"Atti4\"       \"Attitude\"    \"AwayS\"       \"AwaySNY\"     \"AwayW\"      \n",
       " [11] \"AwayWNY\"     \"BillS\"       \"BillW\"       \"City\"        \"ComfNS1\"    \n",
       " [16] \"ComfNS2\"     \"ComfNS3\"     \"ComfNW1\"     \"ComfNW2\"     \"ComfortS\"   \n",
       " [21] \"ComfortW\"    \"CompR\"       \"ControlN1\"   \"ControlN2R\"  \"ControlN3\"  \n",
       " [26] \"ControlN4\"   \"ConvB1\"      \"ConvB2\"      \"ConvB3\"      \"ConvB4\"     \n",
       " [31] \"DeviceType\"  \"Educ\"        \"EmerRForm\"   \"EnergyC\"     \"EnergyC1\"   \n",
       " [36] \"EnergyC2\"    \"EnergyC3\"    \"EnergyC4\"    \"Ethnic\"      \"Frugal\"     \n",
       " [41] \"Frugal1\"     \"Frugal2\"     \"Frugal3\"     \"Gender\"      \"HTdevice\"   \n",
       " [46] \"HTsource\"    \"HabitC1\"     \"HabitC2\"     \"HabitC3\"     \"HabitC4\"    \n",
       " [51] \"HabitC5\"     \"HabitC6\"     \"HabitC7\"     \"HabitE1\"     \"HabitE2\"    \n",
       " [56] \"HabitE3\"     \"HeatYN\"      \"HomeS\"       \"HomeSYN\"     \"HomeW\"      \n",
       " [61] \"HomeWYN\"     \"HouseholdS\"  \"ID\"          \"INT1\"        \"INT2\"       \n",
       " [66] \"INT3\"        \"INT4\"        \"IncAutoS\"    \"IncAutoW\"    \"IncAwayS\"   \n",
       " [71] \"IncAwayW\"    \"IncDish\"     \"IncEmer10S\"  \"IncEmer10W\"  \"IncEmer30S\" \n",
       " [76] \"IncEmer30W\"  \"IncHomeS\"    \"IncHomeW\"    \"IncWD\"       \"Income\"     \n",
       " [81] \"Job\"         \"Latitude\"    \"Longitude\"   \"MC1\"         \"MC2\"        \n",
       " [86] \"MC3\"         \"MC4\"         \"MC5\"         \"MCBill\"      \"MCG\"        \n",
       " [91] \"NBillS\"      \"NBillW\"      \"OwnRent\"     \"PBC\"         \"PBC1\"       \n",
       " [96] \"PBC2\"        \"PBC3R\"       \"PBC4\"        \"PBC5\"        \"PBillStatus\"\n",
       "[101] \"Political\"   \"ReasonNeg\"   \"ReasonPos\"   \"RewardForm\"  \"SN1\"        \n",
       "[106] \"SN2\"         \"SN3\"         \"SN4\"         \"Sqft\"        \"SqftCate\"   \n",
       "[111] \"State\"       \"SubN\"        \"SubNorm1\"    \"SubNorm2\"    \"SubNorm3\"   \n",
       "[116] \"Trust\"       \"Trust1\"      \"Trust2\"      \"Trust3\"      \"Trust4\"     \n",
       "[121] \"Utility\"     \"X.9to5\"      \"cold\"        \"hot\"         \"valid\"      \n",
       "[126] \"valid1\"      \"valid2\"     "
      ]
     },
     "metadata": {},
     "output_type": "display_data"
    },
    {
     "data": {
      "text/plain": [
       "\n",
       "  1   2   3   4   5   6   7   8   9  10  11  12 \n",
       " 99  79  33  33  25  64  86  71  43 112  22 156 "
      ]
     },
     "metadata": {},
     "output_type": "display_data"
    },
    {
     "data": {
      "text/plain": [
       "\n",
       "  1   2   3   4   5   6   7   8 \n",
       "118  68 145 163  85  60  87  98 "
      ]
     },
     "metadata": {},
     "output_type": "display_data"
    }
   ],
   "source": [
    "options(digits=2);\n",
    "# Read in the data\n",
    "survey <- read.csv(\"DR_Survey2_Share_Complete.csv\",header=T);\n",
    "#populate missing values\n",
    "survey$IncHomeS[survey$IncHomeS==99] = NA;\n",
    "\n",
    "data <- survey[,-c(1:7)];\n",
    "\n",
    "#We investigate only use people who use A/C when being at home in summer\n",
    "data1 <- data[data$HomeSYN==1,-which(names(data) %in% c(\"HomeWYN\",\"AwayWNY\",\"HomeSYN\",\"AwaySNY\",\"City\",\"Utility\",\n",
    "    \"ReasonPos\",\"ReasonNeg\",\"NBillS\",\"NBillW\",\"valid1\",\"valid2\",\"valid\",\"Attitude\",\"Trust\",\n",
    "    \"EnergyC\",\"MCG\", \"MCBill\",\"Frugal\",\"ComfortS\",\"ComfortW\",\"SubN\",\"PBC\",\"ACYN\",\"HeatYN\",\"Latitude\",\n",
    "    \"Longitude\", \"Job\",\"hot\",\"cold\"))];\n",
    "sort(names(survey))\n",
    "table(survey$Job)\n",
    "table(survey$Political)"
   ]
  },
  {
   "cell_type": "code",
   "execution_count": 2,
   "metadata": {
    "collapsed": false
   },
   "outputs": [
    {
     "name": "stdout",
     "output_type": "stream",
     "text": [
      "[1] 662   3\n"
     ]
    },
    {
     "data": {
      "text/plain": [
       "\n",
       "  1   2   3   4   5   6   7   8 \n",
       " 92  55 113 128  70  54  73  76 "
      ]
     },
     "metadata": {},
     "output_type": "display_data"
    }
   ],
   "source": [
    "#Frugal-Mean(Frugal1,Frugal2,Frugal3)\n",
    "tmp <- cbind(Frugal1=data1$Frugal1,Frugal2=data1$Frugal2,Frugal3=data1$Frugal3)\n",
    "print(dim(tmp))\n",
    "data1$Frugal <- rowMeans(tmp)\n",
    "data1 <- data1[,-which(names(data1) %in% c(\"Frugal1\",\"Frugal2\",\"Frugal3\"))]\n",
    "#print(data1)\n",
    "table(data1$Political)"
   ]
  },
  {
   "cell_type": "code",
   "execution_count": 3,
   "metadata": {
    "collapsed": false
   },
   "outputs": [
    {
     "name": "stdout",
     "output_type": "stream",
     "text": [
      "[1] 662   3\n"
     ]
    }
   ],
   "source": [
    "#MC-Mean(MC3,MC4,MC5)\n",
    "tmp <- cbind(MC3=data1$MC3,MC4=data1$MC4,MC5=data1$MC5)\n",
    "print(dim(tmp))\n",
    "data1$MC <- rowMeans(tmp)\n",
    "data1 <- data1[,-which(names(data1) %in% c(\"MC3\",\"MC4\",\"MC5\"))]\n",
    "#print(data1)"
   ]
  },
  {
   "cell_type": "code",
   "execution_count": 4,
   "metadata": {
    "collapsed": false
   },
   "outputs": [
    {
     "name": "stdout",
     "output_type": "stream",
     "text": [
      "[1] 662   3\n"
     ]
    }
   ],
   "source": [
    "#EnergyC-Mean(EnergyC1,EnergyC2,EnergyC4)\n",
    "tmp <- cbind(EnergyC1=data1$EnergyC1,EnergyC2=data1$EnergyC2,EnergyC4=data1$EnergyC4)\n",
    "print(dim(tmp))\n",
    "data1$EnergyC <- rowMeans(tmp)\n",
    "data1 <- data1[,-which(names(data1) %in% c(\"EnergyC1\",\"EnergyC2\",\"EnergyC4\"))]\n",
    "#print(data1)"
   ]
  },
  {
   "cell_type": "code",
   "execution_count": 5,
   "metadata": {
    "collapsed": false
   },
   "outputs": [
    {
     "name": "stdout",
     "output_type": "stream",
     "text": [
      "[1] 662   4\n"
     ]
    }
   ],
   "source": [
    "#Trust-Mean(Trust1,Trust2,Trust3,Trust4)\n",
    "tmp <- cbind(Trust1=data1$Trust1,Trust2=data1$Trust2,Trust3=data1$Trust3,Trust4=data1$Trust4)\n",
    "print(dim(tmp))\n",
    "data1$Trust <- rowMeans(tmp)\n",
    "data1 <- data1[,-which(names(data1) %in% c(\"Trust1\",\"Trust2\",\"Trust3\",\"Trust4\"))]\n",
    "#print(data1)"
   ]
  },
  {
   "cell_type": "code",
   "execution_count": 6,
   "metadata": {
    "collapsed": false
   },
   "outputs": [
    {
     "name": "stdout",
     "output_type": "stream",
     "text": [
      "[1] 662   3\n"
     ]
    }
   ],
   "source": [
    "#ComfNS-Mean(ComfNS1,ComfNS2,ComfNS3)\n",
    "tmp <- cbind(ComfNS1=data1$ComfNS1,ComfNS2=data1$ComfNS2,ComfNS3=data1$ComfNS3)\n",
    "print(dim(tmp))\n",
    "data1$ComfNS <- rowMeans(tmp)\n",
    "data1 <- data1[,-which(names(data1) %in% c(\"ComfNS1\",\"ComfNS2\",\"ComfNS3\"))]\n",
    "#print(data1)"
   ]
  },
  {
   "cell_type": "code",
   "execution_count": 7,
   "metadata": {
    "collapsed": false
   },
   "outputs": [
    {
     "name": "stdout",
     "output_type": "stream",
     "text": [
      "[1] 662   4\n"
     ]
    }
   ],
   "source": [
    "#Attitude-Mean(Atti1,Atti2,Atti3,Atti4)\n",
    "tmp <- cbind(Atti1=data1$Atti1,Atti2=data1$Atti2,Atti3=data1$Atti3,Atti4=data1$Atti4)\n",
    "print(dim(tmp))\n",
    "data1$Atti <- rowMeans(tmp)\n",
    "data1 <- data1[,-which(names(data1) %in% c(\"Atti1\",\"Atti2\",\"Atti3\",\"Atti4\"))]\n",
    "#print(data1)"
   ]
  },
  {
   "cell_type": "code",
   "execution_count": 8,
   "metadata": {
    "collapsed": false
   },
   "outputs": [
    {
     "name": "stdout",
     "output_type": "stream",
     "text": [
      "[1] 662   3\n"
     ]
    }
   ],
   "source": [
    "#SubNorm-Mean(SubNorm1,SubNorm2,SubNorm3)\n",
    "tmp <- cbind(SubNorm1=data1$SubNorm1,SubNorm=data1$SubNorm2,SubNorm3=data1$SubNorm3)\n",
    "print(dim(tmp))\n",
    "data1$SubNorm <- rowMeans(tmp)\n",
    "data1 <- data1[,-which(names(data1) %in% c(\"SubNorm1\",\"SubNorm2\",\"SubNorm3\"))]\n",
    "#print(data1)"
   ]
  },
  {
   "cell_type": "code",
   "execution_count": 9,
   "metadata": {
    "collapsed": false
   },
   "outputs": [
    {
     "name": "stdout",
     "output_type": "stream",
     "text": [
      "[1] 662   4\n"
     ]
    }
   ],
   "source": [
    "#PBC-Mean(PBC1,PBC2,PBC4,PBC5)\n",
    "tmp <- cbind(PBC1=data1$PBC1,PBC2=data1$PBC2,PBC4=data1$PBC4,PBC5=data1$PBC5)\n",
    "print(dim(tmp))\n",
    "data1$PBC <- rowMeans(tmp)\n",
    "data1 <- data1[,-which(names(data1) %in% c(\"PBC1\",\"PBC2\",\"PBC4\",\"PBC5\"))]\n",
    "#print(data1)"
   ]
  },
  {
   "cell_type": "code",
   "execution_count": 10,
   "metadata": {
    "collapsed": false
   },
   "outputs": [
    {
     "name": "stdout",
     "output_type": "stream",
     "text": [
      "[1] 662   3\n"
     ]
    }
   ],
   "source": [
    "#SN-Mean(SN1,SN2,SN4)\n",
    "tmp <- cbind(SN1=data1$SN1,SN=data1$SN2,SN4=data1$SN4)\n",
    "print(dim(tmp))\n",
    "data1$SN <- rowMeans(tmp)\n",
    "data1 <- data1[,-which(names(data1) %in% c(\"SN1\",\"SN2\",\"SN4\"))]\n",
    "#print(data1)"
   ]
  },
  {
   "cell_type": "code",
   "execution_count": 11,
   "metadata": {
    "collapsed": false
   },
   "outputs": [
    {
     "name": "stdout",
     "output_type": "stream",
     "text": [
      "[1] 662   4\n"
     ]
    }
   ],
   "source": [
    "#HabitG-Mean(HabitC1,HabitC2,HabitC3,HabitC4)\n",
    "tmp <- cbind(HabitC1=data1$HabitC1,HabitC2=data1$HabitC2,HabitC3=data1$HabitC3,HabitC4=data1$HabitC4)\n",
    "print(dim(tmp))\n",
    "data1$HabitG <- rowMeans(tmp)\n",
    "data1 <- data1[,-which(names(data1) %in% c(\"HabitC1\",\"HabitC2\",\"HabitC4\",\"HabitC5\"))]\n",
    "#print(data1)"
   ]
  },
  {
   "cell_type": "code",
   "execution_count": 12,
   "metadata": {
    "collapsed": false
   },
   "outputs": [
    {
     "name": "stdout",
     "output_type": "stream",
     "text": [
      "[1] 662   2\n"
     ]
    }
   ],
   "source": [
    "#HabitHC-Mean(HabitC5,HabitC6,HabitC7)\n",
    "tmp <- cbind(HabitC5=data1$HabitC5,HabitC6=data1$HabitC6,HabitC7=data1$HabitC7)\n",
    "print(dim(tmp))\n",
    "data1$HabitC <- rowMeans(tmp)\n",
    "data1 <- data1[,-which(names(data1) %in% c(\"HabitC5\",\"HabitC6\",\"HabitC7\"))]\n",
    "#print(data1)"
   ]
  },
  {
   "cell_type": "code",
   "execution_count": 13,
   "metadata": {
    "collapsed": false
   },
   "outputs": [
    {
     "name": "stdout",
     "output_type": "stream",
     "text": [
      "[1] \"HomeW\" \"28\"   \n",
      "[1] \"AwayW\" \"87\"   \n",
      "[1] \"AwayS\" \"101\"  \n",
      "[1] \"IncHomeS\" \"8\"       \n",
      "[1] \"IncWD\" \"56\"   \n",
      "[1] \"IncDish\" \"183\"    \n",
      "[1] \"Age\" \"4\"  \n",
      "[1] \"Income\" \"3\"     \n",
      "[1] \"Educ\" \"5\"   \n"
     ]
    }
   ],
   "source": [
    "#Fields with lots of missing values\n",
    "for (n in names(data1)){\n",
    "    nmis = sum(is.na(data1[,n]))\n",
    "    if(nmis >1)  print (c(n, sum(is.na(data1[,n]))))\n",
    "}"
   ]
  },
  {
   "cell_type": "code",
   "execution_count": 14,
   "metadata": {
    "collapsed": false
   },
   "outputs": [
    {
     "name": "stdout",
     "output_type": "stream",
     "text": [
      "[1] 662  60\n",
      "[1] 644  60\n"
     ]
    }
   ],
   "source": [
    "#lets remover these\n",
    "data2 <- data1[,-which(names(data1) %in% c(\"HomeW\",\"AwayW\",\n",
    "                    \"AwayS\",\"IncWD\",\"IncDish\"))];\n",
    "print(dim(data2))\n",
    "data2 <- na.omit(data2)\n",
    "print(dim(data2))\n",
    "#table(data2$Political)"
   ]
  },
  {
   "cell_type": "code",
   "execution_count": 15,
   "metadata": {
    "collapsed": false
   },
   "outputs": [
    {
     "data": {
      "text/plain": [
       "\n",
       "  1   2   3   4   5   6   7   8 \n",
       " 90  53 109 127  67  52  71  75 "
      ]
     },
     "metadata": {},
     "output_type": "display_data"
    },
    {
     "data": {
      "text/plain": [
       "\n",
       "  1   2   3 \n",
       "190 202 252 "
      ]
     },
     "metadata": {},
     "output_type": "display_data"
    }
   ],
   "source": [
    "#Political (Categorical- recode 5,6,7 as “1”-republican, \n",
    "                        #recode 4,8 as “2”- apolitical, \n",
    "                        #recode 1,2,3 as “3”- democrat)\n",
    "table(data2$Political)\n",
    "data2$Political[data2$Political==1]=3 #democrat\n",
    "data2$Political[data2$Political==2]=3 #democrat\n",
    "data2$Political[data2$Political==3]=3 #democrat\n",
    "data2$Political[data2$Political==4]=2 #apolitical\n",
    "data2$Political[data2$Political==8]=2 #apolitical\n",
    "data2$Political[data2$Political==5]=1 #republican\n",
    "data2$Political[data2$Political==6]=1 #republican\n",
    "data2$Political[data2$Political==7]=1 #republican\n",
    "table(data2$Political)"
   ]
  },
  {
   "cell_type": "code",
   "execution_count": 16,
   "metadata": {
    "collapsed": false
   },
   "outputs": [
    {
     "data": {
      "text/plain": [
       "\n",
       "  1   2   3   4   5   6   7 \n",
       "533  34  27   3  31  14   2 "
      ]
     },
     "metadata": {},
     "output_type": "display_data"
    },
    {
     "data": {
      "text/plain": [
       "\n",
       "  0   1 \n",
       "111 533 "
      ]
     },
     "metadata": {},
     "output_type": "display_data"
    }
   ],
   "source": [
    "#data2$Ethnic\n",
    "#Ethnic (Categorical- keep 1 as “1”- white; group and recode all others as “0”- non white)\n",
    "table(data2$Ethnic)\n",
    "data2$Ethnic[data2$Ethnic==1]=1 #white\n",
    "data2$Ethnic[data2$Ethnic==2]=0 #non-white\n",
    "data2$Ethnic[data2$Ethnic==3]=0\n",
    "data2$Ethnic[data2$Ethnic==4]=0\n",
    "data2$Ethnic[data2$Ethnic==5]=0\n",
    "data2$Ethnic[data2$Ethnic==6]=0\n",
    "data2$Ethnic[data2$Ethnic==7]=0\n",
    "table(data2$Ethnic)"
   ]
  },
  {
   "cell_type": "code",
   "execution_count": 17,
   "metadata": {
    "collapsed": false
   },
   "outputs": [
    {
     "data": {
      "text/plain": [
       "\n",
       "  1   2   3   4   5   6   7   8 \n",
       " 54  43 124 218  56  63  50  36 "
      ]
     },
     "metadata": {},
     "output_type": "display_data"
    },
    {
     "data": {
      "text/plain": [
       "\n",
       "  1   2   3   4 \n",
       "221 274 113  36 "
      ]
     },
     "metadata": {},
     "output_type": "display_data"
    }
   ],
   "source": [
    "table(data2$IncHomeS)\n",
    "\n",
    "data2$IncHomeS[data2$IncHomeS==1]=1\n",
    "data2$IncHomeS[data2$IncHomeS==2]=1\n",
    "data2$IncHomeS[data2$IncHomeS==3]=1\n",
    "data2$IncHomeS[data2$IncHomeS==4]=2\n",
    "data2$IncHomeS[data2$IncHomeS==5]=2\n",
    "data2$IncHomeS[data2$IncHomeS==6]=3\n",
    "data2$IncHomeS[data2$IncHomeS==7]=3\n",
    "data2$IncHomeS[data2$IncHomeS==8]=4\n",
    "\n",
    "table(data2$IncHomeS)"
   ]
  },
  {
   "cell_type": "code",
   "execution_count": 18,
   "metadata": {
    "collapsed": false
   },
   "outputs": [],
   "source": [
    "#names(data2)\n",
    "#These are only variables we really care about\n",
    "IVS = c(\"Age\",\n",
    "\"Gender\",\n",
    "\"OwnRent\",\n",
    "\"SqftCate\",\n",
    "\"HouseholdS\",\n",
    "\"Political\",\n",
    "\"Ethnic\",\n",
    "\"Income\",\n",
    "\"Educ\",\n",
    "\"Frugal\",\n",
    "\"MC\",\n",
    "\"EnergyC\",\n",
    "\"Trust\",\n",
    "\"ComfNS\",\n",
    "\"Atti\",\n",
    "\"SubNorm\",\n",
    "\"PBC\",\n",
    "\"SN\",\n",
    "\"HabitG\",\n",
    "\"HabitC\")"
   ]
  },
  {
   "cell_type": "code",
   "execution_count": 19,
   "metadata": {
    "collapsed": false
   },
   "outputs": [
    {
     "data": {
      "text/html": [
       "<ol class=list-inline>\n",
       "\t<li>'Age'</li>\n",
       "\t<li>'Atti'</li>\n",
       "\t<li>'BillS'</li>\n",
       "\t<li>'BillW'</li>\n",
       "\t<li>'ComfNS'</li>\n",
       "\t<li>'ComfNW1'</li>\n",
       "\t<li>'ComfNW2'</li>\n",
       "\t<li>'ControlN1'</li>\n",
       "\t<li>'ControlN2R'</li>\n",
       "\t<li>'ControlN3'</li>\n",
       "\t<li>'ControlN4'</li>\n",
       "\t<li>'ConvB1'</li>\n",
       "\t<li>'ConvB2'</li>\n",
       "\t<li>'ConvB3'</li>\n",
       "\t<li>'ConvB4'</li>\n",
       "\t<li>'Educ'</li>\n",
       "\t<li>'EmerRForm'</li>\n",
       "\t<li>'EnergyC'</li>\n",
       "\t<li>'EnergyC3'</li>\n",
       "\t<li>'Ethnic'</li>\n",
       "\t<li>'Frugal'</li>\n",
       "\t<li>'Gender'</li>\n",
       "\t<li>'HabitC'</li>\n",
       "\t<li>'HabitC3'</li>\n",
       "\t<li>'HabitE1'</li>\n",
       "\t<li>'HabitE2'</li>\n",
       "\t<li>'HabitE3'</li>\n",
       "\t<li>'HabitG'</li>\n",
       "\t<li>'HomeS'</li>\n",
       "\t<li>'HouseholdS'</li>\n",
       "\t<li>'INT1'</li>\n",
       "\t<li>'INT2'</li>\n",
       "\t<li>'INT3'</li>\n",
       "\t<li>'INT4'</li>\n",
       "\t<li>'IncAutoS'</li>\n",
       "\t<li>'IncAutoW'</li>\n",
       "\t<li>'IncAwayS'</li>\n",
       "\t<li>'IncAwayW'</li>\n",
       "\t<li>'IncEmer10S'</li>\n",
       "\t<li>'IncEmer10W'</li>\n",
       "\t<li>'IncEmer30S'</li>\n",
       "\t<li>'IncEmer30W'</li>\n",
       "\t<li>'IncHomeS'</li>\n",
       "\t<li>'IncHomeW'</li>\n",
       "\t<li>'Income'</li>\n",
       "\t<li>'MC'</li>\n",
       "\t<li>'MC1'</li>\n",
       "\t<li>'MC2'</li>\n",
       "\t<li>'OwnRent'</li>\n",
       "\t<li>'PBC'</li>\n",
       "\t<li>'PBC3R'</li>\n",
       "\t<li>'Political'</li>\n",
       "\t<li>'RewardForm'</li>\n",
       "\t<li>'SN'</li>\n",
       "\t<li>'SN3'</li>\n",
       "\t<li>'Sqft'</li>\n",
       "\t<li>'SqftCate'</li>\n",
       "\t<li>'State'</li>\n",
       "\t<li>'SubNorm'</li>\n",
       "\t<li>'Trust'</li>\n",
       "</ol>\n"
      ],
      "text/latex": [
       "\\begin{enumerate*}\n",
       "\\item 'Age'\n",
       "\\item 'Atti'\n",
       "\\item 'BillS'\n",
       "\\item 'BillW'\n",
       "\\item 'ComfNS'\n",
       "\\item 'ComfNW1'\n",
       "\\item 'ComfNW2'\n",
       "\\item 'ControlN1'\n",
       "\\item 'ControlN2R'\n",
       "\\item 'ControlN3'\n",
       "\\item 'ControlN4'\n",
       "\\item 'ConvB1'\n",
       "\\item 'ConvB2'\n",
       "\\item 'ConvB3'\n",
       "\\item 'ConvB4'\n",
       "\\item 'Educ'\n",
       "\\item 'EmerRForm'\n",
       "\\item 'EnergyC'\n",
       "\\item 'EnergyC3'\n",
       "\\item 'Ethnic'\n",
       "\\item 'Frugal'\n",
       "\\item 'Gender'\n",
       "\\item 'HabitC'\n",
       "\\item 'HabitC3'\n",
       "\\item 'HabitE1'\n",
       "\\item 'HabitE2'\n",
       "\\item 'HabitE3'\n",
       "\\item 'HabitG'\n",
       "\\item 'HomeS'\n",
       "\\item 'HouseholdS'\n",
       "\\item 'INT1'\n",
       "\\item 'INT2'\n",
       "\\item 'INT3'\n",
       "\\item 'INT4'\n",
       "\\item 'IncAutoS'\n",
       "\\item 'IncAutoW'\n",
       "\\item 'IncAwayS'\n",
       "\\item 'IncAwayW'\n",
       "\\item 'IncEmer10S'\n",
       "\\item 'IncEmer10W'\n",
       "\\item 'IncEmer30S'\n",
       "\\item 'IncEmer30W'\n",
       "\\item 'IncHomeS'\n",
       "\\item 'IncHomeW'\n",
       "\\item 'Income'\n",
       "\\item 'MC'\n",
       "\\item 'MC1'\n",
       "\\item 'MC2'\n",
       "\\item 'OwnRent'\n",
       "\\item 'PBC'\n",
       "\\item 'PBC3R'\n",
       "\\item 'Political'\n",
       "\\item 'RewardForm'\n",
       "\\item 'SN'\n",
       "\\item 'SN3'\n",
       "\\item 'Sqft'\n",
       "\\item 'SqftCate'\n",
       "\\item 'State'\n",
       "\\item 'SubNorm'\n",
       "\\item 'Trust'\n",
       "\\end{enumerate*}\n"
      ],
      "text/markdown": [
       "1. 'Age'\n",
       "2. 'Atti'\n",
       "3. 'BillS'\n",
       "4. 'BillW'\n",
       "5. 'ComfNS'\n",
       "6. 'ComfNW1'\n",
       "7. 'ComfNW2'\n",
       "8. 'ControlN1'\n",
       "9. 'ControlN2R'\n",
       "10. 'ControlN3'\n",
       "11. 'ControlN4'\n",
       "12. 'ConvB1'\n",
       "13. 'ConvB2'\n",
       "14. 'ConvB3'\n",
       "15. 'ConvB4'\n",
       "16. 'Educ'\n",
       "17. 'EmerRForm'\n",
       "18. 'EnergyC'\n",
       "19. 'EnergyC3'\n",
       "20. 'Ethnic'\n",
       "21. 'Frugal'\n",
       "22. 'Gender'\n",
       "23. 'HabitC'\n",
       "24. 'HabitC3'\n",
       "25. 'HabitE1'\n",
       "26. 'HabitE2'\n",
       "27. 'HabitE3'\n",
       "28. 'HabitG'\n",
       "29. 'HomeS'\n",
       "30. 'HouseholdS'\n",
       "31. 'INT1'\n",
       "32. 'INT2'\n",
       "33. 'INT3'\n",
       "34. 'INT4'\n",
       "35. 'IncAutoS'\n",
       "36. 'IncAutoW'\n",
       "37. 'IncAwayS'\n",
       "38. 'IncAwayW'\n",
       "39. 'IncEmer10S'\n",
       "40. 'IncEmer10W'\n",
       "41. 'IncEmer30S'\n",
       "42. 'IncEmer30W'\n",
       "43. 'IncHomeS'\n",
       "44. 'IncHomeW'\n",
       "45. 'Income'\n",
       "46. 'MC'\n",
       "47. 'MC1'\n",
       "48. 'MC2'\n",
       "49. 'OwnRent'\n",
       "50. 'PBC'\n",
       "51. 'PBC3R'\n",
       "52. 'Political'\n",
       "53. 'RewardForm'\n",
       "54. 'SN'\n",
       "55. 'SN3'\n",
       "56. 'Sqft'\n",
       "57. 'SqftCate'\n",
       "58. 'State'\n",
       "59. 'SubNorm'\n",
       "60. 'Trust'\n",
       "\n",
       "\n"
      ],
      "text/plain": [
       " [1] \"Age\"        \"Atti\"       \"BillS\"      \"BillW\"      \"ComfNS\"    \n",
       " [6] \"ComfNW1\"    \"ComfNW2\"    \"ControlN1\"  \"ControlN2R\" \"ControlN3\" \n",
       "[11] \"ControlN4\"  \"ConvB1\"     \"ConvB2\"     \"ConvB3\"     \"ConvB4\"    \n",
       "[16] \"Educ\"       \"EmerRForm\"  \"EnergyC\"    \"EnergyC3\"   \"Ethnic\"    \n",
       "[21] \"Frugal\"     \"Gender\"     \"HabitC\"     \"HabitC3\"    \"HabitE1\"   \n",
       "[26] \"HabitE2\"    \"HabitE3\"    \"HabitG\"     \"HomeS\"      \"HouseholdS\"\n",
       "[31] \"INT1\"       \"INT2\"       \"INT3\"       \"INT4\"       \"IncAutoS\"  \n",
       "[36] \"IncAutoW\"   \"IncAwayS\"   \"IncAwayW\"   \"IncEmer10S\" \"IncEmer10W\"\n",
       "[41] \"IncEmer30S\" \"IncEmer30W\" \"IncHomeS\"   \"IncHomeW\"   \"Income\"    \n",
       "[46] \"MC\"         \"MC1\"        \"MC2\"        \"OwnRent\"    \"PBC\"       \n",
       "[51] \"PBC3R\"      \"Political\"  \"RewardForm\" \"SN\"         \"SN3\"       \n",
       "[56] \"Sqft\"       \"SqftCate\"   \"State\"      \"SubNorm\"    \"Trust\"     "
      ]
     },
     "metadata": {},
     "output_type": "display_data"
    },
    {
     "data": {
      "text/html": [
       "<ol class=list-inline>\n",
       "\t<li>'Age'</li>\n",
       "\t<li>'Atti'</li>\n",
       "\t<li>'ComfNS'</li>\n",
       "\t<li>'Educ'</li>\n",
       "\t<li>'EnergyC'</li>\n",
       "\t<li>'Ethnic'</li>\n",
       "\t<li>'Frugal'</li>\n",
       "\t<li>'Gender'</li>\n",
       "\t<li>'HabitC'</li>\n",
       "\t<li>'HabitG'</li>\n",
       "\t<li>'HouseholdS'</li>\n",
       "\t<li>'Income'</li>\n",
       "\t<li>'MC'</li>\n",
       "\t<li>'OwnRent'</li>\n",
       "\t<li>'PBC'</li>\n",
       "\t<li>'Political'</li>\n",
       "\t<li>'SN'</li>\n",
       "\t<li>'SqftCate'</li>\n",
       "\t<li>'SubNorm'</li>\n",
       "\t<li>'Trust'</li>\n",
       "</ol>\n"
      ],
      "text/latex": [
       "\\begin{enumerate*}\n",
       "\\item 'Age'\n",
       "\\item 'Atti'\n",
       "\\item 'ComfNS'\n",
       "\\item 'Educ'\n",
       "\\item 'EnergyC'\n",
       "\\item 'Ethnic'\n",
       "\\item 'Frugal'\n",
       "\\item 'Gender'\n",
       "\\item 'HabitC'\n",
       "\\item 'HabitG'\n",
       "\\item 'HouseholdS'\n",
       "\\item 'Income'\n",
       "\\item 'MC'\n",
       "\\item 'OwnRent'\n",
       "\\item 'PBC'\n",
       "\\item 'Political'\n",
       "\\item 'SN'\n",
       "\\item 'SqftCate'\n",
       "\\item 'SubNorm'\n",
       "\\item 'Trust'\n",
       "\\end{enumerate*}\n"
      ],
      "text/markdown": [
       "1. 'Age'\n",
       "2. 'Atti'\n",
       "3. 'ComfNS'\n",
       "4. 'Educ'\n",
       "5. 'EnergyC'\n",
       "6. 'Ethnic'\n",
       "7. 'Frugal'\n",
       "8. 'Gender'\n",
       "9. 'HabitC'\n",
       "10. 'HabitG'\n",
       "11. 'HouseholdS'\n",
       "12. 'Income'\n",
       "13. 'MC'\n",
       "14. 'OwnRent'\n",
       "15. 'PBC'\n",
       "16. 'Political'\n",
       "17. 'SN'\n",
       "18. 'SqftCate'\n",
       "19. 'SubNorm'\n",
       "20. 'Trust'\n",
       "\n",
       "\n"
      ],
      "text/plain": [
       " [1] \"Age\"        \"Atti\"       \"ComfNS\"     \"Educ\"       \"EnergyC\"   \n",
       " [6] \"Ethnic\"     \"Frugal\"     \"Gender\"     \"HabitC\"     \"HabitG\"    \n",
       "[11] \"HouseholdS\" \"Income\"     \"MC\"         \"OwnRent\"    \"PBC\"       \n",
       "[16] \"Political\"  \"SN\"         \"SqftCate\"   \"SubNorm\"    \"Trust\"     "
      ]
     },
     "metadata": {},
     "output_type": "display_data"
    }
   ],
   "source": [
    "sort(names(data2))\n",
    "paste(sort(IVS))"
   ]
  },
  {
   "cell_type": "code",
   "execution_count": 20,
   "metadata": {
    "collapsed": false
   },
   "outputs": [],
   "source": [
    "data1 <- data2[, which(names(data2) %in% c(\"IncHomeS\",IVS))];"
   ]
  },
  {
   "cell_type": "code",
   "execution_count": 21,
   "metadata": {
    "collapsed": true
   },
   "outputs": [],
   "source": [
    "#Check to see if there are anymore missing values\n",
    "for (n in names(data1)){\n",
    "    nmis = sum(is.na(data1[,n]))\n",
    "    if(nmis >1)  print (c(n, sum(is.na(data1[,n]))))\n",
    "}"
   ]
  },
  {
   "cell_type": "code",
   "execution_count": 22,
   "metadata": {
    "collapsed": false
   },
   "outputs": [
    {
     "data": {
      "text/html": [
       "<ol class=list-inline>\n",
       "\t<li>'IncHomeS'</li>\n",
       "\t<li>'Age'</li>\n",
       "\t<li>'Gender'</li>\n",
       "\t<li>'OwnRent'</li>\n",
       "\t<li>'SqftCate'</li>\n",
       "\t<li>'HouseholdS'</li>\n",
       "\t<li>'Political'</li>\n",
       "\t<li>'Ethnic'</li>\n",
       "\t<li>'Income'</li>\n",
       "\t<li>'Educ'</li>\n",
       "\t<li>'Frugal'</li>\n",
       "\t<li>'MC'</li>\n",
       "\t<li>'EnergyC'</li>\n",
       "\t<li>'Trust'</li>\n",
       "\t<li>'ComfNS'</li>\n",
       "\t<li>'Atti'</li>\n",
       "\t<li>'SubNorm'</li>\n",
       "\t<li>'PBC'</li>\n",
       "\t<li>'SN'</li>\n",
       "\t<li>'HabitG'</li>\n",
       "\t<li>'HabitC'</li>\n",
       "</ol>\n"
      ],
      "text/latex": [
       "\\begin{enumerate*}\n",
       "\\item 'IncHomeS'\n",
       "\\item 'Age'\n",
       "\\item 'Gender'\n",
       "\\item 'OwnRent'\n",
       "\\item 'SqftCate'\n",
       "\\item 'HouseholdS'\n",
       "\\item 'Political'\n",
       "\\item 'Ethnic'\n",
       "\\item 'Income'\n",
       "\\item 'Educ'\n",
       "\\item 'Frugal'\n",
       "\\item 'MC'\n",
       "\\item 'EnergyC'\n",
       "\\item 'Trust'\n",
       "\\item 'ComfNS'\n",
       "\\item 'Atti'\n",
       "\\item 'SubNorm'\n",
       "\\item 'PBC'\n",
       "\\item 'SN'\n",
       "\\item 'HabitG'\n",
       "\\item 'HabitC'\n",
       "\\end{enumerate*}\n"
      ],
      "text/markdown": [
       "1. 'IncHomeS'\n",
       "2. 'Age'\n",
       "3. 'Gender'\n",
       "4. 'OwnRent'\n",
       "5. 'SqftCate'\n",
       "6. 'HouseholdS'\n",
       "7. 'Political'\n",
       "8. 'Ethnic'\n",
       "9. 'Income'\n",
       "10. 'Educ'\n",
       "11. 'Frugal'\n",
       "12. 'MC'\n",
       "13. 'EnergyC'\n",
       "14. 'Trust'\n",
       "15. 'ComfNS'\n",
       "16. 'Atti'\n",
       "17. 'SubNorm'\n",
       "18. 'PBC'\n",
       "19. 'SN'\n",
       "20. 'HabitG'\n",
       "21. 'HabitC'\n",
       "\n",
       "\n"
      ],
      "text/plain": [
       " [1] \"IncHomeS\"   \"Age\"        \"Gender\"     \"OwnRent\"    \"SqftCate\"  \n",
       " [6] \"HouseholdS\" \"Political\"  \"Ethnic\"     \"Income\"     \"Educ\"      \n",
       "[11] \"Frugal\"     \"MC\"         \"EnergyC\"    \"Trust\"      \"ComfNS\"    \n",
       "[16] \"Atti\"       \"SubNorm\"    \"PBC\"        \"SN\"         \"HabitG\"    \n",
       "[21] \"HabitC\"    "
      ]
     },
     "metadata": {},
     "output_type": "display_data"
    }
   ],
   "source": [
    "names(data1)\n",
    "\n",
    "#Fields with lots of missing values\n",
    "for (n in names(data1)){\n",
    "    nmis = sum(is.na(data1[,n]))\n",
    "    if(nmis >1)  print (c(n, sum(is.na(data1[,n]))))\n",
    "}\n",
    "    \n",
    "    \n",
    "# What about high correlations?\n",
    "hiCor <- function(x, level){\n",
    "  res <- cor(x,method=\"spearman\");\n",
    "  res1 <- res; res1[res<0] <- -res[res < 0];\n",
    "  for (i in 1:dim(x)[2]){\n",
    "    res1[i,i] <- 0;\n",
    "  }\n",
    "  sel <- apply(res1,1,max,na.rm=T) > level;\n",
    "  res[sel,sel];\n",
    "}\n",
    "#hiCor(data1,.75)"
   ]
  },
  {
   "cell_type": "code",
   "execution_count": 23,
   "metadata": {
    "collapsed": false
   },
   "outputs": [
    {
     "name": "stderr",
     "output_type": "stream",
     "text": [
      "Warning message in cbind(f_parts$left, ellip_h, f_parts$right, deparse.level = 0L):\n",
      "\"number of rows of result is not a multiple of vector length (arg 2)\"Warning message in cbind(f_parts$left, ellip_h, f_parts$right, deparse.level = 0L):\n",
      "\"number of rows of result is not a multiple of vector length (arg 2)\"Warning message in cbind(f_parts$left, ellip_h, f_parts$right, deparse.level = 0L):\n",
      "\"number of rows of result is not a multiple of vector length (arg 2)\""
     ]
    },
    {
     "data": {
      "text/html": [
       "<table>\n",
       "<thead><tr><th scope=col>IncHomeS</th><th scope=col>Age</th><th scope=col>Gender</th><th scope=col>OwnRent</th><th scope=col>SqftCate</th><th scope=col>HouseholdS</th><th scope=col>Political</th><th scope=col>Ethnic</th><th scope=col>Income</th><th scope=col>Educ</th><th scope=col>...</th><th scope=col>MC</th><th scope=col>EnergyC</th><th scope=col>Trust</th><th scope=col>ComfNS</th><th scope=col>Atti</th><th scope=col>SubNorm</th><th scope=col>PBC</th><th scope=col>SN</th><th scope=col>HabitG</th><th scope=col>HabitC</th></tr></thead>\n",
       "<tbody>\n",
       "</tbody>\n",
       "</table>\n"
      ],
      "text/latex": [
       "\\begin{tabular}{r|lllllllllllllllllllll}\n",
       " IncHomeS & Age & Gender & OwnRent & SqftCate & HouseholdS & Political & Ethnic & Income & Educ & ... & MC & EnergyC & Trust & ComfNS & Atti & SubNorm & PBC & SN & HabitG & HabitC\\\\\n",
       "\\hline\n",
       "\\end{tabular}\n"
      ],
      "text/plain": [
       "     IncHomeS Age Gender OwnRent SqftCate HouseholdS Political Ethnic Income\n",
       "     Educ ... MC EnergyC Trust ComfNS Atti SubNorm PBC SN HabitG HabitC"
      ]
     },
     "metadata": {},
     "output_type": "display_data"
    }
   ],
   "source": [
    "data1 [is.na(data1$IncHomeS), ]"
   ]
  },
  {
   "cell_type": "code",
   "execution_count": 24,
   "metadata": {
    "collapsed": false
   },
   "outputs": [
    {
     "data": {
      "text/plain": [
       "   Min. 1st Qu.  Median    Mean 3rd Qu.    Max. \n",
       "    1.0     1.0     2.0     1.9     2.0     4.0 "
      ]
     },
     "metadata": {},
     "output_type": "display_data"
    },
    {
     "data": {
      "text/plain": [
       "\n",
       "  1   2   3   4 \n",
       "221 274 113  36 "
      ]
     },
     "metadata": {},
     "output_type": "display_data"
    },
    {
     "data": {
      "text/plain": [
       "\n",
       "  1   2   3   4   5 \n",
       " 67 225 148 118  86 "
      ]
     },
     "metadata": {},
     "output_type": "display_data"
    }
   ],
   "source": [
    "summary(data1$IncHomeS)\n",
    "table(data1$IncHomeS)\n",
    "table(data1$HouseholdS)"
   ]
  },
  {
   "cell_type": "code",
   "execution_count": 25,
   "metadata": {
    "collapsed": false
   },
   "outputs": [
    {
     "data": {
      "text/html": [
       "<ol class=list-inline>\n",
       "\t<li>'IncHomeS'</li>\n",
       "\t<li>'Age'</li>\n",
       "\t<li>'Gender'</li>\n",
       "\t<li>'OwnRent'</li>\n",
       "\t<li>'SqftCate'</li>\n",
       "\t<li>'HouseholdS'</li>\n",
       "\t<li>'Political'</li>\n",
       "\t<li>'Ethnic'</li>\n",
       "\t<li>'Income'</li>\n",
       "\t<li>'Educ'</li>\n",
       "\t<li>'Frugal'</li>\n",
       "\t<li>'MC'</li>\n",
       "\t<li>'EnergyC'</li>\n",
       "\t<li>'Trust'</li>\n",
       "\t<li>'ComfNS'</li>\n",
       "\t<li>'Atti'</li>\n",
       "\t<li>'SubNorm'</li>\n",
       "\t<li>'PBC'</li>\n",
       "\t<li>'SN'</li>\n",
       "\t<li>'HabitG'</li>\n",
       "\t<li>'HabitC'</li>\n",
       "</ol>\n"
      ],
      "text/latex": [
       "\\begin{enumerate*}\n",
       "\\item 'IncHomeS'\n",
       "\\item 'Age'\n",
       "\\item 'Gender'\n",
       "\\item 'OwnRent'\n",
       "\\item 'SqftCate'\n",
       "\\item 'HouseholdS'\n",
       "\\item 'Political'\n",
       "\\item 'Ethnic'\n",
       "\\item 'Income'\n",
       "\\item 'Educ'\n",
       "\\item 'Frugal'\n",
       "\\item 'MC'\n",
       "\\item 'EnergyC'\n",
       "\\item 'Trust'\n",
       "\\item 'ComfNS'\n",
       "\\item 'Atti'\n",
       "\\item 'SubNorm'\n",
       "\\item 'PBC'\n",
       "\\item 'SN'\n",
       "\\item 'HabitG'\n",
       "\\item 'HabitC'\n",
       "\\end{enumerate*}\n"
      ],
      "text/markdown": [
       "1. 'IncHomeS'\n",
       "2. 'Age'\n",
       "3. 'Gender'\n",
       "4. 'OwnRent'\n",
       "5. 'SqftCate'\n",
       "6. 'HouseholdS'\n",
       "7. 'Political'\n",
       "8. 'Ethnic'\n",
       "9. 'Income'\n",
       "10. 'Educ'\n",
       "11. 'Frugal'\n",
       "12. 'MC'\n",
       "13. 'EnergyC'\n",
       "14. 'Trust'\n",
       "15. 'ComfNS'\n",
       "16. 'Atti'\n",
       "17. 'SubNorm'\n",
       "18. 'PBC'\n",
       "19. 'SN'\n",
       "20. 'HabitG'\n",
       "21. 'HabitC'\n",
       "\n",
       "\n"
      ],
      "text/plain": [
       " [1] \"IncHomeS\"   \"Age\"        \"Gender\"     \"OwnRent\"    \"SqftCate\"  \n",
       " [6] \"HouseholdS\" \"Political\"  \"Ethnic\"     \"Income\"     \"Educ\"      \n",
       "[11] \"Frugal\"     \"MC\"         \"EnergyC\"    \"Trust\"      \"ComfNS\"    \n",
       "[16] \"Atti\"       \"SubNorm\"    \"PBC\"        \"SN\"         \"HabitG\"    \n",
       "[21] \"HabitC\"    "
      ]
     },
     "metadata": {},
     "output_type": "display_data"
    }
   ],
   "source": [
    "data2 <- data1;\n",
    "data2 <- na.omit(data2)\n",
    "names(data2)"
   ]
  },
  {
   "cell_type": "code",
   "execution_count": 26,
   "metadata": {
    "collapsed": true
   },
   "outputs": [],
   "source": [
    "#Check to see if there are anymore missing values\n",
    "for (n in names(data2)){\n",
    "    nmis = sum(is.na(data2[,n]))\n",
    "    if(nmis >1)  print (c(n, sum(is.na(data2[,n]))))\n",
    "}"
   ]
  },
  {
   "cell_type": "code",
   "execution_count": 27,
   "metadata": {
    "collapsed": false
   },
   "outputs": [
    {
     "data": {
      "text/html": [
       "<dl class=dl-horizontal>\n",
       "\t<dt>IncHomeS</dt>\n",
       "\t\t<dd>0.860383994744962</dd>\n",
       "\t<dt>Age</dt>\n",
       "\t\t<dd>11.1938797901459</dd>\n",
       "\t<dt>Gender</dt>\n",
       "\t\t<dd>0.500079686085625</dd>\n",
       "\t<dt>OwnRent</dt>\n",
       "\t\t<dd>0.518177541402274</dd>\n",
       "\t<dt>SqftCate</dt>\n",
       "\t\t<dd>1.11247877900717</dd>\n",
       "\t<dt>HouseholdS</dt>\n",
       "\t\t<dd>1.21397201797694</dd>\n",
       "\t<dt>Political</dt>\n",
       "\t\t<dd>0.82348032041064</dd>\n",
       "\t<dt>Ethnic</dt>\n",
       "\t\t<dd>0.377986834841053</dd>\n",
       "\t<dt>Income</dt>\n",
       "\t\t<dd>1.96903953220479</dd>\n",
       "\t<dt>Educ</dt>\n",
       "\t\t<dd>1.11703563587115</dd>\n",
       "\t<dt>Frugal</dt>\n",
       "\t\t<dd>0.949954345573864</dd>\n",
       "\t<dt>MC</dt>\n",
       "\t\t<dd>1.08354585660929</dd>\n",
       "\t<dt>EnergyC</dt>\n",
       "\t\t<dd>1.41217463171069</dd>\n",
       "\t<dt>Trust</dt>\n",
       "\t\t<dd>1.40349935972541</dd>\n",
       "\t<dt>ComfNS</dt>\n",
       "\t\t<dd>1.45473588858333</dd>\n",
       "\t<dt>Atti</dt>\n",
       "\t\t<dd>1.1067677113612</dd>\n",
       "\t<dt>SubNorm</dt>\n",
       "\t\t<dd>1.34432133409719</dd>\n",
       "\t<dt>PBC</dt>\n",
       "\t\t<dd>0.948686973183519</dd>\n",
       "\t<dt>SN</dt>\n",
       "\t\t<dd>1.40554526722777</dd>\n",
       "\t<dt>HabitG</dt>\n",
       "\t\t<dd>1.18056425003297</dd>\n",
       "\t<dt>HabitC</dt>\n",
       "\t\t<dd>1.60481917585539</dd>\n",
       "</dl>\n"
      ],
      "text/latex": [
       "\\begin{description*}\n",
       "\\item[IncHomeS] 0.860383994744962\n",
       "\\item[Age] 11.1938797901459\n",
       "\\item[Gender] 0.500079686085625\n",
       "\\item[OwnRent] 0.518177541402274\n",
       "\\item[SqftCate] 1.11247877900717\n",
       "\\item[HouseholdS] 1.21397201797694\n",
       "\\item[Political] 0.82348032041064\n",
       "\\item[Ethnic] 0.377986834841053\n",
       "\\item[Income] 1.96903953220479\n",
       "\\item[Educ] 1.11703563587115\n",
       "\\item[Frugal] 0.949954345573864\n",
       "\\item[MC] 1.08354585660929\n",
       "\\item[EnergyC] 1.41217463171069\n",
       "\\item[Trust] 1.40349935972541\n",
       "\\item[ComfNS] 1.45473588858333\n",
       "\\item[Atti] 1.1067677113612\n",
       "\\item[SubNorm] 1.34432133409719\n",
       "\\item[PBC] 0.948686973183519\n",
       "\\item[SN] 1.40554526722777\n",
       "\\item[HabitG] 1.18056425003297\n",
       "\\item[HabitC] 1.60481917585539\n",
       "\\end{description*}\n"
      ],
      "text/markdown": [
       "IncHomeS\n",
       ":   0.860383994744962Age\n",
       ":   11.1938797901459Gender\n",
       ":   0.500079686085625OwnRent\n",
       ":   0.518177541402274SqftCate\n",
       ":   1.11247877900717HouseholdS\n",
       ":   1.21397201797694Political\n",
       ":   0.82348032041064Ethnic\n",
       ":   0.377986834841053Income\n",
       ":   1.96903953220479Educ\n",
       ":   1.11703563587115Frugal\n",
       ":   0.949954345573864MC\n",
       ":   1.08354585660929EnergyC\n",
       ":   1.41217463171069Trust\n",
       ":   1.40349935972541ComfNS\n",
       ":   1.45473588858333Atti\n",
       ":   1.1067677113612SubNorm\n",
       ":   1.34432133409719PBC\n",
       ":   0.948686973183519SN\n",
       ":   1.40554526722777HabitG\n",
       ":   1.18056425003297HabitC\n",
       ":   1.60481917585539\n",
       "\n"
      ],
      "text/plain": [
       "  IncHomeS        Age     Gender    OwnRent   SqftCate HouseholdS  Political \n",
       "      0.86      11.19       0.50       0.52       1.11       1.21       0.82 \n",
       "    Ethnic     Income       Educ     Frugal         MC    EnergyC      Trust \n",
       "      0.38       1.97       1.12       0.95       1.08       1.41       1.40 \n",
       "    ComfNS       Atti    SubNorm        PBC         SN     HabitG     HabitC \n",
       "      1.45       1.11       1.34       0.95       1.41       1.18       1.60 "
      ]
     },
     "metadata": {},
     "output_type": "display_data"
    }
   ],
   "source": [
    "#convert all data to numeric values\n",
    "\n",
    "sapply(data2,sd)"
   ]
  },
  {
   "cell_type": "code",
   "execution_count": 28,
   "metadata": {
    "collapsed": false
   },
   "outputs": [
    {
     "data": {
      "text/html": [],
      "text/latex": [],
      "text/markdown": [],
      "text/plain": [
       "<0 x 0 matrix>"
      ]
     },
     "metadata": {},
     "output_type": "display_data"
    }
   ],
   "source": [
    "hiCor(data2,.75)"
   ]
  },
  {
   "cell_type": "code",
   "execution_count": 29,
   "metadata": {
    "collapsed": false
   },
   "outputs": [
    {
     "name": "stdout",
     "output_type": "stream",
     "text": [
      "[1] 0.16\n",
      "    Frugal   MC EnergyC Atti SubNorm  PBC  SN HabitG HabitC\n",
      "PC1   0.37 0.32    0.37 0.41    0.31 0.23 0.2   0.28   0.25\n",
      "[1] 0.27\n",
      "     Age OwnRent SqftCate HouseholdS Income\n",
      "PC2 0.34    0.49     0.51       0.27   0.42\n",
      "[1] 0.34\n",
      "    IncHomeS Gender HouseholdS Income Educ ComfNS HabitC\n",
      "PC3    -0.31  -0.34      -0.35   0.23 0.51  -0.45   0.24\n",
      "[1] 0.4\n",
      "     Age Gender HouseholdS Political Ethnic   MC EnergyC  PBC HabitG\n",
      "PC4 0.22  -0.23      -0.34      -0.4   0.38 0.22   -0.26 0.37   0.26\n",
      "[1] 0.47\n",
      "    IncHomeS   Age HouseholdS Political  Educ EnergyC ComfNS HabitG HabitC\n",
      "PC5     -0.4 -0.37       0.34     -0.32 -0.32   -0.24  -0.29   0.21   0.26\n",
      "[1] 0.52\n",
      "    IncHomeS Ethnic Frugal    MC Trust SubNorm   SN HabitC\n",
      "PC6     0.35  -0.25  -0.27 -0.26  0.41    0.23 0.49   0.25\n",
      "[1] 0.57\n",
      "      Age Ethnic Educ Trust ComfNS SubNorm   SN HabitG HabitC\n",
      "PC7 -0.36   0.39 0.21  0.27    0.3    0.25 0.23  -0.28  -0.35\n",
      "[1] 0.62\n",
      "    Gender Ethnic Income   MC Trust ComfNS  PBC\n",
      "PC8  -0.55  -0.54   0.26 0.22 -0.28    0.2 0.25\n",
      "[1] 0.66\n",
      "    IncHomeS OwnRent Political  Educ Trust SubNorm  PBC HabitC\n",
      "PC9    -0.28    0.22      0.31 -0.27  0.53   -0.41 0.35   -0.2\n",
      "[1] 0.7\n",
      "     IncHomeS Political Ethnic   MC Trust SubNorm   PBC    SN\n",
      "PC10      0.2     -0.31  -0.25 0.25  0.48   -0.24 -0.44 -0.29\n",
      "[1] 0.74\n",
      "     Gender Political Ethnic Educ SubNorm  PBC HabitG HabitC\n",
      "PC11    0.5     -0.23   -0.3 0.36   -0.23 0.36  -0.31   0.21\n",
      "[1] 0.77\n",
      "       Age HouseholdS Political Ethnic Income Frugal    SN HabitG\n",
      "PC12 -0.33       0.22      0.42    0.2   0.26  -0.26 -0.37   0.42\n",
      "[1] 0.8\n",
      "     IncHomeS Ethnic ComfNS   PBC HabitG\n",
      "PC13    -0.51   -0.2   0.47 -0.28   0.45\n",
      "[1] 0.83\n",
      "     IncHomeS OwnRent Income  Educ Frugal   MC SubNorm HabitC\n",
      "PC14     0.22   -0.31   0.42 -0.22   0.33 -0.4   -0.38   0.35\n",
      "[1] 0.86\n",
      "        MC Trust SubNorm  PBC    SN HabitG\n",
      "PC15 -0.34  0.23    0.46 0.21 -0.54  -0.21\n",
      "[1] 0.89\n",
      "     SqftCate Political Income Frugal    MC ComfNS  PBC HabitG HabitC\n",
      "PC16    -0.26     -0.24   0.31  -0.22 -0.22  -0.43 0.28   0.26   -0.5\n",
      "[1] 0.91\n",
      "      Age OwnRent HouseholdS Political   MC EnergyC\n",
      "PC17 0.51   -0.57       0.25      0.29 0.25   -0.35\n",
      "[1] 0.94\n",
      "     Gender HouseholdS Income  Educ   MC SubNorm HabitG\n",
      "PC18   0.21      -0.34   0.47 -0.48 0.23    0.33   -0.2\n",
      "[1] 0.96\n",
      "     SqftCate HouseholdS Frugal  Atti HabitC\n",
      "PC19     0.56       -0.3   0.44 -0.38  -0.25\n",
      "[1] 0.98\n",
      "     OwnRent SqftCate HouseholdS Frugal   MC Atti\n",
      "PC20   -0.36     0.45      -0.35  -0.48 0.27 0.31\n",
      "[1] 1\n",
      "     EnergyC  Atti\n",
      "PC21    0.66 -0.64\n"
     ]
    }
   ],
   "source": [
    "res<-prcomp(data2, retx=F,scale=T)$rotation[,1:21];\n",
    "resAbs <- res;\n",
    "resAbs[res<0] <- -res[res<0];\n",
    "z <- cumsum(prcomp(data2, retx=F,scale=T)$sdev^2)/\n",
    "     sum(prcomp(data2, retx=F,scale=T)$sdev^2)\n",
    "\n",
    "for (i in 1:21){\n",
    "  print(z[i]);\n",
    "  print(t(res[resAbs[,i]>.2,i,drop=FALSE]));\n",
    "}\n"
   ]
  },
  {
   "cell_type": "code",
   "execution_count": 30,
   "metadata": {
    "collapsed": false
   },
   "outputs": [
    {
     "data": {
      "image/png": "[encoded data removed]",
      "text/plain": [
       "plot without title"
      ]
     },
     "metadata": {},
     "output_type": "display_data"
    }
   ],
   "source": [
    "plot(1:dim(data2)[2],cumsum(prcomp(data2, retx=F,scale=T)$sdev^2)/\n",
    "     sum(prcomp(data2, retx=F,scale=T)$sdev^2),\n",
    "     ylim=c(0,1),xlab=\"Number of coponents\",\n",
    "     ylab=\"Fraction of variance\");"
   ]
  },
  {
   "cell_type": "code",
   "execution_count": 31,
   "metadata": {
    "collapsed": true
   },
   "outputs": [],
   "source": [
    "res <- c();\n",
    "vnam <- names(data2);\n",
    "for (i in 2:dim(data2)[2]){\n",
    "  fmla <- as.formula(paste(vnam[i],paste(vnam[-c(1,i)],collapse=\"+\"),sep=\"~\"));\n",
    "  res <- rbind(res,c(i,round(summary(lm(fmla,data=data2))$r.squared,2)));\n",
    "}"
   ]
  },
  {
   "cell_type": "code",
   "execution_count": 32,
   "metadata": {
    "collapsed": false
   },
   "outputs": [
    {
     "data": {
      "text/html": [
       "<table>\n",
       "<tbody>\n",
       "\t<tr><th scope=row>Atti</th><td>16  </td><td>0.46</td></tr>\n",
       "\t<tr><th scope=row>EnergyC</th><td>13  </td><td>0.43</td></tr>\n",
       "\t<tr><th scope=row>Frugal</th><td>11  </td><td>0.37</td></tr>\n",
       "\t<tr><th scope=row>SqftCate</th><td> 5  </td><td>0.36</td></tr>\n",
       "\t<tr><th scope=row>OwnRent</th><td> 4  </td><td>0.30</td></tr>\n",
       "\t<tr><th scope=row>MC</th><td>12  </td><td>0.30</td></tr>\n",
       "\t<tr><th scope=row>HouseholdS</th><td> 6  </td><td>0.26</td></tr>\n",
       "\t<tr><th scope=row>Income</th><td> 9  </td><td>0.25</td></tr>\n",
       "\t<tr><th scope=row>SubNorm</th><td>17  </td><td>0.25</td></tr>\n",
       "\t<tr><th scope=row>HabitG</th><td>20  </td><td>0.23</td></tr>\n",
       "\t<tr><th scope=row>HabitC</th><td>21  </td><td>0.23</td></tr>\n",
       "\t<tr><th scope=row>Age</th><td> 2  </td><td>0.20</td></tr>\n",
       "\t<tr><th scope=row>Educ</th><td>10  </td><td>0.18</td></tr>\n",
       "\t<tr><th scope=row>SN</th><td>19  </td><td>0.18</td></tr>\n",
       "\t<tr><th scope=row>PBC</th><td>18  </td><td>0.17</td></tr>\n",
       "\t<tr><th scope=row>Political</th><td> 7  </td><td>0.16</td></tr>\n",
       "\t<tr><th scope=row>Gender</th><td> 3  </td><td>0.13</td></tr>\n",
       "\t<tr><th scope=row>ComfNS</th><td>15  </td><td>0.12</td></tr>\n",
       "\t<tr><th scope=row>Trust</th><td>14  </td><td>0.09</td></tr>\n",
       "\t<tr><th scope=row>Ethnic</th><td> 8  </td><td>0.06</td></tr>\n",
       "</tbody>\n",
       "</table>\n"
      ],
      "text/latex": [
       "\\begin{tabular}{r|ll}\n",
       "\tAtti & 16   & 0.46\\\\\n",
       "\tEnergyC & 13   & 0.43\\\\\n",
       "\tFrugal & 11   & 0.37\\\\\n",
       "\tSqftCate &  5   & 0.36\\\\\n",
       "\tOwnRent &  4   & 0.30\\\\\n",
       "\tMC & 12   & 0.30\\\\\n",
       "\tHouseholdS &  6   & 0.26\\\\\n",
       "\tIncome &  9   & 0.25\\\\\n",
       "\tSubNorm & 17   & 0.25\\\\\n",
       "\tHabitG & 20   & 0.23\\\\\n",
       "\tHabitC & 21   & 0.23\\\\\n",
       "\tAge &  2   & 0.20\\\\\n",
       "\tEduc & 10   & 0.18\\\\\n",
       "\tSN & 19   & 0.18\\\\\n",
       "\tPBC & 18   & 0.17\\\\\n",
       "\tPolitical &  7   & 0.16\\\\\n",
       "\tGender &  3   & 0.13\\\\\n",
       "\tComfNS & 15   & 0.12\\\\\n",
       "\tTrust & 14   & 0.09\\\\\n",
       "\tEthnic &  8   & 0.06\\\\\n",
       "\\end{tabular}\n"
      ],
      "text/markdown": [
       "1. 16\n",
       "2. 13\n",
       "3. 11\n",
       "4. 5\n",
       "5. 4\n",
       "6. 12\n",
       "7. 6\n",
       "8. 9\n",
       "9. 17\n",
       "10. 20\n",
       "11. 21\n",
       "12. 2\n",
       "13. 10\n",
       "14. 19\n",
       "15. 18\n",
       "16. 7\n",
       "17. 3\n",
       "18. 15\n",
       "19. 14\n",
       "20. 8\n",
       "21. 0.46\n",
       "22. 0.43\n",
       "23. 0.37\n",
       "24. 0.36\n",
       "25. 0.3\n",
       "26. 0.3\n",
       "27. 0.26\n",
       "28. 0.25\n",
       "29. 0.25\n",
       "30. 0.23\n",
       "31. 0.23\n",
       "32. 0.2\n",
       "33. 0.18\n",
       "34. 0.18\n",
       "35. 0.17\n",
       "36. 0.16\n",
       "37. 0.13\n",
       "38. 0.12\n",
       "39. 0.09\n",
       "40. 0.06\n",
       "\n",
       "\n"
      ],
      "text/plain": [
       "           [,1] [,2]\n",
       "Atti       16   0.46\n",
       "EnergyC    13   0.43\n",
       "Frugal     11   0.37\n",
       "SqftCate    5   0.36\n",
       "OwnRent     4   0.30\n",
       "MC         12   0.30\n",
       "HouseholdS  6   0.26\n",
       "Income      9   0.25\n",
       "SubNorm    17   0.25\n",
       "HabitG     20   0.23\n",
       "HabitC     21   0.23\n",
       "Age         2   0.20\n",
       "Educ       10   0.18\n",
       "SN         19   0.18\n",
       "PBC        18   0.17\n",
       "Political   7   0.16\n",
       "Gender      3   0.13\n",
       "ComfNS     15   0.12\n",
       "Trust      14   0.09\n",
       "Ethnic      8   0.06"
      ]
     },
     "metadata": {},
     "output_type": "display_data"
    }
   ],
   "source": [
    "row.names(res) <- vnam[res[,1]];\n",
    "o = order(-res[,2]);\n",
    "res[o,][res[o,2]<.7,]"
   ]
  },
  {
   "cell_type": "code",
   "execution_count": 33,
   "metadata": {
    "collapsed": false
   },
   "outputs": [],
   "source": [
    "IndepPred <- row.names(res[o,][res[o,2]<.7,])"
   ]
  },
  {
   "cell_type": "code",
   "execution_count": 34,
   "metadata": {
    "collapsed": false
   },
   "outputs": [
    {
     "data": {
      "text/html": [
       "<ol class=list-inline>\n",
       "\t<li>'Atti'</li>\n",
       "\t<li>'EnergyC'</li>\n",
       "\t<li>'Frugal'</li>\n",
       "\t<li>'SqftCate'</li>\n",
       "\t<li>'OwnRent'</li>\n",
       "\t<li>'MC'</li>\n",
       "\t<li>'HouseholdS'</li>\n",
       "\t<li>'Income'</li>\n",
       "\t<li>'SubNorm'</li>\n",
       "\t<li>'HabitG'</li>\n",
       "\t<li>'HabitC'</li>\n",
       "\t<li>'Age'</li>\n",
       "\t<li>'Educ'</li>\n",
       "\t<li>'SN'</li>\n",
       "\t<li>'PBC'</li>\n",
       "\t<li>'Political'</li>\n",
       "\t<li>'Gender'</li>\n",
       "\t<li>'ComfNS'</li>\n",
       "\t<li>'Trust'</li>\n",
       "\t<li>'Ethnic'</li>\n",
       "</ol>\n"
      ],
      "text/latex": [
       "\\begin{enumerate*}\n",
       "\\item 'Atti'\n",
       "\\item 'EnergyC'\n",
       "\\item 'Frugal'\n",
       "\\item 'SqftCate'\n",
       "\\item 'OwnRent'\n",
       "\\item 'MC'\n",
       "\\item 'HouseholdS'\n",
       "\\item 'Income'\n",
       "\\item 'SubNorm'\n",
       "\\item 'HabitG'\n",
       "\\item 'HabitC'\n",
       "\\item 'Age'\n",
       "\\item 'Educ'\n",
       "\\item 'SN'\n",
       "\\item 'PBC'\n",
       "\\item 'Political'\n",
       "\\item 'Gender'\n",
       "\\item 'ComfNS'\n",
       "\\item 'Trust'\n",
       "\\item 'Ethnic'\n",
       "\\end{enumerate*}\n"
      ],
      "text/markdown": [
       "1. 'Atti'\n",
       "2. 'EnergyC'\n",
       "3. 'Frugal'\n",
       "4. 'SqftCate'\n",
       "5. 'OwnRent'\n",
       "6. 'MC'\n",
       "7. 'HouseholdS'\n",
       "8. 'Income'\n",
       "9. 'SubNorm'\n",
       "10. 'HabitG'\n",
       "11. 'HabitC'\n",
       "12. 'Age'\n",
       "13. 'Educ'\n",
       "14. 'SN'\n",
       "15. 'PBC'\n",
       "16. 'Political'\n",
       "17. 'Gender'\n",
       "18. 'ComfNS'\n",
       "19. 'Trust'\n",
       "20. 'Ethnic'\n",
       "\n",
       "\n"
      ],
      "text/plain": [
       " [1] \"Atti\"       \"EnergyC\"    \"Frugal\"     \"SqftCate\"   \"OwnRent\"   \n",
       " [6] \"MC\"         \"HouseholdS\" \"Income\"     \"SubNorm\"    \"HabitG\"    \n",
       "[11] \"HabitC\"     \"Age\"        \"Educ\"       \"SN\"         \"PBC\"       \n",
       "[16] \"Political\"  \"Gender\"     \"ComfNS\"     \"Trust\"      \"Ethnic\"    "
      ]
     },
     "metadata": {},
     "output_type": "display_data"
    }
   ],
   "source": [
    "IndepPred"
   ]
  },
  {
   "cell_type": "code",
   "execution_count": 35,
   "metadata": {
    "collapsed": true
   },
   "outputs": [],
   "source": [
    "fmla <- as.formula(paste(\"Age\",paste(IndepPred,collapse=\"+\"),sep=\"~\"));"
   ]
  },
  {
   "cell_type": "code",
   "execution_count": 36,
   "metadata": {
    "collapsed": false
   },
   "outputs": [
    {
     "data": {
      "text/plain": [
       "\n",
       "  1   2   3   4 \n",
       "221 274 113  36 "
      ]
     },
     "metadata": {},
     "output_type": "display_data"
    }
   ],
   "source": [
    "table(data2[,\"IncHomeS\"])"
   ]
  },
  {
   "cell_type": "code",
   "execution_count": 37,
   "metadata": {
    "collapsed": false
   },
   "outputs": [
    {
     "name": "stderr",
     "output_type": "stream",
     "text": [
      "Warning message in model.matrix.default(mt, mf, contrasts):\n",
      "\"the response appeared on the right-hand side and was dropped\"Warning message in model.matrix.default(mt, mf, contrasts):\n",
      "\"problem with term 12 in model.matrix: no columns are assigned\""
     ]
    },
    {
     "data": {
      "text/plain": [
       "\n",
       "Call:\n",
       "lm(formula = fmla, data = data2)\n",
       "\n",
       "Residuals:\n",
       "   Min     1Q Median     3Q    Max \n",
       "-24.29  -7.25  -1.66   5.87  33.52 \n",
       "\n",
       "Coefficients:\n",
       "            Estimate Std. Error t value Pr(>|t|)    \n",
       "(Intercept)  10.2082     4.7497    2.15   0.0320 *  \n",
       "Atti          1.1345     0.4928    2.30   0.0217 *  \n",
       "EnergyC      -0.5092     0.3765   -1.35   0.1767    \n",
       "Frugal        0.0177     0.5326    0.03   0.9735    \n",
       "SqftCate      1.7592     0.4455    3.95  8.7e-05 ***\n",
       "OwnRent       5.4892     0.9001    6.10  1.9e-09 ***\n",
       "MC           -0.0125     0.4431   -0.03   0.9776    \n",
       "HouseholdS   -1.7279     0.3765   -4.59  5.4e-06 ***\n",
       "Income        0.2405     0.2354    1.02   0.3073    \n",
       "SubNorm      -0.3085     0.3435   -0.90   0.3695    \n",
       "HabitG        0.2248     0.3860    0.58   0.5605    \n",
       "HabitC        0.2961     0.2839    1.04   0.2973    \n",
       "Educ          0.6620     0.3944    1.68   0.0937 .  \n",
       "SN           -0.1113     0.3149   -0.35   0.7238    \n",
       "PBC           0.0600     0.4629    0.13   0.8968    \n",
       "Political    -0.6287     0.5304   -1.19   0.2363    \n",
       "Gender        2.7342     0.8513    3.21   0.0014 ** \n",
       "ComfNS        0.6981     0.2931    2.38   0.0175 *  \n",
       "Trust         0.0364     0.2999    0.12   0.9033    \n",
       "Ethnic        1.7630     1.0937    1.61   0.1075    \n",
       "---\n",
       "Signif. codes:  0 '***' 0.001 '**' 0.01 '*' 0.05 '.' 0.1 ' ' 1\n",
       "\n",
       "Residual standard error: 10 on 624 degrees of freedom\n",
       "Multiple R-squared:   0.2,\tAdjusted R-squared:  0.176 \n",
       "F-statistic: 8.21 on 19 and 624 DF,  p-value: <2e-16\n"
      ]
     },
     "metadata": {},
     "output_type": "display_data"
    }
   ],
   "source": [
    "mod = lm(fmla,data=data2)\n",
    "summary(mod)"
   ]
  },
  {
   "cell_type": "code",
   "execution_count": 38,
   "metadata": {
    "collapsed": false
   },
   "outputs": [
    {
     "data": {
      "text/html": [
       "<table>\n",
       "<thead><tr><th></th><th scope=col>Df</th><th scope=col>Sum Sq</th><th scope=col>Mean Sq</th><th scope=col>F value</th><th scope=col>Pr(&gt;F)</th></tr></thead>\n",
       "<tbody>\n",
       "\t<tr><th scope=row>Atti</th><td>  1    </td><td>6.0e+02</td><td> 600.81</td><td> 5.8171</td><td>1.6e-02</td></tr>\n",
       "\t<tr><th scope=row>EnergyC</th><td>  1    </td><td>4.0e+02</td><td> 403.11</td><td> 3.9029</td><td>4.9e-02</td></tr>\n",
       "\t<tr><th scope=row>Frugal</th><td>  1    </td><td>5.8e-01</td><td>   0.58</td><td> 0.0056</td><td>9.4e-01</td></tr>\n",
       "\t<tr><th scope=row>SqftCate</th><td>  1    </td><td>5.1e+03</td><td>5118.27</td><td>49.5553</td><td>5.1e-12</td></tr>\n",
       "\t<tr><th scope=row>OwnRent</th><td>  1    </td><td>4.8e+03</td><td>4792.42</td><td>46.4005</td><td>2.3e-11</td></tr>\n",
       "\t<tr><th scope=row>MC</th><td>  1    </td><td>1.3e+01</td><td>  13.44</td><td> 0.1301</td><td>7.2e-01</td></tr>\n",
       "\t<tr><th scope=row>HouseholdS</th><td>  1    </td><td>2.4e+03</td><td>2355.23</td><td>22.8035</td><td>2.2e-06</td></tr>\n",
       "\t<tr><th scope=row>Income</th><td>  1    </td><td>1.4e+02</td><td> 140.07</td><td> 1.3562</td><td>2.4e-01</td></tr>\n",
       "\t<tr><th scope=row>SubNorm</th><td>  1    </td><td>3.4e+01</td><td>  33.87</td><td> 0.3279</td><td>5.7e-01</td></tr>\n",
       "\t<tr><th scope=row>HabitG</th><td>  1    </td><td>3.2e+01</td><td>  31.74</td><td> 0.3073</td><td>5.8e-01</td></tr>\n",
       "\t<tr><th scope=row>HabitC</th><td>  1    </td><td>5.0e+01</td><td>  50.44</td><td> 0.4884</td><td>4.8e-01</td></tr>\n",
       "\t<tr><th scope=row>Educ</th><td>  1    </td><td>2.4e+02</td><td> 236.37</td><td> 2.2886</td><td>1.3e-01</td></tr>\n",
       "\t<tr><th scope=row>SN</th><td>  1    </td><td>3.1e+00</td><td>   3.11</td><td> 0.0301</td><td>8.6e-01</td></tr>\n",
       "\t<tr><th scope=row>PBC</th><td>  1    </td><td>1.9e+01</td><td>  19.15</td><td> 0.1854</td><td>6.7e-01</td></tr>\n",
       "\t<tr><th scope=row>Political</th><td>  1    </td><td>2.1e+02</td><td> 206.34</td><td> 1.9978</td><td>1.6e-01</td></tr>\n",
       "\t<tr><th scope=row>Gender</th><td>  1    </td><td>1.2e+03</td><td>1234.73</td><td>11.9547</td><td>5.8e-04</td></tr>\n",
       "\t<tr><th scope=row>ComfNS</th><td>  1    </td><td>6.1e+02</td><td> 607.54</td><td> 5.8823</td><td>1.6e-02</td></tr>\n",
       "\t<tr><th scope=row>Trust</th><td>  1    </td><td>5.0e+00</td><td>   5.01</td><td> 0.0486</td><td>8.3e-01</td></tr>\n",
       "\t<tr><th scope=row>Ethnic</th><td>  1    </td><td>2.7e+02</td><td> 268.38</td><td> 2.5985</td><td>1.1e-01</td></tr>\n",
       "\t<tr><th scope=row>Residuals</th><td>624    </td><td>6.4e+04</td><td> 103.28</td><td>     NA</td><td>     NA</td></tr>\n",
       "</tbody>\n",
       "</table>\n"
      ],
      "text/latex": [
       "\\begin{tabular}{r|lllll}\n",
       "  & Df & Sum Sq & Mean Sq & F value & Pr(>F)\\\\\n",
       "\\hline\n",
       "\tAtti &   1     & 6.0e+02 &  600.81 &  5.8171 & 1.6e-02\\\\\n",
       "\tEnergyC &   1     & 4.0e+02 &  403.11 &  3.9029 & 4.9e-02\\\\\n",
       "\tFrugal &   1     & 5.8e-01 &    0.58 &  0.0056 & 9.4e-01\\\\\n",
       "\tSqftCate &   1     & 5.1e+03 & 5118.27 & 49.5553 & 5.1e-12\\\\\n",
       "\tOwnRent &   1     & 4.8e+03 & 4792.42 & 46.4005 & 2.3e-11\\\\\n",
       "\tMC &   1     & 1.3e+01 &   13.44 &  0.1301 & 7.2e-01\\\\\n",
       "\tHouseholdS &   1     & 2.4e+03 & 2355.23 & 22.8035 & 2.2e-06\\\\\n",
       "\tIncome &   1     & 1.4e+02 &  140.07 &  1.3562 & 2.4e-01\\\\\n",
       "\tSubNorm &   1     & 3.4e+01 &   33.87 &  0.3279 & 5.7e-01\\\\\n",
       "\tHabitG &   1     & 3.2e+01 &   31.74 &  0.3073 & 5.8e-01\\\\\n",
       "\tHabitC &   1     & 5.0e+01 &   50.44 &  0.4884 & 4.8e-01\\\\\n",
       "\tEduc &   1     & 2.4e+02 &  236.37 &  2.2886 & 1.3e-01\\\\\n",
       "\tSN &   1     & 3.1e+00 &    3.11 &  0.0301 & 8.6e-01\\\\\n",
       "\tPBC &   1     & 1.9e+01 &   19.15 &  0.1854 & 6.7e-01\\\\\n",
       "\tPolitical &   1     & 2.1e+02 &  206.34 &  1.9978 & 1.6e-01\\\\\n",
       "\tGender &   1     & 1.2e+03 & 1234.73 & 11.9547 & 5.8e-04\\\\\n",
       "\tComfNS &   1     & 6.1e+02 &  607.54 &  5.8823 & 1.6e-02\\\\\n",
       "\tTrust &   1     & 5.0e+00 &    5.01 &  0.0486 & 8.3e-01\\\\\n",
       "\tEthnic &   1     & 2.7e+02 &  268.38 &  2.5985 & 1.1e-01\\\\\n",
       "\tResiduals & 624     & 6.4e+04 &  103.28 &      NA &      NA\\\\\n",
       "\\end{tabular}\n"
      ],
      "text/plain": [
       "           Df  Sum Sq  Mean Sq F value Pr(>F) \n",
       "Atti         1 6.0e+02  600.81  5.8171 1.6e-02\n",
       "EnergyC      1 4.0e+02  403.11  3.9029 4.9e-02\n",
       "Frugal       1 5.8e-01    0.58  0.0056 9.4e-01\n",
       "SqftCate     1 5.1e+03 5118.27 49.5553 5.1e-12\n",
       "OwnRent      1 4.8e+03 4792.42 46.4005 2.3e-11\n",
       "MC           1 1.3e+01   13.44  0.1301 7.2e-01\n",
       "HouseholdS   1 2.4e+03 2355.23 22.8035 2.2e-06\n",
       "Income       1 1.4e+02  140.07  1.3562 2.4e-01\n",
       "SubNorm      1 3.4e+01   33.87  0.3279 5.7e-01\n",
       "HabitG       1 3.2e+01   31.74  0.3073 5.8e-01\n",
       "HabitC       1 5.0e+01   50.44  0.4884 4.8e-01\n",
       "Educ         1 2.4e+02  236.37  2.2886 1.3e-01\n",
       "SN           1 3.1e+00    3.11  0.0301 8.6e-01\n",
       "PBC          1 1.9e+01   19.15  0.1854 6.7e-01\n",
       "Political    1 2.1e+02  206.34  1.9978 1.6e-01\n",
       "Gender       1 1.2e+03 1234.73 11.9547 5.8e-04\n",
       "ComfNS       1 6.1e+02  607.54  5.8823 1.6e-02\n",
       "Trust        1 5.0e+00    5.01  0.0486 8.3e-01\n",
       "Ethnic       1 2.7e+02  268.38  2.5985 1.1e-01\n",
       "Residuals  624 6.4e+04  103.28      NA      NA"
      ]
     },
     "metadata": {},
     "output_type": "display_data"
    }
   ],
   "source": [
    "anova(mod)"
   ]
  },
  {
   "cell_type": "code",
   "execution_count": 39,
   "metadata": {
    "collapsed": false
   },
   "outputs": [
    {
     "name": "stdout",
     "output_type": "stream",
     "text": [
      "\n",
      "Call:\n",
      "factanal(x = data2, factors = 2, rotation = \"varimax\")\n",
      "\n",
      "Uniquenesses:\n",
      "  IncHomeS        Age     Gender    OwnRent   SqftCate HouseholdS  Political \n",
      "      0.97       0.85       0.94       0.59       0.46       0.87       0.92 \n",
      "    Ethnic     Income       Educ     Frugal         MC    EnergyC      Trust \n",
      "      0.99       0.74       0.97       0.58       0.72       0.55       0.94 \n",
      "    ComfNS       Atti    SubNorm        PBC         SN     HabitG     HabitC \n",
      "      0.96       0.42       0.77       0.88       0.88       0.83       0.88 \n",
      "\n",
      "Loadings:\n",
      "           Factor1 Factor2\n",
      "Frugal      0.65          \n",
      "MC          0.53          \n",
      "EnergyC     0.67          \n",
      "Atti        0.76          \n",
      "OwnRent             0.64  \n",
      "SqftCate            0.73  \n",
      "Income              0.51  \n",
      "IncHomeS                  \n",
      "Age                 0.38  \n",
      "Gender                    \n",
      "HouseholdS          0.35  \n",
      "Political                 \n",
      "Ethnic                    \n",
      "Educ                      \n",
      "Trust                     \n",
      "ComfNS                    \n",
      "SubNorm     0.48          \n",
      "PBC         0.34          \n",
      "SN          0.31          \n",
      "HabitG      0.40          \n",
      "HabitC      0.34          \n",
      "\n",
      "               Factor1 Factor2\n",
      "SS loadings       2.68    1.61\n",
      "Proportion Var    0.13    0.08\n",
      "Cumulative Var    0.13    0.20\n",
      "\n",
      "Test of the hypothesis that 2 factors are sufficient.\n",
      "The chi square statistic is 678 on 169 degrees of freedom.\n",
      "The p-value is 4.7e-62 \n"
     ]
    }
   ],
   "source": [
    "fit <- factanal(data2, 2, rotation=\"varimax\")\n",
    "print(fit, digits=2, cutoff=.3, sort=TRUE)"
   ]
  },
  {
   "cell_type": "code",
   "execution_count": 40,
   "metadata": {
    "collapsed": false
   },
   "outputs": [
    {
     "data": {
      "text/plain": [
       "\n",
       "Call:\n",
       "lm(formula = IncHomeS ~ SqftCate, data = data2)\n",
       "\n",
       "Residuals:\n",
       "    Min      1Q  Median      3Q     Max \n",
       "-0.9469 -0.9433  0.0549  0.0585  2.0585 \n",
       "\n",
       "Coefficients:\n",
       "            Estimate Std. Error t value Pr(>|t|)    \n",
       "(Intercept)   1.9487     0.0847   23.00   <2e-16 ***\n",
       "SqftCate     -0.0018     0.0305   -0.06     0.95    \n",
       "---\n",
       "Signif. codes:  0 '***' 0.001 '**' 0.01 '*' 0.05 '.' 0.1 ' ' 1\n",
       "\n",
       "Residual standard error: 0.86 on 642 degrees of freedom\n",
       "Multiple R-squared:  5.43e-06,\tAdjusted R-squared:  -0.00155 \n",
       "F-statistic: 0.00349 on 1 and 642 DF,  p-value: 0.953\n"
      ]
     },
     "metadata": {},
     "output_type": "display_data"
    },
    {
     "data": {
      "image/png": "[encoded data removed]",
      "text/plain": [
       "Plot with title \"\""
      ]
     },
     "metadata": {},
     "output_type": "display_data"
    },
    {
     "data": {
      "image/png": "[encoded data removed]",
      "text/plain": [
       "Plot with title \"\""
      ]
     },
     "metadata": {},
     "output_type": "display_data"
    },
    {
     "data": {
      "image/png": "[encoded data removed]",
      "text/plain": [
       "Plot with title \"\""
      ]
     },
     "metadata": {},
     "output_type": "display_data"
    },
    {
     "data": {
      "image/png": "[encoded data removed]",
      "text/plain": [
       "Plot with title \"\""
      ]
     },
     "metadata": {},
     "output_type": "display_data"
    }
   ],
   "source": [
    "mod = lm(IncHomeS~SqftCate,data=data2)\n",
    "summary(mod)\n",
    "plot(mod)"
   ]
  },
  {
   "cell_type": "code",
   "execution_count": 41,
   "metadata": {
    "collapsed": false
   },
   "outputs": [
    {
     "ename": "ERROR",
     "evalue": "Error in xy.coords(x, y): 'x' and 'y' lengths differ\n",
     "output_type": "error",
     "traceback": [
      "Error in xy.coords(x, y): 'x' and 'y' lengths differ\nTraceback:\n",
      "1. points(z, 1:8, pch = \"*\", cex = 3)",
      "2. points.default(z, 1:8, pch = \"*\", cex = 3)",
      "3. plot.xy(xy.coords(x, y), type = type, ...)",
      "4. xy.coords(x, y)",
      "5. stop(\"'x' and 'y' lengths differ\")"
     ]
    },
    {
     "data": {
      "image/png": "[encoded data removed]",
      "text/plain": [
       "plot without title"
      ]
     },
     "metadata": {},
     "output_type": "display_data"
    }
   ],
   "source": [
    "plot(mod$residuals,data2$IncHomeS)\n",
    "z<-tapply(mod$residuals,data2$IncHomeS,mean)\n",
    "points(z,1:8,pch=\"*\",cex=3)"
   ]
  },
  {
   "cell_type": "code",
   "execution_count": 42,
   "metadata": {
    "collapsed": false
   },
   "outputs": [
    {
     "data": {
      "text/plain": [
       "\n",
       "Call:\n",
       "lm(formula = IncHomeS ~ SqftCate + OwnRent, data = data2)\n",
       "\n",
       "Residuals:\n",
       "    Min      1Q  Median      3Q     Max \n",
       "-1.3010 -0.8938  0.0378  0.1351  2.1639 \n",
       "\n",
       "Coefficients:\n",
       "            Estimate Std. Error t value Pr(>|t|)    \n",
       "(Intercept)   1.8255     0.1111   16.43   <2e-16 ***\n",
       "SqftCate     -0.0289     0.0343   -0.84    0.401    \n",
       "OwnRent       0.1261     0.0737    1.71    0.088 .  \n",
       "---\n",
       "Signif. codes:  0 '***' 0.001 '**' 0.01 '*' 0.05 '.' 0.1 ' ' 1\n",
       "\n",
       "Residual standard error: 0.86 on 641 degrees of freedom\n",
       "Multiple R-squared:  0.00455,\tAdjusted R-squared:  0.00144 \n",
       "F-statistic: 1.46 on 2 and 641 DF,  p-value: 0.232\n"
      ]
     },
     "metadata": {},
     "output_type": "display_data"
    }
   ],
   "source": [
    "mod = lm(IncHomeS~SqftCate+OwnRent,data=data2)\n",
    "summary(mod)"
   ]
  },
  {
   "cell_type": "code",
   "execution_count": 43,
   "metadata": {
    "collapsed": false
   },
   "outputs": [
    {
     "data": {
      "text/plain": [
       "\n",
       "Call:\n",
       "lm(formula = IncHomeS ~ SqftCate + OwnRent + HouseholdS, data = data2)\n",
       "\n",
       "Residuals:\n",
       "    Min      1Q  Median      3Q     Max \n",
       "-1.2996 -0.8910  0.0315  0.1394  2.1576 \n",
       "\n",
       "Coefficients:\n",
       "            Estimate Std. Error t value Pr(>|t|)    \n",
       "(Intercept)  1.81772    0.12467   14.58   <2e-16 ***\n",
       "SqftCate    -0.03046    0.03626   -0.84    0.401    \n",
       "OwnRent      0.12603    0.07379    1.71    0.088 .  \n",
       "HouseholdS   0.00411    0.02993    0.14    0.891    \n",
       "---\n",
       "Signif. codes:  0 '***' 0.001 '**' 0.01 '*' 0.05 '.' 0.1 ' ' 1\n",
       "\n",
       "Residual standard error: 0.86 on 640 degrees of freedom\n",
       "Multiple R-squared:  0.00458,\tAdjusted R-squared:  -8.86e-05 \n",
       "F-statistic: 0.981 on 3 and 640 DF,  p-value: 0.401\n"
      ]
     },
     "metadata": {},
     "output_type": "display_data"
    }
   ],
   "source": [
    "#Probably overfitting\n",
    "mod1 = lm(IncHomeS~SqftCate+OwnRent+HouseholdS,data=data2)\n",
    "summary(mod1)"
   ]
  },
  {
   "cell_type": "code",
   "execution_count": 44,
   "metadata": {
    "collapsed": false
   },
   "outputs": [
    {
     "name": "stderr",
     "output_type": "stream",
     "text": [
      "Loading required package: nlme\n",
      "This is mgcv 1.8-14. For overview type 'help(\"mgcv-package\")'.\n"
     ]
    }
   ],
   "source": [
    "library(mgcv)\n"
   ]
  },
  {
   "cell_type": "code",
   "execution_count": 45,
   "metadata": {
    "collapsed": false
   },
   "outputs": [
    {
     "data": {
      "text/plain": [
       "\n",
       "Family: gaussian \n",
       "Link function: identity \n",
       "\n",
       "Formula:\n",
       "IncHomeS ~ SqftCate + OwnRent + HouseholdS\n",
       "\n",
       "Parametric coefficients:\n",
       "            Estimate Std. Error t value Pr(>|t|)    \n",
       "(Intercept)  1.81772    0.12467   14.58   <2e-16 ***\n",
       "SqftCate    -0.03046    0.03626   -0.84    0.401    \n",
       "OwnRent      0.12603    0.07379    1.71    0.088 .  \n",
       "HouseholdS   0.00411    0.02993    0.14    0.891    \n",
       "---\n",
       "Signif. codes:  0 '***' 0.001 '**' 0.01 '*' 0.05 '.' 0.1 ' ' 1\n",
       "\n",
       "\n",
       "R-sq.(adj) =  -8.86e-05   Deviance explained = 0.458%\n",
       "GCV = 0.74495  Scale est. = 0.74033   n = 644"
      ]
     },
     "metadata": {},
     "output_type": "display_data"
    }
   ],
   "source": [
    "mGam = gam(IncHomeS~SqftCate+OwnRent+HouseholdS,data=data2)\n",
    "summary(mGam)\n"
   ]
  },
  {
   "cell_type": "code",
   "execution_count": 46,
   "metadata": {
    "collapsed": false
   },
   "outputs": [
    {
     "ename": "ERROR",
     "evalue": "Error in plot.gam(mGam): No terms to plot - nothing for plot.gam() to do.\n",
     "output_type": "error",
     "traceback": [
      "Error in plot.gam(mGam): No terms to plot - nothing for plot.gam() to do.\nTraceback:\n",
      "1. plot(mGam)",
      "2. plot.gam(mGam)",
      "3. stop(\"No terms to plot - nothing for plot.gam() to do.\")"
     ]
    }
   ],
   "source": [
    "plot(mGam)"
   ]
  },
  {
   "cell_type": "code",
   "execution_count": 47,
   "metadata": {
    "collapsed": false
   },
   "outputs": [
    {
     "data": {
      "text/plain": [
       "\n",
       "Call:\n",
       "lm(formula = IncHomeS ~ SqftCate + OwnRent + HouseholdS + Gender + \n",
       "    ComfNS + Atti + Educ, data = data2)\n",
       "\n",
       "Residuals:\n",
       "   Min     1Q Median     3Q    Max \n",
       "-1.394 -0.700 -0.065  0.494  2.707 \n",
       "\n",
       "Coefficients:\n",
       "            Estimate Std. Error t value Pr(>|t|)    \n",
       "(Intercept)  1.53250    0.28064    5.46  6.8e-08 ***\n",
       "SqftCate    -0.03076    0.03497   -0.88   0.3794    \n",
       "OwnRent      0.13319    0.07116    1.87   0.0617 .  \n",
       "HouseholdS  -0.01327    0.02969   -0.45   0.6550    \n",
       "Gender       0.09046    0.06789    1.33   0.1831    \n",
       "ComfNS       0.14346    0.02280    6.29  5.8e-10 ***\n",
       "Atti        -0.09064    0.03067   -2.96   0.0032 ** \n",
       "Educ        -0.00364    0.03007   -0.12   0.9038    \n",
       "---\n",
       "Signif. codes:  0 '***' 0.001 '**' 0.01 '*' 0.05 '.' 0.1 ' ' 1\n",
       "\n",
       "Residual standard error: 0.83 on 636 degrees of freedom\n",
       "Multiple R-squared:  0.0854,\tAdjusted R-squared:  0.0753 \n",
       "F-statistic: 8.48 on 7 and 636 DF,  p-value: 6.07e-10\n"
      ]
     },
     "metadata": {},
     "output_type": "display_data"
    }
   ],
   "source": [
    "mod1 = lm(IncHomeS~SqftCate+OwnRent+HouseholdS+Gender+ComfNS+Atti+Educ,data=data2)\n",
    "summary(mod1)\n"
   ]
  },
  {
   "cell_type": "code",
   "execution_count": 48,
   "metadata": {
    "collapsed": false
   },
   "outputs": [
    {
     "data": {
      "text/html": [
       "<table>\n",
       "<thead><tr><th></th><th scope=col>Df</th><th scope=col>Sum Sq</th><th scope=col>Mean Sq</th><th scope=col>F value</th><th scope=col>Pr(&gt;F)</th></tr></thead>\n",
       "<tbody>\n",
       "\t<tr><th scope=row>SqftCate</th><td>  1    </td><td>2.6e-03</td><td> 0.0026</td><td> 0.0038</td><td>9.5e-01</td></tr>\n",
       "\t<tr><th scope=row>OwnRent</th><td>  1    </td><td>2.2e+00</td><td> 2.1623</td><td> 3.1588</td><td>7.6e-02</td></tr>\n",
       "\t<tr><th scope=row>HouseholdS</th><td>  1    </td><td>1.4e-02</td><td> 0.0139</td><td> 0.0204</td><td>8.9e-01</td></tr>\n",
       "\t<tr><th scope=row>Gender</th><td>  1    </td><td>4.6e-01</td><td> 0.4610</td><td> 0.6735</td><td>4.1e-01</td></tr>\n",
       "\t<tr><th scope=row>ComfNS</th><td>  1    </td><td>3.2e+01</td><td>31.9486</td><td>46.6726</td><td>2.0e-11</td></tr>\n",
       "\t<tr><th scope=row>Atti</th><td>  1    </td><td>6.0e+00</td><td> 6.0308</td><td> 8.8101</td><td>3.1e-03</td></tr>\n",
       "\t<tr><th scope=row>Educ</th><td>  1    </td><td>1.0e-02</td><td> 0.0100</td><td> 0.0146</td><td>9.0e-01</td></tr>\n",
       "\t<tr><th scope=row>Residuals</th><td>636    </td><td>4.4e+02</td><td> 0.6845</td><td>     NA</td><td>     NA</td></tr>\n",
       "</tbody>\n",
       "</table>\n"
      ],
      "text/latex": [
       "\\begin{tabular}{r|lllll}\n",
       "  & Df & Sum Sq & Mean Sq & F value & Pr(>F)\\\\\n",
       "\\hline\n",
       "\tSqftCate &   1     & 2.6e-03 &  0.0026 &  0.0038 & 9.5e-01\\\\\n",
       "\tOwnRent &   1     & 2.2e+00 &  2.1623 &  3.1588 & 7.6e-02\\\\\n",
       "\tHouseholdS &   1     & 1.4e-02 &  0.0139 &  0.0204 & 8.9e-01\\\\\n",
       "\tGender &   1     & 4.6e-01 &  0.4610 &  0.6735 & 4.1e-01\\\\\n",
       "\tComfNS &   1     & 3.2e+01 & 31.9486 & 46.6726 & 2.0e-11\\\\\n",
       "\tAtti &   1     & 6.0e+00 &  6.0308 &  8.8101 & 3.1e-03\\\\\n",
       "\tEduc &   1     & 1.0e-02 &  0.0100 &  0.0146 & 9.0e-01\\\\\n",
       "\tResiduals & 636     & 4.4e+02 &  0.6845 &      NA &      NA\\\\\n",
       "\\end{tabular}\n"
      ],
      "text/plain": [
       "           Df  Sum Sq  Mean Sq F value Pr(>F) \n",
       "SqftCate     1 2.6e-03  0.0026  0.0038 9.5e-01\n",
       "OwnRent      1 2.2e+00  2.1623  3.1588 7.6e-02\n",
       "HouseholdS   1 1.4e-02  0.0139  0.0204 8.9e-01\n",
       "Gender       1 4.6e-01  0.4610  0.6735 4.1e-01\n",
       "ComfNS       1 3.2e+01 31.9486 46.6726 2.0e-11\n",
       "Atti         1 6.0e+00  6.0308  8.8101 3.1e-03\n",
       "Educ         1 1.0e-02  0.0100  0.0146 9.0e-01\n",
       "Residuals  636 4.4e+02  0.6845      NA      NA"
      ]
     },
     "metadata": {},
     "output_type": "display_data"
    }
   ],
   "source": [
    "anova(mod1)"
   ]
  },
  {
   "cell_type": "code",
   "execution_count": 49,
   "metadata": {
    "collapsed": false
   },
   "outputs": [
    {
     "data": {
      "text/html": [
       "<table>\n",
       "<thead><tr><th></th><th scope=col>Df</th><th scope=col>Sum of Sq</th><th scope=col>RSS</th><th scope=col>AIC</th></tr></thead>\n",
       "<tbody>\n",
       "\t<tr><th scope=row>&lt;none&gt;</th><td>NA   </td><td>   NA</td><td>435  </td><td>-236 </td></tr>\n",
       "\t<tr><th scope=row>SqftCate</th><td> 1   </td><td> 0.53</td><td>436  </td><td>-237 </td></tr>\n",
       "\t<tr><th scope=row>OwnRent</th><td> 1   </td><td> 2.40</td><td>438  </td><td>-235 </td></tr>\n",
       "\t<tr><th scope=row>HouseholdS</th><td> 1   </td><td> 0.14</td><td>435  </td><td>-238 </td></tr>\n",
       "\t<tr><th scope=row>Gender</th><td> 1   </td><td> 1.22</td><td>437  </td><td>-236 </td></tr>\n",
       "\t<tr><th scope=row>ComfNS</th><td> 1   </td><td>27.11</td><td>462  </td><td>-199 </td></tr>\n",
       "\t<tr><th scope=row>Atti</th><td> 1   </td><td> 5.98</td><td>441  </td><td>-229 </td></tr>\n",
       "\t<tr><th scope=row>Educ</th><td> 1   </td><td> 0.01</td><td>435  </td><td>-238 </td></tr>\n",
       "</tbody>\n",
       "</table>\n"
      ],
      "text/latex": [
       "\\begin{tabular}{r|llll}\n",
       "  & Df & Sum of Sq & RSS & AIC\\\\\n",
       "\\hline\n",
       "\t<none> & NA    &    NA & 435   & -236 \\\\\n",
       "\tSqftCate &  1    &  0.53 & 436   & -237 \\\\\n",
       "\tOwnRent &  1    &  2.40 & 438   & -235 \\\\\n",
       "\tHouseholdS &  1    &  0.14 & 435   & -238 \\\\\n",
       "\tGender &  1    &  1.22 & 437   & -236 \\\\\n",
       "\tComfNS &  1    & 27.11 & 462   & -199 \\\\\n",
       "\tAtti &  1    &  5.98 & 441   & -229 \\\\\n",
       "\tEduc &  1    &  0.01 & 435   & -238 \\\\\n",
       "\\end{tabular}\n"
      ],
      "text/plain": [
       "           Df Sum of Sq RSS AIC \n",
       "<none>     NA    NA     435 -236\n",
       "SqftCate    1  0.53     436 -237\n",
       "OwnRent     1  2.40     438 -235\n",
       "HouseholdS  1  0.14     435 -238\n",
       "Gender      1  1.22     437 -236\n",
       "ComfNS      1 27.11     462 -199\n",
       "Atti        1  5.98     441 -229\n",
       "Educ        1  0.01     435 -238"
      ]
     },
     "metadata": {},
     "output_type": "display_data"
    }
   ],
   "source": [
    "drop1(mod1)"
   ]
  },
  {
   "cell_type": "code",
   "execution_count": 50,
   "metadata": {
    "collapsed": false
   },
   "outputs": [
    {
     "name": "stderr",
     "output_type": "stream",
     "text": [
      "\n",
      "Attaching package: 'bnlearn'\n",
      "\n",
      "The following object is masked from 'package:stats':\n",
      "\n",
      "    sigma\n",
      "\n"
     ]
    }
   ],
   "source": [
    "library(bnlearn)"
   ]
  },
  {
   "cell_type": "code",
   "execution_count": 51,
   "metadata": {
    "collapsed": false
   },
   "outputs": [
    {
     "ename": "ERROR",
     "evalue": "Error in `[.data.frame`(data2, , c(\"IncHomeS\", \"ComfNS3\", \"Age\", \"HabitC2\")): undefined columns selected\n",
     "output_type": "error",
     "traceback": [
      "Error in `[.data.frame`(data2, , c(\"IncHomeS\", \"ComfNS3\", \"Age\", \"HabitC2\")): undefined columns selected\nTraceback:\n",
      "1. data2[, c(\"IncHomeS\", \"ComfNS3\", \"Age\", \"HabitC2\")]",
      "2. `[.data.frame`(data2, , c(\"IncHomeS\", \"ComfNS3\", \"Age\", \"HabitC2\"))",
      "3. stop(\"undefined columns selected\")"
     ]
    }
   ],
   "source": [
    "dd2 = data2[,c('IncHomeS', 'ComfNS3','Age','HabitC2')]\n",
    "for (i in 1:4) dd2[,i] <- as.double(dd2[,i])\n",
    "dag2 = tabu(dd2)\n",
    "plot(dag2)"
   ]
  },
  {
   "cell_type": "code",
   "execution_count": 27,
   "metadata": {
    "collapsed": false
   },
   "outputs": [
    {
     "data": {
      "text/plain": [
       "\n",
       "Call:\n",
       "lm(formula = fmlaF, data = data2)\n",
       "\n",
       "Residuals:\n",
       "   Min     1Q Median     3Q    Max \n",
       "-3.672 -1.120 -0.092  1.051  4.878 \n",
       "\n",
       "Coefficients:\n",
       "             Estimate Std. Error t value Pr(>|t|)   \n",
       "(Intercept)  3.12e+00   1.26e+00    2.49   0.0132 * \n",
       "Age          2.37e-02   7.22e-03    3.28   0.0011 **\n",
       "Gender       1.02e-01   1.56e-01    0.66   0.5117   \n",
       "OwnRent     -1.93e-03   1.64e-01   -0.01   0.9906   \n",
       "BillS        6.56e-04   1.27e-03    0.52   0.6060   \n",
       "NBillS       1.30e-01   1.29e-01    1.01   0.3138   \n",
       "Sqft        -3.13e-05   1.11e-04   -0.28   0.7776   \n",
       "SqftCate    -3.01e-02   1.10e-01   -0.27   0.7853   \n",
       "HouseholdS  -8.02e-02   6.84e-02   -1.17   0.2412   \n",
       "Political   -6.80e-02   3.33e-02   -2.04   0.0417 * \n",
       "Ethnic       1.03e-01   6.05e-02    1.70   0.0901 . \n",
       "Income      -3.16e-02   4.24e-02   -0.74   0.4571   \n",
       "Educ         2.87e-02   6.87e-02    0.42   0.6760   \n",
       "MC1          2.52e-03   7.09e-02    0.04   0.9716   \n",
       "MC2          3.68e-02   7.60e-02    0.48   0.6290   \n",
       "MC3         -5.95e-02   7.00e-02   -0.85   0.3959   \n",
       "MC4          5.98e-02   7.07e-02    0.85   0.3981   \n",
       "MC5         -6.47e-02   8.78e-02   -0.74   0.4614   \n",
       "Frugal1     -3.85e-02   1.10e-01   -0.35   0.7262   \n",
       "Frugal2     -8.59e-02   9.05e-02   -0.95   0.3429   \n",
       "Frugal3     -1.18e-02   9.34e-02   -0.13   0.8995   \n",
       "Trust1       2.10e-01   1.22e-01    1.72   0.0863 . \n",
       "Trust2       1.28e-02   7.90e-02    0.16   0.8712   \n",
       "Trust3      -1.17e-01   7.59e-02   -1.54   0.1229   \n",
       "Trust4      -8.30e-02   1.16e-01   -0.72   0.4729   \n",
       "ComfNS1      5.25e-02   7.68e-02    0.68   0.4946   \n",
       "ComfNS2      8.00e-02   6.17e-02    1.30   0.1956   \n",
       "ComfNS3      1.46e-01   6.92e-02    2.11   0.0353 * \n",
       "ConvB1       3.75e-02   7.85e-02    0.48   0.6333   \n",
       "ConvB2      -5.31e-02   8.29e-02   -0.64   0.5225   \n",
       "ConvB3       1.24e-02   5.19e-02    0.24   0.8110   \n",
       "ConvB4      -8.88e-03   5.75e-02   -0.15   0.8772   \n",
       "ControlN1    8.58e-02   9.14e-02    0.94   0.3482   \n",
       "ControlN2R  -7.14e-02   4.63e-02   -1.54   0.1237   \n",
       "ControlN3    3.67e-02   7.92e-02    0.46   0.6429   \n",
       "ControlN4    7.48e-03   5.41e-02    0.14   0.8901   \n",
       "Atti1       -2.79e-03   1.20e-01   -0.02   0.9814   \n",
       "Atti2       -6.29e-02   1.14e-01   -0.55   0.5810   \n",
       "Atti3       -7.23e-02   1.13e-01   -0.64   0.5209   \n",
       "Atti4       -7.00e-03   1.11e-01   -0.06   0.9499   \n",
       "SubNorm1     9.04e-02   5.86e-02    1.54   0.1235   \n",
       "SubNorm2    -8.76e-03   6.82e-02   -0.13   0.8978   \n",
       "SubNorm3    -3.12e-02   5.47e-02   -0.57   0.5681   \n",
       "PBC1         1.24e-01   6.69e-02    1.85   0.0650 . \n",
       "PBC2        -1.11e-01   1.12e-01   -0.99   0.3216   \n",
       "PBC3R       -3.66e-03   5.19e-02   -0.07   0.9437   \n",
       "PBC4        -1.27e-02   1.11e-01   -0.12   0.9084   \n",
       "PBC5        -8.22e-02   7.38e-02   -1.11   0.2661   \n",
       "SN1          4.08e-02   1.03e-01    0.39   0.6933   \n",
       "SN2         -1.02e-01   1.04e-01   -0.97   0.3310   \n",
       "SN3         -2.25e-02   5.42e-02   -0.41   0.6786   \n",
       "SN4          1.01e-01   7.18e-02    1.41   0.1581   \n",
       "HabitC1      6.74e-02   8.87e-02    0.76   0.4474   \n",
       "HabitC2     -8.93e-02   4.26e-02   -2.10   0.0365 * \n",
       "HabitC3      6.36e-02   4.31e-02    1.48   0.1407   \n",
       "HabitC4      1.20e-02   4.01e-02    0.30   0.7645   \n",
       "HabitC5     -1.66e-02   3.91e-02   -0.42   0.6715   \n",
       "HabitC6     -4.51e-02   3.70e-02   -1.22   0.2239   \n",
       "HabitC7     -7.40e-03   4.43e-02   -0.17   0.8674   \n",
       "HabitE1      1.28e-02   1.64e-01    0.08   0.9377   \n",
       "HabitE2      1.07e-01   1.15e-01    0.93   0.3525   \n",
       "HabitE3     -1.98e-02   1.14e-01   -0.17   0.8620   \n",
       "---\n",
       "Signif. codes:  0 '***' 0.001 '**' 0.01 '*' 0.05 '.' 0.1 ' ' 1\n",
       "\n",
       "Residual standard error: 1.7 on 582 degrees of freedom\n",
       "Multiple R-squared:  0.199,\tAdjusted R-squared:  0.115 \n",
       "F-statistic: 2.37 on 61 and 582 DF,  p-value: 1.42e-07\n"
      ]
     },
     "metadata": {},
     "output_type": "display_data"
    }
   ],
   "source": [
    "fmlaF <- as.formula(paste(\"IncHomeS\",paste(IVS,collapse=\"+\"),sep=\"~\"));\n",
    "mod = lm(fmlaF,data=data2)\n",
    "summary(mod)"
   ]
  },
  {
   "cell_type": "code",
   "execution_count": null,
   "metadata": {
    "collapsed": true
   },
   "outputs": [],
   "source": []
  },
  {
   "cell_type": "code",
   "execution_count": 28,
   "metadata": {
    "collapsed": false
   },
   "outputs": [
    {
     "data": {
      "text/plain": [
       "\n",
       "Call:\n",
       "lm(formula = IncHomeS ~ ComfNS3 + Age + HabitC2 + Political + \n",
       "    Ethnic + Trust1, data = data2)\n",
       "\n",
       "Residuals:\n",
       "   Min     1Q Median     3Q    Max \n",
       "-4.518 -1.152 -0.131  1.015  4.526 \n",
       "\n",
       "Coefficients:\n",
       "            Estimate Std. Error t value Pr(>|t|)    \n",
       "(Intercept)  2.53367    0.43662    5.80  1.0e-08 ***\n",
       "ComfNS3      0.28415    0.03962    7.17  2.1e-12 ***\n",
       "Age          0.02216    0.00608    3.65  0.00029 ***\n",
       "HabitC2     -0.09861    0.03698   -2.67  0.00786 ** \n",
       "Political   -0.05255    0.03052   -1.72  0.08559 .  \n",
       "Ethnic       0.09676    0.05622    1.72  0.08571 .  \n",
       "Trust1       0.02235    0.04340    0.51  0.60675    \n",
       "---\n",
       "Signif. codes:  0 '***' 0.001 '**' 0.01 '*' 0.05 '.' 0.1 ' ' 1\n",
       "\n",
       "Residual standard error: 1.7 on 637 degrees of freedom\n",
       "Multiple R-squared:  0.114,\tAdjusted R-squared:  0.106 \n",
       "F-statistic: 13.7 on 6 and 637 DF,  p-value: 1.1e-14\n"
      ]
     },
     "metadata": {},
     "output_type": "display_data"
    }
   ],
   "source": [
    "#Probably overfitting\n",
    "mod1 = lm(IncHomeS~ComfNS3+Age+HabitC2+Political+Ethnic+Trust1,data=data2)\n",
    "summary(mod1)"
   ]
  },
  {
   "cell_type": "code",
   "execution_count": 29,
   "metadata": {
    "collapsed": false
   },
   "outputs": [
    {
     "ename": "ERROR",
     "evalue": "Error in parse(text = x, srcfile = src): <text>:1:24: unexpected '{'\n1: for (i in 1:length(IVS){\n                           ^\n",
     "output_type": "error",
     "traceback": [
      "Error in parse(text = x, srcfile = src): <text>:1:24: unexpected '{'\n1: for (i in 1:length(IVS){\n                           ^\nTraceback:\n"
     ]
    }
   ],
   "source": [
    "for (i in 1:length(IVS){\n",
    "  fmla <- as.formula(paste(IVS[i],paste(vnam[-c(1,i)],collapse=\"+\"),sep=\"~\"));\n",
    "  res <- rbind(res,c(i,round(summary(lm(fmla,data=data2))$r.squared,2)));\n",
    "}\n",
    "vnam <- (data2);\n",
    "fmlaF <- as.formula(paste(\"Age\",paste(IVS[-\"Age\"],collapse=\"+\"),sep=\"~\"));\n",
    "mod = lm(fmlaF,data=data2)\n",
    "summary(mod)"
   ]
  },
  {
   "cell_type": "code",
   "execution_count": null,
   "metadata": {
    "collapsed": true
   },
   "outputs": [],
   "source": [
    "ind <- 1:length(IVS);names(ind) <- IVS"
   ]
  },
  {
   "cell_type": "code",
   "execution_count": null,
   "metadata": {
    "collapsed": false
   },
   "outputs": [],
   "source": [
    "fmlaF <- as.formula(paste(\"Age\",paste(IVS[-ind[\"Age\"]],collapse=\"+\"),sep=\"~\"));\n",
    "mod = lm(fmlaF,data=data2)\n",
    "res <- summary(mod)$coefficients\n",
    "res[abs(res[,3])>3,]"
   ]
  },
  {
   "cell_type": "code",
   "execution_count": null,
   "metadata": {
    "collapsed": false
   },
   "outputs": [],
   "source": [
    "fmlaF <- as.formula(paste(\"ComfNS3\",paste(IVS[-ind[\"ComfNS3\"]],collapse=\"+\"),sep=\"~\"));\n",
    "mod = lm(fmlaF,data=data2)\n",
    "res <- summary(mod)$coefficients\n",
    "res[abs(res[,3])>3,]"
   ]
  },
  {
   "cell_type": "code",
   "execution_count": 30,
   "metadata": {
    "collapsed": false
   },
   "outputs": [
    {
     "data": {
      "image/png": "[encoded data removed]",
      "text/plain": [
       "plot without title"
      ]
     },
     "metadata": {},
     "output_type": "display_data"
    }
   ],
   "source": [
    "dd2 = data2[,c('IncHomeS', 'ComfNS3','Age','HabitC2',\"Gender\",\"OwnRent\",\"SqftCate\",\n",
    "               \"HouseholdS\",\"Atti3\",\"Atti4\",\"ComfNS1\",\"ComfNS2\")]\n",
    "for (i in 1:12) dd2[,i] <- as.double(dd2[,i])\n",
    "dag2 = tabu(dd2)\n",
    "plot(dag2)"
   ]
  },
  {
   "cell_type": "code",
   "execution_count": null,
   "metadata": {
    "collapsed": true
   },
   "outputs": [],
   "source": []
  }
 ],
 "metadata": {
  "kernelspec": {
   "display_name": "R",
   "language": "R",
   "name": "ir"
  },
  "language_info": {
   "codemirror_mode": "r",
   "file_extension": ".r",
   "mimetype": "text/x-r-source",
   "name": "R",
   "pygments_lexer": "r",
   "version": "3.3.1"
  }
 },
 "nbformat": 4,
 "nbformat_minor": 1
}
