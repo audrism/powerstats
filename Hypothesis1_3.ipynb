{
 "cells": [
  {
   "cell_type": "markdown",
   "metadata": {},
   "source": [
    "## Hypothesis\n",
    "To predict the incentive level requested for raising thermostat settings for 2-3F \n",
    "    when being at home in summer.\n",
    "\n",
    "### Filter: HomeSYN=1 (i.e., only use people who use A/C when being at home in summer)\n",
    "\n",
    "Group IncHomeS and treat as categorical variable\n",
    "1 -> 1\n",
    "2,3 -> 2\n",
    "4,5,6,7 -> 3\n",
    "8 -> 4"
   ]
  },
  {
   "cell_type": "code",
   "execution_count": 1,
   "metadata": {
    "collapsed": false
   },
   "outputs": [
    {
     "data": {
      "text/html": [
       "<ol class=list-inline>\n",
       "\t<li>'ACYN'</li>\n",
       "\t<li>'Age'</li>\n",
       "\t<li>'Atti1'</li>\n",
       "\t<li>'Atti2'</li>\n",
       "\t<li>'Atti3'</li>\n",
       "\t<li>'Atti4'</li>\n",
       "\t<li>'Attitude'</li>\n",
       "\t<li>'AwayS'</li>\n",
       "\t<li>'AwaySNY'</li>\n",
       "\t<li>'AwayW'</li>\n",
       "\t<li>'AwayWNY'</li>\n",
       "\t<li>'BillS'</li>\n",
       "\t<li>'BillW'</li>\n",
       "\t<li>'City'</li>\n",
       "\t<li>'ComfNS1'</li>\n",
       "\t<li>'ComfNS2'</li>\n",
       "\t<li>'ComfNS3'</li>\n",
       "\t<li>'ComfNW1'</li>\n",
       "\t<li>'ComfNW2'</li>\n",
       "\t<li>'ComfortS'</li>\n",
       "\t<li>'ComfortW'</li>\n",
       "\t<li>'CompR'</li>\n",
       "\t<li>'ControlN1'</li>\n",
       "\t<li>'ControlN2R'</li>\n",
       "\t<li>'ControlN3'</li>\n",
       "\t<li>'ControlN4'</li>\n",
       "\t<li>'ConvB1'</li>\n",
       "\t<li>'ConvB2'</li>\n",
       "\t<li>'ConvB3'</li>\n",
       "\t<li>'ConvB4'</li>\n",
       "\t<li>'DeviceType'</li>\n",
       "\t<li>'Educ'</li>\n",
       "\t<li>'EmerRForm'</li>\n",
       "\t<li>'EnergyC'</li>\n",
       "\t<li>'EnergyC1'</li>\n",
       "\t<li>'EnergyC2'</li>\n",
       "\t<li>'EnergyC3'</li>\n",
       "\t<li>'EnergyC4'</li>\n",
       "\t<li>'Ethnic'</li>\n",
       "\t<li>'Frugal'</li>\n",
       "\t<li>'Frugal1'</li>\n",
       "\t<li>'Frugal2'</li>\n",
       "\t<li>'Frugal3'</li>\n",
       "\t<li>'Gender'</li>\n",
       "\t<li>'HTdevice'</li>\n",
       "\t<li>'HTsource'</li>\n",
       "\t<li>'HabitC1'</li>\n",
       "\t<li>'HabitC2'</li>\n",
       "\t<li>'HabitC3'</li>\n",
       "\t<li>'HabitC4'</li>\n",
       "\t<li>'HabitC5'</li>\n",
       "\t<li>'HabitC6'</li>\n",
       "\t<li>'HabitC7'</li>\n",
       "\t<li>'HabitE1'</li>\n",
       "\t<li>'HabitE2'</li>\n",
       "\t<li>'HabitE3'</li>\n",
       "\t<li>'HeatYN'</li>\n",
       "\t<li>'HomeS'</li>\n",
       "\t<li>'HomeSYN'</li>\n",
       "\t<li>'HomeW'</li>\n",
       "\t<li>'HomeWYN'</li>\n",
       "\t<li>'HouseholdS'</li>\n",
       "\t<li>'ID'</li>\n",
       "\t<li>'INT1'</li>\n",
       "\t<li>'INT2'</li>\n",
       "\t<li>'INT3'</li>\n",
       "\t<li>'INT4'</li>\n",
       "\t<li>'IncAutoS'</li>\n",
       "\t<li>'IncAutoW'</li>\n",
       "\t<li>'IncAwayS'</li>\n",
       "\t<li>'IncAwayW'</li>\n",
       "\t<li>'IncDish'</li>\n",
       "\t<li>'IncEmer10S'</li>\n",
       "\t<li>'IncEmer10W'</li>\n",
       "\t<li>'IncEmer30S'</li>\n",
       "\t<li>'IncEmer30W'</li>\n",
       "\t<li>'IncHomeS'</li>\n",
       "\t<li>'IncHomeW'</li>\n",
       "\t<li>'IncWD'</li>\n",
       "\t<li>'Income'</li>\n",
       "\t<li>'Job'</li>\n",
       "\t<li>'Latitude'</li>\n",
       "\t<li>'Longitude'</li>\n",
       "\t<li>'MC1'</li>\n",
       "\t<li>'MC2'</li>\n",
       "\t<li>'MC3'</li>\n",
       "\t<li>'MC4'</li>\n",
       "\t<li>'MC5'</li>\n",
       "\t<li>'MCBill'</li>\n",
       "\t<li>'MCG'</li>\n",
       "\t<li>'NBillS'</li>\n",
       "\t<li>'NBillW'</li>\n",
       "\t<li>'OwnRent'</li>\n",
       "\t<li>'PBC'</li>\n",
       "\t<li>'PBC1'</li>\n",
       "\t<li>'PBC2'</li>\n",
       "\t<li>'PBC3R'</li>\n",
       "\t<li>'PBC4'</li>\n",
       "\t<li>'PBC5'</li>\n",
       "\t<li>'PBillStatus'</li>\n",
       "\t<li>'Political'</li>\n",
       "\t<li>'ReasonNeg'</li>\n",
       "\t<li>'ReasonPos'</li>\n",
       "\t<li>'RewardForm'</li>\n",
       "\t<li>'SN1'</li>\n",
       "\t<li>'SN2'</li>\n",
       "\t<li>'SN3'</li>\n",
       "\t<li>'SN4'</li>\n",
       "\t<li>'Sqft'</li>\n",
       "\t<li>'SqftCate'</li>\n",
       "\t<li>'State'</li>\n",
       "\t<li>'SubN'</li>\n",
       "\t<li>'SubNorm1'</li>\n",
       "\t<li>'SubNorm2'</li>\n",
       "\t<li>'SubNorm3'</li>\n",
       "\t<li>'Trust'</li>\n",
       "\t<li>'Trust1'</li>\n",
       "\t<li>'Trust2'</li>\n",
       "\t<li>'Trust3'</li>\n",
       "\t<li>'Trust4'</li>\n",
       "\t<li>'Utility'</li>\n",
       "\t<li>'X.9to5'</li>\n",
       "\t<li>'cold'</li>\n",
       "\t<li>'hot'</li>\n",
       "\t<li>'valid'</li>\n",
       "\t<li>'valid1'</li>\n",
       "\t<li>'valid2'</li>\n",
       "</ol>\n"
      ],
      "text/latex": [
       "\\begin{enumerate*}\n",
       "\\item 'ACYN'\n",
       "\\item 'Age'\n",
       "\\item 'Atti1'\n",
       "\\item 'Atti2'\n",
       "\\item 'Atti3'\n",
       "\\item 'Atti4'\n",
       "\\item 'Attitude'\n",
       "\\item 'AwayS'\n",
       "\\item 'AwaySNY'\n",
       "\\item 'AwayW'\n",
       "\\item 'AwayWNY'\n",
       "\\item 'BillS'\n",
       "\\item 'BillW'\n",
       "\\item 'City'\n",
       "\\item 'ComfNS1'\n",
       "\\item 'ComfNS2'\n",
       "\\item 'ComfNS3'\n",
       "\\item 'ComfNW1'\n",
       "\\item 'ComfNW2'\n",
       "\\item 'ComfortS'\n",
       "\\item 'ComfortW'\n",
       "\\item 'CompR'\n",
       "\\item 'ControlN1'\n",
       "\\item 'ControlN2R'\n",
       "\\item 'ControlN3'\n",
       "\\item 'ControlN4'\n",
       "\\item 'ConvB1'\n",
       "\\item 'ConvB2'\n",
       "\\item 'ConvB3'\n",
       "\\item 'ConvB4'\n",
       "\\item 'DeviceType'\n",
       "\\item 'Educ'\n",
       "\\item 'EmerRForm'\n",
       "\\item 'EnergyC'\n",
       "\\item 'EnergyC1'\n",
       "\\item 'EnergyC2'\n",
       "\\item 'EnergyC3'\n",
       "\\item 'EnergyC4'\n",
       "\\item 'Ethnic'\n",
       "\\item 'Frugal'\n",
       "\\item 'Frugal1'\n",
       "\\item 'Frugal2'\n",
       "\\item 'Frugal3'\n",
       "\\item 'Gender'\n",
       "\\item 'HTdevice'\n",
       "\\item 'HTsource'\n",
       "\\item 'HabitC1'\n",
       "\\item 'HabitC2'\n",
       "\\item 'HabitC3'\n",
       "\\item 'HabitC4'\n",
       "\\item 'HabitC5'\n",
       "\\item 'HabitC6'\n",
       "\\item 'HabitC7'\n",
       "\\item 'HabitE1'\n",
       "\\item 'HabitE2'\n",
       "\\item 'HabitE3'\n",
       "\\item 'HeatYN'\n",
       "\\item 'HomeS'\n",
       "\\item 'HomeSYN'\n",
       "\\item 'HomeW'\n",
       "\\item 'HomeWYN'\n",
       "\\item 'HouseholdS'\n",
       "\\item 'ID'\n",
       "\\item 'INT1'\n",
       "\\item 'INT2'\n",
       "\\item 'INT3'\n",
       "\\item 'INT4'\n",
       "\\item 'IncAutoS'\n",
       "\\item 'IncAutoW'\n",
       "\\item 'IncAwayS'\n",
       "\\item 'IncAwayW'\n",
       "\\item 'IncDish'\n",
       "\\item 'IncEmer10S'\n",
       "\\item 'IncEmer10W'\n",
       "\\item 'IncEmer30S'\n",
       "\\item 'IncEmer30W'\n",
       "\\item 'IncHomeS'\n",
       "\\item 'IncHomeW'\n",
       "\\item 'IncWD'\n",
       "\\item 'Income'\n",
       "\\item 'Job'\n",
       "\\item 'Latitude'\n",
       "\\item 'Longitude'\n",
       "\\item 'MC1'\n",
       "\\item 'MC2'\n",
       "\\item 'MC3'\n",
       "\\item 'MC4'\n",
       "\\item 'MC5'\n",
       "\\item 'MCBill'\n",
       "\\item 'MCG'\n",
       "\\item 'NBillS'\n",
       "\\item 'NBillW'\n",
       "\\item 'OwnRent'\n",
       "\\item 'PBC'\n",
       "\\item 'PBC1'\n",
       "\\item 'PBC2'\n",
       "\\item 'PBC3R'\n",
       "\\item 'PBC4'\n",
       "\\item 'PBC5'\n",
       "\\item 'PBillStatus'\n",
       "\\item 'Political'\n",
       "\\item 'ReasonNeg'\n",
       "\\item 'ReasonPos'\n",
       "\\item 'RewardForm'\n",
       "\\item 'SN1'\n",
       "\\item 'SN2'\n",
       "\\item 'SN3'\n",
       "\\item 'SN4'\n",
       "\\item 'Sqft'\n",
       "\\item 'SqftCate'\n",
       "\\item 'State'\n",
       "\\item 'SubN'\n",
       "\\item 'SubNorm1'\n",
       "\\item 'SubNorm2'\n",
       "\\item 'SubNorm3'\n",
       "\\item 'Trust'\n",
       "\\item 'Trust1'\n",
       "\\item 'Trust2'\n",
       "\\item 'Trust3'\n",
       "\\item 'Trust4'\n",
       "\\item 'Utility'\n",
       "\\item 'X.9to5'\n",
       "\\item 'cold'\n",
       "\\item 'hot'\n",
       "\\item 'valid'\n",
       "\\item 'valid1'\n",
       "\\item 'valid2'\n",
       "\\end{enumerate*}\n"
      ],
      "text/markdown": [
       "1. 'ACYN'\n",
       "2. 'Age'\n",
       "3. 'Atti1'\n",
       "4. 'Atti2'\n",
       "5. 'Atti3'\n",
       "6. 'Atti4'\n",
       "7. 'Attitude'\n",
       "8. 'AwayS'\n",
       "9. 'AwaySNY'\n",
       "10. 'AwayW'\n",
       "11. 'AwayWNY'\n",
       "12. 'BillS'\n",
       "13. 'BillW'\n",
       "14. 'City'\n",
       "15. 'ComfNS1'\n",
       "16. 'ComfNS2'\n",
       "17. 'ComfNS3'\n",
       "18. 'ComfNW1'\n",
       "19. 'ComfNW2'\n",
       "20. 'ComfortS'\n",
       "21. 'ComfortW'\n",
       "22. 'CompR'\n",
       "23. 'ControlN1'\n",
       "24. 'ControlN2R'\n",
       "25. 'ControlN3'\n",
       "26. 'ControlN4'\n",
       "27. 'ConvB1'\n",
       "28. 'ConvB2'\n",
       "29. 'ConvB3'\n",
       "30. 'ConvB4'\n",
       "31. 'DeviceType'\n",
       "32. 'Educ'\n",
       "33. 'EmerRForm'\n",
       "34. 'EnergyC'\n",
       "35. 'EnergyC1'\n",
       "36. 'EnergyC2'\n",
       "37. 'EnergyC3'\n",
       "38. 'EnergyC4'\n",
       "39. 'Ethnic'\n",
       "40. 'Frugal'\n",
       "41. 'Frugal1'\n",
       "42. 'Frugal2'\n",
       "43. 'Frugal3'\n",
       "44. 'Gender'\n",
       "45. 'HTdevice'\n",
       "46. 'HTsource'\n",
       "47. 'HabitC1'\n",
       "48. 'HabitC2'\n",
       "49. 'HabitC3'\n",
       "50. 'HabitC4'\n",
       "51. 'HabitC5'\n",
       "52. 'HabitC6'\n",
       "53. 'HabitC7'\n",
       "54. 'HabitE1'\n",
       "55. 'HabitE2'\n",
       "56. 'HabitE3'\n",
       "57. 'HeatYN'\n",
       "58. 'HomeS'\n",
       "59. 'HomeSYN'\n",
       "60. 'HomeW'\n",
       "61. 'HomeWYN'\n",
       "62. 'HouseholdS'\n",
       "63. 'ID'\n",
       "64. 'INT1'\n",
       "65. 'INT2'\n",
       "66. 'INT3'\n",
       "67. 'INT4'\n",
       "68. 'IncAutoS'\n",
       "69. 'IncAutoW'\n",
       "70. 'IncAwayS'\n",
       "71. 'IncAwayW'\n",
       "72. 'IncDish'\n",
       "73. 'IncEmer10S'\n",
       "74. 'IncEmer10W'\n",
       "75. 'IncEmer30S'\n",
       "76. 'IncEmer30W'\n",
       "77. 'IncHomeS'\n",
       "78. 'IncHomeW'\n",
       "79. 'IncWD'\n",
       "80. 'Income'\n",
       "81. 'Job'\n",
       "82. 'Latitude'\n",
       "83. 'Longitude'\n",
       "84. 'MC1'\n",
       "85. 'MC2'\n",
       "86. 'MC3'\n",
       "87. 'MC4'\n",
       "88. 'MC5'\n",
       "89. 'MCBill'\n",
       "90. 'MCG'\n",
       "91. 'NBillS'\n",
       "92. 'NBillW'\n",
       "93. 'OwnRent'\n",
       "94. 'PBC'\n",
       "95. 'PBC1'\n",
       "96. 'PBC2'\n",
       "97. 'PBC3R'\n",
       "98. 'PBC4'\n",
       "99. 'PBC5'\n",
       "100. 'PBillStatus'\n",
       "101. 'Political'\n",
       "102. 'ReasonNeg'\n",
       "103. 'ReasonPos'\n",
       "104. 'RewardForm'\n",
       "105. 'SN1'\n",
       "106. 'SN2'\n",
       "107. 'SN3'\n",
       "108. 'SN4'\n",
       "109. 'Sqft'\n",
       "110. 'SqftCate'\n",
       "111. 'State'\n",
       "112. 'SubN'\n",
       "113. 'SubNorm1'\n",
       "114. 'SubNorm2'\n",
       "115. 'SubNorm3'\n",
       "116. 'Trust'\n",
       "117. 'Trust1'\n",
       "118. 'Trust2'\n",
       "119. 'Trust3'\n",
       "120. 'Trust4'\n",
       "121. 'Utility'\n",
       "122. 'X.9to5'\n",
       "123. 'cold'\n",
       "124. 'hot'\n",
       "125. 'valid'\n",
       "126. 'valid1'\n",
       "127. 'valid2'\n",
       "\n",
       "\n"
      ],
      "text/plain": [
       "  [1] \"ACYN\"        \"Age\"         \"Atti1\"       \"Atti2\"       \"Atti3\"      \n",
       "  [6] \"Atti4\"       \"Attitude\"    \"AwayS\"       \"AwaySNY\"     \"AwayW\"      \n",
       " [11] \"AwayWNY\"     \"BillS\"       \"BillW\"       \"City\"        \"ComfNS1\"    \n",
       " [16] \"ComfNS2\"     \"ComfNS3\"     \"ComfNW1\"     \"ComfNW2\"     \"ComfortS\"   \n",
       " [21] \"ComfortW\"    \"CompR\"       \"ControlN1\"   \"ControlN2R\"  \"ControlN3\"  \n",
       " [26] \"ControlN4\"   \"ConvB1\"      \"ConvB2\"      \"ConvB3\"      \"ConvB4\"     \n",
       " [31] \"DeviceType\"  \"Educ\"        \"EmerRForm\"   \"EnergyC\"     \"EnergyC1\"   \n",
       " [36] \"EnergyC2\"    \"EnergyC3\"    \"EnergyC4\"    \"Ethnic\"      \"Frugal\"     \n",
       " [41] \"Frugal1\"     \"Frugal2\"     \"Frugal3\"     \"Gender\"      \"HTdevice\"   \n",
       " [46] \"HTsource\"    \"HabitC1\"     \"HabitC2\"     \"HabitC3\"     \"HabitC4\"    \n",
       " [51] \"HabitC5\"     \"HabitC6\"     \"HabitC7\"     \"HabitE1\"     \"HabitE2\"    \n",
       " [56] \"HabitE3\"     \"HeatYN\"      \"HomeS\"       \"HomeSYN\"     \"HomeW\"      \n",
       " [61] \"HomeWYN\"     \"HouseholdS\"  \"ID\"          \"INT1\"        \"INT2\"       \n",
       " [66] \"INT3\"        \"INT4\"        \"IncAutoS\"    \"IncAutoW\"    \"IncAwayS\"   \n",
       " [71] \"IncAwayW\"    \"IncDish\"     \"IncEmer10S\"  \"IncEmer10W\"  \"IncEmer30S\" \n",
       " [76] \"IncEmer30W\"  \"IncHomeS\"    \"IncHomeW\"    \"IncWD\"       \"Income\"     \n",
       " [81] \"Job\"         \"Latitude\"    \"Longitude\"   \"MC1\"         \"MC2\"        \n",
       " [86] \"MC3\"         \"MC4\"         \"MC5\"         \"MCBill\"      \"MCG\"        \n",
       " [91] \"NBillS\"      \"NBillW\"      \"OwnRent\"     \"PBC\"         \"PBC1\"       \n",
       " [96] \"PBC2\"        \"PBC3R\"       \"PBC4\"        \"PBC5\"        \"PBillStatus\"\n",
       "[101] \"Political\"   \"ReasonNeg\"   \"ReasonPos\"   \"RewardForm\"  \"SN1\"        \n",
       "[106] \"SN2\"         \"SN3\"         \"SN4\"         \"Sqft\"        \"SqftCate\"   \n",
       "[111] \"State\"       \"SubN\"        \"SubNorm1\"    \"SubNorm2\"    \"SubNorm3\"   \n",
       "[116] \"Trust\"       \"Trust1\"      \"Trust2\"      \"Trust3\"      \"Trust4\"     \n",
       "[121] \"Utility\"     \"X.9to5\"      \"cold\"        \"hot\"         \"valid\"      \n",
       "[126] \"valid1\"      \"valid2\"     "
      ]
     },
     "metadata": {},
     "output_type": "display_data"
    },
    {
     "data": {
      "text/plain": [
       "\n",
       "  1   2   3   4   5   6   7   8   9  10  11  12 \n",
       " 99  79  33  33  25  64  86  71  43 112  22 156 "
      ]
     },
     "metadata": {},
     "output_type": "display_data"
    },
    {
     "data": {
      "text/plain": [
       "\n",
       "  1   2   3   4   5   6   7   8 \n",
       "118  68 145 163  85  60  87  98 "
      ]
     },
     "metadata": {},
     "output_type": "display_data"
    }
   ],
   "source": [
    "options(digits=2);\n",
    "# Read in the data\n",
    "survey <- read.csv(\"DR_Survey2_Share_Complete.csv\",header=T);\n",
    "#populate missing values\n",
    "survey$IncHomeS[survey$IncHomeS==99] = NA;\n",
    "\n",
    "data <- survey[,-c(1:7)];\n",
    "\n",
    "#We investigate only use people who use A/C when being at home in summer\n",
    "data1 <- data[data$HomeSYN==1,-which(names(data) %in% c(\"HomeWYN\",\"AwayWNY\",\"HomeSYN\",\"AwaySNY\",\"City\",\"Utility\",\n",
    "    \"ReasonPos\",\"ReasonNeg\",\"NBillS\",\"NBillW\",\"valid1\",\"valid2\",\"valid\",\"Attitude\",\"Trust\",\n",
    "    \"EnergyC\",\"MCG\", \"MCBill\",\"Frugal\",\"ComfortS\",\"ComfortW\",\"SubN\",\"PBC\",\"ACYN\",\"HeatYN\",\n",
    "    \"Longitude\", \"Job\",\"hot\",\"cold\"))];\n",
    "sort(names(survey))\n",
    "table(survey$Job)\n",
    "table(survey$Political)"
   ]
  },
  {
   "cell_type": "code",
   "execution_count": 2,
   "metadata": {
    "collapsed": false
   },
   "outputs": [
    {
     "name": "stdout",
     "output_type": "stream",
     "text": [
      "[1] 662   3\n"
     ]
    },
    {
     "data": {
      "text/plain": [
       "\n",
       "  1   2   3   4   5   6   7   8 \n",
       " 92  55 113 128  70  54  73  76 "
      ]
     },
     "metadata": {},
     "output_type": "display_data"
    }
   ],
   "source": [
    "#Frugal-Mean(Frugal1,Frugal2,Frugal3)\n",
    "tmp <- cbind(Frugal1=data1$Frugal1,Frugal2=data1$Frugal2,Frugal3=data1$Frugal3)\n",
    "print(dim(tmp))\n",
    "data1$Frugal <- rowMeans(tmp)\n",
    "data1 <- data1[,-which(names(data1) %in% c(\"Frugal1\",\"Frugal2\",\"Frugal3\"))]\n",
    "#print(data1)\n",
    "table(data1$Political)"
   ]
  },
  {
   "cell_type": "code",
   "execution_count": 3,
   "metadata": {
    "collapsed": false
   },
   "outputs": [
    {
     "name": "stdout",
     "output_type": "stream",
     "text": [
      "[1] 662   3\n"
     ]
    }
   ],
   "source": [
    "#MC-Mean(MC3,MC4,MC5)\n",
    "tmp <- cbind(MC3=data1$MC3,MC4=data1$MC4,MC5=data1$MC5)\n",
    "print(dim(tmp))\n",
    "data1$MC <- rowMeans(tmp)\n",
    "data1 <- data1[,-which(names(data1) %in% c(\"MC3\",\"MC4\",\"MC5\"))]\n",
    "#print(data1)"
   ]
  },
  {
   "cell_type": "code",
   "execution_count": 4,
   "metadata": {
    "collapsed": false
   },
   "outputs": [
    {
     "name": "stdout",
     "output_type": "stream",
     "text": [
      "[1] 662   3\n"
     ]
    }
   ],
   "source": [
    "#EnergyC-Mean(EnergyC1,EnergyC2,EnergyC4)\n",
    "tmp <- cbind(EnergyC1=data1$EnergyC1,EnergyC2=data1$EnergyC2,EnergyC4=data1$EnergyC4)\n",
    "print(dim(tmp))\n",
    "data1$EnergyC <- rowMeans(tmp)\n",
    "data1 <- data1[,-which(names(data1) %in% c(\"EnergyC1\",\"EnergyC2\",\"EnergyC4\"))]\n",
    "#print(data1)"
   ]
  },
  {
   "cell_type": "code",
   "execution_count": 5,
   "metadata": {
    "collapsed": false
   },
   "outputs": [
    {
     "name": "stdout",
     "output_type": "stream",
     "text": [
      "[1] 662   4\n"
     ]
    }
   ],
   "source": [
    "#Trust-Mean(Trust1,Trust2,Trust3,Trust4)\n",
    "tmp <- cbind(Trust1=data1$Trust1,Trust2=data1$Trust2,Trust3=data1$Trust3,Trust4=data1$Trust4)\n",
    "print(dim(tmp))\n",
    "data1$Trust <- rowMeans(tmp)\n",
    "data1 <- data1[,-which(names(data1) %in% c(\"Trust1\",\"Trust2\",\"Trust3\",\"Trust4\"))]\n",
    "#print(data1)"
   ]
  },
  {
   "cell_type": "code",
   "execution_count": 6,
   "metadata": {
    "collapsed": false
   },
   "outputs": [
    {
     "name": "stdout",
     "output_type": "stream",
     "text": [
      "[1] 662   3\n"
     ]
    }
   ],
   "source": [
    "#ComfNS-Mean(ComfNS1,ComfNS2,ComfNS3)\n",
    "tmp <- cbind(ComfNS1=data1$ComfNS1,ComfNS2=data1$ComfNS2,ComfNS3=data1$ComfNS3)\n",
    "print(dim(tmp))\n",
    "data1$ComfNS <- rowMeans(tmp)\n",
    "data1 <- data1[,-which(names(data1) %in% c(\"ComfNS1\",\"ComfNS2\",\"ComfNS3\"))]\n",
    "#print(data1)"
   ]
  },
  {
   "cell_type": "code",
   "execution_count": 7,
   "metadata": {
    "collapsed": false
   },
   "outputs": [
    {
     "name": "stdout",
     "output_type": "stream",
     "text": [
      "[1] 662   4\n"
     ]
    }
   ],
   "source": [
    "#Attitude-Mean(Atti1,Atti2,Atti3,Atti4)\n",
    "tmp <- cbind(Atti1=data1$Atti1,Atti2=data1$Atti2,Atti3=data1$Atti3,Atti4=data1$Atti4)\n",
    "print(dim(tmp))\n",
    "data1$Atti <- rowMeans(tmp)\n",
    "data1 <- data1[,-which(names(data1) %in% c(\"Atti1\",\"Atti2\",\"Atti3\",\"Atti4\"))]\n",
    "#print(data1)"
   ]
  },
  {
   "cell_type": "code",
   "execution_count": 8,
   "metadata": {
    "collapsed": false
   },
   "outputs": [
    {
     "name": "stdout",
     "output_type": "stream",
     "text": [
      "[1] 662   3\n"
     ]
    }
   ],
   "source": [
    "#SubNorm-Mean(SubNorm1,SubNorm2,SubNorm3)\n",
    "tmp <- cbind(SubNorm1=data1$SubNorm1,SubNorm=data1$SubNorm2,SubNorm3=data1$SubNorm3)\n",
    "print(dim(tmp))\n",
    "data1$SubNorm <- rowMeans(tmp)\n",
    "data1 <- data1[,-which(names(data1) %in% c(\"SubNorm1\",\"SubNorm2\",\"SubNorm3\"))]\n",
    "#print(data1)"
   ]
  },
  {
   "cell_type": "code",
   "execution_count": 9,
   "metadata": {
    "collapsed": false
   },
   "outputs": [
    {
     "name": "stdout",
     "output_type": "stream",
     "text": [
      "[1] 662   4\n"
     ]
    }
   ],
   "source": [
    "#PBC-Mean(PBC1,PBC2,PBC4,PBC5)\n",
    "tmp <- cbind(PBC1=data1$PBC1,PBC2=data1$PBC2,PBC4=data1$PBC4,PBC5=data1$PBC5)\n",
    "print(dim(tmp))\n",
    "data1$PBC <- rowMeans(tmp)\n",
    "data1 <- data1[,-which(names(data1) %in% c(\"PBC1\",\"PBC2\",\"PBC4\",\"PBC5\"))]\n",
    "#print(data1)"
   ]
  },
  {
   "cell_type": "code",
   "execution_count": 10,
   "metadata": {
    "collapsed": false
   },
   "outputs": [
    {
     "name": "stdout",
     "output_type": "stream",
     "text": [
      "[1] 662   3\n"
     ]
    }
   ],
   "source": [
    "#SN-Mean(SN1,SN2,SN4)\n",
    "tmp <- cbind(SN1=data1$SN1,SN=data1$SN2,SN4=data1$SN4)\n",
    "print(dim(tmp))\n",
    "data1$SN <- rowMeans(tmp)\n",
    "data1 <- data1[,-which(names(data1) %in% c(\"SN1\",\"SN2\",\"SN4\"))]\n",
    "#print(data1)"
   ]
  },
  {
   "cell_type": "code",
   "execution_count": 11,
   "metadata": {
    "collapsed": false
   },
   "outputs": [
    {
     "name": "stdout",
     "output_type": "stream",
     "text": [
      "[1] 662   4\n"
     ]
    }
   ],
   "source": [
    "#HabitG-Mean(HabitC1,HabitC2,HabitC3,HabitC4)\n",
    "tmp <- cbind(HabitC1=data1$HabitC1,HabitC2=data1$HabitC2,HabitC3=data1$HabitC3,HabitC4=data1$HabitC4)\n",
    "print(dim(tmp))\n",
    "data1$HabitG <- rowMeans(tmp)\n",
    "data1 <- data1[,-which(names(data1) %in% c(\"HabitC1\",\"HabitC2\",\"HabitC4\",\"HabitC5\"))]\n",
    "#print(data1)"
   ]
  },
  {
   "cell_type": "code",
   "execution_count": 12,
   "metadata": {
    "collapsed": false
   },
   "outputs": [
    {
     "name": "stdout",
     "output_type": "stream",
     "text": [
      "[1] 662   2\n"
     ]
    }
   ],
   "source": [
    "#HabitHC-Mean(HabitC5,HabitC6,HabitC7)\n",
    "tmp <- cbind(HabitC5=data1$HabitC5,HabitC6=data1$HabitC6,HabitC7=data1$HabitC7)\n",
    "print(dim(tmp))\n",
    "data1$HabitC <- rowMeans(tmp)\n",
    "data1 <- data1[,-which(names(data1) %in% c(\"HabitC5\",\"HabitC6\",\"HabitC7\"))]\n",
    "#print(data1)"
   ]
  },
  {
   "cell_type": "code",
   "execution_count": 13,
   "metadata": {
    "collapsed": false
   },
   "outputs": [
    {
     "name": "stdout",
     "output_type": "stream",
     "text": [
      "[1] \"HomeW\" \"28\"   \n",
      "[1] \"AwayW\" \"87\"   \n",
      "[1] \"AwayS\" \"101\"  \n",
      "[1] \"IncHomeS\" \"8\"       \n",
      "[1] \"IncWD\" \"56\"   \n",
      "[1] \"IncDish\" \"183\"    \n",
      "[1] \"Age\" \"4\"  \n",
      "[1] \"Income\" \"3\"     \n",
      "[1] \"Educ\" \"5\"   \n",
      "[1] \"Latitude\" \"21\"      \n"
     ]
    }
   ],
   "source": [
    "#Fields with lots of missing values\n",
    "for (n in names(data1)){\n",
    "    nmis = sum(is.na(data1[,n]))\n",
    "    if(nmis >1)  print (c(n, sum(is.na(data1[,n]))))\n",
    "}"
   ]
  },
  {
   "cell_type": "code",
   "execution_count": 14,
   "metadata": {
    "collapsed": false
   },
   "outputs": [
    {
     "name": "stdout",
     "output_type": "stream",
     "text": [
      "[1] 662  61\n",
      "[1] 627  61\n"
     ]
    }
   ],
   "source": [
    "#lets remover these\n",
    "data2 <- data1[,-which(names(data1) %in% c(\"HomeW\",\"AwayW\",\n",
    "                    \"AwayS\",\"IncWD\",\"IncDish\"))];\n",
    "print(dim(data2))\n",
    "data2 <- na.omit(data2)\n",
    "print(dim(data2))\n",
    "#table(data2$Political)"
   ]
  },
  {
   "cell_type": "code",
   "execution_count": 15,
   "metadata": {
    "collapsed": false
   },
   "outputs": [
    {
     "data": {
      "text/plain": [
       "\n",
       "  1   2   3   4   5   6   7   8 \n",
       " 86  53 108 124  66  51  68  71 "
      ]
     },
     "metadata": {},
     "output_type": "display_data"
    },
    {
     "data": {
      "text/plain": [
       "\n",
       "  1   2   3 \n",
       "185 195 247 "
      ]
     },
     "metadata": {},
     "output_type": "display_data"
    }
   ],
   "source": [
    "#Political (Categorical- recode 5,6,7 as “1”-republican, \n",
    "                        #recode 4,8 as “2”- apolitical, \n",
    "                        #recode 1,2,3 as “3”- democrat)\n",
    "table(data2$Political)\n",
    "data2$Political[data2$Political==1]=3 #democrat\n",
    "data2$Political[data2$Political==2]=3 #democrat\n",
    "data2$Political[data2$Political==3]=3 #democrat\n",
    "data2$Political[data2$Political==4]=2 #apolitical\n",
    "data2$Political[data2$Political==8]=2 #apolitical\n",
    "data2$Political[data2$Political==5]=1 #republican\n",
    "data2$Political[data2$Political==6]=1 #republican\n",
    "data2$Political[data2$Political==7]=1 #republican\n",
    "table(data2$Political)"
   ]
  },
  {
   "cell_type": "code",
   "execution_count": 16,
   "metadata": {
    "collapsed": false
   },
   "outputs": [
    {
     "data": {
      "text/plain": [
       "\n",
       "  1   2   3   4   5   6   7 \n",
       "519  33  26   3  31  13   2 "
      ]
     },
     "metadata": {},
     "output_type": "display_data"
    },
    {
     "data": {
      "text/plain": [
       "\n",
       "  0   1 \n",
       "108 519 "
      ]
     },
     "metadata": {},
     "output_type": "display_data"
    }
   ],
   "source": [
    "#data2$Ethnic\n",
    "#Ethnic (Categorical- keep 1 as “1”- white; group and recode all others as “0”- non white)\n",
    "table(data2$Ethnic)\n",
    "data2$Ethnic[data2$Ethnic==1]=1 #white\n",
    "data2$Ethnic[data2$Ethnic==2]=0 #non-white\n",
    "data2$Ethnic[data2$Ethnic==3]=0\n",
    "data2$Ethnic[data2$Ethnic==4]=0\n",
    "data2$Ethnic[data2$Ethnic==5]=0\n",
    "data2$Ethnic[data2$Ethnic==6]=0\n",
    "data2$Ethnic[data2$Ethnic==7]=0\n",
    "table(data2$Ethnic)"
   ]
  },
  {
   "cell_type": "code",
   "execution_count": 17,
   "metadata": {
    "collapsed": false
   },
   "outputs": [
    {
     "data": {
      "text/plain": [
       "\n",
       "  1   2   3   4   5   6   7   8 \n",
       " 54  42 120 214  56  59  48  34 "
      ]
     },
     "metadata": {},
     "output_type": "display_data"
    },
    {
     "data": {
      "text/plain": [
       "\n",
       "  1   2   3   4 \n",
       " 54 162 377  34 "
      ]
     },
     "metadata": {},
     "output_type": "display_data"
    }
   ],
   "source": [
    "table(data2$IncHomeS)\n",
    "\n",
    "data2$IncHomeS[data2$IncHomeS==1]=1\n",
    "data2$IncHomeS[data2$IncHomeS==2]=2\n",
    "data2$IncHomeS[data2$IncHomeS==3]=2\n",
    "data2$IncHomeS[data2$IncHomeS==4]=3\n",
    "data2$IncHomeS[data2$IncHomeS==5]=3\n",
    "data2$IncHomeS[data2$IncHomeS==6]=3\n",
    "data2$IncHomeS[data2$IncHomeS==7]=3\n",
    "data2$IncHomeS[data2$IncHomeS==8]=4\n",
    "\n",
    "table(data2$IncHomeS)"
   ]
  },
  {
   "cell_type": "code",
   "execution_count": 18,
   "metadata": {
    "collapsed": false
   },
   "outputs": [],
   "source": [
    "#names(data2)\n",
    "#These are only variables we really care about\n",
    "IVS = c(\"Age\",\n",
    "\"Gender\",\n",
    "\"OwnRent\",\n",
    "\"SqftCate\",\n",
    "\"HouseholdS\",\n",
    "\"Political\",\n",
    "\"Ethnic\",\n",
    "\"Income\",\n",
    "\"Educ\",\n",
    "\"Frugal\",\n",
    "\"MC\",\n",
    "\"EnergyC\",\n",
    "\"Trust\",\n",
    "\"ComfNS\",\n",
    "\"Atti\",\n",
    "\"SubNorm\",\n",
    "\"PBC\",\n",
    "\"SN\",\n",
    "\"HabitG\",\n",
    "\"HabitC\",\n",
    "\"Latitude\")"
   ]
  },
  {
   "cell_type": "code",
   "execution_count": 19,
   "metadata": {
    "collapsed": false
   },
   "outputs": [
    {
     "data": {
      "text/html": [
       "<ol class=list-inline>\n",
       "\t<li>'Age'</li>\n",
       "\t<li>'Atti'</li>\n",
       "\t<li>'BillS'</li>\n",
       "\t<li>'BillW'</li>\n",
       "\t<li>'ComfNS'</li>\n",
       "\t<li>'ComfNW1'</li>\n",
       "\t<li>'ComfNW2'</li>\n",
       "\t<li>'ControlN1'</li>\n",
       "\t<li>'ControlN2R'</li>\n",
       "\t<li>'ControlN3'</li>\n",
       "\t<li>'ControlN4'</li>\n",
       "\t<li>'ConvB1'</li>\n",
       "\t<li>'ConvB2'</li>\n",
       "\t<li>'ConvB3'</li>\n",
       "\t<li>'ConvB4'</li>\n",
       "\t<li>'Educ'</li>\n",
       "\t<li>'EmerRForm'</li>\n",
       "\t<li>'EnergyC'</li>\n",
       "\t<li>'EnergyC3'</li>\n",
       "\t<li>'Ethnic'</li>\n",
       "\t<li>'Frugal'</li>\n",
       "\t<li>'Gender'</li>\n",
       "\t<li>'HabitC'</li>\n",
       "\t<li>'HabitC3'</li>\n",
       "\t<li>'HabitE1'</li>\n",
       "\t<li>'HabitE2'</li>\n",
       "\t<li>'HabitE3'</li>\n",
       "\t<li>'HabitG'</li>\n",
       "\t<li>'HomeS'</li>\n",
       "\t<li>'HouseholdS'</li>\n",
       "\t<li>'INT1'</li>\n",
       "\t<li>'INT2'</li>\n",
       "\t<li>'INT3'</li>\n",
       "\t<li>'INT4'</li>\n",
       "\t<li>'IncAutoS'</li>\n",
       "\t<li>'IncAutoW'</li>\n",
       "\t<li>'IncAwayS'</li>\n",
       "\t<li>'IncAwayW'</li>\n",
       "\t<li>'IncEmer10S'</li>\n",
       "\t<li>'IncEmer10W'</li>\n",
       "\t<li>'IncEmer30S'</li>\n",
       "\t<li>'IncEmer30W'</li>\n",
       "\t<li>'IncHomeS'</li>\n",
       "\t<li>'IncHomeW'</li>\n",
       "\t<li>'Income'</li>\n",
       "\t<li>'Latitude'</li>\n",
       "\t<li>'MC'</li>\n",
       "\t<li>'MC1'</li>\n",
       "\t<li>'MC2'</li>\n",
       "\t<li>'OwnRent'</li>\n",
       "\t<li>'PBC'</li>\n",
       "\t<li>'PBC3R'</li>\n",
       "\t<li>'Political'</li>\n",
       "\t<li>'RewardForm'</li>\n",
       "\t<li>'SN'</li>\n",
       "\t<li>'SN3'</li>\n",
       "\t<li>'Sqft'</li>\n",
       "\t<li>'SqftCate'</li>\n",
       "\t<li>'State'</li>\n",
       "\t<li>'SubNorm'</li>\n",
       "\t<li>'Trust'</li>\n",
       "</ol>\n"
      ],
      "text/latex": [
       "\\begin{enumerate*}\n",
       "\\item 'Age'\n",
       "\\item 'Atti'\n",
       "\\item 'BillS'\n",
       "\\item 'BillW'\n",
       "\\item 'ComfNS'\n",
       "\\item 'ComfNW1'\n",
       "\\item 'ComfNW2'\n",
       "\\item 'ControlN1'\n",
       "\\item 'ControlN2R'\n",
       "\\item 'ControlN3'\n",
       "\\item 'ControlN4'\n",
       "\\item 'ConvB1'\n",
       "\\item 'ConvB2'\n",
       "\\item 'ConvB3'\n",
       "\\item 'ConvB4'\n",
       "\\item 'Educ'\n",
       "\\item 'EmerRForm'\n",
       "\\item 'EnergyC'\n",
       "\\item 'EnergyC3'\n",
       "\\item 'Ethnic'\n",
       "\\item 'Frugal'\n",
       "\\item 'Gender'\n",
       "\\item 'HabitC'\n",
       "\\item 'HabitC3'\n",
       "\\item 'HabitE1'\n",
       "\\item 'HabitE2'\n",
       "\\item 'HabitE3'\n",
       "\\item 'HabitG'\n",
       "\\item 'HomeS'\n",
       "\\item 'HouseholdS'\n",
       "\\item 'INT1'\n",
       "\\item 'INT2'\n",
       "\\item 'INT3'\n",
       "\\item 'INT4'\n",
       "\\item 'IncAutoS'\n",
       "\\item 'IncAutoW'\n",
       "\\item 'IncAwayS'\n",
       "\\item 'IncAwayW'\n",
       "\\item 'IncEmer10S'\n",
       "\\item 'IncEmer10W'\n",
       "\\item 'IncEmer30S'\n",
       "\\item 'IncEmer30W'\n",
       "\\item 'IncHomeS'\n",
       "\\item 'IncHomeW'\n",
       "\\item 'Income'\n",
       "\\item 'Latitude'\n",
       "\\item 'MC'\n",
       "\\item 'MC1'\n",
       "\\item 'MC2'\n",
       "\\item 'OwnRent'\n",
       "\\item 'PBC'\n",
       "\\item 'PBC3R'\n",
       "\\item 'Political'\n",
       "\\item 'RewardForm'\n",
       "\\item 'SN'\n",
       "\\item 'SN3'\n",
       "\\item 'Sqft'\n",
       "\\item 'SqftCate'\n",
       "\\item 'State'\n",
       "\\item 'SubNorm'\n",
       "\\item 'Trust'\n",
       "\\end{enumerate*}\n"
      ],
      "text/markdown": [
       "1. 'Age'\n",
       "2. 'Atti'\n",
       "3. 'BillS'\n",
       "4. 'BillW'\n",
       "5. 'ComfNS'\n",
       "6. 'ComfNW1'\n",
       "7. 'ComfNW2'\n",
       "8. 'ControlN1'\n",
       "9. 'ControlN2R'\n",
       "10. 'ControlN3'\n",
       "11. 'ControlN4'\n",
       "12. 'ConvB1'\n",
       "13. 'ConvB2'\n",
       "14. 'ConvB3'\n",
       "15. 'ConvB4'\n",
       "16. 'Educ'\n",
       "17. 'EmerRForm'\n",
       "18. 'EnergyC'\n",
       "19. 'EnergyC3'\n",
       "20. 'Ethnic'\n",
       "21. 'Frugal'\n",
       "22. 'Gender'\n",
       "23. 'HabitC'\n",
       "24. 'HabitC3'\n",
       "25. 'HabitE1'\n",
       "26. 'HabitE2'\n",
       "27. 'HabitE3'\n",
       "28. 'HabitG'\n",
       "29. 'HomeS'\n",
       "30. 'HouseholdS'\n",
       "31. 'INT1'\n",
       "32. 'INT2'\n",
       "33. 'INT3'\n",
       "34. 'INT4'\n",
       "35. 'IncAutoS'\n",
       "36. 'IncAutoW'\n",
       "37. 'IncAwayS'\n",
       "38. 'IncAwayW'\n",
       "39. 'IncEmer10S'\n",
       "40. 'IncEmer10W'\n",
       "41. 'IncEmer30S'\n",
       "42. 'IncEmer30W'\n",
       "43. 'IncHomeS'\n",
       "44. 'IncHomeW'\n",
       "45. 'Income'\n",
       "46. 'Latitude'\n",
       "47. 'MC'\n",
       "48. 'MC1'\n",
       "49. 'MC2'\n",
       "50. 'OwnRent'\n",
       "51. 'PBC'\n",
       "52. 'PBC3R'\n",
       "53. 'Political'\n",
       "54. 'RewardForm'\n",
       "55. 'SN'\n",
       "56. 'SN3'\n",
       "57. 'Sqft'\n",
       "58. 'SqftCate'\n",
       "59. 'State'\n",
       "60. 'SubNorm'\n",
       "61. 'Trust'\n",
       "\n",
       "\n"
      ],
      "text/plain": [
       " [1] \"Age\"        \"Atti\"       \"BillS\"      \"BillW\"      \"ComfNS\"    \n",
       " [6] \"ComfNW1\"    \"ComfNW2\"    \"ControlN1\"  \"ControlN2R\" \"ControlN3\" \n",
       "[11] \"ControlN4\"  \"ConvB1\"     \"ConvB2\"     \"ConvB3\"     \"ConvB4\"    \n",
       "[16] \"Educ\"       \"EmerRForm\"  \"EnergyC\"    \"EnergyC3\"   \"Ethnic\"    \n",
       "[21] \"Frugal\"     \"Gender\"     \"HabitC\"     \"HabitC3\"    \"HabitE1\"   \n",
       "[26] \"HabitE2\"    \"HabitE3\"    \"HabitG\"     \"HomeS\"      \"HouseholdS\"\n",
       "[31] \"INT1\"       \"INT2\"       \"INT3\"       \"INT4\"       \"IncAutoS\"  \n",
       "[36] \"IncAutoW\"   \"IncAwayS\"   \"IncAwayW\"   \"IncEmer10S\" \"IncEmer10W\"\n",
       "[41] \"IncEmer30S\" \"IncEmer30W\" \"IncHomeS\"   \"IncHomeW\"   \"Income\"    \n",
       "[46] \"Latitude\"   \"MC\"         \"MC1\"        \"MC2\"        \"OwnRent\"   \n",
       "[51] \"PBC\"        \"PBC3R\"      \"Political\"  \"RewardForm\" \"SN\"        \n",
       "[56] \"SN3\"        \"Sqft\"       \"SqftCate\"   \"State\"      \"SubNorm\"   \n",
       "[61] \"Trust\"     "
      ]
     },
     "metadata": {},
     "output_type": "display_data"
    },
    {
     "data": {
      "text/html": [
       "<ol class=list-inline>\n",
       "\t<li>'Age'</li>\n",
       "\t<li>'Atti'</li>\n",
       "\t<li>'ComfNS'</li>\n",
       "\t<li>'Educ'</li>\n",
       "\t<li>'EnergyC'</li>\n",
       "\t<li>'Ethnic'</li>\n",
       "\t<li>'Frugal'</li>\n",
       "\t<li>'Gender'</li>\n",
       "\t<li>'HabitC'</li>\n",
       "\t<li>'HabitG'</li>\n",
       "\t<li>'HouseholdS'</li>\n",
       "\t<li>'Income'</li>\n",
       "\t<li>'Latitude'</li>\n",
       "\t<li>'MC'</li>\n",
       "\t<li>'OwnRent'</li>\n",
       "\t<li>'PBC'</li>\n",
       "\t<li>'Political'</li>\n",
       "\t<li>'SN'</li>\n",
       "\t<li>'SqftCate'</li>\n",
       "\t<li>'SubNorm'</li>\n",
       "\t<li>'Trust'</li>\n",
       "</ol>\n"
      ],
      "text/latex": [
       "\\begin{enumerate*}\n",
       "\\item 'Age'\n",
       "\\item 'Atti'\n",
       "\\item 'ComfNS'\n",
       "\\item 'Educ'\n",
       "\\item 'EnergyC'\n",
       "\\item 'Ethnic'\n",
       "\\item 'Frugal'\n",
       "\\item 'Gender'\n",
       "\\item 'HabitC'\n",
       "\\item 'HabitG'\n",
       "\\item 'HouseholdS'\n",
       "\\item 'Income'\n",
       "\\item 'Latitude'\n",
       "\\item 'MC'\n",
       "\\item 'OwnRent'\n",
       "\\item 'PBC'\n",
       "\\item 'Political'\n",
       "\\item 'SN'\n",
       "\\item 'SqftCate'\n",
       "\\item 'SubNorm'\n",
       "\\item 'Trust'\n",
       "\\end{enumerate*}\n"
      ],
      "text/markdown": [
       "1. 'Age'\n",
       "2. 'Atti'\n",
       "3. 'ComfNS'\n",
       "4. 'Educ'\n",
       "5. 'EnergyC'\n",
       "6. 'Ethnic'\n",
       "7. 'Frugal'\n",
       "8. 'Gender'\n",
       "9. 'HabitC'\n",
       "10. 'HabitG'\n",
       "11. 'HouseholdS'\n",
       "12. 'Income'\n",
       "13. 'Latitude'\n",
       "14. 'MC'\n",
       "15. 'OwnRent'\n",
       "16. 'PBC'\n",
       "17. 'Political'\n",
       "18. 'SN'\n",
       "19. 'SqftCate'\n",
       "20. 'SubNorm'\n",
       "21. 'Trust'\n",
       "\n",
       "\n"
      ],
      "text/plain": [
       " [1] \"Age\"        \"Atti\"       \"ComfNS\"     \"Educ\"       \"EnergyC\"   \n",
       " [6] \"Ethnic\"     \"Frugal\"     \"Gender\"     \"HabitC\"     \"HabitG\"    \n",
       "[11] \"HouseholdS\" \"Income\"     \"Latitude\"   \"MC\"         \"OwnRent\"   \n",
       "[16] \"PBC\"        \"Political\"  \"SN\"         \"SqftCate\"   \"SubNorm\"   \n",
       "[21] \"Trust\"     "
      ]
     },
     "metadata": {},
     "output_type": "display_data"
    }
   ],
   "source": [
    "sort(names(data2))\n",
    "paste(sort(IVS))"
   ]
  },
  {
   "cell_type": "code",
   "execution_count": 20,
   "metadata": {
    "collapsed": false
   },
   "outputs": [],
   "source": [
    "data1 <- data2[, which(names(data2) %in% c(\"IncHomeS\",IVS))];"
   ]
  },
  {
   "cell_type": "code",
   "execution_count": 21,
   "metadata": {
    "collapsed": true
   },
   "outputs": [],
   "source": [
    "#Check to see if there are anymore missing values\n",
    "for (n in names(data1)){\n",
    "    nmis = sum(is.na(data1[,n]))\n",
    "    if(nmis >1)  print (c(n, sum(is.na(data1[,n]))))\n",
    "}"
   ]
  },
  {
   "cell_type": "code",
   "execution_count": 22,
   "metadata": {
    "collapsed": false
   },
   "outputs": [
    {
     "data": {
      "text/html": [
       "<ol class=list-inline>\n",
       "\t<li>'IncHomeS'</li>\n",
       "\t<li>'Age'</li>\n",
       "\t<li>'Gender'</li>\n",
       "\t<li>'OwnRent'</li>\n",
       "\t<li>'SqftCate'</li>\n",
       "\t<li>'HouseholdS'</li>\n",
       "\t<li>'Political'</li>\n",
       "\t<li>'Ethnic'</li>\n",
       "\t<li>'Income'</li>\n",
       "\t<li>'Educ'</li>\n",
       "\t<li>'Latitude'</li>\n",
       "\t<li>'Frugal'</li>\n",
       "\t<li>'MC'</li>\n",
       "\t<li>'EnergyC'</li>\n",
       "\t<li>'Trust'</li>\n",
       "\t<li>'ComfNS'</li>\n",
       "\t<li>'Atti'</li>\n",
       "\t<li>'SubNorm'</li>\n",
       "\t<li>'PBC'</li>\n",
       "\t<li>'SN'</li>\n",
       "\t<li>'HabitG'</li>\n",
       "\t<li>'HabitC'</li>\n",
       "</ol>\n"
      ],
      "text/latex": [
       "\\begin{enumerate*}\n",
       "\\item 'IncHomeS'\n",
       "\\item 'Age'\n",
       "\\item 'Gender'\n",
       "\\item 'OwnRent'\n",
       "\\item 'SqftCate'\n",
       "\\item 'HouseholdS'\n",
       "\\item 'Political'\n",
       "\\item 'Ethnic'\n",
       "\\item 'Income'\n",
       "\\item 'Educ'\n",
       "\\item 'Latitude'\n",
       "\\item 'Frugal'\n",
       "\\item 'MC'\n",
       "\\item 'EnergyC'\n",
       "\\item 'Trust'\n",
       "\\item 'ComfNS'\n",
       "\\item 'Atti'\n",
       "\\item 'SubNorm'\n",
       "\\item 'PBC'\n",
       "\\item 'SN'\n",
       "\\item 'HabitG'\n",
       "\\item 'HabitC'\n",
       "\\end{enumerate*}\n"
      ],
      "text/markdown": [
       "1. 'IncHomeS'\n",
       "2. 'Age'\n",
       "3. 'Gender'\n",
       "4. 'OwnRent'\n",
       "5. 'SqftCate'\n",
       "6. 'HouseholdS'\n",
       "7. 'Political'\n",
       "8. 'Ethnic'\n",
       "9. 'Income'\n",
       "10. 'Educ'\n",
       "11. 'Latitude'\n",
       "12. 'Frugal'\n",
       "13. 'MC'\n",
       "14. 'EnergyC'\n",
       "15. 'Trust'\n",
       "16. 'ComfNS'\n",
       "17. 'Atti'\n",
       "18. 'SubNorm'\n",
       "19. 'PBC'\n",
       "20. 'SN'\n",
       "21. 'HabitG'\n",
       "22. 'HabitC'\n",
       "\n",
       "\n"
      ],
      "text/plain": [
       " [1] \"IncHomeS\"   \"Age\"        \"Gender\"     \"OwnRent\"    \"SqftCate\"  \n",
       " [6] \"HouseholdS\" \"Political\"  \"Ethnic\"     \"Income\"     \"Educ\"      \n",
       "[11] \"Latitude\"   \"Frugal\"     \"MC\"         \"EnergyC\"    \"Trust\"     \n",
       "[16] \"ComfNS\"     \"Atti\"       \"SubNorm\"    \"PBC\"        \"SN\"        \n",
       "[21] \"HabitG\"     \"HabitC\"    "
      ]
     },
     "metadata": {},
     "output_type": "display_data"
    }
   ],
   "source": [
    "names(data1)\n",
    "\n",
    "#Fields with lots of missing values\n",
    "for (n in names(data1)){\n",
    "    nmis = sum(is.na(data1[,n]))\n",
    "    if(nmis >1)  print (c(n, sum(is.na(data1[,n]))))\n",
    "}\n",
    "    \n",
    "    \n",
    "# What about high correlations?\n",
    "hiCor <- function(x, level){\n",
    "  res <- cor(x,method=\"spearman\");\n",
    "  res1 <- res; res1[res<0] <- -res[res < 0];\n",
    "  for (i in 1:dim(x)[2]){\n",
    "    res1[i,i] <- 0;\n",
    "  }\n",
    "  sel <- apply(res1,1,max,na.rm=T) > level;\n",
    "  res[sel,sel];\n",
    "}\n",
    "#hiCor(data1,.75)"
   ]
  },
  {
   "cell_type": "code",
   "execution_count": 23,
   "metadata": {
    "collapsed": false
   },
   "outputs": [
    {
     "name": "stderr",
     "output_type": "stream",
     "text": [
      "Warning message in cbind(f_parts$left, ellip_h, f_parts$right, deparse.level = 0L):\n",
      "\"number of rows of result is not a multiple of vector length (arg 2)\"Warning message in cbind(f_parts$left, ellip_h, f_parts$right, deparse.level = 0L):\n",
      "\"number of rows of result is not a multiple of vector length (arg 2)\"Warning message in cbind(f_parts$left, ellip_h, f_parts$right, deparse.level = 0L):\n",
      "\"number of rows of result is not a multiple of vector length (arg 2)\""
     ]
    },
    {
     "data": {
      "text/html": [
       "<table>\n",
       "<thead><tr><th scope=col>IncHomeS</th><th scope=col>Age</th><th scope=col>Gender</th><th scope=col>OwnRent</th><th scope=col>SqftCate</th><th scope=col>HouseholdS</th><th scope=col>Political</th><th scope=col>Ethnic</th><th scope=col>Income</th><th scope=col>Educ</th><th scope=col>...</th><th scope=col>MC</th><th scope=col>EnergyC</th><th scope=col>Trust</th><th scope=col>ComfNS</th><th scope=col>Atti</th><th scope=col>SubNorm</th><th scope=col>PBC</th><th scope=col>SN</th><th scope=col>HabitG</th><th scope=col>HabitC</th></tr></thead>\n",
       "<tbody>\n",
       "</tbody>\n",
       "</table>\n"
      ],
      "text/latex": [
       "\\begin{tabular}{r|llllllllllllllllllllll}\n",
       " IncHomeS & Age & Gender & OwnRent & SqftCate & HouseholdS & Political & Ethnic & Income & Educ & ... & MC & EnergyC & Trust & ComfNS & Atti & SubNorm & PBC & SN & HabitG & HabitC\\\\\n",
       "\\hline\n",
       "\\end{tabular}\n"
      ],
      "text/plain": [
       "     IncHomeS Age Gender OwnRent SqftCate HouseholdS Political Ethnic Income\n",
       "     Educ ... MC EnergyC Trust ComfNS Atti SubNorm PBC SN HabitG HabitC"
      ]
     },
     "metadata": {},
     "output_type": "display_data"
    }
   ],
   "source": [
    "data1 [is.na(data1$IncHomeS), ]"
   ]
  },
  {
   "cell_type": "code",
   "execution_count": 24,
   "metadata": {
    "collapsed": false
   },
   "outputs": [
    {
     "data": {
      "text/plain": [
       "   Min. 1st Qu.  Median    Mean 3rd Qu.    Max. \n",
       "    1.0     2.0     3.0     2.6     3.0     4.0 "
      ]
     },
     "metadata": {},
     "output_type": "display_data"
    },
    {
     "data": {
      "text/plain": [
       "\n",
       "  1   2   3   4 \n",
       " 54 162 377  34 "
      ]
     },
     "metadata": {},
     "output_type": "display_data"
    },
    {
     "data": {
      "text/plain": [
       "\n",
       "  1   2   3   4   5 \n",
       " 66 221 144 115  81 "
      ]
     },
     "metadata": {},
     "output_type": "display_data"
    }
   ],
   "source": [
    "summary(data1$IncHomeS)\n",
    "table(data1$IncHomeS)\n",
    "table(data1$HouseholdS)"
   ]
  },
  {
   "cell_type": "code",
   "execution_count": 25,
   "metadata": {
    "collapsed": false
   },
   "outputs": [
    {
     "data": {
      "text/html": [
       "<ol class=list-inline>\n",
       "\t<li>'IncHomeS'</li>\n",
       "\t<li>'Age'</li>\n",
       "\t<li>'Gender'</li>\n",
       "\t<li>'OwnRent'</li>\n",
       "\t<li>'SqftCate'</li>\n",
       "\t<li>'HouseholdS'</li>\n",
       "\t<li>'Political'</li>\n",
       "\t<li>'Ethnic'</li>\n",
       "\t<li>'Income'</li>\n",
       "\t<li>'Educ'</li>\n",
       "\t<li>'Latitude'</li>\n",
       "\t<li>'Frugal'</li>\n",
       "\t<li>'MC'</li>\n",
       "\t<li>'EnergyC'</li>\n",
       "\t<li>'Trust'</li>\n",
       "\t<li>'ComfNS'</li>\n",
       "\t<li>'Atti'</li>\n",
       "\t<li>'SubNorm'</li>\n",
       "\t<li>'PBC'</li>\n",
       "\t<li>'SN'</li>\n",
       "\t<li>'HabitG'</li>\n",
       "\t<li>'HabitC'</li>\n",
       "</ol>\n"
      ],
      "text/latex": [
       "\\begin{enumerate*}\n",
       "\\item 'IncHomeS'\n",
       "\\item 'Age'\n",
       "\\item 'Gender'\n",
       "\\item 'OwnRent'\n",
       "\\item 'SqftCate'\n",
       "\\item 'HouseholdS'\n",
       "\\item 'Political'\n",
       "\\item 'Ethnic'\n",
       "\\item 'Income'\n",
       "\\item 'Educ'\n",
       "\\item 'Latitude'\n",
       "\\item 'Frugal'\n",
       "\\item 'MC'\n",
       "\\item 'EnergyC'\n",
       "\\item 'Trust'\n",
       "\\item 'ComfNS'\n",
       "\\item 'Atti'\n",
       "\\item 'SubNorm'\n",
       "\\item 'PBC'\n",
       "\\item 'SN'\n",
       "\\item 'HabitG'\n",
       "\\item 'HabitC'\n",
       "\\end{enumerate*}\n"
      ],
      "text/markdown": [
       "1. 'IncHomeS'\n",
       "2. 'Age'\n",
       "3. 'Gender'\n",
       "4. 'OwnRent'\n",
       "5. 'SqftCate'\n",
       "6. 'HouseholdS'\n",
       "7. 'Political'\n",
       "8. 'Ethnic'\n",
       "9. 'Income'\n",
       "10. 'Educ'\n",
       "11. 'Latitude'\n",
       "12. 'Frugal'\n",
       "13. 'MC'\n",
       "14. 'EnergyC'\n",
       "15. 'Trust'\n",
       "16. 'ComfNS'\n",
       "17. 'Atti'\n",
       "18. 'SubNorm'\n",
       "19. 'PBC'\n",
       "20. 'SN'\n",
       "21. 'HabitG'\n",
       "22. 'HabitC'\n",
       "\n",
       "\n"
      ],
      "text/plain": [
       " [1] \"IncHomeS\"   \"Age\"        \"Gender\"     \"OwnRent\"    \"SqftCate\"  \n",
       " [6] \"HouseholdS\" \"Political\"  \"Ethnic\"     \"Income\"     \"Educ\"      \n",
       "[11] \"Latitude\"   \"Frugal\"     \"MC\"         \"EnergyC\"    \"Trust\"     \n",
       "[16] \"ComfNS\"     \"Atti\"       \"SubNorm\"    \"PBC\"        \"SN\"        \n",
       "[21] \"HabitG\"     \"HabitC\"    "
      ]
     },
     "metadata": {},
     "output_type": "display_data"
    }
   ],
   "source": [
    "data2 <- data1;\n",
    "data2 <- na.omit(data2)\n",
    "names(data2)"
   ]
  },
  {
   "cell_type": "code",
   "execution_count": 26,
   "metadata": {
    "collapsed": true
   },
   "outputs": [],
   "source": [
    "#Check to see if there are anymore missing values\n",
    "for (n in names(data2)){\n",
    "    nmis = sum(is.na(data2[,n]))\n",
    "    if(nmis >1)  print (c(n, sum(is.na(data2[,n]))))\n",
    "}"
   ]
  },
  {
   "cell_type": "code",
   "execution_count": 27,
   "metadata": {
    "collapsed": false
   },
   "outputs": [
    {
     "data": {
      "text/html": [
       "<dl class=dl-horizontal>\n",
       "\t<dt>IncHomeS</dt>\n",
       "\t\t<dd>0.718503340959832</dd>\n",
       "\t<dt>Age</dt>\n",
       "\t\t<dd>11.1497644276056</dd>\n",
       "\t<dt>Gender</dt>\n",
       "\t\t<dd>0.500031845957315</dd>\n",
       "\t<dt>OwnRent</dt>\n",
       "\t\t<dd>0.518531641326741</dd>\n",
       "\t<dt>SqftCate</dt>\n",
       "\t\t<dd>1.11615297949853</dd>\n",
       "\t<dt>HouseholdS</dt>\n",
       "\t\t<dd>1.20885172377611</dd>\n",
       "\t<dt>Political</dt>\n",
       "\t\t<dd>0.824804380429514</dd>\n",
       "\t<dt>Ethnic</dt>\n",
       "\t\t<dd>0.377898022796562</dd>\n",
       "\t<dt>Income</dt>\n",
       "\t\t<dd>1.9746793346279</dd>\n",
       "\t<dt>Educ</dt>\n",
       "\t\t<dd>1.10603388918268</dd>\n",
       "\t<dt>Latitude</dt>\n",
       "\t\t<dd>5.05966810139473</dd>\n",
       "\t<dt>Frugal</dt>\n",
       "\t\t<dd>0.933079481481842</dd>\n",
       "\t<dt>MC</dt>\n",
       "\t\t<dd>1.07369437153549</dd>\n",
       "\t<dt>EnergyC</dt>\n",
       "\t\t<dd>1.3881201875111</dd>\n",
       "\t<dt>Trust</dt>\n",
       "\t\t<dd>1.40024811596681</dd>\n",
       "\t<dt>ComfNS</dt>\n",
       "\t\t<dd>1.44748939845945</dd>\n",
       "\t<dt>Atti</dt>\n",
       "\t\t<dd>1.10063916252385</dd>\n",
       "\t<dt>SubNorm</dt>\n",
       "\t\t<dd>1.34045398582847</dd>\n",
       "\t<dt>PBC</dt>\n",
       "\t\t<dd>0.944755338361364</dd>\n",
       "\t<dt>SN</dt>\n",
       "\t\t<dd>1.41442792900062</dd>\n",
       "\t<dt>HabitG</dt>\n",
       "\t\t<dd>1.16893701199815</dd>\n",
       "\t<dt>HabitC</dt>\n",
       "\t\t<dd>1.60372921782003</dd>\n",
       "</dl>\n"
      ],
      "text/latex": [
       "\\begin{description*}\n",
       "\\item[IncHomeS] 0.718503340959832\n",
       "\\item[Age] 11.1497644276056\n",
       "\\item[Gender] 0.500031845957315\n",
       "\\item[OwnRent] 0.518531641326741\n",
       "\\item[SqftCate] 1.11615297949853\n",
       "\\item[HouseholdS] 1.20885172377611\n",
       "\\item[Political] 0.824804380429514\n",
       "\\item[Ethnic] 0.377898022796562\n",
       "\\item[Income] 1.9746793346279\n",
       "\\item[Educ] 1.10603388918268\n",
       "\\item[Latitude] 5.05966810139473\n",
       "\\item[Frugal] 0.933079481481842\n",
       "\\item[MC] 1.07369437153549\n",
       "\\item[EnergyC] 1.3881201875111\n",
       "\\item[Trust] 1.40024811596681\n",
       "\\item[ComfNS] 1.44748939845945\n",
       "\\item[Atti] 1.10063916252385\n",
       "\\item[SubNorm] 1.34045398582847\n",
       "\\item[PBC] 0.944755338361364\n",
       "\\item[SN] 1.41442792900062\n",
       "\\item[HabitG] 1.16893701199815\n",
       "\\item[HabitC] 1.60372921782003\n",
       "\\end{description*}\n"
      ],
      "text/markdown": [
       "IncHomeS\n",
       ":   0.718503340959832Age\n",
       ":   11.1497644276056Gender\n",
       ":   0.500031845957315OwnRent\n",
       ":   0.518531641326741SqftCate\n",
       ":   1.11615297949853HouseholdS\n",
       ":   1.20885172377611Political\n",
       ":   0.824804380429514Ethnic\n",
       ":   0.377898022796562Income\n",
       ":   1.9746793346279Educ\n",
       ":   1.10603388918268Latitude\n",
       ":   5.05966810139473Frugal\n",
       ":   0.933079481481842MC\n",
       ":   1.07369437153549EnergyC\n",
       ":   1.3881201875111Trust\n",
       ":   1.40024811596681ComfNS\n",
       ":   1.44748939845945Atti\n",
       ":   1.10063916252385SubNorm\n",
       ":   1.34045398582847PBC\n",
       ":   0.944755338361364SN\n",
       ":   1.41442792900062HabitG\n",
       ":   1.16893701199815HabitC\n",
       ":   1.60372921782003\n",
       "\n"
      ],
      "text/plain": [
       "  IncHomeS        Age     Gender    OwnRent   SqftCate HouseholdS  Political \n",
       "      0.72      11.15       0.50       0.52       1.12       1.21       0.82 \n",
       "    Ethnic     Income       Educ   Latitude     Frugal         MC    EnergyC \n",
       "      0.38       1.97       1.11       5.06       0.93       1.07       1.39 \n",
       "     Trust     ComfNS       Atti    SubNorm        PBC         SN     HabitG \n",
       "      1.40       1.45       1.10       1.34       0.94       1.41       1.17 \n",
       "    HabitC \n",
       "      1.60 "
      ]
     },
     "metadata": {},
     "output_type": "display_data"
    }
   ],
   "source": [
    "#convert all data to numeric values\n",
    "\n",
    "sapply(data2,sd)"
   ]
  },
  {
   "cell_type": "code",
   "execution_count": 28,
   "metadata": {
    "collapsed": false
   },
   "outputs": [
    {
     "data": {
      "text/html": [],
      "text/latex": [],
      "text/markdown": [],
      "text/plain": [
       "<0 x 0 matrix>"
      ]
     },
     "metadata": {},
     "output_type": "display_data"
    }
   ],
   "source": [
    "hiCor(data2,.75)"
   ]
  },
  {
   "cell_type": "code",
   "execution_count": 29,
   "metadata": {
    "collapsed": false
   },
   "outputs": [
    {
     "name": "stdout",
     "output_type": "stream",
     "text": [
      "[1] 0.15\n",
      "    Frugal   MC EnergyC Atti SubNorm  PBC  SN HabitG HabitC\n",
      "PC1   0.37 0.33    0.37 0.41    0.32 0.23 0.2   0.28   0.24\n",
      "[1] 0.25\n",
      "     Age OwnRent SqftCate HouseholdS Income\n",
      "PC2 0.34    0.49      0.5       0.28   0.42\n",
      "[1] 0.32\n",
      "    IncHomeS Gender HouseholdS Educ Latitude ComfNS HabitC\n",
      "PC3     -0.4  -0.28      -0.28 0.41     0.24  -0.51   0.28\n",
      "[1] 0.38\n",
      "    Gender HouseholdS Political Ethnic   MC EnergyC  PBC HabitG\n",
      "PC4  -0.23      -0.25     -0.46   0.28 0.22   -0.31 0.39   0.31\n",
      "[1] 0.44\n",
      "    IncHomeS   Age HouseholdS Political  Educ Latitude ComfNS\n",
      "PC5    -0.35 -0.32       0.47     -0.26 -0.43     0.28  -0.25\n",
      "[1] 0.5\n",
      "    Ethnic Latitude Frugal   SN HabitC\n",
      "PC6   -0.5    -0.36  -0.28 0.36   0.35\n",
      "[1] 0.55\n",
      "    SqftCate Ethnic  Educ Latitude Trust ComfNS SubNorm    SN\n",
      "PC7      0.2  -0.31 -0.23    -0.37 -0.46  -0.24    -0.3 -0.37\n",
      "[1] 0.6\n",
      "      Age Gender Income Frugal   MC Trust HabitC\n",
      "PC8 -0.46  -0.53   0.32   0.25 0.26 -0.21  -0.24\n",
      "[1] 0.64\n",
      "    IncHomeS Political Trust SubNorm  PBC HabitG HabitC\n",
      "PC9    -0.37      0.27  0.54   -0.31 0.34  -0.21  -0.23\n",
      "[1] 0.68\n",
      "     IncHomeS Gender Ethnic Latitude Trust SubNorm HabitG\n",
      "PC10     0.34   -0.3  -0.38     0.48  0.26   -0.26   0.33\n",
      "[1] 0.71\n",
      "     Gender Political Ethnic Educ Trust SubNorm    SN\n",
      "PC11   0.45     -0.36  -0.35 0.41   0.3   -0.27 -0.23\n",
      "[1] 0.75\n",
      "     Ethnic Latitude Trust  PBC HabitG HabitC\n",
      "PC12  -0.24     0.49 -0.31 0.56  -0.22   0.26\n",
      "[1] 0.78\n",
      "     IncHomeS  Age HouseholdS Political Ethnic Frugal   PBC   SN HabitG\n",
      "PC13    -0.21 0.32      -0.24     -0.47  -0.27   0.21 -0.28 0.38  -0.29\n",
      "[1] 0.81\n",
      "     IncHomeS OwnRent Income   MC ComfNS HabitG\n",
      "PC14     0.41    0.24  -0.39 0.25  -0.48   -0.5\n",
      "[1] 0.84\n",
      "     IncHomeS Political Educ Frugal   MC EnergyC   SN HabitC\n",
      "PC15    -0.28      0.21 0.21  -0.26 0.51   -0.27 0.32  -0.43\n",
      "[1] 0.87\n",
      "     Ethnic Frugal SubNorm   PBC   SN\n",
      "PC16   0.27    0.3   -0.62 -0.24 0.43\n",
      "[1] 0.89\n",
      "     SqftCate Political Income   MC ComfNS   PBC HabitG HabitC\n",
      "PC17     0.24      0.23  -0.23 0.31   0.46 -0.29  -0.31   0.43\n",
      "[1] 0.92\n",
      "     Age OwnRent HouseholdS EnergyC\n",
      "PC18 0.5   -0.63       0.28   -0.24\n",
      "[1] 0.94\n",
      "     Gender SqftCate HouseholdS Income Educ Atti SubNorm\n",
      "PC19  -0.24     0.27       0.29   -0.5 0.46 0.22   -0.34\n",
      "[1] 0.96\n",
      "     OwnRent SqftCate HouseholdS Frugal    MC Atti\n",
      "PC20    0.29     -0.4        0.4   0.48 -0.25 -0.3\n",
      "[1] 0.98\n",
      "     OwnRent SqftCate HouseholdS Frugal  Atti HabitC\n",
      "PC21   -0.22     0.56      -0.26   0.44 -0.43  -0.24\n"
     ]
    }
   ],
   "source": [
    "res<-prcomp(data2, retx=F,scale=T)$rotation[,1:22];\n",
    "resAbs <- res;\n",
    "resAbs[res<0] <- -res[res<0];\n",
    "z <- cumsum(prcomp(data2, retx=F,scale=T)$sdev^2)/\n",
    "     sum(prcomp(data2, retx=F,scale=T)$sdev^2)\n",
    "\n",
    "for (i in 1:21){\n",
    "  print(z[i]);\n",
    "  print(t(res[resAbs[,i]>.2,i,drop=FALSE]));\n",
    "}\n"
   ]
  },
  {
   "cell_type": "code",
   "execution_count": 30,
   "metadata": {
    "collapsed": false
   },
   "outputs": [
    {
     "data": {
      "image/png": "[encoded data removed]",
      "text/plain": [
       "plot without title"
      ]
     },
     "metadata": {},
     "output_type": "display_data"
    }
   ],
   "source": [
    "plot(1:dim(data2)[2],cumsum(prcomp(data2, retx=F,scale=T)$sdev^2)/\n",
    "     sum(prcomp(data2, retx=F,scale=T)$sdev^2),\n",
    "     ylim=c(0,1),xlab=\"Number of coponents\",\n",
    "     ylab=\"Fraction of variance\");"
   ]
  },
  {
   "cell_type": "code",
   "execution_count": 31,
   "metadata": {
    "collapsed": true
   },
   "outputs": [],
   "source": [
    "res <- c();\n",
    "vnam <- names(data2);\n",
    "for (i in 2:dim(data2)[2]){\n",
    "  fmla <- as.formula(paste(vnam[i],paste(vnam[-c(1,i)],collapse=\"+\"),sep=\"~\"));\n",
    "  res <- rbind(res,c(i,round(summary(lm(fmla,data=data2))$r.squared,2)));\n",
    "}"
   ]
  },
  {
   "cell_type": "code",
   "execution_count": 32,
   "metadata": {
    "collapsed": false
   },
   "outputs": [
    {
     "data": {
      "text/html": [
       "<table>\n",
       "<tbody>\n",
       "\t<tr><th scope=row>Atti</th><td>17  </td><td>0.46</td></tr>\n",
       "\t<tr><th scope=row>EnergyC</th><td>14  </td><td>0.43</td></tr>\n",
       "\t<tr><th scope=row>Frugal</th><td>12  </td><td>0.38</td></tr>\n",
       "\t<tr><th scope=row>SqftCate</th><td> 5  </td><td>0.37</td></tr>\n",
       "\t<tr><th scope=row>OwnRent</th><td> 4  </td><td>0.31</td></tr>\n",
       "\t<tr><th scope=row>MC</th><td>13  </td><td>0.30</td></tr>\n",
       "\t<tr><th scope=row>HouseholdS</th><td> 6  </td><td>0.26</td></tr>\n",
       "\t<tr><th scope=row>Income</th><td> 9  </td><td>0.26</td></tr>\n",
       "\t<tr><th scope=row>SubNorm</th><td>18  </td><td>0.25</td></tr>\n",
       "\t<tr><th scope=row>HabitC</th><td>22  </td><td>0.23</td></tr>\n",
       "\t<tr><th scope=row>HabitG</th><td>21  </td><td>0.22</td></tr>\n",
       "\t<tr><th scope=row>Age</th><td> 2  </td><td>0.20</td></tr>\n",
       "\t<tr><th scope=row>SN</th><td>20  </td><td>0.18</td></tr>\n",
       "\t<tr><th scope=row>Educ</th><td>10  </td><td>0.17</td></tr>\n",
       "\t<tr><th scope=row>PBC</th><td>19  </td><td>0.17</td></tr>\n",
       "\t<tr><th scope=row>Political</th><td> 7  </td><td>0.15</td></tr>\n",
       "\t<tr><th scope=row>ComfNS</th><td>16  </td><td>0.14</td></tr>\n",
       "\t<tr><th scope=row>Gender</th><td> 3  </td><td>0.13</td></tr>\n",
       "\t<tr><th scope=row>Trust</th><td>15  </td><td>0.09</td></tr>\n",
       "\t<tr><th scope=row>Ethnic</th><td> 8  </td><td>0.08</td></tr>\n",
       "\t<tr><th scope=row>Latitude</th><td>11  </td><td>0.06</td></tr>\n",
       "</tbody>\n",
       "</table>\n"
      ],
      "text/latex": [
       "\\begin{tabular}{r|ll}\n",
       "\tAtti & 17   & 0.46\\\\\n",
       "\tEnergyC & 14   & 0.43\\\\\n",
       "\tFrugal & 12   & 0.38\\\\\n",
       "\tSqftCate &  5   & 0.37\\\\\n",
       "\tOwnRent &  4   & 0.31\\\\\n",
       "\tMC & 13   & 0.30\\\\\n",
       "\tHouseholdS &  6   & 0.26\\\\\n",
       "\tIncome &  9   & 0.26\\\\\n",
       "\tSubNorm & 18   & 0.25\\\\\n",
       "\tHabitC & 22   & 0.23\\\\\n",
       "\tHabitG & 21   & 0.22\\\\\n",
       "\tAge &  2   & 0.20\\\\\n",
       "\tSN & 20   & 0.18\\\\\n",
       "\tEduc & 10   & 0.17\\\\\n",
       "\tPBC & 19   & 0.17\\\\\n",
       "\tPolitical &  7   & 0.15\\\\\n",
       "\tComfNS & 16   & 0.14\\\\\n",
       "\tGender &  3   & 0.13\\\\\n",
       "\tTrust & 15   & 0.09\\\\\n",
       "\tEthnic &  8   & 0.08\\\\\n",
       "\tLatitude & 11   & 0.06\\\\\n",
       "\\end{tabular}\n"
      ],
      "text/markdown": [
       "1. 17\n",
       "2. 14\n",
       "3. 12\n",
       "4. 5\n",
       "5. 4\n",
       "6. 13\n",
       "7. 6\n",
       "8. 9\n",
       "9. 18\n",
       "10. 22\n",
       "11. 21\n",
       "12. 2\n",
       "13. 20\n",
       "14. 10\n",
       "15. 19\n",
       "16. 7\n",
       "17. 16\n",
       "18. 3\n",
       "19. 15\n",
       "20. 8\n",
       "21. 11\n",
       "22. 0.46\n",
       "23. 0.43\n",
       "24. 0.38\n",
       "25. 0.37\n",
       "26. 0.31\n",
       "27. 0.3\n",
       "28. 0.26\n",
       "29. 0.26\n",
       "30. 0.25\n",
       "31. 0.23\n",
       "32. 0.22\n",
       "33. 0.2\n",
       "34. 0.18\n",
       "35. 0.17\n",
       "36. 0.17\n",
       "37. 0.15\n",
       "38. 0.14\n",
       "39. 0.13\n",
       "40. 0.09\n",
       "41. 0.08\n",
       "42. 0.06\n",
       "\n",
       "\n"
      ],
      "text/plain": [
       "           [,1] [,2]\n",
       "Atti       17   0.46\n",
       "EnergyC    14   0.43\n",
       "Frugal     12   0.38\n",
       "SqftCate    5   0.37\n",
       "OwnRent     4   0.31\n",
       "MC         13   0.30\n",
       "HouseholdS  6   0.26\n",
       "Income      9   0.26\n",
       "SubNorm    18   0.25\n",
       "HabitC     22   0.23\n",
       "HabitG     21   0.22\n",
       "Age         2   0.20\n",
       "SN         20   0.18\n",
       "Educ       10   0.17\n",
       "PBC        19   0.17\n",
       "Political   7   0.15\n",
       "ComfNS     16   0.14\n",
       "Gender      3   0.13\n",
       "Trust      15   0.09\n",
       "Ethnic      8   0.08\n",
       "Latitude   11   0.06"
      ]
     },
     "metadata": {},
     "output_type": "display_data"
    }
   ],
   "source": [
    "row.names(res) <- vnam[res[,1]];\n",
    "o = order(-res[,2]);\n",
    "res[o,][res[o,2]<.7,]"
   ]
  },
  {
   "cell_type": "code",
   "execution_count": 33,
   "metadata": {
    "collapsed": false
   },
   "outputs": [],
   "source": [
    "IndepPred <- row.names(res[o,][res[o,2]<.7,])"
   ]
  },
  {
   "cell_type": "code",
   "execution_count": 45,
   "metadata": {
    "collapsed": true
   },
   "outputs": [],
   "source": [
    "IndepPred = c('Atti', 'EnergyC', 'SqftCate', 'OwnRent', 'MC', 'HouseholdS', 'Income', 'SubNorm', 'HabitG', 'HabitC', 'Educ', 'PBC', 'Political', 'Gender', 'ComfNS', 'Latitude', 'Ethnic')"
   ]
  },
  {
   "cell_type": "code",
   "execution_count": 46,
   "metadata": {
    "collapsed": false
   },
   "outputs": [
    {
     "data": {
      "text/html": [
       "<ol class=list-inline>\n",
       "\t<li>'Atti'</li>\n",
       "\t<li>'EnergyC'</li>\n",
       "\t<li>'SqftCate'</li>\n",
       "\t<li>'OwnRent'</li>\n",
       "\t<li>'MC'</li>\n",
       "\t<li>'HouseholdS'</li>\n",
       "\t<li>'Income'</li>\n",
       "\t<li>'SubNorm'</li>\n",
       "\t<li>'HabitG'</li>\n",
       "\t<li>'HabitC'</li>\n",
       "\t<li>'Educ'</li>\n",
       "\t<li>'PBC'</li>\n",
       "\t<li>'Political'</li>\n",
       "\t<li>'Gender'</li>\n",
       "\t<li>'ComfNS'</li>\n",
       "\t<li>'Latitude'</li>\n",
       "\t<li>'Ethnic'</li>\n",
       "</ol>\n"
      ],
      "text/latex": [
       "\\begin{enumerate*}\n",
       "\\item 'Atti'\n",
       "\\item 'EnergyC'\n",
       "\\item 'SqftCate'\n",
       "\\item 'OwnRent'\n",
       "\\item 'MC'\n",
       "\\item 'HouseholdS'\n",
       "\\item 'Income'\n",
       "\\item 'SubNorm'\n",
       "\\item 'HabitG'\n",
       "\\item 'HabitC'\n",
       "\\item 'Educ'\n",
       "\\item 'PBC'\n",
       "\\item 'Political'\n",
       "\\item 'Gender'\n",
       "\\item 'ComfNS'\n",
       "\\item 'Latitude'\n",
       "\\item 'Ethnic'\n",
       "\\end{enumerate*}\n"
      ],
      "text/markdown": [
       "1. 'Atti'\n",
       "2. 'EnergyC'\n",
       "3. 'SqftCate'\n",
       "4. 'OwnRent'\n",
       "5. 'MC'\n",
       "6. 'HouseholdS'\n",
       "7. 'Income'\n",
       "8. 'SubNorm'\n",
       "9. 'HabitG'\n",
       "10. 'HabitC'\n",
       "11. 'Educ'\n",
       "12. 'PBC'\n",
       "13. 'Political'\n",
       "14. 'Gender'\n",
       "15. 'ComfNS'\n",
       "16. 'Latitude'\n",
       "17. 'Ethnic'\n",
       "\n",
       "\n"
      ],
      "text/plain": [
       " [1] \"Atti\"       \"EnergyC\"    \"SqftCate\"   \"OwnRent\"    \"MC\"        \n",
       " [6] \"HouseholdS\" \"Income\"     \"SubNorm\"    \"HabitG\"     \"HabitC\"    \n",
       "[11] \"Educ\"       \"PBC\"        \"Political\"  \"Gender\"     \"ComfNS\"    \n",
       "[16] \"Latitude\"   \"Ethnic\"    "
      ]
     },
     "metadata": {},
     "output_type": "display_data"
    }
   ],
   "source": [
    "IndepPred"
   ]
  },
  {
   "cell_type": "code",
   "execution_count": 47,
   "metadata": {
    "collapsed": true
   },
   "outputs": [],
   "source": [
    "fmla <- as.formula(paste(\"IncHomeS\",paste(IndepPred,collapse=\"+\"),sep=\"~\"));"
   ]
  },
  {
   "cell_type": "code",
   "execution_count": 48,
   "metadata": {
    "collapsed": false
   },
   "outputs": [
    {
     "data": {
      "text/plain": [
       "\n",
       "  1   2   3   4 \n",
       " 54 162 377  34 "
      ]
     },
     "metadata": {},
     "output_type": "display_data"
    }
   ],
   "source": [
    "table(data2[,\"IncHomeS\"])"
   ]
  },
  {
   "cell_type": "code",
   "execution_count": 49,
   "metadata": {
    "collapsed": false
   },
   "outputs": [
    {
     "data": {
      "text/plain": [
       "\n",
       "Call:\n",
       "lm(formula = fmla, data = data2)\n",
       "\n",
       "Residuals:\n",
       "   Min     1Q Median     3Q    Max \n",
       "-2.137 -0.494  0.176  0.427  1.633 \n",
       "\n",
       "Coefficients:\n",
       "            Estimate Std. Error t value Pr(>|t|)    \n",
       "(Intercept)  2.56792    0.39385    6.52  1.5e-10 ***\n",
       "Atti        -0.07024    0.03261   -2.15    0.032 *  \n",
       "EnergyC     -0.00650    0.02519   -0.26    0.797    \n",
       "SqftCate    -0.01805    0.03032   -0.60    0.552    \n",
       "OwnRent      0.11048    0.06134    1.80    0.072 .  \n",
       "MC           0.00901    0.02938    0.31    0.759    \n",
       "HouseholdS   0.02202    0.02578    0.85    0.393    \n",
       "Income       0.00829    0.01604    0.52    0.606    \n",
       "SubNorm      0.02934    0.02289    1.28    0.200    \n",
       "HabitG       0.01016    0.02631    0.39    0.700    \n",
       "HabitC      -0.02193    0.01917   -1.14    0.253    \n",
       "Educ         0.02676    0.02706    0.99    0.323    \n",
       "PBC         -0.04034    0.03149   -1.28    0.201    \n",
       "Political    0.03214    0.03577    0.90    0.369    \n",
       "Gender       0.00584    0.05820    0.10    0.920    \n",
       "ComfNS       0.13456    0.02017    6.67  5.7e-11 ***\n",
       "Latitude    -0.00917    0.00556   -1.65    0.100 .  \n",
       "Ethnic      -0.15339    0.07495   -2.05    0.041 *  \n",
       "---\n",
       "Signif. codes:  0 '***' 0.001 '**' 0.01 '*' 0.05 '.' 0.1 ' ' 1\n",
       "\n",
       "Residual standard error: 0.68 on 609 degrees of freedom\n",
       "Multiple R-squared:  0.119,\tAdjusted R-squared:  0.0944 \n",
       "F-statistic: 4.84 on 17 and 609 DF,  p-value: 8.32e-10\n"
      ]
     },
     "metadata": {},
     "output_type": "display_data"
    }
   ],
   "source": [
    "mod = lm(fmla,data=data2)\n",
    "summary(mod)"
   ]
  },
  {
   "cell_type": "code",
   "execution_count": 38,
   "metadata": {
    "collapsed": false
   },
   "outputs": [
    {
     "data": {
      "text/html": [
       "<table>\n",
       "<thead><tr><th></th><th scope=col>Df</th><th scope=col>Sum Sq</th><th scope=col>Mean Sq</th><th scope=col>F value</th><th scope=col>Pr(&gt;F)</th></tr></thead>\n",
       "<tbody>\n",
       "\t<tr><th scope=row>Atti</th><td>  1    </td><td>  700.5</td><td> 700.5 </td><td> 6.849 </td><td>9.1e-03</td></tr>\n",
       "\t<tr><th scope=row>EnergyC</th><td>  1    </td><td>  249.9</td><td> 249.9 </td><td> 2.443 </td><td>1.2e-01</td></tr>\n",
       "\t<tr><th scope=row>Frugal</th><td>  1    </td><td>   52.1</td><td>  52.1 </td><td> 0.509 </td><td>4.8e-01</td></tr>\n",
       "\t<tr><th scope=row>SqftCate</th><td>  1    </td><td> 4859.7</td><td>4859.7 </td><td>47.513 </td><td>1.4e-11</td></tr>\n",
       "\t<tr><th scope=row>OwnRent</th><td>  1    </td><td> 5076.5</td><td>5076.5 </td><td>49.632 </td><td>5.1e-12</td></tr>\n",
       "\t<tr><th scope=row>MC</th><td>  1    </td><td>   52.9</td><td>  52.9 </td><td> 0.517 </td><td>4.7e-01</td></tr>\n",
       "\t<tr><th scope=row>HouseholdS</th><td>  1    </td><td> 2172.8</td><td>2172.8 </td><td>21.243 </td><td>4.9e-06</td></tr>\n",
       "\t<tr><th scope=row>Income</th><td>  1    </td><td>   98.9</td><td>  98.9 </td><td> 0.967 </td><td>3.3e-01</td></tr>\n",
       "\t<tr><th scope=row>SubNorm</th><td>  1    </td><td>   40.2</td><td>  40.2 </td><td> 0.393 </td><td>5.3e-01</td></tr>\n",
       "\t<tr><th scope=row>HabitC</th><td>  1    </td><td>   68.0</td><td>  68.0 </td><td> 0.665 </td><td>4.2e-01</td></tr>\n",
       "\t<tr><th scope=row>HabitG</th><td>  1    </td><td>   36.3</td><td>  36.3 </td><td> 0.355 </td><td>5.5e-01</td></tr>\n",
       "\t<tr><th scope=row>SN</th><td>  1    </td><td>    9.2</td><td>   9.2 </td><td> 0.090 </td><td>7.6e-01</td></tr>\n",
       "\t<tr><th scope=row>Educ</th><td>  1    </td><td>   98.1</td><td>  98.1 </td><td> 0.959 </td><td>3.3e-01</td></tr>\n",
       "\t<tr><th scope=row>PBC</th><td>  1    </td><td>   21.6</td><td>  21.6 </td><td> 0.211 </td><td>6.5e-01</td></tr>\n",
       "\t<tr><th scope=row>Political</th><td>  1    </td><td>  216.5</td><td> 216.5 </td><td> 2.117 </td><td>1.5e-01</td></tr>\n",
       "\t<tr><th scope=row>ComfNS</th><td>  1    </td><td>  818.7</td><td> 818.7 </td><td> 8.005 </td><td>4.8e-03</td></tr>\n",
       "\t<tr><th scope=row>Gender</th><td>  1    </td><td> 1023.1</td><td>1023.1 </td><td>10.002 </td><td>1.6e-03</td></tr>\n",
       "\t<tr><th scope=row>Trust</th><td>  1    </td><td>    1.5</td><td>   1.5 </td><td> 0.014 </td><td>9.0e-01</td></tr>\n",
       "\t<tr><th scope=row>Ethnic</th><td>  1    </td><td>  217.5</td><td> 217.5 </td><td> 2.127 </td><td>1.5e-01</td></tr>\n",
       "\t<tr><th scope=row>Latitude</th><td>  1    </td><td>   25.6</td><td>  25.6 </td><td> 0.251 </td><td>6.2e-01</td></tr>\n",
       "\t<tr><th scope=row>Residuals</th><td>606    </td><td>61983.0</td><td> 102.3 </td><td>    NA </td><td>     NA</td></tr>\n",
       "</tbody>\n",
       "</table>\n"
      ],
      "text/latex": [
       "\\begin{tabular}{r|lllll}\n",
       "  & Df & Sum Sq & Mean Sq & F value & Pr(>F)\\\\\n",
       "\\hline\n",
       "\tAtti &   1     &   700.5 &  700.5  &  6.849  & 9.1e-03\\\\\n",
       "\tEnergyC &   1     &   249.9 &  249.9  &  2.443  & 1.2e-01\\\\\n",
       "\tFrugal &   1     &    52.1 &   52.1  &  0.509  & 4.8e-01\\\\\n",
       "\tSqftCate &   1     &  4859.7 & 4859.7  & 47.513  & 1.4e-11\\\\\n",
       "\tOwnRent &   1     &  5076.5 & 5076.5  & 49.632  & 5.1e-12\\\\\n",
       "\tMC &   1     &    52.9 &   52.9  &  0.517  & 4.7e-01\\\\\n",
       "\tHouseholdS &   1     &  2172.8 & 2172.8  & 21.243  & 4.9e-06\\\\\n",
       "\tIncome &   1     &    98.9 &   98.9  &  0.967  & 3.3e-01\\\\\n",
       "\tSubNorm &   1     &    40.2 &   40.2  &  0.393  & 5.3e-01\\\\\n",
       "\tHabitC &   1     &    68.0 &   68.0  &  0.665  & 4.2e-01\\\\\n",
       "\tHabitG &   1     &    36.3 &   36.3  &  0.355  & 5.5e-01\\\\\n",
       "\tSN &   1     &     9.2 &    9.2  &  0.090  & 7.6e-01\\\\\n",
       "\tEduc &   1     &    98.1 &   98.1  &  0.959  & 3.3e-01\\\\\n",
       "\tPBC &   1     &    21.6 &   21.6  &  0.211  & 6.5e-01\\\\\n",
       "\tPolitical &   1     &   216.5 &  216.5  &  2.117  & 1.5e-01\\\\\n",
       "\tComfNS &   1     &   818.7 &  818.7  &  8.005  & 4.8e-03\\\\\n",
       "\tGender &   1     &  1023.1 & 1023.1  & 10.002  & 1.6e-03\\\\\n",
       "\tTrust &   1     &     1.5 &    1.5  &  0.014  & 9.0e-01\\\\\n",
       "\tEthnic &   1     &   217.5 &  217.5  &  2.127  & 1.5e-01\\\\\n",
       "\tLatitude &   1     &    25.6 &   25.6  &  0.251  & 6.2e-01\\\\\n",
       "\tResiduals & 606     & 61983.0 &  102.3  &     NA  &      NA\\\\\n",
       "\\end{tabular}\n"
      ],
      "text/plain": [
       "           Df  Sum Sq  Mean Sq F value Pr(>F) \n",
       "Atti         1   700.5  700.5   6.849  9.1e-03\n",
       "EnergyC      1   249.9  249.9   2.443  1.2e-01\n",
       "Frugal       1    52.1   52.1   0.509  4.8e-01\n",
       "SqftCate     1  4859.7 4859.7  47.513  1.4e-11\n",
       "OwnRent      1  5076.5 5076.5  49.632  5.1e-12\n",
       "MC           1    52.9   52.9   0.517  4.7e-01\n",
       "HouseholdS   1  2172.8 2172.8  21.243  4.9e-06\n",
       "Income       1    98.9   98.9   0.967  3.3e-01\n",
       "SubNorm      1    40.2   40.2   0.393  5.3e-01\n",
       "HabitC       1    68.0   68.0   0.665  4.2e-01\n",
       "HabitG       1    36.3   36.3   0.355  5.5e-01\n",
       "SN           1     9.2    9.2   0.090  7.6e-01\n",
       "Educ         1    98.1   98.1   0.959  3.3e-01\n",
       "PBC          1    21.6   21.6   0.211  6.5e-01\n",
       "Political    1   216.5  216.5   2.117  1.5e-01\n",
       "ComfNS       1   818.7  818.7   8.005  4.8e-03\n",
       "Gender       1  1023.1 1023.1  10.002  1.6e-03\n",
       "Trust        1     1.5    1.5   0.014  9.0e-01\n",
       "Ethnic       1   217.5  217.5   2.127  1.5e-01\n",
       "Latitude     1    25.6   25.6   0.251  6.2e-01\n",
       "Residuals  606 61983.0  102.3      NA       NA"
      ]
     },
     "metadata": {},
     "output_type": "display_data"
    }
   ],
   "source": [
    "anova(mod)"
   ]
  },
  {
   "cell_type": "code",
   "execution_count": 39,
   "metadata": {
    "collapsed": false
   },
   "outputs": [
    {
     "name": "stdout",
     "output_type": "stream",
     "text": [
      "\n",
      "Call:\n",
      "factanal(x = data2, factors = 2, rotation = \"varimax\")\n",
      "\n",
      "Uniquenesses:\n",
      "  IncHomeS        Age     Gender    OwnRent   SqftCate HouseholdS  Political \n",
      "      0.97       0.85       0.93       0.57       0.47       0.87       0.93 \n",
      "    Ethnic     Income       Educ   Latitude     Frugal         MC    EnergyC \n",
      "      0.99       0.73       0.98       1.00       0.57       0.73       0.55 \n",
      "     Trust     ComfNS       Atti    SubNorm        PBC         SN     HabitG \n",
      "      0.95       0.96       0.43       0.77       0.89       0.89       0.85 \n",
      "    HabitC \n",
      "      0.90 \n",
      "\n",
      "Loadings:\n",
      "           Factor1 Factor2\n",
      "Frugal      0.65          \n",
      "MC          0.52          \n",
      "EnergyC     0.67          \n",
      "Atti        0.75          \n",
      "OwnRent             0.66  \n",
      "SqftCate            0.73  \n",
      "Income              0.51  \n",
      "IncHomeS                  \n",
      "Age                 0.38  \n",
      "Gender                    \n",
      "HouseholdS          0.35  \n",
      "Political                 \n",
      "Ethnic                    \n",
      "Educ                      \n",
      "Latitude                  \n",
      "Trust                     \n",
      "ComfNS                    \n",
      "SubNorm     0.48          \n",
      "PBC         0.33          \n",
      "SN                        \n",
      "HabitG      0.39          \n",
      "HabitC      0.32          \n",
      "\n",
      "               Factor1 Factor2\n",
      "SS loadings       2.64    1.62\n",
      "Proportion Var    0.12    0.07\n",
      "Cumulative Var    0.12    0.19\n",
      "\n",
      "Test of the hypothesis that 2 factors are sufficient.\n",
      "The chi square statistic is 703 on 188 degrees of freedom.\n",
      "The p-value is 1.7e-60 \n"
     ]
    }
   ],
   "source": [
    "fit <- factanal(data2, 2, rotation=\"varimax\")\n",
    "print(fit, digits=2, cutoff=.3, sort=TRUE)"
   ]
  },
  {
   "cell_type": "code",
   "execution_count": 40,
   "metadata": {
    "collapsed": false
   },
   "outputs": [
    {
     "data": {
      "text/plain": [
       "\n",
       "Call:\n",
       "lm(formula = IncHomeS ~ SqftCate, data = data2)\n",
       "\n",
       "Residuals:\n",
       "   Min     1Q Median     3Q    Max \n",
       "-1.655 -0.612  0.345  0.388  1.410 \n",
       "\n",
       "Coefficients:\n",
       "            Estimate Std. Error t value Pr(>|t|)    \n",
       "(Intercept)   2.5688     0.0713   36.01   <2e-16 ***\n",
       "SqftCate      0.0216     0.0257    0.84      0.4    \n",
       "---\n",
       "Signif. codes:  0 '***' 0.001 '**' 0.01 '*' 0.05 '.' 0.1 ' ' 1\n",
       "\n",
       "Residual standard error: 0.72 on 625 degrees of freedom\n",
       "Multiple R-squared:  0.00113,\tAdjusted R-squared:  -0.000472 \n",
       "F-statistic: 0.704 on 1 and 625 DF,  p-value: 0.402\n"
      ]
     },
     "metadata": {},
     "output_type": "display_data"
    },
    {
     "data": {
      "image/png": "[encoded data removed]",
      "text/plain": [
       "Plot with title \"\""
      ]
     },
     "metadata": {},
     "output_type": "display_data"
    },
    {
     "data": {
      "image/png": "[encoded data removed]",
      "text/plain": [
       "Plot with title \"\""
      ]
     },
     "metadata": {},
     "output_type": "display_data"
    },
    {
     "data": {
      "image/png": "[encoded data removed]",
      "text/plain": [
       "Plot with title \"\""
      ]
     },
     "metadata": {},
     "output_type": "display_data"
    },
    {
     "data": {
      "image/png": "[encoded data removed]",
      "text/plain": [
       "Plot with title \"\""
      ]
     },
     "metadata": {},
     "output_type": "display_data"
    }
   ],
   "source": [
    "mod = lm(IncHomeS~SqftCate,data=data2)\n",
    "summary(mod)\n",
    "plot(mod)"
   ]
  },
  {
   "cell_type": "code",
   "execution_count": 41,
   "metadata": {
    "collapsed": false
   },
   "outputs": [
    {
     "ename": "ERROR",
     "evalue": "Error in xy.coords(x, y): 'x' and 'y' lengths differ\n",
     "output_type": "error",
     "traceback": [
      "Error in xy.coords(x, y): 'x' and 'y' lengths differ\nTraceback:\n",
      "1. points(z, 1:8, pch = \"*\", cex = 3)",
      "2. points.default(z, 1:8, pch = \"*\", cex = 3)",
      "3. plot.xy(xy.coords(x, y), type = type, ...)",
      "4. xy.coords(x, y)",
      "5. stop(\"'x' and 'y' lengths differ\")"
     ]
    },
    {
     "data": {
      "image/png": "[encoded data removed]",
      "text/plain": [
       "plot without title"
      ]
     },
     "metadata": {},
     "output_type": "display_data"
    }
   ],
   "source": [
    "plot(mod$residuals,data2$IncHomeS)\n",
    "z<-tapply(mod$residuals,data2$IncHomeS,mean)\n",
    "points(z,1:8,pch=\"*\",cex=3)"
   ]
  },
  {
   "cell_type": "code",
   "execution_count": 42,
   "metadata": {
    "collapsed": false
   },
   "outputs": [
    {
     "data": {
      "text/plain": [
       "\n",
       "Call:\n",
       "lm(formula = IncHomeS ~ SqftCate + OwnRent, data = data2)\n",
       "\n",
       "Residuals:\n",
       "   Min     1Q Median     3Q    Max \n",
       "-1.899 -0.577  0.324  0.416  1.435 \n",
       "\n",
       "Coefficients:\n",
       "            Estimate Std. Error t value Pr(>|t|)    \n",
       "(Intercept)  2.48491    0.09254   26.85   <2e-16 ***\n",
       "SqftCate    -0.00638    0.02860   -0.22    0.824    \n",
       "OwnRent      0.10516    0.06140    1.71    0.087 .  \n",
       "---\n",
       "Signif. codes:  0 '***' 0.001 '**' 0.01 '*' 0.05 '.' 0.1 ' ' 1\n",
       "\n",
       "Residual standard error: 0.72 on 641 degrees of freedom\n",
       "Multiple R-squared:  0.00518,\tAdjusted R-squared:  0.00208 \n",
       "F-statistic: 1.67 on 2 and 641 DF,  p-value: 0.189\n"
      ]
     },
     "metadata": {},
     "output_type": "display_data"
    }
   ],
   "source": [
    "mod = lm(IncHomeS~SqftCate+OwnRent,data=data2)\n",
    "summary(mod)"
   ]
  },
  {
   "cell_type": "code",
   "execution_count": 43,
   "metadata": {
    "collapsed": false
   },
   "outputs": [
    {
     "data": {
      "text/plain": [
       "\n",
       "Call:\n",
       "lm(formula = IncHomeS ~ SqftCate + OwnRent + HouseholdS, data = data2)\n",
       "\n",
       "Residuals:\n",
       "   Min     1Q Median     3Q    Max \n",
       "-1.889 -0.582  0.315  0.402  1.472 \n",
       "\n",
       "Coefficients:\n",
       "            Estimate Std. Error t value Pr(>|t|)    \n",
       "(Intercept)   2.4300     0.1037   23.43   <2e-16 ***\n",
       "SqftCate     -0.0176     0.0302   -0.58    0.559    \n",
       "OwnRent       0.1046     0.0614    1.70    0.089 .  \n",
       "HouseholdS    0.0292     0.0249    1.17    0.242    \n",
       "---\n",
       "Signif. codes:  0 '***' 0.001 '**' 0.01 '*' 0.05 '.' 0.1 ' ' 1\n",
       "\n",
       "Residual standard error: 0.72 on 640 degrees of freedom\n",
       "Multiple R-squared:  0.00731,\tAdjusted R-squared:  0.00266 \n",
       "F-statistic: 1.57 on 3 and 640 DF,  p-value: 0.195\n"
      ]
     },
     "metadata": {},
     "output_type": "display_data"
    }
   ],
   "source": [
    "#Probably overfitting\n",
    "mod1 = lm(IncHomeS~SqftCate+OwnRent+HouseholdS,data=data2)\n",
    "summary(mod1)"
   ]
  },
  {
   "cell_type": "code",
   "execution_count": 44,
   "metadata": {
    "collapsed": false
   },
   "outputs": [
    {
     "name": "stderr",
     "output_type": "stream",
     "text": [
      "Loading required package: nlme\n",
      "This is mgcv 1.8-14. For overview type 'help(\"mgcv-package\")'.\n"
     ]
    }
   ],
   "source": [
    "library(mgcv)\n"
   ]
  },
  {
   "cell_type": "code",
   "execution_count": 45,
   "metadata": {
    "collapsed": false
   },
   "outputs": [
    {
     "data": {
      "text/plain": [
       "\n",
       "Family: gaussian \n",
       "Link function: identity \n",
       "\n",
       "Formula:\n",
       "IncHomeS ~ SqftCate + OwnRent + HouseholdS\n",
       "\n",
       "Parametric coefficients:\n",
       "            Estimate Std. Error t value Pr(>|t|)    \n",
       "(Intercept)   2.4300     0.1037   23.43   <2e-16 ***\n",
       "SqftCate     -0.0176     0.0302   -0.58    0.559    \n",
       "OwnRent       0.1046     0.0614    1.70    0.089 .  \n",
       "HouseholdS    0.0292     0.0249    1.17    0.242    \n",
       "---\n",
       "Signif. codes:  0 '***' 0.001 '**' 0.01 '*' 0.05 '.' 0.1 ' ' 1\n",
       "\n",
       "\n",
       "R-sq.(adj) =  0.00266   Deviance explained = 0.731%\n",
       "GCV = 0.51553  Scale est. = 0.51232   n = 644"
      ]
     },
     "metadata": {},
     "output_type": "display_data"
    }
   ],
   "source": [
    "mGam = gam(IncHomeS~SqftCate+OwnRent+HouseholdS,data=data2)\n",
    "summary(mGam)\n"
   ]
  },
  {
   "cell_type": "code",
   "execution_count": 46,
   "metadata": {
    "collapsed": false
   },
   "outputs": [
    {
     "ename": "ERROR",
     "evalue": "Error in plot.gam(mGam): No terms to plot - nothing for plot.gam() to do.\n",
     "output_type": "error",
     "traceback": [
      "Error in plot.gam(mGam): No terms to plot - nothing for plot.gam() to do.\nTraceback:\n",
      "1. plot(mGam)",
      "2. plot.gam(mGam)",
      "3. stop(\"No terms to plot - nothing for plot.gam() to do.\")"
     ]
    }
   ],
   "source": [
    "plot(mGam)"
   ]
  },
  {
   "cell_type": "code",
   "execution_count": 47,
   "metadata": {
    "collapsed": false
   },
   "outputs": [
    {
     "data": {
      "text/plain": [
       "\n",
       "Call:\n",
       "lm(formula = IncHomeS ~ SqftCate + OwnRent + HouseholdS + Gender + \n",
       "    ComfNS + Atti + Educ, data = data2)\n",
       "\n",
       "Residuals:\n",
       "   Min     1Q Median     3Q    Max \n",
       "-2.093 -0.539  0.201  0.416  1.921 \n",
       "\n",
       "Coefficients:\n",
       "            Estimate Std. Error t value Pr(>|t|)    \n",
       "(Intercept)   2.0717     0.2329    8.89  < 2e-16 ***\n",
       "SqftCate     -0.0221     0.0290   -0.76    0.447    \n",
       "OwnRent       0.1041     0.0591    1.76    0.078 .  \n",
       "HouseholdS    0.0257     0.0246    1.04    0.298    \n",
       "Gender        0.0157     0.0563    0.28    0.781    \n",
       "ComfNS        0.1268     0.0189    6.70  4.6e-11 ***\n",
       "Atti         -0.0701     0.0255   -2.76    0.006 ** \n",
       "Educ          0.0356     0.0250    1.43    0.154    \n",
       "---\n",
       "Signif. codes:  0 '***' 0.001 '**' 0.01 '*' 0.05 '.' 0.1 ' ' 1\n",
       "\n",
       "Residual standard error: 0.69 on 636 degrees of freedom\n",
       "Multiple R-squared:  0.0919,\tAdjusted R-squared:  0.0819 \n",
       "F-statistic: 9.19 on 7 and 636 DF,  p-value: 7.48e-11\n"
      ]
     },
     "metadata": {},
     "output_type": "display_data"
    }
   ],
   "source": [
    "mod1 = lm(IncHomeS~SqftCate+OwnRent+HouseholdS+Gender+ComfNS+Atti+Educ,data=data2)\n",
    "summary(mod1)\n"
   ]
  },
  {
   "cell_type": "code",
   "execution_count": 48,
   "metadata": {
    "collapsed": false
   },
   "outputs": [
    {
     "data": {
      "text/html": [
       "<table>\n",
       "<thead><tr><th></th><th scope=col>Df</th><th scope=col>Sum Sq</th><th scope=col>Mean Sq</th><th scope=col>F value</th><th scope=col>Pr(&gt;F)</th></tr></thead>\n",
       "<tbody>\n",
       "\t<tr><th scope=row>SqftCate</th><td>  1    </td><td>  0.209</td><td> 0.209 </td><td> 0.44  </td><td>5.1e-01</td></tr>\n",
       "\t<tr><th scope=row>OwnRent</th><td>  1    </td><td>  1.504</td><td> 1.504 </td><td> 3.19  </td><td>7.5e-02</td></tr>\n",
       "\t<tr><th scope=row>HouseholdS</th><td>  1    </td><td>  0.703</td><td> 0.703 </td><td> 1.49  </td><td>2.2e-01</td></tr>\n",
       "\t<tr><th scope=row>Gender</th><td>  1    </td><td>  0.023</td><td> 0.023 </td><td> 0.05  </td><td>8.2e-01</td></tr>\n",
       "\t<tr><th scope=row>ComfNS</th><td>  1    </td><td> 23.568</td><td>23.568 </td><td>49.97  </td><td>4.1e-12</td></tr>\n",
       "\t<tr><th scope=row>Atti</th><td>  1    </td><td>  3.376</td><td> 3.376 </td><td> 7.16  </td><td>7.7e-03</td></tr>\n",
       "\t<tr><th scope=row>Educ</th><td>  1    </td><td>  0.961</td><td> 0.961 </td><td> 2.04  </td><td>1.5e-01</td></tr>\n",
       "\t<tr><th scope=row>Residuals</th><td>636    </td><td>299.959</td><td> 0.472 </td><td>   NA  </td><td>     NA</td></tr>\n",
       "</tbody>\n",
       "</table>\n"
      ],
      "text/latex": [
       "\\begin{tabular}{r|lllll}\n",
       "  & Df & Sum Sq & Mean Sq & F value & Pr(>F)\\\\\n",
       "\\hline\n",
       "\tSqftCate &   1     &   0.209 &  0.209  &  0.44   & 5.1e-01\\\\\n",
       "\tOwnRent &   1     &   1.504 &  1.504  &  3.19   & 7.5e-02\\\\\n",
       "\tHouseholdS &   1     &   0.703 &  0.703  &  1.49   & 2.2e-01\\\\\n",
       "\tGender &   1     &   0.023 &  0.023  &  0.05   & 8.2e-01\\\\\n",
       "\tComfNS &   1     &  23.568 & 23.568  & 49.97   & 4.1e-12\\\\\n",
       "\tAtti &   1     &   3.376 &  3.376  &  7.16   & 7.7e-03\\\\\n",
       "\tEduc &   1     &   0.961 &  0.961  &  2.04   & 1.5e-01\\\\\n",
       "\tResiduals & 636     & 299.959 &  0.472  &    NA   &      NA\\\\\n",
       "\\end{tabular}\n"
      ],
      "text/plain": [
       "           Df  Sum Sq  Mean Sq F value Pr(>F) \n",
       "SqftCate     1   0.209  0.209   0.44   5.1e-01\n",
       "OwnRent      1   1.504  1.504   3.19   7.5e-02\n",
       "HouseholdS   1   0.703  0.703   1.49   2.2e-01\n",
       "Gender       1   0.023  0.023   0.05   8.2e-01\n",
       "ComfNS       1  23.568 23.568  49.97   4.1e-12\n",
       "Atti         1   3.376  3.376   7.16   7.7e-03\n",
       "Educ         1   0.961  0.961   2.04   1.5e-01\n",
       "Residuals  636 299.959  0.472     NA        NA"
      ]
     },
     "metadata": {},
     "output_type": "display_data"
    }
   ],
   "source": [
    "anova(mod1)"
   ]
  },
  {
   "cell_type": "code",
   "execution_count": 49,
   "metadata": {
    "collapsed": false
   },
   "outputs": [
    {
     "data": {
      "text/html": [
       "<table>\n",
       "<thead><tr><th></th><th scope=col>Df</th><th scope=col>Sum of Sq</th><th scope=col>RSS</th><th scope=col>AIC</th></tr></thead>\n",
       "<tbody>\n",
       "\t<tr><th scope=row>&lt;none&gt;</th><td>NA    </td><td>    NA</td><td>300   </td><td>-476  </td></tr>\n",
       "\t<tr><th scope=row>SqftCate</th><td> 1    </td><td> 0.274</td><td>300   </td><td>-477  </td></tr>\n",
       "\t<tr><th scope=row>OwnRent</th><td> 1    </td><td> 1.466</td><td>301   </td><td>-475  </td></tr>\n",
       "\t<tr><th scope=row>HouseholdS</th><td> 1    </td><td> 0.512</td><td>300   </td><td>-477  </td></tr>\n",
       "\t<tr><th scope=row>Gender</th><td> 1    </td><td> 0.037</td><td>300   </td><td>-478  </td></tr>\n",
       "\t<tr><th scope=row>ComfNS</th><td> 1    </td><td>21.161</td><td>321   </td><td>-434  </td></tr>\n",
       "\t<tr><th scope=row>Atti</th><td> 1    </td><td> 3.581</td><td>304   </td><td>-470  </td></tr>\n",
       "\t<tr><th scope=row>Educ</th><td> 1    </td><td> 0.961</td><td>301   </td><td>-476  </td></tr>\n",
       "</tbody>\n",
       "</table>\n"
      ],
      "text/latex": [
       "\\begin{tabular}{r|llll}\n",
       "  & Df & Sum of Sq & RSS & AIC\\\\\n",
       "\\hline\n",
       "\t<none> & NA     &     NA & 300    & -476  \\\\\n",
       "\tSqftCate &  1     &  0.274 & 300    & -477  \\\\\n",
       "\tOwnRent &  1     &  1.466 & 301    & -475  \\\\\n",
       "\tHouseholdS &  1     &  0.512 & 300    & -477  \\\\\n",
       "\tGender &  1     &  0.037 & 300    & -478  \\\\\n",
       "\tComfNS &  1     & 21.161 & 321    & -434  \\\\\n",
       "\tAtti &  1     &  3.581 & 304    & -470  \\\\\n",
       "\tEduc &  1     &  0.961 & 301    & -476  \\\\\n",
       "\\end{tabular}\n"
      ],
      "text/plain": [
       "           Df Sum of Sq RSS AIC \n",
       "<none>     NA     NA    300 -476\n",
       "SqftCate    1  0.274    300 -477\n",
       "OwnRent     1  1.466    301 -475\n",
       "HouseholdS  1  0.512    300 -477\n",
       "Gender      1  0.037    300 -478\n",
       "ComfNS      1 21.161    321 -434\n",
       "Atti        1  3.581    304 -470\n",
       "Educ        1  0.961    301 -476"
      ]
     },
     "metadata": {},
     "output_type": "display_data"
    }
   ],
   "source": [
    "drop1(mod1)"
   ]
  },
  {
   "cell_type": "code",
   "execution_count": 25,
   "metadata": {
    "collapsed": false
   },
   "outputs": [
    {
     "name": "stderr",
     "output_type": "stream",
     "text": [
      "\n",
      "Attaching package: 'bnlearn'\n",
      "\n",
      "The following object is masked from 'package:stats':\n",
      "\n",
      "    sigma\n",
      "\n"
     ]
    }
   ],
   "source": [
    "library(bnlearn)"
   ]
  },
  {
   "cell_type": "code",
   "execution_count": 26,
   "metadata": {
    "collapsed": false
   },
   "outputs": [
    {
     "data": {
      "image/png": "[encoded data removed]",
      "text/plain": [
       "plot without title"
      ]
     },
     "metadata": {},
     "output_type": "display_data"
    }
   ],
   "source": [
    "dd2 = data2[,c('IncHomeS', 'ComfNS3','Age','HabitC2')]\n",
    "for (i in 1:4) dd2[,i] <- as.double(dd2[,i])\n",
    "dag2 = tabu(dd2)\n",
    "plot(dag2)"
   ]
  },
  {
   "cell_type": "code",
   "execution_count": 27,
   "metadata": {
    "collapsed": false
   },
   "outputs": [
    {
     "data": {
      "text/plain": [
       "\n",
       "Call:\n",
       "lm(formula = fmlaF, data = data2)\n",
       "\n",
       "Residuals:\n",
       "   Min     1Q Median     3Q    Max \n",
       "-3.672 -1.120 -0.092  1.051  4.878 \n",
       "\n",
       "Coefficients:\n",
       "             Estimate Std. Error t value Pr(>|t|)   \n",
       "(Intercept)  3.12e+00   1.26e+00    2.49   0.0132 * \n",
       "Age          2.37e-02   7.22e-03    3.28   0.0011 **\n",
       "Gender       1.02e-01   1.56e-01    0.66   0.5117   \n",
       "OwnRent     -1.93e-03   1.64e-01   -0.01   0.9906   \n",
       "BillS        6.56e-04   1.27e-03    0.52   0.6060   \n",
       "NBillS       1.30e-01   1.29e-01    1.01   0.3138   \n",
       "Sqft        -3.13e-05   1.11e-04   -0.28   0.7776   \n",
       "SqftCate    -3.01e-02   1.10e-01   -0.27   0.7853   \n",
       "HouseholdS  -8.02e-02   6.84e-02   -1.17   0.2412   \n",
       "Political   -6.80e-02   3.33e-02   -2.04   0.0417 * \n",
       "Ethnic       1.03e-01   6.05e-02    1.70   0.0901 . \n",
       "Income      -3.16e-02   4.24e-02   -0.74   0.4571   \n",
       "Educ         2.87e-02   6.87e-02    0.42   0.6760   \n",
       "MC1          2.52e-03   7.09e-02    0.04   0.9716   \n",
       "MC2          3.68e-02   7.60e-02    0.48   0.6290   \n",
       "MC3         -5.95e-02   7.00e-02   -0.85   0.3959   \n",
       "MC4          5.98e-02   7.07e-02    0.85   0.3981   \n",
       "MC5         -6.47e-02   8.78e-02   -0.74   0.4614   \n",
       "Frugal1     -3.85e-02   1.10e-01   -0.35   0.7262   \n",
       "Frugal2     -8.59e-02   9.05e-02   -0.95   0.3429   \n",
       "Frugal3     -1.18e-02   9.34e-02   -0.13   0.8995   \n",
       "Trust1       2.10e-01   1.22e-01    1.72   0.0863 . \n",
       "Trust2       1.28e-02   7.90e-02    0.16   0.8712   \n",
       "Trust3      -1.17e-01   7.59e-02   -1.54   0.1229   \n",
       "Trust4      -8.30e-02   1.16e-01   -0.72   0.4729   \n",
       "ComfNS1      5.25e-02   7.68e-02    0.68   0.4946   \n",
       "ComfNS2      8.00e-02   6.17e-02    1.30   0.1956   \n",
       "ComfNS3      1.46e-01   6.92e-02    2.11   0.0353 * \n",
       "ConvB1       3.75e-02   7.85e-02    0.48   0.6333   \n",
       "ConvB2      -5.31e-02   8.29e-02   -0.64   0.5225   \n",
       "ConvB3       1.24e-02   5.19e-02    0.24   0.8110   \n",
       "ConvB4      -8.88e-03   5.75e-02   -0.15   0.8772   \n",
       "ControlN1    8.58e-02   9.14e-02    0.94   0.3482   \n",
       "ControlN2R  -7.14e-02   4.63e-02   -1.54   0.1237   \n",
       "ControlN3    3.67e-02   7.92e-02    0.46   0.6429   \n",
       "ControlN4    7.48e-03   5.41e-02    0.14   0.8901   \n",
       "Atti1       -2.79e-03   1.20e-01   -0.02   0.9814   \n",
       "Atti2       -6.29e-02   1.14e-01   -0.55   0.5810   \n",
       "Atti3       -7.23e-02   1.13e-01   -0.64   0.5209   \n",
       "Atti4       -7.00e-03   1.11e-01   -0.06   0.9499   \n",
       "SubNorm1     9.04e-02   5.86e-02    1.54   0.1235   \n",
       "SubNorm2    -8.76e-03   6.82e-02   -0.13   0.8978   \n",
       "SubNorm3    -3.12e-02   5.47e-02   -0.57   0.5681   \n",
       "PBC1         1.24e-01   6.69e-02    1.85   0.0650 . \n",
       "PBC2        -1.11e-01   1.12e-01   -0.99   0.3216   \n",
       "PBC3R       -3.66e-03   5.19e-02   -0.07   0.9437   \n",
       "PBC4        -1.27e-02   1.11e-01   -0.12   0.9084   \n",
       "PBC5        -8.22e-02   7.38e-02   -1.11   0.2661   \n",
       "SN1          4.08e-02   1.03e-01    0.39   0.6933   \n",
       "SN2         -1.02e-01   1.04e-01   -0.97   0.3310   \n",
       "SN3         -2.25e-02   5.42e-02   -0.41   0.6786   \n",
       "SN4          1.01e-01   7.18e-02    1.41   0.1581   \n",
       "HabitC1      6.74e-02   8.87e-02    0.76   0.4474   \n",
       "HabitC2     -8.93e-02   4.26e-02   -2.10   0.0365 * \n",
       "HabitC3      6.36e-02   4.31e-02    1.48   0.1407   \n",
       "HabitC4      1.20e-02   4.01e-02    0.30   0.7645   \n",
       "HabitC5     -1.66e-02   3.91e-02   -0.42   0.6715   \n",
       "HabitC6     -4.51e-02   3.70e-02   -1.22   0.2239   \n",
       "HabitC7     -7.40e-03   4.43e-02   -0.17   0.8674   \n",
       "HabitE1      1.28e-02   1.64e-01    0.08   0.9377   \n",
       "HabitE2      1.07e-01   1.15e-01    0.93   0.3525   \n",
       "HabitE3     -1.98e-02   1.14e-01   -0.17   0.8620   \n",
       "---\n",
       "Signif. codes:  0 '***' 0.001 '**' 0.01 '*' 0.05 '.' 0.1 ' ' 1\n",
       "\n",
       "Residual standard error: 1.7 on 582 degrees of freedom\n",
       "Multiple R-squared:  0.199,\tAdjusted R-squared:  0.115 \n",
       "F-statistic: 2.37 on 61 and 582 DF,  p-value: 1.42e-07\n"
      ]
     },
     "metadata": {},
     "output_type": "display_data"
    }
   ],
   "source": [
    "fmlaF <- as.formula(paste(\"IncHomeS\",paste(IVS,collapse=\"+\"),sep=\"~\"));\n",
    "mod = lm(fmlaF,data=data2)\n",
    "summary(mod)"
   ]
  },
  {
   "cell_type": "code",
   "execution_count": null,
   "metadata": {
    "collapsed": true
   },
   "outputs": [],
   "source": []
  },
  {
   "cell_type": "code",
   "execution_count": 28,
   "metadata": {
    "collapsed": false
   },
   "outputs": [
    {
     "data": {
      "text/plain": [
       "\n",
       "Call:\n",
       "lm(formula = IncHomeS ~ ComfNS3 + Age + HabitC2 + Political + \n",
       "    Ethnic + Trust1, data = data2)\n",
       "\n",
       "Residuals:\n",
       "   Min     1Q Median     3Q    Max \n",
       "-4.518 -1.152 -0.131  1.015  4.526 \n",
       "\n",
       "Coefficients:\n",
       "            Estimate Std. Error t value Pr(>|t|)    \n",
       "(Intercept)  2.53367    0.43662    5.80  1.0e-08 ***\n",
       "ComfNS3      0.28415    0.03962    7.17  2.1e-12 ***\n",
       "Age          0.02216    0.00608    3.65  0.00029 ***\n",
       "HabitC2     -0.09861    0.03698   -2.67  0.00786 ** \n",
       "Political   -0.05255    0.03052   -1.72  0.08559 .  \n",
       "Ethnic       0.09676    0.05622    1.72  0.08571 .  \n",
       "Trust1       0.02235    0.04340    0.51  0.60675    \n",
       "---\n",
       "Signif. codes:  0 '***' 0.001 '**' 0.01 '*' 0.05 '.' 0.1 ' ' 1\n",
       "\n",
       "Residual standard error: 1.7 on 637 degrees of freedom\n",
       "Multiple R-squared:  0.114,\tAdjusted R-squared:  0.106 \n",
       "F-statistic: 13.7 on 6 and 637 DF,  p-value: 1.1e-14\n"
      ]
     },
     "metadata": {},
     "output_type": "display_data"
    }
   ],
   "source": [
    "#Probably overfitting\n",
    "mod1 = lm(IncHomeS~ComfNS3+Age+HabitC2+Political+Ethnic+Trust1,data=data2)\n",
    "summary(mod1)"
   ]
  },
  {
   "cell_type": "code",
   "execution_count": 29,
   "metadata": {
    "collapsed": false
   },
   "outputs": [
    {
     "ename": "ERROR",
     "evalue": "Error in parse(text = x, srcfile = src): <text>:1:24: unexpected '{'\n1: for (i in 1:length(IVS){\n                           ^\n",
     "output_type": "error",
     "traceback": [
      "Error in parse(text = x, srcfile = src): <text>:1:24: unexpected '{'\n1: for (i in 1:length(IVS){\n                           ^\nTraceback:\n"
     ]
    }
   ],
   "source": [
    "for (i in 1:length(IVS){\n",
    "  fmla <- as.formula(paste(IVS[i],paste(vnam[-c(1,i)],collapse=\"+\"),sep=\"~\"));\n",
    "  res <- rbind(res,c(i,round(summary(lm(fmla,data=data2))$r.squared,2)));\n",
    "}\n",
    "vnam <- (data2);\n",
    "fmlaF <- as.formula(paste(\"Age\",paste(IVS[-\"Age\"],collapse=\"+\"),sep=\"~\"));\n",
    "mod = lm(fmlaF,data=data2)\n",
    "summary(mod)"
   ]
  },
  {
   "cell_type": "code",
   "execution_count": null,
   "metadata": {
    "collapsed": true
   },
   "outputs": [],
   "source": [
    "ind <- 1:length(IVS);names(ind) <- IVS"
   ]
  },
  {
   "cell_type": "code",
   "execution_count": null,
   "metadata": {
    "collapsed": false
   },
   "outputs": [],
   "source": [
    "fmlaF <- as.formula(paste(\"Age\",paste(IVS[-ind[\"Age\"]],collapse=\"+\"),sep=\"~\"));\n",
    "mod = lm(fmlaF,data=data2)\n",
    "res <- summary(mod)$coefficients\n",
    "res[abs(res[,3])>3,]"
   ]
  },
  {
   "cell_type": "code",
   "execution_count": null,
   "metadata": {
    "collapsed": false
   },
   "outputs": [],
   "source": [
    "fmlaF <- as.formula(paste(\"ComfNS3\",paste(IVS[-ind[\"ComfNS3\"]],collapse=\"+\"),sep=\"~\"));\n",
    "mod = lm(fmlaF,data=data2)\n",
    "res <- summary(mod)$coefficients\n",
    "res[abs(res[,3])>3,]"
   ]
  },
  {
   "cell_type": "code",
   "execution_count": 30,
   "metadata": {
    "collapsed": false
   },
   "outputs": [
    {
     "data": {
      "image/png": "[encoded data removed]",
      "text/plain": [
       "plot without title"
      ]
     },
     "metadata": {},
     "output_type": "display_data"
    }
   ],
   "source": [
    "dd2 = data2[,c('IncHomeS', 'ComfNS3','Age','HabitC2',\"Gender\",\"OwnRent\",\"SqftCate\",\n",
    "               \"HouseholdS\",\"Atti3\",\"Atti4\",\"ComfNS1\",\"ComfNS2\")]\n",
    "for (i in 1:12) dd2[,i] <- as.double(dd2[,i])\n",
    "dag2 = tabu(dd2)\n",
    "plot(dag2)"
   ]
  },
  {
   "cell_type": "code",
   "execution_count": null,
   "metadata": {
    "collapsed": true
   },
   "outputs": [],
   "source": []
  }
 ],
 "metadata": {
  "kernelspec": {
   "display_name": "R",
   "language": "R",
   "name": "ir"
  },
  "language_info": {
   "codemirror_mode": "r",
   "file_extension": ".r",
   "mimetype": "text/x-r-source",
   "name": "R",
   "pygments_lexer": "r",
   "version": "3.3.1"
  }
 },
 "nbformat": 4,
 "nbformat_minor": 1
}
