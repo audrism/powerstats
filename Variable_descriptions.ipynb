{
 "cells": [
  {
   "cell_type": "code",
   "execution_count": 9,
   "metadata": {
    "collapsed": false
   },
   "outputs": [
    {
     "data": {
      "text/html": [
       "<ol class=list-inline>\n",
       "\t<li>'Age'</li>\n",
       "\t<li>'Atti'</li>\n",
       "\t<li>'Atti1'</li>\n",
       "\t<li>'Atti2'</li>\n",
       "\t<li>'Atti3'</li>\n",
       "\t<li>'Atti4'</li>\n",
       "\t<li>'Attitude'</li>\n",
       "\t<li>'AwayS'</li>\n",
       "\t<li>'AwayW'</li>\n",
       "\t<li>'BillS'</li>\n",
       "\t<li>'BillW'</li>\n",
       "\t<li>'CashYN'</li>\n",
       "\t<li>'ComfNS'</li>\n",
       "\t<li>'ComfNS1'</li>\n",
       "\t<li>'ComfNS2'</li>\n",
       "\t<li>'ComfNS3'</li>\n",
       "\t<li>'ComfNW'</li>\n",
       "\t<li>'ComfNW1'</li>\n",
       "\t<li>'ComfNW2'</li>\n",
       "\t<li>'ControlN1'</li>\n",
       "\t<li>'ControlN2R'</li>\n",
       "\t<li>'ControlN3'</li>\n",
       "\t<li>'ControlN4'</li>\n",
       "\t<li>'ConvB1'</li>\n",
       "\t<li>'ConvB2'</li>\n",
       "\t<li>'ConvB3'</li>\n",
       "\t<li>'ConvB4'</li>\n",
       "\t<li>'Educ'</li>\n",
       "\t<li>'EmerRForm'</li>\n",
       "\t<li>'EnergyC'</li>\n",
       "\t<li>'EnergyC1'</li>\n",
       "\t<li>'EnergyC2'</li>\n",
       "\t<li>'EnergyC3'</li>\n",
       "\t<li>'EnergyC4'</li>\n",
       "\t<li>'Ethnic'</li>\n",
       "\t<li>'Frugal1'</li>\n",
       "\t<li>'Frugal2'</li>\n",
       "\t<li>'Frugal3'</li>\n",
       "\t<li>'Gender'</li>\n",
       "\t<li>'HabitC'</li>\n",
       "\t<li>'HabitC1'</li>\n",
       "\t<li>'HabitC2'</li>\n",
       "\t<li>'HabitC3'</li>\n",
       "\t<li>'HabitC4'</li>\n",
       "\t<li>'HabitC5'</li>\n",
       "\t<li>'HabitC6'</li>\n",
       "\t<li>'HabitC7'</li>\n",
       "\t<li>'HabitE1'</li>\n",
       "\t<li>'HabitE2'</li>\n",
       "\t<li>'HabitE3'</li>\n",
       "\t<li>'HabitG'</li>\n",
       "\t<li>'HomeS'</li>\n",
       "\t<li>'HomeW'</li>\n",
       "\t<li>'HouseholdS'</li>\n",
       "\t<li>'IncAutoS'</li>\n",
       "\t<li>'IncAutoW'</li>\n",
       "\t<li>'IncAwayS'</li>\n",
       "\t<li>'IncAwayW'</li>\n",
       "\t<li>'IncDish'</li>\n",
       "\t<li>'IncEmer10S'</li>\n",
       "\t<li>'IncEmer10W'</li>\n",
       "\t<li>'IncEmer30S'</li>\n",
       "\t<li>'IncEmer30W'</li>\n",
       "\t<li>'IncHomeS'</li>\n",
       "\t<li>'IncHomeW'</li>\n",
       "\t<li>'Income'</li>\n",
       "\t<li>'IncWD'</li>\n",
       "\t<li>'INT'</li>\n",
       "\t<li>'INT1'</li>\n",
       "\t<li>'INT2'</li>\n",
       "\t<li>'INT3'</li>\n",
       "\t<li>'INT4'</li>\n",
       "\t<li>'Latitude'</li>\n",
       "\t<li>'MC'</li>\n",
       "\t<li>'MC1'</li>\n",
       "\t<li>'MC2'</li>\n",
       "\t<li>'MC3'</li>\n",
       "\t<li>'MC4'</li>\n",
       "\t<li>'MC5'</li>\n",
       "\t<li>'OwnRent'</li>\n",
       "\t<li>'PBC'</li>\n",
       "\t<li>'PBC1'</li>\n",
       "\t<li>'PBC2'</li>\n",
       "\t<li>'PBC3R'</li>\n",
       "\t<li>'PBC4'</li>\n",
       "\t<li>'PBC5'</li>\n",
       "\t<li>'Political'</li>\n",
       "\t<li>'ReasonNeg'</li>\n",
       "\t<li>'ReasonPos'</li>\n",
       "\t<li>'RewardForm'</li>\n",
       "\t<li>'SN'</li>\n",
       "\t<li>'SN1'</li>\n",
       "\t<li>'SN2'</li>\n",
       "\t<li>'SN3'</li>\n",
       "\t<li>'SN4'</li>\n",
       "\t<li>'Sqft'</li>\n",
       "\t<li>'SqftCate'</li>\n",
       "\t<li>'State'</li>\n",
       "\t<li>'SubNorm'</li>\n",
       "\t<li>'SubNorm1'</li>\n",
       "\t<li>'SubNorm2'</li>\n",
       "\t<li>'SubNorm3'</li>\n",
       "\t<li>'Summer_avg'</li>\n",
       "\t<li>'Summer_avgC'</li>\n",
       "\t<li>'Summer_avgF'</li>\n",
       "\t<li>'Trust1'</li>\n",
       "\t<li>'Trust2'</li>\n",
       "\t<li>'Trust3'</li>\n",
       "\t<li>'Trust4'</li>\n",
       "\t<li>'Winter_avg'</li>\n",
       "\t<li>'Winter_avgC'</li>\n",
       "\t<li>'Winter_avgF'</li>\n",
       "\t<li>'X.9to5'</li>\n",
       "</ol>\n"
      ],
      "text/latex": [
       "\\begin{enumerate*}\n",
       "\\item 'Age'\n",
       "\\item 'Atti'\n",
       "\\item 'Atti1'\n",
       "\\item 'Atti2'\n",
       "\\item 'Atti3'\n",
       "\\item 'Atti4'\n",
       "\\item 'Attitude'\n",
       "\\item 'AwayS'\n",
       "\\item 'AwayW'\n",
       "\\item 'BillS'\n",
       "\\item 'BillW'\n",
       "\\item 'CashYN'\n",
       "\\item 'ComfNS'\n",
       "\\item 'ComfNS1'\n",
       "\\item 'ComfNS2'\n",
       "\\item 'ComfNS3'\n",
       "\\item 'ComfNW'\n",
       "\\item 'ComfNW1'\n",
       "\\item 'ComfNW2'\n",
       "\\item 'ControlN1'\n",
       "\\item 'ControlN2R'\n",
       "\\item 'ControlN3'\n",
       "\\item 'ControlN4'\n",
       "\\item 'ConvB1'\n",
       "\\item 'ConvB2'\n",
       "\\item 'ConvB3'\n",
       "\\item 'ConvB4'\n",
       "\\item 'Educ'\n",
       "\\item 'EmerRForm'\n",
       "\\item 'EnergyC'\n",
       "\\item 'EnergyC1'\n",
       "\\item 'EnergyC2'\n",
       "\\item 'EnergyC3'\n",
       "\\item 'EnergyC4'\n",
       "\\item 'Ethnic'\n",
       "\\item 'Frugal1'\n",
       "\\item 'Frugal2'\n",
       "\\item 'Frugal3'\n",
       "\\item 'Gender'\n",
       "\\item 'HabitC'\n",
       "\\item 'HabitC1'\n",
       "\\item 'HabitC2'\n",
       "\\item 'HabitC3'\n",
       "\\item 'HabitC4'\n",
       "\\item 'HabitC5'\n",
       "\\item 'HabitC6'\n",
       "\\item 'HabitC7'\n",
       "\\item 'HabitE1'\n",
       "\\item 'HabitE2'\n",
       "\\item 'HabitE3'\n",
       "\\item 'HabitG'\n",
       "\\item 'HomeS'\n",
       "\\item 'HomeW'\n",
       "\\item 'HouseholdS'\n",
       "\\item 'IncAutoS'\n",
       "\\item 'IncAutoW'\n",
       "\\item 'IncAwayS'\n",
       "\\item 'IncAwayW'\n",
       "\\item 'IncDish'\n",
       "\\item 'IncEmer10S'\n",
       "\\item 'IncEmer10W'\n",
       "\\item 'IncEmer30S'\n",
       "\\item 'IncEmer30W'\n",
       "\\item 'IncHomeS'\n",
       "\\item 'IncHomeW'\n",
       "\\item 'Income'\n",
       "\\item 'IncWD'\n",
       "\\item 'INT'\n",
       "\\item 'INT1'\n",
       "\\item 'INT2'\n",
       "\\item 'INT3'\n",
       "\\item 'INT4'\n",
       "\\item 'Latitude'\n",
       "\\item 'MC'\n",
       "\\item 'MC1'\n",
       "\\item 'MC2'\n",
       "\\item 'MC3'\n",
       "\\item 'MC4'\n",
       "\\item 'MC5'\n",
       "\\item 'OwnRent'\n",
       "\\item 'PBC'\n",
       "\\item 'PBC1'\n",
       "\\item 'PBC2'\n",
       "\\item 'PBC3R'\n",
       "\\item 'PBC4'\n",
       "\\item 'PBC5'\n",
       "\\item 'Political'\n",
       "\\item 'ReasonNeg'\n",
       "\\item 'ReasonPos'\n",
       "\\item 'RewardForm'\n",
       "\\item 'SN'\n",
       "\\item 'SN1'\n",
       "\\item 'SN2'\n",
       "\\item 'SN3'\n",
       "\\item 'SN4'\n",
       "\\item 'Sqft'\n",
       "\\item 'SqftCate'\n",
       "\\item 'State'\n",
       "\\item 'SubNorm'\n",
       "\\item 'SubNorm1'\n",
       "\\item 'SubNorm2'\n",
       "\\item 'SubNorm3'\n",
       "\\item 'Summer\\_avg'\n",
       "\\item 'Summer\\_avgC'\n",
       "\\item 'Summer\\_avgF'\n",
       "\\item 'Trust1'\n",
       "\\item 'Trust2'\n",
       "\\item 'Trust3'\n",
       "\\item 'Trust4'\n",
       "\\item 'Winter\\_avg'\n",
       "\\item 'Winter\\_avgC'\n",
       "\\item 'Winter\\_avgF'\n",
       "\\item 'X.9to5'\n",
       "\\end{enumerate*}\n"
      ],
      "text/markdown": [
       "1. 'Age'\n",
       "2. 'Atti'\n",
       "3. 'Atti1'\n",
       "4. 'Atti2'\n",
       "5. 'Atti3'\n",
       "6. 'Atti4'\n",
       "7. 'Attitude'\n",
       "8. 'AwayS'\n",
       "9. 'AwayW'\n",
       "10. 'BillS'\n",
       "11. 'BillW'\n",
       "12. 'CashYN'\n",
       "13. 'ComfNS'\n",
       "14. 'ComfNS1'\n",
       "15. 'ComfNS2'\n",
       "16. 'ComfNS3'\n",
       "17. 'ComfNW'\n",
       "18. 'ComfNW1'\n",
       "19. 'ComfNW2'\n",
       "20. 'ControlN1'\n",
       "21. 'ControlN2R'\n",
       "22. 'ControlN3'\n",
       "23. 'ControlN4'\n",
       "24. 'ConvB1'\n",
       "25. 'ConvB2'\n",
       "26. 'ConvB3'\n",
       "27. 'ConvB4'\n",
       "28. 'Educ'\n",
       "29. 'EmerRForm'\n",
       "30. 'EnergyC'\n",
       "31. 'EnergyC1'\n",
       "32. 'EnergyC2'\n",
       "33. 'EnergyC3'\n",
       "34. 'EnergyC4'\n",
       "35. 'Ethnic'\n",
       "36. 'Frugal1'\n",
       "37. 'Frugal2'\n",
       "38. 'Frugal3'\n",
       "39. 'Gender'\n",
       "40. 'HabitC'\n",
       "41. 'HabitC1'\n",
       "42. 'HabitC2'\n",
       "43. 'HabitC3'\n",
       "44. 'HabitC4'\n",
       "45. 'HabitC5'\n",
       "46. 'HabitC6'\n",
       "47. 'HabitC7'\n",
       "48. 'HabitE1'\n",
       "49. 'HabitE2'\n",
       "50. 'HabitE3'\n",
       "51. 'HabitG'\n",
       "52. 'HomeS'\n",
       "53. 'HomeW'\n",
       "54. 'HouseholdS'\n",
       "55. 'IncAutoS'\n",
       "56. 'IncAutoW'\n",
       "57. 'IncAwayS'\n",
       "58. 'IncAwayW'\n",
       "59. 'IncDish'\n",
       "60. 'IncEmer10S'\n",
       "61. 'IncEmer10W'\n",
       "62. 'IncEmer30S'\n",
       "63. 'IncEmer30W'\n",
       "64. 'IncHomeS'\n",
       "65. 'IncHomeW'\n",
       "66. 'Income'\n",
       "67. 'IncWD'\n",
       "68. 'INT'\n",
       "69. 'INT1'\n",
       "70. 'INT2'\n",
       "71. 'INT3'\n",
       "72. 'INT4'\n",
       "73. 'Latitude'\n",
       "74. 'MC'\n",
       "75. 'MC1'\n",
       "76. 'MC2'\n",
       "77. 'MC3'\n",
       "78. 'MC4'\n",
       "79. 'MC5'\n",
       "80. 'OwnRent'\n",
       "81. 'PBC'\n",
       "82. 'PBC1'\n",
       "83. 'PBC2'\n",
       "84. 'PBC3R'\n",
       "85. 'PBC4'\n",
       "86. 'PBC5'\n",
       "87. 'Political'\n",
       "88. 'ReasonNeg'\n",
       "89. 'ReasonPos'\n",
       "90. 'RewardForm'\n",
       "91. 'SN'\n",
       "92. 'SN1'\n",
       "93. 'SN2'\n",
       "94. 'SN3'\n",
       "95. 'SN4'\n",
       "96. 'Sqft'\n",
       "97. 'SqftCate'\n",
       "98. 'State'\n",
       "99. 'SubNorm'\n",
       "100. 'SubNorm1'\n",
       "101. 'SubNorm2'\n",
       "102. 'SubNorm3'\n",
       "103. 'Summer_avg'\n",
       "104. 'Summer_avgC'\n",
       "105. 'Summer_avgF'\n",
       "106. 'Trust1'\n",
       "107. 'Trust2'\n",
       "108. 'Trust3'\n",
       "109. 'Trust4'\n",
       "110. 'Winter_avg'\n",
       "111. 'Winter_avgC'\n",
       "112. 'Winter_avgF'\n",
       "113. 'X.9to5'\n",
       "\n",
       "\n"
      ],
      "text/plain": [
       "  [1] \"Age\"         \"Atti\"        \"Atti1\"       \"Atti2\"       \"Atti3\"      \n",
       "  [6] \"Atti4\"       \"Attitude\"    \"AwayS\"       \"AwayW\"       \"BillS\"      \n",
       " [11] \"BillW\"       \"CashYN\"      \"ComfNS\"      \"ComfNS1\"     \"ComfNS2\"    \n",
       " [16] \"ComfNS3\"     \"ComfNW\"      \"ComfNW1\"     \"ComfNW2\"     \"ControlN1\"  \n",
       " [21] \"ControlN2R\"  \"ControlN3\"   \"ControlN4\"   \"ConvB1\"      \"ConvB2\"     \n",
       " [26] \"ConvB3\"      \"ConvB4\"      \"Educ\"        \"EmerRForm\"   \"EnergyC\"    \n",
       " [31] \"EnergyC1\"    \"EnergyC2\"    \"EnergyC3\"    \"EnergyC4\"    \"Ethnic\"     \n",
       " [36] \"Frugal1\"     \"Frugal2\"     \"Frugal3\"     \"Gender\"      \"HabitC\"     \n",
       " [41] \"HabitC1\"     \"HabitC2\"     \"HabitC3\"     \"HabitC4\"     \"HabitC5\"    \n",
       " [46] \"HabitC6\"     \"HabitC7\"     \"HabitE1\"     \"HabitE2\"     \"HabitE3\"    \n",
       " [51] \"HabitG\"      \"HomeS\"       \"HomeW\"       \"HouseholdS\"  \"IncAutoS\"   \n",
       " [56] \"IncAutoW\"    \"IncAwayS\"    \"IncAwayW\"    \"IncDish\"     \"IncEmer10S\" \n",
       " [61] \"IncEmer10W\"  \"IncEmer30S\"  \"IncEmer30W\"  \"IncHomeS\"    \"IncHomeW\"   \n",
       " [66] \"Income\"      \"IncWD\"       \"INT\"         \"INT1\"        \"INT2\"       \n",
       " [71] \"INT3\"        \"INT4\"        \"Latitude\"    \"MC\"          \"MC1\"        \n",
       " [76] \"MC2\"         \"MC3\"         \"MC4\"         \"MC5\"         \"OwnRent\"    \n",
       " [81] \"PBC\"         \"PBC1\"        \"PBC2\"        \"PBC3R\"       \"PBC4\"       \n",
       " [86] \"PBC5\"        \"Political\"   \"ReasonNeg\"   \"ReasonPos\"   \"RewardForm\" \n",
       " [91] \"SN\"          \"SN1\"         \"SN2\"         \"SN3\"         \"SN4\"        \n",
       " [96] \"Sqft\"        \"SqftCate\"    \"State\"       \"SubNorm\"     \"SubNorm1\"   \n",
       "[101] \"SubNorm2\"    \"SubNorm3\"    \"Summer_avg\"  \"Summer_avgC\" \"Summer_avgF\"\n",
       "[106] \"Trust1\"      \"Trust2\"      \"Trust3\"      \"Trust4\"      \"Winter_avg\" \n",
       "[111] \"Winter_avgC\" \"Winter_avgF\" \"X.9to5\"     "
      ]
     },
     "metadata": {},
     "output_type": "display_data"
    },
    {
     "data": {
      "text/plain": [
       "\n",
       "  1   2   3   4   5   6   7   8 \n",
       " 75  57 145 253  66  68  57  42 "
      ]
     },
     "metadata": {},
     "output_type": "display_data"
    }
   ],
   "source": [
    "options(digits=2);\n",
    "# Read in the data\n",
    "survey <- read.csv(\"DR_Survey2_Share_Complete.csv\",header=T);\n",
    "#populate missing values\n",
    "survey$IncHomeS[survey$IncHomeS==99] = NA;\n",
    "survey$IncAwayS[survey$IncAwayS==99] = NA;\n",
    "data <- survey[,-c(1:7)];\n",
    "\n",
    "#We investigate only use people who use A/C when being at home in summer\n",
    "data1 <- data[,-which(names(data) %in% c(\"HomeWYN\",\"AwayWNY\",\"HomeSYN\",\"AwaySNY\",\"City\",\"Utility\",\n",
    "    \"NBillS\",\"NBillW\",\"valid1\",\"valid2\",\"valid\",\"Trust\",\n",
    "    \"MCG\", \"MCBill\",\"Frugal\",\"ComfortS\",\"ComfortW\",\"SubN\",\"ACYN\",\"HeatYN\",\n",
    "    \"Longitude\", \"Job\",\"hot\",\"cold\"))];\n",
    "\n",
    "sort(names(data1))\n",
    "#tmp <- cbind(INT1=data1$INT1,INT2=data1$INT2,INT3=data1$INT3)\n",
    "#data1$INT <- rowMeans(tmp)\n",
    "table(data1$IncHomeS)"
   ]
  },
  {
   "cell_type": "code",
   "execution_count": 10,
   "metadata": {
    "collapsed": false
   },
   "outputs": [
    {
     "data": {
      "text/plain": [
       "   Min. 1st Qu.  Median    Mean 3rd Qu.    Max.    NA's \n",
       "     18      26      32      35      43      72       4 "
      ]
     },
     "metadata": {},
     "output_type": "display_data"
    },
    {
     "data": {
      "text/html": [
       "11.2483794120613"
      ],
      "text/latex": [
       "11.2483794120613"
      ],
      "text/markdown": [
       "11.2483794120613"
      ],
      "text/plain": [
       "[1] 11"
      ]
     },
     "metadata": {},
     "output_type": "display_data"
    },
    {
     "data": {
      "text/plain": [
       "   Min. 1st Qu.  Median    Mean 3rd Qu.    Max.    NA's \n",
       "    1.0     1.0     1.0     1.5     2.0     4.0       2 "
      ]
     },
     "metadata": {},
     "output_type": "display_data"
    },
    {
     "data": {
      "text/html": [
       "0.516989204352451"
      ],
      "text/latex": [
       "0.516989204352451"
      ],
      "text/markdown": [
       "0.516989204352451"
      ],
      "text/plain": [
       "[1] 0.52"
      ]
     },
     "metadata": {},
     "output_type": "display_data"
    },
    {
     "data": {
      "text/plain": [
       "   Min. 1st Qu.  Median    Mean 3rd Qu.    Max.    NA's \n",
       "    1.0     1.8     2.0     2.5     4.0     4.0       2 "
      ]
     },
     "metadata": {},
     "output_type": "display_data"
    },
    {
     "data": {
      "text/html": [
       "1.12412793019297"
      ],
      "text/latex": [
       "1.12412793019297"
      ],
      "text/markdown": [
       "1.12412793019297"
      ],
      "text/plain": [
       "[1] 1.1"
      ]
     },
     "metadata": {},
     "output_type": "display_data"
    },
    {
     "data": {
      "text/plain": [
       "   Min. 1st Qu.  Median    Mean 3rd Qu.    Max.    NA's \n",
       "    1.0     4.0     5.0     5.2     7.0    10.0       5 "
      ]
     },
     "metadata": {},
     "output_type": "display_data"
    },
    {
     "data": {
      "text/html": [
       "1.98125630561217"
      ],
      "text/latex": [
       "1.98125630561217"
      ],
      "text/markdown": [
       "1.98125630561217"
      ],
      "text/plain": [
       "[1] 2"
      ]
     },
     "metadata": {},
     "output_type": "display_data"
    },
    {
     "data": {
      "text/plain": [
       "   Min. 1st Qu.  Median    Mean 3rd Qu.    Max.    NA's \n",
       "    1.0     2.0     4.0     3.4     4.0     6.0       7 "
      ]
     },
     "metadata": {},
     "output_type": "display_data"
    },
    {
     "data": {
      "text/html": [
       "1.12417219843483"
      ],
      "text/latex": [
       "1.12417219843483"
      ],
      "text/markdown": [
       "1.12417219843483"
      ],
      "text/plain": [
       "[1] 1.1"
      ]
     },
     "metadata": {},
     "output_type": "display_data"
    },
    {
     "data": {
      "text/plain": [
       "   Min. 1st Qu.  Median    Mean 3rd Qu.    Max. \n",
       "    1.0     4.3     5.3     5.2     6.0     7.0 "
      ]
     },
     "metadata": {},
     "output_type": "display_data"
    },
    {
     "data": {
      "text/html": [
       "1.39180775783007"
      ],
      "text/latex": [
       "1.39180775783007"
      ],
      "text/markdown": [
       "1.39180775783007"
      ],
      "text/plain": [
       "[1] 1.4"
      ]
     },
     "metadata": {},
     "output_type": "display_data"
    },
    {
     "data": {
      "text/plain": [
       "   Min. 1st Qu.  Median    Mean 3rd Qu.    Max. \n",
       "    1.0     5.5     6.2     6.0     7.0     7.0 "
      ]
     },
     "metadata": {},
     "output_type": "display_data"
    },
    {
     "data": {
      "text/html": [
       "1.09077170286463"
      ],
      "text/latex": [
       "1.09077170286463"
      ],
      "text/markdown": [
       "1.09077170286463"
      ],
      "text/plain": [
       "[1] 1.1"
      ]
     },
     "metadata": {},
     "output_type": "display_data"
    },
    {
     "data": {
      "text/plain": [
       "   Min. 1st Qu.  Median    Mean 3rd Qu.    Max.    NA's \n",
       "    2.5     5.0     5.8     5.7     6.2     7.0       1 "
      ]
     },
     "metadata": {},
     "output_type": "display_data"
    },
    {
     "data": {
      "text/html": [
       "0.946960382419621"
      ],
      "text/latex": [
       "0.946960382419621"
      ],
      "text/markdown": [
       "0.946960382419621"
      ],
      "text/plain": [
       "[1] 0.95"
      ]
     },
     "metadata": {},
     "output_type": "display_data"
    },
    {
     "data": {
      "text/plain": [
       "   Min. 1st Qu.  Median    Mean 3rd Qu.    Max. \n",
       "    1.0     5.0     5.7     5.6     6.3     7.0 "
      ]
     },
     "metadata": {},
     "output_type": "display_data"
    },
    {
     "data": {
      "text/html": [
       "1.08732142281166"
      ],
      "text/latex": [
       "1.08732142281166"
      ],
      "text/markdown": [
       "1.08732142281166"
      ],
      "text/plain": [
       "[1] 1.1"
      ]
     },
     "metadata": {},
     "output_type": "display_data"
    },
    {
     "data": {
      "text/plain": [
       "   Min. 1st Qu.  Median    Mean 3rd Qu.    Max. \n",
       "    1.0     4.0     5.0     4.9     6.0     7.0 "
      ]
     },
     "metadata": {},
     "output_type": "display_data"
    },
    {
     "data": {
      "text/html": [
       "1.63771035457587"
      ],
      "text/latex": [
       "1.63771035457587"
      ],
      "text/markdown": [
       "1.63771035457587"
      ],
      "text/plain": [
       "[1] 1.6"
      ]
     },
     "metadata": {},
     "output_type": "display_data"
    },
    {
     "data": {
      "text/plain": [
       "   Min. 1st Qu.  Median    Mean 3rd Qu.    Max. \n",
       "    1.0     3.0     4.0     3.9     4.7     7.0 "
      ]
     },
     "metadata": {},
     "output_type": "display_data"
    },
    {
     "data": {
      "text/html": [
       "1.34079867664777"
      ],
      "text/latex": [
       "1.34079867664777"
      ],
      "text/markdown": [
       "1.34079867664777"
      ],
      "text/plain": [
       "[1] 1.3"
      ]
     },
     "metadata": {},
     "output_type": "display_data"
    },
    {
     "data": {
      "text/plain": [
       "   Min. 1st Qu.  Median    Mean 3rd Qu.    Max.    NA's \n",
       "    1.0     4.0     5.0     5.1     6.3     8.0       1 "
      ]
     },
     "metadata": {},
     "output_type": "display_data"
    },
    {
     "data": {
      "text/html": [
       "1.52408255322381"
      ],
      "text/latex": [
       "1.52408255322381"
      ],
      "text/markdown": [
       "1.52408255322381"
      ],
      "text/plain": [
       "[1] 1.5"
      ]
     },
     "metadata": {},
     "output_type": "display_data"
    }
   ],
   "source": [
    "summary(data1$Age)\n",
    "sd(data1$Age, na.rm = TRUE)\n",
    "\n",
    "summary(data1$OwnRent)\n",
    "sd(data1$OwnRent, na.rm = TRUE)\n",
    "\n",
    "summary(data1$SqftCate)\n",
    "sd(data1$SqftCate, na.rm = TRUE)\n",
    "\n",
    "summary(data1$Income)\n",
    "sd(data1$Income, na.rm = TRUE)\n",
    "\n",
    "summary(data1$Educ)\n",
    "sd(data1$Educ, na.rm = TRUE)\n",
    "\n",
    "summary(data1$EnergyC)\n",
    "sd(data1$EnergyC, na.rm = TRUE)\n",
    "\n",
    "summary(data1$Attitude)\n",
    "sd(data1$Attitude, na.rm = TRUE)\n",
    "\n",
    "summary(data1$PBC)\n",
    "sd(data1$PBC, na.rm = TRUE)\n",
    "\n",
    "summary(data1$MC)\n",
    "sd(data1$MC, na.rm = TRUE)\n",
    "\n",
    "summary(data1$ComfNS)\n",
    "sd(data1$ComfNS, na.rm = TRUE)\n",
    "\n",
    "summary(data1$SubNorm)\n",
    "sd(data1$SubNorm, na.rm = TRUE)\n",
    "\n",
    "summary(data1$HabitC)\n",
    "sd(data1$HabitC, na.rm = TRUE)"
   ]
  },
  {
   "cell_type": "code",
   "execution_count": 11,
   "metadata": {
    "collapsed": false
   },
   "outputs": [
    {
     "data": {
      "image/png": "[encoded data removed]",
      "text/plain": [
       "plot without title"
      ]
     },
     "metadata": {},
     "output_type": "display_data"
    }
   ],
   "source": [
    "barplot(table(data1$IncHomeS))"
   ]
  },
  {
   "cell_type": "code",
   "execution_count": 12,
   "metadata": {
    "collapsed": false
   },
   "outputs": [
    {
     "data": {
      "text/html": [
       "<strong>png:</strong> 2"
      ],
      "text/latex": [
       "\\textbf{png:} 2"
      ],
      "text/markdown": [
       "**png:** 2"
      ],
      "text/plain": [
       "png \n",
       "  2 "
      ]
     },
     "metadata": {},
     "output_type": "display_data"
    },
    {
     "data": {
      "text/html": [
       "<strong>png:</strong> 2"
      ],
      "text/latex": [
       "\\textbf{png:} 2"
      ],
      "text/markdown": [
       "**png:** 2"
      ],
      "text/plain": [
       "png \n",
       "  2 "
      ]
     },
     "metadata": {},
     "output_type": "display_data"
    },
    {
     "data": {
      "text/html": [
       "<strong>png:</strong> 2"
      ],
      "text/latex": [
       "\\textbf{png:} 2"
      ],
      "text/markdown": [
       "**png:** 2"
      ],
      "text/plain": [
       "png \n",
       "  2 "
      ]
     },
     "metadata": {},
     "output_type": "display_data"
    },
    {
     "data": {
      "text/html": [
       "<strong>png:</strong> 2"
      ],
      "text/latex": [
       "\\textbf{png:} 2"
      ],
      "text/markdown": [
       "**png:** 2"
      ],
      "text/plain": [
       "png \n",
       "  2 "
      ]
     },
     "metadata": {},
     "output_type": "display_data"
    },
    {
     "data": {
      "text/html": [
       "<strong>png:</strong> 2"
      ],
      "text/latex": [
       "\\textbf{png:} 2"
      ],
      "text/markdown": [
       "**png:** 2"
      ],
      "text/plain": [
       "png \n",
       "  2 "
      ]
     },
     "metadata": {},
     "output_type": "display_data"
    },
    {
     "data": {
      "text/html": [
       "<strong>png:</strong> 2"
      ],
      "text/latex": [
       "\\textbf{png:} 2"
      ],
      "text/markdown": [
       "**png:** 2"
      ],
      "text/plain": [
       "png \n",
       "  2 "
      ]
     },
     "metadata": {},
     "output_type": "display_data"
    },
    {
     "data": {
      "text/html": [
       "<strong>png:</strong> 2"
      ],
      "text/latex": [
       "\\textbf{png:} 2"
      ],
      "text/markdown": [
       "**png:** 2"
      ],
      "text/plain": [
       "png \n",
       "  2 "
      ]
     },
     "metadata": {},
     "output_type": "display_data"
    },
    {
     "data": {
      "text/html": [
       "<strong>png:</strong> 2"
      ],
      "text/latex": [
       "\\textbf{png:} 2"
      ],
      "text/markdown": [
       "**png:** 2"
      ],
      "text/plain": [
       "png \n",
       "  2 "
      ]
     },
     "metadata": {},
     "output_type": "display_data"
    },
    {
     "data": {
      "text/html": [
       "<strong>png:</strong> 2"
      ],
      "text/latex": [
       "\\textbf{png:} 2"
      ],
      "text/markdown": [
       "**png:** 2"
      ],
      "text/plain": [
       "png \n",
       "  2 "
      ]
     },
     "metadata": {},
     "output_type": "display_data"
    },
    {
     "data": {
      "text/html": [
       "<strong>png:</strong> 2"
      ],
      "text/latex": [
       "\\textbf{png:} 2"
      ],
      "text/markdown": [
       "**png:** 2"
      ],
      "text/plain": [
       "png \n",
       "  2 "
      ]
     },
     "metadata": {},
     "output_type": "display_data"
    },
    {
     "data": {
      "text/html": [
       "<strong>png:</strong> 2"
      ],
      "text/latex": [
       "\\textbf{png:} 2"
      ],
      "text/markdown": [
       "**png:** 2"
      ],
      "text/plain": [
       "png \n",
       "  2 "
      ]
     },
     "metadata": {},
     "output_type": "display_data"
    }
   ],
   "source": [
    "png('graphs/summer_home.png')\n",
    "barplot(table(data1$IncHomeS),main=\"Lower 2-3 degrees while home\")\n",
    "dev.off()\n",
    "\n",
    "png('graphs/summer_away.png')\n",
    "barplot(table(data1$IncAwayS),main=\"Lower 5 degrees or turn off while away\")\n",
    "dev.off()\n",
    "\n",
    "png('graphs/washer_dryer.png')\n",
    "barplot(table(data1$IncWD),main=\"Move washer and dryer usage to off peak hours\")\n",
    "dev.off()\n",
    "\n",
    "png('graphs/intentions.png')\n",
    "barplot(table(data1$INT),main=\"Intention to save energy\")\n",
    "dev.off()\n",
    "\n",
    "png('graphs/PBC.png')\n",
    "barplot(table(data1$PBC),main=\"Perceived behavioral control\")\n",
    "dev.off()\n",
    "\n",
    "png('graphs/attitude.png')\n",
    "barplot(table(data1$Atti),main=\"Attitude towards energy saving\")\n",
    "dev.off()\n",
    "\n",
    "png('graphs/subnorm.png')\n",
    "barplot(table(data1$SubNorm),main=\"Subjective norm\")\n",
    "dev.off()\n",
    "\n",
    "png('graphs/energyc.png')\n",
    "barplot(table(data1$EnergyC),main=\"Energy environmental concern\")\n",
    "dev.off()\n",
    "\n",
    "png('graphs/moneyc.png')\n",
    "barplot(table(data1$MC),main=\"Electricity cost concern\")\n",
    "dev.off()\n",
    "\n",
    "png('graphs/habitc.png')\n",
    "barplot(table(data1$HabitC),main=\"Energy saving habits\")\n",
    "dev.off()\n",
    "\n",
    "png('graphs/comfort_needs.png')\n",
    "barplot(table(data1$ComfNS),main=\"Comfort needs\")\n",
    "dev.off()"
   ]
  },
  {
   "cell_type": "code",
   "execution_count": 2,
   "metadata": {
    "collapsed": false
   },
   "outputs": [
    {
     "name": "stdout",
     "output_type": "stream",
     "text": [
      "[1] \"Age\" \"4\"  \n",
      "[1] \"OwnRent\" \"2\"      \n",
      "[1] \"SqftCate\" \"2\"       \n",
      "[1] \"Income\" \"5\"     \n",
      "[1] \"Educ\" \"7\"   \n"
     ]
    }
   ],
   "source": [
    "#IncHomeS, IncAwayS, IncWD, Age, Income, Educ, OwnRent, SqftCate, EnergyC, MC, ComfNS, HabitC, PBC, SubNorm, Attitude\n",
    "model <- data1[,which(names(data1) %in% c(\"Age\",\"Income\",\"Educ\",\"OwnRent\",\"SqftCate\",\n",
    "                                         \"EnergyC\",\"MC\",\"ComfNS\",\"HabitC\",\"PBC\",\"SubNorm\",\"Attitude\"))]\n",
    "#model\n",
    "\n",
    "for (n in names(model)){\n",
    "    nmis = sum(is.na(model[,n]))\n",
    "    if(nmis >1)  print (c(n, sum(is.na(model[,n]))))\n",
    "}\n",
    "    \n",
    "model <- na.omit(model)\n",
    "\n",
    "for (n in names(model)){\n",
    "    nmis = sum(is.na(model[,n]))\n",
    "    if(nmis >1)  print (c(n, sum(is.na(model[,n]))))\n",
    "}"
   ]
  },
  {
   "cell_type": "code",
   "execution_count": 3,
   "metadata": {
    "collapsed": false
   },
   "outputs": [
    {
     "data": {
      "text/html": [
       "<table>\n",
       "<thead><tr><th></th><th scope=col>Age</th><th scope=col>OwnRent</th><th scope=col>SqftCate</th><th scope=col>Income</th><th scope=col>Educ</th><th scope=col>EnergyC</th><th scope=col>Attitude</th><th scope=col>PBC</th><th scope=col>MC</th><th scope=col>ComfNS</th><th scope=col>SubNorm</th><th scope=col>HabitC</th></tr></thead>\n",
       "<tbody>\n",
       "\t<tr><th scope=row>Age</th><td>1</td><td> </td><td> </td><td> </td><td> </td><td> </td><td> </td><td> </td><td> </td><td> </td><td> </td><td> </td></tr>\n",
       "\t<tr><th scope=row>OwnRent</th><td>0.368856520179533</td><td>1                </td><td>                 </td><td>                 </td><td>                 </td><td>                 </td><td>                 </td><td>                 </td><td>                 </td><td>                 </td><td>                 </td><td>                 </td></tr>\n",
       "\t<tr><th scope=row>SqftCate</th><td>0.276071347171836</td><td>0.48529586773381 </td><td>1                </td><td>                 </td><td>                 </td><td>                 </td><td>                 </td><td>                 </td><td>                 </td><td>                 </td><td>                 </td><td>                 </td></tr>\n",
       "\t<tr><th scope=row>Income</th><td>0.182583367080747</td><td>0.33946424111393 </td><td>0.355395432359381</td><td>1                </td><td>                 </td><td>                 </td><td>                 </td><td>                 </td><td>                 </td><td>                 </td><td>                 </td><td>                 </td></tr>\n",
       "\t<tr><th scope=row>Educ</th><td>0.148103348868273  </td><td>0.0675380268166493 </td><td>0.00554631386915633</td><td>0.247585295183406  </td><td>1                  </td><td>                   </td><td>                   </td><td>                   </td><td>                   </td><td>                   </td><td>                   </td><td>                   </td></tr>\n",
       "\t<tr><th scope=row>EnergyC</th><td>-0.0166767759214103</td><td>-0.0731261360544894</td><td>-0.0955817266084428</td><td>-0.0950712242975889</td><td>0.14111148126837   </td><td>1                  </td><td>                   </td><td>                   </td><td>                   </td><td>                   </td><td>                   </td><td>                   </td></tr>\n",
       "\t<tr><th scope=row>Attitude</th><td>0.0717658588757512  </td><td>-0.00760035794887058</td><td>-0.0136660797590906 </td><td>-0.0609810391288798 </td><td>0.0837651462693148  </td><td>0.571150502415223   </td><td>1                   </td><td>                    </td><td>                    </td><td>                    </td><td>                    </td><td>                    </td></tr>\n",
       "\t<tr><th scope=row>PBC</th><td>0.042106895110817   </td><td>-0.0110792565609716 </td><td>-0.0630783195997467 </td><td>-0.0788717463400438 </td><td>-0.00251027279341048</td><td>0.152716525451614   </td><td>0.273626064521451   </td><td>1                   </td><td>                    </td><td>                    </td><td>                    </td><td>                    </td></tr>\n",
       "\t<tr><th scope=row>MC</th><td>0.0562332512013021 </td><td>0.0477316892342926 </td><td>-0.0107820516034209</td><td>-0.0436178488816162</td><td>0.0786491720521455 </td><td>0.273769491753221  </td><td>0.404691826422637  </td><td>0.311123536792911  </td><td>1                  </td><td>                   </td><td>                   </td><td>                   </td></tr>\n",
       "\t<tr><th scope=row>ComfNS</th><td>0.0600530200970348 </td><td>0.012508565767688  </td><td>0.0484914178883823 </td><td>0.0207733329098668 </td><td>-0.0970267740202454</td><td>-0.179640106877824 </td><td>-0.147079801656012 </td><td>0.0253896018737507 </td><td>-0.0881773576840549</td><td>1                  </td><td>                   </td><td>                   </td></tr>\n",
       "\t<tr><th scope=row>SubNorm</th><td>-0.0390424141554672</td><td>-0.0607622476748242</td><td>-0.0298064681842728</td><td>-0.0473340568764348</td><td>0.132682859115151  </td><td>0.341602745914503  </td><td>0.339981280823768  </td><td>0.174875707708294  </td><td>0.249507276905033  </td><td>-0.113768625538504 </td><td>1                  </td><td>                   </td></tr>\n",
       "\t<tr><th scope=row>HabitC</th><td>0.0424404277981123</td><td>0.0410949676601935</td><td>0.0178622750253089</td><td>0.0117155226664645</td><td>0.118589298871676 </td><td>0.188694940280909 </td><td>0.235444889410493 </td><td>0.14700806769687  </td><td>0.220033192536616 </td><td>-0.26508912327972 </td><td>0.259654217939724 </td><td>1                 </td></tr>\n",
       "</tbody>\n",
       "</table>\n"
      ],
      "text/latex": [
       "\\begin{tabular}{r|llllllllllll}\n",
       "  & Age & OwnRent & SqftCate & Income & Educ & EnergyC & Attitude & PBC & MC & ComfNS & SubNorm & HabitC\\\\\n",
       "\\hline\n",
       "\tAge & 1 &   &   &   &   &   &   &   &   &   &   &  \\\\\n",
       "\tOwnRent & 0.368856520179533 & 1                 &                   &                   &                   &                   &                   &                   &                   &                   &                   &                  \\\\\n",
       "\tSqftCate & 0.276071347171836 & 0.48529586773381  & 1                 &                   &                   &                   &                   &                   &                   &                   &                   &                  \\\\\n",
       "\tIncome & 0.182583367080747 & 0.33946424111393  & 0.355395432359381 & 1                 &                   &                   &                   &                   &                   &                   &                   &                  \\\\\n",
       "\tEduc & 0.148103348868273   & 0.0675380268166493  & 0.00554631386915633 & 0.247585295183406   & 1                   &                     &                     &                     &                     &                     &                     &                    \\\\\n",
       "\tEnergyC & -0.0166767759214103 & -0.0731261360544894 & -0.0955817266084428 & -0.0950712242975889 & 0.14111148126837    & 1                   &                     &                     &                     &                     &                     &                    \\\\\n",
       "\tAttitude & 0.0717658588757512   & -0.00760035794887058 & -0.0136660797590906  & -0.0609810391288798  & 0.0837651462693148   & 0.571150502415223    & 1                    &                      &                      &                      &                      &                     \\\\\n",
       "\tPBC & 0.042106895110817    & -0.0110792565609716  & -0.0630783195997467  & -0.0788717463400438  & -0.00251027279341048 & 0.152716525451614    & 0.273626064521451    & 1                    &                      &                      &                      &                     \\\\\n",
       "\tMC & 0.0562332512013021  & 0.0477316892342926  & -0.0107820516034209 & -0.0436178488816162 & 0.0786491720521455  & 0.273769491753221   & 0.404691826422637   & 0.311123536792911   & 1                   &                     &                     &                    \\\\\n",
       "\tComfNS & 0.0600530200970348  & 0.012508565767688   & 0.0484914178883823  & 0.0207733329098668  & -0.0970267740202454 & -0.179640106877824  & -0.147079801656012  & 0.0253896018737507  & -0.0881773576840549 & 1                   &                     &                    \\\\\n",
       "\tSubNorm & -0.0390424141554672 & -0.0607622476748242 & -0.0298064681842728 & -0.0473340568764348 & 0.132682859115151   & 0.341602745914503   & 0.339981280823768   & 0.174875707708294   & 0.249507276905033   & -0.113768625538504  & 1                   &                    \\\\\n",
       "\tHabitC & 0.0424404277981123 & 0.0410949676601935 & 0.0178622750253089 & 0.0117155226664645 & 0.118589298871676  & 0.188694940280909  & 0.235444889410493  & 0.14700806769687   & 0.220033192536616  & -0.26508912327972  & 0.259654217939724  & 1                 \\\\\n",
       "\\end{tabular}\n"
      ],
      "text/markdown": [
       "1. '1'\n",
       "2. '0.368856520179533'\n",
       "3. '0.276071347171836'\n",
       "4. '0.182583367080747'\n",
       "5. '0.148103348868273'\n",
       "6. '-0.0166767759214103'\n",
       "7. '0.0717658588757512'\n",
       "8. '0.042106895110817'\n",
       "9. '0.0562332512013021'\n",
       "10. '0.0600530200970348'\n",
       "11. '-0.0390424141554672'\n",
       "12. '0.0424404277981123'\n",
       "13. ''\n",
       "14. '1'\n",
       "15. '0.48529586773381'\n",
       "16. '0.33946424111393'\n",
       "17. '0.0675380268166493'\n",
       "18. '-0.0731261360544894'\n",
       "19. '-0.00760035794887058'\n",
       "20. '-0.0110792565609716'\n",
       "21. '0.0477316892342926'\n",
       "22. '0.012508565767688'\n",
       "23. '-0.0607622476748242'\n",
       "24. '0.0410949676601935'\n",
       "25. ''\n",
       "26. ''\n",
       "27. '1'\n",
       "28. '0.355395432359381'\n",
       "29. '0.00554631386915633'\n",
       "30. '-0.0955817266084428'\n",
       "31. '-0.0136660797590906'\n",
       "32. '-0.0630783195997467'\n",
       "33. '-0.0107820516034209'\n",
       "34. '0.0484914178883823'\n",
       "35. '-0.0298064681842728'\n",
       "36. '0.0178622750253089'\n",
       "37. ''\n",
       "38. ''\n",
       "39. ''\n",
       "40. '1'\n",
       "41. '0.247585295183406'\n",
       "42. '-0.0950712242975889'\n",
       "43. '-0.0609810391288798'\n",
       "44. '-0.0788717463400438'\n",
       "45. '-0.0436178488816162'\n",
       "46. '0.0207733329098668'\n",
       "47. '-0.0473340568764348'\n",
       "48. '0.0117155226664645'\n",
       "49. ''\n",
       "50. ''\n",
       "51. ''\n",
       "52. ''\n",
       "53. '1'\n",
       "54. '0.14111148126837'\n",
       "55. '0.0837651462693148'\n",
       "56. '-0.00251027279341048'\n",
       "57. '0.0786491720521455'\n",
       "58. '-0.0970267740202454'\n",
       "59. '0.132682859115151'\n",
       "60. '0.118589298871676'\n",
       "61. ''\n",
       "62. ''\n",
       "63. ''\n",
       "64. ''\n",
       "65. ''\n",
       "66. '1'\n",
       "67. '0.571150502415223'\n",
       "68. '0.152716525451614'\n",
       "69. '0.273769491753221'\n",
       "70. '-0.179640106877824'\n",
       "71. '0.341602745914503'\n",
       "72. '0.188694940280909'\n",
       "73. ''\n",
       "74. ''\n",
       "75. ''\n",
       "76. ''\n",
       "77. ''\n",
       "78. ''\n",
       "79. '1'\n",
       "80. '0.273626064521451'\n",
       "81. '0.404691826422637'\n",
       "82. '-0.147079801656012'\n",
       "83. '0.339981280823768'\n",
       "84. '0.235444889410493'\n",
       "85. ''\n",
       "86. ''\n",
       "87. ''\n",
       "88. ''\n",
       "89. ''\n",
       "90. ''\n",
       "91. ''\n",
       "92. '1'\n",
       "93. '0.311123536792911'\n",
       "94. '0.0253896018737507'\n",
       "95. '0.174875707708294'\n",
       "96. '0.14700806769687'\n",
       "97. ''\n",
       "98. ''\n",
       "99. ''\n",
       "100. ''\n",
       "101. ''\n",
       "102. ''\n",
       "103. ''\n",
       "104. ''\n",
       "105. '1'\n",
       "106. '-0.0881773576840549'\n",
       "107. '0.249507276905033'\n",
       "108. '0.220033192536616'\n",
       "109. ''\n",
       "110. ''\n",
       "111. ''\n",
       "112. ''\n",
       "113. ''\n",
       "114. ''\n",
       "115. ''\n",
       "116. ''\n",
       "117. ''\n",
       "118. '1'\n",
       "119. '-0.113768625538504'\n",
       "120. '-0.26508912327972'\n",
       "121. ''\n",
       "122. ''\n",
       "123. ''\n",
       "124. ''\n",
       "125. ''\n",
       "126. ''\n",
       "127. ''\n",
       "128. ''\n",
       "129. ''\n",
       "130. ''\n",
       "131. '1'\n",
       "132. '0.259654217939724'\n",
       "133. ''\n",
       "134. ''\n",
       "135. ''\n",
       "136. ''\n",
       "137. ''\n",
       "138. ''\n",
       "139. ''\n",
       "140. ''\n",
       "141. ''\n",
       "142. ''\n",
       "143. ''\n",
       "144. '1'\n",
       "\n",
       "\n"
      ],
      "text/plain": [
       "         Age                   OwnRent                SqftCate             \n",
       "Age      \"1\"                   \"\"                     \"\"                   \n",
       "OwnRent  \"0.368856520179533\"   \"1\"                    \"\"                   \n",
       "SqftCate \"0.276071347171836\"   \"0.48529586773381\"     \"1\"                  \n",
       "Income   \"0.182583367080747\"   \"0.33946424111393\"     \"0.355395432359381\"  \n",
       "Educ     \"0.148103348868273\"   \"0.0675380268166493\"   \"0.00554631386915633\"\n",
       "EnergyC  \"-0.0166767759214103\" \"-0.0731261360544894\"  \"-0.0955817266084428\"\n",
       "Attitude \"0.0717658588757512\"  \"-0.00760035794887058\" \"-0.0136660797590906\"\n",
       "PBC      \"0.042106895110817\"   \"-0.0110792565609716\"  \"-0.0630783195997467\"\n",
       "MC       \"0.0562332512013021\"  \"0.0477316892342926\"   \"-0.0107820516034209\"\n",
       "ComfNS   \"0.0600530200970348\"  \"0.012508565767688\"    \"0.0484914178883823\" \n",
       "SubNorm  \"-0.0390424141554672\" \"-0.0607622476748242\"  \"-0.0298064681842728\"\n",
       "HabitC   \"0.0424404277981123\"  \"0.0410949676601935\"   \"0.0178622750253089\" \n",
       "         Income                Educ                   EnergyC             \n",
       "Age      \"\"                    \"\"                     \"\"                  \n",
       "OwnRent  \"\"                    \"\"                     \"\"                  \n",
       "SqftCate \"\"                    \"\"                     \"\"                  \n",
       "Income   \"1\"                   \"\"                     \"\"                  \n",
       "Educ     \"0.247585295183406\"   \"1\"                    \"\"                  \n",
       "EnergyC  \"-0.0950712242975889\" \"0.14111148126837\"     \"1\"                 \n",
       "Attitude \"-0.0609810391288798\" \"0.0837651462693148\"   \"0.571150502415223\" \n",
       "PBC      \"-0.0788717463400438\" \"-0.00251027279341048\" \"0.152716525451614\" \n",
       "MC       \"-0.0436178488816162\" \"0.0786491720521455\"   \"0.273769491753221\" \n",
       "ComfNS   \"0.0207733329098668\"  \"-0.0970267740202454\"  \"-0.179640106877824\"\n",
       "SubNorm  \"-0.0473340568764348\" \"0.132682859115151\"    \"0.341602745914503\" \n",
       "HabitC   \"0.0117155226664645\"  \"0.118589298871676\"    \"0.188694940280909\" \n",
       "         Attitude             PBC                  MC                   \n",
       "Age      \"\"                   \"\"                   \"\"                   \n",
       "OwnRent  \"\"                   \"\"                   \"\"                   \n",
       "SqftCate \"\"                   \"\"                   \"\"                   \n",
       "Income   \"\"                   \"\"                   \"\"                   \n",
       "Educ     \"\"                   \"\"                   \"\"                   \n",
       "EnergyC  \"\"                   \"\"                   \"\"                   \n",
       "Attitude \"1\"                  \"\"                   \"\"                   \n",
       "PBC      \"0.273626064521451\"  \"1\"                  \"\"                   \n",
       "MC       \"0.404691826422637\"  \"0.311123536792911\"  \"1\"                  \n",
       "ComfNS   \"-0.147079801656012\" \"0.0253896018737507\" \"-0.0881773576840549\"\n",
       "SubNorm  \"0.339981280823768\"  \"0.174875707708294\"  \"0.249507276905033\"  \n",
       "HabitC   \"0.235444889410493\"  \"0.14700806769687\"   \"0.220033192536616\"  \n",
       "         ComfNS               SubNorm             HabitC\n",
       "Age      \"\"                   \"\"                  \"\"    \n",
       "OwnRent  \"\"                   \"\"                  \"\"    \n",
       "SqftCate \"\"                   \"\"                  \"\"    \n",
       "Income   \"\"                   \"\"                  \"\"    \n",
       "Educ     \"\"                   \"\"                  \"\"    \n",
       "EnergyC  \"\"                   \"\"                  \"\"    \n",
       "Attitude \"\"                   \"\"                  \"\"    \n",
       "PBC      \"\"                   \"\"                  \"\"    \n",
       "MC       \"\"                   \"\"                  \"\"    \n",
       "ComfNS   \"1\"                  \"\"                  \"\"    \n",
       "SubNorm  \"-0.113768625538504\" \"1\"                 \"\"    \n",
       "HabitC   \"-0.26508912327972\"  \"0.259654217939724\" \"1\"   "
      ]
     },
     "metadata": {},
     "output_type": "display_data"
    }
   ],
   "source": [
    "tmc<-cor(model)\n",
    "tcor<-cor(model)\n",
    "tcor[upper.tri(tmc)]<-\"\"\n",
    "tmc<-as.data.frame(tcor)\n",
    "tcor"
   ]
  },
  {
   "cell_type": "code",
   "execution_count": 4,
   "metadata": {
    "collapsed": false
   },
   "outputs": [
    {
     "ename": "ERROR",
     "evalue": "Error in corrplot(tcor, type = \"upper\", method = \"number\"): The matrix is not in [-1, 1]!\n",
     "output_type": "error",
     "traceback": [
      "Error in corrplot(tcor, type = \"upper\", method = \"number\"): The matrix is not in [-1, 1]!\nTraceback:\n",
      "1. corrplot(tcor, type = \"upper\", method = \"number\")",
      "2. stop(\"The matrix is not in [-1, 1]!\")"
     ]
    }
   ],
   "source": [
    "#install.packages(\"corrplot\",lib=\"../Rpackages\")\n",
    "library(corrplot,lib.loc=\"../Rpackages\")\n",
    "jpeg(\"cor.jpeg\")\n",
    "corrplot(tcor, type=\"upper\",method=\"number\")\n",
    "dev.off()"
   ]
  },
  {
   "cell_type": "code",
   "execution_count": 5,
   "metadata": {
    "collapsed": false
   },
   "outputs": [
    {
     "name": "stdout",
     "output_type": "stream",
     "text": [
      "         Age                   OwnRent                SqftCate             \n",
      "Age      \"1\"                   \"\"                     \"\"                   \n",
      "OwnRent  \"0.368856520179533\"   \"1\"                    \"\"                   \n",
      "SqftCate \"0.276071347171836\"   \"0.48529586773381\"     \"1\"                  \n",
      "Income   \"0.182583367080747\"   \"0.33946424111393\"     \"0.355395432359381\"  \n",
      "Educ     \"0.148103348868273\"   \"0.0675380268166493\"   \"0.00554631386915633\"\n",
      "EnergyC  \"-0.0166767759214103\" \"-0.0731261360544894\"  \"-0.0955817266084428\"\n",
      "Attitude \"0.0717658588757512\"  \"-0.00760035794887058\" \"-0.0136660797590906\"\n",
      "PBC      \"0.042106895110817\"   \"-0.0110792565609716\"  \"-0.0630783195997467\"\n",
      "MC       \"0.0562332512013021\"  \"0.0477316892342926\"   \"-0.0107820516034209\"\n",
      "ComfNS   \"0.0600530200970348\"  \"0.012508565767688\"    \"0.0484914178883823\" \n",
      "SubNorm  \"-0.0390424141554672\" \"-0.0607622476748242\"  \"-0.0298064681842728\"\n",
      "HabitC   \"0.0424404277981123\"  \"0.0410949676601935\"   \"0.0178622750253089\" \n",
      "         Income                Educ                   EnergyC             \n",
      "Age      \"\"                    \"\"                     \"\"                  \n",
      "OwnRent  \"\"                    \"\"                     \"\"                  \n",
      "SqftCate \"\"                    \"\"                     \"\"                  \n",
      "Income   \"1\"                   \"\"                     \"\"                  \n",
      "Educ     \"0.247585295183406\"   \"1\"                    \"\"                  \n",
      "EnergyC  \"-0.0950712242975889\" \"0.14111148126837\"     \"1\"                 \n",
      "Attitude \"-0.0609810391288798\" \"0.0837651462693148\"   \"0.571150502415223\" \n",
      "PBC      \"-0.0788717463400438\" \"-0.00251027279341048\" \"0.152716525451614\" \n",
      "MC       \"-0.0436178488816162\" \"0.0786491720521455\"   \"0.273769491753221\" \n",
      "ComfNS   \"0.0207733329098668\"  \"-0.0970267740202454\"  \"-0.179640106877824\"\n",
      "SubNorm  \"-0.0473340568764348\" \"0.132682859115151\"    \"0.341602745914503\" \n",
      "HabitC   \"0.0117155226664645\"  \"0.118589298871676\"    \"0.188694940280909\" \n",
      "         Attitude             PBC                  MC                   \n",
      "Age      \"\"                   \"\"                   \"\"                   \n",
      "OwnRent  \"\"                   \"\"                   \"\"                   \n",
      "SqftCate \"\"                   \"\"                   \"\"                   \n",
      "Income   \"\"                   \"\"                   \"\"                   \n",
      "Educ     \"\"                   \"\"                   \"\"                   \n",
      "EnergyC  \"\"                   \"\"                   \"\"                   \n",
      "Attitude \"1\"                  \"\"                   \"\"                   \n",
      "PBC      \"0.273626064521451\"  \"1\"                  \"\"                   \n",
      "MC       \"0.404691826422637\"  \"0.311123536792911\"  \"1\"                  \n",
      "ComfNS   \"-0.147079801656012\" \"0.0253896018737507\" \"-0.0881773576840549\"\n",
      "SubNorm  \"0.339981280823768\"  \"0.174875707708294\"  \"0.249507276905033\"  \n",
      "HabitC   \"0.235444889410493\"  \"0.14700806769687\"   \"0.220033192536616\"  \n",
      "         ComfNS               SubNorm             HabitC\n",
      "Age      \"\"                   \"\"                  \"\"    \n",
      "OwnRent  \"\"                   \"\"                  \"\"    \n",
      "SqftCate \"\"                   \"\"                  \"\"    \n",
      "Income   \"\"                   \"\"                  \"\"    \n",
      "Educ     \"\"                   \"\"                  \"\"    \n",
      "EnergyC  \"\"                   \"\"                  \"\"    \n",
      "Attitude \"\"                   \"\"                  \"\"    \n",
      "PBC      \"\"                   \"\"                  \"\"    \n",
      "MC       \"\"                   \"\"                  \"\"    \n",
      "ComfNS   \"1\"                  \"\"                  \"\"    \n",
      "SubNorm  \"-0.113768625538504\" \"1\"                 \"\"    \n",
      "HabitC   \"-0.26508912327972\"  \"0.259654217939724\" \"1\"   \n"
     ]
    }
   ],
   "source": [
    "#install.packages(\"xtable\",lib=\"../Rpackages\")\n",
    "library(xtable,lib.loc=\"../Rpackages\")\n",
    "print(tcor,type='html')"
   ]
  },
  {
   "cell_type": "code",
   "execution_count": 6,
   "metadata": {
    "collapsed": false
   },
   "outputs": [],
   "source": [
    "write.csv(tcor,file=\"model_cor.csv\")"
   ]
  },
  {
   "cell_type": "code",
   "execution_count": 7,
   "metadata": {
    "collapsed": false
   },
   "outputs": [
    {
     "data": {
      "text/html": [
       "<strong>png:</strong> 2"
      ],
      "text/latex": [
       "\\textbf{png:} 2"
      ],
      "text/markdown": [
       "**png:** 2"
      ],
      "text/plain": [
       "png \n",
       "  2 "
      ]
     },
     "metadata": {},
     "output_type": "display_data"
    },
    {
     "data": {
      "text/html": [
       "<strong>png:</strong> 2"
      ],
      "text/latex": [
       "\\textbf{png:} 2"
      ],
      "text/markdown": [
       "**png:** 2"
      ],
      "text/plain": [
       "png \n",
       "  2 "
      ]
     },
     "metadata": {},
     "output_type": "display_data"
    }
   ],
   "source": [
    "#table(data1$ReasonPos)\n",
    "jpeg('graphs/ReasonPos_barplot.jpeg')\n",
    "barplot(table(data1$ReasonPos),main='Reasons for needing no incentive to engage in energy saving')\n",
    "dev.off()\n",
    "\n",
    "jpeg('graphs/ReasonNeg_barplot.jpeg')\n",
    "barplot(table(data1$ReasonNeg),main='Reasons for not engaging in energy saving regardless of incentive')\n",
    "dev.off()"
   ]
  },
  {
   "cell_type": "code",
   "execution_count": 8,
   "metadata": {
    "collapsed": false
   },
   "outputs": [
    {
     "data": {
      "text/plain": [
       "NULL"
      ]
     },
     "metadata": {},
     "output_type": "display_data"
    },
    {
     "data": {
      "text/html": [
       "<strong>png:</strong> 2"
      ],
      "text/latex": [
       "\\textbf{png:} 2"
      ],
      "text/markdown": [
       "**png:** 2"
      ],
      "text/plain": [
       "png \n",
       "  2 "
      ]
     },
     "metadata": {},
     "output_type": "display_data"
    }
   ],
   "source": [
    "png('graphs/Incentives.png')\n",
    "par(mfrow=c(3, 2))\n",
    "boxplot(data1$IncHomeS,main='IncHomeS')\n",
    "hist(data1$IncHomeS,main='IncHomeS')\n",
    "boxplot(data1$IncAwayS,main='IncAwayS')\n",
    "hist(data1$IncAwayS,main='IncAwayS')\n",
    "boxplot(data1$IncWD,main='IncWD')\n",
    "hist(data1$IncWD,main='IncWD')\n",
    "par(t)\n",
    "dev.off()"
   ]
  },
  {
   "cell_type": "code",
   "execution_count": 10,
   "metadata": {
    "collapsed": false
   },
   "outputs": [
    {
     "data": {
      "text/plain": [
       "NULL"
      ]
     },
     "metadata": {},
     "output_type": "display_data"
    },
    {
     "data": {
      "text/html": [
       "<strong>png:</strong> 2"
      ],
      "text/latex": [
       "\\textbf{png:} 2"
      ],
      "text/markdown": [
       "**png:** 2"
      ],
      "text/plain": [
       "png \n",
       "  2 "
      ]
     },
     "metadata": {},
     "output_type": "display_data"
    },
    {
     "data": {
      "text/plain": [
       "NULL"
      ]
     },
     "metadata": {},
     "output_type": "display_data"
    },
    {
     "data": {
      "text/html": [
       "<strong>png:</strong> 2"
      ],
      "text/latex": [
       "\\textbf{png:} 2"
      ],
      "text/markdown": [
       "**png:** 2"
      ],
      "text/plain": [
       "png \n",
       "  2 "
      ]
     },
     "metadata": {},
     "output_type": "display_data"
    },
    {
     "data": {
      "text/plain": [
       "NULL"
      ]
     },
     "metadata": {},
     "output_type": "display_data"
    },
    {
     "data": {
      "text/html": [
       "<strong>png:</strong> 2"
      ],
      "text/latex": [
       "\\textbf{png:} 2"
      ],
      "text/markdown": [
       "**png:** 2"
      ],
      "text/plain": [
       "png \n",
       "  2 "
      ]
     },
     "metadata": {},
     "output_type": "display_data"
    },
    {
     "data": {
      "text/plain": [
       "NULL"
      ]
     },
     "metadata": {},
     "output_type": "display_data"
    },
    {
     "data": {
      "text/html": [
       "<strong>png:</strong> 2"
      ],
      "text/latex": [
       "\\textbf{png:} 2"
      ],
      "text/markdown": [
       "**png:** 2"
      ],
      "text/plain": [
       "png \n",
       "  2 "
      ]
     },
     "metadata": {},
     "output_type": "display_data"
    }
   ],
   "source": [
    "png('graphs/Consciences.png')\n",
    "par(mfrow=c(3, 2))\n",
    "\n",
    "boxplot(data1$EnergyC,main='EnergyC')\n",
    "hist(data1$EnergyC,main='EnergyC')\n",
    "\n",
    "boxplot(data1$MC,main='MC')\n",
    "hist(data1$MC,main='MC')\n",
    "\n",
    "boxplot(data1$HabitC,main='HabitC')\n",
    "hist(data1$HabitC,main='HabitC')\n",
    "\n",
    "par(t)\n",
    "dev.off()\n",
    "\n",
    "png('graphs/Comfort_needs.png')\n",
    "par(mfrow=c(1, 2))\n",
    "\n",
    "boxplot(data1$ComfNS,main='ComfNS')\n",
    "hist(data1$ComfNS,main='ComfNS')\n",
    "\n",
    "par(t)\n",
    "dev.off()\n",
    "\n",
    "png('graphs/Intentions.png')\n",
    "par(mfrow=c(1, 2))\n",
    "\n",
    "boxplot(data1$INT,main='INT')\n",
    "hist(data1$INT,main='INT')\n",
    "\n",
    "par(t)\n",
    "dev.off()\n",
    "\n",
    "png('graphs/Social_psychological.png')\n",
    "par(mfrow=c(3,2))\n",
    "\n",
    "boxplot(data1$PBC,main='PBC')\n",
    "hist(data1$PBC,main='PBC')\n",
    "\n",
    "boxplot(data1$Attitude,main='Attitude')\n",
    "hist(data1$Attitude,main='Attitude')\n",
    "\n",
    "boxplot(data1$SubNorm,main='SubNorm')\n",
    "hist(data1$SubNorm,main='SubNorm')\n",
    "\n",
    "par(t)\n",
    "dev.off()"
   ]
  },
  {
   "cell_type": "code",
   "execution_count": 7,
   "metadata": {
    "collapsed": true
   },
   "outputs": [],
   "source": [
    "graphing_function <- function(name,var_name){\n",
    "    print(table(name))\n",
    "    \n",
    "    box_file <- paste(var_name,'boxplot.jpeg',sep=\"_\")\n",
    "    hist_file <- paste(var_name,'histplot.jpeg',sep=\"_\")\n",
    "    box_file <- paste('graphs/',box_file,sep=\"\")\n",
    "    hist_file <- paste('graphs/',hist_file,sep=\"\")\n",
    "    \n",
    "    print(box_file)\n",
    "    print(hist_file)\n",
    "    \n",
    "    jpeg(box_file)\n",
    "    boxplot(name,main=var_name)\n",
    "    dev.off()\n",
    "    \n",
    "    jpeg(hist_file)\n",
    "    hist(name,main=var_name,xlab=var_name)\n",
    "    dev.off()\n",
    "}"
   ]
  },
  {
   "cell_type": "code",
   "execution_count": 8,
   "metadata": {
    "collapsed": false
   },
   "outputs": [
    {
     "name": "stdout",
     "output_type": "stream",
     "text": [
      "name\n",
      "  1   2   3   4   5   6   7   8 \n",
      " 75  57 145 253  66  68  57  42 \n",
      "[1] \"graphs/IncHomeS_boxplot.jpeg\"\n",
      "[1] \"graphs/IncHomeS_histplot.jpeg\"\n"
     ]
    },
    {
     "data": {
      "text/html": [
       "<strong>png:</strong> 2"
      ],
      "text/latex": [
       "\\textbf{png:} 2"
      ],
      "text/markdown": [
       "**png:** 2"
      ],
      "text/plain": [
       "png \n",
       "  2 "
      ]
     },
     "metadata": {},
     "output_type": "display_data"
    }
   ],
   "source": [
    "graphing_function(data1$IncHomeS,'IncHomeS')"
   ]
  },
  {
   "cell_type": "code",
   "execution_count": 9,
   "metadata": {
    "collapsed": false
   },
   "outputs": [
    {
     "name": "stdout",
     "output_type": "stream",
     "text": [
      "name\n",
      "  1   2   3   4   5   6   7   8 \n",
      " 83  53  83 173 103  84 103  77 \n",
      "[1] \"graphs/IncAwayS_boxplot.jpeg\"\n",
      "[1] \"graphs/IncAwayS_histplot.jpeg\"\n"
     ]
    },
    {
     "data": {
      "text/html": [
       "<strong>png:</strong> 2"
      ],
      "text/latex": [
       "\\textbf{png:} 2"
      ],
      "text/markdown": [
       "**png:** 2"
      ],
      "text/plain": [
       "png \n",
       "  2 "
      ]
     },
     "metadata": {},
     "output_type": "display_data"
    }
   ],
   "source": [
    "data1$IncAwayS[data1$IncAwayS==99] = NA;\n",
    "#data1 <- na.omit(data1)\n",
    "graphing_function(data1$IncAwayS,'IncAwayS')"
   ]
  },
  {
   "cell_type": "code",
   "execution_count": 10,
   "metadata": {
    "collapsed": false
   },
   "outputs": [
    {
     "name": "stdout",
     "output_type": "stream",
     "text": [
      "name\n",
      "  1   2   3   4   5   6   7 \n",
      " 59  49  76 159  50 195 140 \n",
      "[1] \"graphs/IncWD_boxplot.jpeg\"\n",
      "[1] \"graphs/IncWD_histplot.jpeg\"\n"
     ]
    },
    {
     "data": {
      "text/html": [
       "<strong>png:</strong> 2"
      ],
      "text/latex": [
       "\\textbf{png:} 2"
      ],
      "text/markdown": [
       "**png:** 2"
      ],
      "text/plain": [
       "png \n",
       "  2 "
      ]
     },
     "metadata": {},
     "output_type": "display_data"
    }
   ],
   "source": [
    "graphing_function(data1$IncWD,'IncWD')"
   ]
  },
  {
   "cell_type": "code",
   "execution_count": 11,
   "metadata": {
    "collapsed": false
   },
   "outputs": [
    {
     "name": "stdout",
     "output_type": "stream",
     "text": [
      "name\n",
      "18 19 20 21 22 23 24 25 26 27 28 29 30 31 32 33 34 35 36 37 38 39 40 41 42 43 \n",
      "11  9 12 23 35 22 26 42 36 37 37 37 30 29 35 26 24 22 22 21 17 17 16 14 13 15 \n",
      "44 45 46 47 48 49 50 51 52 53 54 55 56 57 58 59 60 61 63 64 65 66 67 69 72 \n",
      "14 16 11 11 19 15 11 14  7  8  6 11  4  7 13  7  6  3  1  2  2  2  2  1  1 \n",
      "[1] \"graphs/Age_boxplot.jpeg\"\n",
      "[1] \"graphs/Age_histplot.jpeg\"\n"
     ]
    },
    {
     "data": {
      "text/html": [
       "<strong>png:</strong> 2"
      ],
      "text/latex": [
       "\\textbf{png:} 2"
      ],
      "text/markdown": [
       "**png:** 2"
      ],
      "text/plain": [
       "png \n",
       "  2 "
      ]
     },
     "metadata": {},
     "output_type": "display_data"
    }
   ],
   "source": [
    "graphing_function(data1$Age,'Age')"
   ]
  },
  {
   "cell_type": "code",
   "execution_count": 12,
   "metadata": {
    "collapsed": false
   },
   "outputs": [
    {
     "name": "stdout",
     "output_type": "stream",
     "text": [
      "name\n",
      "  1   3   4   5   6   7   8   9  10 \n",
      " 57  99 116 162 169 108  85  16   9 \n",
      "[1] \"graphs/Income_boxplot.jpeg\"\n",
      "[1] \"graphs/Income_histplot.jpeg\"\n"
     ]
    },
    {
     "data": {
      "text/html": [
       "<strong>png:</strong> 2"
      ],
      "text/latex": [
       "\\textbf{png:} 2"
      ],
      "text/markdown": [
       "**png:** 2"
      ],
      "text/plain": [
       "png \n",
       "  2 "
      ]
     },
     "metadata": {},
     "output_type": "display_data"
    }
   ],
   "source": [
    "graphing_function(data1$Income,'Income')"
   ]
  },
  {
   "cell_type": "code",
   "execution_count": 13,
   "metadata": {
    "collapsed": false
   },
   "outputs": [
    {
     "name": "stdout",
     "output_type": "stream",
     "text": [
      "name\n",
      "  1   2   3   4   5   6 \n",
      "  8 208 176 297 103  27 \n",
      "[1] \"graphs/Educ_boxplot.jpeg\"\n",
      "[1] \"graphs/Educ_histplot.jpeg\"\n"
     ]
    },
    {
     "data": {
      "text/html": [
       "<strong>png:</strong> 2"
      ],
      "text/latex": [
       "\\textbf{png:} 2"
      ],
      "text/markdown": [
       "**png:** 2"
      ],
      "text/plain": [
       "png \n",
       "  2 "
      ]
     },
     "metadata": {},
     "output_type": "display_data"
    }
   ],
   "source": [
    "graphing_function(data1$Educ,'Educ')"
   ]
  },
  {
   "cell_type": "code",
   "execution_count": 14,
   "metadata": {
    "collapsed": false
   },
   "outputs": [
    {
     "name": "stdout",
     "output_type": "stream",
     "text": [
      "name\n",
      "  1   2   3   4 \n",
      "413 406   4   1 \n",
      "[1] \"graphs/OwnRent_boxplot.jpeg\"\n",
      "[1] \"graphs/OwnRent_histplot.jpeg\"\n"
     ]
    },
    {
     "data": {
      "text/html": [
       "<strong>png:</strong> 2"
      ],
      "text/latex": [
       "\\textbf{png:} 2"
      ],
      "text/markdown": [
       "**png:** 2"
      ],
      "text/plain": [
       "png \n",
       "  2 "
      ]
     },
     "metadata": {},
     "output_type": "display_data"
    }
   ],
   "source": [
    "graphing_function(data1$OwnRent,'OwnRent')"
   ]
  },
  {
   "cell_type": "code",
   "execution_count": 15,
   "metadata": {
    "collapsed": false
   },
   "outputs": [
    {
     "name": "stdout",
     "output_type": "stream",
     "text": [
      "name\n",
      "  1   2   3   4 \n",
      "206 213 194 211 \n",
      "[1] \"graphs/SqftCate_boxplot.jpeg\"\n",
      "[1] \"graphs/SqftCate_histplot.jpeg\"\n"
     ]
    },
    {
     "data": {
      "text/html": [
       "<strong>png:</strong> 2"
      ],
      "text/latex": [
       "\\textbf{png:} 2"
      ],
      "text/markdown": [
       "**png:** 2"
      ],
      "text/plain": [
       "png \n",
       "  2 "
      ]
     },
     "metadata": {},
     "output_type": "display_data"
    }
   ],
   "source": [
    "graphing_function(data1$SqftCate,'SqftCate')"
   ]
  },
  {
   "cell_type": "code",
   "execution_count": 16,
   "metadata": {
    "collapsed": false
   },
   "outputs": [
    {
     "name": "stdout",
     "output_type": "stream",
     "text": [
      "name\n",
      "               1 1.33333333333333 1.66666666666667                2 \n",
      "              16                1               10               13 \n",
      "2.33333333333333 2.66666666666667                3 3.33333333333333 \n",
      "               6               12               21               27 \n",
      "3.66666666666667                4 4.33333333333333 4.66666666666667 \n",
      "              22               44               43               63 \n",
      "               5 5.33333333333333 5.66666666666667                6 \n",
      "              94               74               62              133 \n",
      "6.33333333333333 6.66666666666667                7 \n",
      "              55               35               95 \n",
      "[1] \"graphs/EnergyC_boxplot.jpeg\"\n",
      "[1] \"graphs/EnergyC_histplot.jpeg\"\n"
     ]
    },
    {
     "data": {
      "text/html": [
       "<strong>png:</strong> 2"
      ],
      "text/latex": [
       "\\textbf{png:} 2"
      ],
      "text/markdown": [
       "**png:** 2"
      ],
      "text/plain": [
       "png \n",
       "  2 "
      ]
     },
     "metadata": {},
     "output_type": "display_data"
    }
   ],
   "source": [
    "graphing_function(data1$EnergyC,'EnergyC')"
   ]
  },
  {
   "cell_type": "code",
   "execution_count": 17,
   "metadata": {
    "collapsed": false
   },
   "outputs": [
    {
     "name": "stdout",
     "output_type": "stream",
     "text": [
      "name\n",
      "               1 1.33333333333333                2 2.33333333333333 \n",
      "               2                1                3                3 \n",
      "2.66666666666667                3 3.33333333333333 3.66666666666667 \n",
      "               8               12               14               14 \n",
      "               4 4.33333333333333 4.66666666666667                5 \n",
      "              37               27               46              117 \n",
      "5.33333333333333 5.66666666666667                6 6.33333333333333 \n",
      "              61               94              134               88 \n",
      "6.66666666666667                7 \n",
      "              56              109 \n",
      "[1] \"graphs/MC_boxplot.jpeg\"\n",
      "[1] \"graphs/MC_histplot.jpeg\"\n"
     ]
    },
    {
     "data": {
      "text/html": [
       "<strong>png:</strong> 2"
      ],
      "text/latex": [
       "\\textbf{png:} 2"
      ],
      "text/markdown": [
       "**png:** 2"
      ],
      "text/plain": [
       "png \n",
       "  2 "
      ]
     },
     "metadata": {},
     "output_type": "display_data"
    }
   ],
   "source": [
    "graphing_function(data1$MC,'MC')"
   ]
  },
  {
   "cell_type": "code",
   "execution_count": 18,
   "metadata": {
    "collapsed": false
   },
   "outputs": [
    {
     "name": "stdout",
     "output_type": "stream",
     "text": [
      "name\n",
      "               1 1.33333333333333 1.66666666666667                2 \n",
      "              27                3               20               29 \n",
      "2.33333333333333 2.66666666666667                3 3.33333333333333 \n",
      "              13               19               30               28 \n",
      "3.66666666666667                4 4.33333333333333 4.66666666666667 \n",
      "              28               56               59               53 \n",
      "               5 5.33333333333333 5.66666666666667                6 \n",
      "              49               59               56              107 \n",
      "6.33333333333333 6.66666666666667                7 \n",
      "              48               42              100 \n",
      "[1] \"graphs/ComfNS_boxplot.jpeg\"\n",
      "[1] \"graphs/ComfNS_histplot.jpeg\"\n"
     ]
    },
    {
     "data": {
      "text/html": [
       "<strong>png:</strong> 2"
      ],
      "text/latex": [
       "\\textbf{png:} 2"
      ],
      "text/markdown": [
       "**png:** 2"
      ],
      "text/plain": [
       "png \n",
       "  2 "
      ]
     },
     "metadata": {},
     "output_type": "display_data"
    }
   ],
   "source": [
    "graphing_function(data1$ComfNS,'ComfNS')"
   ]
  },
  {
   "cell_type": "code",
   "execution_count": 19,
   "metadata": {
    "collapsed": false
   },
   "outputs": [
    {
     "name": "stdout",
     "output_type": "stream",
     "text": [
      "name\n",
      "               1 1.33333333333333 1.66666666666667                2 \n",
      "              12                6                6                8 \n",
      "2.33333333333333 2.66666666666667                3 3.33333333333333 \n",
      "              16               10               37               32 \n",
      "3.66666666666667                4 4.33333333333333 4.66666666666667 \n",
      "              39               45               66               72 \n",
      "               5 5.33333333333333 5.66666666666667                6 \n",
      "              72               62               55               59 \n",
      "6.33333333333333 6.66666666666667                7 7.33333333333333 \n",
      "              53               47               85               23 \n",
      "7.66666666666667                8 \n",
      "               4               16 \n",
      "[1] \"graphs/HabitC_boxplot.jpeg\"\n",
      "[1] \"graphs/HabitC_histplot.jpeg\"\n"
     ]
    },
    {
     "data": {
      "text/html": [
       "<strong>png:</strong> 2"
      ],
      "text/latex": [
       "\\textbf{png:} 2"
      ],
      "text/markdown": [
       "**png:** 2"
      ],
      "text/plain": [
       "png \n",
       "  2 "
      ]
     },
     "metadata": {},
     "output_type": "display_data"
    }
   ],
   "source": [
    "graphing_function(data1$HabitC,'HabitC')"
   ]
  },
  {
   "cell_type": "code",
   "execution_count": 20,
   "metadata": {
    "collapsed": false
   },
   "outputs": [
    {
     "name": "stdout",
     "output_type": "stream",
     "text": [
      "name\n",
      " 2.5 2.75    3 3.25  3.5 3.75    4 4.25  4.5 4.75    5 5.25  5.5 5.75    6 6.25 \n",
      "   1    2    4    6   10   12   28   24   32   37   73   75   68   69  138   55 \n",
      " 6.5 6.75    7 \n",
      "  35   44  112 \n",
      "[1] \"graphs/PBC_boxplot.jpeg\"\n",
      "[1] \"graphs/PBC_histplot.jpeg\"\n"
     ]
    },
    {
     "data": {
      "text/html": [
       "<strong>png:</strong> 2"
      ],
      "text/latex": [
       "\\textbf{png:} 2"
      ],
      "text/markdown": [
       "**png:** 2"
      ],
      "text/plain": [
       "png \n",
       "  2 "
      ]
     },
     "metadata": {},
     "output_type": "display_data"
    }
   ],
   "source": [
    "graphing_function(data1$PBC,'PBC')"
   ]
  },
  {
   "cell_type": "code",
   "execution_count": 21,
   "metadata": {
    "collapsed": false
   },
   "outputs": [
    {
     "name": "stdout",
     "output_type": "stream",
     "text": [
      "name\n",
      "               1 1.33333333333333 1.66666666666667                2 \n",
      "              30               10               14               45 \n",
      "2.33333333333333 2.66666666666667                3 3.33333333333333 \n",
      "              29               47               52               58 \n",
      "3.66666666666667                4 4.33333333333333 4.66666666666667 \n",
      "              61              116               75               85 \n",
      "               5 5.33333333333333 5.66666666666667                6 \n",
      "              63               49               28               35 \n",
      "6.33333333333333 6.66666666666667                7 \n",
      "               7                5               17 \n",
      "[1] \"graphs/SubNorm_boxplot.jpeg\"\n",
      "[1] \"graphs/SubNorm_histplot.jpeg\"\n"
     ]
    },
    {
     "data": {
      "text/html": [
       "<strong>png:</strong> 2"
      ],
      "text/latex": [
       "\\textbf{png:} 2"
      ],
      "text/markdown": [
       "**png:** 2"
      ],
      "text/plain": [
       "png \n",
       "  2 "
      ]
     },
     "metadata": {},
     "output_type": "display_data"
    }
   ],
   "source": [
    "graphing_function(data1$SubNorm,'SubNorm')"
   ]
  },
  {
   "cell_type": "code",
   "execution_count": 22,
   "metadata": {
    "collapsed": false
   },
   "outputs": [
    {
     "name": "stdout",
     "output_type": "stream",
     "text": [
      "name\n",
      "   1  1.5    2 2.25  2.5 2.75    3 3.25  3.5 3.75    4 4.25  4.5 4.75    5 5.25 \n",
      "   3    1    2    4    1    1    9    2    7    6   21   10   16   29   49   24 \n",
      " 5.5 5.75    6 6.25  6.5 6.75    7 \n",
      "  50   37  128   50   47   26  303 \n",
      "[1] \"graphs/Attitude_boxplot.jpeg\"\n",
      "[1] \"graphs/Attitude_histplot.jpeg\"\n"
     ]
    },
    {
     "data": {
      "text/html": [
       "<strong>png:</strong> 2"
      ],
      "text/latex": [
       "\\textbf{png:} 2"
      ],
      "text/markdown": [
       "**png:** 2"
      ],
      "text/plain": [
       "png \n",
       "  2 "
      ]
     },
     "metadata": {},
     "output_type": "display_data"
    }
   ],
   "source": [
    "graphing_function(data1$Attitude,'Attitude')"
   ]
  },
  {
   "cell_type": "code",
   "execution_count": null,
   "metadata": {
    "collapsed": true
   },
   "outputs": [],
   "source": []
  }
 ],
 "metadata": {
  "kernelspec": {
   "display_name": "R",
   "language": "R",
   "name": "ir"
  },
  "language_info": {
   "codemirror_mode": "r",
   "file_extension": ".r",
   "mimetype": "text/x-r-source",
   "name": "R",
   "pygments_lexer": "r",
   "version": "3.3.1"
  }
 },
 "nbformat": 4,
 "nbformat_minor": 1
}
