{
 "cells": [
  {
   "cell_type": "markdown",
   "metadata": {},
   "source": [
    "This program introduces the following variables to the CR_Survey2_Share_Complete.csv file being used\n",
    "    F|rugal-Mean(Frugal1, Frugal2, Frugal3)\n",
    "        CashYN- 1 if person wants cash or percentage off bill (direct payment) 0 otherwise (indirect payment)|\n",
    "    MC-Mean(MC3,MC4,MC5)\n",
    "    EnergyC-Mean(EnergyC1,EnergyC2,EnergyC4)\n",
    "    Trust-Mean(Trust1,Trust2,Trust3,Trust4)\n",
    "    ComfNS-Mean(ComfNS1,ComfNS2,ComfNS3)\n",
    "    Attitude-Mean(Atti1,Atti2,Atti3,Atti4)\n",
    "    SubNorm-Mean(SubNorm1,SubNorm2,SubNorm3)\n",
    "    PBC-Mean(PBC1,PBC2,PBC4,PBC5)\n",
    "    SN-Mean(SN1,SN2,SN4)\n",
    "    HabitG-Mean(HabitC1,HabitC2,HabitC3,HabitC4)\n",
    "    HabitHC-Mean(HabitC5,HabitC6,HabitC7)\n",
    "and renames the csv file to DR_Survey2_Share_Complete.csv"
   ]
  },
  {
   "cell_type": "code",
   "execution_count": 1,
   "metadata": {
    "collapsed": false
   },
   "outputs": [
    {
     "data": {
      "text/html": [
       "<ol class=list-inline>\n",
       "\t<li>'ACYN'</li>\n",
       "\t<li>'Age'</li>\n",
       "\t<li>'Atti1'</li>\n",
       "\t<li>'Atti2'</li>\n",
       "\t<li>'Atti3'</li>\n",
       "\t<li>'Atti4'</li>\n",
       "\t<li>'Attitude'</li>\n",
       "\t<li>'AwayS'</li>\n",
       "\t<li>'AwaySNY'</li>\n",
       "\t<li>'AwayW'</li>\n",
       "\t<li>'AwayWNY'</li>\n",
       "\t<li>'BillS'</li>\n",
       "\t<li>'BillW'</li>\n",
       "\t<li>'City'</li>\n",
       "\t<li>'ComfNS1'</li>\n",
       "\t<li>'ComfNS2'</li>\n",
       "\t<li>'ComfNS3'</li>\n",
       "\t<li>'ComfNW1'</li>\n",
       "\t<li>'ComfNW2'</li>\n",
       "\t<li>'ComfortS'</li>\n",
       "\t<li>'ComfortW'</li>\n",
       "\t<li>'CompR'</li>\n",
       "\t<li>'ControlN1'</li>\n",
       "\t<li>'ControlN2R'</li>\n",
       "\t<li>'ControlN3'</li>\n",
       "\t<li>'ControlN4'</li>\n",
       "\t<li>'ConvB1'</li>\n",
       "\t<li>'ConvB2'</li>\n",
       "\t<li>'ConvB3'</li>\n",
       "\t<li>'ConvB4'</li>\n",
       "\t<li>'DeviceType'</li>\n",
       "\t<li>'Educ'</li>\n",
       "\t<li>'EmerRForm'</li>\n",
       "\t<li>'EnergyC'</li>\n",
       "\t<li>'EnergyC1'</li>\n",
       "\t<li>'EnergyC2'</li>\n",
       "\t<li>'EnergyC3'</li>\n",
       "\t<li>'EnergyC4'</li>\n",
       "\t<li>'Ethnic'</li>\n",
       "\t<li>'Frugal'</li>\n",
       "\t<li>'Frugal1'</li>\n",
       "\t<li>'Frugal2'</li>\n",
       "\t<li>'Frugal3'</li>\n",
       "\t<li>'Gender'</li>\n",
       "\t<li>'HTdevice'</li>\n",
       "\t<li>'HTsource'</li>\n",
       "\t<li>'HabitC1'</li>\n",
       "\t<li>'HabitC2'</li>\n",
       "\t<li>'HabitC3'</li>\n",
       "\t<li>'HabitC4'</li>\n",
       "\t<li>'HabitC5'</li>\n",
       "\t<li>'HabitC6'</li>\n",
       "\t<li>'HabitC7'</li>\n",
       "\t<li>'HabitE1'</li>\n",
       "\t<li>'HabitE2'</li>\n",
       "\t<li>'HabitE3'</li>\n",
       "\t<li>'HeatYN'</li>\n",
       "\t<li>'HomeS'</li>\n",
       "\t<li>'HomeSYN'</li>\n",
       "\t<li>'HomeW'</li>\n",
       "\t<li>'HomeWYN'</li>\n",
       "\t<li>'HouseholdS'</li>\n",
       "\t<li>'ID'</li>\n",
       "\t<li>'INT1'</li>\n",
       "\t<li>'INT2'</li>\n",
       "\t<li>'INT3'</li>\n",
       "\t<li>'INT4'</li>\n",
       "\t<li>'IncAutoS'</li>\n",
       "\t<li>'IncAutoW'</li>\n",
       "\t<li>'IncAwayS'</li>\n",
       "\t<li>'IncAwayW'</li>\n",
       "\t<li>'IncDish'</li>\n",
       "\t<li>'IncEmer10S'</li>\n",
       "\t<li>'IncEmer10W'</li>\n",
       "\t<li>'IncEmer30S'</li>\n",
       "\t<li>'IncEmer30W'</li>\n",
       "\t<li>'IncHomeS'</li>\n",
       "\t<li>'IncHomeW'</li>\n",
       "\t<li>'IncWD'</li>\n",
       "\t<li>'Income'</li>\n",
       "\t<li>'Job'</li>\n",
       "\t<li>'Latitude'</li>\n",
       "\t<li>'Longitude'</li>\n",
       "\t<li>'MC1'</li>\n",
       "\t<li>'MC2'</li>\n",
       "\t<li>'MC3'</li>\n",
       "\t<li>'MC4'</li>\n",
       "\t<li>'MC5'</li>\n",
       "\t<li>'MCBill'</li>\n",
       "\t<li>'MCG'</li>\n",
       "\t<li>'NBillS'</li>\n",
       "\t<li>'NBillW'</li>\n",
       "\t<li>'OwnRent'</li>\n",
       "\t<li>'PBC'</li>\n",
       "\t<li>'PBC1'</li>\n",
       "\t<li>'PBC2'</li>\n",
       "\t<li>'PBC3R'</li>\n",
       "\t<li>'PBC4'</li>\n",
       "\t<li>'PBC5'</li>\n",
       "\t<li>'PBillStatus'</li>\n",
       "\t<li>'Political'</li>\n",
       "\t<li>'ReasonNeg'</li>\n",
       "\t<li>'ReasonPos'</li>\n",
       "\t<li>'RewardForm'</li>\n",
       "\t<li>'SN1'</li>\n",
       "\t<li>'SN2'</li>\n",
       "\t<li>'SN3'</li>\n",
       "\t<li>'SN4'</li>\n",
       "\t<li>'Sqft'</li>\n",
       "\t<li>'SqftCate'</li>\n",
       "\t<li>'State'</li>\n",
       "\t<li>'SubN'</li>\n",
       "\t<li>'SubNorm1'</li>\n",
       "\t<li>'SubNorm2'</li>\n",
       "\t<li>'SubNorm3'</li>\n",
       "\t<li>'Trust'</li>\n",
       "\t<li>'Trust1'</li>\n",
       "\t<li>'Trust2'</li>\n",
       "\t<li>'Trust3'</li>\n",
       "\t<li>'Trust4'</li>\n",
       "\t<li>'Utility'</li>\n",
       "\t<li>'X.9to5'</li>\n",
       "\t<li>'cold'</li>\n",
       "\t<li>'hot'</li>\n",
       "\t<li>'valid'</li>\n",
       "\t<li>'valid1'</li>\n",
       "\t<li>'valid2'</li>\n",
       "</ol>\n"
      ],
      "text/latex": [
       "\\begin{enumerate*}\n",
       "\\item 'ACYN'\n",
       "\\item 'Age'\n",
       "\\item 'Atti1'\n",
       "\\item 'Atti2'\n",
       "\\item 'Atti3'\n",
       "\\item 'Atti4'\n",
       "\\item 'Attitude'\n",
       "\\item 'AwayS'\n",
       "\\item 'AwaySNY'\n",
       "\\item 'AwayW'\n",
       "\\item 'AwayWNY'\n",
       "\\item 'BillS'\n",
       "\\item 'BillW'\n",
       "\\item 'City'\n",
       "\\item 'ComfNS1'\n",
       "\\item 'ComfNS2'\n",
       "\\item 'ComfNS3'\n",
       "\\item 'ComfNW1'\n",
       "\\item 'ComfNW2'\n",
       "\\item 'ComfortS'\n",
       "\\item 'ComfortW'\n",
       "\\item 'CompR'\n",
       "\\item 'ControlN1'\n",
       "\\item 'ControlN2R'\n",
       "\\item 'ControlN3'\n",
       "\\item 'ControlN4'\n",
       "\\item 'ConvB1'\n",
       "\\item 'ConvB2'\n",
       "\\item 'ConvB3'\n",
       "\\item 'ConvB4'\n",
       "\\item 'DeviceType'\n",
       "\\item 'Educ'\n",
       "\\item 'EmerRForm'\n",
       "\\item 'EnergyC'\n",
       "\\item 'EnergyC1'\n",
       "\\item 'EnergyC2'\n",
       "\\item 'EnergyC3'\n",
       "\\item 'EnergyC4'\n",
       "\\item 'Ethnic'\n",
       "\\item 'Frugal'\n",
       "\\item 'Frugal1'\n",
       "\\item 'Frugal2'\n",
       "\\item 'Frugal3'\n",
       "\\item 'Gender'\n",
       "\\item 'HTdevice'\n",
       "\\item 'HTsource'\n",
       "\\item 'HabitC1'\n",
       "\\item 'HabitC2'\n",
       "\\item 'HabitC3'\n",
       "\\item 'HabitC4'\n",
       "\\item 'HabitC5'\n",
       "\\item 'HabitC6'\n",
       "\\item 'HabitC7'\n",
       "\\item 'HabitE1'\n",
       "\\item 'HabitE2'\n",
       "\\item 'HabitE3'\n",
       "\\item 'HeatYN'\n",
       "\\item 'HomeS'\n",
       "\\item 'HomeSYN'\n",
       "\\item 'HomeW'\n",
       "\\item 'HomeWYN'\n",
       "\\item 'HouseholdS'\n",
       "\\item 'ID'\n",
       "\\item 'INT1'\n",
       "\\item 'INT2'\n",
       "\\item 'INT3'\n",
       "\\item 'INT4'\n",
       "\\item 'IncAutoS'\n",
       "\\item 'IncAutoW'\n",
       "\\item 'IncAwayS'\n",
       "\\item 'IncAwayW'\n",
       "\\item 'IncDish'\n",
       "\\item 'IncEmer10S'\n",
       "\\item 'IncEmer10W'\n",
       "\\item 'IncEmer30S'\n",
       "\\item 'IncEmer30W'\n",
       "\\item 'IncHomeS'\n",
       "\\item 'IncHomeW'\n",
       "\\item 'IncWD'\n",
       "\\item 'Income'\n",
       "\\item 'Job'\n",
       "\\item 'Latitude'\n",
       "\\item 'Longitude'\n",
       "\\item 'MC1'\n",
       "\\item 'MC2'\n",
       "\\item 'MC3'\n",
       "\\item 'MC4'\n",
       "\\item 'MC5'\n",
       "\\item 'MCBill'\n",
       "\\item 'MCG'\n",
       "\\item 'NBillS'\n",
       "\\item 'NBillW'\n",
       "\\item 'OwnRent'\n",
       "\\item 'PBC'\n",
       "\\item 'PBC1'\n",
       "\\item 'PBC2'\n",
       "\\item 'PBC3R'\n",
       "\\item 'PBC4'\n",
       "\\item 'PBC5'\n",
       "\\item 'PBillStatus'\n",
       "\\item 'Political'\n",
       "\\item 'ReasonNeg'\n",
       "\\item 'ReasonPos'\n",
       "\\item 'RewardForm'\n",
       "\\item 'SN1'\n",
       "\\item 'SN2'\n",
       "\\item 'SN3'\n",
       "\\item 'SN4'\n",
       "\\item 'Sqft'\n",
       "\\item 'SqftCate'\n",
       "\\item 'State'\n",
       "\\item 'SubN'\n",
       "\\item 'SubNorm1'\n",
       "\\item 'SubNorm2'\n",
       "\\item 'SubNorm3'\n",
       "\\item 'Trust'\n",
       "\\item 'Trust1'\n",
       "\\item 'Trust2'\n",
       "\\item 'Trust3'\n",
       "\\item 'Trust4'\n",
       "\\item 'Utility'\n",
       "\\item 'X.9to5'\n",
       "\\item 'cold'\n",
       "\\item 'hot'\n",
       "\\item 'valid'\n",
       "\\item 'valid1'\n",
       "\\item 'valid2'\n",
       "\\end{enumerate*}\n"
      ],
      "text/markdown": [
       "1. 'ACYN'\n",
       "2. 'Age'\n",
       "3. 'Atti1'\n",
       "4. 'Atti2'\n",
       "5. 'Atti3'\n",
       "6. 'Atti4'\n",
       "7. 'Attitude'\n",
       "8. 'AwayS'\n",
       "9. 'AwaySNY'\n",
       "10. 'AwayW'\n",
       "11. 'AwayWNY'\n",
       "12. 'BillS'\n",
       "13. 'BillW'\n",
       "14. 'City'\n",
       "15. 'ComfNS1'\n",
       "16. 'ComfNS2'\n",
       "17. 'ComfNS3'\n",
       "18. 'ComfNW1'\n",
       "19. 'ComfNW2'\n",
       "20. 'ComfortS'\n",
       "21. 'ComfortW'\n",
       "22. 'CompR'\n",
       "23. 'ControlN1'\n",
       "24. 'ControlN2R'\n",
       "25. 'ControlN3'\n",
       "26. 'ControlN4'\n",
       "27. 'ConvB1'\n",
       "28. 'ConvB2'\n",
       "29. 'ConvB3'\n",
       "30. 'ConvB4'\n",
       "31. 'DeviceType'\n",
       "32. 'Educ'\n",
       "33. 'EmerRForm'\n",
       "34. 'EnergyC'\n",
       "35. 'EnergyC1'\n",
       "36. 'EnergyC2'\n",
       "37. 'EnergyC3'\n",
       "38. 'EnergyC4'\n",
       "39. 'Ethnic'\n",
       "40. 'Frugal'\n",
       "41. 'Frugal1'\n",
       "42. 'Frugal2'\n",
       "43. 'Frugal3'\n",
       "44. 'Gender'\n",
       "45. 'HTdevice'\n",
       "46. 'HTsource'\n",
       "47. 'HabitC1'\n",
       "48. 'HabitC2'\n",
       "49. 'HabitC3'\n",
       "50. 'HabitC4'\n",
       "51. 'HabitC5'\n",
       "52. 'HabitC6'\n",
       "53. 'HabitC7'\n",
       "54. 'HabitE1'\n",
       "55. 'HabitE2'\n",
       "56. 'HabitE3'\n",
       "57. 'HeatYN'\n",
       "58. 'HomeS'\n",
       "59. 'HomeSYN'\n",
       "60. 'HomeW'\n",
       "61. 'HomeWYN'\n",
       "62. 'HouseholdS'\n",
       "63. 'ID'\n",
       "64. 'INT1'\n",
       "65. 'INT2'\n",
       "66. 'INT3'\n",
       "67. 'INT4'\n",
       "68. 'IncAutoS'\n",
       "69. 'IncAutoW'\n",
       "70. 'IncAwayS'\n",
       "71. 'IncAwayW'\n",
       "72. 'IncDish'\n",
       "73. 'IncEmer10S'\n",
       "74. 'IncEmer10W'\n",
       "75. 'IncEmer30S'\n",
       "76. 'IncEmer30W'\n",
       "77. 'IncHomeS'\n",
       "78. 'IncHomeW'\n",
       "79. 'IncWD'\n",
       "80. 'Income'\n",
       "81. 'Job'\n",
       "82. 'Latitude'\n",
       "83. 'Longitude'\n",
       "84. 'MC1'\n",
       "85. 'MC2'\n",
       "86. 'MC3'\n",
       "87. 'MC4'\n",
       "88. 'MC5'\n",
       "89. 'MCBill'\n",
       "90. 'MCG'\n",
       "91. 'NBillS'\n",
       "92. 'NBillW'\n",
       "93. 'OwnRent'\n",
       "94. 'PBC'\n",
       "95. 'PBC1'\n",
       "96. 'PBC2'\n",
       "97. 'PBC3R'\n",
       "98. 'PBC4'\n",
       "99. 'PBC5'\n",
       "100. 'PBillStatus'\n",
       "101. 'Political'\n",
       "102. 'ReasonNeg'\n",
       "103. 'ReasonPos'\n",
       "104. 'RewardForm'\n",
       "105. 'SN1'\n",
       "106. 'SN2'\n",
       "107. 'SN3'\n",
       "108. 'SN4'\n",
       "109. 'Sqft'\n",
       "110. 'SqftCate'\n",
       "111. 'State'\n",
       "112. 'SubN'\n",
       "113. 'SubNorm1'\n",
       "114. 'SubNorm2'\n",
       "115. 'SubNorm3'\n",
       "116. 'Trust'\n",
       "117. 'Trust1'\n",
       "118. 'Trust2'\n",
       "119. 'Trust3'\n",
       "120. 'Trust4'\n",
       "121. 'Utility'\n",
       "122. 'X.9to5'\n",
       "123. 'cold'\n",
       "124. 'hot'\n",
       "125. 'valid'\n",
       "126. 'valid1'\n",
       "127. 'valid2'\n",
       "\n",
       "\n"
      ],
      "text/plain": [
       "  [1] \"ACYN\"        \"Age\"         \"Atti1\"       \"Atti2\"       \"Atti3\"      \n",
       "  [6] \"Atti4\"       \"Attitude\"    \"AwayS\"       \"AwaySNY\"     \"AwayW\"      \n",
       " [11] \"AwayWNY\"     \"BillS\"       \"BillW\"       \"City\"        \"ComfNS1\"    \n",
       " [16] \"ComfNS2\"     \"ComfNS3\"     \"ComfNW1\"     \"ComfNW2\"     \"ComfortS\"   \n",
       " [21] \"ComfortW\"    \"CompR\"       \"ControlN1\"   \"ControlN2R\"  \"ControlN3\"  \n",
       " [26] \"ControlN4\"   \"ConvB1\"      \"ConvB2\"      \"ConvB3\"      \"ConvB4\"     \n",
       " [31] \"DeviceType\"  \"Educ\"        \"EmerRForm\"   \"EnergyC\"     \"EnergyC1\"   \n",
       " [36] \"EnergyC2\"    \"EnergyC3\"    \"EnergyC4\"    \"Ethnic\"      \"Frugal\"     \n",
       " [41] \"Frugal1\"     \"Frugal2\"     \"Frugal3\"     \"Gender\"      \"HTdevice\"   \n",
       " [46] \"HTsource\"    \"HabitC1\"     \"HabitC2\"     \"HabitC3\"     \"HabitC4\"    \n",
       " [51] \"HabitC5\"     \"HabitC6\"     \"HabitC7\"     \"HabitE1\"     \"HabitE2\"    \n",
       " [56] \"HabitE3\"     \"HeatYN\"      \"HomeS\"       \"HomeSYN\"     \"HomeW\"      \n",
       " [61] \"HomeWYN\"     \"HouseholdS\"  \"ID\"          \"INT1\"        \"INT2\"       \n",
       " [66] \"INT3\"        \"INT4\"        \"IncAutoS\"    \"IncAutoW\"    \"IncAwayS\"   \n",
       " [71] \"IncAwayW\"    \"IncDish\"     \"IncEmer10S\"  \"IncEmer10W\"  \"IncEmer30S\" \n",
       " [76] \"IncEmer30W\"  \"IncHomeS\"    \"IncHomeW\"    \"IncWD\"       \"Income\"     \n",
       " [81] \"Job\"         \"Latitude\"    \"Longitude\"   \"MC1\"         \"MC2\"        \n",
       " [86] \"MC3\"         \"MC4\"         \"MC5\"         \"MCBill\"      \"MCG\"        \n",
       " [91] \"NBillS\"      \"NBillW\"      \"OwnRent\"     \"PBC\"         \"PBC1\"       \n",
       " [96] \"PBC2\"        \"PBC3R\"       \"PBC4\"        \"PBC5\"        \"PBillStatus\"\n",
       "[101] \"Political\"   \"ReasonNeg\"   \"ReasonPos\"   \"RewardForm\"  \"SN1\"        \n",
       "[106] \"SN2\"         \"SN3\"         \"SN4\"         \"Sqft\"        \"SqftCate\"   \n",
       "[111] \"State\"       \"SubN\"        \"SubNorm1\"    \"SubNorm2\"    \"SubNorm3\"   \n",
       "[116] \"Trust\"       \"Trust1\"      \"Trust2\"      \"Trust3\"      \"Trust4\"     \n",
       "[121] \"Utility\"     \"X.9to5\"      \"cold\"        \"hot\"         \"valid\"      \n",
       "[126] \"valid1\"      \"valid2\"     "
      ]
     },
     "metadata": {},
     "output_type": "display_data"
    }
   ],
   "source": [
    "data1 <- read.csv(\"DR_Survey2_Share_Complete_Original.csv\",header=T);\n",
    "sort(names(data1))"
   ]
  },
  {
   "cell_type": "code",
   "execution_count": 2,
   "metadata": {
    "collapsed": true
   },
   "outputs": [],
   "source": [
    "#Frugal-Mean(Frugal1,Frugal2,Frugal3)\n",
    "tmp <- cbind(Frugal1=data1$Frugal1,Frugal2=data1$Frugal2,Frugal3=data1$Frugal3)\n",
    "data1$Frugal <- rowMeans(tmp)"
   ]
  },
  {
   "cell_type": "code",
   "execution_count": 3,
   "metadata": {
    "collapsed": false
   },
   "outputs": [],
   "source": [
    "#CashYN- 1 if person wants cash or percentage off bill (direct payment) 0 otherwise (indirect payment)\n",
    "data1$CashYN= data1$RewardForm==4 | data1$RewardForm==5"
   ]
  },
  {
   "cell_type": "code",
   "execution_count": 4,
   "metadata": {
    "collapsed": true
   },
   "outputs": [],
   "source": [
    "#MC-Mean(MC3,MC4,MC5)\n",
    "tmp <- cbind(MC3=data1$MC3,MC4=data1$MC4,MC5=data1$MC5)\n",
    "data1$MC <- rowMeans(tmp)"
   ]
  },
  {
   "cell_type": "code",
   "execution_count": 5,
   "metadata": {
    "collapsed": true
   },
   "outputs": [],
   "source": [
    "#EnergyC-Mean(EnergyC1,EnergyC2,EnergyC4)\n",
    "tmp <- cbind(EnergyC1=data1$EnergyC1,EnergyC2=data1$EnergyC2,EnergyC4=data1$EnergyC4)\n",
    "data1$EnergyC <- rowMeans(tmp)"
   ]
  },
  {
   "cell_type": "code",
   "execution_count": 6,
   "metadata": {
    "collapsed": true
   },
   "outputs": [],
   "source": [
    "#Trust-Mean(Trust1,Trust2,Trust3,Trust4)\n",
    "tmp <- cbind(Trust1=data1$Trust1,Trust2=data1$Trust2,Trust3=data1$Trust3,Trust4=data1$Trust4)\n",
    "data1$Trust <- rowMeans(tmp)"
   ]
  },
  {
   "cell_type": "code",
   "execution_count": 7,
   "metadata": {
    "collapsed": true
   },
   "outputs": [],
   "source": [
    "#ComfNS-Mean(ComfNS1,ComfNS2,ComfNS3)\n",
    "tmp <- cbind(ComfNS1=data1$ComfNS1,ComfNS2=data1$ComfNS2,ComfNS3=data1$ComfNS3)\n",
    "data1$ComfNS <- rowMeans(tmp)"
   ]
  },
  {
   "cell_type": "code",
   "execution_count": 8,
   "metadata": {
    "collapsed": true
   },
   "outputs": [],
   "source": [
    "#ComfNW-Mean(ComfNW1,ComfNW2)\n",
    "tmp <- cbind(ComfNW1=data1$ComfNW1,ComfNW2=data1$ComfNW2)\n",
    "data1$ComfNW <- rowMeans(tmp)"
   ]
  },
  {
   "cell_type": "code",
   "execution_count": 9,
   "metadata": {
    "collapsed": true
   },
   "outputs": [],
   "source": [
    "#Attitude-Mean(Atti1,Atti2,Atti3,Atti4)\n",
    "tmp <- cbind(Atti1=data1$Atti1,Atti2=data1$Atti2,Atti3=data1$Atti3,Atti4=data1$Atti4)\n",
    "data1$Atti <- rowMeans(tmp)"
   ]
  },
  {
   "cell_type": "code",
   "execution_count": 10,
   "metadata": {
    "collapsed": true
   },
   "outputs": [],
   "source": [
    "#SubNorm-Mean(SubNorm1,SubNorm2,SubNorm3)\n",
    "tmp <- cbind(SubNorm1=data1$SubNorm1,SubNorm=data1$SubNorm2,SubNorm3=data1$SubNorm3)\n",
    "data1$SubNorm <- rowMeans(tmp)"
   ]
  },
  {
   "cell_type": "code",
   "execution_count": 11,
   "metadata": {
    "collapsed": true
   },
   "outputs": [],
   "source": [
    "#PBC-Mean(PBC1,PBC2,PBC4,PBC5)\n",
    "tmp <- cbind(PBC1=data1$PBC1,PBC2=data1$PBC2,PBC4=data1$PBC4,PBC5=data1$PBC5)\n",
    "data1$PBC <- rowMeans(tmp)"
   ]
  },
  {
   "cell_type": "code",
   "execution_count": 12,
   "metadata": {
    "collapsed": true
   },
   "outputs": [],
   "source": [
    "#SN-Mean(SN1,SN2,SN4)\n",
    "tmp <- cbind(SN1=data1$SN1,SN=data1$SN2,SN4=data1$SN4)\n",
    "data1$SN <- rowMeans(tmp)"
   ]
  },
  {
   "cell_type": "code",
   "execution_count": 13,
   "metadata": {
    "collapsed": true
   },
   "outputs": [],
   "source": [
    "#HabitG-Mean(HabitC1,HabitC2,HabitC3,HabitC4)\n",
    "tmp <- cbind(HabitC1=data1$HabitC1,HabitC2=data1$HabitC2,HabitC3=data1$HabitC3,HabitC4=data1$HabitC4)\n",
    "data1$HabitG <- rowMeans(tmp)"
   ]
  },
  {
   "cell_type": "code",
   "execution_count": 14,
   "metadata": {
    "collapsed": true
   },
   "outputs": [],
   "source": [
    "#HabitHC-Mean(HabitC5,HabitC6,HabitC7)\n",
    "tmp <- cbind(HabitC5=data1$HabitC5,HabitC6=data1$HabitC6,HabitC7=data1$HabitC7)\n",
    "data1$HabitC <- rowMeans(tmp)"
   ]
  },
  {
   "cell_type": "code",
   "execution_count": 15,
   "metadata": {
    "collapsed": false
   },
   "outputs": [],
   "source": [
    "#Political (Categorical- recode 5,6,7 as “1”-republican, \n",
    "                        #recode 4,8 as “2”- apolitical, \n",
    "                        #recode 1,2,3 as “3”- democrat)\n",
    "data1$Political[data1$Political==1]=3 #democrat\n",
    "data1$Political[data1$Political==2]=3 #democrat\n",
    "data1$Political[data1$Political==3]=3 #democrat\n",
    "data1$Political[data1$Political==4]=2 #apolitical\n",
    "data1$Political[data1$Political==8]=2 #apolitical\n",
    "data1$Political[data1$Political==5]=1 #republican\n",
    "data1$Political[data1$Political==6]=1 #republican\n",
    "data1$Political[data1$Political==7]=1 #republican"
   ]
  },
  {
   "cell_type": "code",
   "execution_count": 16,
   "metadata": {
    "collapsed": true
   },
   "outputs": [],
   "source": [
    "#Ethnic (Categorical- keep 1 as “1”- white; group and recode all others as “0”- non white)\n",
    "data1$Ethnic[data1$Ethnic==1]=1 #white\n",
    "data1$Ethnic[data1$Ethnic==2]=0 #non-white\n",
    "data1$Ethnic[data1$Ethnic==3]=0\n",
    "data1$Ethnic[data1$Ethnic==4]=0\n",
    "data1$Ethnic[data1$Ethnic==5]=0\n",
    "data1$Ethnic[data1$Ethnic==6]=0\n",
    "data1$Ethnic[data1$Ethnic==7]=0"
   ]
  },
  {
   "cell_type": "code",
   "execution_count": 17,
   "metadata": {
    "collapsed": false
   },
   "outputs": [],
   "source": [
    "#recoding Louisiana\n",
    "data1$Summer_avgF[data1$State==25]=81.1\n",
    "data1$Winter_avgF[data1$State==25]=50.9\n",
    "data1$Summer_avgC[data1$State==25]=27.3\n",
    "data1$Winter_avgC[data1$State==25]=10.5\n",
    "data1$Summer_avg[data1$State==25]=3\n",
    "data1$Winter_avg[data1$State==25]=1"
   ]
  },
  {
   "cell_type": "code",
   "execution_count": 18,
   "metadata": {
    "collapsed": false
   },
   "outputs": [],
   "source": [
    "#recoding Texas\n",
    "data1$Summer_avgF[data1$State==52]=81.1\n",
    "data1$Winter_avgF[data1$State==52]=47.9\n",
    "data1$Summer_avgC[data1$State==52]=27.3\n",
    "data1$Winter_avgC[data1$State==52]=8.8\n",
    "data1$Summer_avg[data1$State==52]=3\n",
    "data1$Winter_avg[data1$State==52]=1"
   ]
  },
  {
   "cell_type": "code",
   "execution_count": 19,
   "metadata": {
    "collapsed": true
   },
   "outputs": [],
   "source": [
    "#recoding Florida\n",
    "data1$Summer_avgF[data1$State==15]=81\n",
    "data1$Winter_avgF[data1$State==15]=59.4\n",
    "data1$Summer_avgC[data1$State==15]=27.2\n",
    "data1$Winter_avgC[data1$State==15]=15.2\n",
    "data1$Summer_avg[data1$State==15]=3\n",
    "data1$Winter_avg[data1$State==15]=1"
   ]
  },
  {
   "cell_type": "code",
   "execution_count": 20,
   "metadata": {
    "collapsed": true
   },
   "outputs": [],
   "source": [
    "#recoding Oklahoma\n",
    "data1$Summer_avgF[data1$State==43]=79.6\n",
    "data1$Winter_avgF[data1$State==43]=39.1\n",
    "data1$Summer_avgC[data1$State==43]=26.4\n",
    "data1$Winter_avgC[data1$State==43]=3.9\n",
    "data1$Summer_avg[data1$State==43]=3\n",
    "data1$Winter_avg[data1$State==43]=1"
   ]
  },
  {
   "cell_type": "code",
   "execution_count": 21,
   "metadata": {
    "collapsed": true
   },
   "outputs": [],
   "source": [
    "#recoding Mississippi\n",
    "data1$Summer_avgF[data1$State==32]=79.5\n",
    "data1$Winter_avgF[data1$State==32]=46.7\n",
    "data1$Summer_avgC[data1$State==32]=26.4\n",
    "data1$Winter_avgC[data1$State==32]=8.2\n",
    "data1$Summer_avg[data1$State==32]=3\n",
    "data1$Winter_avg[data1$State==32]=1"
   ]
  },
  {
   "cell_type": "code",
   "execution_count": 22,
   "metadata": {
    "collapsed": true
   },
   "outputs": [],
   "source": [
    "#recoding Arkansas\n",
    "data1$Summer_avgF[data1$State==2]=78.8\n",
    "data1$Winter_avgF[data1$State==2]=41.5\n",
    "data1$Summer_avgC[data1$State==2]=26\n",
    "data1$Winter_avgC[data1$State==2]=5.3\n",
    "data1$Summer_avg[data1$State==2]=3\n",
    "data1$Winter_avg[data1$State==2]=1"
   ]
  },
  {
   "cell_type": "code",
   "execution_count": 23,
   "metadata": {
    "collapsed": true
   },
   "outputs": [],
   "source": [
    "#recoding Georgia\n",
    "data1$Summer_avgF[data1$State==16]=78.7\n",
    "data1$Winter_avgF[data1$State==16]=47.8\n",
    "data1$Summer_avgC[data1$State==16]=25.9\n",
    "data1$Winter_avgC[data1$State==16]=8.8\n",
    "data1$Summer_avg[data1$State==16]=3\n",
    "data1$Winter_avg[data1$State==16]=1"
   ]
  },
  {
   "cell_type": "code",
   "execution_count": 24,
   "metadata": {
    "collapsed": true
   },
   "outputs": [],
   "source": [
    "#recoding Alabama\n",
    "data1$Summer_avgF[data1$State==3]=78.6\n",
    "data1$Winter_avgF[data1$State==3]=46.5\n",
    "data1$Summer_avgC[data1$State==3]=25.9\n",
    "data1$Winter_avgC[data1$State==3]=8.1\n",
    "data1$Summer_avg[data1$State==3]=3\n",
    "data1$Winter_avg[data1$State==3]=1"
   ]
  },
  {
   "cell_type": "code",
   "execution_count": 25,
   "metadata": {
    "collapsed": true
   },
   "outputs": [],
   "source": [
    "#recoding South Carolina\n",
    "data1$Summer_avgF[data1$State==49]=78.4\n",
    "data1$Winter_avgF[data1$State==49]=46.1\n",
    "data1$Summer_avgC[data1$State==49]=25.8\n",
    "data1$Winter_avgC[data1$State==49]=7.8\n",
    "data1$Summer_avg[data1$State==49]=3\n",
    "data1$Winter_avg[data1$State==49]=1"
   ]
  },
  {
   "cell_type": "code",
   "execution_count": 26,
   "metadata": {
    "collapsed": true
   },
   "outputs": [],
   "source": [
    "#recoding Arizona\n",
    "data1$Summer_avgF[data1$State==6]=78.1\n",
    "data1$Winter_avgF[data1$State==6]=43.6\n",
    "data1$Summer_avgC[data1$State==6]=25.6\n",
    "data1$Winter_avgC[data1$State==6]=6.4\n",
    "data1$Summer_avg[data1$State==6]=3\n",
    "data1$Winter_avg[data1$State==6]=1"
   ]
  },
  {
   "cell_type": "code",
   "execution_count": 27,
   "metadata": {
    "collapsed": true
   },
   "outputs": [],
   "source": [
    "#recoding Kansas\n",
    "data1$Summer_avgF[data1$State==23]=76.4\n",
    "data1$Winter_avgF[data1$State==23]=31.9\n",
    "data1$Summer_avgC[data1$State==23]=24.7\n",
    "data1$Winter_avgC[data1$State==23]=-0.1\n",
    "data1$Summer_avg[data1$State==23]=3\n",
    "data1$Winter_avg[data1$State==23]=2"
   ]
  },
  {
   "cell_type": "code",
   "execution_count": 28,
   "metadata": {
    "collapsed": true
   },
   "outputs": [],
   "source": [
    "#recoding North Carolina\n",
    "data1$Summer_avgF[data1$State==41]=75.7\n",
    "data1$Winter_avgF[data1$State==41]=42.1\n",
    "data1$Summer_avgC[data1$State==41]=24.3\n",
    "data1$Winter_avgC[data1$State==41]=5.6\n",
    "data1$Summer_avg[data1$State==41]=3\n",
    "data1$Winter_avg[data1$State==41]=1"
   ]
  },
  {
   "cell_type": "code",
   "execution_count": 29,
   "metadata": {
    "collapsed": true
   },
   "outputs": [],
   "source": [
    "#recoding Tennessee\n",
    "data1$Summer_avgF[data1$State==51]=75.6\n",
    "data1$Winter_avgF[data1$State==51]=39.1\n",
    "data1$Summer_avgC[data1$State==51]=24.2\n",
    "data1$Winter_avgC[data1$State==51]=3.9\n",
    "data1$Summer_avg[data1$State==51]=3\n",
    "data1$Winter_avg[data1$State==51]=1"
   ]
  },
  {
   "cell_type": "code",
   "execution_count": 30,
   "metadata": {
    "collapsed": true
   },
   "outputs": [],
   "source": [
    "#recoding Missouri\n",
    "data1$Summer_avgF[data1$State==33]=75.4\n",
    "data1$Winter_avgF[data1$State==33]=32.3\n",
    "data1$Summer_avgC[data1$State==33]=24.1\n",
    "data1$Winter_avgC[data1$State==33]=0.2\n",
    "data1$Summer_avg[data1$State==33]=3\n",
    "data1$Winter_avg[data1$State==33]=2"
   ]
  },
  {
   "cell_type": "code",
   "execution_count": 31,
   "metadata": {
    "collapsed": true
   },
   "outputs": [],
   "source": [
    "#recoding Kentucky\n",
    "data1$Summer_avgF[data1$State==24]=74.5\n",
    "data1$Winter_avgF[data1$State==24]=35.9\n",
    "data1$Summer_avgC[data1$State==24]=23.6\n",
    "data1$Winter_avgC[data1$State==24]=2.2\n",
    "data1$Summer_avg[data1$State==24]=3\n",
    "data1$Winter_avg[data1$State==24]=2"
   ]
  },
  {
   "cell_type": "code",
   "execution_count": 32,
   "metadata": {
    "collapsed": true
   },
   "outputs": [],
   "source": [
    "#recoding Delaware\n",
    "data1$Summer_avgF[data1$State==12]=74.2\n",
    "data1$Winter_avgF[data1$State==12]=36.1\n",
    "data1$Summer_avgC[data1$State==12]=23.4\n",
    "data1$Winter_avgC[data1$State==12]=2.3\n",
    "data1$Summer_avg[data1$State==12]=3\n",
    "data1$Winter_avg[data1$State==12]=1"
   ]
  },
  {
   "cell_type": "code",
   "execution_count": 33,
   "metadata": {
    "collapsed": true
   },
   "outputs": [],
   "source": [
    "#recoding California\n",
    "data1$Summer_avgF[data1$State==5]=73.4\n",
    "data1$Winter_avgF[data1$State==5]=46.2\n",
    "data1$Summer_avgC[data1$State==5]=23\n",
    "data1$Winter_avgC[data1$State==5]=7.9\n",
    "data1$Summer_avg[data1$State==5]=3\n",
    "data1$Winter_avg[data1$State==5]=1"
   ]
  },
  {
   "cell_type": "code",
   "execution_count": 34,
   "metadata": {
    "collapsed": true
   },
   "outputs": [],
   "source": [
    "#recoding Illinois\n",
    "data1$Summer_avgF[data1$State==20]=73.4\n",
    "data1$Winter_avgF[data1$State==20]=28.3\n",
    "data1$Summer_avgC[data1$State==20]=23\n",
    "data1$Winter_avgC[data1$State==20]=-2.1\n",
    "data1$Summer_avg[data1$State==20]=3\n",
    "data1$Winter_avg[data1$State==20]=2"
   ]
  },
  {
   "cell_type": "code",
   "execution_count": 35,
   "metadata": {
    "collapsed": true
   },
   "outputs": [],
   "source": [
    "#recoding Maryland\n",
    "data1$Summer_avgF[data1$State==28]=73.3\n",
    "data1$Winter_avgF[data1$State==28]=34.7\n",
    "data1$Summer_avgC[data1$State==28]=22.9\n",
    "data1$Winter_avgC[data1$State==28]=1.5\n",
    "data1$Summer_avg[data1$State==28]=2\n",
    "data1$Winter_avg[data1$State==28]=2"
   ]
  },
  {
   "cell_type": "code",
   "execution_count": 36,
   "metadata": {
    "collapsed": true
   },
   "outputs": [],
   "source": [
    "#recoding DC\n",
    "data1$Summer_avgF[data1$State==13]=73.25\n",
    "data1$Winter_avgF[data1$State==13]=35.75\n",
    "data1$Summer_avgC[data1$State==13]=22.9\n",
    "data1$Winter_avgC[data1$State==13]=1.9\n",
    "data1$Summer_avg[data1$State==13]=2\n",
    "data1$Winter_avg[data1$State==13]=2"
   ]
  },
  {
   "cell_type": "code",
   "execution_count": 37,
   "metadata": {
    "collapsed": true
   },
   "outputs": [],
   "source": [
    "#recoding Virginia\n",
    "data1$Summer_avgF[data1$State==55]=73.2\n",
    "data1$Winter_avgF[data1$State==55]=36.8\n",
    "data1$Summer_avgC[data1$State==55]=22.9\n",
    "data1$Winter_avgC[data1$State==55]=2.7\n",
    "data1$Summer_avg[data1$State==55]=2\n",
    "data1$Winter_avg[data1$State==55]=1"
   ]
  },
  {
   "cell_type": "code",
   "execution_count": 38,
   "metadata": {
    "collapsed": true
   },
   "outputs": [],
   "source": [
    "#recoding Indiana\n",
    "data1$Summer_avgF[data1$State==21]=72.4\n",
    "data1$Winter_avgF[data1$State==21]=29.4\n",
    "data1$Summer_avgC[data1$State==21]=22.4\n",
    "data1$Winter_avgC[data1$State==21]=-1.4\n",
    "data1$Summer_avg[data1$State==21]=2\n",
    "data1$Winter_avg[data1$State==21]=2"
   ]
  },
  {
   "cell_type": "code",
   "execution_count": 39,
   "metadata": {
    "collapsed": true
   },
   "outputs": [],
   "source": [
    "#recoding Hawaii\n",
    "data1$Summer_avgF[data1$State==18]=72.2\n",
    "data1$Winter_avgF[data1$State==18]=67.4\n",
    "data1$Summer_avgC[data1$State==18]=22.3\n",
    "data1$Winter_avgC[data1$State==18]=19.7\n",
    "data1$Summer_avg[data1$State==18]=2\n",
    "data1$Winter_avg[data1$State==18]=2"
   ]
  },
  {
   "cell_type": "code",
   "execution_count": 40,
   "metadata": {
    "collapsed": true
   },
   "outputs": [],
   "source": [
    "#recoding New Jersey\n",
    "data1$Summer_avgF[data1$State==38]=72.2\n",
    "data1$Winter_avgF[data1$State==38]=33\n",
    "data1$Summer_avgC[data1$State==38]=22.3\n",
    "data1$Winter_avgC[data1$State==38]=0.6\n",
    "data1$Summer_avg[data1$State==38]=2\n",
    "data1$Winter_avg[data1$State==38]=2"
   ]
  },
  {
   "cell_type": "code",
   "execution_count": 41,
   "metadata": {
    "collapsed": true
   },
   "outputs": [],
   "source": [
    "#recoding Nebraska\n",
    "data1$Summer_avgF[data1$State==35]=71.8\n",
    "data1$Winter_avgF[data1$State==35]=25.7\n",
    "data1$Summer_avgC[data1$State==35]=22.1\n",
    "data1$Winter_avgC[data1$State==35]=-3.5\n",
    "data1$Summer_avg[data1$State==35]=2\n",
    "data1$Winter_avg[data1$State==35]=3"
   ]
  },
  {
   "cell_type": "code",
   "execution_count": 42,
   "metadata": {
    "collapsed": true
   },
   "outputs": [],
   "source": [
    "#recoding Iowa\n",
    "data1$Summer_avgF[data1$State==22]=71.6\n",
    "data1$Winter_avgF[data1$State==22]=21.7\n",
    "data1$Summer_avgC[data1$State==22]=22\n",
    "data1$Winter_avgC[data1$State==22]=-5.7\n",
    "data1$Summer_avg[data1$State==22]=2\n",
    "data1$Winter_avg[data1$State==22]=3"
   ]
  },
  {
   "cell_type": "code",
   "execution_count": 43,
   "metadata": {
    "collapsed": true
   },
   "outputs": [],
   "source": [
    "#recoding New Mexico\n",
    "data1$Summer_avgF[data1$State==39]=71.4\n",
    "data1$Winter_avgF[data1$State==39]=36.1\n",
    "data1$Summer_avgC[data1$State==39]=21.9\n",
    "data1$Winter_avgC[data1$State==39]=2.3\n",
    "data1$Summer_avg[data1$State==39]=2\n",
    "data1$Winter_avg[data1$State==39]=1"
   ]
  },
  {
   "cell_type": "code",
   "execution_count": 44,
   "metadata": {
    "collapsed": true
   },
   "outputs": [],
   "source": [
    "#recoding Ohio\n",
    "data1$Summer_avgF[data1$State==42]=70.9\n",
    "data1$Winter_avgF[data1$State==42]=29.5\n",
    "data1$Summer_avgC[data1$State==42]=21.6\n",
    "data1$Winter_avgC[data1$State==42]=-1.4\n",
    "data1$Summer_avg[data1$State==42]=2\n",
    "data1$Winter_avg[data1$State==42]=2"
   ]
  },
  {
   "cell_type": "code",
   "execution_count": 45,
   "metadata": {
    "collapsed": true
   },
   "outputs": [],
   "source": [
    "#recoding West Virginia\n",
    "data1$Summer_avgF[data1$State==58]=70.2\n",
    "data1$Winter_avgF[data1$State==58]=32.8\n",
    "data1$Summer_avgC[data1$State==58]=21.2\n",
    "data1$Winter_avgC[data1$State==58]=0.4\n",
    "data1$Summer_avg[data1$State==58]=2\n",
    "data1$Winter_avg[data1$State==58]=2"
   ]
  },
  {
   "cell_type": "code",
   "execution_count": 46,
   "metadata": {
    "collapsed": true
   },
   "outputs": [],
   "source": [
    "#recoding South Dakota\n",
    "data1$Summer_avgF[data1$State==50]=69.9\n",
    "data1$Winter_avgF[data1$State==50]=19.5\n",
    "data1$Summer_avgC[data1$State==50]=21.1\n",
    "data1$Winter_avgC[data1$State==50]=-6.9\n",
    "data1$Summer_avg[data1$State==50]=2\n",
    "data1$Winter_avg[data1$State==50]=3"
   ]
  },
  {
   "cell_type": "code",
   "execution_count": 47,
   "metadata": {
    "collapsed": true
   },
   "outputs": [],
   "source": [
    "#recoding Utah\n",
    "data1$Summer_avgF[data1$State==53]=69.6\n",
    "data1$Winter_avgF[data1$State==53]=28.2\n",
    "data1$Summer_avgC[data1$State==53]=20.9\n",
    "data1$Winter_avgC[data1$State==53]=-2.1\n",
    "data1$Summer_avg[data1$State==53]=2\n",
    "data1$Winter_avg[data1$State==53]=2"
   ]
  },
  {
   "cell_type": "code",
   "execution_count": 48,
   "metadata": {
    "collapsed": true
   },
   "outputs": [],
   "source": [
    "#recoding Connecticut\n",
    "data1$Summer_avgF[data1$State==11]=69.2\n",
    "data1$Winter_avgF[data1$State==11]=28.5\n",
    "data1$Summer_avgC[data1$State==11]=20.7\n",
    "data1$Winter_avgC[data1$State==11]=-1.9\n",
    "data1$Summer_avg[data1$State==11]=2\n",
    "data1$Winter_avg[data1$State==11]=2"
   ]
  },
  {
   "cell_type": "code",
   "execution_count": 49,
   "metadata": {
    "collapsed": true
   },
   "outputs": [],
   "source": [
    "#recoding Nevada\n",
    "data1$Summer_avgF[data1$State==36]=69\n",
    "data1$Winter_avgF[data1$State==36]=32.2\n",
    "data1$Summer_avgC[data1$State==36]=20.6\n",
    "data1$Winter_avgC[data1$State==36]=0.1\n",
    "data1$Summer_avg[data1$State==36]=2\n",
    "data1$Winter_avg[data1$State==36]=2"
   ]
  },
  {
   "cell_type": "code",
   "execution_count": 50,
   "metadata": {
    "collapsed": true
   },
   "outputs": [],
   "source": [
    "#recoding Rhode Island\n",
    "data1$Summer_avgF[data1$State==48]=68.8\n",
    "data1$Winter_avgF[data1$State==48]=31.4\n",
    "data1$Summer_avgC[data1$State==48]=20.4\n",
    "data1$Winter_avgC[data1$State==48]=-0.3\n",
    "data1$Summer_avg[data1$State==48]=2\n",
    "data1$Winter_avg[data1$State==48]=2"
   ]
  },
  {
   "cell_type": "code",
   "execution_count": 51,
   "metadata": {
    "collapsed": true
   },
   "outputs": [],
   "source": [
    "#recoding Pennsylvania\n",
    "data1$Summer_avgF[data1$State==48]=68.6\n",
    "data1$Winter_avgF[data1$State==48]=28.4\n",
    "data1$Summer_avgC[data1$State==48]=20.3\n",
    "data1$Winter_avgC[data1$State==48]=-2\n",
    "data1$Summer_avg[data1$State==48]=1\n",
    "data1$Winter_avg[data1$State==48]=2"
   ]
  },
  {
   "cell_type": "code",
   "execution_count": 52,
   "metadata": {
    "collapsed": true
   },
   "outputs": [],
   "source": [
    "#recoding Massachusetts\n",
    "data1$Summer_avgF[data1$State==29]=68\n",
    "data1$Winter_avgF[data1$State==29]=27.4\n",
    "data1$Summer_avgC[data1$State==29]=20\n",
    "data1$Winter_avgC[data1$State==29]=-2.6\n",
    "data1$Summer_avg[data1$State==29]=1\n",
    "data1$Winter_avg[data1$State==29]=3"
   ]
  },
  {
   "cell_type": "code",
   "execution_count": 53,
   "metadata": {
    "collapsed": true
   },
   "outputs": [],
   "source": [
    "#recoding Minnesota\n",
    "data1$Summer_avgF[data1$State==31]=66.8\n",
    "data1$Winter_avgF[data1$State==31]=12.4\n",
    "data1$Summer_avgC[data1$State==31]=19.3\n",
    "data1$Winter_avgC[data1$State==31]=-10.9\n",
    "data1$Summer_avg[data1$State==31]=1\n",
    "data1$Winter_avg[data1$State==31]=3"
   ]
  },
  {
   "cell_type": "code",
   "execution_count": 54,
   "metadata": {
    "collapsed": true
   },
   "outputs": [],
   "source": [
    "#recoding Wisconsin\n",
    "data1$Summer_avgF[data1$State==59]=66.8\n",
    "data1$Winter_avgF[data1$State==59]=17.2\n",
    "data1$Summer_avgC[data1$State==59]=19.3\n",
    "data1$Winter_avgC[data1$State==59]=-8.2\n",
    "data1$Summer_avg[data1$State==59]=1\n",
    "data1$Winter_avg[data1$State==59]=3"
   ]
  },
  {
   "cell_type": "code",
   "execution_count": 55,
   "metadata": {
    "collapsed": true
   },
   "outputs": [],
   "source": [
    "#recoding North Dakota\n",
    "data1$Summer_avgF[data1$State==61]=66.6\n",
    "data1$Winter_avgF[data1$State==61]=12.2\n",
    "data1$Summer_avgC[data1$State==61]=19.2\n",
    "data1$Winter_avgC[data1$State==61]=-11\n",
    "data1$Summer_avg[data1$State==61]=1\n",
    "data1$Winter_avg[data1$State==61]=3"
   ]
  },
  {
   "cell_type": "code",
   "execution_count": 56,
   "metadata": {
    "collapsed": true
   },
   "outputs": [],
   "source": [
    "#recoding New York\n",
    "data1$Summer_avgF[data1$State==40]=66.5\n",
    "data1$Winter_avgF[data1$State==40]=23.3\n",
    "data1$Summer_avgC[data1$State==40]=19.2\n",
    "data1$Winter_avgC[data1$State==40]=-4.8\n",
    "data1$Summer_avg[data1$State==40]=1\n",
    "data1$Winter_avg[data1$State==40]=3"
   ]
  },
  {
   "cell_type": "code",
   "execution_count": 57,
   "metadata": {
    "collapsed": true
   },
   "outputs": [],
   "source": [
    "#recoding Michigan\n",
    "data1$Summer_avgF[data1$State==30]=66.2\n",
    "data1$Winter_avgF[data1$State==30]=21.7\n",
    "data1$Summer_avgC[data1$State==30]=19\n",
    "data1$Winter_avgC[data1$State==30]=-5.7\n",
    "data1$Summer_avg[data1$State==30]=1\n",
    "data1$Winter_avg[data1$State==30]=3"
   ]
  },
  {
   "cell_type": "code",
   "execution_count": 58,
   "metadata": {
    "collapsed": true
   },
   "outputs": [],
   "source": [
    "#recoding New Hampshire\n",
    "data1$Summer_avgF[data1$State==37]=65.5\n",
    "data1$Winter_avgF[data1$State==37]=21.1\n",
    "data1$Summer_avgC[data1$State==37]=18.6\n",
    "data1$Winter_avgC[data1$State==37]=-6.1\n",
    "data1$Summer_avg[data1$State==37]=1\n",
    "data1$Winter_avg[data1$State==37]=3"
   ]
  },
  {
   "cell_type": "code",
   "execution_count": 59,
   "metadata": {
    "collapsed": true
   },
   "outputs": [],
   "source": [
    "#recoding Colorado\n",
    "data1$Summer_avgF[data1$State==10]=65.2\n",
    "data1$Winter_avgF[data1$State==10]=25.8\n",
    "data1$Summer_avgC[data1$State==10]=18.4\n",
    "data1$Winter_avgC[data1$State==10]=-3.4\n",
    "data1$Summer_avg[data1$State==10]=1\n",
    "data1$Winter_avg[data1$State==10]=3"
   ]
  },
  {
   "cell_type": "code",
   "execution_count": 60,
   "metadata": {
    "collapsed": true
   },
   "outputs": [],
   "source": [
    "#recoding Vermont\n",
    "data1$Summer_avgF[data1$State==10]=65.1\n",
    "data1$Winter_avgF[data1$State==10]=19.4\n",
    "data1$Summer_avgC[data1$State==10]=18.4\n",
    "data1$Winter_avgC[data1$State==10]=-7\n",
    "data1$Summer_avg[data1$State==10]=1\n",
    "data1$Winter_avg[data1$State==10]=3"
   ]
  },
  {
   "cell_type": "code",
   "execution_count": 61,
   "metadata": {
    "collapsed": true
   },
   "outputs": [],
   "source": [
    "#recoding Montana\n",
    "data1$Summer_avgF[data1$State==34]=64.2\n",
    "data1$Winter_avgF[data1$State==34]=21.2\n",
    "data1$Summer_avgC[data1$State==34]=17.9\n",
    "data1$Winter_avgC[data1$State==34]=-6\n",
    "data1$Summer_avg[data1$State==34]=1\n",
    "data1$Winter_avg[data1$State==34]=3"
   ]
  },
  {
   "cell_type": "code",
   "execution_count": 62,
   "metadata": {
    "collapsed": true
   },
   "outputs": [],
   "source": [
    "#recoding Washington\n",
    "data1$Summer_avgF[data1$State==57]=63.8\n",
    "data1$Winter_avgF[data1$State==57]=33\n",
    "data1$Summer_avgC[data1$State==57]=17.7\n",
    "data1$Winter_avgC[data1$State==57]=0.6\n",
    "data1$Summer_avg[data1$State==57]=1\n",
    "data1$Winter_avg[data1$State==57]=2"
   ]
  },
  {
   "cell_type": "code",
   "execution_count": 63,
   "metadata": {
    "collapsed": true
   },
   "outputs": [],
   "source": [
    "#recoding Oregon\n",
    "data1$Summer_avgF[data1$State==44]=63.7\n",
    "data1$Winter_avgF[data1$State==44]=34\n",
    "data1$Summer_avgC[data1$State==44]=17.6\n",
    "data1$Winter_avgC[data1$State==44]=1.1\n",
    "data1$Summer_avg[data1$State==44]=1\n",
    "data1$Winter_avg[data1$State==44]=2"
   ]
  },
  {
   "cell_type": "code",
   "execution_count": 64,
   "metadata": {
    "collapsed": true
   },
   "outputs": [],
   "source": [
    "#recoding Idaho\n",
    "data1$Summer_avgF[data1$State==19]=63.7\n",
    "data1$Winter_avgF[data1$State==19]=25.4\n",
    "data1$Summer_avgC[data1$State==19]=17.6\n",
    "data1$Winter_avgC[data1$State==19]=-3.7\n",
    "data1$Summer_avg[data1$State==19]=1\n",
    "data1$Winter_avg[data1$State==19]=3"
   ]
  },
  {
   "cell_type": "code",
   "execution_count": 65,
   "metadata": {
    "collapsed": true
   },
   "outputs": [],
   "source": [
    "#recoding Maine\n",
    "data1$Summer_avgF[data1$State==60]=63.7\n",
    "data1$Winter_avgF[data1$State==60]=16.8\n",
    "data1$Summer_avgC[data1$State==60]=17.6\n",
    "data1$Winter_avgC[data1$State==60]=-8.4\n",
    "data1$Summer_avg[data1$State==60]=1\n",
    "data1$Winter_avg[data1$State==60]=3"
   ]
  },
  {
   "cell_type": "code",
   "execution_count": 66,
   "metadata": {
    "collapsed": true
   },
   "outputs": [],
   "source": [
    "#recoding Wyoming\n",
    "data1$Summer_avgF[data1$State==60]=63.5\n",
    "data1$Winter_avgF[data1$State==60]=21.2\n",
    "data1$Summer_avgC[data1$State==60]=17.5\n",
    "data1$Winter_avgC[data1$State==60]=-6\n",
    "data1$Summer_avg[data1$State==60]=1\n",
    "data1$Winter_avg[data1$State==60]=3"
   ]
  },
  {
   "cell_type": "code",
   "execution_count": 67,
   "metadata": {
    "collapsed": true
   },
   "outputs": [],
   "source": [
    "#recoding Alaska\n",
    "data1$Summer_avgF[data1$State==1]=52.3\n",
    "data1$Winter_avgF[data1$State==1]=2.6\n",
    "data1$Summer_avgC[data1$State==1]=11.3\n",
    "data1$Winter_avgC[data1$State==1]=-16.3\n",
    "data1$Summer_avg[data1$State==1]=1\n",
    "data1$Winter_avg[data1$State==1]=3"
   ]
  },
  {
   "cell_type": "code",
   "execution_count": 68,
   "metadata": {
    "collapsed": false
   },
   "outputs": [
    {
     "data": {
      "text/plain": [
       "\n",
       "  1   2   3 \n",
       "211 158 415 "
      ]
     },
     "metadata": {},
     "output_type": "display_data"
    },
    {
     "data": {
      "text/plain": [
       "\n",
       "  1   2   3 \n",
       "368 236 180 "
      ]
     },
     "metadata": {},
     "output_type": "display_data"
    }
   ],
   "source": [
    "table(data1$Summer_avg)\n",
    "table(data1$Winter_avg)"
   ]
  },
  {
   "cell_type": "code",
   "execution_count": 69,
   "metadata": {
    "collapsed": false
   },
   "outputs": [],
   "source": [
    "write.csv(data1,\"DR_Survey2_Share_Complete.csv\")"
   ]
  },
  {
   "cell_type": "code",
   "execution_count": null,
   "metadata": {
    "collapsed": true
   },
   "outputs": [],
   "source": []
  }
 ],
 "metadata": {
  "kernelspec": {
   "display_name": "R",
   "language": "R",
   "name": "ir"
  },
  "language_info": {
   "codemirror_mode": "r",
   "file_extension": ".r",
   "mimetype": "text/x-r-source",
   "name": "R",
   "pygments_lexer": "r",
   "version": "3.3.1"
  }
 },
 "nbformat": 4,
 "nbformat_minor": 1
}
