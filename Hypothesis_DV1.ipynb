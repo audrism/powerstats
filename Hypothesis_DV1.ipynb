{
 "cells": [
  {
   "cell_type": "markdown",
   "metadata": {},
   "source": [
    "## Hypothesis\n",
    "DV1=HabitG=mean(HabitC1,HabitC2,HabitC3,HabitC4)"
   ]
  },
  {
   "cell_type": "code",
   "execution_count": 1,
   "metadata": {
    "collapsed": false
   },
   "outputs": [
    {
     "data": {
      "text/html": [
       "<ol class=list-inline>\n",
       "\t<li>'ACYN'</li>\n",
       "\t<li>'Age'</li>\n",
       "\t<li>'Atti'</li>\n",
       "\t<li>'Atti1'</li>\n",
       "\t<li>'Atti2'</li>\n",
       "\t<li>'Atti3'</li>\n",
       "\t<li>'Atti4'</li>\n",
       "\t<li>'Attitude'</li>\n",
       "\t<li>'AwayS'</li>\n",
       "\t<li>'AwaySNY'</li>\n",
       "\t<li>'AwayW'</li>\n",
       "\t<li>'AwayWNY'</li>\n",
       "\t<li>'BillS'</li>\n",
       "\t<li>'BillW'</li>\n",
       "\t<li>'CashYN'</li>\n",
       "\t<li>'City'</li>\n",
       "\t<li>'ComfNS'</li>\n",
       "\t<li>'ComfNS1'</li>\n",
       "\t<li>'ComfNS2'</li>\n",
       "\t<li>'ComfNS3'</li>\n",
       "\t<li>'ComfNW'</li>\n",
       "\t<li>'ComfNW1'</li>\n",
       "\t<li>'ComfNW2'</li>\n",
       "\t<li>'ComfortS'</li>\n",
       "\t<li>'ComfortW'</li>\n",
       "\t<li>'CompR'</li>\n",
       "\t<li>'ControlN1'</li>\n",
       "\t<li>'ControlN2R'</li>\n",
       "\t<li>'ControlN3'</li>\n",
       "\t<li>'ControlN4'</li>\n",
       "\t<li>'ConvB1'</li>\n",
       "\t<li>'ConvB2'</li>\n",
       "\t<li>'ConvB3'</li>\n",
       "\t<li>'ConvB4'</li>\n",
       "\t<li>'DeviceType'</li>\n",
       "\t<li>'Educ'</li>\n",
       "\t<li>'EmerRForm'</li>\n",
       "\t<li>'EnergyC'</li>\n",
       "\t<li>'EnergyC1'</li>\n",
       "\t<li>'EnergyC2'</li>\n",
       "\t<li>'EnergyC3'</li>\n",
       "\t<li>'EnergyC4'</li>\n",
       "\t<li>'Ethnic'</li>\n",
       "\t<li>'Frugal'</li>\n",
       "\t<li>'Frugal1'</li>\n",
       "\t<li>'Frugal2'</li>\n",
       "\t<li>'Frugal3'</li>\n",
       "\t<li>'Gender'</li>\n",
       "\t<li>'HTdevice'</li>\n",
       "\t<li>'HTsource'</li>\n",
       "\t<li>'HabitC'</li>\n",
       "\t<li>'HabitC1'</li>\n",
       "\t<li>'HabitC2'</li>\n",
       "\t<li>'HabitC3'</li>\n",
       "\t<li>'HabitC4'</li>\n",
       "\t<li>'HabitC5'</li>\n",
       "\t<li>'HabitC6'</li>\n",
       "\t<li>'HabitC7'</li>\n",
       "\t<li>'HabitE1'</li>\n",
       "\t<li>'HabitE2'</li>\n",
       "\t<li>'HabitE3'</li>\n",
       "\t<li>'HabitG'</li>\n",
       "\t<li>'HeatYN'</li>\n",
       "\t<li>'HomeS'</li>\n",
       "\t<li>'HomeSYN'</li>\n",
       "\t<li>'HomeW'</li>\n",
       "\t<li>'HomeWYN'</li>\n",
       "\t<li>'HouseholdS'</li>\n",
       "\t<li>'ID'</li>\n",
       "\t<li>'INT1'</li>\n",
       "\t<li>'INT2'</li>\n",
       "\t<li>'INT3'</li>\n",
       "\t<li>'INT4'</li>\n",
       "\t<li>'IncAutoS'</li>\n",
       "\t<li>'IncAutoW'</li>\n",
       "\t<li>'IncAwayS'</li>\n",
       "\t<li>'IncAwayW'</li>\n",
       "\t<li>'IncDish'</li>\n",
       "\t<li>'IncEmer10S'</li>\n",
       "\t<li>'IncEmer10W'</li>\n",
       "\t<li>'IncEmer30S'</li>\n",
       "\t<li>'IncEmer30W'</li>\n",
       "\t<li>'IncHomeS'</li>\n",
       "\t<li>'IncHomeW'</li>\n",
       "\t<li>'IncWD'</li>\n",
       "\t<li>'Income'</li>\n",
       "\t<li>'Job'</li>\n",
       "\t<li>'Latitude'</li>\n",
       "\t<li>'Longitude'</li>\n",
       "\t<li>'MC'</li>\n",
       "\t<li>'MC1'</li>\n",
       "\t<li>'MC2'</li>\n",
       "\t<li>'MC3'</li>\n",
       "\t<li>'MC4'</li>\n",
       "\t<li>'MC5'</li>\n",
       "\t<li>'MCBill'</li>\n",
       "\t<li>'MCG'</li>\n",
       "\t<li>'NBillS'</li>\n",
       "\t<li>'NBillW'</li>\n",
       "\t<li>'OwnRent'</li>\n",
       "\t<li>'PBC'</li>\n",
       "\t<li>'PBC1'</li>\n",
       "\t<li>'PBC2'</li>\n",
       "\t<li>'PBC3R'</li>\n",
       "\t<li>'PBC4'</li>\n",
       "\t<li>'PBC5'</li>\n",
       "\t<li>'PBillStatus'</li>\n",
       "\t<li>'Political'</li>\n",
       "\t<li>'ReasonNeg'</li>\n",
       "\t<li>'ReasonPos'</li>\n",
       "\t<li>'RewardForm'</li>\n",
       "\t<li>'SN'</li>\n",
       "\t<li>'SN1'</li>\n",
       "\t<li>'SN2'</li>\n",
       "\t<li>'SN3'</li>\n",
       "\t<li>'SN4'</li>\n",
       "\t<li>'Sqft'</li>\n",
       "\t<li>'SqftCate'</li>\n",
       "\t<li>'State'</li>\n",
       "\t<li>'SubN'</li>\n",
       "\t<li>'SubNorm'</li>\n",
       "\t<li>'SubNorm1'</li>\n",
       "\t<li>'SubNorm2'</li>\n",
       "\t<li>'SubNorm3'</li>\n",
       "\t<li>'Summer_avg'</li>\n",
       "\t<li>'Trust'</li>\n",
       "\t<li>'Trust1'</li>\n",
       "\t<li>'Trust2'</li>\n",
       "\t<li>'Trust3'</li>\n",
       "\t<li>'Trust4'</li>\n",
       "\t<li>'Utility'</li>\n",
       "\t<li>'Winter_avg'</li>\n",
       "\t<li>'X'</li>\n",
       "\t<li>'X.9to5'</li>\n",
       "\t<li>'cold'</li>\n",
       "\t<li>'hot'</li>\n",
       "\t<li>'valid'</li>\n",
       "\t<li>'valid1'</li>\n",
       "\t<li>'valid2'</li>\n",
       "</ol>\n"
      ],
      "text/latex": [
       "\\begin{enumerate*}\n",
       "\\item 'ACYN'\n",
       "\\item 'Age'\n",
       "\\item 'Atti'\n",
       "\\item 'Atti1'\n",
       "\\item 'Atti2'\n",
       "\\item 'Atti3'\n",
       "\\item 'Atti4'\n",
       "\\item 'Attitude'\n",
       "\\item 'AwayS'\n",
       "\\item 'AwaySNY'\n",
       "\\item 'AwayW'\n",
       "\\item 'AwayWNY'\n",
       "\\item 'BillS'\n",
       "\\item 'BillW'\n",
       "\\item 'CashYN'\n",
       "\\item 'City'\n",
       "\\item 'ComfNS'\n",
       "\\item 'ComfNS1'\n",
       "\\item 'ComfNS2'\n",
       "\\item 'ComfNS3'\n",
       "\\item 'ComfNW'\n",
       "\\item 'ComfNW1'\n",
       "\\item 'ComfNW2'\n",
       "\\item 'ComfortS'\n",
       "\\item 'ComfortW'\n",
       "\\item 'CompR'\n",
       "\\item 'ControlN1'\n",
       "\\item 'ControlN2R'\n",
       "\\item 'ControlN3'\n",
       "\\item 'ControlN4'\n",
       "\\item 'ConvB1'\n",
       "\\item 'ConvB2'\n",
       "\\item 'ConvB3'\n",
       "\\item 'ConvB4'\n",
       "\\item 'DeviceType'\n",
       "\\item 'Educ'\n",
       "\\item 'EmerRForm'\n",
       "\\item 'EnergyC'\n",
       "\\item 'EnergyC1'\n",
       "\\item 'EnergyC2'\n",
       "\\item 'EnergyC3'\n",
       "\\item 'EnergyC4'\n",
       "\\item 'Ethnic'\n",
       "\\item 'Frugal'\n",
       "\\item 'Frugal1'\n",
       "\\item 'Frugal2'\n",
       "\\item 'Frugal3'\n",
       "\\item 'Gender'\n",
       "\\item 'HTdevice'\n",
       "\\item 'HTsource'\n",
       "\\item 'HabitC'\n",
       "\\item 'HabitC1'\n",
       "\\item 'HabitC2'\n",
       "\\item 'HabitC3'\n",
       "\\item 'HabitC4'\n",
       "\\item 'HabitC5'\n",
       "\\item 'HabitC6'\n",
       "\\item 'HabitC7'\n",
       "\\item 'HabitE1'\n",
       "\\item 'HabitE2'\n",
       "\\item 'HabitE3'\n",
       "\\item 'HabitG'\n",
       "\\item 'HeatYN'\n",
       "\\item 'HomeS'\n",
       "\\item 'HomeSYN'\n",
       "\\item 'HomeW'\n",
       "\\item 'HomeWYN'\n",
       "\\item 'HouseholdS'\n",
       "\\item 'ID'\n",
       "\\item 'INT1'\n",
       "\\item 'INT2'\n",
       "\\item 'INT3'\n",
       "\\item 'INT4'\n",
       "\\item 'IncAutoS'\n",
       "\\item 'IncAutoW'\n",
       "\\item 'IncAwayS'\n",
       "\\item 'IncAwayW'\n",
       "\\item 'IncDish'\n",
       "\\item 'IncEmer10S'\n",
       "\\item 'IncEmer10W'\n",
       "\\item 'IncEmer30S'\n",
       "\\item 'IncEmer30W'\n",
       "\\item 'IncHomeS'\n",
       "\\item 'IncHomeW'\n",
       "\\item 'IncWD'\n",
       "\\item 'Income'\n",
       "\\item 'Job'\n",
       "\\item 'Latitude'\n",
       "\\item 'Longitude'\n",
       "\\item 'MC'\n",
       "\\item 'MC1'\n",
       "\\item 'MC2'\n",
       "\\item 'MC3'\n",
       "\\item 'MC4'\n",
       "\\item 'MC5'\n",
       "\\item 'MCBill'\n",
       "\\item 'MCG'\n",
       "\\item 'NBillS'\n",
       "\\item 'NBillW'\n",
       "\\item 'OwnRent'\n",
       "\\item 'PBC'\n",
       "\\item 'PBC1'\n",
       "\\item 'PBC2'\n",
       "\\item 'PBC3R'\n",
       "\\item 'PBC4'\n",
       "\\item 'PBC5'\n",
       "\\item 'PBillStatus'\n",
       "\\item 'Political'\n",
       "\\item 'ReasonNeg'\n",
       "\\item 'ReasonPos'\n",
       "\\item 'RewardForm'\n",
       "\\item 'SN'\n",
       "\\item 'SN1'\n",
       "\\item 'SN2'\n",
       "\\item 'SN3'\n",
       "\\item 'SN4'\n",
       "\\item 'Sqft'\n",
       "\\item 'SqftCate'\n",
       "\\item 'State'\n",
       "\\item 'SubN'\n",
       "\\item 'SubNorm'\n",
       "\\item 'SubNorm1'\n",
       "\\item 'SubNorm2'\n",
       "\\item 'SubNorm3'\n",
       "\\item 'Summer\\_avg'\n",
       "\\item 'Trust'\n",
       "\\item 'Trust1'\n",
       "\\item 'Trust2'\n",
       "\\item 'Trust3'\n",
       "\\item 'Trust4'\n",
       "\\item 'Utility'\n",
       "\\item 'Winter\\_avg'\n",
       "\\item 'X'\n",
       "\\item 'X.9to5'\n",
       "\\item 'cold'\n",
       "\\item 'hot'\n",
       "\\item 'valid'\n",
       "\\item 'valid1'\n",
       "\\item 'valid2'\n",
       "\\end{enumerate*}\n"
      ],
      "text/markdown": [
       "1. 'ACYN'\n",
       "2. 'Age'\n",
       "3. 'Atti'\n",
       "4. 'Atti1'\n",
       "5. 'Atti2'\n",
       "6. 'Atti3'\n",
       "7. 'Atti4'\n",
       "8. 'Attitude'\n",
       "9. 'AwayS'\n",
       "10. 'AwaySNY'\n",
       "11. 'AwayW'\n",
       "12. 'AwayWNY'\n",
       "13. 'BillS'\n",
       "14. 'BillW'\n",
       "15. 'CashYN'\n",
       "16. 'City'\n",
       "17. 'ComfNS'\n",
       "18. 'ComfNS1'\n",
       "19. 'ComfNS2'\n",
       "20. 'ComfNS3'\n",
       "21. 'ComfNW'\n",
       "22. 'ComfNW1'\n",
       "23. 'ComfNW2'\n",
       "24. 'ComfortS'\n",
       "25. 'ComfortW'\n",
       "26. 'CompR'\n",
       "27. 'ControlN1'\n",
       "28. 'ControlN2R'\n",
       "29. 'ControlN3'\n",
       "30. 'ControlN4'\n",
       "31. 'ConvB1'\n",
       "32. 'ConvB2'\n",
       "33. 'ConvB3'\n",
       "34. 'ConvB4'\n",
       "35. 'DeviceType'\n",
       "36. 'Educ'\n",
       "37. 'EmerRForm'\n",
       "38. 'EnergyC'\n",
       "39. 'EnergyC1'\n",
       "40. 'EnergyC2'\n",
       "41. 'EnergyC3'\n",
       "42. 'EnergyC4'\n",
       "43. 'Ethnic'\n",
       "44. 'Frugal'\n",
       "45. 'Frugal1'\n",
       "46. 'Frugal2'\n",
       "47. 'Frugal3'\n",
       "48. 'Gender'\n",
       "49. 'HTdevice'\n",
       "50. 'HTsource'\n",
       "51. 'HabitC'\n",
       "52. 'HabitC1'\n",
       "53. 'HabitC2'\n",
       "54. 'HabitC3'\n",
       "55. 'HabitC4'\n",
       "56. 'HabitC5'\n",
       "57. 'HabitC6'\n",
       "58. 'HabitC7'\n",
       "59. 'HabitE1'\n",
       "60. 'HabitE2'\n",
       "61. 'HabitE3'\n",
       "62. 'HabitG'\n",
       "63. 'HeatYN'\n",
       "64. 'HomeS'\n",
       "65. 'HomeSYN'\n",
       "66. 'HomeW'\n",
       "67. 'HomeWYN'\n",
       "68. 'HouseholdS'\n",
       "69. 'ID'\n",
       "70. 'INT1'\n",
       "71. 'INT2'\n",
       "72. 'INT3'\n",
       "73. 'INT4'\n",
       "74. 'IncAutoS'\n",
       "75. 'IncAutoW'\n",
       "76. 'IncAwayS'\n",
       "77. 'IncAwayW'\n",
       "78. 'IncDish'\n",
       "79. 'IncEmer10S'\n",
       "80. 'IncEmer10W'\n",
       "81. 'IncEmer30S'\n",
       "82. 'IncEmer30W'\n",
       "83. 'IncHomeS'\n",
       "84. 'IncHomeW'\n",
       "85. 'IncWD'\n",
       "86. 'Income'\n",
       "87. 'Job'\n",
       "88. 'Latitude'\n",
       "89. 'Longitude'\n",
       "90. 'MC'\n",
       "91. 'MC1'\n",
       "92. 'MC2'\n",
       "93. 'MC3'\n",
       "94. 'MC4'\n",
       "95. 'MC5'\n",
       "96. 'MCBill'\n",
       "97. 'MCG'\n",
       "98. 'NBillS'\n",
       "99. 'NBillW'\n",
       "100. 'OwnRent'\n",
       "101. 'PBC'\n",
       "102. 'PBC1'\n",
       "103. 'PBC2'\n",
       "104. 'PBC3R'\n",
       "105. 'PBC4'\n",
       "106. 'PBC5'\n",
       "107. 'PBillStatus'\n",
       "108. 'Political'\n",
       "109. 'ReasonNeg'\n",
       "110. 'ReasonPos'\n",
       "111. 'RewardForm'\n",
       "112. 'SN'\n",
       "113. 'SN1'\n",
       "114. 'SN2'\n",
       "115. 'SN3'\n",
       "116. 'SN4'\n",
       "117. 'Sqft'\n",
       "118. 'SqftCate'\n",
       "119. 'State'\n",
       "120. 'SubN'\n",
       "121. 'SubNorm'\n",
       "122. 'SubNorm1'\n",
       "123. 'SubNorm2'\n",
       "124. 'SubNorm3'\n",
       "125. 'Summer_avg'\n",
       "126. 'Trust'\n",
       "127. 'Trust1'\n",
       "128. 'Trust2'\n",
       "129. 'Trust3'\n",
       "130. 'Trust4'\n",
       "131. 'Utility'\n",
       "132. 'Winter_avg'\n",
       "133. 'X'\n",
       "134. 'X.9to5'\n",
       "135. 'cold'\n",
       "136. 'hot'\n",
       "137. 'valid'\n",
       "138. 'valid1'\n",
       "139. 'valid2'\n",
       "\n",
       "\n"
      ],
      "text/plain": [
       "  [1] \"ACYN\"        \"Age\"         \"Atti\"        \"Atti1\"       \"Atti2\"      \n",
       "  [6] \"Atti3\"       \"Atti4\"       \"Attitude\"    \"AwayS\"       \"AwaySNY\"    \n",
       " [11] \"AwayW\"       \"AwayWNY\"     \"BillS\"       \"BillW\"       \"CashYN\"     \n",
       " [16] \"City\"        \"ComfNS\"      \"ComfNS1\"     \"ComfNS2\"     \"ComfNS3\"    \n",
       " [21] \"ComfNW\"      \"ComfNW1\"     \"ComfNW2\"     \"ComfortS\"    \"ComfortW\"   \n",
       " [26] \"CompR\"       \"ControlN1\"   \"ControlN2R\"  \"ControlN3\"   \"ControlN4\"  \n",
       " [31] \"ConvB1\"      \"ConvB2\"      \"ConvB3\"      \"ConvB4\"      \"DeviceType\" \n",
       " [36] \"Educ\"        \"EmerRForm\"   \"EnergyC\"     \"EnergyC1\"    \"EnergyC2\"   \n",
       " [41] \"EnergyC3\"    \"EnergyC4\"    \"Ethnic\"      \"Frugal\"      \"Frugal1\"    \n",
       " [46] \"Frugal2\"     \"Frugal3\"     \"Gender\"      \"HTdevice\"    \"HTsource\"   \n",
       " [51] \"HabitC\"      \"HabitC1\"     \"HabitC2\"     \"HabitC3\"     \"HabitC4\"    \n",
       " [56] \"HabitC5\"     \"HabitC6\"     \"HabitC7\"     \"HabitE1\"     \"HabitE2\"    \n",
       " [61] \"HabitE3\"     \"HabitG\"      \"HeatYN\"      \"HomeS\"       \"HomeSYN\"    \n",
       " [66] \"HomeW\"       \"HomeWYN\"     \"HouseholdS\"  \"ID\"          \"INT1\"       \n",
       " [71] \"INT2\"        \"INT3\"        \"INT4\"        \"IncAutoS\"    \"IncAutoW\"   \n",
       " [76] \"IncAwayS\"    \"IncAwayW\"    \"IncDish\"     \"IncEmer10S\"  \"IncEmer10W\" \n",
       " [81] \"IncEmer30S\"  \"IncEmer30W\"  \"IncHomeS\"    \"IncHomeW\"    \"IncWD\"      \n",
       " [86] \"Income\"      \"Job\"         \"Latitude\"    \"Longitude\"   \"MC\"         \n",
       " [91] \"MC1\"         \"MC2\"         \"MC3\"         \"MC4\"         \"MC5\"        \n",
       " [96] \"MCBill\"      \"MCG\"         \"NBillS\"      \"NBillW\"      \"OwnRent\"    \n",
       "[101] \"PBC\"         \"PBC1\"        \"PBC2\"        \"PBC3R\"       \"PBC4\"       \n",
       "[106] \"PBC5\"        \"PBillStatus\" \"Political\"   \"ReasonNeg\"   \"ReasonPos\"  \n",
       "[111] \"RewardForm\"  \"SN\"          \"SN1\"         \"SN2\"         \"SN3\"        \n",
       "[116] \"SN4\"         \"Sqft\"        \"SqftCate\"    \"State\"       \"SubN\"       \n",
       "[121] \"SubNorm\"     \"SubNorm1\"    \"SubNorm2\"    \"SubNorm3\"    \"Summer_avg\" \n",
       "[126] \"Trust\"       \"Trust1\"      \"Trust2\"      \"Trust3\"      \"Trust4\"     \n",
       "[131] \"Utility\"     \"Winter_avg\"  \"X\"           \"X.9to5\"      \"cold\"       \n",
       "[136] \"hot\"         \"valid\"       \"valid1\"      \"valid2\"     "
      ]
     },
     "metadata": {},
     "output_type": "display_data"
    },
    {
     "data": {
      "text/plain": [
       "\n",
       "  1   2   3   4   5   6   7   8   9  10  11  12 \n",
       " 99  79  33  33  25  64  86  71  43 112  22 156 "
      ]
     },
     "metadata": {},
     "output_type": "display_data"
    },
    {
     "data": {
      "text/plain": [
       "\n",
       "  1   2   3 \n",
       "232 261 331 "
      ]
     },
     "metadata": {},
     "output_type": "display_data"
    }
   ],
   "source": [
    "options(digits=2);\n",
    "# Read in the data\n",
    "survey <- read.csv(\"DR_Survey2_Share_Complete.csv\",header=T);\n",
    "#populate missing values\n",
    "survey$IncHomeS[survey$IncHomeS==99] = NA;\n",
    "\n",
    "data <- survey[,-c(1:7)];\n",
    "\n",
    "#We investigate only use people who use A/C when being at home in summer\n",
    "data1 <- data[,-which(names(data) %in% c(\"HomeWYN\",\"AwayWNY\",\"HomeSYN\",\"AwaySNY\",\"City\",\"Utility\",\n",
    "    \"ReasonPos\",\"ReasonNeg\",\"NBillS\",\"NBillW\",\"valid1\",\"valid2\",\"valid\",\"Attitude\",\"Trust\",\n",
    "    \"EnergyC\",\"MCG\", \"MCBill\",\"Frugal\",\"ComfortS\",\"ComfortW\",\"SubN\",\"PBC\",\"ACYN\",\"HeatYN\",\n",
    "    \"Longitude\", \"Job\",\"hot\",\"cold\"))];\n",
    "sort(names(survey))\n",
    "table(survey$Job)\n",
    "table(survey$Political)"
   ]
  },
  {
   "cell_type": "code",
   "execution_count": 2,
   "metadata": {
    "collapsed": false
   },
   "outputs": [
    {
     "name": "stdout",
     "output_type": "stream",
     "text": [
      "[1] \"HomeW\" \"80\"   \n",
      "[1] \"HomeS\" \"164\"  \n",
      "[1] \"AwayW\" \"151\"  \n",
      "[1] \"AwayS\" \"264\"  \n",
      "[1] \"IncHomeS\" \"63\"      \n",
      "[1] \"IncWD\" \"98\"   \n",
      "[1] \"IncDish\" \"271\"    \n",
      "[1] \"Age\" \"4\"  \n",
      "[1] \"OwnRent\" \"2\"      \n",
      "[1] \"BillS\" \"2\"    \n",
      "[1] \"BillW\" \"2\"    \n",
      "[1] \"Sqft\" \"2\"   \n",
      "[1] \"SqftCate\" \"2\"       \n",
      "[1] \"HouseholdS\" \"2\"         \n",
      "[1] \"Political\" \"2\"        \n",
      "[1] \"Ethnic\" \"2\"     \n",
      "[1] \"Income\" \"5\"     \n",
      "[1] \"Educ\" \"7\"   \n",
      "[1] \"Latitude\" \"26\"      \n"
     ]
    }
   ],
   "source": [
    "#Fields with lots of missing values\n",
    "for (n in names(data1)){\n",
    "    nmis = sum(is.na(data1[,n]))\n",
    "    if(nmis >1)  print (c(n, sum(is.na(data1[,n]))))\n",
    "}"
   ]
  },
  {
   "cell_type": "code",
   "execution_count": 3,
   "metadata": {
    "collapsed": false
   },
   "outputs": [
    {
     "name": "stdout",
     "output_type": "stream",
     "text": [
      "[1] 826  98\n",
      "[1] 627  98\n"
     ]
    }
   ],
   "source": [
    "#lets remover these\n",
    "data2 <- data1[,-which(names(data1) %in% c(\"HomeW\",\"AwayW\",\n",
    "                    \"AwayS\",\"IncWD\",\"IncDish\"))];\n",
    "print(dim(data2))\n",
    "data2 <- na.omit(data2)\n",
    "print(dim(data2))\n",
    "#table(data2$Political)"
   ]
  },
  {
   "cell_type": "code",
   "execution_count": 4,
   "metadata": {
    "collapsed": false
   },
   "outputs": [],
   "source": [
    "#names(data2)\n",
    "#These are only variables we really care about\n",
    "IVS = c(\"Age\",\n",
    "\"Gender\",\n",
    "\"OwnRent\",\n",
    "\"SqftCate\",\n",
    "\"HouseholdS\",\n",
    "\"Political\",\n",
    "\"Ethnic\",\n",
    "\"Income\",\n",
    "\"Educ\",\n",
    "#\"Frugal\",\n",
    "\"MC\",\n",
    "\"EnergyC\",\n",
    "#\"Trust\",\n",
    "\"ComfNS\",\n",
    "\"ComfNW\",\n",
    "\"Atti\",\n",
    "#\"SubNorm\",\n",
    "\"PBC\",\n",
    "\"SN\",\n",
    "\"HabitG\",\n",
    "\"HabitC\",\n",
    "\"Latitude\")"
   ]
  },
  {
   "cell_type": "code",
   "execution_count": 5,
   "metadata": {
    "collapsed": false
   },
   "outputs": [
    {
     "data": {
      "text/html": [
       "<ol class=list-inline>\n",
       "\t<li>'Age'</li>\n",
       "\t<li>'Atti'</li>\n",
       "\t<li>'Atti1'</li>\n",
       "\t<li>'Atti2'</li>\n",
       "\t<li>'Atti3'</li>\n",
       "\t<li>'Atti4'</li>\n",
       "\t<li>'BillS'</li>\n",
       "\t<li>'BillW'</li>\n",
       "\t<li>'CashYN'</li>\n",
       "\t<li>'ComfNS'</li>\n",
       "\t<li>'ComfNS1'</li>\n",
       "\t<li>'ComfNS2'</li>\n",
       "\t<li>'ComfNS3'</li>\n",
       "\t<li>'ComfNW'</li>\n",
       "\t<li>'ComfNW1'</li>\n",
       "\t<li>'ComfNW2'</li>\n",
       "\t<li>'ControlN1'</li>\n",
       "\t<li>'ControlN2R'</li>\n",
       "\t<li>'ControlN3'</li>\n",
       "\t<li>'ControlN4'</li>\n",
       "\t<li>'ConvB1'</li>\n",
       "\t<li>'ConvB2'</li>\n",
       "\t<li>'ConvB3'</li>\n",
       "\t<li>'ConvB4'</li>\n",
       "\t<li>'Educ'</li>\n",
       "\t<li>'EmerRForm'</li>\n",
       "\t<li>'EnergyC1'</li>\n",
       "\t<li>'EnergyC2'</li>\n",
       "\t<li>'EnergyC3'</li>\n",
       "\t<li>'EnergyC4'</li>\n",
       "\t<li>'Ethnic'</li>\n",
       "\t<li>'Frugal1'</li>\n",
       "\t<li>'Frugal2'</li>\n",
       "\t<li>'Frugal3'</li>\n",
       "\t<li>'Gender'</li>\n",
       "\t<li>'HabitC'</li>\n",
       "\t<li>'HabitC1'</li>\n",
       "\t<li>'HabitC2'</li>\n",
       "\t<li>'HabitC3'</li>\n",
       "\t<li>'HabitC4'</li>\n",
       "\t<li>'HabitC5'</li>\n",
       "\t<li>'HabitC6'</li>\n",
       "\t<li>'HabitC7'</li>\n",
       "\t<li>'HabitE1'</li>\n",
       "\t<li>'HabitE2'</li>\n",
       "\t<li>'HabitE3'</li>\n",
       "\t<li>'HabitG'</li>\n",
       "\t<li>'HomeS'</li>\n",
       "\t<li>'HouseholdS'</li>\n",
       "\t<li>'INT1'</li>\n",
       "\t<li>'INT2'</li>\n",
       "\t<li>'INT3'</li>\n",
       "\t<li>'INT4'</li>\n",
       "\t<li>'IncAutoS'</li>\n",
       "\t<li>'IncAutoW'</li>\n",
       "\t<li>'IncAwayS'</li>\n",
       "\t<li>'IncAwayW'</li>\n",
       "\t<li>'IncEmer10S'</li>\n",
       "\t<li>'IncEmer10W'</li>\n",
       "\t<li>'IncEmer30S'</li>\n",
       "\t<li>'IncEmer30W'</li>\n",
       "\t<li>'IncHomeS'</li>\n",
       "\t<li>'IncHomeW'</li>\n",
       "\t<li>'Income'</li>\n",
       "\t<li>'Latitude'</li>\n",
       "\t<li>'MC'</li>\n",
       "\t<li>'MC1'</li>\n",
       "\t<li>'MC2'</li>\n",
       "\t<li>'MC3'</li>\n",
       "\t<li>'MC4'</li>\n",
       "\t<li>'MC5'</li>\n",
       "\t<li>'OwnRent'</li>\n",
       "\t<li>'PBC1'</li>\n",
       "\t<li>'PBC2'</li>\n",
       "\t<li>'PBC3R'</li>\n",
       "\t<li>'PBC4'</li>\n",
       "\t<li>'PBC5'</li>\n",
       "\t<li>'Political'</li>\n",
       "\t<li>'RewardForm'</li>\n",
       "\t<li>'SN'</li>\n",
       "\t<li>'SN1'</li>\n",
       "\t<li>'SN2'</li>\n",
       "\t<li>'SN3'</li>\n",
       "\t<li>'SN4'</li>\n",
       "\t<li>'Sqft'</li>\n",
       "\t<li>'SqftCate'</li>\n",
       "\t<li>'State'</li>\n",
       "\t<li>'SubNorm'</li>\n",
       "\t<li>'SubNorm1'</li>\n",
       "\t<li>'SubNorm2'</li>\n",
       "\t<li>'SubNorm3'</li>\n",
       "\t<li>'Summer_avg'</li>\n",
       "\t<li>'Trust1'</li>\n",
       "\t<li>'Trust2'</li>\n",
       "\t<li>'Trust3'</li>\n",
       "\t<li>'Trust4'</li>\n",
       "\t<li>'Winter_avg'</li>\n",
       "\t<li>'X.9to5'</li>\n",
       "</ol>\n"
      ],
      "text/latex": [
       "\\begin{enumerate*}\n",
       "\\item 'Age'\n",
       "\\item 'Atti'\n",
       "\\item 'Atti1'\n",
       "\\item 'Atti2'\n",
       "\\item 'Atti3'\n",
       "\\item 'Atti4'\n",
       "\\item 'BillS'\n",
       "\\item 'BillW'\n",
       "\\item 'CashYN'\n",
       "\\item 'ComfNS'\n",
       "\\item 'ComfNS1'\n",
       "\\item 'ComfNS2'\n",
       "\\item 'ComfNS3'\n",
       "\\item 'ComfNW'\n",
       "\\item 'ComfNW1'\n",
       "\\item 'ComfNW2'\n",
       "\\item 'ControlN1'\n",
       "\\item 'ControlN2R'\n",
       "\\item 'ControlN3'\n",
       "\\item 'ControlN4'\n",
       "\\item 'ConvB1'\n",
       "\\item 'ConvB2'\n",
       "\\item 'ConvB3'\n",
       "\\item 'ConvB4'\n",
       "\\item 'Educ'\n",
       "\\item 'EmerRForm'\n",
       "\\item 'EnergyC1'\n",
       "\\item 'EnergyC2'\n",
       "\\item 'EnergyC3'\n",
       "\\item 'EnergyC4'\n",
       "\\item 'Ethnic'\n",
       "\\item 'Frugal1'\n",
       "\\item 'Frugal2'\n",
       "\\item 'Frugal3'\n",
       "\\item 'Gender'\n",
       "\\item 'HabitC'\n",
       "\\item 'HabitC1'\n",
       "\\item 'HabitC2'\n",
       "\\item 'HabitC3'\n",
       "\\item 'HabitC4'\n",
       "\\item 'HabitC5'\n",
       "\\item 'HabitC6'\n",
       "\\item 'HabitC7'\n",
       "\\item 'HabitE1'\n",
       "\\item 'HabitE2'\n",
       "\\item 'HabitE3'\n",
       "\\item 'HabitG'\n",
       "\\item 'HomeS'\n",
       "\\item 'HouseholdS'\n",
       "\\item 'INT1'\n",
       "\\item 'INT2'\n",
       "\\item 'INT3'\n",
       "\\item 'INT4'\n",
       "\\item 'IncAutoS'\n",
       "\\item 'IncAutoW'\n",
       "\\item 'IncAwayS'\n",
       "\\item 'IncAwayW'\n",
       "\\item 'IncEmer10S'\n",
       "\\item 'IncEmer10W'\n",
       "\\item 'IncEmer30S'\n",
       "\\item 'IncEmer30W'\n",
       "\\item 'IncHomeS'\n",
       "\\item 'IncHomeW'\n",
       "\\item 'Income'\n",
       "\\item 'Latitude'\n",
       "\\item 'MC'\n",
       "\\item 'MC1'\n",
       "\\item 'MC2'\n",
       "\\item 'MC3'\n",
       "\\item 'MC4'\n",
       "\\item 'MC5'\n",
       "\\item 'OwnRent'\n",
       "\\item 'PBC1'\n",
       "\\item 'PBC2'\n",
       "\\item 'PBC3R'\n",
       "\\item 'PBC4'\n",
       "\\item 'PBC5'\n",
       "\\item 'Political'\n",
       "\\item 'RewardForm'\n",
       "\\item 'SN'\n",
       "\\item 'SN1'\n",
       "\\item 'SN2'\n",
       "\\item 'SN3'\n",
       "\\item 'SN4'\n",
       "\\item 'Sqft'\n",
       "\\item 'SqftCate'\n",
       "\\item 'State'\n",
       "\\item 'SubNorm'\n",
       "\\item 'SubNorm1'\n",
       "\\item 'SubNorm2'\n",
       "\\item 'SubNorm3'\n",
       "\\item 'Summer\\_avg'\n",
       "\\item 'Trust1'\n",
       "\\item 'Trust2'\n",
       "\\item 'Trust3'\n",
       "\\item 'Trust4'\n",
       "\\item 'Winter\\_avg'\n",
       "\\item 'X.9to5'\n",
       "\\end{enumerate*}\n"
      ],
      "text/markdown": [
       "1. 'Age'\n",
       "2. 'Atti'\n",
       "3. 'Atti1'\n",
       "4. 'Atti2'\n",
       "5. 'Atti3'\n",
       "6. 'Atti4'\n",
       "7. 'BillS'\n",
       "8. 'BillW'\n",
       "9. 'CashYN'\n",
       "10. 'ComfNS'\n",
       "11. 'ComfNS1'\n",
       "12. 'ComfNS2'\n",
       "13. 'ComfNS3'\n",
       "14. 'ComfNW'\n",
       "15. 'ComfNW1'\n",
       "16. 'ComfNW2'\n",
       "17. 'ControlN1'\n",
       "18. 'ControlN2R'\n",
       "19. 'ControlN3'\n",
       "20. 'ControlN4'\n",
       "21. 'ConvB1'\n",
       "22. 'ConvB2'\n",
       "23. 'ConvB3'\n",
       "24. 'ConvB4'\n",
       "25. 'Educ'\n",
       "26. 'EmerRForm'\n",
       "27. 'EnergyC1'\n",
       "28. 'EnergyC2'\n",
       "29. 'EnergyC3'\n",
       "30. 'EnergyC4'\n",
       "31. 'Ethnic'\n",
       "32. 'Frugal1'\n",
       "33. 'Frugal2'\n",
       "34. 'Frugal3'\n",
       "35. 'Gender'\n",
       "36. 'HabitC'\n",
       "37. 'HabitC1'\n",
       "38. 'HabitC2'\n",
       "39. 'HabitC3'\n",
       "40. 'HabitC4'\n",
       "41. 'HabitC5'\n",
       "42. 'HabitC6'\n",
       "43. 'HabitC7'\n",
       "44. 'HabitE1'\n",
       "45. 'HabitE2'\n",
       "46. 'HabitE3'\n",
       "47. 'HabitG'\n",
       "48. 'HomeS'\n",
       "49. 'HouseholdS'\n",
       "50. 'INT1'\n",
       "51. 'INT2'\n",
       "52. 'INT3'\n",
       "53. 'INT4'\n",
       "54. 'IncAutoS'\n",
       "55. 'IncAutoW'\n",
       "56. 'IncAwayS'\n",
       "57. 'IncAwayW'\n",
       "58. 'IncEmer10S'\n",
       "59. 'IncEmer10W'\n",
       "60. 'IncEmer30S'\n",
       "61. 'IncEmer30W'\n",
       "62. 'IncHomeS'\n",
       "63. 'IncHomeW'\n",
       "64. 'Income'\n",
       "65. 'Latitude'\n",
       "66. 'MC'\n",
       "67. 'MC1'\n",
       "68. 'MC2'\n",
       "69. 'MC3'\n",
       "70. 'MC4'\n",
       "71. 'MC5'\n",
       "72. 'OwnRent'\n",
       "73. 'PBC1'\n",
       "74. 'PBC2'\n",
       "75. 'PBC3R'\n",
       "76. 'PBC4'\n",
       "77. 'PBC5'\n",
       "78. 'Political'\n",
       "79. 'RewardForm'\n",
       "80. 'SN'\n",
       "81. 'SN1'\n",
       "82. 'SN2'\n",
       "83. 'SN3'\n",
       "84. 'SN4'\n",
       "85. 'Sqft'\n",
       "86. 'SqftCate'\n",
       "87. 'State'\n",
       "88. 'SubNorm'\n",
       "89. 'SubNorm1'\n",
       "90. 'SubNorm2'\n",
       "91. 'SubNorm3'\n",
       "92. 'Summer_avg'\n",
       "93. 'Trust1'\n",
       "94. 'Trust2'\n",
       "95. 'Trust3'\n",
       "96. 'Trust4'\n",
       "97. 'Winter_avg'\n",
       "98. 'X.9to5'\n",
       "\n",
       "\n"
      ],
      "text/plain": [
       " [1] \"Age\"        \"Atti\"       \"Atti1\"      \"Atti2\"      \"Atti3\"     \n",
       " [6] \"Atti4\"      \"BillS\"      \"BillW\"      \"CashYN\"     \"ComfNS\"    \n",
       "[11] \"ComfNS1\"    \"ComfNS2\"    \"ComfNS3\"    \"ComfNW\"     \"ComfNW1\"   \n",
       "[16] \"ComfNW2\"    \"ControlN1\"  \"ControlN2R\" \"ControlN3\"  \"ControlN4\" \n",
       "[21] \"ConvB1\"     \"ConvB2\"     \"ConvB3\"     \"ConvB4\"     \"Educ\"      \n",
       "[26] \"EmerRForm\"  \"EnergyC1\"   \"EnergyC2\"   \"EnergyC3\"   \"EnergyC4\"  \n",
       "[31] \"Ethnic\"     \"Frugal1\"    \"Frugal2\"    \"Frugal3\"    \"Gender\"    \n",
       "[36] \"HabitC\"     \"HabitC1\"    \"HabitC2\"    \"HabitC3\"    \"HabitC4\"   \n",
       "[41] \"HabitC5\"    \"HabitC6\"    \"HabitC7\"    \"HabitE1\"    \"HabitE2\"   \n",
       "[46] \"HabitE3\"    \"HabitG\"     \"HomeS\"      \"HouseholdS\" \"INT1\"      \n",
       "[51] \"INT2\"       \"INT3\"       \"INT4\"       \"IncAutoS\"   \"IncAutoW\"  \n",
       "[56] \"IncAwayS\"   \"IncAwayW\"   \"IncEmer10S\" \"IncEmer10W\" \"IncEmer30S\"\n",
       "[61] \"IncEmer30W\" \"IncHomeS\"   \"IncHomeW\"   \"Income\"     \"Latitude\"  \n",
       "[66] \"MC\"         \"MC1\"        \"MC2\"        \"MC3\"        \"MC4\"       \n",
       "[71] \"MC5\"        \"OwnRent\"    \"PBC1\"       \"PBC2\"       \"PBC3R\"     \n",
       "[76] \"PBC4\"       \"PBC5\"       \"Political\"  \"RewardForm\" \"SN\"        \n",
       "[81] \"SN1\"        \"SN2\"        \"SN3\"        \"SN4\"        \"Sqft\"      \n",
       "[86] \"SqftCate\"   \"State\"      \"SubNorm\"    \"SubNorm1\"   \"SubNorm2\"  \n",
       "[91] \"SubNorm3\"   \"Summer_avg\" \"Trust1\"     \"Trust2\"     \"Trust3\"    \n",
       "[96] \"Trust4\"     \"Winter_avg\" \"X.9to5\"    "
      ]
     },
     "metadata": {},
     "output_type": "display_data"
    },
    {
     "data": {
      "text/html": [
       "<ol class=list-inline>\n",
       "\t<li>'Age'</li>\n",
       "\t<li>'Atti'</li>\n",
       "\t<li>'ComfNS'</li>\n",
       "\t<li>'ComfNW'</li>\n",
       "\t<li>'Educ'</li>\n",
       "\t<li>'EnergyC'</li>\n",
       "\t<li>'Ethnic'</li>\n",
       "\t<li>'Gender'</li>\n",
       "\t<li>'HabitC'</li>\n",
       "\t<li>'HabitG'</li>\n",
       "\t<li>'HouseholdS'</li>\n",
       "\t<li>'Income'</li>\n",
       "\t<li>'Latitude'</li>\n",
       "\t<li>'MC'</li>\n",
       "\t<li>'OwnRent'</li>\n",
       "\t<li>'PBC'</li>\n",
       "\t<li>'Political'</li>\n",
       "\t<li>'SN'</li>\n",
       "\t<li>'SqftCate'</li>\n",
       "</ol>\n"
      ],
      "text/latex": [
       "\\begin{enumerate*}\n",
       "\\item 'Age'\n",
       "\\item 'Atti'\n",
       "\\item 'ComfNS'\n",
       "\\item 'ComfNW'\n",
       "\\item 'Educ'\n",
       "\\item 'EnergyC'\n",
       "\\item 'Ethnic'\n",
       "\\item 'Gender'\n",
       "\\item 'HabitC'\n",
       "\\item 'HabitG'\n",
       "\\item 'HouseholdS'\n",
       "\\item 'Income'\n",
       "\\item 'Latitude'\n",
       "\\item 'MC'\n",
       "\\item 'OwnRent'\n",
       "\\item 'PBC'\n",
       "\\item 'Political'\n",
       "\\item 'SN'\n",
       "\\item 'SqftCate'\n",
       "\\end{enumerate*}\n"
      ],
      "text/markdown": [
       "1. 'Age'\n",
       "2. 'Atti'\n",
       "3. 'ComfNS'\n",
       "4. 'ComfNW'\n",
       "5. 'Educ'\n",
       "6. 'EnergyC'\n",
       "7. 'Ethnic'\n",
       "8. 'Gender'\n",
       "9. 'HabitC'\n",
       "10. 'HabitG'\n",
       "11. 'HouseholdS'\n",
       "12. 'Income'\n",
       "13. 'Latitude'\n",
       "14. 'MC'\n",
       "15. 'OwnRent'\n",
       "16. 'PBC'\n",
       "17. 'Political'\n",
       "18. 'SN'\n",
       "19. 'SqftCate'\n",
       "\n",
       "\n"
      ],
      "text/plain": [
       " [1] \"Age\"        \"Atti\"       \"ComfNS\"     \"ComfNW\"     \"Educ\"      \n",
       " [6] \"EnergyC\"    \"Ethnic\"     \"Gender\"     \"HabitC\"     \"HabitG\"    \n",
       "[11] \"HouseholdS\" \"Income\"     \"Latitude\"   \"MC\"         \"OwnRent\"   \n",
       "[16] \"PBC\"        \"Political\"  \"SN\"         \"SqftCate\"  "
      ]
     },
     "metadata": {},
     "output_type": "display_data"
    }
   ],
   "source": [
    "sort(names(data2))\n",
    "paste(sort(IVS))"
   ]
  },
  {
   "cell_type": "code",
   "execution_count": 6,
   "metadata": {
    "collapsed": false
   },
   "outputs": [],
   "source": [
    "data1 <- data2[, which(names(data2) %in% c(\"IncHomeS\",IVS))];"
   ]
  },
  {
   "cell_type": "code",
   "execution_count": 7,
   "metadata": {
    "collapsed": true
   },
   "outputs": [],
   "source": [
    "#Check to see if there are anymore missing values\n",
    "for (n in names(data1)){\n",
    "    nmis = sum(is.na(data1[,n]))\n",
    "    if(nmis >1)  print (c(n, sum(is.na(data1[,n]))))\n",
    "}"
   ]
  },
  {
   "cell_type": "code",
   "execution_count": 8,
   "metadata": {
    "collapsed": false
   },
   "outputs": [
    {
     "data": {
      "text/html": [
       "<ol class=list-inline>\n",
       "\t<li>'IncHomeS'</li>\n",
       "\t<li>'Age'</li>\n",
       "\t<li>'Gender'</li>\n",
       "\t<li>'OwnRent'</li>\n",
       "\t<li>'SqftCate'</li>\n",
       "\t<li>'HouseholdS'</li>\n",
       "\t<li>'Political'</li>\n",
       "\t<li>'Ethnic'</li>\n",
       "\t<li>'Income'</li>\n",
       "\t<li>'Educ'</li>\n",
       "\t<li>'Latitude'</li>\n",
       "\t<li>'MC'</li>\n",
       "\t<li>'ComfNS'</li>\n",
       "\t<li>'ComfNW'</li>\n",
       "\t<li>'Atti'</li>\n",
       "\t<li>'SN'</li>\n",
       "\t<li>'HabitG'</li>\n",
       "\t<li>'HabitC'</li>\n",
       "</ol>\n"
      ],
      "text/latex": [
       "\\begin{enumerate*}\n",
       "\\item 'IncHomeS'\n",
       "\\item 'Age'\n",
       "\\item 'Gender'\n",
       "\\item 'OwnRent'\n",
       "\\item 'SqftCate'\n",
       "\\item 'HouseholdS'\n",
       "\\item 'Political'\n",
       "\\item 'Ethnic'\n",
       "\\item 'Income'\n",
       "\\item 'Educ'\n",
       "\\item 'Latitude'\n",
       "\\item 'MC'\n",
       "\\item 'ComfNS'\n",
       "\\item 'ComfNW'\n",
       "\\item 'Atti'\n",
       "\\item 'SN'\n",
       "\\item 'HabitG'\n",
       "\\item 'HabitC'\n",
       "\\end{enumerate*}\n"
      ],
      "text/markdown": [
       "1. 'IncHomeS'\n",
       "2. 'Age'\n",
       "3. 'Gender'\n",
       "4. 'OwnRent'\n",
       "5. 'SqftCate'\n",
       "6. 'HouseholdS'\n",
       "7. 'Political'\n",
       "8. 'Ethnic'\n",
       "9. 'Income'\n",
       "10. 'Educ'\n",
       "11. 'Latitude'\n",
       "12. 'MC'\n",
       "13. 'ComfNS'\n",
       "14. 'ComfNW'\n",
       "15. 'Atti'\n",
       "16. 'SN'\n",
       "17. 'HabitG'\n",
       "18. 'HabitC'\n",
       "\n",
       "\n"
      ],
      "text/plain": [
       " [1] \"IncHomeS\"   \"Age\"        \"Gender\"     \"OwnRent\"    \"SqftCate\"  \n",
       " [6] \"HouseholdS\" \"Political\"  \"Ethnic\"     \"Income\"     \"Educ\"      \n",
       "[11] \"Latitude\"   \"MC\"         \"ComfNS\"     \"ComfNW\"     \"Atti\"      \n",
       "[16] \"SN\"         \"HabitG\"     \"HabitC\"    "
      ]
     },
     "metadata": {},
     "output_type": "display_data"
    }
   ],
   "source": [
    "names(data1)\n",
    "\n",
    "#Fields with lots of missing values\n",
    "for (n in names(data1)){\n",
    "    nmis = sum(is.na(data1[,n]))\n",
    "    if(nmis >1)  print (c(n, sum(is.na(data1[,n]))))\n",
    "}\n",
    "    \n",
    "    \n",
    "# What about high correlations?\n",
    "hiCor <- function(x, level){\n",
    "  res <- cor(x,method=\"spearman\");\n",
    "  res1 <- res; res1[res<0] <- -res[res < 0];\n",
    "  for (i in 1:dim(x)[2]){\n",
    "    res1[i,i] <- 0;\n",
    "  }\n",
    "  sel <- apply(res1,1,max,na.rm=T) > level;\n",
    "  res[sel,sel];\n",
    "}\n",
    "#hiCor(data1,.75)"
   ]
  },
  {
   "cell_type": "code",
   "execution_count": 9,
   "metadata": {
    "collapsed": false
   },
   "outputs": [
    {
     "data": {
      "text/html": [
       "<table>\n",
       "<thead><tr><th scope=col>IncHomeS</th><th scope=col>Age</th><th scope=col>Gender</th><th scope=col>OwnRent</th><th scope=col>SqftCate</th><th scope=col>HouseholdS</th><th scope=col>Political</th><th scope=col>Ethnic</th><th scope=col>Income</th><th scope=col>Educ</th><th scope=col>Latitude</th><th scope=col>MC</th><th scope=col>ComfNS</th><th scope=col>ComfNW</th><th scope=col>Atti</th><th scope=col>SN</th><th scope=col>HabitG</th><th scope=col>HabitC</th></tr></thead>\n",
       "<tbody>\n",
       "</tbody>\n",
       "</table>\n"
      ],
      "text/latex": [
       "\\begin{tabular}{r|llllllllllllllllll}\n",
       " IncHomeS & Age & Gender & OwnRent & SqftCate & HouseholdS & Political & Ethnic & Income & Educ & Latitude & MC & ComfNS & ComfNW & Atti & SN & HabitG & HabitC\\\\\n",
       "\\hline\n",
       "\\end{tabular}\n"
      ],
      "text/plain": [
       "     IncHomeS Age Gender OwnRent SqftCate HouseholdS Political Ethnic Income\n",
       "     Educ Latitude MC ComfNS ComfNW Atti SN HabitG HabitC"
      ]
     },
     "metadata": {},
     "output_type": "display_data"
    }
   ],
   "source": [
    "data1 [is.na(data1$IncHomeS), ]"
   ]
  },
  {
   "cell_type": "code",
   "execution_count": 10,
   "metadata": {
    "collapsed": false
   },
   "outputs": [
    {
     "data": {
      "text/plain": [
       "   Min. 1st Qu.  Median    Mean 3rd Qu.    Max. \n",
       "    1.0     3.0     4.0     4.1     5.0     8.0 "
      ]
     },
     "metadata": {},
     "output_type": "display_data"
    },
    {
     "data": {
      "text/plain": [
       "\n",
       "  1   2   3   4   5   6   7   8 \n",
       " 54  42 120 214  56  59  48  34 "
      ]
     },
     "metadata": {},
     "output_type": "display_data"
    },
    {
     "data": {
      "text/plain": [
       "\n",
       "  1   2   3   4   5 \n",
       " 66 221 144 115  81 "
      ]
     },
     "metadata": {},
     "output_type": "display_data"
    }
   ],
   "source": [
    "summary(data1$IncHomeS)\n",
    "table(data1$IncHomeS)\n",
    "table(data1$HouseholdS)"
   ]
  },
  {
   "cell_type": "code",
   "execution_count": 11,
   "metadata": {
    "collapsed": false
   },
   "outputs": [
    {
     "data": {
      "text/html": [
       "<ol class=list-inline>\n",
       "\t<li>'IncHomeS'</li>\n",
       "\t<li>'Age'</li>\n",
       "\t<li>'Gender'</li>\n",
       "\t<li>'OwnRent'</li>\n",
       "\t<li>'SqftCate'</li>\n",
       "\t<li>'HouseholdS'</li>\n",
       "\t<li>'Political'</li>\n",
       "\t<li>'Ethnic'</li>\n",
       "\t<li>'Income'</li>\n",
       "\t<li>'Educ'</li>\n",
       "\t<li>'Latitude'</li>\n",
       "\t<li>'MC'</li>\n",
       "\t<li>'ComfNS'</li>\n",
       "\t<li>'ComfNW'</li>\n",
       "\t<li>'Atti'</li>\n",
       "\t<li>'SN'</li>\n",
       "\t<li>'HabitG'</li>\n",
       "\t<li>'HabitC'</li>\n",
       "</ol>\n"
      ],
      "text/latex": [
       "\\begin{enumerate*}\n",
       "\\item 'IncHomeS'\n",
       "\\item 'Age'\n",
       "\\item 'Gender'\n",
       "\\item 'OwnRent'\n",
       "\\item 'SqftCate'\n",
       "\\item 'HouseholdS'\n",
       "\\item 'Political'\n",
       "\\item 'Ethnic'\n",
       "\\item 'Income'\n",
       "\\item 'Educ'\n",
       "\\item 'Latitude'\n",
       "\\item 'MC'\n",
       "\\item 'ComfNS'\n",
       "\\item 'ComfNW'\n",
       "\\item 'Atti'\n",
       "\\item 'SN'\n",
       "\\item 'HabitG'\n",
       "\\item 'HabitC'\n",
       "\\end{enumerate*}\n"
      ],
      "text/markdown": [
       "1. 'IncHomeS'\n",
       "2. 'Age'\n",
       "3. 'Gender'\n",
       "4. 'OwnRent'\n",
       "5. 'SqftCate'\n",
       "6. 'HouseholdS'\n",
       "7. 'Political'\n",
       "8. 'Ethnic'\n",
       "9. 'Income'\n",
       "10. 'Educ'\n",
       "11. 'Latitude'\n",
       "12. 'MC'\n",
       "13. 'ComfNS'\n",
       "14. 'ComfNW'\n",
       "15. 'Atti'\n",
       "16. 'SN'\n",
       "17. 'HabitG'\n",
       "18. 'HabitC'\n",
       "\n",
       "\n"
      ],
      "text/plain": [
       " [1] \"IncHomeS\"   \"Age\"        \"Gender\"     \"OwnRent\"    \"SqftCate\"  \n",
       " [6] \"HouseholdS\" \"Political\"  \"Ethnic\"     \"Income\"     \"Educ\"      \n",
       "[11] \"Latitude\"   \"MC\"         \"ComfNS\"     \"ComfNW\"     \"Atti\"      \n",
       "[16] \"SN\"         \"HabitG\"     \"HabitC\"    "
      ]
     },
     "metadata": {},
     "output_type": "display_data"
    }
   ],
   "source": [
    "data2 <- data1;\n",
    "data2 <- na.omit(data2)\n",
    "names(data2)"
   ]
  },
  {
   "cell_type": "code",
   "execution_count": 12,
   "metadata": {
    "collapsed": true
   },
   "outputs": [],
   "source": [
    "#Check to see if there are anymore missing values\n",
    "for (n in names(data2)){\n",
    "    nmis = sum(is.na(data2[,n]))\n",
    "    if(nmis >1)  print (c(n, sum(is.na(data2[,n]))))\n",
    "}"
   ]
  },
  {
   "cell_type": "code",
   "execution_count": 13,
   "metadata": {
    "collapsed": false
   },
   "outputs": [
    {
     "data": {
      "text/html": [
       "<dl class=dl-horizontal>\n",
       "\t<dt>IncHomeS</dt>\n",
       "\t\t<dd>1.80062516779573</dd>\n",
       "\t<dt>Age</dt>\n",
       "\t\t<dd>11.1497644276056</dd>\n",
       "\t<dt>Gender</dt>\n",
       "\t\t<dd>0.500031845957315</dd>\n",
       "\t<dt>OwnRent</dt>\n",
       "\t\t<dd>0.518531641326741</dd>\n",
       "\t<dt>SqftCate</dt>\n",
       "\t\t<dd>1.11615297949853</dd>\n",
       "\t<dt>HouseholdS</dt>\n",
       "\t\t<dd>1.20885172377611</dd>\n",
       "\t<dt>Political</dt>\n",
       "\t\t<dd>0.824804380429514</dd>\n",
       "\t<dt>Ethnic</dt>\n",
       "\t\t<dd>0.377898022796562</dd>\n",
       "\t<dt>Income</dt>\n",
       "\t\t<dd>1.9746793346279</dd>\n",
       "\t<dt>Educ</dt>\n",
       "\t\t<dd>1.10603388918268</dd>\n",
       "\t<dt>Latitude</dt>\n",
       "\t\t<dd>5.05966810139473</dd>\n",
       "\t<dt>MC</dt>\n",
       "\t\t<dd>1.07369437153549</dd>\n",
       "\t<dt>ComfNS</dt>\n",
       "\t\t<dd>1.44748939845945</dd>\n",
       "\t<dt>ComfNW</dt>\n",
       "\t\t<dd>1.73993004126651</dd>\n",
       "\t<dt>Atti</dt>\n",
       "\t\t<dd>1.10063916252385</dd>\n",
       "\t<dt>SN</dt>\n",
       "\t\t<dd>1.41442792900062</dd>\n",
       "\t<dt>HabitG</dt>\n",
       "\t\t<dd>1.16893701199815</dd>\n",
       "\t<dt>HabitC</dt>\n",
       "\t\t<dd>1.40845996037017</dd>\n",
       "</dl>\n"
      ],
      "text/latex": [
       "\\begin{description*}\n",
       "\\item[IncHomeS] 1.80062516779573\n",
       "\\item[Age] 11.1497644276056\n",
       "\\item[Gender] 0.500031845957315\n",
       "\\item[OwnRent] 0.518531641326741\n",
       "\\item[SqftCate] 1.11615297949853\n",
       "\\item[HouseholdS] 1.20885172377611\n",
       "\\item[Political] 0.824804380429514\n",
       "\\item[Ethnic] 0.377898022796562\n",
       "\\item[Income] 1.9746793346279\n",
       "\\item[Educ] 1.10603388918268\n",
       "\\item[Latitude] 5.05966810139473\n",
       "\\item[MC] 1.07369437153549\n",
       "\\item[ComfNS] 1.44748939845945\n",
       "\\item[ComfNW] 1.73993004126651\n",
       "\\item[Atti] 1.10063916252385\n",
       "\\item[SN] 1.41442792900062\n",
       "\\item[HabitG] 1.16893701199815\n",
       "\\item[HabitC] 1.40845996037017\n",
       "\\end{description*}\n"
      ],
      "text/markdown": [
       "IncHomeS\n",
       ":   1.80062516779573Age\n",
       ":   11.1497644276056Gender\n",
       ":   0.500031845957315OwnRent\n",
       ":   0.518531641326741SqftCate\n",
       ":   1.11615297949853HouseholdS\n",
       ":   1.20885172377611Political\n",
       ":   0.824804380429514Ethnic\n",
       ":   0.377898022796562Income\n",
       ":   1.9746793346279Educ\n",
       ":   1.10603388918268Latitude\n",
       ":   5.05966810139473MC\n",
       ":   1.07369437153549ComfNS\n",
       ":   1.44748939845945ComfNW\n",
       ":   1.73993004126651Atti\n",
       ":   1.10063916252385SN\n",
       ":   1.41442792900062HabitG\n",
       ":   1.16893701199815HabitC\n",
       ":   1.40845996037017\n",
       "\n"
      ],
      "text/plain": [
       "  IncHomeS        Age     Gender    OwnRent   SqftCate HouseholdS  Political \n",
       "      1.80      11.15       0.50       0.52       1.12       1.21       0.82 \n",
       "    Ethnic     Income       Educ   Latitude         MC     ComfNS     ComfNW \n",
       "      0.38       1.97       1.11       5.06       1.07       1.45       1.74 \n",
       "      Atti         SN     HabitG     HabitC \n",
       "      1.10       1.41       1.17       1.41 "
      ]
     },
     "metadata": {},
     "output_type": "display_data"
    }
   ],
   "source": [
    "#convert all data to numeric values\n",
    "\n",
    "sapply(data2,sd)"
   ]
  },
  {
   "cell_type": "code",
   "execution_count": 14,
   "metadata": {
    "collapsed": false
   },
   "outputs": [
    {
     "data": {
      "text/html": [
       "<table>\n",
       "<thead><tr><th></th><th scope=col>OwnRent</th><th scope=col>SqftCate</th><th scope=col>MC</th><th scope=col>Atti</th></tr></thead>\n",
       "<tbody>\n",
       "\t<tr><th scope=row>OwnRent</th><td> 1.000 </td><td> 0.4810</td><td> 0.0427</td><td>-0.011 </td></tr>\n",
       "\t<tr><th scope=row>SqftCate</th><td> 0.481 </td><td> 1.0000</td><td>-0.0067</td><td>-0.016 </td></tr>\n",
       "\t<tr><th scope=row>MC</th><td> 0.043 </td><td>-0.0067</td><td> 1.0000</td><td> 0.423 </td></tr>\n",
       "\t<tr><th scope=row>Atti</th><td>-0.011 </td><td>-0.0161</td><td> 0.4225</td><td> 1.000 </td></tr>\n",
       "</tbody>\n",
       "</table>\n"
      ],
      "text/latex": [
       "\\begin{tabular}{r|llll}\n",
       "  & OwnRent & SqftCate & MC & Atti\\\\\n",
       "\\hline\n",
       "\tOwnRent &  1.000  &  0.4810 &  0.0427 & -0.011 \\\\\n",
       "\tSqftCate &  0.481  &  1.0000 & -0.0067 & -0.016 \\\\\n",
       "\tMC &  0.043  & -0.0067 &  1.0000 &  0.423 \\\\\n",
       "\tAtti & -0.011  & -0.0161 &  0.4225 &  1.000 \\\\\n",
       "\\end{tabular}\n"
      ],
      "text/markdown": [
       "1. 1\n",
       "2. 0.481039628439871\n",
       "3. 0.0427227706452995\n",
       "4. -0.0106725169087456\n",
       "5. 0.481039628439871\n",
       "6. 1\n",
       "7. -0.0066524987275133\n",
       "8. -0.0161180739436214\n",
       "9. 0.0427227706452995\n",
       "10. -0.0066524987275133\n",
       "11. 1\n",
       "12. 0.422546587764294\n",
       "13. -0.0106725169087456\n",
       "14. -0.0161180739436214\n",
       "15. 0.422546587764294\n",
       "16. 1\n",
       "\n",
       "\n"
      ],
      "text/plain": [
       "         OwnRent SqftCate MC      Atti  \n",
       "OwnRent   1.000   0.4810   0.0427 -0.011\n",
       "SqftCate  0.481   1.0000  -0.0067 -0.016\n",
       "MC        0.043  -0.0067   1.0000  0.423\n",
       "Atti     -0.011  -0.0161   0.4225  1.000"
      ]
     },
     "metadata": {},
     "output_type": "display_data"
    }
   ],
   "source": [
    "hiCor(data2,.4)"
   ]
  },
  {
   "cell_type": "code",
   "execution_count": 15,
   "metadata": {
    "collapsed": false
   },
   "outputs": [
    {
     "ename": "ERROR",
     "evalue": "Error in prcomp(data2, retx = F, scale = T)$rotation[, 1:22]: subscript out of bounds\n",
     "output_type": "error",
     "traceback": [
      "Error in prcomp(data2, retx = F, scale = T)$rotation[, 1:22]: subscript out of bounds\nTraceback:\n"
     ]
    }
   ],
   "source": [
    "res<-prcomp(data2, retx=F,scale=T)$rotation[,1:22];\n",
    "resAbs <- res;\n",
    "resAbs[res<0] <- -res[res<0];\n",
    "z <- cumsum(prcomp(data2, retx=F,scale=T)$sdev^2)/\n",
    "     sum(prcomp(data2, retx=F,scale=T)$sdev^2)\n",
    "\n",
    "for (i in 1:22){\n",
    "  print(z[i]);\n",
    "  print(t(res[resAbs[,i]>.2,i,drop=FALSE]));\n",
    "}\n"
   ]
  },
  {
   "cell_type": "code",
   "execution_count": 16,
   "metadata": {
    "collapsed": false
   },
   "outputs": [
    {
     "data": {
      "image/png": "[encoded data removed]",
      "text/plain": [
       "plot without title"
      ]
     },
     "metadata": {},
     "output_type": "display_data"
    }
   ],
   "source": [
    "plot(1:dim(data2)[2],cumsum(prcomp(data2, retx=F,scale=T)$sdev^2)/\n",
    "     sum(prcomp(data2, retx=F,scale=T)$sdev^2),\n",
    "     ylim=c(0,1),xlab=\"Number of coponents\",\n",
    "     ylab=\"Fraction of variance\");"
   ]
  },
  {
   "cell_type": "code",
   "execution_count": 17,
   "metadata": {
    "collapsed": true
   },
   "outputs": [],
   "source": [
    "res <- c();\n",
    "vnam <- names(data2);\n",
    "for (i in 2:dim(data2)[2]){\n",
    "  fmla <- as.formula(paste(vnam[i],paste(vnam[-c(1,i)],collapse=\"+\"),sep=\"~\"));\n",
    "  res <- rbind(res,c(i,round(summary(lm(fmla,data=data2))$r.squared,2)));\n",
    "}"
   ]
  },
  {
   "cell_type": "code",
   "execution_count": 18,
   "metadata": {
    "collapsed": false
   },
   "outputs": [
    {
     "data": {
      "text/html": [
       "<table>\n",
       "<tbody>\n",
       "\t<tr><th scope=row>SqftCate</th><td> 5  </td><td>0.36</td></tr>\n",
       "\t<tr><th scope=row>OwnRent</th><td> 4  </td><td>0.31</td></tr>\n",
       "\t<tr><th scope=row>Atti</th><td>15  </td><td>0.27</td></tr>\n",
       "\t<tr><th scope=row>HouseholdS</th><td> 6  </td><td>0.26</td></tr>\n",
       "\t<tr><th scope=row>Income</th><td> 9  </td><td>0.26</td></tr>\n",
       "\t<tr><th scope=row>HabitC</th><td>18  </td><td>0.24</td></tr>\n",
       "\t<tr><th scope=row>HabitG</th><td>17  </td><td>0.22</td></tr>\n",
       "\t<tr><th scope=row>MC</th><td>12  </td><td>0.21</td></tr>\n",
       "\t<tr><th scope=row>Age</th><td> 2  </td><td>0.20</td></tr>\n",
       "\t<tr><th scope=row>ComfNW</th><td>14  </td><td>0.16</td></tr>\n",
       "\t<tr><th scope=row>Educ</th><td>10  </td><td>0.15</td></tr>\n",
       "\t<tr><th scope=row>Gender</th><td> 3  </td><td>0.13</td></tr>\n",
       "\t<tr><th scope=row>Political</th><td> 7  </td><td>0.12</td></tr>\n",
       "\t<tr><th scope=row>Ethnic</th><td> 8  </td><td>0.10</td></tr>\n",
       "\t<tr><th scope=row>ComfNS</th><td>13  </td><td>0.09</td></tr>\n",
       "\t<tr><th scope=row>SN</th><td>16  </td><td>0.09</td></tr>\n",
       "\t<tr><th scope=row>Latitude</th><td>11  </td><td>0.05</td></tr>\n",
       "</tbody>\n",
       "</table>\n"
      ],
      "text/latex": [
       "\\begin{tabular}{r|ll}\n",
       "\tSqftCate &  5   & 0.36\\\\\n",
       "\tOwnRent &  4   & 0.31\\\\\n",
       "\tAtti & 15   & 0.27\\\\\n",
       "\tHouseholdS &  6   & 0.26\\\\\n",
       "\tIncome &  9   & 0.26\\\\\n",
       "\tHabitC & 18   & 0.24\\\\\n",
       "\tHabitG & 17   & 0.22\\\\\n",
       "\tMC & 12   & 0.21\\\\\n",
       "\tAge &  2   & 0.20\\\\\n",
       "\tComfNW & 14   & 0.16\\\\\n",
       "\tEduc & 10   & 0.15\\\\\n",
       "\tGender &  3   & 0.13\\\\\n",
       "\tPolitical &  7   & 0.12\\\\\n",
       "\tEthnic &  8   & 0.10\\\\\n",
       "\tComfNS & 13   & 0.09\\\\\n",
       "\tSN & 16   & 0.09\\\\\n",
       "\tLatitude & 11   & 0.05\\\\\n",
       "\\end{tabular}\n"
      ],
      "text/markdown": [
       "1. 5\n",
       "2. 4\n",
       "3. 15\n",
       "4. 6\n",
       "5. 9\n",
       "6. 18\n",
       "7. 17\n",
       "8. 12\n",
       "9. 2\n",
       "10. 14\n",
       "11. 10\n",
       "12. 3\n",
       "13. 7\n",
       "14. 8\n",
       "15. 13\n",
       "16. 16\n",
       "17. 11\n",
       "18. 0.36\n",
       "19. 0.31\n",
       "20. 0.27\n",
       "21. 0.26\n",
       "22. 0.26\n",
       "23. 0.24\n",
       "24. 0.22\n",
       "25. 0.21\n",
       "26. 0.2\n",
       "27. 0.16\n",
       "28. 0.15\n",
       "29. 0.13\n",
       "30. 0.12\n",
       "31. 0.1\n",
       "32. 0.09\n",
       "33. 0.09\n",
       "34. 0.05\n",
       "\n",
       "\n"
      ],
      "text/plain": [
       "           [,1] [,2]\n",
       "SqftCate    5   0.36\n",
       "OwnRent     4   0.31\n",
       "Atti       15   0.27\n",
       "HouseholdS  6   0.26\n",
       "Income      9   0.26\n",
       "HabitC     18   0.24\n",
       "HabitG     17   0.22\n",
       "MC         12   0.21\n",
       "Age         2   0.20\n",
       "ComfNW     14   0.16\n",
       "Educ       10   0.15\n",
       "Gender      3   0.13\n",
       "Political   7   0.12\n",
       "Ethnic      8   0.10\n",
       "ComfNS     13   0.09\n",
       "SN         16   0.09\n",
       "Latitude   11   0.05"
      ]
     },
     "metadata": {},
     "output_type": "display_data"
    }
   ],
   "source": [
    "row.names(res) <- vnam[res[,1]];\n",
    "o = order(-res[,2]);\n",
    "res[o,][res[o,2]<.7,]"
   ]
  },
  {
   "cell_type": "code",
   "execution_count": 19,
   "metadata": {
    "collapsed": false
   },
   "outputs": [],
   "source": [
    "IndepPred <- row.names(res[o,][res[o,2]<.7,])"
   ]
  },
  {
   "cell_type": "code",
   "execution_count": 20,
   "metadata": {
    "collapsed": false
   },
   "outputs": [],
   "source": [
    "#IndepPred = c('Atti', 'EnergyC', 'SqftCate', 'OwnRent', 'MC', 'HouseholdS', 'Income', 'SubNorm', 'HabitG', 'HabitC', 'Educ', 'PBC', 'Political', 'Gender', 'ComfNS', 'Latitude', 'Ethnic')"
   ]
  },
  {
   "cell_type": "code",
   "execution_count": 21,
   "metadata": {
    "collapsed": true
   },
   "outputs": [],
   "source": [
    "fmla <- as.formula(paste(\"HabitG\",paste(IndepPred,collapse=\"+\"),sep=\"~\"));"
   ]
  },
  {
   "cell_type": "code",
   "execution_count": 22,
   "metadata": {
    "collapsed": false
   },
   "outputs": [
    {
     "data": {
      "text/plain": [
       "\n",
       " 1.5    2 2.25  2.5 2.75    3 3.25  3.5 3.75    4 4.25  4.5 4.75    5 5.25  5.5 \n",
       "   3    2    2    5    9   11   14   16   23   27   32   37   32   54   34   68 \n",
       "5.75    6 6.25  6.5 6.75    7 \n",
       "  46   53   50   33   23   53 "
      ]
     },
     "metadata": {},
     "output_type": "display_data"
    }
   ],
   "source": [
    "table(data2[,\"HabitG\"])"
   ]
  },
  {
   "cell_type": "code",
   "execution_count": 23,
   "metadata": {
    "collapsed": false
   },
   "outputs": [
    {
     "name": "stderr",
     "output_type": "stream",
     "text": [
      "Warning message in model.matrix.default(mt, mf, contrasts):\n",
      "\"the response appeared on the right-hand side and was dropped\"Warning message in model.matrix.default(mt, mf, contrasts):\n",
      "\"problem with term 7 in model.matrix: no columns are assigned\""
     ]
    },
    {
     "data": {
      "text/plain": [
       "\n",
       "Call:\n",
       "lm(formula = fmla, data = data2)\n",
       "\n",
       "Residuals:\n",
       "   Min     1Q Median     3Q    Max \n",
       "-3.928 -0.657  0.168  0.762  3.076 \n",
       "\n",
       "Coefficients:\n",
       "            Estimate Std. Error t value Pr(>|t|)    \n",
       "(Intercept)  3.41768    0.56901    6.01  3.3e-09 ***\n",
       "SqftCate    -0.03159    0.04699   -0.67    0.502    \n",
       "OwnRent     -0.08365    0.09723   -0.86    0.390    \n",
       "Atti         0.11961    0.04424    2.70    0.007 ** \n",
       "HouseholdS  -0.04993    0.04026   -1.24    0.215    \n",
       "Income      -0.03134    0.02468   -1.27    0.205    \n",
       "HabitC       0.21008    0.03306    6.35  4.1e-10 ***\n",
       "MC           0.23955    0.04297    5.57  3.7e-08 ***\n",
       "Age          0.00280    0.00420    0.67    0.506    \n",
       "ComfNW       0.03813    0.02625    1.45    0.147    \n",
       "Educ        -0.12666    0.04077   -3.11    0.002 ** \n",
       "Gender      -0.00649    0.09001   -0.07    0.943    \n",
       "Political   -0.05804    0.05404   -1.07    0.283    \n",
       "Ethnic      -0.01400    0.11695   -0.12    0.905    \n",
       "ComfNS      -0.04542    0.03035   -1.50    0.135    \n",
       "SN           0.04655    0.03104    1.50    0.134    \n",
       "Latitude    -0.00934    0.00850   -1.10    0.272    \n",
       "---\n",
       "Signif. codes:  0 '***' 0.001 '**' 0.01 '*' 0.05 '.' 0.1 ' ' 1\n",
       "\n",
       "Residual standard error: 1.1 on 610 degrees of freedom\n",
       "Multiple R-squared:  0.215,\tAdjusted R-squared:  0.194 \n",
       "F-statistic: 10.4 on 16 and 610 DF,  p-value: <2e-16\n"
      ]
     },
     "metadata": {},
     "output_type": "display_data"
    }
   ],
   "source": [
    "mod = lm(fmla,data=data2)\n",
    "summary(mod)"
   ]
  },
  {
   "cell_type": "code",
   "execution_count": null,
   "metadata": {
    "collapsed": false
   },
   "outputs": [],
   "source": [
    "anova(mod)"
   ]
  },
  {
   "cell_type": "code",
   "execution_count": null,
   "metadata": {
    "collapsed": false
   },
   "outputs": [],
   "source": [
    "fit <- factanal(data2, 2, rotation=\"varimax\")\n",
    "print(fit, digits=2, cutoff=.3, sort=TRUE)"
   ]
  },
  {
   "cell_type": "code",
   "execution_count": null,
   "metadata": {
    "collapsed": false
   },
   "outputs": [],
   "source": [
    "#model without age\n",
    "IndepPred = c('Atti', 'EnergyC', 'SqftCate', 'OwnRent', 'MC', 'HouseholdS', 'Income', 'HabitC', 'Educ', 'PBC', 'Political', 'Gender', 'ComfNS', 'ComfNW', 'Latitude', 'Ethnic')\n",
    "fmla <- as.formula(paste(\"HabitG\",paste(IndepPred,collapse=\"+\"),sep=\"~\"));\n",
    "mod = lm(fmla,data=data2)\n",
    "summary(mod)"
   ]
  },
  {
   "cell_type": "code",
   "execution_count": null,
   "metadata": {
    "collapsed": false
   },
   "outputs": [],
   "source": [
    "plot(mod)"
   ]
  },
  {
   "cell_type": "code",
   "execution_count": null,
   "metadata": {
    "collapsed": false
   },
   "outputs": [],
   "source": [
    "plot(mod$residuals,data2$IncHomeS)\n",
    "z<-tapply(mod$residuals,data2$IncHomeS,mean)\n",
    "points(z,1:8,pch=\"*\",cex=3)"
   ]
  },
  {
   "cell_type": "code",
   "execution_count": null,
   "metadata": {
    "collapsed": false
   },
   "outputs": [],
   "source": [
    "mod = lm(IncHomeS~ComfNS+Age,data=data2)\n",
    "summary(mod)"
   ]
  },
  {
   "cell_type": "code",
   "execution_count": null,
   "metadata": {
    "collapsed": false
   },
   "outputs": [],
   "source": [
    "#Probably overfitting\n",
    "mod1 = lm(IncHomeS~ComfNS3+Age+HabitC2,data=data2)\n",
    "summary(mod1)"
   ]
  },
  {
   "cell_type": "code",
   "execution_count": null,
   "metadata": {
    "collapsed": false
   },
   "outputs": [],
   "source": [
    "library(mgcv)\n"
   ]
  },
  {
   "cell_type": "code",
   "execution_count": null,
   "metadata": {
    "collapsed": false
   },
   "outputs": [],
   "source": [
    "mGam = gam(IncHomeS~I(ComfNS3<=3)+I(ComfNS3==7)+s(Age),data=data2)\n",
    "summary(mGam)\n"
   ]
  },
  {
   "cell_type": "code",
   "execution_count": null,
   "metadata": {
    "collapsed": false
   },
   "outputs": [],
   "source": [
    "plot(mGam)"
   ]
  },
  {
   "cell_type": "code",
   "execution_count": null,
   "metadata": {
    "collapsed": false
   },
   "outputs": [],
   "source": [
    "mod1 = lm(IncHomeS~I(ComfNS3<=3)+I(ComfNS3==7)+Age+HabitC2+ Political,data=data2)\n",
    "summary(mod1)\n"
   ]
  },
  {
   "cell_type": "code",
   "execution_count": null,
   "metadata": {
    "collapsed": false
   },
   "outputs": [],
   "source": [
    "anova(mod1)"
   ]
  },
  {
   "cell_type": "code",
   "execution_count": null,
   "metadata": {
    "collapsed": false
   },
   "outputs": [],
   "source": [
    "drop1(mod1)"
   ]
  },
  {
   "cell_type": "code",
   "execution_count": null,
   "metadata": {
    "collapsed": false
   },
   "outputs": [],
   "source": [
    "library(bnlearn)"
   ]
  },
  {
   "cell_type": "code",
   "execution_count": null,
   "metadata": {
    "collapsed": false
   },
   "outputs": [],
   "source": [
    "dd2 = data2[,c('IncHomeS', 'ComfNS3','Age','HabitC2')]\n",
    "for (i in 1:4) dd2[,i] <- as.double(dd2[,i])\n",
    "dag2 = tabu(dd2)\n",
    "plot(dag2)"
   ]
  },
  {
   "cell_type": "code",
   "execution_count": null,
   "metadata": {
    "collapsed": false
   },
   "outputs": [],
   "source": [
    "fmlaF <- as.formula(paste(\"IncHomeS\",paste(IVS,collapse=\"+\"),sep=\"~\"));\n",
    "mod = lm(fmlaF,data=data2)\n",
    "summary(mod)"
   ]
  },
  {
   "cell_type": "code",
   "execution_count": null,
   "metadata": {
    "collapsed": true
   },
   "outputs": [],
   "source": []
  },
  {
   "cell_type": "code",
   "execution_count": null,
   "metadata": {
    "collapsed": false
   },
   "outputs": [],
   "source": [
    "#Probably overfitting\n",
    "mod1 = lm(IncHomeS~ComfNS3+Age+HabitC2+Political+Ethnic+Trust1,data=data2)\n",
    "summary(mod1)"
   ]
  },
  {
   "cell_type": "code",
   "execution_count": null,
   "metadata": {
    "collapsed": false
   },
   "outputs": [],
   "source": [
    "for (i in 1:length(IVS){\n",
    "  fmla <- as.formula(paste(IVS[i],paste(vnam[-c(1,i)],collapse=\"+\"),sep=\"~\"));\n",
    "  res <- rbind(res,c(i,round(summary(lm(fmla,data=data2))$r.squared,2)));\n",
    "}\n",
    "vnam <- (data2);\n",
    "fmlaF <- as.formula(paste(\"Age\",paste(IVS[-\"Age\"],collapse=\"+\"),sep=\"~\"));\n",
    "mod = lm(fmlaF,data=data2)\n",
    "summary(mod)"
   ]
  },
  {
   "cell_type": "code",
   "execution_count": null,
   "metadata": {
    "collapsed": true
   },
   "outputs": [],
   "source": [
    "ind <- 1:length(IVS);names(ind) <- IVS"
   ]
  },
  {
   "cell_type": "code",
   "execution_count": null,
   "metadata": {
    "collapsed": false
   },
   "outputs": [],
   "source": [
    "fmlaF <- as.formula(paste(\"Age\",paste(IVS[-ind[\"Age\"]],collapse=\"+\"),sep=\"~\"));\n",
    "mod = lm(fmlaF,data=data2)\n",
    "res <- summary(mod)$coefficients\n",
    "res[abs(res[,3])>3,]"
   ]
  },
  {
   "cell_type": "code",
   "execution_count": null,
   "metadata": {
    "collapsed": false
   },
   "outputs": [],
   "source": [
    "fmlaF <- as.formula(paste(\"ComfNS3\",paste(IVS[-ind[\"ComfNS3\"]],collapse=\"+\"),sep=\"~\"));\n",
    "mod = lm(fmlaF,data=data2)\n",
    "res <- summary(mod)$coefficients\n",
    "res[abs(res[,3])>3,]"
   ]
  },
  {
   "cell_type": "code",
   "execution_count": null,
   "metadata": {
    "collapsed": false
   },
   "outputs": [],
   "source": [
    "dd2 = data2[,c('IncHomeS', 'ComfNS3','Age','HabitC2',\"Gender\",\"OwnRent\",\"SqftCate\",\n",
    "               \"HouseholdS\",\"Atti3\",\"Atti4\",\"ComfNS1\",\"ComfNS2\")]\n",
    "for (i in 1:12) dd2[,i] <- as.double(dd2[,i])\n",
    "dag2 = tabu(dd2)\n",
    "plot(dag2)"
   ]
  },
  {
   "cell_type": "code",
   "execution_count": null,
   "metadata": {
    "collapsed": true
   },
   "outputs": [],
   "source": []
  }
 ],
 "metadata": {
  "kernelspec": {
   "display_name": "R",
   "language": "R",
   "name": "ir"
  },
  "language_info": {
   "codemirror_mode": "r",
   "file_extension": ".r",
   "mimetype": "text/x-r-source",
   "name": "R",
   "pygments_lexer": "r",
   "version": "3.3.1"
  }
 },
 "nbformat": 4,
 "nbformat_minor": 1
}
