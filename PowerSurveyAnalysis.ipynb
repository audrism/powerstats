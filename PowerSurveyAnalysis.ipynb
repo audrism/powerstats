{
 "cells": [
  {
   "cell_type": "code",
   "execution_count": 1,
   "metadata": {
    "collapsed": true
   },
   "outputs": [],
   "source": [
    "# For nicer printing\n",
    "options(digits=2);"
   ]
  },
  {
   "cell_type": "code",
   "execution_count": 23,
   "metadata": {
    "collapsed": false
   },
   "outputs": [
    {
     "data": {
      "text/html": [
       "<table>\n",
       "<thead><tr><th></th><th scope=col>HomeW</th><th scope=col>HomeWYN</th><th scope=col>HomeS</th><th scope=col>HomeSYN</th><th scope=col>AwayW</th><th scope=col>AwayWNY</th><th scope=col>AwayS</th><th scope=col>AwaySNY</th><th scope=col>IncHomeS</th><th scope=col>IncHomeW</th><th scope=col>⋯</th><th scope=col>Attitude</th><th scope=col>SubN</th><th scope=col>PBC</th><th scope=col>hot</th><th scope=col>cold</th><th scope=col>ACYN</th><th scope=col>HeatYN</th><th scope=col>valid1</th><th scope=col>valid2</th><th scope=col>valid</th></tr></thead>\n",
       "<tbody>\n",
       "\t<tr><th scope=row>1</th><td>64      </td><td>1       </td><td>NA      </td><td>0       </td><td>62      </td><td>1       </td><td>NA      </td><td>0       </td><td>8       </td><td>8       </td><td><U+22EF></td><td>5.25    </td><td>4       </td><td>5       </td><td>0       </td><td>1       </td><td>1       </td><td>1       </td><td>1       </td><td>1       </td><td>1       </td></tr>\n",
       "\t<tr><th scope=row>2</th><td>68      </td><td>1       </td><td>73      </td><td>1       </td><td>65      </td><td>1       </td><td>78      </td><td>1       </td><td>4       </td><td>4       </td><td><U+22EF></td><td>6       </td><td>4.5     </td><td>6       </td><td>1       </td><td>0       </td><td>1       </td><td>1       </td><td>1       </td><td>1       </td><td>1       </td></tr>\n",
       "</tbody>\n",
       "</table>\n"
      ],
      "text/latex": [
       "\\begin{tabular}{r|lllllllllllllllllllllllllllllllllllllllllllllllllllllllllllllllllllllllllllllllllllllllllllllllllllllllllllllllllll}\n",
       "  & HomeW & HomeWYN & HomeS & HomeSYN & AwayW & AwayWNY & AwayS & AwaySNY & IncHomeS & IncHomeW & ⋯ & Attitude & SubN & PBC & hot & cold & ACYN & HeatYN & valid1 & valid2 & valid\\\\\n",
       "\\hline\n",
       "\t1 & 64       & 1        & NA       & 0        & 62       & 1        & NA       & 0        & 8        & 8        & <U+22EF> & 5.25     & 4        & 5        & 0        & 1        & 1        & 1        & 1        & 1        & 1       \\\\\n",
       "\t2 & 68       & 1        & 73       & 1        & 65       & 1        & 78       & 1        & 4        & 4        & <U+22EF> & 6        & 4.5      & 6        & 1        & 0        & 1        & 1        & 1        & 1        & 1       \\\\\n",
       "\\end{tabular}\n"
      ],
      "text/plain": [
       "  HomeW HomeWYN HomeS HomeSYN AwayW AwayWNY AwayS AwaySNY IncHomeS IncHomeW\n",
       "1    64       1    NA       0    62       1    NA       0        8        8\n",
       "2    68       1    73       1    65       1    78       1        4        4\n",
       "  <U+22EF> Attitude SubN PBC hot cold ACYN HeatYN valid1 valid2 valid\n",
       "1 <U+22EF>      5.2  4.0   5   0    1    1      1      1      1     1\n",
       "2 <U+22EF>      6.0  4.5   6   1    0    1      1      1      1     1"
      ]
     },
     "metadata": {},
     "output_type": "display_data"
    }
   ],
   "source": [
    "# Read in the data\n",
    "survey <- read.csv(\"DR_Survey2_Share_Complete.csv\",header=T);\n",
    "\n",
    "data <- survey[,-c(1:7)];\n",
    "data <- data[ ,-which(names(data) %in% c(\"State\",\"City\",\"Utility\",\"ReasonPos\",\n",
    "                               \"ReasonNeg\"))];\n",
    "data[1:2,]"
   ]
  },
  {
   "cell_type": "code",
   "execution_count": 24,
   "metadata": {
    "collapsed": false
   },
   "outputs": [
    {
     "data": {
      "text/plain": [
       "     HomeW       HomeWYN         HomeS        HomeSYN         AwayW    \n",
       " Min.   :50   Min.   :0.00   Min.   :40    Min.   :0.00   Min.   :45   \n",
       " 1st Qu.:68   1st Qu.:1.00   1st Qu.:68    1st Qu.:1.00   1st Qu.:62   \n",
       " Median :70   Median :1.00   Median :72    Median :1.00   Median :67   \n",
       " Mean   :70   Mean   :0.91   Mean   :71    Mean   :0.81   Mean   :66   \n",
       " 3rd Qu.:72   3rd Qu.:1.00   3rd Qu.:75    3rd Qu.:1.00   3rd Qu.:70   \n",
       " Max.   :95   Max.   :2.00   Max.   :85    Max.   :2.00   Max.   :95   \n",
       " NA's   :80                  NA's   :164                  NA's   :151  \n",
       "    AwayWNY         AwayS        AwaySNY        IncHomeS     IncHomeW \n",
       " Min.   :0.00   Min.   :40    Min.   :0.00   Min.   : 1   Min.   : 1  \n",
       " 1st Qu.:1.00   1st Qu.:70    1st Qu.:1.00   1st Qu.: 3   1st Qu.: 3  \n",
       " Median :1.00   Median :75    Median :1.00   Median : 4   Median : 4  \n",
       " Mean   :0.97   Mean   :74    Mean   :0.92   Mean   :11   Mean   : 7  \n",
       " 3rd Qu.:1.00   3rd Qu.:78    3rd Qu.:1.00   3rd Qu.: 6   3rd Qu.: 6  \n",
       " Max.   :2.00   Max.   :95    Max.   :2.00   Max.   :99   Max.   :99  \n",
       "                NA's   :264                                           \n",
       "   RewardForm      IncAwayS     IncAwayW      IncWD       IncDish   \n",
       " Min.   : 1.0   Min.   : 1   Min.   : 1   Min.   :1    Min.   :1    \n",
       " 1st Qu.: 4.0   1st Qu.: 3   1st Qu.: 3   1st Qu.:3    1st Qu.:3    \n",
       " Median : 5.0   Median : 5   Median : 5   Median :5    Median :4    \n",
       " Mean   : 4.5   Mean   :12   Mean   : 7   Mean   :5    Mean   :4    \n",
       " 3rd Qu.: 5.0   3rd Qu.: 7   3rd Qu.: 7   3rd Qu.:6    3rd Qu.:6    \n",
       " Max.   :12.0   Max.   :99   Max.   :99   Max.   :7    Max.   :7    \n",
       "                                          NA's   :98   NA's   :271  \n",
       "    IncAutoS      IncAutoW     IncEmer10S   IncEmer30S   IncEmer10W\n",
       " Min.   :1.0   Min.   :1.0   Min.   : 1   Min.   : 1   Min.   : 1  \n",
       " 1st Qu.:3.0   1st Qu.:3.0   1st Qu.: 2   1st Qu.: 3   1st Qu.: 2  \n",
       " Median :4.0   Median :4.0   Median : 4   Median : 4   Median : 4  \n",
       " Mean   :4.1   Mean   :4.3   Mean   : 9   Mean   :10   Mean   : 6  \n",
       " 3rd Qu.:6.0   3rd Qu.:6.0   3rd Qu.: 6   3rd Qu.: 7   3rd Qu.: 6  \n",
       " Max.   :8.0   Max.   :8.0   Max.   :99   Max.   :99   Max.   :99  \n",
       "                                                                   \n",
       "   IncEmer30W   EmerRForm       EnergyC1      EnergyC2      EnergyC3  \n",
       " Min.   : 1   Min.   :1.00   Min.   :1.0   Min.   :1.0   Min.   :1.0  \n",
       " 1st Qu.: 3   1st Qu.:1.00   1st Qu.:5.0   1st Qu.:4.0   1st Qu.:4.0  \n",
       " Median : 4   Median :1.00   Median :5.0   Median :5.0   Median :5.0  \n",
       " Mean   : 6   Mean   :1.29   Mean   :5.2   Mean   :5.1   Mean   :4.8  \n",
       " 3rd Qu.: 7   3rd Qu.:1.75   3rd Qu.:6.0   3rd Qu.:6.0   3rd Qu.:6.0  \n",
       " Max.   :99   Max.   :3.00   Max.   :7.0   Max.   :7.0   Max.   :7.0  \n",
       "                                                                      \n",
       "    EnergyC4        MC1           MC2           MC3           MC4     \n",
       " Min.   :1.0   Min.   :1.0   Min.   :1.0   Min.   :1.0   Min.   :1.0  \n",
       " 1st Qu.:5.0   1st Qu.:4.0   1st Qu.:4.0   1st Qu.:5.0   1st Qu.:5.0  \n",
       " Median :5.0   Median :5.0   Median :5.0   Median :5.0   Median :6.0  \n",
       " Mean   :5.2   Mean   :4.9   Mean   :5.1   Mean   :5.3   Mean   :5.5  \n",
       " 3rd Qu.:6.0   3rd Qu.:6.0   3rd Qu.:6.0   3rd Qu.:6.0   3rd Qu.:7.0  \n",
       " Max.   :7.0   Max.   :7.0   Max.   :7.0   Max.   :7.0   Max.   :7.0  \n",
       "                                                                      \n",
       "      MC5         Frugal1       Frugal2       Frugal3        Trust1   \n",
       " Min.   :1.0   Min.   :1.0   Min.   :1.0   Min.   :1.0   Min.   :1.0  \n",
       " 1st Qu.:5.0   1st Qu.:6.0   1st Qu.:5.0   1st Qu.:6.0   1st Qu.:3.0  \n",
       " Median :6.0   Median :6.0   Median :6.0   Median :6.0   Median :4.0  \n",
       " Mean   :5.8   Mean   :6.2   Mean   :5.9   Mean   :5.9   Mean   :4.3  \n",
       " 3rd Qu.:7.0   3rd Qu.:7.0   3rd Qu.:7.0   3rd Qu.:7.0   3rd Qu.:6.0  \n",
       " Max.   :7.0   Max.   :7.0   Max.   :7.0   Max.   :7.0   Max.   :7.0  \n",
       "                                                                      \n",
       "     Trust2        Trust3        Trust4       ComfNS1     ComfNS2   \n",
       " Min.   :1.0   Min.   :1.0   Min.   :1.0   Min.   :1   Min.   :1.0  \n",
       " 1st Qu.:4.0   1st Qu.:3.0   1st Qu.:3.0   1st Qu.:4   1st Qu.:4.0  \n",
       " Median :5.0   Median :4.0   Median :4.0   Median :5   Median :5.0  \n",
       " Mean   :4.8   Mean   :4.1   Mean   :4.3   Mean   :5   Mean   :5.0  \n",
       " 3rd Qu.:6.0   3rd Qu.:5.0   3rd Qu.:6.0   3rd Qu.:6   3rd Qu.:6.8  \n",
       " Max.   :7.0   Max.   :7.0   Max.   :7.0   Max.   :7   Max.   :7.0  \n",
       "                                                                    \n",
       "    ComfNS3       ComfNW1       ComfNW2        ConvB1        ConvB2 \n",
       " Min.   :1.0   Min.   :1.0   Min.   :1.0   Min.   :1.0   Min.   :1  \n",
       " 1st Qu.:3.0   1st Qu.:2.0   1st Qu.:2.0   1st Qu.:2.0   1st Qu.:1  \n",
       " Median :5.0   Median :3.0   Median :3.0   Median :2.0   Median :2  \n",
       " Mean   :4.6   Mean   :3.4   Mean   :3.7   Mean   :2.7   Mean   :2  \n",
       " 3rd Qu.:6.0   3rd Qu.:5.0   3rd Qu.:5.0   3rd Qu.:3.0   3rd Qu.:2  \n",
       " Max.   :7.0   Max.   :7.0   Max.   :7.0   Max.   :7.0   Max.   :7  \n",
       "                                                                    \n",
       "     ConvB3        ConvB4    ControlN1     ControlN2R    ControlN3  \n",
       " Min.   :1.0   Min.   :1   Min.   :1.0   Min.   :1.0   Min.   :1.0  \n",
       " 1st Qu.:1.2   1st Qu.:1   1st Qu.:5.0   1st Qu.:3.0   1st Qu.:5.0  \n",
       " Median :2.0   Median :2   Median :6.0   Median :5.0   Median :6.0  \n",
       " Mean   :3.1   Mean   :3   Mean   :5.9   Mean   :4.5   Mean   :5.9  \n",
       " 3rd Qu.:5.0   3rd Qu.:5   3rd Qu.:7.0   3rd Qu.:6.0   3rd Qu.:7.0  \n",
       " Max.   :7.0   Max.   :7   Max.   :7.0   Max.   :7.0   Max.   :7.0  \n",
       "                                                                    \n",
       "   ControlN4       Atti1         Atti2       Atti3         Atti4  \n",
       " Min.   :1.0   Min.   :1.0   Min.   :1   Min.   :1.0   Min.   :1  \n",
       " 1st Qu.:4.0   1st Qu.:6.0   1st Qu.:5   1st Qu.:6.0   1st Qu.:5  \n",
       " Median :5.0   Median :6.0   Median :6   Median :6.0   Median :6  \n",
       " Mean   :4.6   Mean   :6.1   Mean   :6   Mean   :6.1   Mean   :6  \n",
       " 3rd Qu.:6.0   3rd Qu.:7.0   3rd Qu.:7   3rd Qu.:7.0   3rd Qu.:7  \n",
       " Max.   :7.0   Max.   :7.0   Max.   :7   Max.   :7.0   Max.   :7  \n",
       "                                                                  \n",
       "    SubNorm1      SubNorm2      SubNorm3        PBC1          PBC2    \n",
       " Min.   :1.0   Min.   :1.0   Min.   :1.0   Min.   :1.0   Min.   :1.0  \n",
       " 1st Qu.:4.0   1st Qu.:3.0   1st Qu.:2.0   1st Qu.:5.0   1st Qu.:5.0  \n",
       " Median :5.0   Median :4.0   Median :3.0   Median :6.0   Median :6.0  \n",
       " Mean   :4.6   Mean   :3.8   Mean   :3.4   Mean   :5.9   Mean   :5.6  \n",
       " 3rd Qu.:6.0   3rd Qu.:5.0   3rd Qu.:5.0   3rd Qu.:7.0   3rd Qu.:6.0  \n",
       " Max.   :7.0   Max.   :7.0   Max.   :7.0   Max.   :7.0   Max.   :7.0  \n",
       "                                           NA's   :1     NA's   :1    \n",
       "     PBC3R          PBC4          PBC5          INT1          INT2    \n",
       " Min.   :1.0   Min.   :1.0   Min.   :1.0   Min.   :1.0   Min.   :1.0  \n",
       " 1st Qu.:5.0   1st Qu.:5.0   1st Qu.:5.0   1st Qu.:5.0   1st Qu.:5.0  \n",
       " Median :6.0   Median :6.0   Median :6.0   Median :6.0   Median :5.0  \n",
       " Mean   :5.3   Mean   :5.7   Mean   :5.5   Mean   :5.4   Mean   :5.2  \n",
       " 3rd Qu.:6.0   3rd Qu.:7.0   3rd Qu.:6.0   3rd Qu.:6.0   3rd Qu.:6.0  \n",
       " Max.   :7.0   Max.   :7.0   Max.   :7.0   Max.   :7.0   Max.   :7.0  \n",
       " NA's   :1     NA's   :1     NA's   :1     NA's   :1     NA's   :1    \n",
       "      INT3          INT4          SN1           SN2           SN3   \n",
       " Min.   :1.0   Min.   :1.0   Min.   :1.0   Min.   :1.0   Min.   :1  \n",
       " 1st Qu.:4.0   1st Qu.:2.0   1st Qu.:3.0   1st Qu.:3.0   1st Qu.:2  \n",
       " Median :6.0   Median :3.0   Median :4.0   Median :4.0   Median :3  \n",
       " Mean   :5.2   Mean   :3.3   Mean   :4.1   Mean   :4.1   Mean   :3  \n",
       " 3rd Qu.:6.0   3rd Qu.:5.0   3rd Qu.:5.0   3rd Qu.:5.0   3rd Qu.:4  \n",
       " Max.   :7.0   Max.   :7.0   Max.   :7.0   Max.   :7.0   Max.   :7  \n",
       " NA's   :1     NA's   :1     NA's   :1     NA's   :1     NA's   :1  \n",
       "      SN4         HabitC1       HabitC2       HabitC3       HabitC4   \n",
       " Min.   :1.0   Min.   :1.0   Min.   :1.0   Min.   :1.0   Min.   :1.0  \n",
       " 1st Qu.:3.0   1st Qu.:6.0   1st Qu.:5.0   1st Qu.:2.0   1st Qu.:4.0  \n",
       " Median :4.0   Median :7.0   Median :6.0   Median :4.0   Median :6.0  \n",
       " Mean   :4.1   Mean   :6.3   Mean   :5.6   Mean   :3.8   Mean   :5.2  \n",
       " 3rd Qu.:5.0   3rd Qu.:7.0   3rd Qu.:7.0   3rd Qu.:5.0   3rd Qu.:7.0  \n",
       " Max.   :7.0   Max.   :8.0   Max.   :8.0   Max.   :8.0   Max.   :8.0  \n",
       " NA's   :1     NA's   :1     NA's   :1     NA's   :1     NA's   :1    \n",
       "    HabitC5       HabitC6       HabitC7       HabitE1       HabitE2    \n",
       " Min.   :1.0   Min.   :1.0   Min.   :1.0   Min.   :1.0   Min.   :1.00  \n",
       " 1st Qu.:4.0   1st Qu.:2.0   1st Qu.:5.0   1st Qu.:1.0   1st Qu.:1.00  \n",
       " Median :6.0   Median :4.0   Median :6.0   Median :1.0   Median :2.00  \n",
       " Mean   :5.4   Mean   :4.3   Mean   :5.5   Mean   :1.2   Mean   :1.82  \n",
       " 3rd Qu.:7.0   3rd Qu.:7.0   3rd Qu.:7.0   3rd Qu.:1.0   3rd Qu.:2.00  \n",
       " Max.   :8.0   Max.   :8.0   Max.   :8.0   Max.   :3.0   Max.   :3.00  \n",
       " NA's   :1     NA's   :1     NA's   :1     NA's   :1     NA's   :1     \n",
       "    HabitE3          Age         Gender        OwnRent        BillS    \n",
       " Min.   :1.00   Min.   :18   Min.   :1.00   Min.   :1.0   Min.   : 10  \n",
       " 1st Qu.:1.00   1st Qu.:26   1st Qu.:1.00   1st Qu.:1.0   1st Qu.: 80  \n",
       " Median :1.00   Median :32   Median :2.00   Median :1.0   Median :125  \n",
       " Mean   :1.52   Mean   :35   Mean   :1.59   Mean   :1.5   Mean   :155  \n",
       " 3rd Qu.:2.00   3rd Qu.:43   3rd Qu.:2.00   3rd Qu.:2.0   3rd Qu.:200  \n",
       " Max.   :3.00   Max.   :72   Max.   :3.00   Max.   :4.0   Max.   :800  \n",
       " NA's   :1      NA's   :4    NA's   :1      NA's   :2     NA's   :2    \n",
       "     NBillS        BillW          NBillW         Sqft          SqftCate  \n",
       " Min.   :1.0   Min.   :  10   Min.   :1.0   Min.   :   20   Min.   :1.0  \n",
       " 1st Qu.:1.0   1st Qu.:  74   1st Qu.:1.8   1st Qu.:  949   1st Qu.:1.8  \n",
       " Median :2.0   Median : 120   Median :2.0   Median : 1300   Median :2.0  \n",
       " Mean   :2.5   Mean   : 151   Mean   :2.5   Mean   : 1521   Mean   :2.5  \n",
       " 3rd Qu.:3.0   3rd Qu.: 200   3rd Qu.:4.0   3rd Qu.: 1900   3rd Qu.:4.0  \n",
       " Max.   :4.0   Max.   :1000   Max.   :4.0   Max.   :10000   Max.   :4.0  \n",
       " NA's   :2     NA's   :2      NA's   :2     NA's   :2       NA's   :2    \n",
       "   HouseholdS    Political       Ethnic        Income          Educ    \n",
       " Min.   :1.0   Min.   :1.0   Min.   :1.0   Min.   : 1.0   Min.   :1.0  \n",
       " 1st Qu.:2.0   1st Qu.:3.0   1st Qu.:1.0   1st Qu.: 4.0   1st Qu.:2.0  \n",
       " Median :3.0   Median :4.0   Median :1.0   Median : 5.0   Median :4.0  \n",
       " Mean   :2.9   Mean   :4.3   Mean   :1.5   Mean   : 5.3   Mean   :3.4  \n",
       " 3rd Qu.:4.0   3rd Qu.:6.0   3rd Qu.:1.0   3rd Qu.: 7.0   3rd Qu.:4.0  \n",
       " Max.   :5.0   Max.   :8.0   Max.   :7.0   Max.   :10.0   Max.   :6.0  \n",
       " NA's   :2     NA's   :2     NA's   :2     NA's   :5      NA's   :7    \n",
       "      Job        Latitude     Longitude       EnergyC         MCG   \n",
       " Min.   : 1   Min.   :-35   Min.   :-158   Min.   :1.0   Min.   :1  \n",
       " 1st Qu.: 3   1st Qu.: 34   1st Qu.: -97   1st Qu.:4.2   1st Qu.:4  \n",
       " Median : 7   Median : 39   Median : -86   Median :5.2   Median :5  \n",
       " Mean   : 7   Mean   : 38   Mean   : -90   Mean   :5.1   Mean   :5  \n",
       " 3rd Qu.:10   3rd Qu.: 42   3rd Qu.: -80   3rd Qu.:6.0   3rd Qu.:6  \n",
       " Max.   :12   Max.   : 62   Max.   : 121   Max.   :7.0   Max.   :7  \n",
       " NA's   :3    NA's   :26    NA's   :26                              \n",
       "     MCBill        Frugal        Trust        ComfortS      ComfortW  \n",
       " Min.   :1.0   Min.   :1.7   Min.   :1.0   Min.   :1.0   Min.   :1.0  \n",
       " 1st Qu.:5.0   1st Qu.:5.7   1st Qu.:3.0   1st Qu.:4.0   1st Qu.:2.0  \n",
       " Median :5.5   Median :6.0   Median :4.0   Median :5.0   Median :3.0  \n",
       " Mean   :5.6   Mean   :6.0   Mean   :4.2   Mean   :4.9   Mean   :3.5  \n",
       " 3rd Qu.:6.5   3rd Qu.:7.0   3rd Qu.:5.5   3rd Qu.:6.0   3rd Qu.:5.0  \n",
       " Max.   :7.0   Max.   :7.0   Max.   :7.0   Max.   :7.0   Max.   :7.0  \n",
       "                                                                      \n",
       "    Attitude        SubN          PBC           hot            cold     \n",
       " Min.   :1.0   Min.   :1.0   Min.   :1.5   Min.   :0.00   Min.   :0.00  \n",
       " 1st Qu.:5.5   1st Qu.:3.5   1st Qu.:5.0   1st Qu.:0.00   1st Qu.:0.00  \n",
       " Median :6.2   Median :4.0   Median :6.0   Median :0.00   Median :0.00  \n",
       " Mean   :6.0   Mean   :4.2   Mean   :5.6   Mean   :0.37   Mean   :0.38  \n",
       " 3rd Qu.:7.0   3rd Qu.:5.0   3rd Qu.:6.5   3rd Qu.:1.00   3rd Qu.:1.00  \n",
       " Max.   :7.0   Max.   :7.0   Max.   :7.0   Max.   :1.00   Max.   :1.00  \n",
       "                             NA's   :1                                  \n",
       "      ACYN          HeatYN         valid1         valid2         valid     \n",
       " Min.   :0.00   Min.   :0.00   Min.   :0.00   Min.   :0.00   Min.   :0.00  \n",
       " 1st Qu.:1.00   1st Qu.:1.00   1st Qu.:1.00   1st Qu.:1.00   1st Qu.:1.00  \n",
       " Median :1.00   Median :1.00   Median :1.00   Median :1.00   Median :1.00  \n",
       " Mean   :0.92   Mean   :0.98   Mean   :0.94   Mean   :0.93   Mean   :0.91  \n",
       " 3rd Qu.:1.00   3rd Qu.:1.00   3rd Qu.:1.00   3rd Qu.:1.00   3rd Qu.:1.00  \n",
       " Max.   :1.00   Max.   :1.00   Max.   :1.00   Max.   :1.00   Max.   :1.00  \n",
       "                                                                           "
      ]
     },
     "metadata": {},
     "output_type": "display_data"
    }
   ],
   "source": [
    "#now explore variables\n",
    "summary(data);"
   ]
  },
  {
   "cell_type": "markdown",
   "metadata": {},
   "source": [
    "### Interpret  basic summaries"
   ]
  },
  {
   "cell_type": "markdown",
   "metadata": {},
   "source": [
    "Interpret correlations\n",
    "\n",
    "Now, just show top correlations"
   ]
  },
  {
   "cell_type": "code",
   "execution_count": 36,
   "metadata": {
    "collapsed": false
   },
   "outputs": [
    {
     "name": "stdout",
     "output_type": "stream",
     "text": [
      "[1] 356\n",
      "[1] 826\n"
     ]
    }
   ],
   "source": [
    "sel <- !is.na(apply(data,1,max));\n",
    "print(sum(sel));print(length(sel))\n",
    "selC = apply(data[sel,],2,var)>0"
   ]
  },
  {
   "cell_type": "code",
   "execution_count": 41,
   "metadata": {
    "collapsed": false
   },
   "outputs": [
    {
     "data": {
      "text/html": [
       "<table>\n",
       "<thead><tr><th></th><th scope=col>MC1</th><th scope=col>ComfNW2</th><th scope=col>PBC2</th><th scope=col>PBC4</th><th scope=col>BillS</th><th scope=col>NBillS</th><th scope=col>BillW</th><th scope=col>NBillW</th><th scope=col>Sqft</th><th scope=col>SqftCate</th><th scope=col>MCG</th><th scope=col>ComfortW</th><th scope=col>PBC</th></tr></thead>\n",
       "<tbody>\n",
       "\t<tr><th scope=row>MC1</th><td> 1.0000</td><td>-0.0821</td><td> 0.0337</td><td> 0.0297</td><td> 0.0018</td><td>-0.0066</td><td>-0.0292</td><td>-0.0409</td><td> 0.1083</td><td> 0.0818</td><td> 0.9530</td><td>-0.1030</td><td> 0.0318</td></tr>\n",
       "\t<tr><th scope=row>ComfNW2</th><td>-0.082</td><td> 1.000</td><td>-0.039</td><td>-0.055</td><td> 0.078</td><td> 0.091</td><td> 0.120</td><td> 0.109</td><td> 0.049</td><td> 0.052</td><td>-0.070</td><td> 0.954</td><td>-0.052</td></tr>\n",
       "\t<tr><th scope=row>PBC2</th><td> 0.034</td><td>-0.039</td><td> 1.000</td><td> 0.869</td><td>-0.123</td><td>-0.135</td><td>-0.096</td><td>-0.090</td><td>-0.053</td><td>-0.047</td><td> 0.042</td><td>-0.022</td><td> 0.966</td></tr>\n",
       "\t<tr><th scope=row>PBC4</th><td> 0.030</td><td>-0.055</td><td> 0.869</td><td> 1.000</td><td>-0.093</td><td>-0.109</td><td>-0.073</td><td>-0.065</td><td>-0.098</td><td>-0.099</td><td> 0.057</td><td>-0.039</td><td> 0.964</td></tr>\n",
       "\t<tr><th scope=row>BillS</th><td> 0.0018</td><td> 0.0780</td><td>-0.1232</td><td>-0.0930</td><td> 1.0000</td><td> 0.9630</td><td> 0.6192</td><td> 0.5854</td><td> 0.3891</td><td> 0.3697</td><td>-0.0380</td><td> 0.0901</td><td>-0.1144</td></tr>\n",
       "\t<tr><th scope=row>NBillS</th><td>-0.0066</td><td> 0.0908</td><td>-0.1345</td><td>-0.1089</td><td> 0.9630</td><td> 1.0000</td><td> 0.6081</td><td> 0.5806</td><td> 0.3730</td><td> 0.3530</td><td>-0.0405</td><td> 0.1049</td><td>-0.1289</td></tr>\n",
       "\t<tr><th scope=row>BillW</th><td>-0.029</td><td> 0.120</td><td>-0.096</td><td>-0.073</td><td> 0.619</td><td> 0.608</td><td> 1.000</td><td> 0.967</td><td> 0.315</td><td> 0.276</td><td>-0.038</td><td> 0.130</td><td>-0.089</td></tr>\n",
       "\t<tr><th scope=row>NBillW</th><td>-0.041</td><td> 0.109</td><td>-0.090</td><td>-0.065</td><td> 0.585</td><td> 0.581</td><td> 0.967</td><td> 1.000</td><td> 0.300</td><td> 0.268</td><td>-0.051</td><td> 0.120</td><td>-0.083</td></tr>\n",
       "\t<tr><th scope=row>Sqft</th><td> 0.108</td><td> 0.049</td><td>-0.053</td><td>-0.098</td><td> 0.389</td><td> 0.373</td><td> 0.315</td><td> 0.300</td><td> 1.000</td><td> 0.957</td><td> 0.088</td><td> 0.062</td><td>-0.074</td></tr>\n",
       "\t<tr><th scope=row>SqftCate</th><td> 0.082</td><td> 0.052</td><td>-0.047</td><td>-0.099</td><td> 0.370</td><td> 0.353</td><td> 0.276</td><td> 0.268</td><td> 0.957</td><td> 1.000</td><td> 0.055</td><td> 0.067</td><td>-0.071</td></tr>\n",
       "\t<tr><th scope=row>MCG</th><td> 0.953</td><td>-0.070</td><td> 0.042</td><td> 0.057</td><td>-0.038</td><td>-0.041</td><td>-0.038</td><td>-0.051</td><td> 0.088</td><td> 0.055</td><td> 1.000</td><td>-0.089</td><td> 0.051</td></tr>\n",
       "\t<tr><th scope=row>ComfortW</th><td>-0.103</td><td> 0.954</td><td>-0.022</td><td>-0.039</td><td> 0.090</td><td> 0.105</td><td> 0.130</td><td> 0.120</td><td> 0.062</td><td> 0.067</td><td>-0.089</td><td> 1.000</td><td>-0.034</td></tr>\n",
       "\t<tr><th scope=row>PBC</th><td> 0.032</td><td>-0.052</td><td> 0.966</td><td> 0.964</td><td>-0.114</td><td>-0.129</td><td>-0.089</td><td>-0.083</td><td>-0.074</td><td>-0.071</td><td> 0.051</td><td>-0.034</td><td> 1.000</td></tr>\n",
       "</tbody>\n",
       "</table>\n"
      ],
      "text/latex": [
       "\\begin{tabular}{r|lllllllllllll}\n",
       "  & MC1 & ComfNW2 & PBC2 & PBC4 & BillS & NBillS & BillW & NBillW & Sqft & SqftCate & MCG & ComfortW & PBC\\\\\n",
       "\\hline\n",
       "\tMC1 &  1.0000 & -0.0821 &  0.0337 &  0.0297 &  0.0018 & -0.0066 & -0.0292 & -0.0409 &  0.1083 &  0.0818 &  0.9530 & -0.1030 &  0.0318\\\\\n",
       "\tComfNW2 & -0.082 &  1.000 & -0.039 & -0.055 &  0.078 &  0.091 &  0.120 &  0.109 &  0.049 &  0.052 & -0.070 &  0.954 & -0.052\\\\\n",
       "\tPBC2 &  0.034 & -0.039 &  1.000 &  0.869 & -0.123 & -0.135 & -0.096 & -0.090 & -0.053 & -0.047 &  0.042 & -0.022 &  0.966\\\\\n",
       "\tPBC4 &  0.030 & -0.055 &  0.869 &  1.000 & -0.093 & -0.109 & -0.073 & -0.065 & -0.098 & -0.099 &  0.057 & -0.039 &  0.964\\\\\n",
       "\tBillS &  0.0018 &  0.0780 & -0.1232 & -0.0930 &  1.0000 &  0.9630 &  0.6192 &  0.5854 &  0.3891 &  0.3697 & -0.0380 &  0.0901 & -0.1144\\\\\n",
       "\tNBillS & -0.0066 &  0.0908 & -0.1345 & -0.1089 &  0.9630 &  1.0000 &  0.6081 &  0.5806 &  0.3730 &  0.3530 & -0.0405 &  0.1049 & -0.1289\\\\\n",
       "\tBillW & -0.029 &  0.120 & -0.096 & -0.073 &  0.619 &  0.608 &  1.000 &  0.967 &  0.315 &  0.276 & -0.038 &  0.130 & -0.089\\\\\n",
       "\tNBillW & -0.041 &  0.109 & -0.090 & -0.065 &  0.585 &  0.581 &  0.967 &  1.000 &  0.300 &  0.268 & -0.051 &  0.120 & -0.083\\\\\n",
       "\tSqft &  0.108 &  0.049 & -0.053 & -0.098 &  0.389 &  0.373 &  0.315 &  0.300 &  1.000 &  0.957 &  0.088 &  0.062 & -0.074\\\\\n",
       "\tSqftCate &  0.082 &  0.052 & -0.047 & -0.099 &  0.370 &  0.353 &  0.276 &  0.268 &  0.957 &  1.000 &  0.055 &  0.067 & -0.071\\\\\n",
       "\tMCG &  0.953 & -0.070 &  0.042 &  0.057 & -0.038 & -0.041 & -0.038 & -0.051 &  0.088 &  0.055 &  1.000 & -0.089 &  0.051\\\\\n",
       "\tComfortW & -0.103 &  0.954 & -0.022 & -0.039 &  0.090 &  0.105 &  0.130 &  0.120 &  0.062 &  0.067 & -0.089 &  1.000 & -0.034\\\\\n",
       "\tPBC &  0.032 & -0.052 &  0.966 &  0.964 & -0.114 & -0.129 & -0.089 & -0.083 & -0.074 & -0.071 &  0.051 & -0.034 &  1.000\\\\\n",
       "\\end{tabular}\n"
      ],
      "text/markdown": [
       "1. 1\n",
       "2. -0.0820652913168797\n",
       "3. 0.0336567285225934\n",
       "4. 0.0296550507027011\n",
       "5. 0.00183716282068425\n",
       "6. -0.00660217601144722\n",
       "7. -0.029241068015927\n",
       "8. -0.0408986931301696\n",
       "9. 0.108288835137105\n",
       "10. 0.0817535173172935\n",
       "11. 0.952984694837242\n",
       "12. -0.10299079109068\n",
       "13. 0.0318010781997172\n",
       "14. -0.0820652913168797\n",
       "15. 1\n",
       "16. -0.0393351993899688\n",
       "17. -0.0553427121056992\n",
       "18. 0.0780133720372892\n",
       "19. 0.0907976641955669\n",
       "20. 0.120205239794129\n",
       "21. 0.109462104760886\n",
       "22. 0.0491092996411818\n",
       "23. 0.0522634955022544\n",
       "24. -0.0702808991413157\n",
       "25. 0.954038629250161\n",
       "26. -0.0522899607402793\n",
       "27. 0.0336567285225934\n",
       "28. -0.0393351993899688\n",
       "29. 1\n",
       "30. 0.868713214140388\n",
       "31. -0.12316344846571\n",
       "32. -0.134519175315706\n",
       "33. -0.0962131196895846\n",
       "34. -0.0904169324878751\n",
       "35. -0.052941502037924\n",
       "36. -0.0472077306260403\n",
       "37. 0.0419936844858047\n",
       "38. -0.0216160225408445\n",
       "39. 0.966059882924166\n",
       "40. 0.0296550507027011\n",
       "41. -0.0553427121056992\n",
       "42. 0.868713214140388\n",
       "43. 1\n",
       "44. -0.0929974763116891\n",
       "45. -0.108938161193554\n",
       "46. -0.0727374767557076\n",
       "47. -0.0648787712132645\n",
       "48. -0.0978870388563515\n",
       "49. -0.0990747616111901\n",
       "50. 0.0570162817238525\n",
       "51. -0.038937296640667\n",
       "52. 0.964166524337739\n",
       "53. 0.00183716282068425\n",
       "54. 0.0780133720372892\n",
       "55. -0.12316344846571\n",
       "56. -0.0929974763116891\n",
       "57. 1\n",
       "58. 0.962962819129577\n",
       "59. 0.61916157855419\n",
       "60. 0.585412449610503\n",
       "61. 0.389056430181306\n",
       "62. 0.369743082610939\n",
       "63. -0.038017408473918\n",
       "64. 0.0901399032583088\n",
       "65. -0.114419817003951\n",
       "66. -0.00660217601144722\n",
       "67. 0.0907976641955669\n",
       "68. -0.134519175315706\n",
       "69. -0.108938161193554\n",
       "70. 0.962962819129577\n",
       "71. 1\n",
       "72. 0.608086615430575\n",
       "73. 0.580622632113009\n",
       "74. 0.372960371044435\n",
       "75. 0.353003148784687\n",
       "76. -0.0405014261845957\n",
       "77. 0.10488880466846\n",
       "78. -0.128863206220491\n",
       "79. -0.029241068015927\n",
       "80. 0.120205239794129\n",
       "81. -0.0962131196895846\n",
       "82. -0.0727374767557076\n",
       "83. 0.61916157855419\n",
       "84. 0.608086615430575\n",
       "85. 1\n",
       "86. 0.966684935039106\n",
       "87. 0.314648473589863\n",
       "88. 0.275895666359943\n",
       "89. -0.0381852986372806\n",
       "90. 0.130398679334154\n",
       "91. -0.0886902878994517\n",
       "92. -0.0408986931301696\n",
       "93. 0.109462104760886\n",
       "94. -0.0904169324878751\n",
       "95. -0.0648787712132645\n",
       "96. 0.585412449610503\n",
       "97. 0.580622632113009\n",
       "98. 0.966684935039106\n",
       "99. 1\n",
       "100. 0.300167720434389\n",
       "101. 0.268162088813768\n",
       "102. -0.051297765952166\n",
       "103. 0.120278460157938\n",
       "104. -0.0829975468157864\n",
       "105. 0.108288835137105\n",
       "106. 0.0491092996411818\n",
       "107. -0.052941502037924\n",
       "108. -0.0978870388563515\n",
       "109. 0.389056430181306\n",
       "110. 0.372960371044435\n",
       "111. 0.314648473589863\n",
       "112. 0.300167720434389\n",
       "113. 1\n",
       "114. 0.957334731547417\n",
       "115. 0.0881443079925176\n",
       "116. 0.0618038209366919\n",
       "117. -0.0739884783459546\n",
       "118. 0.0817535173172935\n",
       "119. 0.0522634955022544\n",
       "120. -0.0472077306260403\n",
       "121. -0.0990747616111901\n",
       "122. 0.369743082610939\n",
       "123. 0.353003148784687\n",
       "124. 0.275895666359943\n",
       "125. 0.268162088813768\n",
       "126. 0.957334731547417\n",
       "127. 1\n",
       "128. 0.0550064599356709\n",
       "129. 0.0674744778360415\n",
       "130. -0.0712432652794038\n",
       "131. 0.952984694837242\n",
       "132. -0.0702808991413157\n",
       "133. 0.0419936844858047\n",
       "134. 0.0570162817238525\n",
       "135. -0.038017408473918\n",
       "136. -0.0405014261845957\n",
       "137. -0.0381852986372806\n",
       "138. -0.051297765952166\n",
       "139. 0.0881443079925176\n",
       "140. 0.0550064599356709\n",
       "141. 1\n",
       "142. -0.0889212702930163\n",
       "143. 0.0509013675892\n",
       "144. -0.10299079109068\n",
       "145. 0.954038629250161\n",
       "146. -0.0216160225408445\n",
       "147. -0.038937296640667\n",
       "148. 0.0901399032583088\n",
       "149. 0.10488880466846\n",
       "150. 0.130398679334154\n",
       "151. 0.120278460157938\n",
       "152. 0.0618038209366919\n",
       "153. 0.0674744778360415\n",
       "154. -0.0889212702930163\n",
       "155. 1\n",
       "156. -0.0337695886112579\n",
       "157. 0.0318010781997172\n",
       "158. -0.0522899607402793\n",
       "159. 0.966059882924166\n",
       "160. 0.964166524337739\n",
       "161. -0.114419817003951\n",
       "162. -0.128863206220491\n",
       "163. -0.0886902878994517\n",
       "164. -0.0829975468157864\n",
       "165. -0.0739884783459546\n",
       "166. -0.0712432652794038\n",
       "167. 0.0509013675892\n",
       "168. -0.0337695886112579\n",
       "169. 1\n",
       "\n",
       "\n"
      ],
      "text/plain": [
       "             MC1 ComfNW2   PBC2   PBC4   BillS  NBillS  BillW NBillW   Sqft\n",
       "MC1       1.0000  -0.082  0.034  0.030  0.0018 -0.0066 -0.029 -0.041  0.108\n",
       "ComfNW2  -0.0821   1.000 -0.039 -0.055  0.0780  0.0908  0.120  0.109  0.049\n",
       "PBC2      0.0337  -0.039  1.000  0.869 -0.1232 -0.1345 -0.096 -0.090 -0.053\n",
       "PBC4      0.0297  -0.055  0.869  1.000 -0.0930 -0.1089 -0.073 -0.065 -0.098\n",
       "BillS     0.0018   0.078 -0.123 -0.093  1.0000  0.9630  0.619  0.585  0.389\n",
       "NBillS   -0.0066   0.091 -0.135 -0.109  0.9630  1.0000  0.608  0.581  0.373\n",
       "BillW    -0.0292   0.120 -0.096 -0.073  0.6192  0.6081  1.000  0.967  0.315\n",
       "NBillW   -0.0409   0.109 -0.090 -0.065  0.5854  0.5806  0.967  1.000  0.300\n",
       "Sqft      0.1083   0.049 -0.053 -0.098  0.3891  0.3730  0.315  0.300  1.000\n",
       "SqftCate  0.0818   0.052 -0.047 -0.099  0.3697  0.3530  0.276  0.268  0.957\n",
       "MCG       0.9530  -0.070  0.042  0.057 -0.0380 -0.0405 -0.038 -0.051  0.088\n",
       "ComfortW -0.1030   0.954 -0.022 -0.039  0.0901  0.1049  0.130  0.120  0.062\n",
       "PBC       0.0318  -0.052  0.966  0.964 -0.1144 -0.1289 -0.089 -0.083 -0.074\n",
       "         SqftCate    MCG ComfortW    PBC\n",
       "MC1         0.082  0.953   -0.103  0.032\n",
       "ComfNW2     0.052 -0.070    0.954 -0.052\n",
       "PBC2       -0.047  0.042   -0.022  0.966\n",
       "PBC4       -0.099  0.057   -0.039  0.964\n",
       "BillS       0.370 -0.038    0.090 -0.114\n",
       "NBillS      0.353 -0.041    0.105 -0.129\n",
       "BillW       0.276 -0.038    0.130 -0.089\n",
       "NBillW      0.268 -0.051    0.120 -0.083\n",
       "Sqft        0.957  0.088    0.062 -0.074\n",
       "SqftCate    1.000  0.055    0.067 -0.071\n",
       "MCG         0.055  1.000   -0.089  0.051\n",
       "ComfortW    0.067 -0.089    1.000 -0.034\n",
       "PBC        -0.071  0.051   -0.034  1.000"
      ]
     },
     "metadata": {},
     "output_type": "display_data"
    }
   ],
   "source": [
    "# Define a function\n",
    "hiCor <- function(x, level){\n",
    "  res <- cor(x,method=\"spearman\");\n",
    "  res1 <- res; res1[res<0] <- -res[res < 0];\n",
    "  for (i in 1:dim(x)[2]){\n",
    "    res1[i,i] <- 0;\n",
    "  }\n",
    "  sel <- apply(res1,1,max,na.rm=T) > level;\n",
    "  res[sel,sel];\n",
    "}\n",
    "hiCor(data[sel,selC],.95)"
   ]
  },
  {
   "cell_type": "markdown",
   "metadata": {},
   "source": [
    "## How to select an orthogonal subset of predictors?\n",
    "\n",
    "Lets take a look at principal components"
   ]
  },
  {
   "cell_type": "code",
   "execution_count": 49,
   "metadata": {
    "collapsed": false
   },
   "outputs": [
    {
     "data": {
      "text/html": [
       "110"
      ],
      "text/latex": [
       "110"
      ],
      "text/markdown": [
       "110"
      ],
      "text/plain": [
       "[1] 110"
      ]
     },
     "metadata": {},
     "output_type": "display_data"
    }
   ],
   "source": [
    "\n",
    "sum(prcomp(data[sel,selC], retx=F,scale=T)$sdev^2)"
   ]
  },
  {
   "cell_type": "code",
   "execution_count": 64,
   "metadata": {
    "collapsed": false
   },
   "outputs": [
    {
     "name": "stdout",
     "output_type": "stream",
     "text": [
      "[1] 0.13\n",
      "    Atti1 Atti2 Atti4 INT1 Attitude\n",
      "PC1  -0.2  -0.2 -0.21 -0.2    -0.22\n",
      "[1] 0.18\n",
      "     SN1   SN2 BillS NBillS\n",
      "PC2 -0.2 -0.21 -0.22  -0.24\n",
      "[1] 0.23\n",
      "    IncHomeS IncAwayS Trust1 Trust3 Trust4 Trust ACYN\n",
      "PC3    -0.21     -0.2  -0.23  -0.23  -0.23 -0.25 0.23\n",
      "[1] 0.27\n",
      "    IncHomeS IncAwayS IncEmer10S IncEmer30S ACYN\n",
      "PC4    -0.25    -0.25      -0.26      -0.26 0.24\n",
      "[1] 0.31\n",
      "    IncAutoS\n",
      "PC5    -0.21\n",
      "[1] 0.35\n",
      "    ComfNW1 ComfNW2  PBC2  PBC4 HabitC5 ComfortW   PBC\n",
      "PC6   -0.28   -0.26 -0.23 -0.23    0.22    -0.28 -0.24\n",
      "[1] 0.38\n",
      "    ComfNS1 ComfNS2 ComfNS3 ComfortS\n",
      "PC7    0.25    0.22    0.21     0.25\n",
      "[1] 0.41\n",
      "    SubNorm2 SubNorm3\n",
      "PC8      0.2     0.21\n",
      "[1] 0.44\n",
      "    ComfNW1 ComfNW2 HabitC5 BillS ComfortW\n",
      "PC9    0.22    0.24    -0.2 -0.22     0.24\n",
      "[1] 0.47\n",
      "     HomeS AwayS  MC2  MCG valid1 valid2 valid\n",
      "PC10 -0.25 -0.24 0.21 0.21   -0.3  -0.34 -0.36\n",
      "[1] 0.5\n",
      "     Latitude  hot  cold valid1 valid2 valid\n",
      "PC11    -0.21 0.26 -0.22  -0.26  -0.25 -0.26\n",
      "[1] 0.52\n",
      "      MC2 ConvB2  MCG\n",
      "PC12 0.21   0.21 0.21\n",
      "[1] 0.54\n",
      "     Frugal1 Frugal2 Frugal3 ControlN3 ControlN4 Frugal\n",
      "PC13    0.22    0.22    0.24       0.2      0.21   0.26\n",
      "[1] 0.56\n",
      "       SN1   SN2   SN4\n",
      "PC14 -0.28 -0.29 -0.25\n",
      "[1] 0.58\n",
      "      SN4 valid1 valid2 valid\n",
      "PC15 0.24   -0.2  -0.25 -0.26\n",
      "[1] 0.6\n",
      "     HomeW AwayW  Age  Job\n",
      "PC16 -0.25 -0.29 0.21 0.27\n",
      "[1] 0.61\n",
      "     EmerRForm ControlN2R SubNorm1 SubNorm2 INT4   SN3 SubN\n",
      "PC17     -0.23       0.21     0.25     0.22 -0.2 -0.28 0.25\n",
      "[1] 0.63\n",
      "     EnergyC3 Atti1 Atti2 Atti3 Atti4 EnergyC Attitude\n",
      "PC18     0.25 -0.25 -0.21 -0.26 -0.25    0.22    -0.26\n",
      "[1] 0.64\n",
      "     IncAwayW EmerRForm ControlN1 ControlN2R ControlN4 Political  hot  cold\n",
      "PC19    -0.23     -0.23      0.25       0.36       0.3      0.21 0.21 -0.24\n",
      "[1] 0.65\n",
      "     IncWD PBC3R HabitE3 NBillW  Sqft SqftCate  Job\n",
      "PC20  0.21   0.2    0.29   0.21 -0.23    -0.21 0.24\n",
      "[1] 0.67\n",
      "     HomeS AwayS RewardForm   MC3 Frugal2 HabitC6 MCBill Frugal\n",
      "PC21  0.23  0.22      -0.26 -0.22     0.2    0.21  -0.23   0.21\n",
      "[1] 0.68\n",
      "     IncAwayW EmerRForm HabitC1 HabitC2 HabitC4 HabitE1 HabitE3 Gender Sqft\n",
      "PC22    -0.21     -0.21   -0.21   -0.27   -0.24    0.26    0.21   0.25 0.24\n",
      "     Ethnic\n",
      "PC22    0.2\n",
      "[1] 0.69\n",
      "     HomeW IncAwayW IncDish OwnRent\n",
      "PC23  0.27    -0.29    0.25   -0.21\n",
      "[1] 0.7\n",
      "     ControlN3  Age Political  Job Longitude\n",
      "PC24     -0.24 0.25      0.31 0.26     -0.21\n",
      "[1] 0.72\n",
      "      INT3 HabitE2 HabitE3 Ethnic Longitude\n",
      "PC25 -0.22   -0.27   -0.28   0.28      0.34\n"
     ]
    },
    {
     "data": {
      "text/plain": [
       "plot without title"
      ]
     },
     "metadata": {
      "image/svg+xml": {
       "isolated": true
      }
     },
     "output_type": "display_data"
    }
   ],
   "source": [
    "plot(1:sum(selC),cumsum(prcomp(data[sel,selC], retx=F,scale=T)$sdev^2)/\n",
    "     sum(prcomp(data[sel,selC], retx=F,scale=T)$sdev^2),\n",
    "     ylim=c(0,1),xlab=\"Number of coponents\",\n",
    "     ylab=\"Fraction of variance\");\n",
    "res<-prcomp(data[sel,selC], retx=F,scale=T)$rotation[,1:25];\n",
    "resAbs <- res;\n",
    "resAbs[res<0] <- -res[res<0];\n",
    "z <- cumsum(prcomp(data[sel,selC], retx=F,scale=T)$sdev^2)/\n",
    "     sum(prcomp(data[sel,selC], retx=F,scale=T)$sdev^2)\n",
    "\n",
    "for (i in 1:25){\n",
    "  print(z[i]);\n",
    "  print(t(res[resAbs[,i]>.2,i,drop=FALSE]));\n",
    "}\n"
   ]
  },
  {
   "cell_type": "markdown",
   "metadata": {},
   "source": [
    "* Regress each predictor on the remaining predictors\n",
    "eliminate with the highest adjR^2"
   ]
  },
  {
   "cell_type": "code",
   "execution_count": 9,
   "metadata": {
    "collapsed": false
   },
   "outputs": [
    {
     "data": {
      "text/html": [
       "<table>\n",
       "<tbody>\n",
       "\t<tr><th scope=row>lEXP</th><td>12.00</td><td> 0.95</td></tr>\n",
       "\t<tr><th scope=row>lREXP</th><td>13.00</td><td> 0.95</td></tr>\n",
       "\t<tr><th scope=row>lND</th><td>7.00</td><td>0.94</td></tr>\n",
       "\t<tr><th scope=row>lNF</th><td>4.00</td><td>0.91</td></tr>\n",
       "\t<tr><th scope=row>lNM</th><td>3.00</td><td>0.87</td></tr>\n",
       "\t<tr><th scope=row>lNMR</th><td>6.00</td><td>0.86</td></tr>\n",
       "\t<tr><th scope=row>lLA</th><td>8.00</td><td>0.81</td></tr>\n",
       "\t<tr><th scope=row>lNS</th><td>2.0</td><td>0.8</td></tr>\n",
       "\t<tr><th scope=row>lLD</th><td>9.00</td><td>0.76</td></tr>\n",
       "\t<tr><th scope=row>lNLgn</th><td>5.00</td><td>0.72</td></tr>\n",
       "\t<tr><th scope=row>lLOC</th><td>10.00</td><td> 0.65</td></tr>\n",
       "\t<tr><th scope=row>lSEXP</th><td>14.00</td><td> 0.52</td></tr>\n",
       "\t<tr><th scope=row>lINT</th><td>11.00</td><td> 0.47</td></tr>\n",
       "\t<tr><th scope=row>FIX</th><td>15.00</td><td> 0.08</td></tr>\n",
       "</tbody>\n",
       "</table>\n"
      ],
      "text/latex": [
       "\\begin{tabular}{r|ll}\n",
       "\tlEXP & 12.00 &  0.95\\\\\n",
       "\tlREXP & 13.00 &  0.95\\\\\n",
       "\tlND & 7.00 & 0.94\\\\\n",
       "\tlNF & 4.00 & 0.91\\\\\n",
       "\tlNM & 3.00 & 0.87\\\\\n",
       "\tlNMR & 6.00 & 0.86\\\\\n",
       "\tlLA & 8.00 & 0.81\\\\\n",
       "\tlNS & 2.0 & 0.8\\\\\n",
       "\tlLD & 9.00 & 0.76\\\\\n",
       "\tlNLgn & 5.00 & 0.72\\\\\n",
       "\tlLOC & 10.00 &  0.65\\\\\n",
       "\tlSEXP & 14.00 &  0.52\\\\\n",
       "\tlINT & 11.00 &  0.47\\\\\n",
       "\tFIX & 15.00 &  0.08\\\\\n",
       "\\end{tabular}\n"
      ],
      "text/markdown": [
       "1. 12\n",
       "2. 13\n",
       "3. 7\n",
       "4. 4\n",
       "5. 3\n",
       "6. 6\n",
       "7. 8\n",
       "8. 2\n",
       "9. 9\n",
       "10. 5\n",
       "11. 10\n",
       "12. 14\n",
       "13. 11\n",
       "14. 15\n",
       "15. 0.95\n",
       "16. 0.95\n",
       "17. 0.94\n",
       "18. 0.91\n",
       "19. 0.87\n",
       "20. 0.86\n",
       "21. 0.81\n",
       "22. 0.8\n",
       "23. 0.76\n",
       "24. 0.72\n",
       "25. 0.65\n",
       "26. 0.52\n",
       "27. 0.47\n",
       "28. 0.08\n",
       "\n",
       "\n"
      ],
      "text/plain": [
       "      [,1] [,2]\n",
       "lEXP    12 0.95\n",
       "lREXP   13 0.95\n",
       "lND      7 0.94\n",
       "lNF      4 0.91\n",
       "lNM      3 0.87\n",
       "lNMR     6 0.86\n",
       "lLA      8 0.81\n",
       "lNS      2 0.80\n",
       "lLD      9 0.76\n",
       "lNLgn    5 0.72\n",
       "lLOC    10 0.65\n",
       "lSEXP   14 0.52\n",
       "lINT    11 0.47\n",
       "FIX     15 0.08"
      ]
     },
     "metadata": {},
     "output_type": "display_data"
    }
   ],
   "source": [
    "res <- c();\n",
    "vnam <- names(data);\n",
    "for (i in 2:dim(data)[2]){\n",
    "  fmla <- as.formula(paste(vnam[i],paste(vnam[-c(1,i)],collapse=\"+\"),sep=\"~\"));\n",
    "  res <- rbind(res,c(i,round(summary(lm(fmla,data=data))$r.squared,2)));\n",
    "}\n",
    "row.names(res) <- vnam[res[,1]];\n",
    "res[order(-res[,2]),];"
   ]
  },
  {
   "cell_type": "markdown",
   "metadata": {},
   "source": [
    "### Finally select the model\n",
    "  Note, that exploring only the predictor space is not leading to\n",
    "     multiple comparisons issue!\n",
    "\n",
    "  * replace lSEXP by lEXP: simpler \n",
    "  * why lLOC, lLA, lLD, lND, lNlgn: keep lND as most stable, keep lLOC?"
   ]
  },
  {
   "cell_type": "code",
   "execution_count": 11,
   "metadata": {
    "collapsed": false
   },
   "outputs": [
    {
     "data": {
      "text/plain": [
       "fmla ~ isBad ~ lNS + lLA + FIX + lLOC + lINT + lEXP"
      ]
     },
     "metadata": {},
     "output_type": "display_data"
    }
   ],
   "source": [
    "fmla ~ isBad ~ lNS+lLA+FIX+lLOC+lINT+lEXP"
   ]
  },
  {
   "cell_type": "markdown",
   "metadata": {},
   "source": [
    "* We'll need to do prediction, so drop last few years"
   ]
  },
  {
   "cell_type": "code",
   "execution_count": 12,
   "metadata": {
    "collapsed": true
   },
   "outputs": [],
   "source": [
    "data1 <- data;\n",
    "data1$from <- risk$from/3600/24/365.25+1970;\n",
    "dataFit <- data1[data1$from<=1997,]; #80%\n",
    "dataTest <- data1[data1$from>1997,]; #20%"
   ]
  },
  {
   "cell_type": "code",
   "execution_count": 13,
   "metadata": {
    "collapsed": false
   },
   "outputs": [
    {
     "data": {
      "text/plain": [
       "\n",
       "Call:\n",
       "glm(formula = isBad ~ lNS + lLA + FIX + lLOC + lINT + lEXP, family = binomial, \n",
       "    data = dataFit)\n",
       "\n",
       "Deviance Residuals: \n",
       "   Min      1Q  Median      3Q     Max  \n",
       "-0.842  -0.225  -0.169  -0.132   3.327  \n",
       "\n",
       "Coefficients:\n",
       "            Estimate Std. Error z value Pr(>|z|)    \n",
       "(Intercept) -5.79427    0.45010  -12.87  < 2e-16 ***\n",
       "lNS          0.35650    0.10268    3.47  0.00052 ***\n",
       "lLA          0.17910    0.04751    3.77  0.00016 ***\n",
       "FIX          0.53314    0.12943    4.12  3.8e-05 ***\n",
       "lLOC         0.13590    0.04948    2.75  0.00603 ** \n",
       "lINT         0.01788    0.00925    1.93  0.05322 .  \n",
       "lEXP        -0.10757    0.03829   -2.81  0.00497 ** \n",
       "---\n",
       "Signif. codes:  0 ‘***’ 0.001 ‘**’ 0.01 ‘*’ 0.05 ‘.’ 0.1 ‘ ’ 1\n",
       "\n",
       "(Dispersion parameter for binomial family taken to be 1)\n",
       "\n",
       "    Null deviance: 3011.5  on 13480  degrees of freedom\n",
       "Residual deviance: 2739.0  on 13474  degrees of freedom\n",
       "AIC: 2753\n",
       "\n",
       "Number of Fisher Scoring iterations: 7\n"
      ]
     },
     "metadata": {},
     "output_type": "display_data"
    }
   ],
   "source": [
    "mod <- glm(isBad ~ lNS+lLA+FIX+lLOC+lINT+lEXP,family=binomial,data=dataFit);\n",
    "summary(mod); "
   ]
  },
  {
   "cell_type": "markdown",
   "metadata": {},
   "source": [
    "Note AIC: 2753\n",
    "\n",
    "threfore lINT probably not important"
   ]
  },
  {
   "cell_type": "markdown",
   "metadata": {},
   "source": [
    "### Good to order by variance explained (Anova Deviance/Df)"
   ]
  },
  {
   "cell_type": "code",
   "execution_count": 14,
   "metadata": {
    "collapsed": false
   },
   "outputs": [
    {
     "data": {
      "text/html": [
       "<table>\n",
       "<thead><tr><th></th><th scope=col>Df</th><th scope=col>Deviance</th><th scope=col>Resid. Df</th><th scope=col>Resid. Dev</th><th scope=col>Pr(&gt;Chi)</th></tr></thead>\n",
       "<tbody>\n",
       "\t<tr><th scope=row>NULL</th><td>   NA</td><td>   NA</td><td>13480</td><td> 3012</td><td>   NA</td></tr>\n",
       "\t<tr><th scope=row>lNS</th><td>1.0e+00</td><td>1.7e+02</td><td>1.3e+04</td><td>2.8e+03</td><td>5.3e-38</td></tr>\n",
       "\t<tr><th scope=row>lLA</th><td>1.0e+00</td><td>6.5e+01</td><td>1.3e+04</td><td>2.8e+03</td><td>7.0e-16</td></tr>\n",
       "\t<tr><th scope=row>FIX</th><td>1.0e+00</td><td>1.7e+01</td><td>1.3e+04</td><td>2.8e+03</td><td>3.0e-05</td></tr>\n",
       "\t<tr><th scope=row>lLOC</th><td>1.0e+00</td><td>1.1e+01</td><td>1.3e+04</td><td>2.8e+03</td><td>1.1e-03</td></tr>\n",
       "\t<tr><th scope=row>lINT</th><td>1.0e+00</td><td>5.5e+00</td><td>1.3e+04</td><td>2.7e+03</td><td>1.9e-02</td></tr>\n",
       "\t<tr><th scope=row>lEXP</th><td>1.0e+00</td><td>7.7e+00</td><td>1.3e+04</td><td>2.7e+03</td><td>5.4e-03</td></tr>\n",
       "</tbody>\n",
       "</table>\n"
      ],
      "text/latex": [
       "\\begin{tabular}{r|lllll}\n",
       "  & Df & Deviance & Resid. Df & Resid. Dev & Pr(>Chi)\\\\\n",
       "\\hline\n",
       "\tNULL &    NA &    NA & 13480 &  3012 &    NA\\\\\n",
       "\tlNS & 1.0e+00 & 1.7e+02 & 1.3e+04 & 2.8e+03 & 5.3e-38\\\\\n",
       "\tlLA & 1.0e+00 & 6.5e+01 & 1.3e+04 & 2.8e+03 & 7.0e-16\\\\\n",
       "\tFIX & 1.0e+00 & 1.7e+01 & 1.3e+04 & 2.8e+03 & 3.0e-05\\\\\n",
       "\tlLOC & 1.0e+00 & 1.1e+01 & 1.3e+04 & 2.8e+03 & 1.1e-03\\\\\n",
       "\tlINT & 1.0e+00 & 5.5e+00 & 1.3e+04 & 2.7e+03 & 1.9e-02\\\\\n",
       "\tlEXP & 1.0e+00 & 7.7e+00 & 1.3e+04 & 2.7e+03 & 5.4e-03\\\\\n",
       "\\end{tabular}\n"
      ],
      "text/plain": [
       "Analysis of Deviance Table\n",
       "\n",
       "Model: binomial, link: logit\n",
       "\n",
       "Response: isBad\n",
       "\n",
       "Terms added sequentially (first to last)\n",
       "\n",
       "\n",
       "     Df Deviance Resid. Df Resid. Dev Pr(>Chi)    \n",
       "NULL                 13480       3012             \n",
       "lNS   1    166.1     13479       2845   <2e-16 ***\n",
       "lLA   1     65.1     13478       2780    7e-16 ***\n",
       "FIX   1     17.4     13477       2763    3e-05 ***\n",
       "lLOC  1     10.7     13476       2752   0.0011 ** \n",
       "lINT  1      5.5     13475       2747   0.0193 *  \n",
       "lEXP  1      7.7     13474       2739   0.0054 ** \n",
       "---\n",
       "Signif. codes:  0 ‘***’ 0.001 ‘**’ 0.01 ‘*’ 0.05 ‘.’ 0.1 ‘ ’ 1"
      ]
     },
     "metadata": {},
     "output_type": "display_data"
    }
   ],
   "source": [
    "anova(mod, test=\"Chi\");"
   ]
  },
  {
   "cell_type": "markdown",
   "metadata": {},
   "source": [
    "A similar picture, lINT does not explain as much as others"
   ]
  },
  {
   "cell_type": "code",
   "execution_count": 15,
   "metadata": {
    "collapsed": false
   },
   "outputs": [
    {
     "data": {
      "text/plain": [
       "\n",
       "Call:\n",
       "glm(formula = isBad ~ lNS + lND + FIX + lEXP + lINT, family = binomial, \n",
       "    data = dataFit)\n",
       "\n",
       "Deviance Residuals: \n",
       "   Min      1Q  Median      3Q     Max  \n",
       "-0.851  -0.223  -0.170  -0.135   3.235  \n",
       "\n",
       "Coefficients:\n",
       "            Estimate Std. Error z value Pr(>|z|)    \n",
       "(Intercept) -4.48210    0.28367  -15.80  < 2e-16 ***\n",
       "lNS          0.31994    0.11021    2.90   0.0037 ** \n",
       "lND          0.36503    0.05354    6.82  9.2e-12 ***\n",
       "FIX          0.52993    0.12873    4.12  3.8e-05 ***\n",
       "lEXP        -0.10508    0.03799   -2.77   0.0057 ** \n",
       "lINT         0.01847    0.00941    1.96   0.0496 *  \n",
       "---\n",
       "Signif. codes:  0 ‘***’ 0.001 ‘**’ 0.01 ‘*’ 0.05 ‘.’ 0.1 ‘ ’ 1\n",
       "\n",
       "(Dispersion parameter for binomial family taken to be 1)\n",
       "\n",
       "    Null deviance: 3011.5  on 13480  degrees of freedom\n",
       "Residual deviance: 2750.4  on 13475  degrees of freedom\n",
       "AIC: 2762\n",
       "\n",
       "Number of Fisher Scoring iterations: 7\n"
      ]
     },
     "metadata": {},
     "output_type": "display_data"
    }
   ],
   "source": [
    "mod <- glm(isBad ~ lNS+lND+FIX+lEXP+lINT,family=binomial,data=dataFit);\n",
    "summary(mod);"
   ]
  },
  {
   "cell_type": "markdown",
   "metadata": {},
   "source": [
    "### Slightly higher AIC: 2762, but a simpler model\n",
    "   * don't chase the best fit, as it leads to overfitting"
   ]
  },
  {
   "cell_type": "code",
   "execution_count": 16,
   "metadata": {
    "collapsed": false
   },
   "outputs": [
    {
     "data": {
      "text/html": [
       "<table>\n",
       "<thead><tr><th></th><th scope=col>Df</th><th scope=col>Deviance</th><th scope=col>Resid. Df</th><th scope=col>Resid. Dev</th><th scope=col>Pr(&gt;Chi)</th></tr></thead>\n",
       "<tbody>\n",
       "\t<tr><th scope=row>NULL</th><td>   NA</td><td>   NA</td><td>13480</td><td> 3012</td><td>   NA</td></tr>\n",
       "\t<tr><th scope=row>lNS</th><td>1.0e+00</td><td>1.7e+02</td><td>1.3e+04</td><td>2.8e+03</td><td>5.3e-38</td></tr>\n",
       "\t<tr><th scope=row>lND</th><td>1.0e+00</td><td>6.4e+01</td><td>1.3e+04</td><td>2.8e+03</td><td>1.1e-15</td></tr>\n",
       "\t<tr><th scope=row>FIX</th><td>1.0e+00</td><td>1.8e+01</td><td>1.3e+04</td><td>2.8e+03</td><td>2.6e-05</td></tr>\n",
       "\t<tr><th scope=row>lEXP</th><td>1.0e+00</td><td>9.3e+00</td><td>1.3e+04</td><td>2.8e+03</td><td>2.4e-03</td></tr>\n",
       "\t<tr><th scope=row>lINT</th><td>1.0e+00</td><td>3.8e+00</td><td>1.3e+04</td><td>2.8e+03</td><td>5.0e-02</td></tr>\n",
       "</tbody>\n",
       "</table>\n"
      ],
      "text/latex": [
       "\\begin{tabular}{r|lllll}\n",
       "  & Df & Deviance & Resid. Df & Resid. Dev & Pr(>Chi)\\\\\n",
       "\\hline\n",
       "\tNULL &    NA &    NA & 13480 &  3012 &    NA\\\\\n",
       "\tlNS & 1.0e+00 & 1.7e+02 & 1.3e+04 & 2.8e+03 & 5.3e-38\\\\\n",
       "\tlND & 1.0e+00 & 6.4e+01 & 1.3e+04 & 2.8e+03 & 1.1e-15\\\\\n",
       "\tFIX & 1.0e+00 & 1.8e+01 & 1.3e+04 & 2.8e+03 & 2.6e-05\\\\\n",
       "\tlEXP & 1.0e+00 & 9.3e+00 & 1.3e+04 & 2.8e+03 & 2.4e-03\\\\\n",
       "\tlINT & 1.0e+00 & 3.8e+00 & 1.3e+04 & 2.8e+03 & 5.0e-02\\\\\n",
       "\\end{tabular}\n"
      ],
      "text/plain": [
       "Analysis of Deviance Table\n",
       "\n",
       "Model: binomial, link: logit\n",
       "\n",
       "Response: isBad\n",
       "\n",
       "Terms added sequentially (first to last)\n",
       "\n",
       "\n",
       "     Df Deviance Resid. Df Resid. Dev Pr(>Chi)    \n",
       "NULL                 13480       3012             \n",
       "lNS   1    166.1     13479       2845  < 2e-16 ***\n",
       "lND   1     64.3     13478       2781  1.1e-15 ***\n",
       "FIX   1     17.7     13477       2763  2.6e-05 ***\n",
       "lEXP  1      9.3     13476       2754   0.0024 ** \n",
       "lINT  1      3.8     13475       2750   0.0502 .  \n",
       "---\n",
       "Signif. codes:  0 ‘***’ 0.001 ‘**’ 0.01 ‘*’ 0.05 ‘.’ 0.1 ‘ ’ 1"
      ]
     },
     "metadata": {},
     "output_type": "display_data"
    }
   ],
   "source": [
    "anova(mod, test=\"Chi\");#it is good to order predictors by deviance explained"
   ]
  },
  {
   "cell_type": "markdown",
   "metadata": {},
   "source": [
    "* Note: use test=\"F\" for linear models (lm)\n",
    "* Note: R's anova order matters in variance explained, as\n",
    "  each SS is based on the residuals from predictors going before it\n",
    "* Alternative sum of squares for ANOVA are obtained via drop1\n",
    "*  In this case it is based on the residuals of remaining predictors (not\n",
    "  just of preceeding predictors"
   ]
  },
  {
   "cell_type": "code",
   "execution_count": 17,
   "metadata": {
    "collapsed": false
   },
   "outputs": [
    {
     "data": {
      "text/html": [
       "<table>\n",
       "<thead><tr><th></th><th scope=col>Df</th><th scope=col>Deviance</th><th scope=col>AIC</th><th scope=col>LRT</th><th scope=col>Pr(&gt;Chi)</th></tr></thead>\n",
       "<tbody>\n",
       "\t<tr><th scope=row>&lt;none&gt;</th><td>  NA</td><td>2750</td><td>2762</td><td>  NA</td><td>  NA</td></tr>\n",
       "\t<tr><th scope=row>lNS</th><td>1.0e+00</td><td>2.8e+03</td><td>2.8e+03</td><td>8.6e+00</td><td>3.3e-03</td></tr>\n",
       "\t<tr><th scope=row>lND</th><td>1.0e+00</td><td>2.8e+03</td><td>2.8e+03</td><td>4.4e+01</td><td>2.6e-11</td></tr>\n",
       "\t<tr><th scope=row>FIX</th><td>1.0e+00</td><td>2.8e+03</td><td>2.8e+03</td><td>1.7e+01</td><td>4.1e-05</td></tr>\n",
       "\t<tr><th scope=row>lEXP</th><td>1.0e+00</td><td>2.8e+03</td><td>2.8e+03</td><td>7.5e+00</td><td>6.1e-03</td></tr>\n",
       "\t<tr><th scope=row>lINT</th><td>   1.00</td><td>2754.22</td><td>2764.22</td><td>   3.84</td><td>   0.05</td></tr>\n",
       "</tbody>\n",
       "</table>\n"
      ],
      "text/latex": [
       "\\begin{tabular}{r|lllll}\n",
       "  & Df & Deviance & AIC & LRT & Pr(>Chi)\\\\\n",
       "\\hline\n",
       "\t<none> &   NA & 2750 & 2762 &   NA &   NA\\\\\n",
       "\tlNS & 1.0e+00 & 2.8e+03 & 2.8e+03 & 8.6e+00 & 3.3e-03\\\\\n",
       "\tlND & 1.0e+00 & 2.8e+03 & 2.8e+03 & 4.4e+01 & 2.6e-11\\\\\n",
       "\tFIX & 1.0e+00 & 2.8e+03 & 2.8e+03 & 1.7e+01 & 4.1e-05\\\\\n",
       "\tlEXP & 1.0e+00 & 2.8e+03 & 2.8e+03 & 7.5e+00 & 6.1e-03\\\\\n",
       "\tlINT &    1.00 & 2754.22 & 2764.22 &    3.84 &    0.05\\\\\n",
       "\\end{tabular}\n"
      ],
      "text/plain": [
       "Single term deletions\n",
       "\n",
       "Model:\n",
       "isBad ~ lNS + lND + FIX + lEXP + lINT\n",
       "       Df Deviance  AIC  LRT Pr(>Chi)    \n",
       "<none>        2750 2762                  \n",
       "lNS     1     2759 2769  8.6   0.0033 ** \n",
       "lND     1     2795 2805 44.4  2.6e-11 ***\n",
       "FIX     1     2767 2777 16.8  4.1e-05 ***\n",
       "lEXP    1     2758 2768  7.5   0.0061 ** \n",
       "lINT    1     2754 2764  3.8   0.0502 .  \n",
       "---\n",
       "Signif. codes:  0 ‘***’ 0.001 ‘**’ 0.01 ‘*’ 0.05 ‘.’ 0.1 ‘ ’ 1"
      ]
     },
     "metadata": {},
     "output_type": "display_data"
    }
   ],
   "source": [
    "drop1(mod, test=\"Chi\");"
   ]
  },
  {
   "cell_type": "markdown",
   "metadata": {},
   "source": [
    "### Variance inflation factor\n",
    " http://en.wikipedia.org/wiki/Variance_inflation_factor"
   ]
  },
  {
   "cell_type": "code",
   "execution_count": 19,
   "metadata": {
    "collapsed": false
   },
   "outputs": [
    {
     "data": {
      "text/html": [
       "<dl class=dl-horizontal>\n",
       "\t<dt>lNS</dt>\n",
       "\t\t<dd>2.31154919528651</dd>\n",
       "\t<dt>lND</dt>\n",
       "\t\t<dd>3.13602128323798</dd>\n",
       "\t<dt>FIX</dt>\n",
       "\t\t<dd>1.22388636021294</dd>\n",
       "\t<dt>lEXP</dt>\n",
       "\t\t<dd>1.0251097506011</dd>\n",
       "\t<dt>lINT</dt>\n",
       "\t\t<dd>1.87314230653818</dd>\n",
       "</dl>\n"
      ],
      "text/latex": [
       "\\begin{description*}\n",
       "\\item[lNS] 2.31154919528651\n",
       "\\item[lND] 3.13602128323798\n",
       "\\item[FIX] 1.22388636021294\n",
       "\\item[lEXP] 1.0251097506011\n",
       "\\item[lINT] 1.87314230653818\n",
       "\\end{description*}\n"
      ],
      "text/markdown": [
       "lNS\n",
       ":   2.31154919528651lND\n",
       ":   3.13602128323798FIX\n",
       ":   1.22388636021294lEXP\n",
       ":   1.0251097506011lINT\n",
       ":   1.87314230653818\n",
       "\n"
      ],
      "text/plain": [
       " lNS  lND  FIX lEXP lINT \n",
       " 2.3  3.1  1.2  1.0  1.9 "
      ]
     },
     "metadata": {},
     "output_type": "display_data"
    }
   ],
   "source": [
    "library(car)\n",
    "vif(mod);"
   ]
  },
  {
   "cell_type": "markdown",
   "metadata": {},
   "source": [
    "￼\n",
    "* Is less than 5 (max is 3.1 for lND), but lower would be better"
   ]
  },
  {
   "cell_type": "markdown",
   "metadata": {},
   "source": [
    "### Exercise: other diagnostics\n",
    "* is model stable if some data is dropped?\n",
    "* what if we change data as in GDF?\n",
    "* is there a time trend \n",
    "    isBad ~ lNS+lND+FIX+lEXP+lINT+from\n",
    "* independece (residuals)"
   ]
  },
  {
   "cell_type": "markdown",
   "metadata": {},
   "source": [
    "Now interpret the model\n",
    "* What do estimated coefficients mean?\n",
    "* Increase NS from 1 to 2, but other predictors matter\n",
    "* threfore pick values that are reasonable or a median"
   ]
  },
  {
   "cell_type": "code",
   "execution_count": 20,
   "metadata": {
    "collapsed": false
   },
   "outputs": [
    {
     "data": {
      "text/html": [
       "<strong>2:</strong> 1.94240437887956"
      ],
      "text/latex": [
       "\\textbf{2:} 1.94240437887956"
      ],
      "text/markdown": [
       "**2:** 1.94240437887956"
      ],
      "text/plain": [
       "  2 \n",
       "1.9 "
      ]
     },
     "metadata": {},
     "output_type": "display_data"
    }
   ],
   "source": [
    "try <- dataFit[1:2,];\n",
    "for (i in dim(dataFit)[2])\n",
    "  try[,i] <- median(dataFit[,i]);\n",
    "try[1,\"lNS\"] <- 0;\n",
    "try[2,\"lNS\"] <- log(2);\n",
    "res <- 1/(1+exp(-predict(mod,try)));\n",
    "res[2]*(1-res[1])/res[1]/(1-res[2]);"
   ]
  },
  {
   "cell_type": "markdown",
   "metadata": {},
   "source": [
    "### The answer is how much the risk increases if number of subsystems touched is increased from 1 to 2\n",
    "  * First ratio of risk then \n",
    "  * ratio of odds"
   ]
  },
  {
   "cell_type": "markdown",
   "metadata": {},
   "source": [
    "# Do prediction"
   ]
  },
  {
   "cell_type": "code",
   "execution_count": null,
   "metadata": {
    "collapsed": true
   },
   "outputs": [],
   "source": [
    "predicted <- 1/(1+exp(-predict(mod,dataTest)));\n",
    "tapply(predicted, dataTest$isBad, mean)"
   ]
  },
  {
   "cell_type": "markdown",
   "metadata": {},
   "source": [
    "## Good to know\n",
    "* predicted probability is almost three times higher for the MRs that break patches"
   ]
  },
  {
   "cell_type": "markdown",
   "metadata": {},
   "source": [
    "### Traditional performance:"
   ]
  },
  {
   "cell_type": "code",
   "execution_count": null,
   "metadata": {
    "collapsed": true
   },
   "outputs": [],
   "source": [
    "for (cutof in c(.01, .015, .02, .03, .04, .045,.1)){\n",
    "  res <- table(predicted>cutof, dataTest$isBad);\n",
    "  type1 <- res[2,1]/(res[1,1]+res[2,1]);\n",
    "  type2 <- res[1,2]/(res[1,2]+res[2,2]);\n",
    "  recall <- 1 - type2;\n",
    "  precision <- res[2,2]/(res[2,1]+res[2,2]);\n",
    "  print (c(cutof,type1,type2,recall,precision));\n",
    "}"
   ]
  },
  {
   "cell_type": "markdown",
   "metadata": {},
   "source": [
    "### A single number such as ROC typically makes little sense:\n",
    "* in this case the primary concern is decent recall"
   ]
  },
  {
   "cell_type": "markdown",
   "metadata": {},
   "source": [
    "### Exercise:\n",
    "* compare to a random predictor\n",
    "* compare to a simple predictor, e.g, more than one subsystem"
   ]
  },
  {
   "cell_type": "markdown",
   "metadata": {},
   "source": [
    "### Try other prediction methods"
   ]
  },
  {
   "cell_type": "code",
   "execution_count": null,
   "metadata": {
    "collapsed": true
   },
   "outputs": [],
   "source": [
    "library(rpart);\n",
    "\n",
    "fmla <- isBad ~ lNS+lND+FIX+lINT+lEXP+lLA;\n",
    "er <- c();\n",
    "for (w in c(20,40,60,80, 100, 110)){ \n",
    "  cart.fit <- rpart(fmla,data=dataFit,method=\"class\",weights=as.numeric(dataFit$isBad)*w+1);\n",
    "  cart.pred <- predict(cart.fit,newdata=dataTest,type=\"class\");\n",
    "  res <- table(cart.pred, dataTest$isBad);\n",
    "  type1 <- res[2,1]/(res[1,1]+res[2,1]);\n",
    "  type2 <- res[1,2]/(res[1,2]+res[2,2]);\n",
    "  recall <- 1 - type2;\n",
    "  precision <- res[2,2]/(res[2,1]+res[2,2]);\n",
    "  er <- rbind (er, c(w,type1,type2,recall,precision));\n",
    "}"
   ]
  },
  {
   "cell_type": "code",
   "execution_count": null,
   "metadata": {
    "collapsed": true
   },
   "outputs": [],
   "source": [
    "### Slightly worse than the regression model"
   ]
  },
  {
   "cell_type": "code",
   "execution_count": null,
   "metadata": {
    "collapsed": true
   },
   "outputs": [],
   "source": []
  }
 ],
 "metadata": {
  "kernelspec": {
   "display_name": "R",
   "language": "R",
   "name": "ir"
  },
  "language_info": {
   "codemirror_mode": "r",
   "file_extension": ".r",
   "mimetype": "text/x-r-source",
   "name": "R",
   "pygments_lexer": "r",
   "version": "3.3.1"
  }
 },
 "nbformat": 4,
 "nbformat_minor": 0
}
