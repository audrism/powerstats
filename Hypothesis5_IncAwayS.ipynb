{
 "cells": [
  {
   "cell_type": "markdown",
   "metadata": {},
   "source": [
    "## Hypothesis\n",
    "To predict the incentive level requested to shut down or raise 5 degrees during the summer\n",
    "    \n",
    "IV: Age, Gender, OwnRent, SqftCate, HouseholdS, Political, Ethnic, Income, Educ\n",
    "    Latitude, HomeS, EnergyC, MC, ComfNS, HabitC, Summer_avg\n"
   ]
  },
  {
   "cell_type": "code",
   "execution_count": 54,
   "metadata": {
    "collapsed": false
   },
   "outputs": [
    {
     "data": {
      "text/html": [
       "<ol class=list-inline>\n",
       "\t<li>'Age'</li>\n",
       "\t<li>'Atti'</li>\n",
       "\t<li>'Atti1'</li>\n",
       "\t<li>'Atti2'</li>\n",
       "\t<li>'Atti3'</li>\n",
       "\t<li>'Atti4'</li>\n",
       "\t<li>'AwayS'</li>\n",
       "\t<li>'AwayW'</li>\n",
       "\t<li>'BillS'</li>\n",
       "\t<li>'BillW'</li>\n",
       "\t<li>'CashYN'</li>\n",
       "\t<li>'ComfNS'</li>\n",
       "\t<li>'ComfNS1'</li>\n",
       "\t<li>'ComfNS2'</li>\n",
       "\t<li>'ComfNS3'</li>\n",
       "\t<li>'ComfNW'</li>\n",
       "\t<li>'ComfNW1'</li>\n",
       "\t<li>'ComfNW2'</li>\n",
       "\t<li>'ControlN1'</li>\n",
       "\t<li>'ControlN2R'</li>\n",
       "\t<li>'ControlN3'</li>\n",
       "\t<li>'ControlN4'</li>\n",
       "\t<li>'ConvB1'</li>\n",
       "\t<li>'ConvB2'</li>\n",
       "\t<li>'ConvB3'</li>\n",
       "\t<li>'ConvB4'</li>\n",
       "\t<li>'Educ'</li>\n",
       "\t<li>'EmerRForm'</li>\n",
       "\t<li>'EnergyC'</li>\n",
       "\t<li>'EnergyC1'</li>\n",
       "\t<li>'EnergyC2'</li>\n",
       "\t<li>'EnergyC3'</li>\n",
       "\t<li>'EnergyC4'</li>\n",
       "\t<li>'Ethnic'</li>\n",
       "\t<li>'Frugal1'</li>\n",
       "\t<li>'Frugal2'</li>\n",
       "\t<li>'Frugal3'</li>\n",
       "\t<li>'Gender'</li>\n",
       "\t<li>'HabitC'</li>\n",
       "\t<li>'HabitC1'</li>\n",
       "\t<li>'HabitC2'</li>\n",
       "\t<li>'HabitC3'</li>\n",
       "\t<li>'HabitC4'</li>\n",
       "\t<li>'HabitC5'</li>\n",
       "\t<li>'HabitC6'</li>\n",
       "\t<li>'HabitC7'</li>\n",
       "\t<li>'HabitE1'</li>\n",
       "\t<li>'HabitE2'</li>\n",
       "\t<li>'HabitE3'</li>\n",
       "\t<li>'HabitG'</li>\n",
       "\t<li>'HomeS'</li>\n",
       "\t<li>'HomeW'</li>\n",
       "\t<li>'HouseholdS'</li>\n",
       "\t<li>'INT1'</li>\n",
       "\t<li>'INT2'</li>\n",
       "\t<li>'INT3'</li>\n",
       "\t<li>'INT4'</li>\n",
       "\t<li>'IncAutoS'</li>\n",
       "\t<li>'IncAutoW'</li>\n",
       "\t<li>'IncAwayS'</li>\n",
       "\t<li>'IncAwayW'</li>\n",
       "\t<li>'IncDish'</li>\n",
       "\t<li>'IncEmer10S'</li>\n",
       "\t<li>'IncEmer10W'</li>\n",
       "\t<li>'IncEmer30S'</li>\n",
       "\t<li>'IncEmer30W'</li>\n",
       "\t<li>'IncHomeS'</li>\n",
       "\t<li>'IncHomeW'</li>\n",
       "\t<li>'IncWD'</li>\n",
       "\t<li>'Income'</li>\n",
       "\t<li>'Latitude'</li>\n",
       "\t<li>'MC'</li>\n",
       "\t<li>'MC1'</li>\n",
       "\t<li>'MC2'</li>\n",
       "\t<li>'MC3'</li>\n",
       "\t<li>'MC4'</li>\n",
       "\t<li>'MC5'</li>\n",
       "\t<li>'MCBill'</li>\n",
       "\t<li>'OwnRent'</li>\n",
       "\t<li>'PBC1'</li>\n",
       "\t<li>'PBC2'</li>\n",
       "\t<li>'PBC3R'</li>\n",
       "\t<li>'PBC4'</li>\n",
       "\t<li>'PBC5'</li>\n",
       "\t<li>'Political'</li>\n",
       "\t<li>'RewardForm'</li>\n",
       "\t<li>'SN'</li>\n",
       "\t<li>'SN1'</li>\n",
       "\t<li>'SN2'</li>\n",
       "\t<li>'SN3'</li>\n",
       "\t<li>'SN4'</li>\n",
       "\t<li>'Sqft'</li>\n",
       "\t<li>'SqftCate'</li>\n",
       "\t<li>'State'</li>\n",
       "\t<li>'SubNorm'</li>\n",
       "\t<li>'SubNorm1'</li>\n",
       "\t<li>'SubNorm2'</li>\n",
       "\t<li>'SubNorm3'</li>\n",
       "\t<li>'Summer_avg'</li>\n",
       "\t<li>'Trust1'</li>\n",
       "\t<li>'Trust2'</li>\n",
       "\t<li>'Trust3'</li>\n",
       "\t<li>'Trust4'</li>\n",
       "\t<li>'Winter_avg'</li>\n",
       "\t<li>'X.9to5'</li>\n",
       "</ol>\n"
      ],
      "text/latex": [
       "\\begin{enumerate*}\n",
       "\\item 'Age'\n",
       "\\item 'Atti'\n",
       "\\item 'Atti1'\n",
       "\\item 'Atti2'\n",
       "\\item 'Atti3'\n",
       "\\item 'Atti4'\n",
       "\\item 'AwayS'\n",
       "\\item 'AwayW'\n",
       "\\item 'BillS'\n",
       "\\item 'BillW'\n",
       "\\item 'CashYN'\n",
       "\\item 'ComfNS'\n",
       "\\item 'ComfNS1'\n",
       "\\item 'ComfNS2'\n",
       "\\item 'ComfNS3'\n",
       "\\item 'ComfNW'\n",
       "\\item 'ComfNW1'\n",
       "\\item 'ComfNW2'\n",
       "\\item 'ControlN1'\n",
       "\\item 'ControlN2R'\n",
       "\\item 'ControlN3'\n",
       "\\item 'ControlN4'\n",
       "\\item 'ConvB1'\n",
       "\\item 'ConvB2'\n",
       "\\item 'ConvB3'\n",
       "\\item 'ConvB4'\n",
       "\\item 'Educ'\n",
       "\\item 'EmerRForm'\n",
       "\\item 'EnergyC'\n",
       "\\item 'EnergyC1'\n",
       "\\item 'EnergyC2'\n",
       "\\item 'EnergyC3'\n",
       "\\item 'EnergyC4'\n",
       "\\item 'Ethnic'\n",
       "\\item 'Frugal1'\n",
       "\\item 'Frugal2'\n",
       "\\item 'Frugal3'\n",
       "\\item 'Gender'\n",
       "\\item 'HabitC'\n",
       "\\item 'HabitC1'\n",
       "\\item 'HabitC2'\n",
       "\\item 'HabitC3'\n",
       "\\item 'HabitC4'\n",
       "\\item 'HabitC5'\n",
       "\\item 'HabitC6'\n",
       "\\item 'HabitC7'\n",
       "\\item 'HabitE1'\n",
       "\\item 'HabitE2'\n",
       "\\item 'HabitE3'\n",
       "\\item 'HabitG'\n",
       "\\item 'HomeS'\n",
       "\\item 'HomeW'\n",
       "\\item 'HouseholdS'\n",
       "\\item 'INT1'\n",
       "\\item 'INT2'\n",
       "\\item 'INT3'\n",
       "\\item 'INT4'\n",
       "\\item 'IncAutoS'\n",
       "\\item 'IncAutoW'\n",
       "\\item 'IncAwayS'\n",
       "\\item 'IncAwayW'\n",
       "\\item 'IncDish'\n",
       "\\item 'IncEmer10S'\n",
       "\\item 'IncEmer10W'\n",
       "\\item 'IncEmer30S'\n",
       "\\item 'IncEmer30W'\n",
       "\\item 'IncHomeS'\n",
       "\\item 'IncHomeW'\n",
       "\\item 'IncWD'\n",
       "\\item 'Income'\n",
       "\\item 'Latitude'\n",
       "\\item 'MC'\n",
       "\\item 'MC1'\n",
       "\\item 'MC2'\n",
       "\\item 'MC3'\n",
       "\\item 'MC4'\n",
       "\\item 'MC5'\n",
       "\\item 'MCBill'\n",
       "\\item 'OwnRent'\n",
       "\\item 'PBC1'\n",
       "\\item 'PBC2'\n",
       "\\item 'PBC3R'\n",
       "\\item 'PBC4'\n",
       "\\item 'PBC5'\n",
       "\\item 'Political'\n",
       "\\item 'RewardForm'\n",
       "\\item 'SN'\n",
       "\\item 'SN1'\n",
       "\\item 'SN2'\n",
       "\\item 'SN3'\n",
       "\\item 'SN4'\n",
       "\\item 'Sqft'\n",
       "\\item 'SqftCate'\n",
       "\\item 'State'\n",
       "\\item 'SubNorm'\n",
       "\\item 'SubNorm1'\n",
       "\\item 'SubNorm2'\n",
       "\\item 'SubNorm3'\n",
       "\\item 'Summer\\_avg'\n",
       "\\item 'Trust1'\n",
       "\\item 'Trust2'\n",
       "\\item 'Trust3'\n",
       "\\item 'Trust4'\n",
       "\\item 'Winter\\_avg'\n",
       "\\item 'X.9to5'\n",
       "\\end{enumerate*}\n"
      ],
      "text/markdown": [
       "1. 'Age'\n",
       "2. 'Atti'\n",
       "3. 'Atti1'\n",
       "4. 'Atti2'\n",
       "5. 'Atti3'\n",
       "6. 'Atti4'\n",
       "7. 'AwayS'\n",
       "8. 'AwayW'\n",
       "9. 'BillS'\n",
       "10. 'BillW'\n",
       "11. 'CashYN'\n",
       "12. 'ComfNS'\n",
       "13. 'ComfNS1'\n",
       "14. 'ComfNS2'\n",
       "15. 'ComfNS3'\n",
       "16. 'ComfNW'\n",
       "17. 'ComfNW1'\n",
       "18. 'ComfNW2'\n",
       "19. 'ControlN1'\n",
       "20. 'ControlN2R'\n",
       "21. 'ControlN3'\n",
       "22. 'ControlN4'\n",
       "23. 'ConvB1'\n",
       "24. 'ConvB2'\n",
       "25. 'ConvB3'\n",
       "26. 'ConvB4'\n",
       "27. 'Educ'\n",
       "28. 'EmerRForm'\n",
       "29. 'EnergyC'\n",
       "30. 'EnergyC1'\n",
       "31. 'EnergyC2'\n",
       "32. 'EnergyC3'\n",
       "33. 'EnergyC4'\n",
       "34. 'Ethnic'\n",
       "35. 'Frugal1'\n",
       "36. 'Frugal2'\n",
       "37. 'Frugal3'\n",
       "38. 'Gender'\n",
       "39. 'HabitC'\n",
       "40. 'HabitC1'\n",
       "41. 'HabitC2'\n",
       "42. 'HabitC3'\n",
       "43. 'HabitC4'\n",
       "44. 'HabitC5'\n",
       "45. 'HabitC6'\n",
       "46. 'HabitC7'\n",
       "47. 'HabitE1'\n",
       "48. 'HabitE2'\n",
       "49. 'HabitE3'\n",
       "50. 'HabitG'\n",
       "51. 'HomeS'\n",
       "52. 'HomeW'\n",
       "53. 'HouseholdS'\n",
       "54. 'INT1'\n",
       "55. 'INT2'\n",
       "56. 'INT3'\n",
       "57. 'INT4'\n",
       "58. 'IncAutoS'\n",
       "59. 'IncAutoW'\n",
       "60. 'IncAwayS'\n",
       "61. 'IncAwayW'\n",
       "62. 'IncDish'\n",
       "63. 'IncEmer10S'\n",
       "64. 'IncEmer10W'\n",
       "65. 'IncEmer30S'\n",
       "66. 'IncEmer30W'\n",
       "67. 'IncHomeS'\n",
       "68. 'IncHomeW'\n",
       "69. 'IncWD'\n",
       "70. 'Income'\n",
       "71. 'Latitude'\n",
       "72. 'MC'\n",
       "73. 'MC1'\n",
       "74. 'MC2'\n",
       "75. 'MC3'\n",
       "76. 'MC4'\n",
       "77. 'MC5'\n",
       "78. 'MCBill'\n",
       "79. 'OwnRent'\n",
       "80. 'PBC1'\n",
       "81. 'PBC2'\n",
       "82. 'PBC3R'\n",
       "83. 'PBC4'\n",
       "84. 'PBC5'\n",
       "85. 'Political'\n",
       "86. 'RewardForm'\n",
       "87. 'SN'\n",
       "88. 'SN1'\n",
       "89. 'SN2'\n",
       "90. 'SN3'\n",
       "91. 'SN4'\n",
       "92. 'Sqft'\n",
       "93. 'SqftCate'\n",
       "94. 'State'\n",
       "95. 'SubNorm'\n",
       "96. 'SubNorm1'\n",
       "97. 'SubNorm2'\n",
       "98. 'SubNorm3'\n",
       "99. 'Summer_avg'\n",
       "100. 'Trust1'\n",
       "101. 'Trust2'\n",
       "102. 'Trust3'\n",
       "103. 'Trust4'\n",
       "104. 'Winter_avg'\n",
       "105. 'X.9to5'\n",
       "\n",
       "\n"
      ],
      "text/plain": [
       "  [1] \"Age\"        \"Atti\"       \"Atti1\"      \"Atti2\"      \"Atti3\"     \n",
       "  [6] \"Atti4\"      \"AwayS\"      \"AwayW\"      \"BillS\"      \"BillW\"     \n",
       " [11] \"CashYN\"     \"ComfNS\"     \"ComfNS1\"    \"ComfNS2\"    \"ComfNS3\"   \n",
       " [16] \"ComfNW\"     \"ComfNW1\"    \"ComfNW2\"    \"ControlN1\"  \"ControlN2R\"\n",
       " [21] \"ControlN3\"  \"ControlN4\"  \"ConvB1\"     \"ConvB2\"     \"ConvB3\"    \n",
       " [26] \"ConvB4\"     \"Educ\"       \"EmerRForm\"  \"EnergyC\"    \"EnergyC1\"  \n",
       " [31] \"EnergyC2\"   \"EnergyC3\"   \"EnergyC4\"   \"Ethnic\"     \"Frugal1\"   \n",
       " [36] \"Frugal2\"    \"Frugal3\"    \"Gender\"     \"HabitC\"     \"HabitC1\"   \n",
       " [41] \"HabitC2\"    \"HabitC3\"    \"HabitC4\"    \"HabitC5\"    \"HabitC6\"   \n",
       " [46] \"HabitC7\"    \"HabitE1\"    \"HabitE2\"    \"HabitE3\"    \"HabitG\"    \n",
       " [51] \"HomeS\"      \"HomeW\"      \"HouseholdS\" \"INT1\"       \"INT2\"      \n",
       " [56] \"INT3\"       \"INT4\"       \"IncAutoS\"   \"IncAutoW\"   \"IncAwayS\"  \n",
       " [61] \"IncAwayW\"   \"IncDish\"    \"IncEmer10S\" \"IncEmer10W\" \"IncEmer30S\"\n",
       " [66] \"IncEmer30W\" \"IncHomeS\"   \"IncHomeW\"   \"IncWD\"      \"Income\"    \n",
       " [71] \"Latitude\"   \"MC\"         \"MC1\"        \"MC2\"        \"MC3\"       \n",
       " [76] \"MC4\"        \"MC5\"        \"MCBill\"     \"OwnRent\"    \"PBC1\"      \n",
       " [81] \"PBC2\"       \"PBC3R\"      \"PBC4\"       \"PBC5\"       \"Political\" \n",
       " [86] \"RewardForm\" \"SN\"         \"SN1\"        \"SN2\"        \"SN3\"       \n",
       " [91] \"SN4\"        \"Sqft\"       \"SqftCate\"   \"State\"      \"SubNorm\"   \n",
       " [96] \"SubNorm1\"   \"SubNorm2\"   \"SubNorm3\"   \"Summer_avg\" \"Trust1\"    \n",
       "[101] \"Trust2\"     \"Trust3\"     \"Trust4\"     \"Winter_avg\" \"X.9to5\"    "
      ]
     },
     "metadata": {},
     "output_type": "display_data"
    }
   ],
   "source": [
    "options(digits=2);\n",
    "# Read in the data\n",
    "survey <- read.csv(\"DR_Survey2_Share_Complete.csv\",header=T);\n",
    "#populate missing values\n",
    "#survey$IncHomeS[survey$IncHomeS==99] = NA;\n",
    "#survey$IncHomeS[survey$IncHomeS==999] = NA;\n",
    "\n",
    "#survey <- survey[survey$HomeS>60,];\n",
    "#survey <- survey[survey$HomeS<80,];\n",
    "\n",
    "#survey <- survey[survey$HomeW>60,];\n",
    "#survey <- survey[survey$HomeW<80,];\n",
    "\n",
    "data <- survey[,-c(1:7)];\n",
    "\n",
    "\n",
    "\n",
    "#We investigate only use people who use A/C when being at home in summer\n",
    "data1 <- data[data$AwaySNY==1,-which(names(data) %in% c(\"HomeWYN\",\"AwayWNY\",\"HomeSYN\",\"AwaySNY\",\"City\",\"Utility\",\n",
    "    \"ReasonPos\",\"ReasonNeg\",\"NBillS\",\"NBillW\",\"valid1\",\"valid2\",\"valid\",\"Attitude\",\"Trust\",\"MCG\",\"Frugal\",\"ComfortS\",\"ComfortW\",\"SubN\",\"PBC\",\"ACYN\",\"HeatYN\",\n",
    "    \"Longitude\", \"Job\",\"hot\",\"cold\"))];\n",
    "\n",
    "sort(names(data1))"
   ]
  },
  {
   "cell_type": "code",
   "execution_count": 55,
   "metadata": {
    "collapsed": false
   },
   "outputs": [
    {
     "data": {
      "text/plain": [
       "   Min. 1st Qu.  Median    Mean 3rd Qu.    Max. \n",
       "      1       4       5       6       7      99 "
      ]
     },
     "metadata": {},
     "output_type": "display_data"
    },
    {
     "data": {
      "text/plain": [
       "\n",
       "  1   2   3   4   5   6   7   8  99 \n",
       " 37  39  55 127  83  64  86  66   5 "
      ]
     },
     "metadata": {},
     "output_type": "display_data"
    },
    {
     "data": {
      "image/png": "[encoded data removed]",
      "text/plain": [
       "Plot with title \"Histogram of data1$IncAwayS\""
      ]
     },
     "metadata": {},
     "output_type": "display_data"
    }
   ],
   "source": [
    "summary(data1$IncAwayS)\n",
    "table(data1$IncAwayS)\n",
    "hist(data1$IncAwayS)"
   ]
  },
  {
   "cell_type": "code",
   "execution_count": 56,
   "metadata": {
    "collapsed": false
   },
   "outputs": [
    {
     "data": {
      "text/plain": [
       "\n",
       "40 50 55 60 62 63 64 65 66 67 68 69 70 71 72 73 74 75 76 77 78 79 80 81 82 83 \n",
       " 2  6  5 19  5  2  3 18  3  1 27  6 70  4 63 11 26 69 32  9 60  6 77  2 12  1 \n",
       "84 85 88 89 90 93 95 \n",
       " 3 13  1  1  2  2  1 "
      ]
     },
     "metadata": {},
     "output_type": "display_data"
    },
    {
     "data": {
      "image/png": "[encoded data removed]",
      "text/plain": [
       "Plot with title \"Histogram of data1$AwayS\""
      ]
     },
     "metadata": {},
     "output_type": "display_data"
    }
   ],
   "source": [
    "table(data1$AwayS)\n",
    "hist(data1$AwayS)"
   ]
  },
  {
   "cell_type": "code",
   "execution_count": 57,
   "metadata": {
    "collapsed": false
   },
   "outputs": [
    {
     "name": "stdout",
     "output_type": "stream",
     "text": [
      "[1] \"HomeW\" \"17\"   \n",
      "[1] \"AwayW\" \"33\"   \n",
      "[1] \"IncWD\" \"38\"   \n",
      "[1] \"IncDish\" \"141\"    \n",
      "[1] \"Age\" \"3\"  \n",
      "[1] \"Income\" \"2\"     \n",
      "[1] \"Educ\" \"4\"   \n",
      "[1] \"Latitude\" \"18\"      \n"
     ]
    }
   ],
   "source": [
    "#Fields with lots of missing values\n",
    "for (n in names(data1)){\n",
    "    nmis = sum(is.na(data1[,n]))\n",
    "    if(nmis >1)  print (c(n, sum(is.na(data1[,n]))))\n",
    "}"
   ]
  },
  {
   "cell_type": "code",
   "execution_count": 58,
   "metadata": {
    "collapsed": false
   },
   "outputs": [
    {
     "name": "stdout",
     "output_type": "stream",
     "text": [
      "[1] 562 101\n",
      "[1] 534 101\n"
     ]
    }
   ],
   "source": [
    "#lets remover these\n",
    "data2 <- data1[,-which(names(data1) %in% c(\"HomeW\",\"AwayW\",\n",
    "                    \"IncWD\",\"IncDish\"))];\n",
    "print(dim(data2))\n",
    "data2 <- na.omit(data2)\n",
    "print(dim(data2))\n",
    "#table(data2$Political)"
   ]
  },
  {
   "cell_type": "code",
   "execution_count": 59,
   "metadata": {
    "collapsed": false
   },
   "outputs": [
    {
     "data": {
      "text/plain": [
       "   Min. 1st Qu.  Median    Mean 3rd Qu.    Max. \n",
       "      1       4       5       6       7      99 "
      ]
     },
     "metadata": {},
     "output_type": "display_data"
    },
    {
     "data": {
      "text/plain": [
       "\n",
       "  1   2   3   4   5   6   7   8  99 \n",
       " 35  36  54 125  76  58  83  63   4 "
      ]
     },
     "metadata": {},
     "output_type": "display_data"
    },
    {
     "data": {
      "image/png": "[encoded data removed]",
      "text/plain": [
       "Plot with title \"Histogram of data2$IncAwayS\""
      ]
     },
     "metadata": {},
     "output_type": "display_data"
    }
   ],
   "source": [
    "summary(data2$IncAwayS)\n",
    "table(data2$IncAwayS)\n",
    "hist(data2$IncAwayS)"
   ]
  },
  {
   "cell_type": "code",
   "execution_count": 60,
   "metadata": {
    "collapsed": false
   },
   "outputs": [
    {
     "data": {
      "text/html": [
       "<ol class=list-inline>\n",
       "\t<li>'Age'</li>\n",
       "\t<li>'Atti'</li>\n",
       "\t<li>'Atti1'</li>\n",
       "\t<li>'Atti2'</li>\n",
       "\t<li>'Atti3'</li>\n",
       "\t<li>'Atti4'</li>\n",
       "\t<li>'AwayS'</li>\n",
       "\t<li>'BillS'</li>\n",
       "\t<li>'BillW'</li>\n",
       "\t<li>'CashYN'</li>\n",
       "\t<li>'ComfNS'</li>\n",
       "\t<li>'ComfNS1'</li>\n",
       "\t<li>'ComfNS2'</li>\n",
       "\t<li>'ComfNS3'</li>\n",
       "\t<li>'ComfNW'</li>\n",
       "\t<li>'ComfNW1'</li>\n",
       "\t<li>'ComfNW2'</li>\n",
       "\t<li>'ControlN1'</li>\n",
       "\t<li>'ControlN2R'</li>\n",
       "\t<li>'ControlN3'</li>\n",
       "\t<li>'ControlN4'</li>\n",
       "\t<li>'ConvB1'</li>\n",
       "\t<li>'ConvB2'</li>\n",
       "\t<li>'ConvB3'</li>\n",
       "\t<li>'ConvB4'</li>\n",
       "\t<li>'Educ'</li>\n",
       "\t<li>'EmerRForm'</li>\n",
       "\t<li>'EnergyC'</li>\n",
       "\t<li>'EnergyC1'</li>\n",
       "\t<li>'EnergyC2'</li>\n",
       "\t<li>'EnergyC3'</li>\n",
       "\t<li>'EnergyC4'</li>\n",
       "\t<li>'Ethnic'</li>\n",
       "\t<li>'Frugal1'</li>\n",
       "\t<li>'Frugal2'</li>\n",
       "\t<li>'Frugal3'</li>\n",
       "\t<li>'Gender'</li>\n",
       "\t<li>'HabitC'</li>\n",
       "\t<li>'HabitC1'</li>\n",
       "\t<li>'HabitC2'</li>\n",
       "\t<li>'HabitC3'</li>\n",
       "\t<li>'HabitC4'</li>\n",
       "\t<li>'HabitC5'</li>\n",
       "\t<li>'HabitC6'</li>\n",
       "\t<li>'HabitC7'</li>\n",
       "\t<li>'HabitE1'</li>\n",
       "\t<li>'HabitE2'</li>\n",
       "\t<li>'HabitE3'</li>\n",
       "\t<li>'HabitG'</li>\n",
       "\t<li>'HomeS'</li>\n",
       "\t<li>'HouseholdS'</li>\n",
       "\t<li>'INT1'</li>\n",
       "\t<li>'INT2'</li>\n",
       "\t<li>'INT3'</li>\n",
       "\t<li>'INT4'</li>\n",
       "\t<li>'IncAutoS'</li>\n",
       "\t<li>'IncAutoW'</li>\n",
       "\t<li>'IncAwayS'</li>\n",
       "\t<li>'IncAwayW'</li>\n",
       "\t<li>'IncEmer10S'</li>\n",
       "\t<li>'IncEmer10W'</li>\n",
       "\t<li>'IncEmer30S'</li>\n",
       "\t<li>'IncEmer30W'</li>\n",
       "\t<li>'IncHomeS'</li>\n",
       "\t<li>'IncHomeW'</li>\n",
       "\t<li>'Income'</li>\n",
       "\t<li>'Latitude'</li>\n",
       "\t<li>'MC'</li>\n",
       "\t<li>'MC1'</li>\n",
       "\t<li>'MC2'</li>\n",
       "\t<li>'MC3'</li>\n",
       "\t<li>'MC4'</li>\n",
       "\t<li>'MC5'</li>\n",
       "\t<li>'MCBill'</li>\n",
       "\t<li>'OwnRent'</li>\n",
       "\t<li>'PBC1'</li>\n",
       "\t<li>'PBC2'</li>\n",
       "\t<li>'PBC3R'</li>\n",
       "\t<li>'PBC4'</li>\n",
       "\t<li>'PBC5'</li>\n",
       "\t<li>'Political'</li>\n",
       "\t<li>'RewardForm'</li>\n",
       "\t<li>'SN'</li>\n",
       "\t<li>'SN1'</li>\n",
       "\t<li>'SN2'</li>\n",
       "\t<li>'SN3'</li>\n",
       "\t<li>'SN4'</li>\n",
       "\t<li>'Sqft'</li>\n",
       "\t<li>'SqftCate'</li>\n",
       "\t<li>'State'</li>\n",
       "\t<li>'SubNorm'</li>\n",
       "\t<li>'SubNorm1'</li>\n",
       "\t<li>'SubNorm2'</li>\n",
       "\t<li>'SubNorm3'</li>\n",
       "\t<li>'Summer_avg'</li>\n",
       "\t<li>'Trust1'</li>\n",
       "\t<li>'Trust2'</li>\n",
       "\t<li>'Trust3'</li>\n",
       "\t<li>'Trust4'</li>\n",
       "\t<li>'Winter_avg'</li>\n",
       "\t<li>'X.9to5'</li>\n",
       "</ol>\n"
      ],
      "text/latex": [
       "\\begin{enumerate*}\n",
       "\\item 'Age'\n",
       "\\item 'Atti'\n",
       "\\item 'Atti1'\n",
       "\\item 'Atti2'\n",
       "\\item 'Atti3'\n",
       "\\item 'Atti4'\n",
       "\\item 'AwayS'\n",
       "\\item 'BillS'\n",
       "\\item 'BillW'\n",
       "\\item 'CashYN'\n",
       "\\item 'ComfNS'\n",
       "\\item 'ComfNS1'\n",
       "\\item 'ComfNS2'\n",
       "\\item 'ComfNS3'\n",
       "\\item 'ComfNW'\n",
       "\\item 'ComfNW1'\n",
       "\\item 'ComfNW2'\n",
       "\\item 'ControlN1'\n",
       "\\item 'ControlN2R'\n",
       "\\item 'ControlN3'\n",
       "\\item 'ControlN4'\n",
       "\\item 'ConvB1'\n",
       "\\item 'ConvB2'\n",
       "\\item 'ConvB3'\n",
       "\\item 'ConvB4'\n",
       "\\item 'Educ'\n",
       "\\item 'EmerRForm'\n",
       "\\item 'EnergyC'\n",
       "\\item 'EnergyC1'\n",
       "\\item 'EnergyC2'\n",
       "\\item 'EnergyC3'\n",
       "\\item 'EnergyC4'\n",
       "\\item 'Ethnic'\n",
       "\\item 'Frugal1'\n",
       "\\item 'Frugal2'\n",
       "\\item 'Frugal3'\n",
       "\\item 'Gender'\n",
       "\\item 'HabitC'\n",
       "\\item 'HabitC1'\n",
       "\\item 'HabitC2'\n",
       "\\item 'HabitC3'\n",
       "\\item 'HabitC4'\n",
       "\\item 'HabitC5'\n",
       "\\item 'HabitC6'\n",
       "\\item 'HabitC7'\n",
       "\\item 'HabitE1'\n",
       "\\item 'HabitE2'\n",
       "\\item 'HabitE3'\n",
       "\\item 'HabitG'\n",
       "\\item 'HomeS'\n",
       "\\item 'HouseholdS'\n",
       "\\item 'INT1'\n",
       "\\item 'INT2'\n",
       "\\item 'INT3'\n",
       "\\item 'INT4'\n",
       "\\item 'IncAutoS'\n",
       "\\item 'IncAutoW'\n",
       "\\item 'IncAwayS'\n",
       "\\item 'IncAwayW'\n",
       "\\item 'IncEmer10S'\n",
       "\\item 'IncEmer10W'\n",
       "\\item 'IncEmer30S'\n",
       "\\item 'IncEmer30W'\n",
       "\\item 'IncHomeS'\n",
       "\\item 'IncHomeW'\n",
       "\\item 'Income'\n",
       "\\item 'Latitude'\n",
       "\\item 'MC'\n",
       "\\item 'MC1'\n",
       "\\item 'MC2'\n",
       "\\item 'MC3'\n",
       "\\item 'MC4'\n",
       "\\item 'MC5'\n",
       "\\item 'MCBill'\n",
       "\\item 'OwnRent'\n",
       "\\item 'PBC1'\n",
       "\\item 'PBC2'\n",
       "\\item 'PBC3R'\n",
       "\\item 'PBC4'\n",
       "\\item 'PBC5'\n",
       "\\item 'Political'\n",
       "\\item 'RewardForm'\n",
       "\\item 'SN'\n",
       "\\item 'SN1'\n",
       "\\item 'SN2'\n",
       "\\item 'SN3'\n",
       "\\item 'SN4'\n",
       "\\item 'Sqft'\n",
       "\\item 'SqftCate'\n",
       "\\item 'State'\n",
       "\\item 'SubNorm'\n",
       "\\item 'SubNorm1'\n",
       "\\item 'SubNorm2'\n",
       "\\item 'SubNorm3'\n",
       "\\item 'Summer\\_avg'\n",
       "\\item 'Trust1'\n",
       "\\item 'Trust2'\n",
       "\\item 'Trust3'\n",
       "\\item 'Trust4'\n",
       "\\item 'Winter\\_avg'\n",
       "\\item 'X.9to5'\n",
       "\\end{enumerate*}\n"
      ],
      "text/markdown": [
       "1. 'Age'\n",
       "2. 'Atti'\n",
       "3. 'Atti1'\n",
       "4. 'Atti2'\n",
       "5. 'Atti3'\n",
       "6. 'Atti4'\n",
       "7. 'AwayS'\n",
       "8. 'BillS'\n",
       "9. 'BillW'\n",
       "10. 'CashYN'\n",
       "11. 'ComfNS'\n",
       "12. 'ComfNS1'\n",
       "13. 'ComfNS2'\n",
       "14. 'ComfNS3'\n",
       "15. 'ComfNW'\n",
       "16. 'ComfNW1'\n",
       "17. 'ComfNW2'\n",
       "18. 'ControlN1'\n",
       "19. 'ControlN2R'\n",
       "20. 'ControlN3'\n",
       "21. 'ControlN4'\n",
       "22. 'ConvB1'\n",
       "23. 'ConvB2'\n",
       "24. 'ConvB3'\n",
       "25. 'ConvB4'\n",
       "26. 'Educ'\n",
       "27. 'EmerRForm'\n",
       "28. 'EnergyC'\n",
       "29. 'EnergyC1'\n",
       "30. 'EnergyC2'\n",
       "31. 'EnergyC3'\n",
       "32. 'EnergyC4'\n",
       "33. 'Ethnic'\n",
       "34. 'Frugal1'\n",
       "35. 'Frugal2'\n",
       "36. 'Frugal3'\n",
       "37. 'Gender'\n",
       "38. 'HabitC'\n",
       "39. 'HabitC1'\n",
       "40. 'HabitC2'\n",
       "41. 'HabitC3'\n",
       "42. 'HabitC4'\n",
       "43. 'HabitC5'\n",
       "44. 'HabitC6'\n",
       "45. 'HabitC7'\n",
       "46. 'HabitE1'\n",
       "47. 'HabitE2'\n",
       "48. 'HabitE3'\n",
       "49. 'HabitG'\n",
       "50. 'HomeS'\n",
       "51. 'HouseholdS'\n",
       "52. 'INT1'\n",
       "53. 'INT2'\n",
       "54. 'INT3'\n",
       "55. 'INT4'\n",
       "56. 'IncAutoS'\n",
       "57. 'IncAutoW'\n",
       "58. 'IncAwayS'\n",
       "59. 'IncAwayW'\n",
       "60. 'IncEmer10S'\n",
       "61. 'IncEmer10W'\n",
       "62. 'IncEmer30S'\n",
       "63. 'IncEmer30W'\n",
       "64. 'IncHomeS'\n",
       "65. 'IncHomeW'\n",
       "66. 'Income'\n",
       "67. 'Latitude'\n",
       "68. 'MC'\n",
       "69. 'MC1'\n",
       "70. 'MC2'\n",
       "71. 'MC3'\n",
       "72. 'MC4'\n",
       "73. 'MC5'\n",
       "74. 'MCBill'\n",
       "75. 'OwnRent'\n",
       "76. 'PBC1'\n",
       "77. 'PBC2'\n",
       "78. 'PBC3R'\n",
       "79. 'PBC4'\n",
       "80. 'PBC5'\n",
       "81. 'Political'\n",
       "82. 'RewardForm'\n",
       "83. 'SN'\n",
       "84. 'SN1'\n",
       "85. 'SN2'\n",
       "86. 'SN3'\n",
       "87. 'SN4'\n",
       "88. 'Sqft'\n",
       "89. 'SqftCate'\n",
       "90. 'State'\n",
       "91. 'SubNorm'\n",
       "92. 'SubNorm1'\n",
       "93. 'SubNorm2'\n",
       "94. 'SubNorm3'\n",
       "95. 'Summer_avg'\n",
       "96. 'Trust1'\n",
       "97. 'Trust2'\n",
       "98. 'Trust3'\n",
       "99. 'Trust4'\n",
       "100. 'Winter_avg'\n",
       "101. 'X.9to5'\n",
       "\n",
       "\n"
      ],
      "text/plain": [
       "  [1] \"Age\"        \"Atti\"       \"Atti1\"      \"Atti2\"      \"Atti3\"     \n",
       "  [6] \"Atti4\"      \"AwayS\"      \"BillS\"      \"BillW\"      \"CashYN\"    \n",
       " [11] \"ComfNS\"     \"ComfNS1\"    \"ComfNS2\"    \"ComfNS3\"    \"ComfNW\"    \n",
       " [16] \"ComfNW1\"    \"ComfNW2\"    \"ControlN1\"  \"ControlN2R\" \"ControlN3\" \n",
       " [21] \"ControlN4\"  \"ConvB1\"     \"ConvB2\"     \"ConvB3\"     \"ConvB4\"    \n",
       " [26] \"Educ\"       \"EmerRForm\"  \"EnergyC\"    \"EnergyC1\"   \"EnergyC2\"  \n",
       " [31] \"EnergyC3\"   \"EnergyC4\"   \"Ethnic\"     \"Frugal1\"    \"Frugal2\"   \n",
       " [36] \"Frugal3\"    \"Gender\"     \"HabitC\"     \"HabitC1\"    \"HabitC2\"   \n",
       " [41] \"HabitC3\"    \"HabitC4\"    \"HabitC5\"    \"HabitC6\"    \"HabitC7\"   \n",
       " [46] \"HabitE1\"    \"HabitE2\"    \"HabitE3\"    \"HabitG\"     \"HomeS\"     \n",
       " [51] \"HouseholdS\" \"INT1\"       \"INT2\"       \"INT3\"       \"INT4\"      \n",
       " [56] \"IncAutoS\"   \"IncAutoW\"   \"IncAwayS\"   \"IncAwayW\"   \"IncEmer10S\"\n",
       " [61] \"IncEmer10W\" \"IncEmer30S\" \"IncEmer30W\" \"IncHomeS\"   \"IncHomeW\"  \n",
       " [66] \"Income\"     \"Latitude\"   \"MC\"         \"MC1\"        \"MC2\"       \n",
       " [71] \"MC3\"        \"MC4\"        \"MC5\"        \"MCBill\"     \"OwnRent\"   \n",
       " [76] \"PBC1\"       \"PBC2\"       \"PBC3R\"      \"PBC4\"       \"PBC5\"      \n",
       " [81] \"Political\"  \"RewardForm\" \"SN\"         \"SN1\"        \"SN2\"       \n",
       " [86] \"SN3\"        \"SN4\"        \"Sqft\"       \"SqftCate\"   \"State\"     \n",
       " [91] \"SubNorm\"    \"SubNorm1\"   \"SubNorm2\"   \"SubNorm3\"   \"Summer_avg\"\n",
       " [96] \"Trust1\"     \"Trust2\"     \"Trust3\"     \"Trust4\"     \"Winter_avg\"\n",
       "[101] \"X.9to5\"    "
      ]
     },
     "metadata": {},
     "output_type": "display_data"
    }
   ],
   "source": [
    "sort(names(data2))"
   ]
  },
  {
   "cell_type": "code",
   "execution_count": 61,
   "metadata": {
    "collapsed": false
   },
   "outputs": [],
   "source": [
    "#names(data2)\n",
    "#These are only variables we really care about\n",
    "IVS = c(\"Age\",\n",
    "\"Gender\",\n",
    "\"OwnRent\",\n",
    "\"SqftCate\",\n",
    "\"HouseholdS\",\n",
    "\"Political\",\n",
    "\"Ethnic\",\n",
    "\"Income\",\n",
    "\"Educ\",\n",
    "\"Frugal\",\n",
    "\"MC\",\n",
    "\"EnergyC\",\n",
    "\"Trust\",\n",
    "\"ComfNS\",\n",
    "\"Atti\",\n",
    "\"SubNorm\",\n",
    "\"PBC\",\n",
    "\"SN\",\n",
    "\"HabitG\",\n",
    "\"HabitC\",\n",
    "\"Latitude\",\n",
    "\"Summer_avg\",     \n",
    "\"HomeS\")"
   ]
  },
  {
   "cell_type": "code",
   "execution_count": 62,
   "metadata": {
    "collapsed": false
   },
   "outputs": [
    {
     "data": {
      "text/html": [
       "<ol class=list-inline>\n",
       "\t<li>'Age'</li>\n",
       "\t<li>'Atti'</li>\n",
       "\t<li>'Atti1'</li>\n",
       "\t<li>'Atti2'</li>\n",
       "\t<li>'Atti3'</li>\n",
       "\t<li>'Atti4'</li>\n",
       "\t<li>'AwayS'</li>\n",
       "\t<li>'BillS'</li>\n",
       "\t<li>'BillW'</li>\n",
       "\t<li>'CashYN'</li>\n",
       "\t<li>'ComfNS'</li>\n",
       "\t<li>'ComfNS1'</li>\n",
       "\t<li>'ComfNS2'</li>\n",
       "\t<li>'ComfNS3'</li>\n",
       "\t<li>'ComfNW'</li>\n",
       "\t<li>'ComfNW1'</li>\n",
       "\t<li>'ComfNW2'</li>\n",
       "\t<li>'ControlN1'</li>\n",
       "\t<li>'ControlN2R'</li>\n",
       "\t<li>'ControlN3'</li>\n",
       "\t<li>'ControlN4'</li>\n",
       "\t<li>'ConvB1'</li>\n",
       "\t<li>'ConvB2'</li>\n",
       "\t<li>'ConvB3'</li>\n",
       "\t<li>'ConvB4'</li>\n",
       "\t<li>'Educ'</li>\n",
       "\t<li>'EmerRForm'</li>\n",
       "\t<li>'EnergyC'</li>\n",
       "\t<li>'EnergyC1'</li>\n",
       "\t<li>'EnergyC2'</li>\n",
       "\t<li>'EnergyC3'</li>\n",
       "\t<li>'EnergyC4'</li>\n",
       "\t<li>'Ethnic'</li>\n",
       "\t<li>'Frugal1'</li>\n",
       "\t<li>'Frugal2'</li>\n",
       "\t<li>'Frugal3'</li>\n",
       "\t<li>'Gender'</li>\n",
       "\t<li>'HabitC'</li>\n",
       "\t<li>'HabitC1'</li>\n",
       "\t<li>'HabitC2'</li>\n",
       "\t<li>'HabitC3'</li>\n",
       "\t<li>'HabitC4'</li>\n",
       "\t<li>'HabitC5'</li>\n",
       "\t<li>'HabitC6'</li>\n",
       "\t<li>'HabitC7'</li>\n",
       "\t<li>'HabitE1'</li>\n",
       "\t<li>'HabitE2'</li>\n",
       "\t<li>'HabitE3'</li>\n",
       "\t<li>'HabitG'</li>\n",
       "\t<li>'HomeS'</li>\n",
       "\t<li>'HouseholdS'</li>\n",
       "\t<li>'INT1'</li>\n",
       "\t<li>'INT2'</li>\n",
       "\t<li>'INT3'</li>\n",
       "\t<li>'INT4'</li>\n",
       "\t<li>'IncAutoS'</li>\n",
       "\t<li>'IncAutoW'</li>\n",
       "\t<li>'IncAwayS'</li>\n",
       "\t<li>'IncAwayW'</li>\n",
       "\t<li>'IncEmer10S'</li>\n",
       "\t<li>'IncEmer10W'</li>\n",
       "\t<li>'IncEmer30S'</li>\n",
       "\t<li>'IncEmer30W'</li>\n",
       "\t<li>'IncHomeS'</li>\n",
       "\t<li>'IncHomeW'</li>\n",
       "\t<li>'Income'</li>\n",
       "\t<li>'Latitude'</li>\n",
       "\t<li>'MC'</li>\n",
       "\t<li>'MC1'</li>\n",
       "\t<li>'MC2'</li>\n",
       "\t<li>'MC3'</li>\n",
       "\t<li>'MC4'</li>\n",
       "\t<li>'MC5'</li>\n",
       "\t<li>'MCBill'</li>\n",
       "\t<li>'OwnRent'</li>\n",
       "\t<li>'PBC1'</li>\n",
       "\t<li>'PBC2'</li>\n",
       "\t<li>'PBC3R'</li>\n",
       "\t<li>'PBC4'</li>\n",
       "\t<li>'PBC5'</li>\n",
       "\t<li>'Political'</li>\n",
       "\t<li>'RewardForm'</li>\n",
       "\t<li>'SN'</li>\n",
       "\t<li>'SN1'</li>\n",
       "\t<li>'SN2'</li>\n",
       "\t<li>'SN3'</li>\n",
       "\t<li>'SN4'</li>\n",
       "\t<li>'Sqft'</li>\n",
       "\t<li>'SqftCate'</li>\n",
       "\t<li>'State'</li>\n",
       "\t<li>'SubNorm'</li>\n",
       "\t<li>'SubNorm1'</li>\n",
       "\t<li>'SubNorm2'</li>\n",
       "\t<li>'SubNorm3'</li>\n",
       "\t<li>'Summer_avg'</li>\n",
       "\t<li>'Trust1'</li>\n",
       "\t<li>'Trust2'</li>\n",
       "\t<li>'Trust3'</li>\n",
       "\t<li>'Trust4'</li>\n",
       "\t<li>'Winter_avg'</li>\n",
       "\t<li>'X.9to5'</li>\n",
       "</ol>\n"
      ],
      "text/latex": [
       "\\begin{enumerate*}\n",
       "\\item 'Age'\n",
       "\\item 'Atti'\n",
       "\\item 'Atti1'\n",
       "\\item 'Atti2'\n",
       "\\item 'Atti3'\n",
       "\\item 'Atti4'\n",
       "\\item 'AwayS'\n",
       "\\item 'BillS'\n",
       "\\item 'BillW'\n",
       "\\item 'CashYN'\n",
       "\\item 'ComfNS'\n",
       "\\item 'ComfNS1'\n",
       "\\item 'ComfNS2'\n",
       "\\item 'ComfNS3'\n",
       "\\item 'ComfNW'\n",
       "\\item 'ComfNW1'\n",
       "\\item 'ComfNW2'\n",
       "\\item 'ControlN1'\n",
       "\\item 'ControlN2R'\n",
       "\\item 'ControlN3'\n",
       "\\item 'ControlN4'\n",
       "\\item 'ConvB1'\n",
       "\\item 'ConvB2'\n",
       "\\item 'ConvB3'\n",
       "\\item 'ConvB4'\n",
       "\\item 'Educ'\n",
       "\\item 'EmerRForm'\n",
       "\\item 'EnergyC'\n",
       "\\item 'EnergyC1'\n",
       "\\item 'EnergyC2'\n",
       "\\item 'EnergyC3'\n",
       "\\item 'EnergyC4'\n",
       "\\item 'Ethnic'\n",
       "\\item 'Frugal1'\n",
       "\\item 'Frugal2'\n",
       "\\item 'Frugal3'\n",
       "\\item 'Gender'\n",
       "\\item 'HabitC'\n",
       "\\item 'HabitC1'\n",
       "\\item 'HabitC2'\n",
       "\\item 'HabitC3'\n",
       "\\item 'HabitC4'\n",
       "\\item 'HabitC5'\n",
       "\\item 'HabitC6'\n",
       "\\item 'HabitC7'\n",
       "\\item 'HabitE1'\n",
       "\\item 'HabitE2'\n",
       "\\item 'HabitE3'\n",
       "\\item 'HabitG'\n",
       "\\item 'HomeS'\n",
       "\\item 'HouseholdS'\n",
       "\\item 'INT1'\n",
       "\\item 'INT2'\n",
       "\\item 'INT3'\n",
       "\\item 'INT4'\n",
       "\\item 'IncAutoS'\n",
       "\\item 'IncAutoW'\n",
       "\\item 'IncAwayS'\n",
       "\\item 'IncAwayW'\n",
       "\\item 'IncEmer10S'\n",
       "\\item 'IncEmer10W'\n",
       "\\item 'IncEmer30S'\n",
       "\\item 'IncEmer30W'\n",
       "\\item 'IncHomeS'\n",
       "\\item 'IncHomeW'\n",
       "\\item 'Income'\n",
       "\\item 'Latitude'\n",
       "\\item 'MC'\n",
       "\\item 'MC1'\n",
       "\\item 'MC2'\n",
       "\\item 'MC3'\n",
       "\\item 'MC4'\n",
       "\\item 'MC5'\n",
       "\\item 'MCBill'\n",
       "\\item 'OwnRent'\n",
       "\\item 'PBC1'\n",
       "\\item 'PBC2'\n",
       "\\item 'PBC3R'\n",
       "\\item 'PBC4'\n",
       "\\item 'PBC5'\n",
       "\\item 'Political'\n",
       "\\item 'RewardForm'\n",
       "\\item 'SN'\n",
       "\\item 'SN1'\n",
       "\\item 'SN2'\n",
       "\\item 'SN3'\n",
       "\\item 'SN4'\n",
       "\\item 'Sqft'\n",
       "\\item 'SqftCate'\n",
       "\\item 'State'\n",
       "\\item 'SubNorm'\n",
       "\\item 'SubNorm1'\n",
       "\\item 'SubNorm2'\n",
       "\\item 'SubNorm3'\n",
       "\\item 'Summer\\_avg'\n",
       "\\item 'Trust1'\n",
       "\\item 'Trust2'\n",
       "\\item 'Trust3'\n",
       "\\item 'Trust4'\n",
       "\\item 'Winter\\_avg'\n",
       "\\item 'X.9to5'\n",
       "\\end{enumerate*}\n"
      ],
      "text/markdown": [
       "1. 'Age'\n",
       "2. 'Atti'\n",
       "3. 'Atti1'\n",
       "4. 'Atti2'\n",
       "5. 'Atti3'\n",
       "6. 'Atti4'\n",
       "7. 'AwayS'\n",
       "8. 'BillS'\n",
       "9. 'BillW'\n",
       "10. 'CashYN'\n",
       "11. 'ComfNS'\n",
       "12. 'ComfNS1'\n",
       "13. 'ComfNS2'\n",
       "14. 'ComfNS3'\n",
       "15. 'ComfNW'\n",
       "16. 'ComfNW1'\n",
       "17. 'ComfNW2'\n",
       "18. 'ControlN1'\n",
       "19. 'ControlN2R'\n",
       "20. 'ControlN3'\n",
       "21. 'ControlN4'\n",
       "22. 'ConvB1'\n",
       "23. 'ConvB2'\n",
       "24. 'ConvB3'\n",
       "25. 'ConvB4'\n",
       "26. 'Educ'\n",
       "27. 'EmerRForm'\n",
       "28. 'EnergyC'\n",
       "29. 'EnergyC1'\n",
       "30. 'EnergyC2'\n",
       "31. 'EnergyC3'\n",
       "32. 'EnergyC4'\n",
       "33. 'Ethnic'\n",
       "34. 'Frugal1'\n",
       "35. 'Frugal2'\n",
       "36. 'Frugal3'\n",
       "37. 'Gender'\n",
       "38. 'HabitC'\n",
       "39. 'HabitC1'\n",
       "40. 'HabitC2'\n",
       "41. 'HabitC3'\n",
       "42. 'HabitC4'\n",
       "43. 'HabitC5'\n",
       "44. 'HabitC6'\n",
       "45. 'HabitC7'\n",
       "46. 'HabitE1'\n",
       "47. 'HabitE2'\n",
       "48. 'HabitE3'\n",
       "49. 'HabitG'\n",
       "50. 'HomeS'\n",
       "51. 'HouseholdS'\n",
       "52. 'INT1'\n",
       "53. 'INT2'\n",
       "54. 'INT3'\n",
       "55. 'INT4'\n",
       "56. 'IncAutoS'\n",
       "57. 'IncAutoW'\n",
       "58. 'IncAwayS'\n",
       "59. 'IncAwayW'\n",
       "60. 'IncEmer10S'\n",
       "61. 'IncEmer10W'\n",
       "62. 'IncEmer30S'\n",
       "63. 'IncEmer30W'\n",
       "64. 'IncHomeS'\n",
       "65. 'IncHomeW'\n",
       "66. 'Income'\n",
       "67. 'Latitude'\n",
       "68. 'MC'\n",
       "69. 'MC1'\n",
       "70. 'MC2'\n",
       "71. 'MC3'\n",
       "72. 'MC4'\n",
       "73. 'MC5'\n",
       "74. 'MCBill'\n",
       "75. 'OwnRent'\n",
       "76. 'PBC1'\n",
       "77. 'PBC2'\n",
       "78. 'PBC3R'\n",
       "79. 'PBC4'\n",
       "80. 'PBC5'\n",
       "81. 'Political'\n",
       "82. 'RewardForm'\n",
       "83. 'SN'\n",
       "84. 'SN1'\n",
       "85. 'SN2'\n",
       "86. 'SN3'\n",
       "87. 'SN4'\n",
       "88. 'Sqft'\n",
       "89. 'SqftCate'\n",
       "90. 'State'\n",
       "91. 'SubNorm'\n",
       "92. 'SubNorm1'\n",
       "93. 'SubNorm2'\n",
       "94. 'SubNorm3'\n",
       "95. 'Summer_avg'\n",
       "96. 'Trust1'\n",
       "97. 'Trust2'\n",
       "98. 'Trust3'\n",
       "99. 'Trust4'\n",
       "100. 'Winter_avg'\n",
       "101. 'X.9to5'\n",
       "\n",
       "\n"
      ],
      "text/plain": [
       "  [1] \"Age\"        \"Atti\"       \"Atti1\"      \"Atti2\"      \"Atti3\"     \n",
       "  [6] \"Atti4\"      \"AwayS\"      \"BillS\"      \"BillW\"      \"CashYN\"    \n",
       " [11] \"ComfNS\"     \"ComfNS1\"    \"ComfNS2\"    \"ComfNS3\"    \"ComfNW\"    \n",
       " [16] \"ComfNW1\"    \"ComfNW2\"    \"ControlN1\"  \"ControlN2R\" \"ControlN3\" \n",
       " [21] \"ControlN4\"  \"ConvB1\"     \"ConvB2\"     \"ConvB3\"     \"ConvB4\"    \n",
       " [26] \"Educ\"       \"EmerRForm\"  \"EnergyC\"    \"EnergyC1\"   \"EnergyC2\"  \n",
       " [31] \"EnergyC3\"   \"EnergyC4\"   \"Ethnic\"     \"Frugal1\"    \"Frugal2\"   \n",
       " [36] \"Frugal3\"    \"Gender\"     \"HabitC\"     \"HabitC1\"    \"HabitC2\"   \n",
       " [41] \"HabitC3\"    \"HabitC4\"    \"HabitC5\"    \"HabitC6\"    \"HabitC7\"   \n",
       " [46] \"HabitE1\"    \"HabitE2\"    \"HabitE3\"    \"HabitG\"     \"HomeS\"     \n",
       " [51] \"HouseholdS\" \"INT1\"       \"INT2\"       \"INT3\"       \"INT4\"      \n",
       " [56] \"IncAutoS\"   \"IncAutoW\"   \"IncAwayS\"   \"IncAwayW\"   \"IncEmer10S\"\n",
       " [61] \"IncEmer10W\" \"IncEmer30S\" \"IncEmer30W\" \"IncHomeS\"   \"IncHomeW\"  \n",
       " [66] \"Income\"     \"Latitude\"   \"MC\"         \"MC1\"        \"MC2\"       \n",
       " [71] \"MC3\"        \"MC4\"        \"MC5\"        \"MCBill\"     \"OwnRent\"   \n",
       " [76] \"PBC1\"       \"PBC2\"       \"PBC3R\"      \"PBC4\"       \"PBC5\"      \n",
       " [81] \"Political\"  \"RewardForm\" \"SN\"         \"SN1\"        \"SN2\"       \n",
       " [86] \"SN3\"        \"SN4\"        \"Sqft\"       \"SqftCate\"   \"State\"     \n",
       " [91] \"SubNorm\"    \"SubNorm1\"   \"SubNorm2\"   \"SubNorm3\"   \"Summer_avg\"\n",
       " [96] \"Trust1\"     \"Trust2\"     \"Trust3\"     \"Trust4\"     \"Winter_avg\"\n",
       "[101] \"X.9to5\"    "
      ]
     },
     "metadata": {},
     "output_type": "display_data"
    },
    {
     "data": {
      "text/html": [
       "<ol class=list-inline>\n",
       "\t<li>'Age'</li>\n",
       "\t<li>'Atti'</li>\n",
       "\t<li>'ComfNS'</li>\n",
       "\t<li>'Educ'</li>\n",
       "\t<li>'EnergyC'</li>\n",
       "\t<li>'Ethnic'</li>\n",
       "\t<li>'Frugal'</li>\n",
       "\t<li>'Gender'</li>\n",
       "\t<li>'HabitC'</li>\n",
       "\t<li>'HabitG'</li>\n",
       "\t<li>'HomeS'</li>\n",
       "\t<li>'HouseholdS'</li>\n",
       "\t<li>'Income'</li>\n",
       "\t<li>'Latitude'</li>\n",
       "\t<li>'MC'</li>\n",
       "\t<li>'OwnRent'</li>\n",
       "\t<li>'PBC'</li>\n",
       "\t<li>'Political'</li>\n",
       "\t<li>'SN'</li>\n",
       "\t<li>'SqftCate'</li>\n",
       "\t<li>'SubNorm'</li>\n",
       "\t<li>'Summer_avg'</li>\n",
       "\t<li>'Trust'</li>\n",
       "</ol>\n"
      ],
      "text/latex": [
       "\\begin{enumerate*}\n",
       "\\item 'Age'\n",
       "\\item 'Atti'\n",
       "\\item 'ComfNS'\n",
       "\\item 'Educ'\n",
       "\\item 'EnergyC'\n",
       "\\item 'Ethnic'\n",
       "\\item 'Frugal'\n",
       "\\item 'Gender'\n",
       "\\item 'HabitC'\n",
       "\\item 'HabitG'\n",
       "\\item 'HomeS'\n",
       "\\item 'HouseholdS'\n",
       "\\item 'Income'\n",
       "\\item 'Latitude'\n",
       "\\item 'MC'\n",
       "\\item 'OwnRent'\n",
       "\\item 'PBC'\n",
       "\\item 'Political'\n",
       "\\item 'SN'\n",
       "\\item 'SqftCate'\n",
       "\\item 'SubNorm'\n",
       "\\item 'Summer\\_avg'\n",
       "\\item 'Trust'\n",
       "\\end{enumerate*}\n"
      ],
      "text/markdown": [
       "1. 'Age'\n",
       "2. 'Atti'\n",
       "3. 'ComfNS'\n",
       "4. 'Educ'\n",
       "5. 'EnergyC'\n",
       "6. 'Ethnic'\n",
       "7. 'Frugal'\n",
       "8. 'Gender'\n",
       "9. 'HabitC'\n",
       "10. 'HabitG'\n",
       "11. 'HomeS'\n",
       "12. 'HouseholdS'\n",
       "13. 'Income'\n",
       "14. 'Latitude'\n",
       "15. 'MC'\n",
       "16. 'OwnRent'\n",
       "17. 'PBC'\n",
       "18. 'Political'\n",
       "19. 'SN'\n",
       "20. 'SqftCate'\n",
       "21. 'SubNorm'\n",
       "22. 'Summer_avg'\n",
       "23. 'Trust'\n",
       "\n",
       "\n"
      ],
      "text/plain": [
       " [1] \"Age\"        \"Atti\"       \"ComfNS\"     \"Educ\"       \"EnergyC\"   \n",
       " [6] \"Ethnic\"     \"Frugal\"     \"Gender\"     \"HabitC\"     \"HabitG\"    \n",
       "[11] \"HomeS\"      \"HouseholdS\" \"Income\"     \"Latitude\"   \"MC\"        \n",
       "[16] \"OwnRent\"    \"PBC\"        \"Political\"  \"SN\"         \"SqftCate\"  \n",
       "[21] \"SubNorm\"    \"Summer_avg\" \"Trust\"     "
      ]
     },
     "metadata": {},
     "output_type": "display_data"
    }
   ],
   "source": [
    "sort(names(data2))\n",
    "paste(sort(IVS))"
   ]
  },
  {
   "cell_type": "code",
   "execution_count": 63,
   "metadata": {
    "collapsed": false
   },
   "outputs": [
    {
     "data": {
      "text/html": [
       "<ol class=list-inline>\n",
       "\t<li>'Age'</li>\n",
       "\t<li>'Atti'</li>\n",
       "\t<li>'ComfNS'</li>\n",
       "\t<li>'Educ'</li>\n",
       "\t<li>'EnergyC'</li>\n",
       "\t<li>'Ethnic'</li>\n",
       "\t<li>'Gender'</li>\n",
       "\t<li>'HabitC'</li>\n",
       "\t<li>'HabitG'</li>\n",
       "\t<li>'HomeS'</li>\n",
       "\t<li>'HouseholdS'</li>\n",
       "\t<li>'IncAwayS'</li>\n",
       "\t<li>'Income'</li>\n",
       "\t<li>'Latitude'</li>\n",
       "\t<li>'MC'</li>\n",
       "\t<li>'OwnRent'</li>\n",
       "\t<li>'Political'</li>\n",
       "\t<li>'SN'</li>\n",
       "\t<li>'SqftCate'</li>\n",
       "\t<li>'SubNorm'</li>\n",
       "\t<li>'Summer_avg'</li>\n",
       "</ol>\n"
      ],
      "text/latex": [
       "\\begin{enumerate*}\n",
       "\\item 'Age'\n",
       "\\item 'Atti'\n",
       "\\item 'ComfNS'\n",
       "\\item 'Educ'\n",
       "\\item 'EnergyC'\n",
       "\\item 'Ethnic'\n",
       "\\item 'Gender'\n",
       "\\item 'HabitC'\n",
       "\\item 'HabitG'\n",
       "\\item 'HomeS'\n",
       "\\item 'HouseholdS'\n",
       "\\item 'IncAwayS'\n",
       "\\item 'Income'\n",
       "\\item 'Latitude'\n",
       "\\item 'MC'\n",
       "\\item 'OwnRent'\n",
       "\\item 'Political'\n",
       "\\item 'SN'\n",
       "\\item 'SqftCate'\n",
       "\\item 'SubNorm'\n",
       "\\item 'Summer\\_avg'\n",
       "\\end{enumerate*}\n"
      ],
      "text/markdown": [
       "1. 'Age'\n",
       "2. 'Atti'\n",
       "3. 'ComfNS'\n",
       "4. 'Educ'\n",
       "5. 'EnergyC'\n",
       "6. 'Ethnic'\n",
       "7. 'Gender'\n",
       "8. 'HabitC'\n",
       "9. 'HabitG'\n",
       "10. 'HomeS'\n",
       "11. 'HouseholdS'\n",
       "12. 'IncAwayS'\n",
       "13. 'Income'\n",
       "14. 'Latitude'\n",
       "15. 'MC'\n",
       "16. 'OwnRent'\n",
       "17. 'Political'\n",
       "18. 'SN'\n",
       "19. 'SqftCate'\n",
       "20. 'SubNorm'\n",
       "21. 'Summer_avg'\n",
       "\n",
       "\n"
      ],
      "text/plain": [
       " [1] \"Age\"        \"Atti\"       \"ComfNS\"     \"Educ\"       \"EnergyC\"   \n",
       " [6] \"Ethnic\"     \"Gender\"     \"HabitC\"     \"HabitG\"     \"HomeS\"     \n",
       "[11] \"HouseholdS\" \"IncAwayS\"   \"Income\"     \"Latitude\"   \"MC\"        \n",
       "[16] \"OwnRent\"    \"Political\"  \"SN\"         \"SqftCate\"   \"SubNorm\"   \n",
       "[21] \"Summer_avg\""
      ]
     },
     "metadata": {},
     "output_type": "display_data"
    }
   ],
   "source": [
    "data1 <- data2[, which(names(data2) %in% c(\"IncAwayS\",IVS))];\n",
    "sort(names(data1))"
   ]
  },
  {
   "cell_type": "code",
   "execution_count": 64,
   "metadata": {
    "collapsed": true
   },
   "outputs": [],
   "source": [
    "#Check to see if there are anymore missing values\n",
    "for (n in names(data1)){\n",
    "    nmis = sum(is.na(data1[,n]))\n",
    "    if(nmis >1)  print (c(n, sum(is.na(data1[,n]))))\n",
    "}"
   ]
  },
  {
   "cell_type": "code",
   "execution_count": 65,
   "metadata": {
    "collapsed": false
   },
   "outputs": [],
   "source": [
    "#names(data1)\n",
    "\n",
    "#Fields with lots of missing values\n",
    "for (n in names(data1)){\n",
    "    nmis = sum(is.na(data1[,n]))\n",
    "    if(nmis >1)  print (c(n, sum(is.na(data1[,n]))))\n",
    "}\n",
    "    \n",
    "    \n",
    "# What about high correlations?\n",
    "hiCor <- function(x, level){\n",
    "  res <- cor(x,method=\"spearman\");\n",
    "  res1 <- res; res1[res<0] <- -res[res < 0];\n",
    "  for (i in 1:dim(x)[2]){\n",
    "    res1[i,i] <- 0;\n",
    "  }\n",
    "  sel <- apply(res1,1,max,na.rm=T) > level;\n",
    "  res[sel,sel];\n",
    "}\n",
    "#hiCor(data1,.75)"
   ]
  },
  {
   "cell_type": "code",
   "execution_count": 66,
   "metadata": {
    "collapsed": false
   },
   "outputs": [
    {
     "data": {
      "text/html": [
       "<ol class=list-inline>\n",
       "\t<li>'HomeS'</li>\n",
       "\t<li>'IncAwayS'</li>\n",
       "\t<li>'Age'</li>\n",
       "\t<li>'Gender'</li>\n",
       "\t<li>'OwnRent'</li>\n",
       "\t<li>'SqftCate'</li>\n",
       "\t<li>'HouseholdS'</li>\n",
       "\t<li>'Political'</li>\n",
       "\t<li>'Ethnic'</li>\n",
       "\t<li>'Income'</li>\n",
       "\t<li>'Educ'</li>\n",
       "\t<li>'Latitude'</li>\n",
       "\t<li>'EnergyC'</li>\n",
       "\t<li>'MC'</li>\n",
       "\t<li>'ComfNS'</li>\n",
       "\t<li>'Atti'</li>\n",
       "\t<li>'SubNorm'</li>\n",
       "\t<li>'SN'</li>\n",
       "\t<li>'HabitG'</li>\n",
       "\t<li>'HabitC'</li>\n",
       "\t<li>'Summer_avg'</li>\n",
       "</ol>\n"
      ],
      "text/latex": [
       "\\begin{enumerate*}\n",
       "\\item 'HomeS'\n",
       "\\item 'IncAwayS'\n",
       "\\item 'Age'\n",
       "\\item 'Gender'\n",
       "\\item 'OwnRent'\n",
       "\\item 'SqftCate'\n",
       "\\item 'HouseholdS'\n",
       "\\item 'Political'\n",
       "\\item 'Ethnic'\n",
       "\\item 'Income'\n",
       "\\item 'Educ'\n",
       "\\item 'Latitude'\n",
       "\\item 'EnergyC'\n",
       "\\item 'MC'\n",
       "\\item 'ComfNS'\n",
       "\\item 'Atti'\n",
       "\\item 'SubNorm'\n",
       "\\item 'SN'\n",
       "\\item 'HabitG'\n",
       "\\item 'HabitC'\n",
       "\\item 'Summer\\_avg'\n",
       "\\end{enumerate*}\n"
      ],
      "text/markdown": [
       "1. 'HomeS'\n",
       "2. 'IncAwayS'\n",
       "3. 'Age'\n",
       "4. 'Gender'\n",
       "5. 'OwnRent'\n",
       "6. 'SqftCate'\n",
       "7. 'HouseholdS'\n",
       "8. 'Political'\n",
       "9. 'Ethnic'\n",
       "10. 'Income'\n",
       "11. 'Educ'\n",
       "12. 'Latitude'\n",
       "13. 'EnergyC'\n",
       "14. 'MC'\n",
       "15. 'ComfNS'\n",
       "16. 'Atti'\n",
       "17. 'SubNorm'\n",
       "18. 'SN'\n",
       "19. 'HabitG'\n",
       "20. 'HabitC'\n",
       "21. 'Summer_avg'\n",
       "\n",
       "\n"
      ],
      "text/plain": [
       " [1] \"HomeS\"      \"IncAwayS\"   \"Age\"        \"Gender\"     \"OwnRent\"   \n",
       " [6] \"SqftCate\"   \"HouseholdS\" \"Political\"  \"Ethnic\"     \"Income\"    \n",
       "[11] \"Educ\"       \"Latitude\"   \"EnergyC\"    \"MC\"         \"ComfNS\"    \n",
       "[16] \"Atti\"       \"SubNorm\"    \"SN\"         \"HabitG\"     \"HabitC\"    \n",
       "[21] \"Summer_avg\""
      ]
     },
     "metadata": {},
     "output_type": "display_data"
    }
   ],
   "source": [
    "data2 <- data1;\n",
    "data2 <- na.omit(data2)\n",
    "names(data2)"
   ]
  },
  {
   "cell_type": "code",
   "execution_count": 67,
   "metadata": {
    "collapsed": true
   },
   "outputs": [],
   "source": [
    "#Check to see if there are anymore missing values\n",
    "for (n in names(data2)){\n",
    "    nmis = sum(is.na(data2[,n]))\n",
    "    if(nmis >1)  print (c(n, sum(is.na(data2[,n]))))\n",
    "}"
   ]
  },
  {
   "cell_type": "code",
   "execution_count": 68,
   "metadata": {
    "collapsed": false
   },
   "outputs": [
    {
     "data": {
      "text/html": [
       "<table>\n",
       "<thead><tr><th></th><th scope=col>Latitude</th><th scope=col>Summer_avg</th></tr></thead>\n",
       "<tbody>\n",
       "\t<tr><th scope=row>Latitude</th><td> 1.00</td><td>-0.74</td></tr>\n",
       "\t<tr><th scope=row>Summer_avg</th><td>-0.74</td><td> 1.00</td></tr>\n",
       "</tbody>\n",
       "</table>\n"
      ],
      "text/latex": [
       "\\begin{tabular}{r|ll}\n",
       "  & Latitude & Summer\\_avg\\\\\n",
       "\\hline\n",
       "\tLatitude &  1.00 & -0.74\\\\\n",
       "\tSummer\\_avg & -0.74 &  1.00\\\\\n",
       "\\end{tabular}\n"
      ],
      "text/markdown": [
       "1. 1\n",
       "2. -0.744998898787942\n",
       "3. -0.744998898787942\n",
       "4. 1\n",
       "\n",
       "\n"
      ],
      "text/plain": [
       "           Latitude Summer_avg\n",
       "Latitude    1.00    -0.74     \n",
       "Summer_avg -0.74     1.00     "
      ]
     },
     "metadata": {},
     "output_type": "display_data"
    }
   ],
   "source": [
    "hiCor(data2,.7)"
   ]
  },
  {
   "cell_type": "code",
   "execution_count": 69,
   "metadata": {
    "collapsed": false
   },
   "outputs": [
    {
     "name": "stdout",
     "output_type": "stream",
     "text": [
      "[1] 0.14\n",
      "    Gender EnergyC    MC  Atti SubNorm    SN HabitG HabitC\n",
      "PC1  -0.22    -0.4 -0.33 -0.43   -0.36 -0.21   -0.3  -0.28\n",
      "[1] 0.24\n",
      "    HomeS  Age OwnRent SqftCate HouseholdS Income\n",
      "PC2  0.24 0.35    0.48      0.5       0.24    0.4\n",
      "[1] 0.34\n",
      "    HomeS Latitude ComfNS Summer_avg\n",
      "PC3 -0.35     0.56  -0.24      -0.55\n",
      "[1] 0.41\n",
      "    HomeS  Age Gender HouseholdS Ethnic Educ HabitC\n",
      "PC4  0.22 0.21  -0.33      -0.51   0.34 0.44   0.27\n",
      "[1] 0.47\n",
      "    Political Income Educ EnergyC    MC HabitG HabitC\n",
      "PC5      0.56    0.2 0.35    0.25 -0.26  -0.44  -0.23\n",
      "[1] 0.53\n",
      "      Age Gender Ethnic Income Educ ComfNS   SN HabitC\n",
      "PC6 -0.46  -0.33  -0.45   0.24 0.21  -0.27 0.29   0.24\n",
      "[1] 0.58\n",
      "    IncAwayS   MC ComfNS SubNorm    SN\n",
      "PC7     0.54 0.22  -0.56   -0.22 -0.38\n",
      "[1] 0.62\n",
      "    HomeS IncAwayS Gender Income  Educ   MC ComfNS HabitC\n",
      "PC8  0.22     -0.3   0.45  -0.25 -0.21 -0.3  -0.38   0.44\n",
      "[1] 0.66\n",
      "    HomeS IncAwayS Ethnic   MC SubNorm    SN HabitG\n",
      "PC9 -0.23    -0.59  -0.35 0.27    -0.3 -0.38   0.26\n",
      "[1] 0.7\n",
      "     IncAwayS   Age HouseholdS Ethnic Educ   MC    SN\n",
      "PC10    -0.23 -0.45       0.39   0.43 0.26 0.29 -0.24\n",
      "[1] 0.74\n",
      "     IncAwayS Gender OwnRent Political Ethnic Educ ComfNS\n",
      "PC11     0.22   0.43   -0.22     -0.43   -0.4 0.41   0.22\n",
      "[1] 0.78\n",
      "     IncAwayS   Age Political Income ComfNS    SN HabitG HabitC\n",
      "PC12     0.25 -0.21      0.38   0.33   0.42 -0.32   0.36   0.35\n",
      "[1] 0.81\n",
      "     HomeS Political Latitude EnergyC    MC    SN\n",
      "PC13 -0.45     -0.34    -0.23    0.26 -0.55 -0.21\n",
      "[1] 0.84\n",
      "     HomeS Gender Ethnic  Educ EnergyC SubNorm    SN HabitG\n",
      "PC14  0.31  -0.27  -0.24 -0.21    0.21    0.47 -0.46  -0.34\n",
      "[1] 0.87\n",
      "      Age Political Educ EnergyC  Atti SubNorm    SN HabitG HabitC\n",
      "PC15 0.23      0.21 0.23   -0.26 -0.38    0.52 -0.22   0.26  -0.34\n",
      "[1] 0.9\n",
      "     HomeS OwnRent SqftCate Income Educ ComfNS HabitC\n",
      "PC16 -0.38    0.23     0.24  -0.56  0.3   0.24   0.37\n",
      "[1] 0.92\n",
      "      Age OwnRent HabitG\n",
      "PC17 0.42   -0.63  -0.26\n",
      "[1] 0.95\n",
      "     HomeS OwnRent SqftCate Income Educ   MC SubNorm HabitG HabitC\n",
      "PC18  0.29   -0.37     0.51  -0.31 0.24 -0.2   -0.23    0.3  -0.27\n",
      "[1] 0.97\n",
      "      Age Gender SqftCate HouseholdS Educ    MC Atti\n",
      "PC19 0.23  -0.27     -0.5       0.57 0.21 -0.25 0.22\n",
      "[1] 0.99\n",
      "       Age Latitude EnergyC Atti\n",
      "PC20 -0.21     0.22   -0.61  0.6\n"
     ]
    }
   ],
   "source": [
    "res<-prcomp(data2, retx=F,scale=T)$rotation[,1:20];\n",
    "resAbs <- res;\n",
    "resAbs[res<0] <- -res[res<0];\n",
    "z <- cumsum(prcomp(data2, retx=F,scale=T)$sdev^2)/\n",
    "     sum(prcomp(data2, retx=F,scale=T)$sdev^2)\n",
    "\n",
    "for (i in 1:20){\n",
    "  print(z[i]);\n",
    "  print(t(res[resAbs[,i]>.2,i,drop=FALSE]));\n",
    "}\n"
   ]
  },
  {
   "cell_type": "code",
   "execution_count": 70,
   "metadata": {
    "collapsed": false
   },
   "outputs": [
    {
     "data": {
      "image/png": "[encoded data removed]",
      "text/plain": [
       "plot without title"
      ]
     },
     "metadata": {},
     "output_type": "display_data"
    }
   ],
   "source": [
    "plot(1:dim(data2)[2],cumsum(prcomp(data2, retx=F,scale=T)$sdev^2)/\n",
    "     sum(prcomp(data2, retx=F,scale=T)$sdev^2),\n",
    "     ylim=c(0,1),xlab=\"Number of coponents\",\n",
    "     ylab=\"Fraction of variance\");"
   ]
  },
  {
   "cell_type": "code",
   "execution_count": 71,
   "metadata": {
    "collapsed": true
   },
   "outputs": [],
   "source": [
    "res <- c();\n",
    "vnam <- names(data2);\n",
    "for (i in 2:dim(data2)[2]){\n",
    "  fmla <- as.formula(paste(vnam[i],paste(vnam[-c(1,i)],collapse=\"+\"),sep=\"~\"));\n",
    "  res <- rbind(res,c(i,round(summary(lm(fmla,data=data2))$r.squared,2)));\n",
    "}"
   ]
  },
  {
   "cell_type": "code",
   "execution_count": 72,
   "metadata": {
    "collapsed": false
   },
   "outputs": [
    {
     "data": {
      "text/html": [
       "<table>\n",
       "<tbody>\n",
       "\t<tr><th scope=row>Summer_avg</th><td>21  </td><td>0.48</td></tr>\n",
       "\t<tr><th scope=row>Latitude</th><td>12  </td><td>0.46</td></tr>\n",
       "\t<tr><th scope=row>Atti</th><td>16  </td><td>0.45</td></tr>\n",
       "\t<tr><th scope=row>EnergyC</th><td>13  </td><td>0.42</td></tr>\n",
       "\t<tr><th scope=row>SqftCate</th><td> 6  </td><td>0.35</td></tr>\n",
       "\t<tr><th scope=row>OwnRent</th><td> 5  </td><td>0.31</td></tr>\n",
       "\t<tr><th scope=row>HouseholdS</th><td> 7  </td><td>0.27</td></tr>\n",
       "\t<tr><th scope=row>Income</th><td>10  </td><td>0.26</td></tr>\n",
       "\t<tr><th scope=row>SubNorm</th><td>17  </td><td>0.25</td></tr>\n",
       "\t<tr><th scope=row>MC</th><td>14  </td><td>0.23</td></tr>\n",
       "\t<tr><th scope=row>HabitG</th><td>19  </td><td>0.23</td></tr>\n",
       "\t<tr><th scope=row>Age</th><td> 3  </td><td>0.21</td></tr>\n",
       "\t<tr><th scope=row>HabitC</th><td>20  </td><td>0.19</td></tr>\n",
       "\t<tr><th scope=row>Educ</th><td>11  </td><td>0.17</td></tr>\n",
       "\t<tr><th scope=row>Gender</th><td> 4  </td><td>0.16</td></tr>\n",
       "\t<tr><th scope=row>Political</th><td> 8  </td><td>0.15</td></tr>\n",
       "\t<tr><th scope=row>SN</th><td>18  </td><td>0.15</td></tr>\n",
       "\t<tr><th scope=row>ComfNS</th><td>15  </td><td>0.10</td></tr>\n",
       "\t<tr><th scope=row>Ethnic</th><td> 9  </td><td>0.07</td></tr>\n",
       "\t<tr><th scope=row>IncAwayS</th><td> 2  </td><td>0.05</td></tr>\n",
       "</tbody>\n",
       "</table>\n"
      ],
      "text/latex": [
       "\\begin{tabular}{r|ll}\n",
       "\tSummer\\_avg & 21   & 0.48\\\\\n",
       "\tLatitude & 12   & 0.46\\\\\n",
       "\tAtti & 16   & 0.45\\\\\n",
       "\tEnergyC & 13   & 0.42\\\\\n",
       "\tSqftCate &  6   & 0.35\\\\\n",
       "\tOwnRent &  5   & 0.31\\\\\n",
       "\tHouseholdS &  7   & 0.27\\\\\n",
       "\tIncome & 10   & 0.26\\\\\n",
       "\tSubNorm & 17   & 0.25\\\\\n",
       "\tMC & 14   & 0.23\\\\\n",
       "\tHabitG & 19   & 0.23\\\\\n",
       "\tAge &  3   & 0.21\\\\\n",
       "\tHabitC & 20   & 0.19\\\\\n",
       "\tEduc & 11   & 0.17\\\\\n",
       "\tGender &  4   & 0.16\\\\\n",
       "\tPolitical &  8   & 0.15\\\\\n",
       "\tSN & 18   & 0.15\\\\\n",
       "\tComfNS & 15   & 0.10\\\\\n",
       "\tEthnic &  9   & 0.07\\\\\n",
       "\tIncAwayS &  2   & 0.05\\\\\n",
       "\\end{tabular}\n"
      ],
      "text/markdown": [
       "1. 21\n",
       "2. 12\n",
       "3. 16\n",
       "4. 13\n",
       "5. 6\n",
       "6. 5\n",
       "7. 7\n",
       "8. 10\n",
       "9. 17\n",
       "10. 14\n",
       "11. 19\n",
       "12. 3\n",
       "13. 20\n",
       "14. 11\n",
       "15. 4\n",
       "16. 8\n",
       "17. 18\n",
       "18. 15\n",
       "19. 9\n",
       "20. 2\n",
       "21. 0.48\n",
       "22. 0.46\n",
       "23. 0.45\n",
       "24. 0.42\n",
       "25. 0.35\n",
       "26. 0.31\n",
       "27. 0.27\n",
       "28. 0.26\n",
       "29. 0.25\n",
       "30. 0.23\n",
       "31. 0.23\n",
       "32. 0.21\n",
       "33. 0.19\n",
       "34. 0.17\n",
       "35. 0.16\n",
       "36. 0.15\n",
       "37. 0.15\n",
       "38. 0.1\n",
       "39. 0.07\n",
       "40. 0.05\n",
       "\n",
       "\n"
      ],
      "text/plain": [
       "           [,1] [,2]\n",
       "Summer_avg 21   0.48\n",
       "Latitude   12   0.46\n",
       "Atti       16   0.45\n",
       "EnergyC    13   0.42\n",
       "SqftCate    6   0.35\n",
       "OwnRent     5   0.31\n",
       "HouseholdS  7   0.27\n",
       "Income     10   0.26\n",
       "SubNorm    17   0.25\n",
       "MC         14   0.23\n",
       "HabitG     19   0.23\n",
       "Age         3   0.21\n",
       "HabitC     20   0.19\n",
       "Educ       11   0.17\n",
       "Gender      4   0.16\n",
       "Political   8   0.15\n",
       "SN         18   0.15\n",
       "ComfNS     15   0.10\n",
       "Ethnic      9   0.07\n",
       "IncAwayS    2   0.05"
      ]
     },
     "metadata": {},
     "output_type": "display_data"
    }
   ],
   "source": [
    "row.names(res) <- vnam[res[,1]];\n",
    "o = order(-res[,2]);\n",
    "res[o,][res[o,2]<.7,]"
   ]
  },
  {
   "cell_type": "code",
   "execution_count": 73,
   "metadata": {
    "collapsed": false
   },
   "outputs": [],
   "source": [
    "IndepPred <- row.names(res[o,][res[o,2]<.7,])"
   ]
  },
  {
   "cell_type": "code",
   "execution_count": 74,
   "metadata": {
    "collapsed": false
   },
   "outputs": [],
   "source": [
    "#IndepPred = c('Atti', 'EnergyC', 'SqftCate', 'OwnRent', 'MC', 'HouseholdS', 'Income', 'SubNorm', 'HabitC', 'Educ', 'PBC', 'Political', 'Gender', 'ComfNS', 'Latitude', 'Ethnic')\n",
    "IndepPred = c('Age', 'Gender', 'OwnRent', 'SqftCate', 'HouseholdS', 'Political', 'Ethnic', 'Income', 'Educ', 'EnergyC', 'MC', 'ComfNS', 'HabitC', 'Summer_avg')"
   ]
  },
  {
   "cell_type": "code",
   "execution_count": 75,
   "metadata": {
    "collapsed": true
   },
   "outputs": [],
   "source": [
    "fmla <- as.formula(paste(\"IncAwayS\",paste(IndepPred,collapse=\"+\"),sep=\"~\"));"
   ]
  },
  {
   "cell_type": "code",
   "execution_count": 76,
   "metadata": {
    "collapsed": false
   },
   "outputs": [
    {
     "data": {
      "text/plain": [
       "\n",
       "  1   2   3   4   5   6   7   8  99 \n",
       " 35  36  54 125  76  58  83  63   4 "
      ]
     },
     "metadata": {},
     "output_type": "display_data"
    }
   ],
   "source": [
    "table(data2[,\"IncAwayS\"])"
   ]
  },
  {
   "cell_type": "code",
   "execution_count": 77,
   "metadata": {
    "collapsed": false
   },
   "outputs": [
    {
     "data": {
      "text/plain": [
       "\n",
       "Call:\n",
       "lm(formula = fmla, data = data2)\n",
       "\n",
       "Residuals:\n",
       "   Min     1Q Median     3Q    Max \n",
       " -8.31  -2.48  -0.61   1.32  91.31 \n",
       "\n",
       "Coefficients:\n",
       "            Estimate Std. Error t value Pr(>|t|)   \n",
       "(Intercept)  11.8748     3.7057    3.20   0.0014 **\n",
       "Age          -0.0167     0.0363   -0.46   0.6462   \n",
       "Gender        0.1017     0.7807    0.13   0.8964   \n",
       "OwnRent       1.0088     0.8325    1.21   0.2261   \n",
       "SqftCate      0.1670     0.4040    0.41   0.6795   \n",
       "HouseholdS    0.1079     0.3382    0.32   0.7498   \n",
       "Political    -0.4194     0.4651   -0.90   0.3676   \n",
       "Ethnic        0.7360     1.0604    0.69   0.4880   \n",
       "Income        0.0867     0.2163    0.40   0.6888   \n",
       "Educ         -0.4677     0.3497   -1.34   0.1816   \n",
       "EnergyC      -0.1227     0.2878   -0.43   0.6700   \n",
       "MC            0.1609     0.3590    0.45   0.6541   \n",
       "ComfNS       -0.6975     0.2643   -2.64   0.0086 **\n",
       "HabitC       -0.4966     0.2671   -1.86   0.0635 . \n",
       "Summer_avg2  -0.9585     1.0943   -0.88   0.3815   \n",
       "Summer_avg3  -1.4483     0.9266   -1.56   0.1187   \n",
       "---\n",
       "Signif. codes:  0 '***' 0.001 '**' 0.01 '*' 0.05 '.' 0.1 ' ' 1\n",
       "\n",
       "Residual standard error: 8.3 on 518 degrees of freedom\n",
       "Multiple R-squared:  0.0415,\tAdjusted R-squared:  0.0137 \n",
       "F-statistic: 1.49 on 15 and 518 DF,  p-value: 0.102\n"
      ]
     },
     "metadata": {},
     "output_type": "display_data"
    }
   ],
   "source": [
    "data2$Summer_avg = as.factor(data2$Summer_avg)\n",
    "mod = lm(fmla,data=data2)\n",
    "summary(mod)"
   ]
  },
  {
   "cell_type": "code",
   "execution_count": 44,
   "metadata": {
    "collapsed": false
   },
   "outputs": [
    {
     "data": {
      "text/plain": [
       "\n",
       "Call:\n",
       "lm(formula = fmla, data = data2, subset = data2$Summer_avg != \n",
       "    1)\n",
       "\n",
       "Residuals:\n",
       "   Min     1Q Median     3Q    Max \n",
       " -6.01  -1.72  -0.26   1.44  88.74 \n",
       "\n",
       "Coefficients:\n",
       "             Estimate Std. Error t value Pr(>|t|)    \n",
       "(Intercept)  9.55e+00   2.16e+00    4.43  1.2e-05 ***\n",
       "Age          1.70e-02   2.17e-02    0.78  0.43397    \n",
       "Gender      -3.81e-02   4.59e-01   -0.08  0.93388    \n",
       "OwnRent      1.05e-01   5.01e-01    0.21  0.83468    \n",
       "SqftCate     4.46e-01   2.47e-01    1.81  0.07121 .  \n",
       "HouseholdS  -3.79e-01   2.02e-01   -1.87  0.06180 .  \n",
       "Political   -2.76e-01   2.86e-01   -0.97  0.33402    \n",
       "Ethnic      -2.74e-01   5.76e-01   -0.48  0.63419    \n",
       "Income      -4.52e-06   1.26e-01    0.00  0.99997    \n",
       "Educ        -1.77e-01   2.12e-01   -0.84  0.40336    \n",
       "EnergyC     -3.73e-01   1.75e-01   -2.13  0.03350 *  \n",
       "MC           1.35e-01   2.15e-01    0.63  0.52985    \n",
       "ComfNS       7.30e-02   1.58e-01    0.46  0.64476    \n",
       "HabitC      -5.32e-01   1.58e-01   -3.36  0.00085 ***\n",
       "Summer_avg3 -7.23e-01   5.04e-01   -1.44  0.15192    \n",
       "---\n",
       "Signif. codes:  0 '***' 0.001 '**' 0.01 '*' 0.05 '.' 0.1 ' ' 1\n",
       "\n",
       "Residual standard error: 4.7 on 464 degrees of freedom\n",
       "Multiple R-squared:  0.0661,\tAdjusted R-squared:  0.0379 \n",
       "F-statistic: 2.34 on 14 and 464 DF,  p-value: 0.00385\n"
      ]
     },
     "metadata": {},
     "output_type": "display_data"
    }
   ],
   "source": [
    "mod = lm(fmla,data=data2,subs=data2$Summer_avg!=1)\n",
    "summary(mod)"
   ]
  },
  {
   "cell_type": "code",
   "execution_count": 37,
   "metadata": {
    "collapsed": false
   },
   "outputs": [
    {
     "data": {
      "text/plain": [
       "\n",
       "Call:\n",
       "lm(formula = fmla, data = data2, subset = data2$Latitude > 37)\n",
       "\n",
       "Residuals:\n",
       "   Min     1Q Median     3Q    Max \n",
       "-12.37  -3.29  -0.91   1.24  90.19 \n",
       "\n",
       "Coefficients:\n",
       "            Estimate Std. Error t value Pr(>|t|)  \n",
       "(Intercept)   8.1143     5.6115    1.45    0.149  \n",
       "Age          -0.0237     0.0518   -0.46    0.647  \n",
       "Gender        1.2469     1.1311    1.10    0.271  \n",
       "OwnRent       1.7620     1.2681    1.39    0.166  \n",
       "SqftCate     -0.4459     0.5896   -0.76    0.450  \n",
       "HouseholdS    0.1455     0.5357    0.27    0.786  \n",
       "Political    -0.9334     0.6786   -1.38    0.170  \n",
       "Ethnic        1.5794     1.6072    0.98    0.326  \n",
       "Income        0.3431     0.3208    1.07    0.285  \n",
       "Educ         -0.5281     0.5133   -1.03    0.304  \n",
       "EnergyC       0.0649     0.4191    0.15    0.877  \n",
       "MC            0.0665     0.5090    0.13    0.896  \n",
       "ComfNS       -0.9266     0.3819   -2.43    0.016 *\n",
       "HabitC        0.0864     0.3969    0.22    0.828  \n",
       "Summer_avg   -0.7407     0.6767   -1.09    0.274  \n",
       "---\n",
       "Signif. codes:  0 '***' 0.001 '**' 0.01 '*' 0.05 '.' 0.1 ' ' 1\n",
       "\n",
       "Residual standard error: 10 on 346 degrees of freedom\n",
       "Multiple R-squared:  0.0517,\tAdjusted R-squared:  0.0133 \n",
       "F-statistic: 1.35 on 14 and 346 DF,  p-value: 0.177\n"
      ]
     },
     "metadata": {},
     "output_type": "display_data"
    }
   ],
   "source": [
    "mod = lm(fmla,data=data2,subs=data2$Latitude>37)\n",
    "summary(mod)"
   ]
  },
  {
   "cell_type": "code",
   "execution_count": 38,
   "metadata": {
    "collapsed": false
   },
   "outputs": [
    {
     "data": {
      "text/plain": [
       "\n",
       "Call:\n",
       "lm(formula = fmla, data = data2, subset = data2$Summer_avg == \n",
       "    3)\n",
       "\n",
       "Residuals:\n",
       "   Min     1Q Median     3Q    Max \n",
       "-4.731 -1.472 -0.015  1.564  4.472 \n",
       "\n",
       "Coefficients: (1 not defined because of singularities)\n",
       "            Estimate Std. Error t value Pr(>|t|)    \n",
       "(Intercept)  3.33687    1.13470    2.94   0.0035 ** \n",
       "Age          0.00586    0.01145    0.51   0.6089    \n",
       "Gender       0.08341    0.23559    0.35   0.7235    \n",
       "OwnRent      0.07440    0.25915    0.29   0.7742    \n",
       "SqftCate     0.20249    0.12676    1.60   0.1111    \n",
       "HouseholdS  -0.09541    0.10007   -0.95   0.3411    \n",
       "Political   -0.01799    0.14734   -0.12   0.9029    \n",
       "Ethnic      -0.28108    0.27609   -1.02   0.3094    \n",
       "Income      -0.00703    0.06299   -0.11   0.9112    \n",
       "Educ         0.09791    0.10637    0.92   0.3580    \n",
       "EnergyC     -0.10352    0.08572   -1.21   0.2280    \n",
       "MC          -0.07937    0.11059   -0.72   0.4734    \n",
       "ComfNS       0.41295    0.08356    4.94  1.2e-06 ***\n",
       "HabitC      -0.09613    0.08173   -1.18   0.2404    \n",
       "Summer_avg        NA         NA      NA       NA    \n",
       "---\n",
       "Signif. codes:  0 '***' 0.001 '**' 0.01 '*' 0.05 '.' 0.1 ' ' 1\n",
       "\n",
       "Residual standard error: 2 on 336 degrees of freedom\n",
       "Multiple R-squared:  0.108,\tAdjusted R-squared:  0.0734 \n",
       "F-statistic: 3.13 on 13 and 336 DF,  p-value: 0.000202\n"
      ]
     },
     "metadata": {},
     "output_type": "display_data"
    }
   ],
   "source": [
    "#17 states with highest average temp\n",
    "mod = lm(fmla,data=data2,subs=data2$Summer_avg==3)\n",
    "summary(mod)"
   ]
  },
  {
   "cell_type": "code",
   "execution_count": 39,
   "metadata": {
    "collapsed": false
   },
   "outputs": [
    {
     "data": {
      "text/plain": [
       "\n",
       "Call:\n",
       "lm(formula = fmla, data = data2, subset = data2$Summer_avg == \n",
       "    2)\n",
       "\n",
       "Residuals:\n",
       "   Min     1Q Median     3Q    Max \n",
       "-10.06  -3.44   0.03   1.90  75.14 \n",
       "\n",
       "Coefficients: (1 not defined because of singularities)\n",
       "            Estimate Std. Error t value Pr(>|t|)    \n",
       "(Intercept)  23.1836     6.8521    3.38  0.00098 ***\n",
       "Age           0.0370     0.0697    0.53  0.59671    \n",
       "Gender       -1.0540     1.5561   -0.68  0.49954    \n",
       "OwnRent       1.0685     1.7403    0.61  0.54044    \n",
       "SqftCate      0.8019     0.8418    0.95  0.34275    \n",
       "HouseholdS   -1.3571     0.7523   -1.80  0.07387 .  \n",
       "Political    -0.6309     0.9761   -0.65  0.51932    \n",
       "Ethnic        2.3364     2.5810    0.91  0.36724    \n",
       "Income        0.0602     0.4809    0.13  0.90062    \n",
       "Educ         -0.3285     0.7941   -0.41  0.67992    \n",
       "EnergyC      -1.6398     0.6859   -2.39  0.01844 *  \n",
       "MC            0.6763     0.7191    0.94  0.34895    \n",
       "ComfNS       -0.8643     0.5187   -1.67  0.09837 .  \n",
       "HabitC       -1.6722     0.5604   -2.98  0.00348 ** \n",
       "Summer_avg        NA         NA      NA       NA    \n",
       "---\n",
       "Signif. codes:  0 '***' 0.001 '**' 0.01 '*' 0.05 '.' 0.1 ' ' 1\n",
       "\n",
       "Residual standard error: 8.1 on 115 degrees of freedom\n",
       "Multiple R-squared:  0.196,\tAdjusted R-squared:  0.106 \n",
       "F-statistic: 2.16 on 13 and 115 DF,  p-value: 0.0154\n"
      ]
     },
     "metadata": {},
     "output_type": "display_data"
    }
   ],
   "source": [
    "#17 middle states according to average summer temp\n",
    "mod = lm(fmla,data=data2,subs=data2$Summer_avg==2)\n",
    "summary(mod)"
   ]
  },
  {
   "cell_type": "code",
   "execution_count": 40,
   "metadata": {
    "collapsed": false
   },
   "outputs": [
    {
     "data": {
      "text/plain": [
       "\n",
       "Call:\n",
       "lm(formula = fmla, data = data2, subset = data2$Summer_avg == \n",
       "    1)\n",
       "\n",
       "Residuals:\n",
       "   Min     1Q Median     3Q    Max \n",
       "-20.76  -5.53  -1.80   1.97  85.32 \n",
       "\n",
       "Coefficients: (1 not defined because of singularities)\n",
       "            Estimate Std. Error t value Pr(>|t|)   \n",
       "(Intercept)  10.6819    13.3986    0.80   0.4267   \n",
       "Age          -0.0569     0.1196   -0.48   0.6351   \n",
       "Gender        1.3350     2.7095    0.49   0.6230   \n",
       "OwnRent       4.4954     2.9221    1.54   0.1262   \n",
       "SqftCate     -0.6224     1.3209   -0.47   0.6382   \n",
       "HouseholdS   -0.1621     1.2977   -0.12   0.9008   \n",
       "Political    -1.4320     1.5688   -0.91   0.3629   \n",
       "Ethnic        2.4010     3.9790    0.60   0.5472   \n",
       "Income        0.7337     0.7781    0.94   0.3473   \n",
       "Educ         -1.0233     1.2330   -0.83   0.4080   \n",
       "EnergyC       0.5455     1.0132    0.54   0.5912   \n",
       "MC           -0.2983     1.2807   -0.23   0.8162   \n",
       "ComfNS       -2.3564     0.8398   -2.81   0.0057 **\n",
       "HabitC        0.4024     0.9486    0.42   0.6720   \n",
       "Summer_avg        NA         NA      NA       NA   \n",
       "---\n",
       "Signif. codes:  0 '***' 0.001 '**' 0.01 '*' 0.05 '.' 0.1 ' ' 1\n",
       "\n",
       "Residual standard error: 15 on 139 degrees of freedom\n",
       "Multiple R-squared:  0.106,\tAdjusted R-squared:  0.0227 \n",
       "F-statistic: 1.27 on 13 and 139 DF,  p-value: 0.237\n"
      ]
     },
     "metadata": {},
     "output_type": "display_data"
    }
   ],
   "source": [
    "#bottom 17 states according to average summer temp\n",
    "mod = lm(fmla,data=data2,subs=data2$Summer_avg==1)\n",
    "summary(mod)"
   ]
  },
  {
   "cell_type": "code",
   "execution_count": 29,
   "metadata": {
    "collapsed": false
   },
   "outputs": [
    {
     "data": {
      "text/html": [
       "<table>\n",
       "<thead><tr><th></th><th scope=col>Df</th><th scope=col>Sum Sq</th><th scope=col>Mean Sq</th><th scope=col>F value</th><th scope=col>Pr(&gt;F)</th></tr></thead>\n",
       "<tbody>\n",
       "\t<tr><th scope=row>Age</th><td>  1    </td><td>1.8e+00</td><td>   1.79</td><td> 0.0084</td><td>0.92706</td></tr>\n",
       "\t<tr><th scope=row>Gender</th><td>  1    </td><td>1.3e+02</td><td> 131.93</td><td> 0.6205</td><td>0.43220</td></tr>\n",
       "\t<tr><th scope=row>OwnRent</th><td>  1    </td><td>9.4e+02</td><td> 935.91</td><td> 4.4022</td><td>0.03772</td></tr>\n",
       "\t<tr><th scope=row>SqftCate</th><td>  1    </td><td>2.6e+00</td><td>   2.65</td><td> 0.0125</td><td>0.91127</td></tr>\n",
       "\t<tr><th scope=row>HouseholdS</th><td>  1    </td><td>1.4e+02</td><td> 138.18</td><td> 0.6500</td><td>0.42151</td></tr>\n",
       "\t<tr><th scope=row>Political</th><td>  1    </td><td>1.5e+02</td><td> 153.60</td><td> 0.7225</td><td>0.39680</td></tr>\n",
       "\t<tr><th scope=row>Ethnic</th><td>  1    </td><td>1.3e+02</td><td> 130.38</td><td> 0.6133</td><td>0.43491</td></tr>\n",
       "\t<tr><th scope=row>Income</th><td>  1    </td><td>5.6e+01</td><td>  56.02</td><td> 0.2635</td><td>0.60856</td></tr>\n",
       "\t<tr><th scope=row>Educ</th><td>  1    </td><td>6.2e+01</td><td>  62.04</td><td> 0.2918</td><td>0.58994</td></tr>\n",
       "\t<tr><th scope=row>Latitude</th><td>  1    </td><td>3.1e+03</td><td>3069.66</td><td>14.4386</td><td>0.00022</td></tr>\n",
       "\t<tr><th scope=row>EnergyC</th><td>  1    </td><td>1.6e+02</td><td> 159.52</td><td> 0.7503</td><td>0.38788</td></tr>\n",
       "\t<tr><th scope=row>MC</th><td>  1    </td><td>4.3e-01</td><td>   0.43</td><td> 0.0020</td><td>0.96424</td></tr>\n",
       "\t<tr><th scope=row>ComfNS</th><td>  1    </td><td>1.1e+03</td><td>1130.40</td><td> 5.3170</td><td>0.02261</td></tr>\n",
       "\t<tr><th scope=row>HabitC</th><td>  1    </td><td>1.2e+01</td><td>  11.56</td><td> 0.0544</td><td>0.81598</td></tr>\n",
       "\t<tr><th scope=row>Residuals</th><td>138    </td><td>2.9e+04</td><td> 212.60</td><td>     NA</td><td>     NA</td></tr>\n",
       "</tbody>\n",
       "</table>\n"
      ],
      "text/latex": [
       "\\begin{tabular}{r|lllll}\n",
       "  & Df & Sum Sq & Mean Sq & F value & Pr(>F)\\\\\n",
       "\\hline\n",
       "\tAge &   1     & 1.8e+00 &    1.79 &  0.0084 & 0.92706\\\\\n",
       "\tGender &   1     & 1.3e+02 &  131.93 &  0.6205 & 0.43220\\\\\n",
       "\tOwnRent &   1     & 9.4e+02 &  935.91 &  4.4022 & 0.03772\\\\\n",
       "\tSqftCate &   1     & 2.6e+00 &    2.65 &  0.0125 & 0.91127\\\\\n",
       "\tHouseholdS &   1     & 1.4e+02 &  138.18 &  0.6500 & 0.42151\\\\\n",
       "\tPolitical &   1     & 1.5e+02 &  153.60 &  0.7225 & 0.39680\\\\\n",
       "\tEthnic &   1     & 1.3e+02 &  130.38 &  0.6133 & 0.43491\\\\\n",
       "\tIncome &   1     & 5.6e+01 &   56.02 &  0.2635 & 0.60856\\\\\n",
       "\tEduc &   1     & 6.2e+01 &   62.04 &  0.2918 & 0.58994\\\\\n",
       "\tLatitude &   1     & 3.1e+03 & 3069.66 & 14.4386 & 0.00022\\\\\n",
       "\tEnergyC &   1     & 1.6e+02 &  159.52 &  0.7503 & 0.38788\\\\\n",
       "\tMC &   1     & 4.3e-01 &    0.43 &  0.0020 & 0.96424\\\\\n",
       "\tComfNS &   1     & 1.1e+03 & 1130.40 &  5.3170 & 0.02261\\\\\n",
       "\tHabitC &   1     & 1.2e+01 &   11.56 &  0.0544 & 0.81598\\\\\n",
       "\tResiduals & 138     & 2.9e+04 &  212.60 &      NA &      NA\\\\\n",
       "\\end{tabular}\n"
      ],
      "text/plain": [
       "           Df  Sum Sq  Mean Sq F value Pr(>F) \n",
       "Age          1 1.8e+00    1.79  0.0084 0.92706\n",
       "Gender       1 1.3e+02  131.93  0.6205 0.43220\n",
       "OwnRent      1 9.4e+02  935.91  4.4022 0.03772\n",
       "SqftCate     1 2.6e+00    2.65  0.0125 0.91127\n",
       "HouseholdS   1 1.4e+02  138.18  0.6500 0.42151\n",
       "Political    1 1.5e+02  153.60  0.7225 0.39680\n",
       "Ethnic       1 1.3e+02  130.38  0.6133 0.43491\n",
       "Income       1 5.6e+01   56.02  0.2635 0.60856\n",
       "Educ         1 6.2e+01   62.04  0.2918 0.58994\n",
       "Latitude     1 3.1e+03 3069.66 14.4386 0.00022\n",
       "EnergyC      1 1.6e+02  159.52  0.7503 0.38788\n",
       "MC           1 4.3e-01    0.43  0.0020 0.96424\n",
       "ComfNS       1 1.1e+03 1130.40  5.3170 0.02261\n",
       "HabitC       1 1.2e+01   11.56  0.0544 0.81598\n",
       "Residuals  138 2.9e+04  212.60      NA      NA"
      ]
     },
     "metadata": {},
     "output_type": "display_data"
    }
   ],
   "source": [
    "anova(mod)"
   ]
  },
  {
   "cell_type": "code",
   "execution_count": 30,
   "metadata": {
    "collapsed": false
   },
   "outputs": [
    {
     "name": "stdout",
     "output_type": "stream",
     "text": [
      "\n",
      "Call:\n",
      "factanal(x = data2, factors = 2, rotation = \"varimax\")\n",
      "\n",
      "Uniquenesses:\n",
      "     HomeS   IncAwayS        Age     Gender    OwnRent   SqftCate HouseholdS \n",
      "      0.84       0.97       0.99       0.92       1.00       1.00       0.99 \n",
      " Political     Ethnic     Income       Educ   Latitude    EnergyC         MC \n",
      "      0.94       0.97       0.99       0.98       0.35       0.52       0.78 \n",
      "    ComfNS       Atti    SubNorm         SN     HabitG     HabitC Summer_avg \n",
      "      0.93       0.43       0.75       0.92       0.86       0.89       0.31 \n",
      "\n",
      "Loadings:\n",
      "           Factor1 Factor2\n",
      "EnergyC     0.68          \n",
      "Atti        0.73          \n",
      "Latitude           -0.79  \n",
      "Summer_avg          0.82  \n",
      "HomeS               0.40  \n",
      "IncAwayS                  \n",
      "Age                       \n",
      "Gender                    \n",
      "OwnRent                   \n",
      "SqftCate                  \n",
      "HouseholdS                \n",
      "Political                 \n",
      "Ethnic                    \n",
      "Income                    \n",
      "Educ                      \n",
      "MC          0.42          \n",
      "ComfNS                    \n",
      "SubNorm     0.48          \n",
      "SN                        \n",
      "HabitG      0.36          \n",
      "HabitC      0.32          \n",
      "\n",
      "               Factor1 Factor2\n",
      "SS loadings       1.97    1.69\n",
      "Proportion Var    0.09    0.08\n",
      "Cumulative Var    0.09    0.17\n",
      "\n",
      "Test of the hypothesis that 2 factors are sufficient.\n",
      "The chi square statistic is 1032 on 169 degrees of freedom.\n",
      "The p-value is 1e-123 \n"
     ]
    }
   ],
   "source": [
    "fit <- factanal(data2, 2, rotation=\"varimax\")\n",
    "print(fit, digits=2, cutoff=.3, sort=TRUE)"
   ]
  },
  {
   "cell_type": "code",
   "execution_count": 31,
   "metadata": {
    "collapsed": false
   },
   "outputs": [
    {
     "ename": "ERROR",
     "evalue": "Error in eval(expr, envir, enclos): object 'IncHomeS' not found\n",
     "output_type": "error",
     "traceback": [
      "Error in eval(expr, envir, enclos): object 'IncHomeS' not found\nTraceback:\n",
      "1. lm(IncHomeS ~ ComfNS + EnergyC + Age + Ethnic + MC + Political + \n .     Educ, data = data2)",
      "2. eval(mf, parent.frame())",
      "3. eval(expr, envir, enclos)",
      "4. stats::model.frame(formula = IncHomeS ~ ComfNS + EnergyC + Age + \n .     Ethnic + MC + Political + Educ, data = data2, drop.unused.levels = TRUE)",
      "5. model.frame.default(formula = IncHomeS ~ ComfNS + EnergyC + Age + \n .     Ethnic + MC + Political + Educ, data = data2, drop.unused.levels = TRUE)",
      "6. eval(predvars, data, env)",
      "7. eval(expr, envir, enclos)"
     ]
    }
   ],
   "source": [
    "mod = lm(IncHomeS~ComfNS+EnergyC+Age+Ethnic+MC+Political+Educ,data=data2)\n",
    "summary(mod)\n",
    "#plot(mod)"
   ]
  },
  {
   "cell_type": "code",
   "execution_count": null,
   "metadata": {
    "collapsed": false
   },
   "outputs": [],
   "source": [
    "plot(mod$residuals,data2$IncHomeS)\n",
    "z<-tapply(mod$residuals,data2$IncHomeS,mean)\n",
    "points(z,1:8,pch=\"*\",cex=3)"
   ]
  },
  {
   "cell_type": "code",
   "execution_count": null,
   "metadata": {
    "collapsed": false
   },
   "outputs": [],
   "source": [
    "mod = lm(IncHomeS~ComfNS+Age,data=data2)\n",
    "summary(mod)"
   ]
  },
  {
   "cell_type": "code",
   "execution_count": null,
   "metadata": {
    "collapsed": false
   },
   "outputs": [],
   "source": [
    "#Probably overfitting\n",
    "mod1 = lm(IncHomeS~ComfNS3+Age+HabitC2,data=data2)\n",
    "summary(mod1)"
   ]
  },
  {
   "cell_type": "code",
   "execution_count": null,
   "metadata": {
    "collapsed": false
   },
   "outputs": [],
   "source": [
    "library(mgcv)\n"
   ]
  },
  {
   "cell_type": "code",
   "execution_count": null,
   "metadata": {
    "collapsed": false
   },
   "outputs": [],
   "source": [
    "mGam = gam(IncHomeS~I(ComfNS3<=3)+I(ComfNS3==7)+s(Age),data=data2)\n",
    "summary(mGam)\n"
   ]
  },
  {
   "cell_type": "code",
   "execution_count": null,
   "metadata": {
    "collapsed": false
   },
   "outputs": [],
   "source": [
    "plot(mGam)"
   ]
  },
  {
   "cell_type": "code",
   "execution_count": null,
   "metadata": {
    "collapsed": false
   },
   "outputs": [],
   "source": [
    "mod1 = lm(IncHomeS~I(ComfNS3<=3)+I(ComfNS3==7)+Age+HabitC2+ Political,data=data2)\n",
    "summary(mod1)\n"
   ]
  },
  {
   "cell_type": "code",
   "execution_count": null,
   "metadata": {
    "collapsed": false
   },
   "outputs": [],
   "source": [
    "anova(mod1)"
   ]
  },
  {
   "cell_type": "code",
   "execution_count": null,
   "metadata": {
    "collapsed": false
   },
   "outputs": [],
   "source": [
    "drop1(mod1)"
   ]
  },
  {
   "cell_type": "code",
   "execution_count": null,
   "metadata": {
    "collapsed": false
   },
   "outputs": [],
   "source": [
    "library(bnlearn)"
   ]
  },
  {
   "cell_type": "code",
   "execution_count": null,
   "metadata": {
    "collapsed": false
   },
   "outputs": [],
   "source": [
    "dd2 = data2[,c('IncHomeS', 'ComfNS3','Age','HabitC2')]\n",
    "for (i in 1:4) dd2[,i] <- as.double(dd2[,i])\n",
    "dag2 = tabu(dd2)\n",
    "plot(dag2)"
   ]
  },
  {
   "cell_type": "code",
   "execution_count": null,
   "metadata": {
    "collapsed": false
   },
   "outputs": [],
   "source": [
    "fmlaF <- as.formula(paste(\"IncHomeS\",paste(IVS,collapse=\"+\"),sep=\"~\"));\n",
    "mod = lm(fmlaF,data=data2)\n",
    "summary(mod)"
   ]
  },
  {
   "cell_type": "code",
   "execution_count": null,
   "metadata": {
    "collapsed": true
   },
   "outputs": [],
   "source": []
  },
  {
   "cell_type": "code",
   "execution_count": null,
   "metadata": {
    "collapsed": false
   },
   "outputs": [],
   "source": [
    "#Probably overfitting\n",
    "mod1 = lm(IncHomeS~ComfNS3+Age+HabitC2+Political+Ethnic+Trust1,data=data2)\n",
    "summary(mod1)"
   ]
  },
  {
   "cell_type": "code",
   "execution_count": null,
   "metadata": {
    "collapsed": false
   },
   "outputs": [],
   "source": [
    "for (i in 1:length(IVS){\n",
    "  fmla <- as.formula(paste(IVS[i],paste(vnam[-c(1,i)],collapse=\"+\"),sep=\"~\"));\n",
    "  res <- rbind(res,c(i,round(summary(lm(fmla,data=data2))$r.squared,2)));\n",
    "}\n",
    "vnam <- (data2);\n",
    "fmlaF <- as.formula(paste(\"Age\",paste(IVS[-\"Age\"],collapse=\"+\"),sep=\"~\"));\n",
    "mod = lm(fmlaF,data=data2)\n",
    "summary(mod)"
   ]
  },
  {
   "cell_type": "code",
   "execution_count": null,
   "metadata": {
    "collapsed": true
   },
   "outputs": [],
   "source": [
    "ind <- 1:length(IVS);names(ind) <- IVS"
   ]
  },
  {
   "cell_type": "code",
   "execution_count": null,
   "metadata": {
    "collapsed": false
   },
   "outputs": [],
   "source": [
    "fmlaF <- as.formula(paste(\"Age\",paste(IVS[-ind[\"Age\"]],collapse=\"+\"),sep=\"~\"));\n",
    "mod = lm(fmlaF,data=data2)\n",
    "res <- summary(mod)$coefficients\n",
    "res[abs(res[,3])>3,]"
   ]
  },
  {
   "cell_type": "code",
   "execution_count": null,
   "metadata": {
    "collapsed": false
   },
   "outputs": [],
   "source": [
    "fmlaF <- as.formula(paste(\"ComfNS3\",paste(IVS[-ind[\"ComfNS3\"]],collapse=\"+\"),sep=\"~\"));\n",
    "mod = lm(fmlaF,data=data2)\n",
    "res <- summary(mod)$coefficients\n",
    "res[abs(res[,3])>3,]"
   ]
  },
  {
   "cell_type": "code",
   "execution_count": null,
   "metadata": {
    "collapsed": false
   },
   "outputs": [],
   "source": [
    "dd2 = data2[,c('IncHomeS', 'ComfNS3','Age','HabitC2',\"Gender\",\"OwnRent\",\"SqftCate\",\n",
    "               \"HouseholdS\",\"Atti3\",\"Atti4\",\"ComfNS1\",\"ComfNS2\")]\n",
    "for (i in 1:12) dd2[,i] <- as.double(dd2[,i])\n",
    "dag2 = tabu(dd2)\n",
    "plot(dag2)"
   ]
  },
  {
   "cell_type": "code",
   "execution_count": null,
   "metadata": {
    "collapsed": true
   },
   "outputs": [],
   "source": []
  }
 ],
 "metadata": {
  "kernelspec": {
   "display_name": "R",
   "language": "R",
   "name": "ir"
  },
  "language_info": {
   "codemirror_mode": "r",
   "file_extension": ".r",
   "mimetype": "text/x-r-source",
   "name": "R",
   "pygments_lexer": "r",
   "version": "3.3.1"
  }
 },
 "nbformat": 4,
 "nbformat_minor": 1
}
