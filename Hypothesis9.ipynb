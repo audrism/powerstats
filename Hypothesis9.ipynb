{
 "cells": [
  {
   "cell_type": "markdown",
   "metadata": {},
   "source": [
    "### What are the types of incentives people are interested\n",
    "Direct payment vs indirect payment"
   ]
  },
  {
   "cell_type": "code",
   "execution_count": 1,
   "metadata": {
    "collapsed": false
   },
   "outputs": [
    {
     "data": {
      "text/html": [
       "<ol class=list-inline>\n",
       "\t<li>'ACYN'</li>\n",
       "\t<li>'Age'</li>\n",
       "\t<li>'Atti'</li>\n",
       "\t<li>'Atti1'</li>\n",
       "\t<li>'Atti2'</li>\n",
       "\t<li>'Atti3'</li>\n",
       "\t<li>'Atti4'</li>\n",
       "\t<li>'Attitude'</li>\n",
       "\t<li>'AwayS'</li>\n",
       "\t<li>'AwaySNY'</li>\n",
       "\t<li>'AwayW'</li>\n",
       "\t<li>'AwayWNY'</li>\n",
       "\t<li>'BillS'</li>\n",
       "\t<li>'BillW'</li>\n",
       "\t<li>'CashYN'</li>\n",
       "\t<li>'City'</li>\n",
       "\t<li>'ComfNS'</li>\n",
       "\t<li>'ComfNS1'</li>\n",
       "\t<li>'ComfNS2'</li>\n",
       "\t<li>'ComfNS3'</li>\n",
       "\t<li>'ComfNW'</li>\n",
       "\t<li>'ComfNW1'</li>\n",
       "\t<li>'ComfNW2'</li>\n",
       "\t<li>'ComfortS'</li>\n",
       "\t<li>'ComfortW'</li>\n",
       "\t<li>'CompR'</li>\n",
       "\t<li>'ControlN1'</li>\n",
       "\t<li>'ControlN2R'</li>\n",
       "\t<li>'ControlN3'</li>\n",
       "\t<li>'ControlN4'</li>\n",
       "\t<li>'ConvB1'</li>\n",
       "\t<li>'ConvB2'</li>\n",
       "\t<li>'ConvB3'</li>\n",
       "\t<li>'ConvB4'</li>\n",
       "\t<li>'DeviceType'</li>\n",
       "\t<li>'Educ'</li>\n",
       "\t<li>'EmerRForm'</li>\n",
       "\t<li>'EnergyC'</li>\n",
       "\t<li>'EnergyC1'</li>\n",
       "\t<li>'EnergyC2'</li>\n",
       "\t<li>'EnergyC3'</li>\n",
       "\t<li>'EnergyC4'</li>\n",
       "\t<li>'Ethnic'</li>\n",
       "\t<li>'Frugal'</li>\n",
       "\t<li>'Frugal1'</li>\n",
       "\t<li>'Frugal2'</li>\n",
       "\t<li>'Frugal3'</li>\n",
       "\t<li>'Gender'</li>\n",
       "\t<li>'HTdevice'</li>\n",
       "\t<li>'HTsource'</li>\n",
       "\t<li>'HabitC'</li>\n",
       "\t<li>'HabitC1'</li>\n",
       "\t<li>'HabitC2'</li>\n",
       "\t<li>'HabitC3'</li>\n",
       "\t<li>'HabitC4'</li>\n",
       "\t<li>'HabitC5'</li>\n",
       "\t<li>'HabitC6'</li>\n",
       "\t<li>'HabitC7'</li>\n",
       "\t<li>'HabitE1'</li>\n",
       "\t<li>'HabitE2'</li>\n",
       "\t<li>'HabitE3'</li>\n",
       "\t<li>'HabitG'</li>\n",
       "\t<li>'HeatYN'</li>\n",
       "\t<li>'HomeS'</li>\n",
       "\t<li>'HomeSYN'</li>\n",
       "\t<li>'HomeW'</li>\n",
       "\t<li>'HomeWYN'</li>\n",
       "\t<li>'HouseholdS'</li>\n",
       "\t<li>'ID'</li>\n",
       "\t<li>'INT1'</li>\n",
       "\t<li>'INT2'</li>\n",
       "\t<li>'INT3'</li>\n",
       "\t<li>'INT4'</li>\n",
       "\t<li>'IncAutoS'</li>\n",
       "\t<li>'IncAutoW'</li>\n",
       "\t<li>'IncAwayS'</li>\n",
       "\t<li>'IncAwayW'</li>\n",
       "\t<li>'IncDish'</li>\n",
       "\t<li>'IncEmer10S'</li>\n",
       "\t<li>'IncEmer10W'</li>\n",
       "\t<li>'IncEmer30S'</li>\n",
       "\t<li>'IncEmer30W'</li>\n",
       "\t<li>'IncHomeS'</li>\n",
       "\t<li>'IncHomeW'</li>\n",
       "\t<li>'IncWD'</li>\n",
       "\t<li>'Income'</li>\n",
       "\t<li>'Job'</li>\n",
       "\t<li>'Latitude'</li>\n",
       "\t<li>'Longitude'</li>\n",
       "\t<li>'MC'</li>\n",
       "\t<li>'MC1'</li>\n",
       "\t<li>'MC2'</li>\n",
       "\t<li>'MC3'</li>\n",
       "\t<li>'MC4'</li>\n",
       "\t<li>'MC5'</li>\n",
       "\t<li>'MCBill'</li>\n",
       "\t<li>'MCG'</li>\n",
       "\t<li>'NBillS'</li>\n",
       "\t<li>'NBillW'</li>\n",
       "\t<li>'OwnRent'</li>\n",
       "\t<li>'PBC'</li>\n",
       "\t<li>'PBC1'</li>\n",
       "\t<li>'PBC2'</li>\n",
       "\t<li>'PBC3R'</li>\n",
       "\t<li>'PBC4'</li>\n",
       "\t<li>'PBC5'</li>\n",
       "\t<li>'PBillStatus'</li>\n",
       "\t<li>'Political'</li>\n",
       "\t<li>'ReasonNeg'</li>\n",
       "\t<li>'ReasonPos'</li>\n",
       "\t<li>'RewardForm'</li>\n",
       "\t<li>'SN'</li>\n",
       "\t<li>'SN1'</li>\n",
       "\t<li>'SN2'</li>\n",
       "\t<li>'SN3'</li>\n",
       "\t<li>'SN4'</li>\n",
       "\t<li>'Sqft'</li>\n",
       "\t<li>'SqftCate'</li>\n",
       "\t<li>'State'</li>\n",
       "\t<li>'SubN'</li>\n",
       "\t<li>'SubNorm'</li>\n",
       "\t<li>'SubNorm1'</li>\n",
       "\t<li>'SubNorm2'</li>\n",
       "\t<li>'SubNorm3'</li>\n",
       "\t<li>'Summer_avg'</li>\n",
       "\t<li>'Summer_avgC'</li>\n",
       "\t<li>'Summer_avgF'</li>\n",
       "\t<li>'Trust'</li>\n",
       "\t<li>'Trust1'</li>\n",
       "\t<li>'Trust2'</li>\n",
       "\t<li>'Trust3'</li>\n",
       "\t<li>'Trust4'</li>\n",
       "\t<li>'Utility'</li>\n",
       "\t<li>'Winter_avg'</li>\n",
       "\t<li>'Winter_avgC'</li>\n",
       "\t<li>'Winter_avgF'</li>\n",
       "\t<li>'X'</li>\n",
       "\t<li>'X.9to5'</li>\n",
       "\t<li>'cold'</li>\n",
       "\t<li>'hot'</li>\n",
       "\t<li>'valid'</li>\n",
       "\t<li>'valid1'</li>\n",
       "\t<li>'valid2'</li>\n",
       "</ol>\n"
      ],
      "text/latex": [
       "\\begin{enumerate*}\n",
       "\\item 'ACYN'\n",
       "\\item 'Age'\n",
       "\\item 'Atti'\n",
       "\\item 'Atti1'\n",
       "\\item 'Atti2'\n",
       "\\item 'Atti3'\n",
       "\\item 'Atti4'\n",
       "\\item 'Attitude'\n",
       "\\item 'AwayS'\n",
       "\\item 'AwaySNY'\n",
       "\\item 'AwayW'\n",
       "\\item 'AwayWNY'\n",
       "\\item 'BillS'\n",
       "\\item 'BillW'\n",
       "\\item 'CashYN'\n",
       "\\item 'City'\n",
       "\\item 'ComfNS'\n",
       "\\item 'ComfNS1'\n",
       "\\item 'ComfNS2'\n",
       "\\item 'ComfNS3'\n",
       "\\item 'ComfNW'\n",
       "\\item 'ComfNW1'\n",
       "\\item 'ComfNW2'\n",
       "\\item 'ComfortS'\n",
       "\\item 'ComfortW'\n",
       "\\item 'CompR'\n",
       "\\item 'ControlN1'\n",
       "\\item 'ControlN2R'\n",
       "\\item 'ControlN3'\n",
       "\\item 'ControlN4'\n",
       "\\item 'ConvB1'\n",
       "\\item 'ConvB2'\n",
       "\\item 'ConvB3'\n",
       "\\item 'ConvB4'\n",
       "\\item 'DeviceType'\n",
       "\\item 'Educ'\n",
       "\\item 'EmerRForm'\n",
       "\\item 'EnergyC'\n",
       "\\item 'EnergyC1'\n",
       "\\item 'EnergyC2'\n",
       "\\item 'EnergyC3'\n",
       "\\item 'EnergyC4'\n",
       "\\item 'Ethnic'\n",
       "\\item 'Frugal'\n",
       "\\item 'Frugal1'\n",
       "\\item 'Frugal2'\n",
       "\\item 'Frugal3'\n",
       "\\item 'Gender'\n",
       "\\item 'HTdevice'\n",
       "\\item 'HTsource'\n",
       "\\item 'HabitC'\n",
       "\\item 'HabitC1'\n",
       "\\item 'HabitC2'\n",
       "\\item 'HabitC3'\n",
       "\\item 'HabitC4'\n",
       "\\item 'HabitC5'\n",
       "\\item 'HabitC6'\n",
       "\\item 'HabitC7'\n",
       "\\item 'HabitE1'\n",
       "\\item 'HabitE2'\n",
       "\\item 'HabitE3'\n",
       "\\item 'HabitG'\n",
       "\\item 'HeatYN'\n",
       "\\item 'HomeS'\n",
       "\\item 'HomeSYN'\n",
       "\\item 'HomeW'\n",
       "\\item 'HomeWYN'\n",
       "\\item 'HouseholdS'\n",
       "\\item 'ID'\n",
       "\\item 'INT1'\n",
       "\\item 'INT2'\n",
       "\\item 'INT3'\n",
       "\\item 'INT4'\n",
       "\\item 'IncAutoS'\n",
       "\\item 'IncAutoW'\n",
       "\\item 'IncAwayS'\n",
       "\\item 'IncAwayW'\n",
       "\\item 'IncDish'\n",
       "\\item 'IncEmer10S'\n",
       "\\item 'IncEmer10W'\n",
       "\\item 'IncEmer30S'\n",
       "\\item 'IncEmer30W'\n",
       "\\item 'IncHomeS'\n",
       "\\item 'IncHomeW'\n",
       "\\item 'IncWD'\n",
       "\\item 'Income'\n",
       "\\item 'Job'\n",
       "\\item 'Latitude'\n",
       "\\item 'Longitude'\n",
       "\\item 'MC'\n",
       "\\item 'MC1'\n",
       "\\item 'MC2'\n",
       "\\item 'MC3'\n",
       "\\item 'MC4'\n",
       "\\item 'MC5'\n",
       "\\item 'MCBill'\n",
       "\\item 'MCG'\n",
       "\\item 'NBillS'\n",
       "\\item 'NBillW'\n",
       "\\item 'OwnRent'\n",
       "\\item 'PBC'\n",
       "\\item 'PBC1'\n",
       "\\item 'PBC2'\n",
       "\\item 'PBC3R'\n",
       "\\item 'PBC4'\n",
       "\\item 'PBC5'\n",
       "\\item 'PBillStatus'\n",
       "\\item 'Political'\n",
       "\\item 'ReasonNeg'\n",
       "\\item 'ReasonPos'\n",
       "\\item 'RewardForm'\n",
       "\\item 'SN'\n",
       "\\item 'SN1'\n",
       "\\item 'SN2'\n",
       "\\item 'SN3'\n",
       "\\item 'SN4'\n",
       "\\item 'Sqft'\n",
       "\\item 'SqftCate'\n",
       "\\item 'State'\n",
       "\\item 'SubN'\n",
       "\\item 'SubNorm'\n",
       "\\item 'SubNorm1'\n",
       "\\item 'SubNorm2'\n",
       "\\item 'SubNorm3'\n",
       "\\item 'Summer\\_avg'\n",
       "\\item 'Summer\\_avgC'\n",
       "\\item 'Summer\\_avgF'\n",
       "\\item 'Trust'\n",
       "\\item 'Trust1'\n",
       "\\item 'Trust2'\n",
       "\\item 'Trust3'\n",
       "\\item 'Trust4'\n",
       "\\item 'Utility'\n",
       "\\item 'Winter\\_avg'\n",
       "\\item 'Winter\\_avgC'\n",
       "\\item 'Winter\\_avgF'\n",
       "\\item 'X'\n",
       "\\item 'X.9to5'\n",
       "\\item 'cold'\n",
       "\\item 'hot'\n",
       "\\item 'valid'\n",
       "\\item 'valid1'\n",
       "\\item 'valid2'\n",
       "\\end{enumerate*}\n"
      ],
      "text/markdown": [
       "1. 'ACYN'\n",
       "2. 'Age'\n",
       "3. 'Atti'\n",
       "4. 'Atti1'\n",
       "5. 'Atti2'\n",
       "6. 'Atti3'\n",
       "7. 'Atti4'\n",
       "8. 'Attitude'\n",
       "9. 'AwayS'\n",
       "10. 'AwaySNY'\n",
       "11. 'AwayW'\n",
       "12. 'AwayWNY'\n",
       "13. 'BillS'\n",
       "14. 'BillW'\n",
       "15. 'CashYN'\n",
       "16. 'City'\n",
       "17. 'ComfNS'\n",
       "18. 'ComfNS1'\n",
       "19. 'ComfNS2'\n",
       "20. 'ComfNS3'\n",
       "21. 'ComfNW'\n",
       "22. 'ComfNW1'\n",
       "23. 'ComfNW2'\n",
       "24. 'ComfortS'\n",
       "25. 'ComfortW'\n",
       "26. 'CompR'\n",
       "27. 'ControlN1'\n",
       "28. 'ControlN2R'\n",
       "29. 'ControlN3'\n",
       "30. 'ControlN4'\n",
       "31. 'ConvB1'\n",
       "32. 'ConvB2'\n",
       "33. 'ConvB3'\n",
       "34. 'ConvB4'\n",
       "35. 'DeviceType'\n",
       "36. 'Educ'\n",
       "37. 'EmerRForm'\n",
       "38. 'EnergyC'\n",
       "39. 'EnergyC1'\n",
       "40. 'EnergyC2'\n",
       "41. 'EnergyC3'\n",
       "42. 'EnergyC4'\n",
       "43. 'Ethnic'\n",
       "44. 'Frugal'\n",
       "45. 'Frugal1'\n",
       "46. 'Frugal2'\n",
       "47. 'Frugal3'\n",
       "48. 'Gender'\n",
       "49. 'HTdevice'\n",
       "50. 'HTsource'\n",
       "51. 'HabitC'\n",
       "52. 'HabitC1'\n",
       "53. 'HabitC2'\n",
       "54. 'HabitC3'\n",
       "55. 'HabitC4'\n",
       "56. 'HabitC5'\n",
       "57. 'HabitC6'\n",
       "58. 'HabitC7'\n",
       "59. 'HabitE1'\n",
       "60. 'HabitE2'\n",
       "61. 'HabitE3'\n",
       "62. 'HabitG'\n",
       "63. 'HeatYN'\n",
       "64. 'HomeS'\n",
       "65. 'HomeSYN'\n",
       "66. 'HomeW'\n",
       "67. 'HomeWYN'\n",
       "68. 'HouseholdS'\n",
       "69. 'ID'\n",
       "70. 'INT1'\n",
       "71. 'INT2'\n",
       "72. 'INT3'\n",
       "73. 'INT4'\n",
       "74. 'IncAutoS'\n",
       "75. 'IncAutoW'\n",
       "76. 'IncAwayS'\n",
       "77. 'IncAwayW'\n",
       "78. 'IncDish'\n",
       "79. 'IncEmer10S'\n",
       "80. 'IncEmer10W'\n",
       "81. 'IncEmer30S'\n",
       "82. 'IncEmer30W'\n",
       "83. 'IncHomeS'\n",
       "84. 'IncHomeW'\n",
       "85. 'IncWD'\n",
       "86. 'Income'\n",
       "87. 'Job'\n",
       "88. 'Latitude'\n",
       "89. 'Longitude'\n",
       "90. 'MC'\n",
       "91. 'MC1'\n",
       "92. 'MC2'\n",
       "93. 'MC3'\n",
       "94. 'MC4'\n",
       "95. 'MC5'\n",
       "96. 'MCBill'\n",
       "97. 'MCG'\n",
       "98. 'NBillS'\n",
       "99. 'NBillW'\n",
       "100. 'OwnRent'\n",
       "101. 'PBC'\n",
       "102. 'PBC1'\n",
       "103. 'PBC2'\n",
       "104. 'PBC3R'\n",
       "105. 'PBC4'\n",
       "106. 'PBC5'\n",
       "107. 'PBillStatus'\n",
       "108. 'Political'\n",
       "109. 'ReasonNeg'\n",
       "110. 'ReasonPos'\n",
       "111. 'RewardForm'\n",
       "112. 'SN'\n",
       "113. 'SN1'\n",
       "114. 'SN2'\n",
       "115. 'SN3'\n",
       "116. 'SN4'\n",
       "117. 'Sqft'\n",
       "118. 'SqftCate'\n",
       "119. 'State'\n",
       "120. 'SubN'\n",
       "121. 'SubNorm'\n",
       "122. 'SubNorm1'\n",
       "123. 'SubNorm2'\n",
       "124. 'SubNorm3'\n",
       "125. 'Summer_avg'\n",
       "126. 'Summer_avgC'\n",
       "127. 'Summer_avgF'\n",
       "128. 'Trust'\n",
       "129. 'Trust1'\n",
       "130. 'Trust2'\n",
       "131. 'Trust3'\n",
       "132. 'Trust4'\n",
       "133. 'Utility'\n",
       "134. 'Winter_avg'\n",
       "135. 'Winter_avgC'\n",
       "136. 'Winter_avgF'\n",
       "137. 'X'\n",
       "138. 'X.9to5'\n",
       "139. 'cold'\n",
       "140. 'hot'\n",
       "141. 'valid'\n",
       "142. 'valid1'\n",
       "143. 'valid2'\n",
       "\n",
       "\n"
      ],
      "text/plain": [
       "  [1] \"ACYN\"        \"Age\"         \"Atti\"        \"Atti1\"       \"Atti2\"      \n",
       "  [6] \"Atti3\"       \"Atti4\"       \"Attitude\"    \"AwayS\"       \"AwaySNY\"    \n",
       " [11] \"AwayW\"       \"AwayWNY\"     \"BillS\"       \"BillW\"       \"CashYN\"     \n",
       " [16] \"City\"        \"ComfNS\"      \"ComfNS1\"     \"ComfNS2\"     \"ComfNS3\"    \n",
       " [21] \"ComfNW\"      \"ComfNW1\"     \"ComfNW2\"     \"ComfortS\"    \"ComfortW\"   \n",
       " [26] \"CompR\"       \"ControlN1\"   \"ControlN2R\"  \"ControlN3\"   \"ControlN4\"  \n",
       " [31] \"ConvB1\"      \"ConvB2\"      \"ConvB3\"      \"ConvB4\"      \"DeviceType\" \n",
       " [36] \"Educ\"        \"EmerRForm\"   \"EnergyC\"     \"EnergyC1\"    \"EnergyC2\"   \n",
       " [41] \"EnergyC3\"    \"EnergyC4\"    \"Ethnic\"      \"Frugal\"      \"Frugal1\"    \n",
       " [46] \"Frugal2\"     \"Frugal3\"     \"Gender\"      \"HTdevice\"    \"HTsource\"   \n",
       " [51] \"HabitC\"      \"HabitC1\"     \"HabitC2\"     \"HabitC3\"     \"HabitC4\"    \n",
       " [56] \"HabitC5\"     \"HabitC6\"     \"HabitC7\"     \"HabitE1\"     \"HabitE2\"    \n",
       " [61] \"HabitE3\"     \"HabitG\"      \"HeatYN\"      \"HomeS\"       \"HomeSYN\"    \n",
       " [66] \"HomeW\"       \"HomeWYN\"     \"HouseholdS\"  \"ID\"          \"INT1\"       \n",
       " [71] \"INT2\"        \"INT3\"        \"INT4\"        \"IncAutoS\"    \"IncAutoW\"   \n",
       " [76] \"IncAwayS\"    \"IncAwayW\"    \"IncDish\"     \"IncEmer10S\"  \"IncEmer10W\" \n",
       " [81] \"IncEmer30S\"  \"IncEmer30W\"  \"IncHomeS\"    \"IncHomeW\"    \"IncWD\"      \n",
       " [86] \"Income\"      \"Job\"         \"Latitude\"    \"Longitude\"   \"MC\"         \n",
       " [91] \"MC1\"         \"MC2\"         \"MC3\"         \"MC4\"         \"MC5\"        \n",
       " [96] \"MCBill\"      \"MCG\"         \"NBillS\"      \"NBillW\"      \"OwnRent\"    \n",
       "[101] \"PBC\"         \"PBC1\"        \"PBC2\"        \"PBC3R\"       \"PBC4\"       \n",
       "[106] \"PBC5\"        \"PBillStatus\" \"Political\"   \"ReasonNeg\"   \"ReasonPos\"  \n",
       "[111] \"RewardForm\"  \"SN\"          \"SN1\"         \"SN2\"         \"SN3\"        \n",
       "[116] \"SN4\"         \"Sqft\"        \"SqftCate\"    \"State\"       \"SubN\"       \n",
       "[121] \"SubNorm\"     \"SubNorm1\"    \"SubNorm2\"    \"SubNorm3\"    \"Summer_avg\" \n",
       "[126] \"Summer_avgC\" \"Summer_avgF\" \"Trust\"       \"Trust1\"      \"Trust2\"     \n",
       "[131] \"Trust3\"      \"Trust4\"      \"Utility\"     \"Winter_avg\"  \"Winter_avgC\"\n",
       "[136] \"Winter_avgF\" \"X\"           \"X.9to5\"      \"cold\"        \"hot\"        \n",
       "[141] \"valid\"       \"valid1\"      \"valid2\"     "
      ]
     },
     "metadata": {},
     "output_type": "display_data"
    }
   ],
   "source": [
    "options(digits=2);\n",
    "# Read in the data\n",
    "survey <- read.csv(\"DR_Survey2_Share_Complete.csv\",header=T);\n",
    "\n",
    "sort(names(survey))"
   ]
  },
  {
   "cell_type": "code",
   "execution_count": 4,
   "metadata": {
    "collapsed": false
   },
   "outputs": [
    {
     "name": "stdout",
     "output_type": "stream",
     "text": [
      "[1] 826 143\n"
     ]
    },
    {
     "data": {
      "text/plain": [
       "\n",
       " 1  2  3  4  5  7  8 \n",
       " 9 25  4 26  6  2  1 "
      ]
     },
     "metadata": {},
     "output_type": "display_data"
    },
    {
     "data": {
      "text/plain": [
       "\n",
       " 1  2  4  5  6  7  9 \n",
       "12 31 11  2 11 20  3 "
      ]
     },
     "metadata": {},
     "output_type": "display_data"
    },
    {
     "data": {
      "text/plain": [
       "\n",
       "  1   2   3   4   5   6   7   8  12 \n",
       " 36  15   1 234 524   1   6   8   1 "
      ]
     },
     "metadata": {},
     "output_type": "display_data"
    }
   ],
   "source": [
    "print(dim(survey))\n",
    "table(survey$ReasonNeg)\n",
    "table(survey$ReasonPos)\n",
    "table(survey$RewardForm)"
   ]
  },
  {
   "cell_type": "code",
   "execution_count": 6,
   "metadata": {
    "collapsed": false
   },
   "outputs": [
    {
     "data": {
      "text/plain": [
       "\n",
       "\tFisher's Exact Test for Count Data\n",
       "\n",
       "data:  table(survey$CashYN[hasGender], survey$Gender[hasGender])\n",
       "p-value = 0.6\n",
       "alternative hypothesis: true odds ratio is not equal to 1\n",
       "95 percent confidence interval:\n",
       " 0.68 1.99\n",
       "sample estimates:\n",
       "odds ratio \n",
       "       1.2 \n"
      ]
     },
     "metadata": {},
     "output_type": "display_data"
    }
   ],
   "source": [
    "survey$CashYN=survey$RewardForm==4 | survey$RewardForm==5\n",
    "hasGender = survey$Gender!=3\n",
    "fisher.test(table(survey$CashYN[hasGender],survey$Gender[hasGender]))"
   ]
  },
  {
   "cell_type": "code",
   "execution_count": 7,
   "metadata": {
    "collapsed": false
   },
   "outputs": [
    {
     "data": {
      "text/plain": [
       "\n",
       "\tFisher's Exact Test for Count Data\n",
       "\n",
       "data:  table(survey$CashYN, EnergyC)\n",
       "p-value = 0.4\n",
       "alternative hypothesis: true odds ratio is not equal to 1\n",
       "95 percent confidence interval:\n",
       " 0.73 2.13\n",
       "sample estimates:\n",
       "odds ratio \n",
       "       1.2 \n"
      ]
     },
     "metadata": {},
     "output_type": "display_data"
    }
   ],
   "source": [
    "EnergyC = survey$EnergyC > median(survey$EnergyC,na.rm=T)\n",
    "fisher.test(table(survey$CashYN,EnergyC))"
   ]
  },
  {
   "cell_type": "code",
   "execution_count": 8,
   "metadata": {
    "collapsed": false
   },
   "outputs": [
    {
     "data": {
      "text/plain": [
       "\n",
       "\tFisher's Exact Test for Count Data\n",
       "\n",
       "data:  table(survey$CashYN, MCBill)\n",
       "p-value = 0.03\n",
       "alternative hypothesis: true odds ratio is not equal to 1\n",
       "95 percent confidence interval:\n",
       " 1 3\n",
       "sample estimates:\n",
       "odds ratio \n",
       "       1.7 \n"
      ]
     },
     "metadata": {},
     "output_type": "display_data"
    }
   ],
   "source": [
    "MCBill = survey$MCBill > median(survey$MCBill,na.rm=T)\n",
    "fisher.test(table(survey$CashYN,MCBill))"
   ]
  },
  {
   "cell_type": "code",
   "execution_count": 9,
   "metadata": {
    "collapsed": false
   },
   "outputs": [
    {
     "name": "stdout",
     "output_type": "stream",
     "text": [
      "FALSE  TRUE \n",
      "  5.3   5.6 \n",
      "FALSE  TRUE \n",
      "  1.4   1.3 \n"
     ]
    },
    {
     "data": {
      "text/html": [
       "<strong>TRUE:</strong> 0.206366332553233"
      ],
      "text/latex": [
       "\\textbf{TRUE:} 0.206366332553233"
      ],
      "text/markdown": [
       "**TRUE:** 0.206366332553233"
      ],
      "text/plain": [
       "TRUE \n",
       "0.21 "
      ]
     },
     "metadata": {},
     "output_type": "display_data"
    }
   ],
   "source": [
    "print(tapply(survey$MCBill,survey$CashYN,mean))\n",
    "print(tapply(survey$MCBill,survey$CashYN,var))\n",
    "diff(tapply(survey$MCBill,survey$CashYN,mean))/sqrt(sum(tapply(survey$MCBill,survey$CashYN,var)))"
   ]
  },
  {
   "cell_type": "code",
   "execution_count": 3,
   "metadata": {
    "collapsed": false
   },
   "outputs": [
    {
     "data": {
      "text/html": [
       "<strong>FALSE:</strong> -2.24162075588419"
      ],
      "text/latex": [
       "\\textbf{FALSE:} -2.24162075588419"
      ],
      "text/markdown": [
       "**FALSE:** -2.24162075588419"
      ],
      "text/plain": [
       "FALSE \n",
       " -2.2 "
      ]
     },
     "metadata": {},
     "output_type": "display_data"
    }
   ],
   "source": [
    "#turn into function\n",
    "a <- tapply(survey$MCBill,survey$CashYN,mean)\n",
    "b <- tapply(survey$MCBill,survey$CashYN,var)\n",
    "c <- table(survey$CashYN)\n",
    "(a[1]-a[2])/sqrt(b[1]/c[1]+b[2]/c[2])"
   ]
  },
  {
   "cell_type": "code",
   "execution_count": null,
   "metadata": {
    "collapsed": true
   },
   "outputs": [],
   "source": []
  }
 ],
 "metadata": {
  "kernelspec": {
   "display_name": "R",
   "language": "R",
   "name": "ir"
  },
  "language_info": {
   "codemirror_mode": "r",
   "file_extension": ".r",
   "mimetype": "text/x-r-source",
   "name": "R",
   "pygments_lexer": "r",
   "version": "3.3.1"
  }
 },
 "nbformat": 4,
 "nbformat_minor": 1
}
