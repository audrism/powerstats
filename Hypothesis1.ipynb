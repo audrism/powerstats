{
 "cells": [
  {
   "cell_type": "markdown",
   "metadata": {},
   "source": [
    "## Hypothesis\n",
    "To predict the incentive level requested for raising thermostat settings for 2-3F \n",
    "    when being at home in summer.\n",
    "\n",
    "### Filter: HomeSYN=1 (i.e., only use people who use A/C when being at home in summer)\n"
   ]
  },
  {
   "cell_type": "code",
   "execution_count": 30,
   "metadata": {
    "collapsed": false
   },
   "outputs": [
    {
     "data": {
      "text/html": [
       "<ol class=list-inline>\n",
       "\t<li>'ACYN'</li>\n",
       "\t<li>'Age'</li>\n",
       "\t<li>'Atti1'</li>\n",
       "\t<li>'Atti2'</li>\n",
       "\t<li>'Atti3'</li>\n",
       "\t<li>'Atti4'</li>\n",
       "\t<li>'Attitude'</li>\n",
       "\t<li>'AwayS'</li>\n",
       "\t<li>'AwaySNY'</li>\n",
       "\t<li>'AwayW'</li>\n",
       "\t<li>'AwayWNY'</li>\n",
       "\t<li>'BillS'</li>\n",
       "\t<li>'BillW'</li>\n",
       "\t<li>'City'</li>\n",
       "\t<li>'ComfNS1'</li>\n",
       "\t<li>'ComfNS2'</li>\n",
       "\t<li>'ComfNS3'</li>\n",
       "\t<li>'ComfNW1'</li>\n",
       "\t<li>'ComfNW2'</li>\n",
       "\t<li>'ComfortS'</li>\n",
       "\t<li>'ComfortW'</li>\n",
       "\t<li>'CompR'</li>\n",
       "\t<li>'ControlN1'</li>\n",
       "\t<li>'ControlN2R'</li>\n",
       "\t<li>'ControlN3'</li>\n",
       "\t<li>'ControlN4'</li>\n",
       "\t<li>'ConvB1'</li>\n",
       "\t<li>'ConvB2'</li>\n",
       "\t<li>'ConvB3'</li>\n",
       "\t<li>'ConvB4'</li>\n",
       "\t<li>'DeviceType'</li>\n",
       "\t<li>'Educ'</li>\n",
       "\t<li>'EmerRForm'</li>\n",
       "\t<li>'EnergyC'</li>\n",
       "\t<li>'EnergyC1'</li>\n",
       "\t<li>'EnergyC2'</li>\n",
       "\t<li>'EnergyC3'</li>\n",
       "\t<li>'EnergyC4'</li>\n",
       "\t<li>'Ethnic'</li>\n",
       "\t<li>'Frugal'</li>\n",
       "\t<li>'Frugal1'</li>\n",
       "\t<li>'Frugal2'</li>\n",
       "\t<li>'Frugal3'</li>\n",
       "\t<li>'Gender'</li>\n",
       "\t<li>'HTdevice'</li>\n",
       "\t<li>'HTsource'</li>\n",
       "\t<li>'HabitC1'</li>\n",
       "\t<li>'HabitC2'</li>\n",
       "\t<li>'HabitC3'</li>\n",
       "\t<li>'HabitC4'</li>\n",
       "\t<li>'HabitC5'</li>\n",
       "\t<li>'HabitC6'</li>\n",
       "\t<li>'HabitC7'</li>\n",
       "\t<li>'HabitE1'</li>\n",
       "\t<li>'HabitE2'</li>\n",
       "\t<li>'HabitE3'</li>\n",
       "\t<li>'HeatYN'</li>\n",
       "\t<li>'HomeS'</li>\n",
       "\t<li>'HomeSYN'</li>\n",
       "\t<li>'HomeW'</li>\n",
       "\t<li>'HomeWYN'</li>\n",
       "\t<li>'HouseholdS'</li>\n",
       "\t<li>'ID'</li>\n",
       "\t<li>'INT1'</li>\n",
       "\t<li>'INT2'</li>\n",
       "\t<li>'INT3'</li>\n",
       "\t<li>'INT4'</li>\n",
       "\t<li>'IncAutoS'</li>\n",
       "\t<li>'IncAutoW'</li>\n",
       "\t<li>'IncAwayS'</li>\n",
       "\t<li>'IncAwayW'</li>\n",
       "\t<li>'IncDish'</li>\n",
       "\t<li>'IncEmer10S'</li>\n",
       "\t<li>'IncEmer10W'</li>\n",
       "\t<li>'IncEmer30S'</li>\n",
       "\t<li>'IncEmer30W'</li>\n",
       "\t<li>'IncHomeS'</li>\n",
       "\t<li>'IncHomeW'</li>\n",
       "\t<li>'IncWD'</li>\n",
       "\t<li>'Income'</li>\n",
       "\t<li>'Job'</li>\n",
       "\t<li>'Latitude'</li>\n",
       "\t<li>'Longitude'</li>\n",
       "\t<li>'MC1'</li>\n",
       "\t<li>'MC2'</li>\n",
       "\t<li>'MC3'</li>\n",
       "\t<li>'MC4'</li>\n",
       "\t<li>'MC5'</li>\n",
       "\t<li>'MCBill'</li>\n",
       "\t<li>'MCG'</li>\n",
       "\t<li>'NBillS'</li>\n",
       "\t<li>'NBillW'</li>\n",
       "\t<li>'OwnRent'</li>\n",
       "\t<li>'PBC'</li>\n",
       "\t<li>'PBC1'</li>\n",
       "\t<li>'PBC2'</li>\n",
       "\t<li>'PBC3R'</li>\n",
       "\t<li>'PBC4'</li>\n",
       "\t<li>'PBC5'</li>\n",
       "\t<li>'PBillStatus'</li>\n",
       "\t<li>'Political'</li>\n",
       "\t<li>'ReasonNeg'</li>\n",
       "\t<li>'ReasonPos'</li>\n",
       "\t<li>'RewardForm'</li>\n",
       "\t<li>'SN1'</li>\n",
       "\t<li>'SN2'</li>\n",
       "\t<li>'SN3'</li>\n",
       "\t<li>'SN4'</li>\n",
       "\t<li>'Sqft'</li>\n",
       "\t<li>'SqftCate'</li>\n",
       "\t<li>'State'</li>\n",
       "\t<li>'SubN'</li>\n",
       "\t<li>'SubNorm1'</li>\n",
       "\t<li>'SubNorm2'</li>\n",
       "\t<li>'SubNorm3'</li>\n",
       "\t<li>'Trust'</li>\n",
       "\t<li>'Trust1'</li>\n",
       "\t<li>'Trust2'</li>\n",
       "\t<li>'Trust3'</li>\n",
       "\t<li>'Trust4'</li>\n",
       "\t<li>'Utility'</li>\n",
       "\t<li>'X.9to5'</li>\n",
       "\t<li>'cold'</li>\n",
       "\t<li>'hot'</li>\n",
       "\t<li>'valid'</li>\n",
       "\t<li>'valid1'</li>\n",
       "\t<li>'valid2'</li>\n",
       "</ol>\n"
      ],
      "text/latex": [
       "\\begin{enumerate*}\n",
       "\\item 'ACYN'\n",
       "\\item 'Age'\n",
       "\\item 'Atti1'\n",
       "\\item 'Atti2'\n",
       "\\item 'Atti3'\n",
       "\\item 'Atti4'\n",
       "\\item 'Attitude'\n",
       "\\item 'AwayS'\n",
       "\\item 'AwaySNY'\n",
       "\\item 'AwayW'\n",
       "\\item 'AwayWNY'\n",
       "\\item 'BillS'\n",
       "\\item 'BillW'\n",
       "\\item 'City'\n",
       "\\item 'ComfNS1'\n",
       "\\item 'ComfNS2'\n",
       "\\item 'ComfNS3'\n",
       "\\item 'ComfNW1'\n",
       "\\item 'ComfNW2'\n",
       "\\item 'ComfortS'\n",
       "\\item 'ComfortW'\n",
       "\\item 'CompR'\n",
       "\\item 'ControlN1'\n",
       "\\item 'ControlN2R'\n",
       "\\item 'ControlN3'\n",
       "\\item 'ControlN4'\n",
       "\\item 'ConvB1'\n",
       "\\item 'ConvB2'\n",
       "\\item 'ConvB3'\n",
       "\\item 'ConvB4'\n",
       "\\item 'DeviceType'\n",
       "\\item 'Educ'\n",
       "\\item 'EmerRForm'\n",
       "\\item 'EnergyC'\n",
       "\\item 'EnergyC1'\n",
       "\\item 'EnergyC2'\n",
       "\\item 'EnergyC3'\n",
       "\\item 'EnergyC4'\n",
       "\\item 'Ethnic'\n",
       "\\item 'Frugal'\n",
       "\\item 'Frugal1'\n",
       "\\item 'Frugal2'\n",
       "\\item 'Frugal3'\n",
       "\\item 'Gender'\n",
       "\\item 'HTdevice'\n",
       "\\item 'HTsource'\n",
       "\\item 'HabitC1'\n",
       "\\item 'HabitC2'\n",
       "\\item 'HabitC3'\n",
       "\\item 'HabitC4'\n",
       "\\item 'HabitC5'\n",
       "\\item 'HabitC6'\n",
       "\\item 'HabitC7'\n",
       "\\item 'HabitE1'\n",
       "\\item 'HabitE2'\n",
       "\\item 'HabitE3'\n",
       "\\item 'HeatYN'\n",
       "\\item 'HomeS'\n",
       "\\item 'HomeSYN'\n",
       "\\item 'HomeW'\n",
       "\\item 'HomeWYN'\n",
       "\\item 'HouseholdS'\n",
       "\\item 'ID'\n",
       "\\item 'INT1'\n",
       "\\item 'INT2'\n",
       "\\item 'INT3'\n",
       "\\item 'INT4'\n",
       "\\item 'IncAutoS'\n",
       "\\item 'IncAutoW'\n",
       "\\item 'IncAwayS'\n",
       "\\item 'IncAwayW'\n",
       "\\item 'IncDish'\n",
       "\\item 'IncEmer10S'\n",
       "\\item 'IncEmer10W'\n",
       "\\item 'IncEmer30S'\n",
       "\\item 'IncEmer30W'\n",
       "\\item 'IncHomeS'\n",
       "\\item 'IncHomeW'\n",
       "\\item 'IncWD'\n",
       "\\item 'Income'\n",
       "\\item 'Job'\n",
       "\\item 'Latitude'\n",
       "\\item 'Longitude'\n",
       "\\item 'MC1'\n",
       "\\item 'MC2'\n",
       "\\item 'MC3'\n",
       "\\item 'MC4'\n",
       "\\item 'MC5'\n",
       "\\item 'MCBill'\n",
       "\\item 'MCG'\n",
       "\\item 'NBillS'\n",
       "\\item 'NBillW'\n",
       "\\item 'OwnRent'\n",
       "\\item 'PBC'\n",
       "\\item 'PBC1'\n",
       "\\item 'PBC2'\n",
       "\\item 'PBC3R'\n",
       "\\item 'PBC4'\n",
       "\\item 'PBC5'\n",
       "\\item 'PBillStatus'\n",
       "\\item 'Political'\n",
       "\\item 'ReasonNeg'\n",
       "\\item 'ReasonPos'\n",
       "\\item 'RewardForm'\n",
       "\\item 'SN1'\n",
       "\\item 'SN2'\n",
       "\\item 'SN3'\n",
       "\\item 'SN4'\n",
       "\\item 'Sqft'\n",
       "\\item 'SqftCate'\n",
       "\\item 'State'\n",
       "\\item 'SubN'\n",
       "\\item 'SubNorm1'\n",
       "\\item 'SubNorm2'\n",
       "\\item 'SubNorm3'\n",
       "\\item 'Trust'\n",
       "\\item 'Trust1'\n",
       "\\item 'Trust2'\n",
       "\\item 'Trust3'\n",
       "\\item 'Trust4'\n",
       "\\item 'Utility'\n",
       "\\item 'X.9to5'\n",
       "\\item 'cold'\n",
       "\\item 'hot'\n",
       "\\item 'valid'\n",
       "\\item 'valid1'\n",
       "\\item 'valid2'\n",
       "\\end{enumerate*}\n"
      ],
      "text/markdown": [
       "1. 'ACYN'\n",
       "2. 'Age'\n",
       "3. 'Atti1'\n",
       "4. 'Atti2'\n",
       "5. 'Atti3'\n",
       "6. 'Atti4'\n",
       "7. 'Attitude'\n",
       "8. 'AwayS'\n",
       "9. 'AwaySNY'\n",
       "10. 'AwayW'\n",
       "11. 'AwayWNY'\n",
       "12. 'BillS'\n",
       "13. 'BillW'\n",
       "14. 'City'\n",
       "15. 'ComfNS1'\n",
       "16. 'ComfNS2'\n",
       "17. 'ComfNS3'\n",
       "18. 'ComfNW1'\n",
       "19. 'ComfNW2'\n",
       "20. 'ComfortS'\n",
       "21. 'ComfortW'\n",
       "22. 'CompR'\n",
       "23. 'ControlN1'\n",
       "24. 'ControlN2R'\n",
       "25. 'ControlN3'\n",
       "26. 'ControlN4'\n",
       "27. 'ConvB1'\n",
       "28. 'ConvB2'\n",
       "29. 'ConvB3'\n",
       "30. 'ConvB4'\n",
       "31. 'DeviceType'\n",
       "32. 'Educ'\n",
       "33. 'EmerRForm'\n",
       "34. 'EnergyC'\n",
       "35. 'EnergyC1'\n",
       "36. 'EnergyC2'\n",
       "37. 'EnergyC3'\n",
       "38. 'EnergyC4'\n",
       "39. 'Ethnic'\n",
       "40. 'Frugal'\n",
       "41. 'Frugal1'\n",
       "42. 'Frugal2'\n",
       "43. 'Frugal3'\n",
       "44. 'Gender'\n",
       "45. 'HTdevice'\n",
       "46. 'HTsource'\n",
       "47. 'HabitC1'\n",
       "48. 'HabitC2'\n",
       "49. 'HabitC3'\n",
       "50. 'HabitC4'\n",
       "51. 'HabitC5'\n",
       "52. 'HabitC6'\n",
       "53. 'HabitC7'\n",
       "54. 'HabitE1'\n",
       "55. 'HabitE2'\n",
       "56. 'HabitE3'\n",
       "57. 'HeatYN'\n",
       "58. 'HomeS'\n",
       "59. 'HomeSYN'\n",
       "60. 'HomeW'\n",
       "61. 'HomeWYN'\n",
       "62. 'HouseholdS'\n",
       "63. 'ID'\n",
       "64. 'INT1'\n",
       "65. 'INT2'\n",
       "66. 'INT3'\n",
       "67. 'INT4'\n",
       "68. 'IncAutoS'\n",
       "69. 'IncAutoW'\n",
       "70. 'IncAwayS'\n",
       "71. 'IncAwayW'\n",
       "72. 'IncDish'\n",
       "73. 'IncEmer10S'\n",
       "74. 'IncEmer10W'\n",
       "75. 'IncEmer30S'\n",
       "76. 'IncEmer30W'\n",
       "77. 'IncHomeS'\n",
       "78. 'IncHomeW'\n",
       "79. 'IncWD'\n",
       "80. 'Income'\n",
       "81. 'Job'\n",
       "82. 'Latitude'\n",
       "83. 'Longitude'\n",
       "84. 'MC1'\n",
       "85. 'MC2'\n",
       "86. 'MC3'\n",
       "87. 'MC4'\n",
       "88. 'MC5'\n",
       "89. 'MCBill'\n",
       "90. 'MCG'\n",
       "91. 'NBillS'\n",
       "92. 'NBillW'\n",
       "93. 'OwnRent'\n",
       "94. 'PBC'\n",
       "95. 'PBC1'\n",
       "96. 'PBC2'\n",
       "97. 'PBC3R'\n",
       "98. 'PBC4'\n",
       "99. 'PBC5'\n",
       "100. 'PBillStatus'\n",
       "101. 'Political'\n",
       "102. 'ReasonNeg'\n",
       "103. 'ReasonPos'\n",
       "104. 'RewardForm'\n",
       "105. 'SN1'\n",
       "106. 'SN2'\n",
       "107. 'SN3'\n",
       "108. 'SN4'\n",
       "109. 'Sqft'\n",
       "110. 'SqftCate'\n",
       "111. 'State'\n",
       "112. 'SubN'\n",
       "113. 'SubNorm1'\n",
       "114. 'SubNorm2'\n",
       "115. 'SubNorm3'\n",
       "116. 'Trust'\n",
       "117. 'Trust1'\n",
       "118. 'Trust2'\n",
       "119. 'Trust3'\n",
       "120. 'Trust4'\n",
       "121. 'Utility'\n",
       "122. 'X.9to5'\n",
       "123. 'cold'\n",
       "124. 'hot'\n",
       "125. 'valid'\n",
       "126. 'valid1'\n",
       "127. 'valid2'\n",
       "\n",
       "\n"
      ],
      "text/plain": [
       "  [1] \"ACYN\"        \"Age\"         \"Atti1\"       \"Atti2\"       \"Atti3\"      \n",
       "  [6] \"Atti4\"       \"Attitude\"    \"AwayS\"       \"AwaySNY\"     \"AwayW\"      \n",
       " [11] \"AwayWNY\"     \"BillS\"       \"BillW\"       \"City\"        \"ComfNS1\"    \n",
       " [16] \"ComfNS2\"     \"ComfNS3\"     \"ComfNW1\"     \"ComfNW2\"     \"ComfortS\"   \n",
       " [21] \"ComfortW\"    \"CompR\"       \"ControlN1\"   \"ControlN2R\"  \"ControlN3\"  \n",
       " [26] \"ControlN4\"   \"ConvB1\"      \"ConvB2\"      \"ConvB3\"      \"ConvB4\"     \n",
       " [31] \"DeviceType\"  \"Educ\"        \"EmerRForm\"   \"EnergyC\"     \"EnergyC1\"   \n",
       " [36] \"EnergyC2\"    \"EnergyC3\"    \"EnergyC4\"    \"Ethnic\"      \"Frugal\"     \n",
       " [41] \"Frugal1\"     \"Frugal2\"     \"Frugal3\"     \"Gender\"      \"HTdevice\"   \n",
       " [46] \"HTsource\"    \"HabitC1\"     \"HabitC2\"     \"HabitC3\"     \"HabitC4\"    \n",
       " [51] \"HabitC5\"     \"HabitC6\"     \"HabitC7\"     \"HabitE1\"     \"HabitE2\"    \n",
       " [56] \"HabitE3\"     \"HeatYN\"      \"HomeS\"       \"HomeSYN\"     \"HomeW\"      \n",
       " [61] \"HomeWYN\"     \"HouseholdS\"  \"ID\"          \"INT1\"        \"INT2\"       \n",
       " [66] \"INT3\"        \"INT4\"        \"IncAutoS\"    \"IncAutoW\"    \"IncAwayS\"   \n",
       " [71] \"IncAwayW\"    \"IncDish\"     \"IncEmer10S\"  \"IncEmer10W\"  \"IncEmer30S\" \n",
       " [76] \"IncEmer30W\"  \"IncHomeS\"    \"IncHomeW\"    \"IncWD\"       \"Income\"     \n",
       " [81] \"Job\"         \"Latitude\"    \"Longitude\"   \"MC1\"         \"MC2\"        \n",
       " [86] \"MC3\"         \"MC4\"         \"MC5\"         \"MCBill\"      \"MCG\"        \n",
       " [91] \"NBillS\"      \"NBillW\"      \"OwnRent\"     \"PBC\"         \"PBC1\"       \n",
       " [96] \"PBC2\"        \"PBC3R\"       \"PBC4\"        \"PBC5\"        \"PBillStatus\"\n",
       "[101] \"Political\"   \"ReasonNeg\"   \"ReasonPos\"   \"RewardForm\"  \"SN1\"        \n",
       "[106] \"SN2\"         \"SN3\"         \"SN4\"         \"Sqft\"        \"SqftCate\"   \n",
       "[111] \"State\"       \"SubN\"        \"SubNorm1\"    \"SubNorm2\"    \"SubNorm3\"   \n",
       "[116] \"Trust\"       \"Trust1\"      \"Trust2\"      \"Trust3\"      \"Trust4\"     \n",
       "[121] \"Utility\"     \"X.9to5\"      \"cold\"        \"hot\"         \"valid\"      \n",
       "[126] \"valid1\"      \"valid2\"     "
      ]
     },
     "metadata": {},
     "output_type": "display_data"
    },
    {
     "data": {
      "text/plain": [
       "\n",
       "  1   2   3   4   5   6   7   8   9  10  11  12 \n",
       " 99  79  33  33  25  64  86  71  43 112  22 156 "
      ]
     },
     "metadata": {},
     "output_type": "display_data"
    }
   ],
   "source": [
    "options(digits=2);\n",
    "# Read in the data\n",
    "survey <- read.csv(\"DR_Survey2_Share_Complete.csv\",header=T);\n",
    "#populate missing values\n",
    "survey$IncHomeS[survey$IncHomeS==99] = NA;\n",
    "\n",
    "data <- survey[,-c(1:7)];\n",
    "\n",
    "#We investigate only use people who use A/C when being at home in summer\n",
    "data1 <- data[data$HomeSYN==1,-which(names(data) %in% c(\"HomeWYN\",\"AwayWNY\",\"HomeSYN\",\"AwaySNY\",\"City\",\"Utility\",\n",
    "    \"ReasonPos\",\"ReasonNeg\",\"NBillS\",\"NBillW\",\"valid1\",\"valid2\",\"valid\",\"Attitude\",\"Trust\",\n",
    "    \"EnergyC\",\"MCG\", \"MCBill\",\"Frugal\",\"ComfortS\",\"ComfortW\",\"SubN\",\"PBC\",\"ACYN\",\"HeatYN\",\"Latitude\",\n",
    "    \"Longitude\", \"Job\",\"hot\",\"cold\"))];\n",
    "sort(names(survey))\n",
    "table(survey$Job)"
   ]
  },
  {
   "cell_type": "code",
   "execution_count": 31,
   "metadata": {
    "collapsed": false
   },
   "outputs": [
    {
     "name": "stdout",
     "output_type": "stream",
     "text": [
      "[1] 662   3\n"
     ]
    }
   ],
   "source": [
    "#Frugal-Mean(Frugal1,Frugal2,Frugal3)\n",
    "tmp <- cbind(Frugal1=data1$Frugal1,Frugal2=data1$Frugal2,Frugal3=data1$Frugal3)\n",
    "print(dim(tmp))\n",
    "data1$Frugal <- rowMeans(tmp)\n",
    "data1 <- data1[,-which(names(data1) %in% c(\"Frugal1\",\"Frugal2\",\"Frugal3\"))]\n",
    "#print(data1)"
   ]
  },
  {
   "cell_type": "code",
   "execution_count": 32,
   "metadata": {
    "collapsed": false
   },
   "outputs": [
    {
     "name": "stdout",
     "output_type": "stream",
     "text": [
      "[1] 662   3\n"
     ]
    }
   ],
   "source": [
    "#MC-Mean(MC3,MC4,MC5)\n",
    "tmp <- cbind(MC3=data1$MC3,MC4=data1$MC4,MC5=data1$MC5)\n",
    "print(dim(tmp))\n",
    "data1$MC <- rowMeans(tmp)\n",
    "data1 <- data1[,-which(names(data1) %in% c(\"MC3\",\"MC4\",\"MC5\"))]\n",
    "#print(data1)"
   ]
  },
  {
   "cell_type": "code",
   "execution_count": 33,
   "metadata": {
    "collapsed": false
   },
   "outputs": [
    {
     "name": "stdout",
     "output_type": "stream",
     "text": [
      "[1] 662   3\n"
     ]
    }
   ],
   "source": [
    "#EnergyC-Mean(EnergyC1,EnergyC2,EnergyC4)\n",
    "tmp <- cbind(EnergyC1=data1$EnergyC1,EnergyC2=data1$EnergyC2,EnergyC4=data1$EnergyC4)\n",
    "print(dim(tmp))\n",
    "data1$EnergyC <- rowMeans(tmp)\n",
    "data1 <- data1[,-which(names(data1) %in% c(\"EnergyC1\",\"EnergyC2\",\"EnergyC4\"))]\n",
    "#print(data1)"
   ]
  },
  {
   "cell_type": "code",
   "execution_count": 34,
   "metadata": {
    "collapsed": false
   },
   "outputs": [
    {
     "name": "stdout",
     "output_type": "stream",
     "text": [
      "[1] 662   4\n"
     ]
    }
   ],
   "source": [
    "#Trust-Mean(Trust1,Trust2,Trust3,Trust4)\n",
    "tmp <- cbind(Trust1=data1$Trust1,Trust2=data1$Trust2,Trust3=data1$Trust3,Trust4=data1$Trust4)\n",
    "print(dim(tmp))\n",
    "data1$Trust <- rowMeans(tmp)\n",
    "data1 <- data1[,-which(names(data1) %in% c(\"Trust1\",\"Trust2\",\"Trust3\",\"Trust4\"))]\n",
    "#print(data1)"
   ]
  },
  {
   "cell_type": "code",
   "execution_count": 35,
   "metadata": {
    "collapsed": false
   },
   "outputs": [
    {
     "name": "stdout",
     "output_type": "stream",
     "text": [
      "[1] 662   3\n"
     ]
    }
   ],
   "source": [
    "#ComfNS-Mean(ComfNS1,ComfNS2,ComfNS3)\n",
    "tmp <- cbind(ComfNS1=data1$ComfNS1,ComfNS2=data1$ComfNS2,ComfNS3=data1$ComfNS3)\n",
    "print(dim(tmp))\n",
    "data1$ComfNS <- rowMeans(tmp)\n",
    "data1 <- data1[,-which(names(data1) %in% c(\"ComfNS1\",\"ComfNS2\",\"ComfNS3\"))]\n",
    "#print(data1)"
   ]
  },
  {
   "cell_type": "code",
   "execution_count": 36,
   "metadata": {
    "collapsed": false
   },
   "outputs": [
    {
     "name": "stdout",
     "output_type": "stream",
     "text": [
      "[1] 662   4\n"
     ]
    }
   ],
   "source": [
    "#Attitude-Mean(Atti1,Atti2,Atti3,Atti4)\n",
    "tmp <- cbind(Atti1=data1$Atti1,Atti2=data1$Atti2,Atti3=data1$Atti3,Atti4=data1$Atti4)\n",
    "print(dim(tmp))\n",
    "data1$Atti <- rowMeans(tmp)\n",
    "data1 <- data1[,-which(names(data1) %in% c(\"Atti1\",\"Atti2\",\"Atti3\",\"Atti4\"))]\n",
    "#print(data1)"
   ]
  },
  {
   "cell_type": "code",
   "execution_count": 37,
   "metadata": {
    "collapsed": false
   },
   "outputs": [
    {
     "name": "stdout",
     "output_type": "stream",
     "text": [
      "[1] 662   3\n"
     ]
    }
   ],
   "source": [
    "#SubNorm-Mean(SubNorm1,SubNorm2,SubNorm3)\n",
    "tmp <- cbind(SubNorm1=data1$SubNorm1,SubNorm=data1$SubNorm2,SubNorm3=data1$SubNorm3)\n",
    "print(dim(tmp))\n",
    "data1$SubNorm <- rowMeans(tmp)\n",
    "data1 <- data1[,-which(names(data1) %in% c(\"SubNorm1\",\"SubNorm2\",\"SubNorm3\"))]\n",
    "#print(data1)"
   ]
  },
  {
   "cell_type": "code",
   "execution_count": 38,
   "metadata": {
    "collapsed": false
   },
   "outputs": [
    {
     "name": "stdout",
     "output_type": "stream",
     "text": [
      "[1] 662   4\n"
     ]
    }
   ],
   "source": [
    "#PBC-Mean(PBC1,PBC2,PBC4,PBC5)\n",
    "tmp <- cbind(PBC1=data1$PBC1,PBC2=data1$PBC2,PBC4=data1$PBC4,PBC5=data1$PBC5)\n",
    "print(dim(tmp))\n",
    "data1$PBC <- rowMeans(tmp)\n",
    "data1 <- data1[,-which(names(data1) %in% c(\"PBC1\",\"PBC2\",\"PBC4\",\"PBC5\"))]\n",
    "#print(data1)"
   ]
  },
  {
   "cell_type": "code",
   "execution_count": 39,
   "metadata": {
    "collapsed": false
   },
   "outputs": [
    {
     "name": "stdout",
     "output_type": "stream",
     "text": [
      "[1] 662   3\n"
     ]
    }
   ],
   "source": [
    "#SN-Mean(SN1,SN2,SN4)\n",
    "tmp <- cbind(SN1=data1$SN1,SN=data1$SN2,SN4=data1$SN4)\n",
    "print(dim(tmp))\n",
    "data1$SN <- rowMeans(tmp)\n",
    "data1 <- data1[,-which(names(data1) %in% c(\"SN1\",\"SN2\",\"SN4\"))]\n",
    "#print(data1)"
   ]
  },
  {
   "cell_type": "code",
   "execution_count": 40,
   "metadata": {
    "collapsed": false
   },
   "outputs": [
    {
     "name": "stdout",
     "output_type": "stream",
     "text": [
      "[1] 662   4\n"
     ]
    }
   ],
   "source": [
    "#HabitG-Mean(HabitC1,HabitC2,HabitC3,HabitC4)\n",
    "tmp <- cbind(HabitC1=data1$HabitC1,HabitC2=data1$HabitC2,HabitC3=data1$HabitC3,HabitC4=data1$HabitC4)\n",
    "print(dim(tmp))\n",
    "data1$HabitG <- rowMeans(tmp)\n",
    "data1 <- data1[,-which(names(data1) %in% c(\"HabitC1\",\"HabitC2\",\"HabitC4\",\"HabitC5\"))]\n",
    "#print(data1)"
   ]
  },
  {
   "cell_type": "code",
   "execution_count": 41,
   "metadata": {
    "collapsed": false
   },
   "outputs": [
    {
     "name": "stdout",
     "output_type": "stream",
     "text": [
      "[1] 662   2\n"
     ]
    }
   ],
   "source": [
    "#HabitHC-Mean(HabitC5,HabitC6,HabitC7)\n",
    "tmp <- cbind(HabitC5=data1$HabitC5,HabitC6=data1$HabitC6,HabitC7=data1$HabitC7)\n",
    "print(dim(tmp))\n",
    "data1$HabitC <- rowMeans(tmp)\n",
    "data1 <- data1[,-which(names(data1) %in% c(\"HabitC5\",\"HabitC6\",\"HabitC7\"))]\n",
    "#print(data1)"
   ]
  },
  {
   "cell_type": "code",
   "execution_count": 42,
   "metadata": {
    "collapsed": false
   },
   "outputs": [
    {
     "name": "stdout",
     "output_type": "stream",
     "text": [
      "[1] \"HomeW\" \"28\"   \n",
      "[1] \"AwayW\" \"87\"   \n",
      "[1] \"AwayS\" \"101\"  \n",
      "[1] \"IncHomeS\" \"8\"       \n",
      "[1] \"IncWD\" \"56\"   \n",
      "[1] \"IncDish\" \"183\"    \n",
      "[1] \"Age\" \"4\"  \n",
      "[1] \"Income\" \"3\"     \n",
      "[1] \"Educ\" \"5\"   \n"
     ]
    }
   ],
   "source": [
    "#Fields with lots of missing values\n",
    "for (n in names(data1)){\n",
    "    nmis = sum(is.na(data1[,n]))\n",
    "    if(nmis >1)  print (c(n, sum(is.na(data1[,n]))))\n",
    "}"
   ]
  },
  {
   "cell_type": "code",
   "execution_count": 43,
   "metadata": {
    "collapsed": false
   },
   "outputs": [
    {
     "name": "stdout",
     "output_type": "stream",
     "text": [
      "[1] 662  60\n",
      "[1] 644  60\n"
     ]
    }
   ],
   "source": [
    "#lets remover these\n",
    "data2 <- data1[,-which(names(data1) %in% c(\"HomeW\",\"AwayW\",\n",
    "                    \"AwayS\",\"IncWD\",\"IncDish\"))];\n",
    "print(dim(data2))\n",
    "data2 <- na.omit(data2)\n",
    "print(dim(data2))"
   ]
  },
  {
   "cell_type": "code",
   "execution_count": 44,
   "metadata": {
    "collapsed": true
   },
   "outputs": [],
   "source": [
    "#Political (Categorical- recode 5,6,7 as “1”-republican, \n",
    "                        #recode 4,8 as “2”- apolitical, \n",
    "                        #recode 1,2,3 as “3”- democrat)\n",
    "data2$Political[data2$Political==4]<-2 #apolitical\n",
    "data2$Political[data2$Political==8]<-2 #apolitical\n",
    "data2$Political[data2$Political==5]<-1 #republican\n",
    "data2$Political[data2$Political==6]<-1 #republican\n",
    "data2$Political[data2$Political==7]<-1 #republican\n",
    "data2$Political[data2$Political==1]<-3 #democrat\n",
    "data2$Political[data2$Political==2]<-3 #democrat\n",
    "data2$Political[data2$Political==3]<-3 #democrat"
   ]
  },
  {
   "cell_type": "code",
   "execution_count": 45,
   "metadata": {
    "collapsed": false
   },
   "outputs": [],
   "source": [
    "#data2$Ethnic\n",
    "#Ethnic (Categorical- keep 1 as “1”- white; group and recode all others as “0”- non white)\n",
    "data2$Ethnic[data2$Ethnic==1]<-1 #white\n",
    "data2$Ethnic[data2$Ethnic==2]<-0 #non-white\n",
    "data2$Ethnic[data2$Ethnic==3]<-0\n",
    "data2$Ethnic[data2$Ethnic==4]<-0\n",
    "data2$Ethnic[data2$Ethnic==5]<-0\n",
    "data2$Ethnic[data2$Ethnic==6]<-0\n",
    "#data2$Ethnic"
   ]
  },
  {
   "cell_type": "code",
   "execution_count": 46,
   "metadata": {
    "collapsed": false
   },
   "outputs": [],
   "source": [
    "#names(data2)\n",
    "#These are only variables we really care about\n",
    "IVS = c(\"Age\",\n",
    "\"Gender\",\n",
    "\"OwnRent\",\n",
    "\"SqftCate\",\n",
    "\"HouseholdS\",\n",
    "\"Political\",\n",
    "\"Ethnic\",\n",
    "\"Income\",\n",
    "\"Educ\",\n",
    "\"Frugal\",\n",
    "\"MC\",\n",
    "\"EnergyC\",\n",
    "\"Trust\",\n",
    "\"ComfNS\",\n",
    "\"Atti\",\n",
    "\"SubNorm\",\n",
    "\"PBC\",\n",
    "\"SN\",\n",
    "\"HabitG\",\n",
    "\"HabitC\")"
   ]
  },
  {
   "cell_type": "code",
   "execution_count": 47,
   "metadata": {
    "collapsed": false
   },
   "outputs": [
    {
     "data": {
      "text/html": [
       "<ol class=list-inline>\n",
       "\t<li>'Age'</li>\n",
       "\t<li>'Atti'</li>\n",
       "\t<li>'BillS'</li>\n",
       "\t<li>'BillW'</li>\n",
       "\t<li>'ComfNS'</li>\n",
       "\t<li>'ComfNW1'</li>\n",
       "\t<li>'ComfNW2'</li>\n",
       "\t<li>'ControlN1'</li>\n",
       "\t<li>'ControlN2R'</li>\n",
       "\t<li>'ControlN3'</li>\n",
       "\t<li>'ControlN4'</li>\n",
       "\t<li>'ConvB1'</li>\n",
       "\t<li>'ConvB2'</li>\n",
       "\t<li>'ConvB3'</li>\n",
       "\t<li>'ConvB4'</li>\n",
       "\t<li>'Educ'</li>\n",
       "\t<li>'EmerRForm'</li>\n",
       "\t<li>'EnergyC'</li>\n",
       "\t<li>'EnergyC3'</li>\n",
       "\t<li>'Ethnic'</li>\n",
       "\t<li>'Frugal'</li>\n",
       "\t<li>'Gender'</li>\n",
       "\t<li>'HabitC'</li>\n",
       "\t<li>'HabitC3'</li>\n",
       "\t<li>'HabitE1'</li>\n",
       "\t<li>'HabitE2'</li>\n",
       "\t<li>'HabitE3'</li>\n",
       "\t<li>'HabitG'</li>\n",
       "\t<li>'HomeS'</li>\n",
       "\t<li>'HouseholdS'</li>\n",
       "\t<li>'INT1'</li>\n",
       "\t<li>'INT2'</li>\n",
       "\t<li>'INT3'</li>\n",
       "\t<li>'INT4'</li>\n",
       "\t<li>'IncAutoS'</li>\n",
       "\t<li>'IncAutoW'</li>\n",
       "\t<li>'IncAwayS'</li>\n",
       "\t<li>'IncAwayW'</li>\n",
       "\t<li>'IncEmer10S'</li>\n",
       "\t<li>'IncEmer10W'</li>\n",
       "\t<li>'IncEmer30S'</li>\n",
       "\t<li>'IncEmer30W'</li>\n",
       "\t<li>'IncHomeS'</li>\n",
       "\t<li>'IncHomeW'</li>\n",
       "\t<li>'Income'</li>\n",
       "\t<li>'MC'</li>\n",
       "\t<li>'MC1'</li>\n",
       "\t<li>'MC2'</li>\n",
       "\t<li>'OwnRent'</li>\n",
       "\t<li>'PBC'</li>\n",
       "\t<li>'PBC3R'</li>\n",
       "\t<li>'Political'</li>\n",
       "\t<li>'RewardForm'</li>\n",
       "\t<li>'SN'</li>\n",
       "\t<li>'SN3'</li>\n",
       "\t<li>'Sqft'</li>\n",
       "\t<li>'SqftCate'</li>\n",
       "\t<li>'State'</li>\n",
       "\t<li>'SubNorm'</li>\n",
       "\t<li>'Trust'</li>\n",
       "</ol>\n"
      ],
      "text/latex": [
       "\\begin{enumerate*}\n",
       "\\item 'Age'\n",
       "\\item 'Atti'\n",
       "\\item 'BillS'\n",
       "\\item 'BillW'\n",
       "\\item 'ComfNS'\n",
       "\\item 'ComfNW1'\n",
       "\\item 'ComfNW2'\n",
       "\\item 'ControlN1'\n",
       "\\item 'ControlN2R'\n",
       "\\item 'ControlN3'\n",
       "\\item 'ControlN4'\n",
       "\\item 'ConvB1'\n",
       "\\item 'ConvB2'\n",
       "\\item 'ConvB3'\n",
       "\\item 'ConvB4'\n",
       "\\item 'Educ'\n",
       "\\item 'EmerRForm'\n",
       "\\item 'EnergyC'\n",
       "\\item 'EnergyC3'\n",
       "\\item 'Ethnic'\n",
       "\\item 'Frugal'\n",
       "\\item 'Gender'\n",
       "\\item 'HabitC'\n",
       "\\item 'HabitC3'\n",
       "\\item 'HabitE1'\n",
       "\\item 'HabitE2'\n",
       "\\item 'HabitE3'\n",
       "\\item 'HabitG'\n",
       "\\item 'HomeS'\n",
       "\\item 'HouseholdS'\n",
       "\\item 'INT1'\n",
       "\\item 'INT2'\n",
       "\\item 'INT3'\n",
       "\\item 'INT4'\n",
       "\\item 'IncAutoS'\n",
       "\\item 'IncAutoW'\n",
       "\\item 'IncAwayS'\n",
       "\\item 'IncAwayW'\n",
       "\\item 'IncEmer10S'\n",
       "\\item 'IncEmer10W'\n",
       "\\item 'IncEmer30S'\n",
       "\\item 'IncEmer30W'\n",
       "\\item 'IncHomeS'\n",
       "\\item 'IncHomeW'\n",
       "\\item 'Income'\n",
       "\\item 'MC'\n",
       "\\item 'MC1'\n",
       "\\item 'MC2'\n",
       "\\item 'OwnRent'\n",
       "\\item 'PBC'\n",
       "\\item 'PBC3R'\n",
       "\\item 'Political'\n",
       "\\item 'RewardForm'\n",
       "\\item 'SN'\n",
       "\\item 'SN3'\n",
       "\\item 'Sqft'\n",
       "\\item 'SqftCate'\n",
       "\\item 'State'\n",
       "\\item 'SubNorm'\n",
       "\\item 'Trust'\n",
       "\\end{enumerate*}\n"
      ],
      "text/markdown": [
       "1. 'Age'\n",
       "2. 'Atti'\n",
       "3. 'BillS'\n",
       "4. 'BillW'\n",
       "5. 'ComfNS'\n",
       "6. 'ComfNW1'\n",
       "7. 'ComfNW2'\n",
       "8. 'ControlN1'\n",
       "9. 'ControlN2R'\n",
       "10. 'ControlN3'\n",
       "11. 'ControlN4'\n",
       "12. 'ConvB1'\n",
       "13. 'ConvB2'\n",
       "14. 'ConvB3'\n",
       "15. 'ConvB4'\n",
       "16. 'Educ'\n",
       "17. 'EmerRForm'\n",
       "18. 'EnergyC'\n",
       "19. 'EnergyC3'\n",
       "20. 'Ethnic'\n",
       "21. 'Frugal'\n",
       "22. 'Gender'\n",
       "23. 'HabitC'\n",
       "24. 'HabitC3'\n",
       "25. 'HabitE1'\n",
       "26. 'HabitE2'\n",
       "27. 'HabitE3'\n",
       "28. 'HabitG'\n",
       "29. 'HomeS'\n",
       "30. 'HouseholdS'\n",
       "31. 'INT1'\n",
       "32. 'INT2'\n",
       "33. 'INT3'\n",
       "34. 'INT4'\n",
       "35. 'IncAutoS'\n",
       "36. 'IncAutoW'\n",
       "37. 'IncAwayS'\n",
       "38. 'IncAwayW'\n",
       "39. 'IncEmer10S'\n",
       "40. 'IncEmer10W'\n",
       "41. 'IncEmer30S'\n",
       "42. 'IncEmer30W'\n",
       "43. 'IncHomeS'\n",
       "44. 'IncHomeW'\n",
       "45. 'Income'\n",
       "46. 'MC'\n",
       "47. 'MC1'\n",
       "48. 'MC2'\n",
       "49. 'OwnRent'\n",
       "50. 'PBC'\n",
       "51. 'PBC3R'\n",
       "52. 'Political'\n",
       "53. 'RewardForm'\n",
       "54. 'SN'\n",
       "55. 'SN3'\n",
       "56. 'Sqft'\n",
       "57. 'SqftCate'\n",
       "58. 'State'\n",
       "59. 'SubNorm'\n",
       "60. 'Trust'\n",
       "\n",
       "\n"
      ],
      "text/plain": [
       " [1] \"Age\"        \"Atti\"       \"BillS\"      \"BillW\"      \"ComfNS\"    \n",
       " [6] \"ComfNW1\"    \"ComfNW2\"    \"ControlN1\"  \"ControlN2R\" \"ControlN3\" \n",
       "[11] \"ControlN4\"  \"ConvB1\"     \"ConvB2\"     \"ConvB3\"     \"ConvB4\"    \n",
       "[16] \"Educ\"       \"EmerRForm\"  \"EnergyC\"    \"EnergyC3\"   \"Ethnic\"    \n",
       "[21] \"Frugal\"     \"Gender\"     \"HabitC\"     \"HabitC3\"    \"HabitE1\"   \n",
       "[26] \"HabitE2\"    \"HabitE3\"    \"HabitG\"     \"HomeS\"      \"HouseholdS\"\n",
       "[31] \"INT1\"       \"INT2\"       \"INT3\"       \"INT4\"       \"IncAutoS\"  \n",
       "[36] \"IncAutoW\"   \"IncAwayS\"   \"IncAwayW\"   \"IncEmer10S\" \"IncEmer10W\"\n",
       "[41] \"IncEmer30S\" \"IncEmer30W\" \"IncHomeS\"   \"IncHomeW\"   \"Income\"    \n",
       "[46] \"MC\"         \"MC1\"        \"MC2\"        \"OwnRent\"    \"PBC\"       \n",
       "[51] \"PBC3R\"      \"Political\"  \"RewardForm\" \"SN\"         \"SN3\"       \n",
       "[56] \"Sqft\"       \"SqftCate\"   \"State\"      \"SubNorm\"    \"Trust\"     "
      ]
     },
     "metadata": {},
     "output_type": "display_data"
    },
    {
     "data": {
      "text/html": [
       "<ol class=list-inline>\n",
       "\t<li>'Age'</li>\n",
       "\t<li>'Atti'</li>\n",
       "\t<li>'ComfNS'</li>\n",
       "\t<li>'Educ'</li>\n",
       "\t<li>'EnergyC'</li>\n",
       "\t<li>'Ethnic'</li>\n",
       "\t<li>'Frugal'</li>\n",
       "\t<li>'Gender'</li>\n",
       "\t<li>'HabitC'</li>\n",
       "\t<li>'HabitG'</li>\n",
       "\t<li>'HouseholdS'</li>\n",
       "\t<li>'Income'</li>\n",
       "\t<li>'MC'</li>\n",
       "\t<li>'OwnRent'</li>\n",
       "\t<li>'PBC'</li>\n",
       "\t<li>'Political'</li>\n",
       "\t<li>'SN'</li>\n",
       "\t<li>'SqftCate'</li>\n",
       "\t<li>'SubNorm'</li>\n",
       "\t<li>'Trust'</li>\n",
       "</ol>\n"
      ],
      "text/latex": [
       "\\begin{enumerate*}\n",
       "\\item 'Age'\n",
       "\\item 'Atti'\n",
       "\\item 'ComfNS'\n",
       "\\item 'Educ'\n",
       "\\item 'EnergyC'\n",
       "\\item 'Ethnic'\n",
       "\\item 'Frugal'\n",
       "\\item 'Gender'\n",
       "\\item 'HabitC'\n",
       "\\item 'HabitG'\n",
       "\\item 'HouseholdS'\n",
       "\\item 'Income'\n",
       "\\item 'MC'\n",
       "\\item 'OwnRent'\n",
       "\\item 'PBC'\n",
       "\\item 'Political'\n",
       "\\item 'SN'\n",
       "\\item 'SqftCate'\n",
       "\\item 'SubNorm'\n",
       "\\item 'Trust'\n",
       "\\end{enumerate*}\n"
      ],
      "text/markdown": [
       "1. 'Age'\n",
       "2. 'Atti'\n",
       "3. 'ComfNS'\n",
       "4. 'Educ'\n",
       "5. 'EnergyC'\n",
       "6. 'Ethnic'\n",
       "7. 'Frugal'\n",
       "8. 'Gender'\n",
       "9. 'HabitC'\n",
       "10. 'HabitG'\n",
       "11. 'HouseholdS'\n",
       "12. 'Income'\n",
       "13. 'MC'\n",
       "14. 'OwnRent'\n",
       "15. 'PBC'\n",
       "16. 'Political'\n",
       "17. 'SN'\n",
       "18. 'SqftCate'\n",
       "19. 'SubNorm'\n",
       "20. 'Trust'\n",
       "\n",
       "\n"
      ],
      "text/plain": [
       " [1] \"Age\"        \"Atti\"       \"ComfNS\"     \"Educ\"       \"EnergyC\"   \n",
       " [6] \"Ethnic\"     \"Frugal\"     \"Gender\"     \"HabitC\"     \"HabitG\"    \n",
       "[11] \"HouseholdS\" \"Income\"     \"MC\"         \"OwnRent\"    \"PBC\"       \n",
       "[16] \"Political\"  \"SN\"         \"SqftCate\"   \"SubNorm\"    \"Trust\"     "
      ]
     },
     "metadata": {},
     "output_type": "display_data"
    }
   ],
   "source": [
    "sort(names(data2))\n",
    "paste(sort(IVS))"
   ]
  },
  {
   "cell_type": "code",
   "execution_count": 48,
   "metadata": {
    "collapsed": false
   },
   "outputs": [],
   "source": [
    "data1 <- data2[, which(names(data2) %in% c(\"IncHomeS\",IVS))];"
   ]
  },
  {
   "cell_type": "code",
   "execution_count": 49,
   "metadata": {
    "collapsed": true
   },
   "outputs": [],
   "source": [
    "#Check to see if there are anymore missing values\n",
    "for (n in names(data1)){\n",
    "    nmis = sum(is.na(data1[,n]))\n",
    "    if(nmis >1)  print (c(n, sum(is.na(data1[,n]))))\n",
    "}"
   ]
  },
  {
   "cell_type": "code",
   "execution_count": 50,
   "metadata": {
    "collapsed": false
   },
   "outputs": [
    {
     "data": {
      "text/html": [
       "<ol class=list-inline>\n",
       "\t<li>'IncHomeS'</li>\n",
       "\t<li>'Age'</li>\n",
       "\t<li>'Gender'</li>\n",
       "\t<li>'OwnRent'</li>\n",
       "\t<li>'SqftCate'</li>\n",
       "\t<li>'HouseholdS'</li>\n",
       "\t<li>'Political'</li>\n",
       "\t<li>'Ethnic'</li>\n",
       "\t<li>'Income'</li>\n",
       "\t<li>'Educ'</li>\n",
       "\t<li>'Frugal'</li>\n",
       "\t<li>'MC'</li>\n",
       "\t<li>'EnergyC'</li>\n",
       "\t<li>'Trust'</li>\n",
       "\t<li>'ComfNS'</li>\n",
       "\t<li>'Atti'</li>\n",
       "\t<li>'SubNorm'</li>\n",
       "\t<li>'PBC'</li>\n",
       "\t<li>'SN'</li>\n",
       "\t<li>'HabitG'</li>\n",
       "\t<li>'HabitC'</li>\n",
       "</ol>\n"
      ],
      "text/latex": [
       "\\begin{enumerate*}\n",
       "\\item 'IncHomeS'\n",
       "\\item 'Age'\n",
       "\\item 'Gender'\n",
       "\\item 'OwnRent'\n",
       "\\item 'SqftCate'\n",
       "\\item 'HouseholdS'\n",
       "\\item 'Political'\n",
       "\\item 'Ethnic'\n",
       "\\item 'Income'\n",
       "\\item 'Educ'\n",
       "\\item 'Frugal'\n",
       "\\item 'MC'\n",
       "\\item 'EnergyC'\n",
       "\\item 'Trust'\n",
       "\\item 'ComfNS'\n",
       "\\item 'Atti'\n",
       "\\item 'SubNorm'\n",
       "\\item 'PBC'\n",
       "\\item 'SN'\n",
       "\\item 'HabitG'\n",
       "\\item 'HabitC'\n",
       "\\end{enumerate*}\n"
      ],
      "text/markdown": [
       "1. 'IncHomeS'\n",
       "2. 'Age'\n",
       "3. 'Gender'\n",
       "4. 'OwnRent'\n",
       "5. 'SqftCate'\n",
       "6. 'HouseholdS'\n",
       "7. 'Political'\n",
       "8. 'Ethnic'\n",
       "9. 'Income'\n",
       "10. 'Educ'\n",
       "11. 'Frugal'\n",
       "12. 'MC'\n",
       "13. 'EnergyC'\n",
       "14. 'Trust'\n",
       "15. 'ComfNS'\n",
       "16. 'Atti'\n",
       "17. 'SubNorm'\n",
       "18. 'PBC'\n",
       "19. 'SN'\n",
       "20. 'HabitG'\n",
       "21. 'HabitC'\n",
       "\n",
       "\n"
      ],
      "text/plain": [
       " [1] \"IncHomeS\"   \"Age\"        \"Gender\"     \"OwnRent\"    \"SqftCate\"  \n",
       " [6] \"HouseholdS\" \"Political\"  \"Ethnic\"     \"Income\"     \"Educ\"      \n",
       "[11] \"Frugal\"     \"MC\"         \"EnergyC\"    \"Trust\"      \"ComfNS\"    \n",
       "[16] \"Atti\"       \"SubNorm\"    \"PBC\"        \"SN\"         \"HabitG\"    \n",
       "[21] \"HabitC\"    "
      ]
     },
     "metadata": {},
     "output_type": "display_data"
    }
   ],
   "source": [
    "names(data1)\n",
    "\n",
    "#Fields with lots of missing values\n",
    "for (n in names(data1)){\n",
    "    nmis = sum(is.na(data1[,n]))\n",
    "    if(nmis >1)  print (c(n, sum(is.na(data1[,n]))))\n",
    "}\n",
    "    \n",
    "    \n",
    "# What about high correlations?\n",
    "hiCor <- function(x, level){\n",
    "  res <- cor(x,method=\"spearman\");\n",
    "  res1 <- res; res1[res<0] <- -res[res < 0];\n",
    "  for (i in 1:dim(x)[2]){\n",
    "    res1[i,i] <- 0;\n",
    "  }\n",
    "  sel <- apply(res1,1,max,na.rm=T) > level;\n",
    "  res[sel,sel];\n",
    "}\n",
    "#hiCor(data2,.75)"
   ]
  },
  {
   "cell_type": "code",
   "execution_count": 51,
   "metadata": {
    "collapsed": false
   },
   "outputs": [
    {
     "name": "stderr",
     "output_type": "stream",
     "text": [
      "Warning message in cbind(f_parts$left, ellip_h, f_parts$right, deparse.level = 0L):\n",
      "\"number of rows of result is not a multiple of vector length (arg 2)\"Warning message in cbind(f_parts$left, ellip_h, f_parts$right, deparse.level = 0L):\n",
      "\"number of rows of result is not a multiple of vector length (arg 2)\"Warning message in cbind(f_parts$left, ellip_h, f_parts$right, deparse.level = 0L):\n",
      "\"number of rows of result is not a multiple of vector length (arg 2)\""
     ]
    },
    {
     "data": {
      "text/html": [
       "<table>\n",
       "<thead><tr><th scope=col>IncHomeS</th><th scope=col>Age</th><th scope=col>Gender</th><th scope=col>OwnRent</th><th scope=col>SqftCate</th><th scope=col>HouseholdS</th><th scope=col>Political</th><th scope=col>Ethnic</th><th scope=col>Income</th><th scope=col>Educ</th><th scope=col>...</th><th scope=col>MC</th><th scope=col>EnergyC</th><th scope=col>Trust</th><th scope=col>ComfNS</th><th scope=col>Atti</th><th scope=col>SubNorm</th><th scope=col>PBC</th><th scope=col>SN</th><th scope=col>HabitG</th><th scope=col>HabitC</th></tr></thead>\n",
       "<tbody>\n",
       "</tbody>\n",
       "</table>\n"
      ],
      "text/latex": [
       "\\begin{tabular}{r|lllllllllllllllllllll}\n",
       " IncHomeS & Age & Gender & OwnRent & SqftCate & HouseholdS & Political & Ethnic & Income & Educ & ... & MC & EnergyC & Trust & ComfNS & Atti & SubNorm & PBC & SN & HabitG & HabitC\\\\\n",
       "\\hline\n",
       "\\end{tabular}\n"
      ],
      "text/plain": [
       "     IncHomeS Age Gender OwnRent SqftCate HouseholdS Political Ethnic Income\n",
       "     Educ ... MC EnergyC Trust ComfNS Atti SubNorm PBC SN HabitG HabitC"
      ]
     },
     "metadata": {},
     "output_type": "display_data"
    }
   ],
   "source": [
    "data1 [is.na(data1$IncHomeS), ]"
   ]
  },
  {
   "cell_type": "code",
   "execution_count": 52,
   "metadata": {
    "collapsed": false
   },
   "outputs": [
    {
     "data": {
      "text/plain": [
       "   Min. 1st Qu.  Median    Mean 3rd Qu.    Max. \n",
       "    1.0     3.0     4.0     4.2     5.0     8.0 "
      ]
     },
     "metadata": {},
     "output_type": "display_data"
    },
    {
     "data": {
      "text/plain": [
       "\n",
       "  1   2   3   4   5   6   7   8 \n",
       " 54  43 124 218  56  63  50  36 "
      ]
     },
     "metadata": {},
     "output_type": "display_data"
    },
    {
     "data": {
      "text/plain": [
       "\n",
       "  1   2   3   4   5 \n",
       " 67 225 148 118  86 "
      ]
     },
     "metadata": {},
     "output_type": "display_data"
    }
   ],
   "source": [
    "summary(data1$IncHomeS)\n",
    "table(data1$IncHomeS)\n",
    "table(data1$HouseholdS)"
   ]
  },
  {
   "cell_type": "code",
   "execution_count": 55,
   "metadata": {
    "collapsed": false
   },
   "outputs": [],
   "source": [
    "data2 <- data1;\n",
    "data2 <- na.omit(data2)\n",
    "#data2"
   ]
  },
  {
   "cell_type": "code",
   "execution_count": 57,
   "metadata": {
    "collapsed": false
   },
   "outputs": [
    {
     "name": "stderr",
     "output_type": "stream",
     "text": [
      "Warning message in cor(x, method = \"spearman\"):\n",
      "\"the standard deviation is zero\""
     ]
    },
    {
     "ename": "ERROR",
     "evalue": "Error in res1[res < 0] <- -res[res < 0]: NAs are not allowed in subscripted assignments\n",
     "output_type": "error",
     "traceback": [
      "Error in res1[res < 0] <- -res[res < 0]: NAs are not allowed in subscripted assignments\nTraceback:\n",
      "1. hiCor(data2, 0.5)"
     ]
    }
   ],
   "source": [
    "hiCor(data2,.75)"
   ]
  },
  {
   "cell_type": "code",
   "execution_count": 8,
   "metadata": {
    "collapsed": false
   },
   "outputs": [
    {
     "name": "stdout",
     "output_type": "stream",
     "text": [
      "[1] 0.13\n",
      "     MC3  MC5 Frugal1 Frugal3 ConvB1 Atti1 Atti2 Atti3 Atti4\n",
      "PC1 -0.2 -0.2   -0.21   -0.21    0.2 -0.25 -0.24 -0.23 -0.24\n",
      "[1] 0.2\n",
      "    OwnRent NBillS  Sqft SqftCate Income Trust1 Trust3 Trust4   SN1   SN2   SN4\n",
      "PC2   -0.22  -0.21 -0.23    -0.27  -0.22  -0.23  -0.22  -0.22 -0.24 -0.24 -0.21\n",
      "[1] 0.26\n",
      "    BillS NBillS SqftCate Trust1 Trust3 Trust4 ComfNS1 ComfNS2 ComfNS3\n",
      "PC3  0.27    0.3     0.22  -0.24  -0.25  -0.23    0.24    0.23    0.22\n",
      "[1] 0.31\n",
      "    Trust1 Trust2 Trust3 Trust4 ComfNS1 ComfNS2 ComfNS3  PBC5\n",
      "PC4  -0.26  -0.27  -0.23  -0.26   -0.27   -0.24   -0.29 -0.22\n",
      "[1] 0.35\n",
      "    OwnRent   MC1   MC2 ComfNS1 ComfNS2 ComfNS3  SN1  SN2  SN3  SN4\n",
      "PC5    -0.2 -0.28 -0.26    0.26    0.22    0.26 0.26 0.26 0.21 0.26\n",
      "[1] 0.39\n",
      "      MC2 Frugal2 ConvB2 ConvB3 ConvB4 ControlN4\n",
      "PC6 -0.23   -0.23  -0.25  -0.34  -0.35     -0.21\n",
      "[1] 0.43\n",
      "    Trust1 Trust2 Trust3 Trust4 Atti3   SN1   SN2   SN4\n",
      "PC7   0.23   0.24   0.22   0.24  0.22 -0.23 -0.23 -0.21\n",
      "[1] 0.46\n",
      "    PBC1 PBC2 PBC4 PBC5 HabitC1 HabitC2 HabitC3 HabitC4\n",
      "PC8 0.24 0.27 0.28 0.24   -0.27   -0.22   -0.28   -0.27\n",
      "[1] 0.48\n",
      "    HouseholdS Political Educ Frugal3 PBC3R\n",
      "PC9       -0.3     -0.25 0.31   -0.21  0.21\n",
      "[1] 0.51\n",
      "       MC2 ConvB2 SubNorm1 SubNorm2 SubNorm3 PBC2 PBC4   SN1   SN2   SN4\n",
      "PC10 -0.22   0.22     0.22      0.3     0.24 0.26 0.25 -0.23 -0.25 -0.26\n",
      "[1] 0.54\n",
      "      Age   MC1   MC2   MC4 Frugal3 ControlN1 ControlN4 HabitC5\n",
      "PC11 0.34 -0.26 -0.28 -0.22     0.2       0.2      0.27    0.26\n",
      "[1] 0.56\n",
      "     Ethnic Frugal1 ConvB2 Atti4 SubNorm2 SubNorm3 HabitC3 HabitC4\n",
      "PC12  -0.39    0.21  -0.25  -0.2     0.23     0.25   -0.21    -0.2\n",
      "[1] 0.58\n",
      "      Age Gender ControlN1 ControlN2R HabitC7 HabitE2 HabitE3\n",
      "PC13 0.27   0.34     -0.26      -0.45    0.28    0.22    0.22\n",
      "[1] 0.6\n",
      "     Political   MC4   MC5 HabitC5 HabitC6 HabitE1 HabitE3\n",
      "PC14      0.25 -0.24 -0.22    0.34    0.21    0.32    0.21\n",
      "[1] 0.62\n",
      "     IncHomeS Gender ControlN1 ControlN4 SubNorm1 SubNorm2 HabitC5 HabitE1\n",
      "PC15     0.27    0.2      0.23      0.31     0.26     0.24   -0.27    0.33\n",
      "     HabitE3\n",
      "PC15    0.21\n",
      "[1] 0.64\n",
      "     Political Ethnic  MC4 Frugal3 ControlN2R HabitC1 HabitC2\n",
      "PC16      0.35  -0.25 0.22    -0.2       0.25   -0.26   -0.28\n",
      "[1] 0.66\n",
      "     Gender BillS NBillS Political MC5 ControlN2R HabitE2 HabitE3\n",
      "PC17  -0.36  0.27   0.21     -0.23 0.2       0.33    0.25    0.28\n",
      "[1] 0.67\n",
      "     IncHomeS BillS NBillS  Sqft SqftCate Ethnic PBC1 HabitC2 HabitC6 HabitE1\n",
      "PC18     0.28   0.2   0.23 -0.29    -0.21   0.27 0.24   -0.23    0.21    0.25\n",
      "     HabitE2\n",
      "PC18   -0.32\n",
      "[1] 0.69\n",
      "     BillS NBillS Sqft Ethnic HabitC2 HabitE3\n",
      "PC19  0.35   0.32 -0.2  -0.41    0.23    0.25\n",
      "[1] 0.7\n",
      "       Age HouseholdS Ethnic ControlN3 PBC3R   SN3 HabitC5 HabitE1\n",
      "PC20 -0.25       0.27   0.25      0.29   0.2 -0.21    0.26   -0.38\n",
      "[1] 0.72\n",
      "     IncHomeS Gender Political  Educ  PBC5 HabitC2 HabitE1 HabitE2\n",
      "PC21      0.4  -0.32      0.33 -0.23 -0.21   -0.23   -0.25    0.29\n",
      "[1] 0.73\n",
      "     Sqft HouseholdS Ethnic Income  Educ ControlN3 ControlN4 HabitE1\n",
      "PC22 0.32       -0.2  -0.21  -0.23 -0.23      0.32     -0.31    0.31\n",
      "[1] 0.75\n",
      "     Gender Ethnic Frugal2 ControlN2R ControlN3 HabitC2 HabitC5 HabitC7 HabitE2\n",
      "PC23  -0.34   -0.2   -0.23      -0.31      0.26    -0.2    0.29   -0.22   -0.23\n",
      "[1] 0.76\n",
      "     Political Income Educ ControlN3 PBC3R HabitC2 HabitC5 HabitC7\n",
      "PC24      0.27   0.21 0.33      0.32 -0.27    -0.2   -0.25    0.41\n",
      "[1] 0.77\n",
      "      Educ ConvB3 ConvB4 ControlN3  PBC1 PBC3R PBC5 HabitC1 HabitC2 HabitC3\n",
      "PC25 -0.23  -0.21   -0.2      0.25 -0.28  0.26  0.2   -0.23   -0.27    0.25\n",
      "     HabitE1\n",
      "PC25   -0.28\n",
      "[1] 0.78\n",
      "     IncHomeS  Age HouseholdS Political HabitC1 HabitC2 HabitC3 HabitC4 HabitC6\n",
      "PC26    -0.24 0.27      -0.21       0.3    0.32    0.23   -0.24   -0.37    0.21\n",
      "[1] 0.8\n",
      "     Political Ethnic SubNorm1  PBC1 PBC3R HabitC6 HabitE2 HabitE3\n",
      "PC27      0.23   0.29     0.23 -0.38  0.23    -0.3   -0.35    0.26\n",
      "[1] 0.81\n",
      "     IncHomeS Income ControlN2R  PBC1 PBC3R HabitC4 HabitC7\n",
      "PC28     0.33  -0.23       0.31 -0.23 -0.22   -0.45    0.32\n",
      "[1] 0.82\n",
      "     Educ ControlN3 HabitC1 HabitC5 HabitC7 HabitE2 HabitE3\n",
      "PC29 0.25      0.35   -0.31    0.25   -0.37    0.24   -0.36\n",
      "[1] 0.83\n",
      "     Gender Income  PBC1   SN3 HabitC2 HabitC4 HabitE1 HabitE2 HabitE3\n",
      "PC30  -0.22   0.29 -0.27 -0.45    0.25   -0.24    0.25     0.2   -0.23\n",
      "[1] 0.84\n",
      "     IncHomeS  Age Political  Educ  PBC1 HabitC3 HabitC4\n",
      "PC31    -0.41 0.21     -0.26 -0.22 -0.24   -0.23     0.2\n",
      "[1] 0.85\n",
      "     OwnRent ControlN2R ControlN4  PBC1 HabitC1 HabitC2 HabitC6\n",
      "PC32     0.2       0.26     -0.28 -0.31    0.37   -0.35    0.26\n",
      "[1] 0.86\n",
      "     Income  Educ PBC3R  SN3 HabitC7\n",
      "PC33   0.25 -0.33  0.34 0.45    0.24\n",
      "[1] 0.87\n",
      "     OwnRent HouseholdS Income ControlN2R PBC3R   SN3 HabitC3 HabitC5 HabitC6\n",
      "PC34     0.4       -0.2   0.21       0.23 -0.25 -0.24    0.23    0.26   -0.29\n",
      "     HabitE3\n",
      "PC34     0.3\n",
      "[1] 0.88\n",
      "     HouseholdS Political ConvB1 SubNorm1 SubNorm3\n",
      "PC35      -0.27      0.22   0.21    -0.35     0.43\n",
      "[1] 0.88\n",
      "     HouseholdS HabitC2 HabitC3 HabitE3\n",
      "PC36      -0.32   -0.24    0.46   -0.29\n",
      "[1] 0.89\n",
      "      Age OwnRent Income  Educ PBC3R PBC5\n",
      "PC37 0.25   -0.42   0.38 -0.25 -0.33 0.29\n",
      "[1] 0.9\n",
      "       Age OwnRent HouseholdS  MC5 ControlN1 SubNorm1 SubNorm3 HabitC1\n",
      "PC38 -0.24    0.24       -0.3 0.29      0.31     0.27    -0.28   -0.22\n",
      "[1] 0.91\n",
      "     OwnRent ConvB1 ConvB3 ControlN1 ControlN4 SubNorm1 SubNorm3   SN3 HabitC5\n",
      "PC39   -0.21   0.26  -0.22     -0.39      0.37      0.2    -0.37 -0.23    0.22\n",
      "[1] 0.91\n",
      "     HouseholdS  PBC5 HabitC3 HabitC6\n",
      "PC40      -0.21 -0.64    0.22    0.25\n"
     ]
    }
   ],
   "source": [
    "res<-prcomp(data2, retx=F,scale=T)$rotation[,1:40];\n",
    "resAbs <- res;\n",
    "resAbs[res<0] <- -res[res<0];\n",
    "z <- cumsum(prcomp(data2, retx=F,scale=T)$sdev^2)/\n",
    "     sum(prcomp(data2, retx=F,scale=T)$sdev^2)\n",
    "\n",
    "for (i in 1:40){\n",
    "  print(z[i]);\n",
    "  print(t(res[resAbs[,i]>.2,i,drop=FALSE]));\n",
    "}\n"
   ]
  },
  {
   "cell_type": "code",
   "execution_count": 9,
   "metadata": {
    "collapsed": false
   },
   "outputs": [
    {
     "data": {
      "image/png": "[encoded data removed]",
      "text/plain": [
       "plot without title"
      ]
     },
     "metadata": {},
     "output_type": "display_data"
    }
   ],
   "source": [
    "plot(1:dim(data2)[2],cumsum(prcomp(data2, retx=F,scale=T)$sdev^2)/\n",
    "     sum(prcomp(data2, retx=F,scale=T)$sdev^2),\n",
    "     ylim=c(0,1),xlab=\"Number of coponents\",\n",
    "     ylab=\"Fraction of variance\");"
   ]
  },
  {
   "cell_type": "code",
   "execution_count": 10,
   "metadata": {
    "collapsed": true
   },
   "outputs": [],
   "source": [
    "res <- c();\n",
    "vnam <- names(data2);\n",
    "for (i in 2:dim(data2)[2]){\n",
    "  fmla <- as.formula(paste(vnam[i],paste(vnam[-c(1,i)],collapse=\"+\"),sep=\"~\"));\n",
    "  res <- rbind(res,c(i,round(summary(lm(fmla,data=data2))$r.squared,2)));\n",
    "}"
   ]
  },
  {
   "cell_type": "code",
   "execution_count": 11,
   "metadata": {
    "collapsed": false
   },
   "outputs": [
    {
     "data": {
      "text/html": [
       "<table>\n",
       "<tbody>\n",
       "\t<tr><th scope=row>ComfNS3</th><td>28  </td><td>0.68</td></tr>\n",
       "\t<tr><th scope=row>MC1</th><td>14  </td><td>0.67</td></tr>\n",
       "\t<tr><th scope=row>MC2</th><td>15  </td><td>0.67</td></tr>\n",
       "\t<tr><th scope=row>ComfNS1</th><td>26  </td><td>0.66</td></tr>\n",
       "\t<tr><th scope=row>Trust2</th><td>23  </td><td>0.64</td></tr>\n",
       "\t<tr><th scope=row>SN4</th><td>52  </td><td>0.64</td></tr>\n",
       "\t<tr><th scope=row>Sqft</th><td> 7  </td><td>0.62</td></tr>\n",
       "\t<tr><th scope=row>Frugal2</th><td>20  </td><td>0.62</td></tr>\n",
       "\t<tr><th scope=row>SubNorm2</th><td>42  </td><td>0.60</td></tr>\n",
       "\t<tr><th scope=row>Frugal3</th><td>21  </td><td>0.59</td></tr>\n",
       "\t<tr><th scope=row>ComfNS2</th><td>27  </td><td>0.58</td></tr>\n",
       "\t<tr><th scope=row>Frugal1</th><td>19  </td><td>0.57</td></tr>\n",
       "\t<tr><th scope=row>MC5</th><td>18  </td><td>0.56</td></tr>\n",
       "\t<tr><th scope=row>ConvB4</th><td>32  </td><td>0.56</td></tr>\n",
       "\t<tr><th scope=row>ConvB2</th><td>30  </td><td>0.55</td></tr>\n",
       "\t<tr><th scope=row>ConvB1</th><td>29  </td><td>0.53</td></tr>\n",
       "\t<tr><th scope=row>MC3</th><td>16  </td><td>0.52</td></tr>\n",
       "\t<tr><th scope=row>ConvB3</th><td>31  </td><td>0.52</td></tr>\n",
       "\t<tr><th scope=row>MC4</th><td>17  </td><td>0.50</td></tr>\n",
       "\t<tr><th scope=row>SubNorm1</th><td>41  </td><td>0.50</td></tr>\n",
       "\t<tr><th scope=row>SubNorm3</th><td>43  </td><td>0.45</td></tr>\n",
       "\t<tr><th scope=row>PBC5</th><td>48  </td><td>0.45</td></tr>\n",
       "\t<tr><th scope=row>ControlN1</th><td>33  </td><td>0.43</td></tr>\n",
       "\t<tr><th scope=row>OwnRent</th><td> 4  </td><td>0.38</td></tr>\n",
       "\t<tr><th scope=row>HabitC3</th><td>55  </td><td>0.38</td></tr>\n",
       "\t<tr><th scope=row>Income</th><td>12  </td><td>0.36</td></tr>\n",
       "\t<tr><th scope=row>HouseholdS</th><td> 9  </td><td>0.35</td></tr>\n",
       "\t<tr><th scope=row>SN3</th><td>51  </td><td>0.34</td></tr>\n",
       "\t<tr><th scope=row>HabitC6</th><td>58  </td><td>0.34</td></tr>\n",
       "\t<tr><th scope=row>ControlN4</th><td>36  </td><td>0.33</td></tr>\n",
       "\t<tr><th scope=row>HabitC1</th><td>53  </td><td>0.33</td></tr>\n",
       "\t<tr><th scope=row>Age</th><td> 2  </td><td>0.31</td></tr>\n",
       "\t<tr><th scope=row>PBC3R</th><td>46  </td><td>0.30</td></tr>\n",
       "\t<tr><th scope=row>PBC1</th><td>44  </td><td>0.29</td></tr>\n",
       "\t<tr><th scope=row>HabitC4</th><td>56  </td><td>0.29</td></tr>\n",
       "\t<tr><th scope=row>Gender</th><td> 3  </td><td>0.26</td></tr>\n",
       "\t<tr><th scope=row>HabitC2</th><td>54  </td><td>0.26</td></tr>\n",
       "\t<tr><th scope=row>HabitE3</th><td>62  </td><td>0.25</td></tr>\n",
       "\t<tr><th scope=row>Educ</th><td>13  </td><td>0.24</td></tr>\n",
       "\t<tr><th scope=row>ControlN3</th><td>35  </td><td>0.24</td></tr>\n",
       "\t<tr><th scope=row>HabitC5</th><td>57  </td><td>0.24</td></tr>\n",
       "\t<tr><th scope=row>HabitC7</th><td>59  </td><td>0.24</td></tr>\n",
       "\t<tr><th scope=row>ControlN2R</th><td>34  </td><td>0.23</td></tr>\n",
       "\t<tr><th scope=row>HabitE2</th><td>61  </td><td>0.21</td></tr>\n",
       "\t<tr><th scope=row>Political</th><td>10  </td><td>0.18</td></tr>\n",
       "\t<tr><th scope=row>HabitE1</th><td>60  </td><td>0.17</td></tr>\n",
       "\t<tr><th scope=row>Ethnic</th><td>11  </td><td>0.16</td></tr>\n",
       "</tbody>\n",
       "</table>\n"
      ],
      "text/latex": [
       "\\begin{tabular}{r|ll}\n",
       "\tComfNS3 & 28   & 0.68\\\\\n",
       "\tMC1 & 14   & 0.67\\\\\n",
       "\tMC2 & 15   & 0.67\\\\\n",
       "\tComfNS1 & 26   & 0.66\\\\\n",
       "\tTrust2 & 23   & 0.64\\\\\n",
       "\tSN4 & 52   & 0.64\\\\\n",
       "\tSqft &  7   & 0.62\\\\\n",
       "\tFrugal2 & 20   & 0.62\\\\\n",
       "\tSubNorm2 & 42   & 0.60\\\\\n",
       "\tFrugal3 & 21   & 0.59\\\\\n",
       "\tComfNS2 & 27   & 0.58\\\\\n",
       "\tFrugal1 & 19   & 0.57\\\\\n",
       "\tMC5 & 18   & 0.56\\\\\n",
       "\tConvB4 & 32   & 0.56\\\\\n",
       "\tConvB2 & 30   & 0.55\\\\\n",
       "\tConvB1 & 29   & 0.53\\\\\n",
       "\tMC3 & 16   & 0.52\\\\\n",
       "\tConvB3 & 31   & 0.52\\\\\n",
       "\tMC4 & 17   & 0.50\\\\\n",
       "\tSubNorm1 & 41   & 0.50\\\\\n",
       "\tSubNorm3 & 43   & 0.45\\\\\n",
       "\tPBC5 & 48   & 0.45\\\\\n",
       "\tControlN1 & 33   & 0.43\\\\\n",
       "\tOwnRent &  4   & 0.38\\\\\n",
       "\tHabitC3 & 55   & 0.38\\\\\n",
       "\tIncome & 12   & 0.36\\\\\n",
       "\tHouseholdS &  9   & 0.35\\\\\n",
       "\tSN3 & 51   & 0.34\\\\\n",
       "\tHabitC6 & 58   & 0.34\\\\\n",
       "\tControlN4 & 36   & 0.33\\\\\n",
       "\tHabitC1 & 53   & 0.33\\\\\n",
       "\tAge &  2   & 0.31\\\\\n",
       "\tPBC3R & 46   & 0.30\\\\\n",
       "\tPBC1 & 44   & 0.29\\\\\n",
       "\tHabitC4 & 56   & 0.29\\\\\n",
       "\tGender &  3   & 0.26\\\\\n",
       "\tHabitC2 & 54   & 0.26\\\\\n",
       "\tHabitE3 & 62   & 0.25\\\\\n",
       "\tEduc & 13   & 0.24\\\\\n",
       "\tControlN3 & 35   & 0.24\\\\\n",
       "\tHabitC5 & 57   & 0.24\\\\\n",
       "\tHabitC7 & 59   & 0.24\\\\\n",
       "\tControlN2R & 34   & 0.23\\\\\n",
       "\tHabitE2 & 61   & 0.21\\\\\n",
       "\tPolitical & 10   & 0.18\\\\\n",
       "\tHabitE1 & 60   & 0.17\\\\\n",
       "\tEthnic & 11   & 0.16\\\\\n",
       "\\end{tabular}\n"
      ],
      "text/markdown": [
       "1. 28\n",
       "2. 14\n",
       "3. 15\n",
       "4. 26\n",
       "5. 23\n",
       "6. 52\n",
       "7. 7\n",
       "8. 20\n",
       "9. 42\n",
       "10. 21\n",
       "11. 27\n",
       "12. 19\n",
       "13. 18\n",
       "14. 32\n",
       "15. 30\n",
       "16. 29\n",
       "17. 16\n",
       "18. 31\n",
       "19. 17\n",
       "20. 41\n",
       "21. 43\n",
       "22. 48\n",
       "23. 33\n",
       "24. 4\n",
       "25. 55\n",
       "26. 12\n",
       "27. 9\n",
       "28. 51\n",
       "29. 58\n",
       "30. 36\n",
       "31. 53\n",
       "32. 2\n",
       "33. 46\n",
       "34. 44\n",
       "35. 56\n",
       "36. 3\n",
       "37. 54\n",
       "38. 62\n",
       "39. 13\n",
       "40. 35\n",
       "41. 57\n",
       "42. 59\n",
       "43. 34\n",
       "44. 61\n",
       "45. 10\n",
       "46. 60\n",
       "47. 11\n",
       "48. 0.68\n",
       "49. 0.67\n",
       "50. 0.67\n",
       "51. 0.66\n",
       "52. 0.64\n",
       "53. 0.64\n",
       "54. 0.62\n",
       "55. 0.62\n",
       "56. 0.6\n",
       "57. 0.59\n",
       "58. 0.58\n",
       "59. 0.57\n",
       "60. 0.56\n",
       "61. 0.56\n",
       "62. 0.55\n",
       "63. 0.53\n",
       "64. 0.52\n",
       "65. 0.52\n",
       "66. 0.5\n",
       "67. 0.5\n",
       "68. 0.45\n",
       "69. 0.45\n",
       "70. 0.43\n",
       "71. 0.38\n",
       "72. 0.38\n",
       "73. 0.36\n",
       "74. 0.35\n",
       "75. 0.34\n",
       "76. 0.34\n",
       "77. 0.33\n",
       "78. 0.33\n",
       "79. 0.31\n",
       "80. 0.3\n",
       "81. 0.29\n",
       "82. 0.29\n",
       "83. 0.26\n",
       "84. 0.26\n",
       "85. 0.25\n",
       "86. 0.24\n",
       "87. 0.24\n",
       "88. 0.24\n",
       "89. 0.24\n",
       "90. 0.23\n",
       "91. 0.21\n",
       "92. 0.18\n",
       "93. 0.17\n",
       "94. 0.16\n",
       "\n",
       "\n"
      ],
      "text/plain": [
       "           [,1] [,2]\n",
       "ComfNS3    28   0.68\n",
       "MC1        14   0.67\n",
       "MC2        15   0.67\n",
       "ComfNS1    26   0.66\n",
       "Trust2     23   0.64\n",
       "SN4        52   0.64\n",
       "Sqft        7   0.62\n",
       "Frugal2    20   0.62\n",
       "SubNorm2   42   0.60\n",
       "Frugal3    21   0.59\n",
       "ComfNS2    27   0.58\n",
       "Frugal1    19   0.57\n",
       "MC5        18   0.56\n",
       "ConvB4     32   0.56\n",
       "ConvB2     30   0.55\n",
       "ConvB1     29   0.53\n",
       "MC3        16   0.52\n",
       "ConvB3     31   0.52\n",
       "MC4        17   0.50\n",
       "SubNorm1   41   0.50\n",
       "SubNorm3   43   0.45\n",
       "PBC5       48   0.45\n",
       "ControlN1  33   0.43\n",
       "OwnRent     4   0.38\n",
       "HabitC3    55   0.38\n",
       "Income     12   0.36\n",
       "HouseholdS  9   0.35\n",
       "SN3        51   0.34\n",
       "HabitC6    58   0.34\n",
       "ControlN4  36   0.33\n",
       "HabitC1    53   0.33\n",
       "Age         2   0.31\n",
       "PBC3R      46   0.30\n",
       "PBC1       44   0.29\n",
       "HabitC4    56   0.29\n",
       "Gender      3   0.26\n",
       "HabitC2    54   0.26\n",
       "HabitE3    62   0.25\n",
       "Educ       13   0.24\n",
       "ControlN3  35   0.24\n",
       "HabitC5    57   0.24\n",
       "HabitC7    59   0.24\n",
       "ControlN2R 34   0.23\n",
       "HabitE2    61   0.21\n",
       "Political  10   0.18\n",
       "HabitE1    60   0.17\n",
       "Ethnic     11   0.16"
      ]
     },
     "metadata": {},
     "output_type": "display_data"
    }
   ],
   "source": [
    "row.names(res) <- vnam[res[,1]];\n",
    "o = order(-res[,2]);\n",
    "res[o,][res[o,2]<.7,]"
   ]
  },
  {
   "cell_type": "code",
   "execution_count": 12,
   "metadata": {
    "collapsed": false
   },
   "outputs": [],
   "source": [
    "IndepPred <- row.names(res[o,][res[o,2]<.7,])"
   ]
  },
  {
   "cell_type": "code",
   "execution_count": 13,
   "metadata": {
    "collapsed": true
   },
   "outputs": [],
   "source": [
    "fmla <- as.formula(paste(\"IncHomeS\",paste(IndepPred,collapse=\"+\"),sep=\"~\"));"
   ]
  },
  {
   "cell_type": "code",
   "execution_count": 14,
   "metadata": {
    "collapsed": false
   },
   "outputs": [
    {
     "data": {
      "text/plain": [
       "\n",
       "  1   2   3   4   5   6   7   8 \n",
       " 54  43 124 218  56  63  50  36 "
      ]
     },
     "metadata": {},
     "output_type": "display_data"
    }
   ],
   "source": [
    "table(data2[,\"IncHomeS\"])"
   ]
  },
  {
   "cell_type": "code",
   "execution_count": 15,
   "metadata": {
    "collapsed": false
   },
   "outputs": [
    {
     "data": {
      "text/plain": [
       "\n",
       "Call:\n",
       "lm(formula = fmla, data = data2)\n",
       "\n",
       "Residuals:\n",
       "   Min     1Q Median     3Q    Max \n",
       "-3.892 -1.117 -0.107  1.098  4.836 \n",
       "\n",
       "Coefficients:\n",
       "             Estimate Std. Error t value Pr(>|t|)    \n",
       "(Intercept)  2.74e+00   1.23e+00    2.23  0.02638 *  \n",
       "ComfNS3      1.46e-01   6.80e-02    2.15  0.03185 *  \n",
       "MC1          1.31e-02   7.04e-02    0.19  0.85301    \n",
       "MC2          2.46e-02   7.50e-02    0.33  0.74277    \n",
       "ComfNS1      7.65e-02   7.56e-02    1.01  0.31170    \n",
       "Trust2      -3.95e-03   5.07e-02   -0.08  0.93787    \n",
       "SN4          4.93e-02   5.14e-02    0.96  0.33735    \n",
       "Sqft        -2.53e-05   7.93e-05   -0.32  0.74949    \n",
       "Frugal2     -1.02e-01   9.00e-02   -1.14  0.25618    \n",
       "SubNorm2    -1.47e-02   6.75e-02   -0.22  0.82736    \n",
       "Frugal3     -1.78e-02   9.19e-02   -0.19  0.84678    \n",
       "ComfNS2      9.37e-02   6.07e-02    1.54  0.12290    \n",
       "Frugal1     -5.56e-02   1.09e-01   -0.51  0.61042    \n",
       "MC5         -7.65e-02   8.71e-02   -0.88  0.38040    \n",
       "ConvB4      -7.90e-03   5.71e-02   -0.14  0.89001    \n",
       "ConvB2      -8.15e-02   8.19e-02   -1.00  0.32011    \n",
       "ConvB1       8.15e-02   7.60e-02    1.07  0.28359    \n",
       "MC3         -8.67e-02   6.87e-02   -1.26  0.20707    \n",
       "ConvB3       3.27e-02   5.14e-02    0.63  0.52569    \n",
       "MC4          8.47e-02   7.00e-02    1.21  0.22708    \n",
       "SubNorm1     7.66e-02   5.76e-02    1.33  0.18417    \n",
       "SubNorm3    -3.55e-02   5.46e-02   -0.65  0.51544    \n",
       "PBC5        -1.27e-01   6.87e-02   -1.85  0.06428 .  \n",
       "ControlN1    7.83e-02   8.98e-02    0.87  0.38403    \n",
       "OwnRent      2.79e-02   1.60e-01    0.17  0.86192    \n",
       "HabitC3      4.87e-02   4.28e-02    1.14  0.25595    \n",
       "Income      -1.95e-02   4.16e-02   -0.47  0.64000    \n",
       "HouseholdS  -4.42e-02   6.47e-02   -0.68  0.49514    \n",
       "SN3         -1.86e-02   5.25e-02   -0.35  0.72280    \n",
       "HabitC6     -4.04e-02   3.65e-02   -1.10  0.26983    \n",
       "ControlN4    1.32e-02   5.37e-02    0.25  0.80592    \n",
       "HabitC1      4.40e-02   8.79e-02    0.50  0.61710    \n",
       "Age          2.39e-02   6.92e-03    3.45  0.00059 ***\n",
       "PBC3R       -8.24e-03   5.13e-02   -0.16  0.87248    \n",
       "PBC1         9.66e-02   6.46e-02    1.49  0.13557    \n",
       "HabitC4      2.15e-02   3.97e-02    0.54  0.58716    \n",
       "Gender       4.14e-02   1.50e-01    0.28  0.78307    \n",
       "HabitC2     -8.79e-02   4.21e-02   -2.09  0.03723 *  \n",
       "HabitE3     -1.74e-02   1.13e-01   -0.15  0.87747    \n",
       "Educ         1.60e-02   6.84e-02    0.23  0.81562    \n",
       "ControlN3    3.89e-02   7.83e-02    0.50  0.61944    \n",
       "HabitC5     -1.88e-02   3.90e-02   -0.48  0.62881    \n",
       "HabitC7     -1.69e-02   4.39e-02   -0.39  0.69981    \n",
       "ControlN2R  -8.25e-02   4.54e-02   -1.82  0.06966 .  \n",
       "HabitE2      8.49e-02   1.12e-01    0.76  0.45023    \n",
       "Political   -6.96e-02   3.26e-02   -2.14  0.03314 *  \n",
       "HabitE1      4.03e-02   1.63e-01    0.25  0.80455    \n",
       "Ethnic       8.50e-02   5.94e-02    1.43  0.15295    \n",
       "---\n",
       "Signif. codes:  0 '***' 0.001 '**' 0.01 '*' 0.05 '.' 0.1 ' ' 1\n",
       "\n",
       "Residual standard error: 1.7 on 596 degrees of freedom\n",
       "Multiple R-squared:  0.175,\tAdjusted R-squared:  0.109 \n",
       "F-statistic: 2.68 on 47 and 596 DF,  p-value: 4.13e-08\n"
      ]
     },
     "metadata": {},
     "output_type": "display_data"
    }
   ],
   "source": [
    "mod = lm(fmla,data=data2)\n",
    "summary(mod)"
   ]
  },
  {
   "cell_type": "code",
   "execution_count": 16,
   "metadata": {
    "collapsed": false
   },
   "outputs": [
    {
     "data": {
      "text/html": [
       "<table>\n",
       "<thead><tr><th></th><th scope=col>Df</th><th scope=col>Sum Sq</th><th scope=col>Mean Sq</th><th scope=col>F value</th><th scope=col>Pr(&gt;F)</th></tr></thead>\n",
       "<tbody>\n",
       "\t<tr><th scope=row>ComfNS3</th><td>  1    </td><td>1.7e+02</td><td>166.007</td><td>57.101 </td><td>1.6e-13</td></tr>\n",
       "\t<tr><th scope=row>MC1</th><td>  1    </td><td>1.7e-01</td><td>  0.171</td><td> 0.059 </td><td>8.1e-01</td></tr>\n",
       "\t<tr><th scope=row>MC2</th><td>  1    </td><td>4.7e-01</td><td>  0.466</td><td> 0.160 </td><td>6.9e-01</td></tr>\n",
       "\t<tr><th scope=row>ComfNS1</th><td>  1    </td><td>1.7e+01</td><td> 16.989</td><td> 5.844 </td><td>1.6e-02</td></tr>\n",
       "\t<tr><th scope=row>Trust2</th><td>  1    </td><td>1.5e-01</td><td>  0.145</td><td> 0.050 </td><td>8.2e-01</td></tr>\n",
       "\t<tr><th scope=row>SN4</th><td>  1    </td><td>7.1e-01</td><td>  0.712</td><td> 0.245 </td><td>6.2e-01</td></tr>\n",
       "\t<tr><th scope=row>Sqft</th><td>  1    </td><td>3.7e-01</td><td>  0.373</td><td> 0.128 </td><td>7.2e-01</td></tr>\n",
       "\t<tr><th scope=row>Frugal2</th><td>  1    </td><td>1.9e+01</td><td> 18.922</td><td> 6.508 </td><td>1.1e-02</td></tr>\n",
       "\t<tr><th scope=row>SubNorm2</th><td>  1    </td><td>1.5e+00</td><td>  1.503</td><td> 0.517 </td><td>4.7e-01</td></tr>\n",
       "\t<tr><th scope=row>Frugal3</th><td>  1    </td><td>1.0e+00</td><td>  1.038</td><td> 0.357 </td><td>5.5e-01</td></tr>\n",
       "\t<tr><th scope=row>ComfNS2</th><td>  1    </td><td>4.2e+00</td><td>  4.193</td><td> 1.442 </td><td>2.3e-01</td></tr>\n",
       "\t<tr><th scope=row>Frugal1</th><td>  1    </td><td>1.2e+00</td><td>  1.225</td><td> 0.421 </td><td>5.2e-01</td></tr>\n",
       "\t<tr><th scope=row>MC5</th><td>  1    </td><td>2.9e+00</td><td>  2.869</td><td> 0.987 </td><td>3.2e-01</td></tr>\n",
       "\t<tr><th scope=row>ConvB4</th><td>  1    </td><td>1.5e+00</td><td>  1.540</td><td> 0.530 </td><td>4.7e-01</td></tr>\n",
       "\t<tr><th scope=row>ConvB2</th><td>  1    </td><td>4.4e+00</td><td>  4.407</td><td> 1.516 </td><td>2.2e-01</td></tr>\n",
       "\t<tr><th scope=row>ConvB1</th><td>  1    </td><td>7.3e+00</td><td>  7.261</td><td> 2.498 </td><td>1.1e-01</td></tr>\n",
       "\t<tr><th scope=row>MC3</th><td>  1    </td><td>2.4e+00</td><td>  2.441</td><td> 0.840 </td><td>3.6e-01</td></tr>\n",
       "\t<tr><th scope=row>ConvB3</th><td>  1    </td><td>1.1e+00</td><td>  1.065</td><td> 0.366 </td><td>5.5e-01</td></tr>\n",
       "\t<tr><th scope=row>MC4</th><td>  1    </td><td>7.6e+00</td><td>  7.617</td><td> 2.620 </td><td>1.1e-01</td></tr>\n",
       "\t<tr><th scope=row>SubNorm1</th><td>  1    </td><td>5.5e+00</td><td>  5.543</td><td> 1.907 </td><td>1.7e-01</td></tr>\n",
       "\t<tr><th scope=row>SubNorm3</th><td>  1    </td><td>1.3e+00</td><td>  1.277</td><td> 0.439 </td><td>5.1e-01</td></tr>\n",
       "\t<tr><th scope=row>PBC5</th><td>  1    </td><td>5.7e+00</td><td>  5.659</td><td> 1.947 </td><td>1.6e-01</td></tr>\n",
       "\t<tr><th scope=row>ControlN1</th><td>  1    </td><td>2.7e+00</td><td>  2.737</td><td> 0.941 </td><td>3.3e-01</td></tr>\n",
       "\t<tr><th scope=row>OwnRent</th><td>  1    </td><td>5.0e+00</td><td>  4.975</td><td> 1.711 </td><td>1.9e-01</td></tr>\n",
       "\t<tr><th scope=row>HabitC3</th><td>  1    </td><td>8.0e-01</td><td>  0.802</td><td> 0.276 </td><td>6.0e-01</td></tr>\n",
       "\t<tr><th scope=row>Income</th><td>  1    </td><td>2.4e-01</td><td>  0.239</td><td> 0.082 </td><td>7.7e-01</td></tr>\n",
       "\t<tr><th scope=row>HouseholdS</th><td>  1    </td><td>6.4e+00</td><td>  6.385</td><td> 2.196 </td><td>1.4e-01</td></tr>\n",
       "\t<tr><th scope=row>SN3</th><td>  1    </td><td>3.9e-01</td><td>  0.387</td><td> 0.133 </td><td>7.2e-01</td></tr>\n",
       "\t<tr><th scope=row>HabitC6</th><td>  1    </td><td>2.0e+00</td><td>  2.050</td><td> 0.705 </td><td>4.0e-01</td></tr>\n",
       "\t<tr><th scope=row>ControlN4</th><td>  1    </td><td>1.3e+00</td><td>  1.253</td><td> 0.431 </td><td>5.1e-01</td></tr>\n",
       "\t<tr><th scope=row>HabitC1</th><td>  1    </td><td>1.6e-01</td><td>  0.157</td><td> 0.054 </td><td>8.2e-01</td></tr>\n",
       "\t<tr><th scope=row>Age</th><td>  1    </td><td>3.4e+01</td><td> 34.218</td><td>11.770 </td><td>6.4e-04</td></tr>\n",
       "\t<tr><th scope=row>PBC3R</th><td>  1    </td><td>2.7e-01</td><td>  0.270</td><td> 0.093 </td><td>7.6e-01</td></tr>\n",
       "\t<tr><th scope=row>PBC1</th><td>  1    </td><td>7.6e+00</td><td>  7.617</td><td> 2.620 </td><td>1.1e-01</td></tr>\n",
       "\t<tr><th scope=row>HabitC4</th><td>  1    </td><td>3.6e-02</td><td>  0.036</td><td> 0.012 </td><td>9.1e-01</td></tr>\n",
       "\t<tr><th scope=row>Gender</th><td>  1    </td><td>1.1e+00</td><td>  1.103</td><td> 0.379 </td><td>5.4e-01</td></tr>\n",
       "\t<tr><th scope=row>HabitC2</th><td>  1    </td><td>1.4e+01</td><td> 13.902</td><td> 4.782 </td><td>2.9e-02</td></tr>\n",
       "\t<tr><th scope=row>HabitE3</th><td>  1    </td><td>7.2e-02</td><td>  0.072</td><td> 0.025 </td><td>8.7e-01</td></tr>\n",
       "\t<tr><th scope=row>Educ</th><td>  1    </td><td>4.5e-01</td><td>  0.453</td><td> 0.156 </td><td>6.9e-01</td></tr>\n",
       "\t<tr><th scope=row>ControlN3</th><td>  1    </td><td>1.8e+00</td><td>  1.784</td><td> 0.614 </td><td>4.3e-01</td></tr>\n",
       "\t<tr><th scope=row>HabitC5</th><td>  1    </td><td>1.9e+00</td><td>  1.927</td><td> 0.663 </td><td>4.2e-01</td></tr>\n",
       "\t<tr><th scope=row>HabitC7</th><td>  1    </td><td>8.3e-01</td><td>  0.832</td><td> 0.286 </td><td>5.9e-01</td></tr>\n",
       "\t<tr><th scope=row>ControlN2R</th><td>  1    </td><td>1.0e+01</td><td>  9.966</td><td> 3.428 </td><td>6.5e-02</td></tr>\n",
       "\t<tr><th scope=row>HabitE2</th><td>  1    </td><td>2.4e+00</td><td>  2.398</td><td> 0.825 </td><td>3.6e-01</td></tr>\n",
       "\t<tr><th scope=row>Political</th><td>  1    </td><td>1.5e+01</td><td> 15.206</td><td> 5.230 </td><td>2.3e-02</td></tr>\n",
       "\t<tr><th scope=row>HabitE1</th><td>  1    </td><td>3.3e-01</td><td>  0.335</td><td> 0.115 </td><td>7.3e-01</td></tr>\n",
       "\t<tr><th scope=row>Ethnic</th><td>  1    </td><td>6.0e+00</td><td>  5.954</td><td> 2.048 </td><td>1.5e-01</td></tr>\n",
       "\t<tr><th scope=row>Residuals</th><td>596    </td><td>1.7e+03</td><td>  2.907</td><td>    NA </td><td>     NA</td></tr>\n",
       "</tbody>\n",
       "</table>\n"
      ],
      "text/latex": [
       "\\begin{tabular}{r|lllll}\n",
       "  & Df & Sum Sq & Mean Sq & F value & Pr(>F)\\\\\n",
       "\\hline\n",
       "\tComfNS3 &   1     & 1.7e+02 & 166.007 & 57.101  & 1.6e-13\\\\\n",
       "\tMC1 &   1     & 1.7e-01 &   0.171 &  0.059  & 8.1e-01\\\\\n",
       "\tMC2 &   1     & 4.7e-01 &   0.466 &  0.160  & 6.9e-01\\\\\n",
       "\tComfNS1 &   1     & 1.7e+01 &  16.989 &  5.844  & 1.6e-02\\\\\n",
       "\tTrust2 &   1     & 1.5e-01 &   0.145 &  0.050  & 8.2e-01\\\\\n",
       "\tSN4 &   1     & 7.1e-01 &   0.712 &  0.245  & 6.2e-01\\\\\n",
       "\tSqft &   1     & 3.7e-01 &   0.373 &  0.128  & 7.2e-01\\\\\n",
       "\tFrugal2 &   1     & 1.9e+01 &  18.922 &  6.508  & 1.1e-02\\\\\n",
       "\tSubNorm2 &   1     & 1.5e+00 &   1.503 &  0.517  & 4.7e-01\\\\\n",
       "\tFrugal3 &   1     & 1.0e+00 &   1.038 &  0.357  & 5.5e-01\\\\\n",
       "\tComfNS2 &   1     & 4.2e+00 &   4.193 &  1.442  & 2.3e-01\\\\\n",
       "\tFrugal1 &   1     & 1.2e+00 &   1.225 &  0.421  & 5.2e-01\\\\\n",
       "\tMC5 &   1     & 2.9e+00 &   2.869 &  0.987  & 3.2e-01\\\\\n",
       "\tConvB4 &   1     & 1.5e+00 &   1.540 &  0.530  & 4.7e-01\\\\\n",
       "\tConvB2 &   1     & 4.4e+00 &   4.407 &  1.516  & 2.2e-01\\\\\n",
       "\tConvB1 &   1     & 7.3e+00 &   7.261 &  2.498  & 1.1e-01\\\\\n",
       "\tMC3 &   1     & 2.4e+00 &   2.441 &  0.840  & 3.6e-01\\\\\n",
       "\tConvB3 &   1     & 1.1e+00 &   1.065 &  0.366  & 5.5e-01\\\\\n",
       "\tMC4 &   1     & 7.6e+00 &   7.617 &  2.620  & 1.1e-01\\\\\n",
       "\tSubNorm1 &   1     & 5.5e+00 &   5.543 &  1.907  & 1.7e-01\\\\\n",
       "\tSubNorm3 &   1     & 1.3e+00 &   1.277 &  0.439  & 5.1e-01\\\\\n",
       "\tPBC5 &   1     & 5.7e+00 &   5.659 &  1.947  & 1.6e-01\\\\\n",
       "\tControlN1 &   1     & 2.7e+00 &   2.737 &  0.941  & 3.3e-01\\\\\n",
       "\tOwnRent &   1     & 5.0e+00 &   4.975 &  1.711  & 1.9e-01\\\\\n",
       "\tHabitC3 &   1     & 8.0e-01 &   0.802 &  0.276  & 6.0e-01\\\\\n",
       "\tIncome &   1     & 2.4e-01 &   0.239 &  0.082  & 7.7e-01\\\\\n",
       "\tHouseholdS &   1     & 6.4e+00 &   6.385 &  2.196  & 1.4e-01\\\\\n",
       "\tSN3 &   1     & 3.9e-01 &   0.387 &  0.133  & 7.2e-01\\\\\n",
       "\tHabitC6 &   1     & 2.0e+00 &   2.050 &  0.705  & 4.0e-01\\\\\n",
       "\tControlN4 &   1     & 1.3e+00 &   1.253 &  0.431  & 5.1e-01\\\\\n",
       "\tHabitC1 &   1     & 1.6e-01 &   0.157 &  0.054  & 8.2e-01\\\\\n",
       "\tAge &   1     & 3.4e+01 &  34.218 & 11.770  & 6.4e-04\\\\\n",
       "\tPBC3R &   1     & 2.7e-01 &   0.270 &  0.093  & 7.6e-01\\\\\n",
       "\tPBC1 &   1     & 7.6e+00 &   7.617 &  2.620  & 1.1e-01\\\\\n",
       "\tHabitC4 &   1     & 3.6e-02 &   0.036 &  0.012  & 9.1e-01\\\\\n",
       "\tGender &   1     & 1.1e+00 &   1.103 &  0.379  & 5.4e-01\\\\\n",
       "\tHabitC2 &   1     & 1.4e+01 &  13.902 &  4.782  & 2.9e-02\\\\\n",
       "\tHabitE3 &   1     & 7.2e-02 &   0.072 &  0.025  & 8.7e-01\\\\\n",
       "\tEduc &   1     & 4.5e-01 &   0.453 &  0.156  & 6.9e-01\\\\\n",
       "\tControlN3 &   1     & 1.8e+00 &   1.784 &  0.614  & 4.3e-01\\\\\n",
       "\tHabitC5 &   1     & 1.9e+00 &   1.927 &  0.663  & 4.2e-01\\\\\n",
       "\tHabitC7 &   1     & 8.3e-01 &   0.832 &  0.286  & 5.9e-01\\\\\n",
       "\tControlN2R &   1     & 1.0e+01 &   9.966 &  3.428  & 6.5e-02\\\\\n",
       "\tHabitE2 &   1     & 2.4e+00 &   2.398 &  0.825  & 3.6e-01\\\\\n",
       "\tPolitical &   1     & 1.5e+01 &  15.206 &  5.230  & 2.3e-02\\\\\n",
       "\tHabitE1 &   1     & 3.3e-01 &   0.335 &  0.115  & 7.3e-01\\\\\n",
       "\tEthnic &   1     & 6.0e+00 &   5.954 &  2.048  & 1.5e-01\\\\\n",
       "\tResiduals & 596     & 1.7e+03 &   2.907 &     NA  &      NA\\\\\n",
       "\\end{tabular}\n"
      ],
      "text/plain": [
       "           Df  Sum Sq  Mean Sq F value Pr(>F) \n",
       "ComfNS3      1 1.7e+02 166.007 57.101  1.6e-13\n",
       "MC1          1 1.7e-01   0.171  0.059  8.1e-01\n",
       "MC2          1 4.7e-01   0.466  0.160  6.9e-01\n",
       "ComfNS1      1 1.7e+01  16.989  5.844  1.6e-02\n",
       "Trust2       1 1.5e-01   0.145  0.050  8.2e-01\n",
       "SN4          1 7.1e-01   0.712  0.245  6.2e-01\n",
       "Sqft         1 3.7e-01   0.373  0.128  7.2e-01\n",
       "Frugal2      1 1.9e+01  18.922  6.508  1.1e-02\n",
       "SubNorm2     1 1.5e+00   1.503  0.517  4.7e-01\n",
       "Frugal3      1 1.0e+00   1.038  0.357  5.5e-01\n",
       "ComfNS2      1 4.2e+00   4.193  1.442  2.3e-01\n",
       "Frugal1      1 1.2e+00   1.225  0.421  5.2e-01\n",
       "MC5          1 2.9e+00   2.869  0.987  3.2e-01\n",
       "ConvB4       1 1.5e+00   1.540  0.530  4.7e-01\n",
       "ConvB2       1 4.4e+00   4.407  1.516  2.2e-01\n",
       "ConvB1       1 7.3e+00   7.261  2.498  1.1e-01\n",
       "MC3          1 2.4e+00   2.441  0.840  3.6e-01\n",
       "ConvB3       1 1.1e+00   1.065  0.366  5.5e-01\n",
       "MC4          1 7.6e+00   7.617  2.620  1.1e-01\n",
       "SubNorm1     1 5.5e+00   5.543  1.907  1.7e-01\n",
       "SubNorm3     1 1.3e+00   1.277  0.439  5.1e-01\n",
       "PBC5         1 5.7e+00   5.659  1.947  1.6e-01\n",
       "ControlN1    1 2.7e+00   2.737  0.941  3.3e-01\n",
       "OwnRent      1 5.0e+00   4.975  1.711  1.9e-01\n",
       "HabitC3      1 8.0e-01   0.802  0.276  6.0e-01\n",
       "Income       1 2.4e-01   0.239  0.082  7.7e-01\n",
       "HouseholdS   1 6.4e+00   6.385  2.196  1.4e-01\n",
       "SN3          1 3.9e-01   0.387  0.133  7.2e-01\n",
       "HabitC6      1 2.0e+00   2.050  0.705  4.0e-01\n",
       "ControlN4    1 1.3e+00   1.253  0.431  5.1e-01\n",
       "HabitC1      1 1.6e-01   0.157  0.054  8.2e-01\n",
       "Age          1 3.4e+01  34.218 11.770  6.4e-04\n",
       "PBC3R        1 2.7e-01   0.270  0.093  7.6e-01\n",
       "PBC1         1 7.6e+00   7.617  2.620  1.1e-01\n",
       "HabitC4      1 3.6e-02   0.036  0.012  9.1e-01\n",
       "Gender       1 1.1e+00   1.103  0.379  5.4e-01\n",
       "HabitC2      1 1.4e+01  13.902  4.782  2.9e-02\n",
       "HabitE3      1 7.2e-02   0.072  0.025  8.7e-01\n",
       "Educ         1 4.5e-01   0.453  0.156  6.9e-01\n",
       "ControlN3    1 1.8e+00   1.784  0.614  4.3e-01\n",
       "HabitC5      1 1.9e+00   1.927  0.663  4.2e-01\n",
       "HabitC7      1 8.3e-01   0.832  0.286  5.9e-01\n",
       "ControlN2R   1 1.0e+01   9.966  3.428  6.5e-02\n",
       "HabitE2      1 2.4e+00   2.398  0.825  3.6e-01\n",
       "Political    1 1.5e+01  15.206  5.230  2.3e-02\n",
       "HabitE1      1 3.3e-01   0.335  0.115  7.3e-01\n",
       "Ethnic       1 6.0e+00   5.954  2.048  1.5e-01\n",
       "Residuals  596 1.7e+03   2.907     NA       NA"
      ]
     },
     "metadata": {},
     "output_type": "display_data"
    }
   ],
   "source": [
    "anova(mod)"
   ]
  },
  {
   "cell_type": "code",
   "execution_count": 17,
   "metadata": {
    "collapsed": false
   },
   "outputs": [
    {
     "data": {
      "text/plain": [
       "\n",
       "Call:\n",
       "lm(formula = IncHomeS ~ ComfNS3 + Age, data = data2)\n",
       "\n",
       "Residuals:\n",
       "   Min     1Q Median     3Q    Max \n",
       "-3.823 -1.055 -0.180  0.983  4.793 \n",
       "\n",
       "Coefficients:\n",
       "            Estimate Std. Error t value Pr(>|t|)    \n",
       "(Intercept)  2.01932    0.28749    7.02  5.5e-12 ***\n",
       "ComfNS3      0.28673    0.03961    7.24  1.3e-12 ***\n",
       "Age          0.02096    0.00608    3.45    6e-04 ***\n",
       "---\n",
       "Signif. codes:  0 '***' 0.001 '**' 0.01 '*' 0.05 '.' 0.1 ' ' 1\n",
       "\n",
       "Residual standard error: 1.7 on 641 degrees of freedom\n",
       "Multiple R-squared:  0.0959,\tAdjusted R-squared:  0.093 \n",
       "F-statistic:   34 on 2 and 641 DF,  p-value: 9.4e-15\n"
      ]
     },
     "metadata": {},
     "output_type": "display_data"
    }
   ],
   "source": [
    "mod = lm(IncHomeS~ComfNS3+Age,data=data2)\n",
    "summary(mod)"
   ]
  },
  {
   "cell_type": "code",
   "execution_count": 18,
   "metadata": {
    "collapsed": false
   },
   "outputs": [
    {
     "data": {
      "text/plain": [
       "\n",
       "Call:\n",
       "lm(formula = IncHomeS ~ ComfNS3 + Age + HabitC2, data = data2)\n",
       "\n",
       "Residuals:\n",
       "   Min     1Q Median     3Q    Max \n",
       "-3.921 -1.098 -0.182  0.968  4.521 \n",
       "\n",
       "Coefficients:\n",
       "            Estimate Std. Error t value Pr(>|t|)    \n",
       "(Intercept)  2.58498    0.36044    7.17  2.1e-12 ***\n",
       "ComfNS3      0.27899    0.03955    7.05  4.5e-12 ***\n",
       "Age          0.02126    0.00605    3.51  0.00047 ***\n",
       "HabitC2     -0.09554    0.03700   -2.58  0.01004 *  \n",
       "---\n",
       "Signif. codes:  0 '***' 0.001 '**' 0.01 '*' 0.05 '.' 0.1 ' ' 1\n",
       "\n",
       "Residual standard error: 1.7 on 640 degrees of freedom\n",
       "Multiple R-squared:  0.105,\tAdjusted R-squared:  0.101 \n",
       "F-statistic: 25.1 on 3 and 640 DF,  p-value: 2.38e-15\n"
      ]
     },
     "metadata": {},
     "output_type": "display_data"
    }
   ],
   "source": [
    "#Probably overfitting\n",
    "mod1 = lm(IncHomeS~ComfNS3+Age+HabitC2,data=data2)\n",
    "summary(mod1)"
   ]
  },
  {
   "cell_type": "code",
   "execution_count": 19,
   "metadata": {
    "collapsed": false
   },
   "outputs": [
    {
     "name": "stderr",
     "output_type": "stream",
     "text": [
      "Loading required package: nlme\n",
      "This is mgcv 1.8-14. For overview type 'help(\"mgcv-package\")'.\n"
     ]
    }
   ],
   "source": [
    "library(mgcv)\n"
   ]
  },
  {
   "cell_type": "code",
   "execution_count": 20,
   "metadata": {
    "collapsed": false
   },
   "outputs": [
    {
     "data": {
      "text/plain": [
       "\n",
       "Family: gaussian \n",
       "Link function: identity \n",
       "\n",
       "Formula:\n",
       "IncHomeS ~ I(ComfNS3 <= 3) + I(ComfNS3 == 7) + s(Age)\n",
       "\n",
       "Parametric coefficients:\n",
       "                    Estimate Std. Error t value Pr(>|t|)    \n",
       "(Intercept)           4.1826     0.0906   46.17  < 2e-16 ***\n",
       "I(ComfNS3 <= 3)TRUE  -0.7694     0.1666   -4.62  4.7e-06 ***\n",
       "I(ComfNS3 == 7)TRUE   0.7656     0.1738    4.40  1.2e-05 ***\n",
       "---\n",
       "Signif. codes:  0 '***' 0.001 '**' 0.01 '*' 0.05 '.' 0.1 ' ' 1\n",
       "\n",
       "Approximate significance of smooth terms:\n",
       "       edf Ref.df    F p-value    \n",
       "s(Age)   1      1 13.3 0.00029 ***\n",
       "---\n",
       "Signif. codes:  0 '***' 0.001 '**' 0.01 '*' 0.05 '.' 0.1 ' ' 1\n",
       "\n",
       "R-sq.(adj) =  0.0975   Deviance explained = 10.2%\n",
       "GCV = 2.9649  Scale est. = 2.9465    n = 644"
      ]
     },
     "metadata": {},
     "output_type": "display_data"
    }
   ],
   "source": [
    "mGam = gam(IncHomeS~I(ComfNS3<=3)+I(ComfNS3==7)+s(Age),data=data2)\n",
    "summary(mGam)\n"
   ]
  },
  {
   "cell_type": "code",
   "execution_count": 21,
   "metadata": {
    "collapsed": false
   },
   "outputs": [
    {
     "data": {
      "image/png": "[encoded data removed]",
      "text/plain": [
       "plot without title"
      ]
     },
     "metadata": {},
     "output_type": "display_data"
    }
   ],
   "source": [
    "plot(mGam)"
   ]
  },
  {
   "cell_type": "code",
   "execution_count": 22,
   "metadata": {
    "collapsed": false
   },
   "outputs": [
    {
     "data": {
      "text/plain": [
       "\n",
       "Call:\n",
       "lm(formula = IncHomeS ~ I(ComfNS3 <= 3) + I(ComfNS3 == 7) + Age + \n",
       "    HabitC2 + Political, data = data2)\n",
       "\n",
       "Residuals:\n",
       "   Min     1Q Median     3Q    Max \n",
       "-4.234 -1.162 -0.081  1.001  4.540 \n",
       "\n",
       "Coefficients:\n",
       "                    Estimate Std. Error t value Pr(>|t|)    \n",
       "(Intercept)          4.19372    0.34065   12.31  < 2e-16 ***\n",
       "I(ComfNS3 <= 3)TRUE -0.77483    0.16608   -4.67  3.8e-06 ***\n",
       "I(ComfNS3 == 7)TRUE  0.75141    0.17314    4.34  1.7e-05 ***\n",
       "Age                  0.02211    0.00602    3.67  0.00026 ***\n",
       "HabitC2             -0.09516    0.03689   -2.58  0.01011 *  \n",
       "Political           -0.05864    0.03039   -1.93  0.05408 .  \n",
       "---\n",
       "Signif. codes:  0 '***' 0.001 '**' 0.01 '*' 0.05 '.' 0.1 ' ' 1\n",
       "\n",
       "Residual standard error: 1.7 on 638 degrees of freedom\n",
       "Multiple R-squared:  0.116,\tAdjusted R-squared:  0.109 \n",
       "F-statistic: 16.7 on 5 and 638 DF,  p-value: 1.68e-15\n"
      ]
     },
     "metadata": {},
     "output_type": "display_data"
    }
   ],
   "source": [
    "mod1 = lm(IncHomeS~I(ComfNS3<=3)+I(ComfNS3==7)+Age+HabitC2+ Political,data=data2)\n",
    "summary(mod1)\n"
   ]
  },
  {
   "cell_type": "code",
   "execution_count": 23,
   "metadata": {
    "collapsed": false
   },
   "outputs": [
    {
     "data": {
      "text/html": [
       "<table>\n",
       "<thead><tr><th></th><th scope=col>Df</th><th scope=col>Sum Sq</th><th scope=col>Mean Sq</th><th scope=col>F value</th><th scope=col>Pr(&gt;F)</th></tr></thead>\n",
       "<tbody>\n",
       "\t<tr><th scope=row>I(ComfNS3 &lt;= 3)</th><td>  1    </td><td> 115   </td><td>115.2  </td><td>39.6   </td><td>5.8e-10</td></tr>\n",
       "\t<tr><th scope=row>I(ComfNS3 == 7)</th><td>  1    </td><td>  59   </td><td> 59.2  </td><td>20.3   </td><td>7.7e-06</td></tr>\n",
       "\t<tr><th scope=row>Age</th><td>  1    </td><td>  39   </td><td> 39.1  </td><td>13.4   </td><td>2.7e-04</td></tr>\n",
       "\t<tr><th scope=row>HabitC2</th><td>  1    </td><td>  18   </td><td> 18.4  </td><td> 6.3   </td><td>1.2e-02</td></tr>\n",
       "\t<tr><th scope=row>Political</th><td>  1    </td><td>  11   </td><td> 10.8  </td><td> 3.7   </td><td>5.4e-02</td></tr>\n",
       "\t<tr><th scope=row>Residuals</th><td>638    </td><td>1857   </td><td>  2.9  </td><td>  NA   </td><td>     NA</td></tr>\n",
       "</tbody>\n",
       "</table>\n"
      ],
      "text/latex": [
       "\\begin{tabular}{r|lllll}\n",
       "  & Df & Sum Sq & Mean Sq & F value & Pr(>F)\\\\\n",
       "\\hline\n",
       "\tI(ComfNS3 <= 3) &   1     &  115    & 115.2   & 39.6    & 5.8e-10\\\\\n",
       "\tI(ComfNS3 == 7) &   1     &   59    &  59.2   & 20.3    & 7.7e-06\\\\\n",
       "\tAge &   1     &   39    &  39.1   & 13.4    & 2.7e-04\\\\\n",
       "\tHabitC2 &   1     &   18    &  18.4   &  6.3    & 1.2e-02\\\\\n",
       "\tPolitical &   1     &   11    &  10.8   &  3.7    & 5.4e-02\\\\\n",
       "\tResiduals & 638     & 1857    &   2.9   &   NA    &      NA\\\\\n",
       "\\end{tabular}\n"
      ],
      "text/plain": [
       "                Df  Sum Sq Mean Sq F value Pr(>F) \n",
       "I(ComfNS3 <= 3)   1  115   115.2   39.6    5.8e-10\n",
       "I(ComfNS3 == 7)   1   59    59.2   20.3    7.7e-06\n",
       "Age               1   39    39.1   13.4    2.7e-04\n",
       "HabitC2           1   18    18.4    6.3    1.2e-02\n",
       "Political         1   11    10.8    3.7    5.4e-02\n",
       "Residuals       638 1857     2.9     NA         NA"
      ]
     },
     "metadata": {},
     "output_type": "display_data"
    }
   ],
   "source": [
    "anova(mod1)"
   ]
  },
  {
   "cell_type": "code",
   "execution_count": 24,
   "metadata": {
    "collapsed": false
   },
   "outputs": [
    {
     "data": {
      "text/html": [
       "<table>\n",
       "<thead><tr><th></th><th scope=col>Df</th><th scope=col>Sum of Sq</th><th scope=col>RSS</th><th scope=col>AIC</th></tr></thead>\n",
       "<tbody>\n",
       "\t<tr><th scope=row>&lt;none&gt;</th><td>NA  </td><td>NA  </td><td>1857</td><td>694 </td></tr>\n",
       "\t<tr><th scope=row>I(ComfNS3 &lt;= 3)</th><td> 1  </td><td>63  </td><td>1920</td><td>713 </td></tr>\n",
       "\t<tr><th scope=row>I(ComfNS3 == 7)</th><td> 1  </td><td>55  </td><td>1911</td><td>711 </td></tr>\n",
       "\t<tr><th scope=row>Age</th><td> 1  </td><td>39  </td><td>1896</td><td>705 </td></tr>\n",
       "\t<tr><th scope=row>HabitC2</th><td> 1  </td><td>19  </td><td>1876</td><td>699 </td></tr>\n",
       "\t<tr><th scope=row>Political</th><td> 1  </td><td>11  </td><td>1867</td><td>696 </td></tr>\n",
       "</tbody>\n",
       "</table>\n"
      ],
      "text/latex": [
       "\\begin{tabular}{r|llll}\n",
       "  & Df & Sum of Sq & RSS & AIC\\\\\n",
       "\\hline\n",
       "\t<none> & NA   & NA   & 1857 & 694 \\\\\n",
       "\tI(ComfNS3 <= 3) &  1   & 63   & 1920 & 713 \\\\\n",
       "\tI(ComfNS3 == 7) &  1   & 55   & 1911 & 711 \\\\\n",
       "\tAge &  1   & 39   & 1896 & 705 \\\\\n",
       "\tHabitC2 &  1   & 19   & 1876 & 699 \\\\\n",
       "\tPolitical &  1   & 11   & 1867 & 696 \\\\\n",
       "\\end{tabular}\n"
      ],
      "text/plain": [
       "                Df Sum of Sq RSS  AIC\n",
       "<none>          NA NA        1857 694\n",
       "I(ComfNS3 <= 3)  1 63        1920 713\n",
       "I(ComfNS3 == 7)  1 55        1911 711\n",
       "Age              1 39        1896 705\n",
       "HabitC2          1 19        1876 699\n",
       "Political        1 11        1867 696"
      ]
     },
     "metadata": {},
     "output_type": "display_data"
    }
   ],
   "source": [
    "drop1(mod1)"
   ]
  },
  {
   "cell_type": "code",
   "execution_count": 25,
   "metadata": {
    "collapsed": false
   },
   "outputs": [
    {
     "name": "stderr",
     "output_type": "stream",
     "text": [
      "\n",
      "Attaching package: 'bnlearn'\n",
      "\n",
      "The following object is masked from 'package:stats':\n",
      "\n",
      "    sigma\n",
      "\n"
     ]
    }
   ],
   "source": [
    "library(bnlearn)"
   ]
  },
  {
   "cell_type": "code",
   "execution_count": 26,
   "metadata": {
    "collapsed": false
   },
   "outputs": [
    {
     "data": {
      "image/png": "[encoded data removed]",
      "text/plain": [
       "plot without title"
      ]
     },
     "metadata": {},
     "output_type": "display_data"
    }
   ],
   "source": [
    "dd2 = data2[,c('IncHomeS', 'ComfNS3','Age','HabitC2')]\n",
    "for (i in 1:4) dd2[,i] <- as.double(dd2[,i])\n",
    "dag2 = tabu(dd2)\n",
    "plot(dag2)"
   ]
  },
  {
   "cell_type": "code",
   "execution_count": 27,
   "metadata": {
    "collapsed": false
   },
   "outputs": [
    {
     "data": {
      "text/plain": [
       "\n",
       "Call:\n",
       "lm(formula = fmlaF, data = data2)\n",
       "\n",
       "Residuals:\n",
       "   Min     1Q Median     3Q    Max \n",
       "-3.672 -1.120 -0.092  1.051  4.878 \n",
       "\n",
       "Coefficients:\n",
       "             Estimate Std. Error t value Pr(>|t|)   \n",
       "(Intercept)  3.12e+00   1.26e+00    2.49   0.0132 * \n",
       "Age          2.37e-02   7.22e-03    3.28   0.0011 **\n",
       "Gender       1.02e-01   1.56e-01    0.66   0.5117   \n",
       "OwnRent     -1.93e-03   1.64e-01   -0.01   0.9906   \n",
       "BillS        6.56e-04   1.27e-03    0.52   0.6060   \n",
       "NBillS       1.30e-01   1.29e-01    1.01   0.3138   \n",
       "Sqft        -3.13e-05   1.11e-04   -0.28   0.7776   \n",
       "SqftCate    -3.01e-02   1.10e-01   -0.27   0.7853   \n",
       "HouseholdS  -8.02e-02   6.84e-02   -1.17   0.2412   \n",
       "Political   -6.80e-02   3.33e-02   -2.04   0.0417 * \n",
       "Ethnic       1.03e-01   6.05e-02    1.70   0.0901 . \n",
       "Income      -3.16e-02   4.24e-02   -0.74   0.4571   \n",
       "Educ         2.87e-02   6.87e-02    0.42   0.6760   \n",
       "MC1          2.52e-03   7.09e-02    0.04   0.9716   \n",
       "MC2          3.68e-02   7.60e-02    0.48   0.6290   \n",
       "MC3         -5.95e-02   7.00e-02   -0.85   0.3959   \n",
       "MC4          5.98e-02   7.07e-02    0.85   0.3981   \n",
       "MC5         -6.47e-02   8.78e-02   -0.74   0.4614   \n",
       "Frugal1     -3.85e-02   1.10e-01   -0.35   0.7262   \n",
       "Frugal2     -8.59e-02   9.05e-02   -0.95   0.3429   \n",
       "Frugal3     -1.18e-02   9.34e-02   -0.13   0.8995   \n",
       "Trust1       2.10e-01   1.22e-01    1.72   0.0863 . \n",
       "Trust2       1.28e-02   7.90e-02    0.16   0.8712   \n",
       "Trust3      -1.17e-01   7.59e-02   -1.54   0.1229   \n",
       "Trust4      -8.30e-02   1.16e-01   -0.72   0.4729   \n",
       "ComfNS1      5.25e-02   7.68e-02    0.68   0.4946   \n",
       "ComfNS2      8.00e-02   6.17e-02    1.30   0.1956   \n",
       "ComfNS3      1.46e-01   6.92e-02    2.11   0.0353 * \n",
       "ConvB1       3.75e-02   7.85e-02    0.48   0.6333   \n",
       "ConvB2      -5.31e-02   8.29e-02   -0.64   0.5225   \n",
       "ConvB3       1.24e-02   5.19e-02    0.24   0.8110   \n",
       "ConvB4      -8.88e-03   5.75e-02   -0.15   0.8772   \n",
       "ControlN1    8.58e-02   9.14e-02    0.94   0.3482   \n",
       "ControlN2R  -7.14e-02   4.63e-02   -1.54   0.1237   \n",
       "ControlN3    3.67e-02   7.92e-02    0.46   0.6429   \n",
       "ControlN4    7.48e-03   5.41e-02    0.14   0.8901   \n",
       "Atti1       -2.79e-03   1.20e-01   -0.02   0.9814   \n",
       "Atti2       -6.29e-02   1.14e-01   -0.55   0.5810   \n",
       "Atti3       -7.23e-02   1.13e-01   -0.64   0.5209   \n",
       "Atti4       -7.00e-03   1.11e-01   -0.06   0.9499   \n",
       "SubNorm1     9.04e-02   5.86e-02    1.54   0.1235   \n",
       "SubNorm2    -8.76e-03   6.82e-02   -0.13   0.8978   \n",
       "SubNorm3    -3.12e-02   5.47e-02   -0.57   0.5681   \n",
       "PBC1         1.24e-01   6.69e-02    1.85   0.0650 . \n",
       "PBC2        -1.11e-01   1.12e-01   -0.99   0.3216   \n",
       "PBC3R       -3.66e-03   5.19e-02   -0.07   0.9437   \n",
       "PBC4        -1.27e-02   1.11e-01   -0.12   0.9084   \n",
       "PBC5        -8.22e-02   7.38e-02   -1.11   0.2661   \n",
       "SN1          4.08e-02   1.03e-01    0.39   0.6933   \n",
       "SN2         -1.02e-01   1.04e-01   -0.97   0.3310   \n",
       "SN3         -2.25e-02   5.42e-02   -0.41   0.6786   \n",
       "SN4          1.01e-01   7.18e-02    1.41   0.1581   \n",
       "HabitC1      6.74e-02   8.87e-02    0.76   0.4474   \n",
       "HabitC2     -8.93e-02   4.26e-02   -2.10   0.0365 * \n",
       "HabitC3      6.36e-02   4.31e-02    1.48   0.1407   \n",
       "HabitC4      1.20e-02   4.01e-02    0.30   0.7645   \n",
       "HabitC5     -1.66e-02   3.91e-02   -0.42   0.6715   \n",
       "HabitC6     -4.51e-02   3.70e-02   -1.22   0.2239   \n",
       "HabitC7     -7.40e-03   4.43e-02   -0.17   0.8674   \n",
       "HabitE1      1.28e-02   1.64e-01    0.08   0.9377   \n",
       "HabitE2      1.07e-01   1.15e-01    0.93   0.3525   \n",
       "HabitE3     -1.98e-02   1.14e-01   -0.17   0.8620   \n",
       "---\n",
       "Signif. codes:  0 '***' 0.001 '**' 0.01 '*' 0.05 '.' 0.1 ' ' 1\n",
       "\n",
       "Residual standard error: 1.7 on 582 degrees of freedom\n",
       "Multiple R-squared:  0.199,\tAdjusted R-squared:  0.115 \n",
       "F-statistic: 2.37 on 61 and 582 DF,  p-value: 1.42e-07\n"
      ]
     },
     "metadata": {},
     "output_type": "display_data"
    }
   ],
   "source": [
    "fmlaF <- as.formula(paste(\"IncHomeS\",paste(IVS,collapse=\"+\"),sep=\"~\"));\n",
    "mod = lm(fmlaF,data=data2)\n",
    "summary(mod)"
   ]
  },
  {
   "cell_type": "code",
   "execution_count": null,
   "metadata": {
    "collapsed": true
   },
   "outputs": [],
   "source": []
  },
  {
   "cell_type": "code",
   "execution_count": 28,
   "metadata": {
    "collapsed": false
   },
   "outputs": [
    {
     "data": {
      "text/plain": [
       "\n",
       "Call:\n",
       "lm(formula = IncHomeS ~ ComfNS3 + Age + HabitC2 + Political + \n",
       "    Ethnic + Trust1, data = data2)\n",
       "\n",
       "Residuals:\n",
       "   Min     1Q Median     3Q    Max \n",
       "-4.518 -1.152 -0.131  1.015  4.526 \n",
       "\n",
       "Coefficients:\n",
       "            Estimate Std. Error t value Pr(>|t|)    \n",
       "(Intercept)  2.53367    0.43662    5.80  1.0e-08 ***\n",
       "ComfNS3      0.28415    0.03962    7.17  2.1e-12 ***\n",
       "Age          0.02216    0.00608    3.65  0.00029 ***\n",
       "HabitC2     -0.09861    0.03698   -2.67  0.00786 ** \n",
       "Political   -0.05255    0.03052   -1.72  0.08559 .  \n",
       "Ethnic       0.09676    0.05622    1.72  0.08571 .  \n",
       "Trust1       0.02235    0.04340    0.51  0.60675    \n",
       "---\n",
       "Signif. codes:  0 '***' 0.001 '**' 0.01 '*' 0.05 '.' 0.1 ' ' 1\n",
       "\n",
       "Residual standard error: 1.7 on 637 degrees of freedom\n",
       "Multiple R-squared:  0.114,\tAdjusted R-squared:  0.106 \n",
       "F-statistic: 13.7 on 6 and 637 DF,  p-value: 1.1e-14\n"
      ]
     },
     "metadata": {},
     "output_type": "display_data"
    }
   ],
   "source": [
    "#Probably overfitting\n",
    "mod1 = lm(IncHomeS~ComfNS3+Age+HabitC2+Political+Ethnic+Trust1,data=data2)\n",
    "summary(mod1)"
   ]
  },
  {
   "cell_type": "code",
   "execution_count": 29,
   "metadata": {
    "collapsed": false
   },
   "outputs": [
    {
     "ename": "ERROR",
     "evalue": "Error in parse(text = x, srcfile = src): <text>:1:24: unexpected '{'\n1: for (i in 1:length(IVS){\n                           ^\n",
     "output_type": "error",
     "traceback": [
      "Error in parse(text = x, srcfile = src): <text>:1:24: unexpected '{'\n1: for (i in 1:length(IVS){\n                           ^\nTraceback:\n"
     ]
    }
   ],
   "source": [
    "for (i in 1:length(IVS){\n",
    "  fmla <- as.formula(paste(IVS[i],paste(vnam[-c(1,i)],collapse=\"+\"),sep=\"~\"));\n",
    "  res <- rbind(res,c(i,round(summary(lm(fmla,data=data2))$r.squared,2)));\n",
    "}\n",
    "vnam <- (data2);\n",
    "fmlaF <- as.formula(paste(\"Age\",paste(IVS[-\"Age\"],collapse=\"+\"),sep=\"~\"));\n",
    "mod = lm(fmlaF,data=data2)\n",
    "summary(mod)"
   ]
  },
  {
   "cell_type": "code",
   "execution_count": null,
   "metadata": {
    "collapsed": true
   },
   "outputs": [],
   "source": [
    "ind <- 1:length(IVS);names(ind) <- IVS"
   ]
  },
  {
   "cell_type": "code",
   "execution_count": null,
   "metadata": {
    "collapsed": false
   },
   "outputs": [],
   "source": [
    "fmlaF <- as.formula(paste(\"Age\",paste(IVS[-ind[\"Age\"]],collapse=\"+\"),sep=\"~\"));\n",
    "mod = lm(fmlaF,data=data2)\n",
    "res <- summary(mod)$coefficients\n",
    "res[abs(res[,3])>3,]"
   ]
  },
  {
   "cell_type": "code",
   "execution_count": null,
   "metadata": {
    "collapsed": false
   },
   "outputs": [],
   "source": [
    "fmlaF <- as.formula(paste(\"ComfNS3\",paste(IVS[-ind[\"ComfNS3\"]],collapse=\"+\"),sep=\"~\"));\n",
    "mod = lm(fmlaF,data=data2)\n",
    "res <- summary(mod)$coefficients\n",
    "res[abs(res[,3])>3,]"
   ]
  },
  {
   "cell_type": "code",
   "execution_count": 30,
   "metadata": {
    "collapsed": false
   },
   "outputs": [
    {
     "data": {
      "image/png": "[encoded data removed]",
      "text/plain": [
       "plot without title"
      ]
     },
     "metadata": {},
     "output_type": "display_data"
    }
   ],
   "source": [
    "dd2 = data2[,c('IncHomeS', 'ComfNS3','Age','HabitC2',\"Gender\",\"OwnRent\",\"SqftCate\",\n",
    "               \"HouseholdS\",\"Atti3\",\"Atti4\",\"ComfNS1\",\"ComfNS2\")]\n",
    "for (i in 1:12) dd2[,i] <- as.double(dd2[,i])\n",
    "dag2 = tabu(dd2)\n",
    "plot(dag2)"
   ]
  },
  {
   "cell_type": "code",
   "execution_count": null,
   "metadata": {
    "collapsed": true
   },
   "outputs": [],
   "source": []
  }
 ],
 "metadata": {
  "kernelspec": {
   "display_name": "R",
   "language": "R",
   "name": "ir"
  },
  "language_info": {
   "codemirror_mode": "r",
   "file_extension": ".r",
   "mimetype": "text/x-r-source",
   "name": "R",
   "pygments_lexer": "r",
   "version": "3.3.1"
  }
 },
 "nbformat": 4,
 "nbformat_minor": 1
}
