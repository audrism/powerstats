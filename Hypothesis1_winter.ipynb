{
 "cells": [
  {
   "cell_type": "markdown",
   "metadata": {},
   "source": [
    "## Hypothesis\n",
    "To predict the incentive level requested for lowering thermostat settings for 2-3F \n",
    "    when being at home in winter.\n",
    "\n",
    "### Filter: HomeWYN=1 (i.e., only use people who use A/C when being at home in summer)\n"
   ]
  },
  {
   "cell_type": "code",
   "execution_count": 24,
   "metadata": {
    "collapsed": false
   },
   "outputs": [
    {
     "data": {
      "text/html": [
       "<ol class=list-inline>\n",
       "\t<li>'ACYN'</li>\n",
       "\t<li>'Age'</li>\n",
       "\t<li>'Atti1'</li>\n",
       "\t<li>'Atti2'</li>\n",
       "\t<li>'Atti3'</li>\n",
       "\t<li>'Atti4'</li>\n",
       "\t<li>'Attitude'</li>\n",
       "\t<li>'AwayS'</li>\n",
       "\t<li>'AwaySNY'</li>\n",
       "\t<li>'AwayW'</li>\n",
       "\t<li>'AwayWNY'</li>\n",
       "\t<li>'BillS'</li>\n",
       "\t<li>'BillW'</li>\n",
       "\t<li>'City'</li>\n",
       "\t<li>'ComfNS1'</li>\n",
       "\t<li>'ComfNS2'</li>\n",
       "\t<li>'ComfNS3'</li>\n",
       "\t<li>'ComfNW1'</li>\n",
       "\t<li>'ComfNW2'</li>\n",
       "\t<li>'ComfortS'</li>\n",
       "\t<li>'ComfortW'</li>\n",
       "\t<li>'CompR'</li>\n",
       "\t<li>'ControlN1'</li>\n",
       "\t<li>'ControlN2R'</li>\n",
       "\t<li>'ControlN3'</li>\n",
       "\t<li>'ControlN4'</li>\n",
       "\t<li>'ConvB1'</li>\n",
       "\t<li>'ConvB2'</li>\n",
       "\t<li>'ConvB3'</li>\n",
       "\t<li>'ConvB4'</li>\n",
       "\t<li>'DeviceType'</li>\n",
       "\t<li>'Educ'</li>\n",
       "\t<li>'EmerRForm'</li>\n",
       "\t<li>'EnergyC'</li>\n",
       "\t<li>'EnergyC1'</li>\n",
       "\t<li>'EnergyC2'</li>\n",
       "\t<li>'EnergyC3'</li>\n",
       "\t<li>'EnergyC4'</li>\n",
       "\t<li>'Ethnic'</li>\n",
       "\t<li>'Frugal'</li>\n",
       "\t<li>'Frugal1'</li>\n",
       "\t<li>'Frugal2'</li>\n",
       "\t<li>'Frugal3'</li>\n",
       "\t<li>'Gender'</li>\n",
       "\t<li>'HTdevice'</li>\n",
       "\t<li>'HTsource'</li>\n",
       "\t<li>'HabitC1'</li>\n",
       "\t<li>'HabitC2'</li>\n",
       "\t<li>'HabitC3'</li>\n",
       "\t<li>'HabitC4'</li>\n",
       "\t<li>'HabitC5'</li>\n",
       "\t<li>'HabitC6'</li>\n",
       "\t<li>'HabitC7'</li>\n",
       "\t<li>'HabitE1'</li>\n",
       "\t<li>'HabitE2'</li>\n",
       "\t<li>'HabitE3'</li>\n",
       "\t<li>'HeatYN'</li>\n",
       "\t<li>'HomeS'</li>\n",
       "\t<li>'HomeSYN'</li>\n",
       "\t<li>'HomeW'</li>\n",
       "\t<li>'HomeWYN'</li>\n",
       "\t<li>'HouseholdS'</li>\n",
       "\t<li>'ID'</li>\n",
       "\t<li>'INT1'</li>\n",
       "\t<li>'INT2'</li>\n",
       "\t<li>'INT3'</li>\n",
       "\t<li>'INT4'</li>\n",
       "\t<li>'IncAutoS'</li>\n",
       "\t<li>'IncAutoW'</li>\n",
       "\t<li>'IncAwayS'</li>\n",
       "\t<li>'IncAwayW'</li>\n",
       "\t<li>'IncDish'</li>\n",
       "\t<li>'IncEmer10S'</li>\n",
       "\t<li>'IncEmer10W'</li>\n",
       "\t<li>'IncEmer30S'</li>\n",
       "\t<li>'IncEmer30W'</li>\n",
       "\t<li>'IncHomeS'</li>\n",
       "\t<li>'IncHomeW'</li>\n",
       "\t<li>'IncWD'</li>\n",
       "\t<li>'Income'</li>\n",
       "\t<li>'Job'</li>\n",
       "\t<li>'Latitude'</li>\n",
       "\t<li>'Longitude'</li>\n",
       "\t<li>'MC1'</li>\n",
       "\t<li>'MC2'</li>\n",
       "\t<li>'MC3'</li>\n",
       "\t<li>'MC4'</li>\n",
       "\t<li>'MC5'</li>\n",
       "\t<li>'MCBill'</li>\n",
       "\t<li>'MCG'</li>\n",
       "\t<li>'NBillS'</li>\n",
       "\t<li>'NBillW'</li>\n",
       "\t<li>'OwnRent'</li>\n",
       "\t<li>'PBC'</li>\n",
       "\t<li>'PBC1'</li>\n",
       "\t<li>'PBC2'</li>\n",
       "\t<li>'PBC3R'</li>\n",
       "\t<li>'PBC4'</li>\n",
       "\t<li>'PBC5'</li>\n",
       "\t<li>'PBillStatus'</li>\n",
       "\t<li>'Political'</li>\n",
       "\t<li>'ReasonNeg'</li>\n",
       "\t<li>'ReasonPos'</li>\n",
       "\t<li>'RewardForm'</li>\n",
       "\t<li>'SN1'</li>\n",
       "\t<li>'SN2'</li>\n",
       "\t<li>'SN3'</li>\n",
       "\t<li>'SN4'</li>\n",
       "\t<li>'Sqft'</li>\n",
       "\t<li>'SqftCate'</li>\n",
       "\t<li>'State'</li>\n",
       "\t<li>'SubN'</li>\n",
       "\t<li>'SubNorm1'</li>\n",
       "\t<li>'SubNorm2'</li>\n",
       "\t<li>'SubNorm3'</li>\n",
       "\t<li>'Trust'</li>\n",
       "\t<li>'Trust1'</li>\n",
       "\t<li>'Trust2'</li>\n",
       "\t<li>'Trust3'</li>\n",
       "\t<li>'Trust4'</li>\n",
       "\t<li>'Utility'</li>\n",
       "\t<li>'X.9to5'</li>\n",
       "\t<li>'cold'</li>\n",
       "\t<li>'hot'</li>\n",
       "\t<li>'valid'</li>\n",
       "\t<li>'valid1'</li>\n",
       "\t<li>'valid2'</li>\n",
       "</ol>\n"
      ],
      "text/latex": [
       "\\begin{enumerate*}\n",
       "\\item 'ACYN'\n",
       "\\item 'Age'\n",
       "\\item 'Atti1'\n",
       "\\item 'Atti2'\n",
       "\\item 'Atti3'\n",
       "\\item 'Atti4'\n",
       "\\item 'Attitude'\n",
       "\\item 'AwayS'\n",
       "\\item 'AwaySNY'\n",
       "\\item 'AwayW'\n",
       "\\item 'AwayWNY'\n",
       "\\item 'BillS'\n",
       "\\item 'BillW'\n",
       "\\item 'City'\n",
       "\\item 'ComfNS1'\n",
       "\\item 'ComfNS2'\n",
       "\\item 'ComfNS3'\n",
       "\\item 'ComfNW1'\n",
       "\\item 'ComfNW2'\n",
       "\\item 'ComfortS'\n",
       "\\item 'ComfortW'\n",
       "\\item 'CompR'\n",
       "\\item 'ControlN1'\n",
       "\\item 'ControlN2R'\n",
       "\\item 'ControlN3'\n",
       "\\item 'ControlN4'\n",
       "\\item 'ConvB1'\n",
       "\\item 'ConvB2'\n",
       "\\item 'ConvB3'\n",
       "\\item 'ConvB4'\n",
       "\\item 'DeviceType'\n",
       "\\item 'Educ'\n",
       "\\item 'EmerRForm'\n",
       "\\item 'EnergyC'\n",
       "\\item 'EnergyC1'\n",
       "\\item 'EnergyC2'\n",
       "\\item 'EnergyC3'\n",
       "\\item 'EnergyC4'\n",
       "\\item 'Ethnic'\n",
       "\\item 'Frugal'\n",
       "\\item 'Frugal1'\n",
       "\\item 'Frugal2'\n",
       "\\item 'Frugal3'\n",
       "\\item 'Gender'\n",
       "\\item 'HTdevice'\n",
       "\\item 'HTsource'\n",
       "\\item 'HabitC1'\n",
       "\\item 'HabitC2'\n",
       "\\item 'HabitC3'\n",
       "\\item 'HabitC4'\n",
       "\\item 'HabitC5'\n",
       "\\item 'HabitC6'\n",
       "\\item 'HabitC7'\n",
       "\\item 'HabitE1'\n",
       "\\item 'HabitE2'\n",
       "\\item 'HabitE3'\n",
       "\\item 'HeatYN'\n",
       "\\item 'HomeS'\n",
       "\\item 'HomeSYN'\n",
       "\\item 'HomeW'\n",
       "\\item 'HomeWYN'\n",
       "\\item 'HouseholdS'\n",
       "\\item 'ID'\n",
       "\\item 'INT1'\n",
       "\\item 'INT2'\n",
       "\\item 'INT3'\n",
       "\\item 'INT4'\n",
       "\\item 'IncAutoS'\n",
       "\\item 'IncAutoW'\n",
       "\\item 'IncAwayS'\n",
       "\\item 'IncAwayW'\n",
       "\\item 'IncDish'\n",
       "\\item 'IncEmer10S'\n",
       "\\item 'IncEmer10W'\n",
       "\\item 'IncEmer30S'\n",
       "\\item 'IncEmer30W'\n",
       "\\item 'IncHomeS'\n",
       "\\item 'IncHomeW'\n",
       "\\item 'IncWD'\n",
       "\\item 'Income'\n",
       "\\item 'Job'\n",
       "\\item 'Latitude'\n",
       "\\item 'Longitude'\n",
       "\\item 'MC1'\n",
       "\\item 'MC2'\n",
       "\\item 'MC3'\n",
       "\\item 'MC4'\n",
       "\\item 'MC5'\n",
       "\\item 'MCBill'\n",
       "\\item 'MCG'\n",
       "\\item 'NBillS'\n",
       "\\item 'NBillW'\n",
       "\\item 'OwnRent'\n",
       "\\item 'PBC'\n",
       "\\item 'PBC1'\n",
       "\\item 'PBC2'\n",
       "\\item 'PBC3R'\n",
       "\\item 'PBC4'\n",
       "\\item 'PBC5'\n",
       "\\item 'PBillStatus'\n",
       "\\item 'Political'\n",
       "\\item 'ReasonNeg'\n",
       "\\item 'ReasonPos'\n",
       "\\item 'RewardForm'\n",
       "\\item 'SN1'\n",
       "\\item 'SN2'\n",
       "\\item 'SN3'\n",
       "\\item 'SN4'\n",
       "\\item 'Sqft'\n",
       "\\item 'SqftCate'\n",
       "\\item 'State'\n",
       "\\item 'SubN'\n",
       "\\item 'SubNorm1'\n",
       "\\item 'SubNorm2'\n",
       "\\item 'SubNorm3'\n",
       "\\item 'Trust'\n",
       "\\item 'Trust1'\n",
       "\\item 'Trust2'\n",
       "\\item 'Trust3'\n",
       "\\item 'Trust4'\n",
       "\\item 'Utility'\n",
       "\\item 'X.9to5'\n",
       "\\item 'cold'\n",
       "\\item 'hot'\n",
       "\\item 'valid'\n",
       "\\item 'valid1'\n",
       "\\item 'valid2'\n",
       "\\end{enumerate*}\n"
      ],
      "text/markdown": [
       "1. 'ACYN'\n",
       "2. 'Age'\n",
       "3. 'Atti1'\n",
       "4. 'Atti2'\n",
       "5. 'Atti3'\n",
       "6. 'Atti4'\n",
       "7. 'Attitude'\n",
       "8. 'AwayS'\n",
       "9. 'AwaySNY'\n",
       "10. 'AwayW'\n",
       "11. 'AwayWNY'\n",
       "12. 'BillS'\n",
       "13. 'BillW'\n",
       "14. 'City'\n",
       "15. 'ComfNS1'\n",
       "16. 'ComfNS2'\n",
       "17. 'ComfNS3'\n",
       "18. 'ComfNW1'\n",
       "19. 'ComfNW2'\n",
       "20. 'ComfortS'\n",
       "21. 'ComfortW'\n",
       "22. 'CompR'\n",
       "23. 'ControlN1'\n",
       "24. 'ControlN2R'\n",
       "25. 'ControlN3'\n",
       "26. 'ControlN4'\n",
       "27. 'ConvB1'\n",
       "28. 'ConvB2'\n",
       "29. 'ConvB3'\n",
       "30. 'ConvB4'\n",
       "31. 'DeviceType'\n",
       "32. 'Educ'\n",
       "33. 'EmerRForm'\n",
       "34. 'EnergyC'\n",
       "35. 'EnergyC1'\n",
       "36. 'EnergyC2'\n",
       "37. 'EnergyC3'\n",
       "38. 'EnergyC4'\n",
       "39. 'Ethnic'\n",
       "40. 'Frugal'\n",
       "41. 'Frugal1'\n",
       "42. 'Frugal2'\n",
       "43. 'Frugal3'\n",
       "44. 'Gender'\n",
       "45. 'HTdevice'\n",
       "46. 'HTsource'\n",
       "47. 'HabitC1'\n",
       "48. 'HabitC2'\n",
       "49. 'HabitC3'\n",
       "50. 'HabitC4'\n",
       "51. 'HabitC5'\n",
       "52. 'HabitC6'\n",
       "53. 'HabitC7'\n",
       "54. 'HabitE1'\n",
       "55. 'HabitE2'\n",
       "56. 'HabitE3'\n",
       "57. 'HeatYN'\n",
       "58. 'HomeS'\n",
       "59. 'HomeSYN'\n",
       "60. 'HomeW'\n",
       "61. 'HomeWYN'\n",
       "62. 'HouseholdS'\n",
       "63. 'ID'\n",
       "64. 'INT1'\n",
       "65. 'INT2'\n",
       "66. 'INT3'\n",
       "67. 'INT4'\n",
       "68. 'IncAutoS'\n",
       "69. 'IncAutoW'\n",
       "70. 'IncAwayS'\n",
       "71. 'IncAwayW'\n",
       "72. 'IncDish'\n",
       "73. 'IncEmer10S'\n",
       "74. 'IncEmer10W'\n",
       "75. 'IncEmer30S'\n",
       "76. 'IncEmer30W'\n",
       "77. 'IncHomeS'\n",
       "78. 'IncHomeW'\n",
       "79. 'IncWD'\n",
       "80. 'Income'\n",
       "81. 'Job'\n",
       "82. 'Latitude'\n",
       "83. 'Longitude'\n",
       "84. 'MC1'\n",
       "85. 'MC2'\n",
       "86. 'MC3'\n",
       "87. 'MC4'\n",
       "88. 'MC5'\n",
       "89. 'MCBill'\n",
       "90. 'MCG'\n",
       "91. 'NBillS'\n",
       "92. 'NBillW'\n",
       "93. 'OwnRent'\n",
       "94. 'PBC'\n",
       "95. 'PBC1'\n",
       "96. 'PBC2'\n",
       "97. 'PBC3R'\n",
       "98. 'PBC4'\n",
       "99. 'PBC5'\n",
       "100. 'PBillStatus'\n",
       "101. 'Political'\n",
       "102. 'ReasonNeg'\n",
       "103. 'ReasonPos'\n",
       "104. 'RewardForm'\n",
       "105. 'SN1'\n",
       "106. 'SN2'\n",
       "107. 'SN3'\n",
       "108. 'SN4'\n",
       "109. 'Sqft'\n",
       "110. 'SqftCate'\n",
       "111. 'State'\n",
       "112. 'SubN'\n",
       "113. 'SubNorm1'\n",
       "114. 'SubNorm2'\n",
       "115. 'SubNorm3'\n",
       "116. 'Trust'\n",
       "117. 'Trust1'\n",
       "118. 'Trust2'\n",
       "119. 'Trust3'\n",
       "120. 'Trust4'\n",
       "121. 'Utility'\n",
       "122. 'X.9to5'\n",
       "123. 'cold'\n",
       "124. 'hot'\n",
       "125. 'valid'\n",
       "126. 'valid1'\n",
       "127. 'valid2'\n",
       "\n",
       "\n"
      ],
      "text/plain": [
       "  [1] \"ACYN\"        \"Age\"         \"Atti1\"       \"Atti2\"       \"Atti3\"      \n",
       "  [6] \"Atti4\"       \"Attitude\"    \"AwayS\"       \"AwaySNY\"     \"AwayW\"      \n",
       " [11] \"AwayWNY\"     \"BillS\"       \"BillW\"       \"City\"        \"ComfNS1\"    \n",
       " [16] \"ComfNS2\"     \"ComfNS3\"     \"ComfNW1\"     \"ComfNW2\"     \"ComfortS\"   \n",
       " [21] \"ComfortW\"    \"CompR\"       \"ControlN1\"   \"ControlN2R\"  \"ControlN3\"  \n",
       " [26] \"ControlN4\"   \"ConvB1\"      \"ConvB2\"      \"ConvB3\"      \"ConvB4\"     \n",
       " [31] \"DeviceType\"  \"Educ\"        \"EmerRForm\"   \"EnergyC\"     \"EnergyC1\"   \n",
       " [36] \"EnergyC2\"    \"EnergyC3\"    \"EnergyC4\"    \"Ethnic\"      \"Frugal\"     \n",
       " [41] \"Frugal1\"     \"Frugal2\"     \"Frugal3\"     \"Gender\"      \"HTdevice\"   \n",
       " [46] \"HTsource\"    \"HabitC1\"     \"HabitC2\"     \"HabitC3\"     \"HabitC4\"    \n",
       " [51] \"HabitC5\"     \"HabitC6\"     \"HabitC7\"     \"HabitE1\"     \"HabitE2\"    \n",
       " [56] \"HabitE3\"     \"HeatYN\"      \"HomeS\"       \"HomeSYN\"     \"HomeW\"      \n",
       " [61] \"HomeWYN\"     \"HouseholdS\"  \"ID\"          \"INT1\"        \"INT2\"       \n",
       " [66] \"INT3\"        \"INT4\"        \"IncAutoS\"    \"IncAutoW\"    \"IncAwayS\"   \n",
       " [71] \"IncAwayW\"    \"IncDish\"     \"IncEmer10S\"  \"IncEmer10W\"  \"IncEmer30S\" \n",
       " [76] \"IncEmer30W\"  \"IncHomeS\"    \"IncHomeW\"    \"IncWD\"       \"Income\"     \n",
       " [81] \"Job\"         \"Latitude\"    \"Longitude\"   \"MC1\"         \"MC2\"        \n",
       " [86] \"MC3\"         \"MC4\"         \"MC5\"         \"MCBill\"      \"MCG\"        \n",
       " [91] \"NBillS\"      \"NBillW\"      \"OwnRent\"     \"PBC\"         \"PBC1\"       \n",
       " [96] \"PBC2\"        \"PBC3R\"       \"PBC4\"        \"PBC5\"        \"PBillStatus\"\n",
       "[101] \"Political\"   \"ReasonNeg\"   \"ReasonPos\"   \"RewardForm\"  \"SN1\"        \n",
       "[106] \"SN2\"         \"SN3\"         \"SN4\"         \"Sqft\"        \"SqftCate\"   \n",
       "[111] \"State\"       \"SubN\"        \"SubNorm1\"    \"SubNorm2\"    \"SubNorm3\"   \n",
       "[116] \"Trust\"       \"Trust1\"      \"Trust2\"      \"Trust3\"      \"Trust4\"     \n",
       "[121] \"Utility\"     \"X.9to5\"      \"cold\"        \"hot\"         \"valid\"      \n",
       "[126] \"valid1\"      \"valid2\"     "
      ]
     },
     "metadata": {},
     "output_type": "display_data"
    },
    {
     "data": {
      "text/plain": [
       "\n",
       "  1   2   3   4   5   6   7   8   9  10  11  12 \n",
       " 99  79  33  33  25  64  86  71  43 112  22 156 "
      ]
     },
     "metadata": {},
     "output_type": "display_data"
    },
    {
     "data": {
      "text/plain": [
       "\n",
       "  1   2   3   4   5   6   7   8 \n",
       "118  68 145 163  85  60  87  98 "
      ]
     },
     "metadata": {},
     "output_type": "display_data"
    }
   ],
   "source": [
    "options(digits=2);\n",
    "# Read in the data\n",
    "survey <- read.csv(\"DR_Survey2_Share_Complete.csv\",header=T);\n",
    "#populate missing values\n",
    "survey$IncHomeS[survey$IncHomeS==99] = NA;\n",
    "\n",
    "data <- survey[,-c(1:7)];\n",
    "\n",
    "#We investigate only use people who use A/C when being at home in summer\n",
    "data1 <- data[data$HomeWYN==1,-which(names(data) %in% c(\"HomeWYN\",\"AwayWNY\",\"HomeSYN\",\"AwaySNY\",\"City\",\"Utility\",\n",
    "    \"ReasonPos\",\"ReasonNeg\",\"NBillS\",\"NBillW\",\"valid1\",\"valid2\",\"valid\",\"Attitude\",\"Trust\",\n",
    "    \"EnergyC\",\"MCG\", \"MCBill\",\"Frugal\",\"ComfortS\",\"ComfortW\",\"SubN\",\"PBC\",\"ACYN\",\"HeatYN\",\n",
    "    \"Longitude\", \"Job\",\"hot\",\"cold\"))];\n",
    "sort(names(survey))\n",
    "table(survey$Job)\n",
    "table(survey$Political)"
   ]
  },
  {
   "cell_type": "code",
   "execution_count": 25,
   "metadata": {
    "collapsed": false
   },
   "outputs": [
    {
     "data": {
      "text/html": [
       "<table>\n",
       "<thead><tr><th></th><th scope=col>HomeW</th><th scope=col>HomeS</th><th scope=col>AwayW</th><th scope=col>AwayS</th><th scope=col>IncHomeS</th><th scope=col>IncHomeW</th><th scope=col>RewardForm</th><th scope=col>IncAwayS</th><th scope=col>IncAwayW</th><th scope=col>IncWD</th><th scope=col>...</th><th scope=col>BillS</th><th scope=col>BillW</th><th scope=col>Sqft</th><th scope=col>SqftCate</th><th scope=col>HouseholdS</th><th scope=col>Political</th><th scope=col>Ethnic</th><th scope=col>Income</th><th scope=col>Educ</th><th scope=col>Latitude</th></tr></thead>\n",
       "<tbody>\n",
       "\t<tr><th scope=row>276</th><td>70  </td><td>NA  </td><td>63  </td><td>NA  </td><td>NA  </td><td> 7  </td><td> 4  </td><td>99  </td><td> 3  </td><td> 7  </td><td>... </td><td>16  </td><td>20  </td><td>1500</td><td> 3  </td><td> 2  </td><td> 3  </td><td> 1  </td><td> 1  </td><td> 4  </td><td>-35 </td></tr>\n",
       "\t<tr><th scope=row>NA</th><td>NA  </td><td>NA  </td><td>NA  </td><td>NA  </td><td>NA  </td><td>NA  </td><td>NA  </td><td>NA  </td><td>NA  </td><td>NA  </td><td>... </td><td>NA  </td><td>NA  </td><td>  NA</td><td>NA  </td><td>NA  </td><td>NA  </td><td>NA  </td><td>NA  </td><td>NA  </td><td> NA </td></tr>\n",
       "\t<tr><th scope=row>NA.1</th><td>NA  </td><td>NA  </td><td>NA  </td><td>NA  </td><td>NA  </td><td>NA  </td><td>NA  </td><td>NA  </td><td>NA  </td><td>NA  </td><td>... </td><td>NA  </td><td>NA  </td><td>  NA</td><td>NA  </td><td>NA  </td><td>NA  </td><td>NA  </td><td>NA  </td><td>NA  </td><td> NA </td></tr>\n",
       "\t<tr><th scope=row>NA.2</th><td>NA  </td><td>NA  </td><td>NA  </td><td>NA  </td><td>NA  </td><td>NA  </td><td>NA  </td><td>NA  </td><td>NA  </td><td>NA  </td><td>... </td><td>NA  </td><td>NA  </td><td>  NA</td><td>NA  </td><td>NA  </td><td>NA  </td><td>NA  </td><td>NA  </td><td>NA  </td><td> NA </td></tr>\n",
       "\t<tr><th scope=row>NA.3</th><td>NA  </td><td>NA  </td><td>NA  </td><td>NA  </td><td>NA  </td><td>NA  </td><td>NA  </td><td>NA  </td><td>NA  </td><td>NA  </td><td>... </td><td>NA  </td><td>NA  </td><td>  NA</td><td>NA  </td><td>NA  </td><td>NA  </td><td>NA  </td><td>NA  </td><td>NA  </td><td> NA </td></tr>\n",
       "\t<tr><th scope=row>NA.4</th><td>NA  </td><td>NA  </td><td>NA  </td><td>NA  </td><td>NA  </td><td>NA  </td><td>NA  </td><td>NA  </td><td>NA  </td><td>NA  </td><td>... </td><td>NA  </td><td>NA  </td><td>  NA</td><td>NA  </td><td>NA  </td><td>NA  </td><td>NA  </td><td>NA  </td><td>NA  </td><td> NA </td></tr>\n",
       "\t<tr><th scope=row>NA.5</th><td>NA  </td><td>NA  </td><td>NA  </td><td>NA  </td><td>NA  </td><td>NA  </td><td>NA  </td><td>NA  </td><td>NA  </td><td>NA  </td><td>... </td><td>NA  </td><td>NA  </td><td>  NA</td><td>NA  </td><td>NA  </td><td>NA  </td><td>NA  </td><td>NA  </td><td>NA  </td><td> NA </td></tr>\n",
       "\t<tr><th scope=row>NA.6</th><td>NA  </td><td>NA  </td><td>NA  </td><td>NA  </td><td>NA  </td><td>NA  </td><td>NA  </td><td>NA  </td><td>NA  </td><td>NA  </td><td>... </td><td>NA  </td><td>NA  </td><td>  NA</td><td>NA  </td><td>NA  </td><td>NA  </td><td>NA  </td><td>NA  </td><td>NA  </td><td> NA </td></tr>\n",
       "\t<tr><th scope=row>NA.7</th><td>NA  </td><td>NA  </td><td>NA  </td><td>NA  </td><td>NA  </td><td>NA  </td><td>NA  </td><td>NA  </td><td>NA  </td><td>NA  </td><td>... </td><td>NA  </td><td>NA  </td><td>  NA</td><td>NA  </td><td>NA  </td><td>NA  </td><td>NA  </td><td>NA  </td><td>NA  </td><td> NA </td></tr>\n",
       "\t<tr><th scope=row>NA.8</th><td>NA  </td><td>NA  </td><td>NA  </td><td>NA  </td><td>NA  </td><td>NA  </td><td>NA  </td><td>NA  </td><td>NA  </td><td>NA  </td><td>... </td><td>NA  </td><td>NA  </td><td>  NA</td><td>NA  </td><td>NA  </td><td>NA  </td><td>NA  </td><td>NA  </td><td>NA  </td><td> NA </td></tr>\n",
       "\t<tr><th scope=row>NA.9</th><td>NA  </td><td>NA  </td><td>NA  </td><td>NA  </td><td>NA  </td><td>NA  </td><td>NA  </td><td>NA  </td><td>NA  </td><td>NA  </td><td>... </td><td>NA  </td><td>NA  </td><td>  NA</td><td>NA  </td><td>NA  </td><td>NA  </td><td>NA  </td><td>NA  </td><td>NA  </td><td> NA </td></tr>\n",
       "\t<tr><th scope=row>NA.10</th><td>NA  </td><td>NA  </td><td>NA  </td><td>NA  </td><td>NA  </td><td>NA  </td><td>NA  </td><td>NA  </td><td>NA  </td><td>NA  </td><td>... </td><td>NA  </td><td>NA  </td><td>  NA</td><td>NA  </td><td>NA  </td><td>NA  </td><td>NA  </td><td>NA  </td><td>NA  </td><td> NA </td></tr>\n",
       "\t<tr><th scope=row>NA.11</th><td>NA  </td><td>NA  </td><td>NA  </td><td>NA  </td><td>NA  </td><td>NA  </td><td>NA  </td><td>NA  </td><td>NA  </td><td>NA  </td><td>... </td><td>NA  </td><td>NA  </td><td>  NA</td><td>NA  </td><td>NA  </td><td>NA  </td><td>NA  </td><td>NA  </td><td>NA  </td><td> NA </td></tr>\n",
       "\t<tr><th scope=row>NA.12</th><td>NA  </td><td>NA  </td><td>NA  </td><td>NA  </td><td>NA  </td><td>NA  </td><td>NA  </td><td>NA  </td><td>NA  </td><td>NA  </td><td>... </td><td>NA  </td><td>NA  </td><td>  NA</td><td>NA  </td><td>NA  </td><td>NA  </td><td>NA  </td><td>NA  </td><td>NA  </td><td> NA </td></tr>\n",
       "\t<tr><th scope=row>NA.13</th><td>NA  </td><td>NA  </td><td>NA  </td><td>NA  </td><td>NA  </td><td>NA  </td><td>NA  </td><td>NA  </td><td>NA  </td><td>NA  </td><td>... </td><td>NA  </td><td>NA  </td><td>  NA</td><td>NA  </td><td>NA  </td><td>NA  </td><td>NA  </td><td>NA  </td><td>NA  </td><td> NA </td></tr>\n",
       "\t<tr><th scope=row>NA.14</th><td>NA  </td><td>NA  </td><td>NA  </td><td>NA  </td><td>NA  </td><td>NA  </td><td>NA  </td><td>NA  </td><td>NA  </td><td>NA  </td><td>... </td><td>NA  </td><td>NA  </td><td>  NA</td><td>NA  </td><td>NA  </td><td>NA  </td><td>NA  </td><td>NA  </td><td>NA  </td><td> NA </td></tr>\n",
       "\t<tr><th scope=row>NA.15</th><td>NA  </td><td>NA  </td><td>NA  </td><td>NA  </td><td>NA  </td><td>NA  </td><td>NA  </td><td>NA  </td><td>NA  </td><td>NA  </td><td>... </td><td>NA  </td><td>NA  </td><td>  NA</td><td>NA  </td><td>NA  </td><td>NA  </td><td>NA  </td><td>NA  </td><td>NA  </td><td> NA </td></tr>\n",
       "\t<tr><th scope=row>NA.16</th><td>NA  </td><td>NA  </td><td>NA  </td><td>NA  </td><td>NA  </td><td>NA  </td><td>NA  </td><td>NA  </td><td>NA  </td><td>NA  </td><td>... </td><td>NA  </td><td>NA  </td><td>  NA</td><td>NA  </td><td>NA  </td><td>NA  </td><td>NA  </td><td>NA  </td><td>NA  </td><td> NA </td></tr>\n",
       "\t<tr><th scope=row>NA.17</th><td>NA  </td><td>NA  </td><td>NA  </td><td>NA  </td><td>NA  </td><td>NA  </td><td>NA  </td><td>NA  </td><td>NA  </td><td>NA  </td><td>... </td><td>NA  </td><td>NA  </td><td>  NA</td><td>NA  </td><td>NA  </td><td>NA  </td><td>NA  </td><td>NA  </td><td>NA  </td><td> NA </td></tr>\n",
       "\t<tr><th scope=row>NA.18</th><td>NA  </td><td>NA  </td><td>NA  </td><td>NA  </td><td>NA  </td><td>NA  </td><td>NA  </td><td>NA  </td><td>NA  </td><td>NA  </td><td>... </td><td>NA  </td><td>NA  </td><td>  NA</td><td>NA  </td><td>NA  </td><td>NA  </td><td>NA  </td><td>NA  </td><td>NA  </td><td> NA </td></tr>\n",
       "\t<tr><th scope=row>NA.19</th><td>NA  </td><td>NA  </td><td>NA  </td><td>NA  </td><td>NA  </td><td>NA  </td><td>NA  </td><td>NA  </td><td>NA  </td><td>NA  </td><td>... </td><td>NA  </td><td>NA  </td><td>  NA</td><td>NA  </td><td>NA  </td><td>NA  </td><td>NA  </td><td>NA  </td><td>NA  </td><td> NA </td></tr>\n",
       "\t<tr><th scope=row>NA.20</th><td>NA  </td><td>NA  </td><td>NA  </td><td>NA  </td><td>NA  </td><td>NA  </td><td>NA  </td><td>NA  </td><td>NA  </td><td>NA  </td><td>... </td><td>NA  </td><td>NA  </td><td>  NA</td><td>NA  </td><td>NA  </td><td>NA  </td><td>NA  </td><td>NA  </td><td>NA  </td><td> NA </td></tr>\n",
       "\t<tr><th scope=row>NA.21</th><td>NA  </td><td>NA  </td><td>NA  </td><td>NA  </td><td>NA  </td><td>NA  </td><td>NA  </td><td>NA  </td><td>NA  </td><td>NA  </td><td>... </td><td>NA  </td><td>NA  </td><td>  NA</td><td>NA  </td><td>NA  </td><td>NA  </td><td>NA  </td><td>NA  </td><td>NA  </td><td> NA </td></tr>\n",
       "\t<tr><th scope=row>NA.22</th><td>NA  </td><td>NA  </td><td>NA  </td><td>NA  </td><td>NA  </td><td>NA  </td><td>NA  </td><td>NA  </td><td>NA  </td><td>NA  </td><td>... </td><td>NA  </td><td>NA  </td><td>  NA</td><td>NA  </td><td>NA  </td><td>NA  </td><td>NA  </td><td>NA  </td><td>NA  </td><td> NA </td></tr>\n",
       "</tbody>\n",
       "</table>\n"
      ],
      "text/latex": [
       "\\begin{tabular}{r|lllllllllllllllllllllllllllllllllllllllllllllllllllllllllllllllllllllllllllllllllllllllllll}\n",
       "  & HomeW & HomeS & AwayW & AwayS & IncHomeS & IncHomeW & RewardForm & IncAwayS & IncAwayW & IncWD & ... & BillS & BillW & Sqft & SqftCate & HouseholdS & Political & Ethnic & Income & Educ & Latitude\\\\\n",
       "\\hline\n",
       "\t276 & 70   & NA   & 63   & NA   & NA   &  7   &  4   & 99   &  3   &  7   & ...  & 16   & 20   & 1500 &  3   &  2   &  3   &  1   &  1   &  4   & -35 \\\\\n",
       "\tNA & NA   & NA   & NA   & NA   & NA   & NA   & NA   & NA   & NA   & NA   & ...  & NA   & NA   &   NA & NA   & NA   & NA   & NA   & NA   & NA   &  NA \\\\\n",
       "\tNA.1 & NA   & NA   & NA   & NA   & NA   & NA   & NA   & NA   & NA   & NA   & ...  & NA   & NA   &   NA & NA   & NA   & NA   & NA   & NA   & NA   &  NA \\\\\n",
       "\tNA.2 & NA   & NA   & NA   & NA   & NA   & NA   & NA   & NA   & NA   & NA   & ...  & NA   & NA   &   NA & NA   & NA   & NA   & NA   & NA   & NA   &  NA \\\\\n",
       "\tNA.3 & NA   & NA   & NA   & NA   & NA   & NA   & NA   & NA   & NA   & NA   & ...  & NA   & NA   &   NA & NA   & NA   & NA   & NA   & NA   & NA   &  NA \\\\\n",
       "\tNA.4 & NA   & NA   & NA   & NA   & NA   & NA   & NA   & NA   & NA   & NA   & ...  & NA   & NA   &   NA & NA   & NA   & NA   & NA   & NA   & NA   &  NA \\\\\n",
       "\tNA.5 & NA   & NA   & NA   & NA   & NA   & NA   & NA   & NA   & NA   & NA   & ...  & NA   & NA   &   NA & NA   & NA   & NA   & NA   & NA   & NA   &  NA \\\\\n",
       "\tNA.6 & NA   & NA   & NA   & NA   & NA   & NA   & NA   & NA   & NA   & NA   & ...  & NA   & NA   &   NA & NA   & NA   & NA   & NA   & NA   & NA   &  NA \\\\\n",
       "\tNA.7 & NA   & NA   & NA   & NA   & NA   & NA   & NA   & NA   & NA   & NA   & ...  & NA   & NA   &   NA & NA   & NA   & NA   & NA   & NA   & NA   &  NA \\\\\n",
       "\tNA.8 & NA   & NA   & NA   & NA   & NA   & NA   & NA   & NA   & NA   & NA   & ...  & NA   & NA   &   NA & NA   & NA   & NA   & NA   & NA   & NA   &  NA \\\\\n",
       "\tNA.9 & NA   & NA   & NA   & NA   & NA   & NA   & NA   & NA   & NA   & NA   & ...  & NA   & NA   &   NA & NA   & NA   & NA   & NA   & NA   & NA   &  NA \\\\\n",
       "\tNA.10 & NA   & NA   & NA   & NA   & NA   & NA   & NA   & NA   & NA   & NA   & ...  & NA   & NA   &   NA & NA   & NA   & NA   & NA   & NA   & NA   &  NA \\\\\n",
       "\tNA.11 & NA   & NA   & NA   & NA   & NA   & NA   & NA   & NA   & NA   & NA   & ...  & NA   & NA   &   NA & NA   & NA   & NA   & NA   & NA   & NA   &  NA \\\\\n",
       "\tNA.12 & NA   & NA   & NA   & NA   & NA   & NA   & NA   & NA   & NA   & NA   & ...  & NA   & NA   &   NA & NA   & NA   & NA   & NA   & NA   & NA   &  NA \\\\\n",
       "\tNA.13 & NA   & NA   & NA   & NA   & NA   & NA   & NA   & NA   & NA   & NA   & ...  & NA   & NA   &   NA & NA   & NA   & NA   & NA   & NA   & NA   &  NA \\\\\n",
       "\tNA.14 & NA   & NA   & NA   & NA   & NA   & NA   & NA   & NA   & NA   & NA   & ...  & NA   & NA   &   NA & NA   & NA   & NA   & NA   & NA   & NA   &  NA \\\\\n",
       "\tNA.15 & NA   & NA   & NA   & NA   & NA   & NA   & NA   & NA   & NA   & NA   & ...  & NA   & NA   &   NA & NA   & NA   & NA   & NA   & NA   & NA   &  NA \\\\\n",
       "\tNA.16 & NA   & NA   & NA   & NA   & NA   & NA   & NA   & NA   & NA   & NA   & ...  & NA   & NA   &   NA & NA   & NA   & NA   & NA   & NA   & NA   &  NA \\\\\n",
       "\tNA.17 & NA   & NA   & NA   & NA   & NA   & NA   & NA   & NA   & NA   & NA   & ...  & NA   & NA   &   NA & NA   & NA   & NA   & NA   & NA   & NA   &  NA \\\\\n",
       "\tNA.18 & NA   & NA   & NA   & NA   & NA   & NA   & NA   & NA   & NA   & NA   & ...  & NA   & NA   &   NA & NA   & NA   & NA   & NA   & NA   & NA   &  NA \\\\\n",
       "\tNA.19 & NA   & NA   & NA   & NA   & NA   & NA   & NA   & NA   & NA   & NA   & ...  & NA   & NA   &   NA & NA   & NA   & NA   & NA   & NA   & NA   &  NA \\\\\n",
       "\tNA.20 & NA   & NA   & NA   & NA   & NA   & NA   & NA   & NA   & NA   & NA   & ...  & NA   & NA   &   NA & NA   & NA   & NA   & NA   & NA   & NA   &  NA \\\\\n",
       "\tNA.21 & NA   & NA   & NA   & NA   & NA   & NA   & NA   & NA   & NA   & NA   & ...  & NA   & NA   &   NA & NA   & NA   & NA   & NA   & NA   & NA   &  NA \\\\\n",
       "\tNA.22 & NA   & NA   & NA   & NA   & NA   & NA   & NA   & NA   & NA   & NA   & ...  & NA   & NA   &   NA & NA   & NA   & NA   & NA   & NA   & NA   &  NA \\\\\n",
       "\\end{tabular}\n"
      ],
      "text/plain": [
       "      HomeW HomeS AwayW AwayS IncHomeS IncHomeW RewardForm IncAwayS IncAwayW\n",
       "276   70    NA    63    NA    NA        7        4         99        3      \n",
       "NA    NA    NA    NA    NA    NA       NA       NA         NA       NA      \n",
       "NA.1  NA    NA    NA    NA    NA       NA       NA         NA       NA      \n",
       "NA.2  NA    NA    NA    NA    NA       NA       NA         NA       NA      \n",
       "NA.3  NA    NA    NA    NA    NA       NA       NA         NA       NA      \n",
       "NA.4  NA    NA    NA    NA    NA       NA       NA         NA       NA      \n",
       "NA.5  NA    NA    NA    NA    NA       NA       NA         NA       NA      \n",
       "NA.6  NA    NA    NA    NA    NA       NA       NA         NA       NA      \n",
       "NA.7  NA    NA    NA    NA    NA       NA       NA         NA       NA      \n",
       "NA.8  NA    NA    NA    NA    NA       NA       NA         NA       NA      \n",
       "NA.9  NA    NA    NA    NA    NA       NA       NA         NA       NA      \n",
       "NA.10 NA    NA    NA    NA    NA       NA       NA         NA       NA      \n",
       "NA.11 NA    NA    NA    NA    NA       NA       NA         NA       NA      \n",
       "NA.12 NA    NA    NA    NA    NA       NA       NA         NA       NA      \n",
       "NA.13 NA    NA    NA    NA    NA       NA       NA         NA       NA      \n",
       "NA.14 NA    NA    NA    NA    NA       NA       NA         NA       NA      \n",
       "NA.15 NA    NA    NA    NA    NA       NA       NA         NA       NA      \n",
       "NA.16 NA    NA    NA    NA    NA       NA       NA         NA       NA      \n",
       "NA.17 NA    NA    NA    NA    NA       NA       NA         NA       NA      \n",
       "NA.18 NA    NA    NA    NA    NA       NA       NA         NA       NA      \n",
       "NA.19 NA    NA    NA    NA    NA       NA       NA         NA       NA      \n",
       "NA.20 NA    NA    NA    NA    NA       NA       NA         NA       NA      \n",
       "NA.21 NA    NA    NA    NA    NA       NA       NA         NA       NA      \n",
       "NA.22 NA    NA    NA    NA    NA       NA       NA         NA       NA      \n",
       "      IncWD ... BillS BillW Sqft SqftCate HouseholdS Political Ethnic Income\n",
       "276    7    ... 16    20    1500  3        2          3         1      1    \n",
       "NA    NA    ... NA    NA      NA NA       NA         NA        NA     NA    \n",
       "NA.1  NA    ... NA    NA      NA NA       NA         NA        NA     NA    \n",
       "NA.2  NA    ... NA    NA      NA NA       NA         NA        NA     NA    \n",
       "NA.3  NA    ... NA    NA      NA NA       NA         NA        NA     NA    \n",
       "NA.4  NA    ... NA    NA      NA NA       NA         NA        NA     NA    \n",
       "NA.5  NA    ... NA    NA      NA NA       NA         NA        NA     NA    \n",
       "NA.6  NA    ... NA    NA      NA NA       NA         NA        NA     NA    \n",
       "NA.7  NA    ... NA    NA      NA NA       NA         NA        NA     NA    \n",
       "NA.8  NA    ... NA    NA      NA NA       NA         NA        NA     NA    \n",
       "NA.9  NA    ... NA    NA      NA NA       NA         NA        NA     NA    \n",
       "NA.10 NA    ... NA    NA      NA NA       NA         NA        NA     NA    \n",
       "NA.11 NA    ... NA    NA      NA NA       NA         NA        NA     NA    \n",
       "NA.12 NA    ... NA    NA      NA NA       NA         NA        NA     NA    \n",
       "NA.13 NA    ... NA    NA      NA NA       NA         NA        NA     NA    \n",
       "NA.14 NA    ... NA    NA      NA NA       NA         NA        NA     NA    \n",
       "NA.15 NA    ... NA    NA      NA NA       NA         NA        NA     NA    \n",
       "NA.16 NA    ... NA    NA      NA NA       NA         NA        NA     NA    \n",
       "NA.17 NA    ... NA    NA      NA NA       NA         NA        NA     NA    \n",
       "NA.18 NA    ... NA    NA      NA NA       NA         NA        NA     NA    \n",
       "NA.19 NA    ... NA    NA      NA NA       NA         NA        NA     NA    \n",
       "NA.20 NA    ... NA    NA      NA NA       NA         NA        NA     NA    \n",
       "NA.21 NA    ... NA    NA      NA NA       NA         NA        NA     NA    \n",
       "NA.22 NA    ... NA    NA      NA NA       NA         NA        NA     NA    \n",
       "      Educ Latitude\n",
       "276    4   -35     \n",
       "NA    NA    NA     \n",
       "NA.1  NA    NA     \n",
       "NA.2  NA    NA     \n",
       "NA.3  NA    NA     \n",
       "NA.4  NA    NA     \n",
       "NA.5  NA    NA     \n",
       "NA.6  NA    NA     \n",
       "NA.7  NA    NA     \n",
       "NA.8  NA    NA     \n",
       "NA.9  NA    NA     \n",
       "NA.10 NA    NA     \n",
       "NA.11 NA    NA     \n",
       "NA.12 NA    NA     \n",
       "NA.13 NA    NA     \n",
       "NA.14 NA    NA     \n",
       "NA.15 NA    NA     \n",
       "NA.16 NA    NA     \n",
       "NA.17 NA    NA     \n",
       "NA.18 NA    NA     \n",
       "NA.19 NA    NA     \n",
       "NA.20 NA    NA     \n",
       "NA.21 NA    NA     \n",
       "NA.22 NA    NA     "
      ]
     },
     "metadata": {},
     "output_type": "display_data"
    }
   ],
   "source": [
    "data1[data1$Latitude<0,]"
   ]
  },
  {
   "cell_type": "code",
   "execution_count": 26,
   "metadata": {
    "collapsed": false
   },
   "outputs": [
    {
     "data": {
      "image/png": "[encoded data removed]",
      "text/plain": [
       "Plot with title \"Histogram of data1$Latitude\""
      ]
     },
     "metadata": {},
     "output_type": "display_data"
    }
   ],
   "source": [
    "hist(data1$Latitude)"
   ]
  },
  {
   "cell_type": "code",
   "execution_count": 27,
   "metadata": {
    "collapsed": false
   },
   "outputs": [
    {
     "name": "stdout",
     "output_type": "stream",
     "text": [
      "[1] 747   3\n"
     ]
    },
    {
     "data": {
      "text/plain": [
       "\n",
       "  1   2   3   4   5   6   7   8 \n",
       "109  64 126 152  76  58  81  79 "
      ]
     },
     "metadata": {},
     "output_type": "display_data"
    }
   ],
   "source": [
    "#Frugal-Mean(Frugal1,Frugal2,Frugal3)\n",
    "tmp <- cbind(Frugal1=data1$Frugal1,Frugal2=data1$Frugal2,Frugal3=data1$Frugal3)\n",
    "print(dim(tmp))\n",
    "data1$Frugal <- rowMeans(tmp)\n",
    "data1 <- data1[,-which(names(data1) %in% c(\"Frugal1\",\"Frugal2\",\"Frugal3\"))]\n",
    "#print(data1)\n",
    "table(data1$Political)"
   ]
  },
  {
   "cell_type": "code",
   "execution_count": 28,
   "metadata": {
    "collapsed": false
   },
   "outputs": [
    {
     "name": "stdout",
     "output_type": "stream",
     "text": [
      "[1] 747   3\n"
     ]
    }
   ],
   "source": [
    "#MC-Mean(MC3,MC4,MC5)\n",
    "tmp <- cbind(MC3=data1$MC3,MC4=data1$MC4,MC5=data1$MC5)\n",
    "print(dim(tmp))\n",
    "data1$MC <- rowMeans(tmp)\n",
    "data1 <- data1[,-which(names(data1) %in% c(\"MC3\",\"MC4\",\"MC5\"))]\n",
    "#print(data1)"
   ]
  },
  {
   "cell_type": "code",
   "execution_count": 29,
   "metadata": {
    "collapsed": false
   },
   "outputs": [
    {
     "name": "stdout",
     "output_type": "stream",
     "text": [
      "[1] 747   3\n"
     ]
    }
   ],
   "source": [
    "#EnergyC-Mean(EnergyC1,EnergyC2,EnergyC4)\n",
    "tmp <- cbind(EnergyC1=data1$EnergyC1,EnergyC2=data1$EnergyC2,EnergyC4=data1$EnergyC4)\n",
    "print(dim(tmp))\n",
    "data1$EnergyC <- rowMeans(tmp)\n",
    "data1 <- data1[,-which(names(data1) %in% c(\"EnergyC1\",\"EnergyC2\",\"EnergyC4\"))]\n",
    "#print(data1)"
   ]
  },
  {
   "cell_type": "code",
   "execution_count": 30,
   "metadata": {
    "collapsed": false
   },
   "outputs": [
    {
     "name": "stdout",
     "output_type": "stream",
     "text": [
      "[1] 747   4\n"
     ]
    }
   ],
   "source": [
    "#Trust-Mean(Trust1,Trust2,Trust3,Trust4)\n",
    "tmp <- cbind(Trust1=data1$Trust1,Trust2=data1$Trust2,Trust3=data1$Trust3,Trust4=data1$Trust4)\n",
    "print(dim(tmp))\n",
    "data1$Trust <- rowMeans(tmp)\n",
    "data1 <- data1[,-which(names(data1) %in% c(\"Trust1\",\"Trust2\",\"Trust3\",\"Trust4\"))]\n",
    "#print(data1)"
   ]
  },
  {
   "cell_type": "code",
   "execution_count": 31,
   "metadata": {
    "collapsed": false
   },
   "outputs": [
    {
     "name": "stdout",
     "output_type": "stream",
     "text": [
      "[1] 747   2\n"
     ]
    }
   ],
   "source": [
    "#ComfNW-Mean(ComfNW1,ComfNW2)\n",
    "tmp <- cbind(ComfNW1=data1$ComfNW1,ComfNW2=data1$ComfNW2)\n",
    "print(dim(tmp))\n",
    "data1$ComfNW <- rowMeans(tmp)\n",
    "data1 <- data1[,-which(names(data1) %in% c(\"ComfNW1\",\"ComfNW2\"))]\n",
    "#print(data1)"
   ]
  },
  {
   "cell_type": "code",
   "execution_count": 32,
   "metadata": {
    "collapsed": false
   },
   "outputs": [
    {
     "name": "stdout",
     "output_type": "stream",
     "text": [
      "[1] 747   4\n"
     ]
    }
   ],
   "source": [
    "#Attitude-Mean(Atti1,Atti2,Atti3,Atti4)\n",
    "tmp <- cbind(Atti1=data1$Atti1,Atti2=data1$Atti2,Atti3=data1$Atti3,Atti4=data1$Atti4)\n",
    "print(dim(tmp))\n",
    "data1$Atti <- rowMeans(tmp)\n",
    "data1 <- data1[,-which(names(data1) %in% c(\"Atti1\",\"Atti2\",\"Atti3\",\"Atti4\"))]\n",
    "#print(data1)"
   ]
  },
  {
   "cell_type": "code",
   "execution_count": 33,
   "metadata": {
    "collapsed": false
   },
   "outputs": [
    {
     "name": "stdout",
     "output_type": "stream",
     "text": [
      "[1] 747   3\n"
     ]
    }
   ],
   "source": [
    "#SubNorm-Mean(SubNorm1,SubNorm2,SubNorm3)\n",
    "tmp <- cbind(SubNorm1=data1$SubNorm1,SubNorm=data1$SubNorm2,SubNorm3=data1$SubNorm3)\n",
    "print(dim(tmp))\n",
    "data1$SubNorm <- rowMeans(tmp)\n",
    "data1 <- data1[,-which(names(data1) %in% c(\"SubNorm1\",\"SubNorm2\",\"SubNorm3\"))]\n",
    "#print(data1)"
   ]
  },
  {
   "cell_type": "code",
   "execution_count": 34,
   "metadata": {
    "collapsed": false
   },
   "outputs": [
    {
     "name": "stdout",
     "output_type": "stream",
     "text": [
      "[1] 747   4\n"
     ]
    }
   ],
   "source": [
    "#PBC-Mean(PBC1,PBC2,PBC4,PBC5)\n",
    "tmp <- cbind(PBC1=data1$PBC1,PBC2=data1$PBC2,PBC4=data1$PBC4,PBC5=data1$PBC5)\n",
    "print(dim(tmp))\n",
    "data1$PBC <- rowMeans(tmp)\n",
    "data1 <- data1[,-which(names(data1) %in% c(\"PBC1\",\"PBC2\",\"PBC4\",\"PBC5\"))]\n",
    "#print(data1)"
   ]
  },
  {
   "cell_type": "code",
   "execution_count": 35,
   "metadata": {
    "collapsed": false
   },
   "outputs": [
    {
     "name": "stdout",
     "output_type": "stream",
     "text": [
      "[1] 747   3\n"
     ]
    }
   ],
   "source": [
    "#SN-Mean(SN1,SN2,SN4)\n",
    "tmp <- cbind(SN1=data1$SN1,SN=data1$SN2,SN4=data1$SN4)\n",
    "print(dim(tmp))\n",
    "data1$SN <- rowMeans(tmp)\n",
    "data1 <- data1[,-which(names(data1) %in% c(\"SN1\",\"SN2\",\"SN4\"))]\n",
    "#print(data1)"
   ]
  },
  {
   "cell_type": "code",
   "execution_count": 36,
   "metadata": {
    "collapsed": false
   },
   "outputs": [
    {
     "name": "stdout",
     "output_type": "stream",
     "text": [
      "[1] 747   4\n"
     ]
    }
   ],
   "source": [
    "#HabitG-Mean(HabitC1,HabitC2,HabitC3,HabitC4)\n",
    "tmp <- cbind(HabitC1=data1$HabitC1,HabitC2=data1$HabitC2,HabitC3=data1$HabitC3,HabitC4=data1$HabitC4)\n",
    "print(dim(tmp))\n",
    "data1$HabitG <- rowMeans(tmp)\n",
    "data1 <- data1[,-which(names(data1) %in% c(\"HabitC1\",\"HabitC2\",\"HabitC4\",\"HabitC5\"))]\n",
    "#print(data1)"
   ]
  },
  {
   "cell_type": "code",
   "execution_count": 37,
   "metadata": {
    "collapsed": false
   },
   "outputs": [
    {
     "name": "stdout",
     "output_type": "stream",
     "text": [
      "[1] 747   2\n"
     ]
    }
   ],
   "source": [
    "#HabitHC-Mean(HabitC5,HabitC6,HabitC7)\n",
    "tmp <- cbind(HabitC5=data1$HabitC5,HabitC6=data1$HabitC6,HabitC7=data1$HabitC7)\n",
    "print(dim(tmp))\n",
    "data1$HabitC <- rowMeans(tmp)\n",
    "data1 <- data1[,-which(names(data1) %in% c(\"HabitC5\",\"HabitC6\",\"HabitC7\"))]\n",
    "#print(data1)"
   ]
  },
  {
   "cell_type": "code",
   "execution_count": 38,
   "metadata": {
    "collapsed": false
   },
   "outputs": [
    {
     "name": "stdout",
     "output_type": "stream",
     "text": [
      "[1] \"HomeS\" \"113\"  \n",
      "[1] \"AwayW\" \"72\"   \n",
      "[1] \"AwayS\" \"202\"  \n",
      "[1] \"IncHomeS\" \"53\"      \n",
      "[1] \"IncWD\" \"71\"   \n",
      "[1] \"IncDish\" \"226\"    \n",
      "[1] \"Age\" \"4\"  \n",
      "[1] \"OwnRent\" \"2\"      \n",
      "[1] \"BillS\" \"2\"    \n",
      "[1] \"BillW\" \"2\"    \n",
      "[1] \"Sqft\" \"2\"   \n",
      "[1] \"SqftCate\" \"2\"       \n",
      "[1] \"HouseholdS\" \"2\"         \n",
      "[1] \"Political\" \"2\"        \n",
      "[1] \"Ethnic\" \"2\"     \n",
      "[1] \"Income\" \"5\"     \n",
      "[1] \"Educ\" \"7\"   \n",
      "[1] \"Latitude\" \"23\"      \n"
     ]
    }
   ],
   "source": [
    "#Fields with lots of missing values\n",
    "for (n in names(data1)){\n",
    "    nmis = sum(is.na(data1[,n]))\n",
    "    if(nmis >1)  print (c(n, sum(is.na(data1[,n]))))\n",
    "}"
   ]
  },
  {
   "cell_type": "code",
   "execution_count": 41,
   "metadata": {
    "collapsed": false
   },
   "outputs": [
    {
     "name": "stdout",
     "output_type": "stream",
     "text": [
      "[1] 747  62\n",
      "[1] 599  62\n"
     ]
    },
    {
     "data": {
      "image/png": "[encoded data removed]",
      "text/plain": [
       "Plot with title \"Histogram of data2$Latitude\""
      ]
     },
     "metadata": {},
     "output_type": "display_data"
    }
   ],
   "source": [
    "#lets remover these\n",
    "data2 <- data1[,-which(names(data1) %in% c(\"HomeW\",\"AwayW\",\n",
    "                    \"AwayS\",\"IncWD\",\"IncDish\"))];\n",
    "print(dim(data2))\n",
    "data2 <- na.omit(data2)\n",
    "hist(data2$Latitude)\n",
    "#data2[data2$Latitude<0,]\n",
    "print(dim(data2))\n",
    "#table(data2$Political)"
   ]
  },
  {
   "cell_type": "code",
   "execution_count": 42,
   "metadata": {
    "collapsed": false
   },
   "outputs": [
    {
     "data": {
      "text/plain": [
       "\n",
       "  1   2   3   4   5   6   7   8 \n",
       " 85  52 103 122  61  50  64  62 "
      ]
     },
     "metadata": {},
     "output_type": "display_data"
    },
    {
     "data": {
      "text/plain": [
       "\n",
       "  1   2   3 \n",
       "175 184 240 "
      ]
     },
     "metadata": {},
     "output_type": "display_data"
    }
   ],
   "source": [
    "#Political (Categorical- recode 5,6,7 as “1”-republican, \n",
    "                        #recode 4,8 as “2”- apolitical, \n",
    "                        #recode 1,2,3 as “3”- democrat)\n",
    "table(data2$Political)\n",
    "data2$Political[data2$Political==1]=3 #democrat\n",
    "data2$Political[data2$Political==2]=3 #democrat\n",
    "data2$Political[data2$Political==3]=3 #democrat\n",
    "data2$Political[data2$Political==4]=2 #apolitical\n",
    "data2$Political[data2$Political==8]=2 #apolitical\n",
    "data2$Political[data2$Political==5]=1 #republican\n",
    "data2$Political[data2$Political==6]=1 #republican\n",
    "data2$Political[data2$Political==7]=1 #republican\n",
    "table(data2$Political)"
   ]
  },
  {
   "cell_type": "code",
   "execution_count": 43,
   "metadata": {
    "collapsed": false
   },
   "outputs": [
    {
     "data": {
      "text/plain": [
       "\n",
       "  1   2   3   4   5   6   7 \n",
       "496  30  26   3  29  13   2 "
      ]
     },
     "metadata": {},
     "output_type": "display_data"
    },
    {
     "data": {
      "text/plain": [
       "\n",
       "  0   1 \n",
       "103 496 "
      ]
     },
     "metadata": {},
     "output_type": "display_data"
    }
   ],
   "source": [
    "#data2$Ethnic\n",
    "#Ethnic (Categorical- keep 1 as “1”- white; group and recode all others as “0”- non white)\n",
    "table(data2$Ethnic)\n",
    "data2$Ethnic[data2$Ethnic==1]=1 #white\n",
    "data2$Ethnic[data2$Ethnic==2]=0 #non-white\n",
    "data2$Ethnic[data2$Ethnic==3]=0\n",
    "data2$Ethnic[data2$Ethnic==4]=0\n",
    "data2$Ethnic[data2$Ethnic==5]=0\n",
    "data2$Ethnic[data2$Ethnic==6]=0\n",
    "data2$Ethnic[data2$Ethnic==7]=0\n",
    "table(data2$Ethnic)"
   ]
  },
  {
   "cell_type": "code",
   "execution_count": 45,
   "metadata": {
    "collapsed": false
   },
   "outputs": [],
   "source": [
    "#names(data2)\n",
    "#These are only variables we really care about\n",
    "IVS = c(\"Age\",\n",
    "\"Gender\",\n",
    "\"OwnRent\",\n",
    "\"SqftCate\",\n",
    "\"HouseholdS\",\n",
    "\"Political\",\n",
    "\"Ethnic\",\n",
    "\"Income\",\n",
    "\"Educ\",\n",
    "#\"Frugal\",\n",
    "\"MC\",\n",
    "\"EnergyC\",\n",
    "#\"Trust\",\n",
    "\"ComfNW\",\n",
    "\"Atti\",\n",
    "\"SubNorm\",\n",
    "\"PBC\",\n",
    "#\"SN\",\n",
    "\"HabitG\",\n",
    "\"HabitC\",\n",
    "\"Latitude\")"
   ]
  },
  {
   "cell_type": "code",
   "execution_count": 46,
   "metadata": {
    "collapsed": false
   },
   "outputs": [
    {
     "data": {
      "text/html": [
       "<ol class=list-inline>\n",
       "\t<li>'Age'</li>\n",
       "\t<li>'Atti'</li>\n",
       "\t<li>'BillS'</li>\n",
       "\t<li>'BillW'</li>\n",
       "\t<li>'ComfNS1'</li>\n",
       "\t<li>'ComfNS2'</li>\n",
       "\t<li>'ComfNS3'</li>\n",
       "\t<li>'ComfNW'</li>\n",
       "\t<li>'ControlN1'</li>\n",
       "\t<li>'ControlN2R'</li>\n",
       "\t<li>'ControlN3'</li>\n",
       "\t<li>'ControlN4'</li>\n",
       "\t<li>'ConvB1'</li>\n",
       "\t<li>'ConvB2'</li>\n",
       "\t<li>'ConvB3'</li>\n",
       "\t<li>'ConvB4'</li>\n",
       "\t<li>'Educ'</li>\n",
       "\t<li>'EmerRForm'</li>\n",
       "\t<li>'EnergyC'</li>\n",
       "\t<li>'EnergyC3'</li>\n",
       "\t<li>'Ethnic'</li>\n",
       "\t<li>'Frugal'</li>\n",
       "\t<li>'Gender'</li>\n",
       "\t<li>'HabitC'</li>\n",
       "\t<li>'HabitC3'</li>\n",
       "\t<li>'HabitE1'</li>\n",
       "\t<li>'HabitE2'</li>\n",
       "\t<li>'HabitE3'</li>\n",
       "\t<li>'HabitG'</li>\n",
       "\t<li>'HomeS'</li>\n",
       "\t<li>'HouseholdS'</li>\n",
       "\t<li>'INT1'</li>\n",
       "\t<li>'INT2'</li>\n",
       "\t<li>'INT3'</li>\n",
       "\t<li>'INT4'</li>\n",
       "\t<li>'IncAutoS'</li>\n",
       "\t<li>'IncAutoW'</li>\n",
       "\t<li>'IncAwayS'</li>\n",
       "\t<li>'IncAwayW'</li>\n",
       "\t<li>'IncEmer10S'</li>\n",
       "\t<li>'IncEmer10W'</li>\n",
       "\t<li>'IncEmer30S'</li>\n",
       "\t<li>'IncEmer30W'</li>\n",
       "\t<li>'IncHomeS'</li>\n",
       "\t<li>'IncHomeW'</li>\n",
       "\t<li>'Income'</li>\n",
       "\t<li>'Latitude'</li>\n",
       "\t<li>'MC'</li>\n",
       "\t<li>'MC1'</li>\n",
       "\t<li>'MC2'</li>\n",
       "\t<li>'OwnRent'</li>\n",
       "\t<li>'PBC'</li>\n",
       "\t<li>'PBC3R'</li>\n",
       "\t<li>'Political'</li>\n",
       "\t<li>'RewardForm'</li>\n",
       "\t<li>'SN'</li>\n",
       "\t<li>'SN3'</li>\n",
       "\t<li>'Sqft'</li>\n",
       "\t<li>'SqftCate'</li>\n",
       "\t<li>'State'</li>\n",
       "\t<li>'SubNorm'</li>\n",
       "\t<li>'Trust'</li>\n",
       "</ol>\n"
      ],
      "text/latex": [
       "\\begin{enumerate*}\n",
       "\\item 'Age'\n",
       "\\item 'Atti'\n",
       "\\item 'BillS'\n",
       "\\item 'BillW'\n",
       "\\item 'ComfNS1'\n",
       "\\item 'ComfNS2'\n",
       "\\item 'ComfNS3'\n",
       "\\item 'ComfNW'\n",
       "\\item 'ControlN1'\n",
       "\\item 'ControlN2R'\n",
       "\\item 'ControlN3'\n",
       "\\item 'ControlN4'\n",
       "\\item 'ConvB1'\n",
       "\\item 'ConvB2'\n",
       "\\item 'ConvB3'\n",
       "\\item 'ConvB4'\n",
       "\\item 'Educ'\n",
       "\\item 'EmerRForm'\n",
       "\\item 'EnergyC'\n",
       "\\item 'EnergyC3'\n",
       "\\item 'Ethnic'\n",
       "\\item 'Frugal'\n",
       "\\item 'Gender'\n",
       "\\item 'HabitC'\n",
       "\\item 'HabitC3'\n",
       "\\item 'HabitE1'\n",
       "\\item 'HabitE2'\n",
       "\\item 'HabitE3'\n",
       "\\item 'HabitG'\n",
       "\\item 'HomeS'\n",
       "\\item 'HouseholdS'\n",
       "\\item 'INT1'\n",
       "\\item 'INT2'\n",
       "\\item 'INT3'\n",
       "\\item 'INT4'\n",
       "\\item 'IncAutoS'\n",
       "\\item 'IncAutoW'\n",
       "\\item 'IncAwayS'\n",
       "\\item 'IncAwayW'\n",
       "\\item 'IncEmer10S'\n",
       "\\item 'IncEmer10W'\n",
       "\\item 'IncEmer30S'\n",
       "\\item 'IncEmer30W'\n",
       "\\item 'IncHomeS'\n",
       "\\item 'IncHomeW'\n",
       "\\item 'Income'\n",
       "\\item 'Latitude'\n",
       "\\item 'MC'\n",
       "\\item 'MC1'\n",
       "\\item 'MC2'\n",
       "\\item 'OwnRent'\n",
       "\\item 'PBC'\n",
       "\\item 'PBC3R'\n",
       "\\item 'Political'\n",
       "\\item 'RewardForm'\n",
       "\\item 'SN'\n",
       "\\item 'SN3'\n",
       "\\item 'Sqft'\n",
       "\\item 'SqftCate'\n",
       "\\item 'State'\n",
       "\\item 'SubNorm'\n",
       "\\item 'Trust'\n",
       "\\end{enumerate*}\n"
      ],
      "text/markdown": [
       "1. 'Age'\n",
       "2. 'Atti'\n",
       "3. 'BillS'\n",
       "4. 'BillW'\n",
       "5. 'ComfNS1'\n",
       "6. 'ComfNS2'\n",
       "7. 'ComfNS3'\n",
       "8. 'ComfNW'\n",
       "9. 'ControlN1'\n",
       "10. 'ControlN2R'\n",
       "11. 'ControlN3'\n",
       "12. 'ControlN4'\n",
       "13. 'ConvB1'\n",
       "14. 'ConvB2'\n",
       "15. 'ConvB3'\n",
       "16. 'ConvB4'\n",
       "17. 'Educ'\n",
       "18. 'EmerRForm'\n",
       "19. 'EnergyC'\n",
       "20. 'EnergyC3'\n",
       "21. 'Ethnic'\n",
       "22. 'Frugal'\n",
       "23. 'Gender'\n",
       "24. 'HabitC'\n",
       "25. 'HabitC3'\n",
       "26. 'HabitE1'\n",
       "27. 'HabitE2'\n",
       "28. 'HabitE3'\n",
       "29. 'HabitG'\n",
       "30. 'HomeS'\n",
       "31. 'HouseholdS'\n",
       "32. 'INT1'\n",
       "33. 'INT2'\n",
       "34. 'INT3'\n",
       "35. 'INT4'\n",
       "36. 'IncAutoS'\n",
       "37. 'IncAutoW'\n",
       "38. 'IncAwayS'\n",
       "39. 'IncAwayW'\n",
       "40. 'IncEmer10S'\n",
       "41. 'IncEmer10W'\n",
       "42. 'IncEmer30S'\n",
       "43. 'IncEmer30W'\n",
       "44. 'IncHomeS'\n",
       "45. 'IncHomeW'\n",
       "46. 'Income'\n",
       "47. 'Latitude'\n",
       "48. 'MC'\n",
       "49. 'MC1'\n",
       "50. 'MC2'\n",
       "51. 'OwnRent'\n",
       "52. 'PBC'\n",
       "53. 'PBC3R'\n",
       "54. 'Political'\n",
       "55. 'RewardForm'\n",
       "56. 'SN'\n",
       "57. 'SN3'\n",
       "58. 'Sqft'\n",
       "59. 'SqftCate'\n",
       "60. 'State'\n",
       "61. 'SubNorm'\n",
       "62. 'Trust'\n",
       "\n",
       "\n"
      ],
      "text/plain": [
       " [1] \"Age\"        \"Atti\"       \"BillS\"      \"BillW\"      \"ComfNS1\"   \n",
       " [6] \"ComfNS2\"    \"ComfNS3\"    \"ComfNW\"     \"ControlN1\"  \"ControlN2R\"\n",
       "[11] \"ControlN3\"  \"ControlN4\"  \"ConvB1\"     \"ConvB2\"     \"ConvB3\"    \n",
       "[16] \"ConvB4\"     \"Educ\"       \"EmerRForm\"  \"EnergyC\"    \"EnergyC3\"  \n",
       "[21] \"Ethnic\"     \"Frugal\"     \"Gender\"     \"HabitC\"     \"HabitC3\"   \n",
       "[26] \"HabitE1\"    \"HabitE2\"    \"HabitE3\"    \"HabitG\"     \"HomeS\"     \n",
       "[31] \"HouseholdS\" \"INT1\"       \"INT2\"       \"INT3\"       \"INT4\"      \n",
       "[36] \"IncAutoS\"   \"IncAutoW\"   \"IncAwayS\"   \"IncAwayW\"   \"IncEmer10S\"\n",
       "[41] \"IncEmer10W\" \"IncEmer30S\" \"IncEmer30W\" \"IncHomeS\"   \"IncHomeW\"  \n",
       "[46] \"Income\"     \"Latitude\"   \"MC\"         \"MC1\"        \"MC2\"       \n",
       "[51] \"OwnRent\"    \"PBC\"        \"PBC3R\"      \"Political\"  \"RewardForm\"\n",
       "[56] \"SN\"         \"SN3\"        \"Sqft\"       \"SqftCate\"   \"State\"     \n",
       "[61] \"SubNorm\"    \"Trust\"     "
      ]
     },
     "metadata": {},
     "output_type": "display_data"
    },
    {
     "data": {
      "text/html": [
       "<ol class=list-inline>\n",
       "\t<li>'Age'</li>\n",
       "\t<li>'Atti'</li>\n",
       "\t<li>'ComfNW'</li>\n",
       "\t<li>'Educ'</li>\n",
       "\t<li>'EnergyC'</li>\n",
       "\t<li>'Ethnic'</li>\n",
       "\t<li>'Gender'</li>\n",
       "\t<li>'HabitC'</li>\n",
       "\t<li>'HabitG'</li>\n",
       "\t<li>'HouseholdS'</li>\n",
       "\t<li>'Income'</li>\n",
       "\t<li>'Latitude'</li>\n",
       "\t<li>'MC'</li>\n",
       "\t<li>'OwnRent'</li>\n",
       "\t<li>'PBC'</li>\n",
       "\t<li>'Political'</li>\n",
       "\t<li>'SqftCate'</li>\n",
       "\t<li>'SubNorm'</li>\n",
       "</ol>\n"
      ],
      "text/latex": [
       "\\begin{enumerate*}\n",
       "\\item 'Age'\n",
       "\\item 'Atti'\n",
       "\\item 'ComfNW'\n",
       "\\item 'Educ'\n",
       "\\item 'EnergyC'\n",
       "\\item 'Ethnic'\n",
       "\\item 'Gender'\n",
       "\\item 'HabitC'\n",
       "\\item 'HabitG'\n",
       "\\item 'HouseholdS'\n",
       "\\item 'Income'\n",
       "\\item 'Latitude'\n",
       "\\item 'MC'\n",
       "\\item 'OwnRent'\n",
       "\\item 'PBC'\n",
       "\\item 'Political'\n",
       "\\item 'SqftCate'\n",
       "\\item 'SubNorm'\n",
       "\\end{enumerate*}\n"
      ],
      "text/markdown": [
       "1. 'Age'\n",
       "2. 'Atti'\n",
       "3. 'ComfNW'\n",
       "4. 'Educ'\n",
       "5. 'EnergyC'\n",
       "6. 'Ethnic'\n",
       "7. 'Gender'\n",
       "8. 'HabitC'\n",
       "9. 'HabitG'\n",
       "10. 'HouseholdS'\n",
       "11. 'Income'\n",
       "12. 'Latitude'\n",
       "13. 'MC'\n",
       "14. 'OwnRent'\n",
       "15. 'PBC'\n",
       "16. 'Political'\n",
       "17. 'SqftCate'\n",
       "18. 'SubNorm'\n",
       "\n",
       "\n"
      ],
      "text/plain": [
       " [1] \"Age\"        \"Atti\"       \"ComfNW\"     \"Educ\"       \"EnergyC\"   \n",
       " [6] \"Ethnic\"     \"Gender\"     \"HabitC\"     \"HabitG\"     \"HouseholdS\"\n",
       "[11] \"Income\"     \"Latitude\"   \"MC\"         \"OwnRent\"    \"PBC\"       \n",
       "[16] \"Political\"  \"SqftCate\"   \"SubNorm\"   "
      ]
     },
     "metadata": {},
     "output_type": "display_data"
    }
   ],
   "source": [
    "sort(names(data2))\n",
    "paste(sort(IVS))"
   ]
  },
  {
   "cell_type": "code",
   "execution_count": 47,
   "metadata": {
    "collapsed": false
   },
   "outputs": [],
   "source": [
    "data1 <- data2[, which(names(data2) %in% c(\"IncHomeW\",IVS))];"
   ]
  },
  {
   "cell_type": "code",
   "execution_count": 48,
   "metadata": {
    "collapsed": true
   },
   "outputs": [],
   "source": [
    "#Check to see if there are anymore missing values\n",
    "for (n in names(data1)){\n",
    "    nmis = sum(is.na(data1[,n]))\n",
    "    if(nmis >1)  print (c(n, sum(is.na(data1[,n]))))\n",
    "}"
   ]
  },
  {
   "cell_type": "code",
   "execution_count": 49,
   "metadata": {
    "collapsed": false
   },
   "outputs": [
    {
     "data": {
      "text/html": [
       "<ol class=list-inline>\n",
       "\t<li>'IncHomeW'</li>\n",
       "\t<li>'Age'</li>\n",
       "\t<li>'Gender'</li>\n",
       "\t<li>'OwnRent'</li>\n",
       "\t<li>'SqftCate'</li>\n",
       "\t<li>'HouseholdS'</li>\n",
       "\t<li>'Political'</li>\n",
       "\t<li>'Ethnic'</li>\n",
       "\t<li>'Income'</li>\n",
       "\t<li>'Educ'</li>\n",
       "\t<li>'Latitude'</li>\n",
       "\t<li>'MC'</li>\n",
       "\t<li>'EnergyC'</li>\n",
       "\t<li>'ComfNW'</li>\n",
       "\t<li>'Atti'</li>\n",
       "\t<li>'SubNorm'</li>\n",
       "\t<li>'PBC'</li>\n",
       "\t<li>'HabitG'</li>\n",
       "\t<li>'HabitC'</li>\n",
       "</ol>\n"
      ],
      "text/latex": [
       "\\begin{enumerate*}\n",
       "\\item 'IncHomeW'\n",
       "\\item 'Age'\n",
       "\\item 'Gender'\n",
       "\\item 'OwnRent'\n",
       "\\item 'SqftCate'\n",
       "\\item 'HouseholdS'\n",
       "\\item 'Political'\n",
       "\\item 'Ethnic'\n",
       "\\item 'Income'\n",
       "\\item 'Educ'\n",
       "\\item 'Latitude'\n",
       "\\item 'MC'\n",
       "\\item 'EnergyC'\n",
       "\\item 'ComfNW'\n",
       "\\item 'Atti'\n",
       "\\item 'SubNorm'\n",
       "\\item 'PBC'\n",
       "\\item 'HabitG'\n",
       "\\item 'HabitC'\n",
       "\\end{enumerate*}\n"
      ],
      "text/markdown": [
       "1. 'IncHomeW'\n",
       "2. 'Age'\n",
       "3. 'Gender'\n",
       "4. 'OwnRent'\n",
       "5. 'SqftCate'\n",
       "6. 'HouseholdS'\n",
       "7. 'Political'\n",
       "8. 'Ethnic'\n",
       "9. 'Income'\n",
       "10. 'Educ'\n",
       "11. 'Latitude'\n",
       "12. 'MC'\n",
       "13. 'EnergyC'\n",
       "14. 'ComfNW'\n",
       "15. 'Atti'\n",
       "16. 'SubNorm'\n",
       "17. 'PBC'\n",
       "18. 'HabitG'\n",
       "19. 'HabitC'\n",
       "\n",
       "\n"
      ],
      "text/plain": [
       " [1] \"IncHomeW\"   \"Age\"        \"Gender\"     \"OwnRent\"    \"SqftCate\"  \n",
       " [6] \"HouseholdS\" \"Political\"  \"Ethnic\"     \"Income\"     \"Educ\"      \n",
       "[11] \"Latitude\"   \"MC\"         \"EnergyC\"    \"ComfNW\"     \"Atti\"      \n",
       "[16] \"SubNorm\"    \"PBC\"        \"HabitG\"     \"HabitC\"    "
      ]
     },
     "metadata": {},
     "output_type": "display_data"
    }
   ],
   "source": [
    "names(data1)\n",
    "\n",
    "#Fields with lots of missing values\n",
    "for (n in names(data1)){\n",
    "    nmis = sum(is.na(data1[,n]))\n",
    "    if(nmis >1)  print (c(n, sum(is.na(data1[,n]))))\n",
    "}\n",
    "    \n",
    "    \n",
    "# What about high correlations?\n",
    "hiCor <- function(x, level){\n",
    "  res <- cor(x,method=\"spearman\");\n",
    "  res1 <- res; res1[res<0] <- -res[res < 0];\n",
    "  for (i in 1:dim(x)[2]){\n",
    "    res1[i,i] <- 0;\n",
    "  }\n",
    "  sel <- apply(res1,1,max,na.rm=T) > level;\n",
    "  res[sel,sel];\n",
    "}\n",
    "#hiCor(data1,.75)"
   ]
  },
  {
   "cell_type": "code",
   "execution_count": 50,
   "metadata": {
    "collapsed": false
   },
   "outputs": [
    {
     "data": {
      "text/html": [
       "<table>\n",
       "<thead><tr><th scope=col>IncHomeW</th><th scope=col>Age</th><th scope=col>Gender</th><th scope=col>OwnRent</th><th scope=col>SqftCate</th><th scope=col>HouseholdS</th><th scope=col>Political</th><th scope=col>Ethnic</th><th scope=col>Income</th><th scope=col>Educ</th><th scope=col>Latitude</th><th scope=col>MC</th><th scope=col>EnergyC</th><th scope=col>ComfNW</th><th scope=col>Atti</th><th scope=col>SubNorm</th><th scope=col>PBC</th><th scope=col>HabitG</th><th scope=col>HabitC</th></tr></thead>\n",
       "<tbody>\n",
       "</tbody>\n",
       "</table>\n"
      ],
      "text/latex": [
       "\\begin{tabular}{r|lllllllllllllllllll}\n",
       " IncHomeW & Age & Gender & OwnRent & SqftCate & HouseholdS & Political & Ethnic & Income & Educ & Latitude & MC & EnergyC & ComfNW & Atti & SubNorm & PBC & HabitG & HabitC\\\\\n",
       "\\hline\n",
       "\\end{tabular}\n"
      ],
      "text/plain": [
       "     IncHomeW Age Gender OwnRent SqftCate HouseholdS Political Ethnic Income\n",
       "     Educ Latitude MC EnergyC ComfNW Atti SubNorm PBC HabitG HabitC"
      ]
     },
     "metadata": {},
     "output_type": "display_data"
    }
   ],
   "source": [
    "data1 [is.na(data1$IncHomeW), ]"
   ]
  },
  {
   "cell_type": "code",
   "execution_count": 51,
   "metadata": {
    "collapsed": false
   },
   "outputs": [
    {
     "data": {
      "text/plain": [
       "   Min. 1st Qu.  Median    Mean 3rd Qu.    Max. \n",
       "      1       3       4       4       6      99 "
      ]
     },
     "metadata": {},
     "output_type": "display_data"
    },
    {
     "data": {
      "text/plain": [
       "\n",
       "  1   2   3   4   5   6   7   8  99 \n",
       " 49  43  83 196  77  64  54  32   1 "
      ]
     },
     "metadata": {},
     "output_type": "display_data"
    },
    {
     "data": {
      "text/plain": [
       "\n",
       "  1   2   3   4   5 \n",
       " 62 209 141 108  79 "
      ]
     },
     "metadata": {},
     "output_type": "display_data"
    }
   ],
   "source": [
    "summary(data1$IncHomeW)\n",
    "table(data1$IncHomeW)\n",
    "table(data1$HouseholdS)"
   ]
  },
  {
   "cell_type": "code",
   "execution_count": 52,
   "metadata": {
    "collapsed": false
   },
   "outputs": [
    {
     "data": {
      "text/html": [
       "<ol class=list-inline>\n",
       "\t<li>'IncHomeW'</li>\n",
       "\t<li>'Age'</li>\n",
       "\t<li>'Gender'</li>\n",
       "\t<li>'OwnRent'</li>\n",
       "\t<li>'SqftCate'</li>\n",
       "\t<li>'HouseholdS'</li>\n",
       "\t<li>'Political'</li>\n",
       "\t<li>'Ethnic'</li>\n",
       "\t<li>'Income'</li>\n",
       "\t<li>'Educ'</li>\n",
       "\t<li>'Latitude'</li>\n",
       "\t<li>'MC'</li>\n",
       "\t<li>'EnergyC'</li>\n",
       "\t<li>'ComfNW'</li>\n",
       "\t<li>'Atti'</li>\n",
       "\t<li>'SubNorm'</li>\n",
       "\t<li>'PBC'</li>\n",
       "\t<li>'HabitG'</li>\n",
       "\t<li>'HabitC'</li>\n",
       "</ol>\n"
      ],
      "text/latex": [
       "\\begin{enumerate*}\n",
       "\\item 'IncHomeW'\n",
       "\\item 'Age'\n",
       "\\item 'Gender'\n",
       "\\item 'OwnRent'\n",
       "\\item 'SqftCate'\n",
       "\\item 'HouseholdS'\n",
       "\\item 'Political'\n",
       "\\item 'Ethnic'\n",
       "\\item 'Income'\n",
       "\\item 'Educ'\n",
       "\\item 'Latitude'\n",
       "\\item 'MC'\n",
       "\\item 'EnergyC'\n",
       "\\item 'ComfNW'\n",
       "\\item 'Atti'\n",
       "\\item 'SubNorm'\n",
       "\\item 'PBC'\n",
       "\\item 'HabitG'\n",
       "\\item 'HabitC'\n",
       "\\end{enumerate*}\n"
      ],
      "text/markdown": [
       "1. 'IncHomeW'\n",
       "2. 'Age'\n",
       "3. 'Gender'\n",
       "4. 'OwnRent'\n",
       "5. 'SqftCate'\n",
       "6. 'HouseholdS'\n",
       "7. 'Political'\n",
       "8. 'Ethnic'\n",
       "9. 'Income'\n",
       "10. 'Educ'\n",
       "11. 'Latitude'\n",
       "12. 'MC'\n",
       "13. 'EnergyC'\n",
       "14. 'ComfNW'\n",
       "15. 'Atti'\n",
       "16. 'SubNorm'\n",
       "17. 'PBC'\n",
       "18. 'HabitG'\n",
       "19. 'HabitC'\n",
       "\n",
       "\n"
      ],
      "text/plain": [
       " [1] \"IncHomeW\"   \"Age\"        \"Gender\"     \"OwnRent\"    \"SqftCate\"  \n",
       " [6] \"HouseholdS\" \"Political\"  \"Ethnic\"     \"Income\"     \"Educ\"      \n",
       "[11] \"Latitude\"   \"MC\"         \"EnergyC\"    \"ComfNW\"     \"Atti\"      \n",
       "[16] \"SubNorm\"    \"PBC\"        \"HabitG\"     \"HabitC\"    "
      ]
     },
     "metadata": {},
     "output_type": "display_data"
    }
   ],
   "source": [
    "data2 <- data1;\n",
    "data2 <- na.omit(data2)\n",
    "names(data2)"
   ]
  },
  {
   "cell_type": "code",
   "execution_count": 53,
   "metadata": {
    "collapsed": true
   },
   "outputs": [],
   "source": [
    "#Check to see if there are anymore missing values\n",
    "for (n in names(data2)){\n",
    "    nmis = sum(is.na(data2[,n]))\n",
    "    if(nmis >1)  print (c(n, sum(is.na(data2[,n]))))\n",
    "}"
   ]
  },
  {
   "cell_type": "code",
   "execution_count": 54,
   "metadata": {
    "collapsed": false
   },
   "outputs": [
    {
     "data": {
      "text/html": [
       "<dl class=dl-horizontal>\n",
       "\t<dt>IncHomeW</dt>\n",
       "\t\t<dd>4.27457765339931</dd>\n",
       "\t<dt>Age</dt>\n",
       "\t\t<dd>11.1677747095968</dd>\n",
       "\t<dt>Gender</dt>\n",
       "\t\t<dd>0.500539906489827</dd>\n",
       "\t<dt>OwnRent</dt>\n",
       "\t\t<dd>0.515828378790491</dd>\n",
       "\t<dt>SqftCate</dt>\n",
       "\t\t<dd>1.11690165414373</dd>\n",
       "\t<dt>HouseholdS</dt>\n",
       "\t\t<dd>1.20859923554509</dd>\n",
       "\t<dt>Political</dt>\n",
       "\t\t<dd>0.825944860401538</dd>\n",
       "\t<dt>Ethnic</dt>\n",
       "\t\t<dd>0.377655181267755</dd>\n",
       "\t<dt>Income</dt>\n",
       "\t\t<dd>1.97950284150969</dd>\n",
       "\t<dt>Educ</dt>\n",
       "\t\t<dd>1.11329652335574</dd>\n",
       "\t<dt>Latitude</dt>\n",
       "\t\t<dd>5.0242220269516</dd>\n",
       "\t<dt>MC</dt>\n",
       "\t\t<dd>1.07616270709174</dd>\n",
       "\t<dt>EnergyC</dt>\n",
       "\t\t<dd>1.39668752866116</dd>\n",
       "\t<dt>ComfNW</dt>\n",
       "\t\t<dd>1.74573053798405</dd>\n",
       "\t<dt>Atti</dt>\n",
       "\t\t<dd>1.1030316031715</dd>\n",
       "\t<dt>SubNorm</dt>\n",
       "\t\t<dd>1.34576668514531</dd>\n",
       "\t<dt>PBC</dt>\n",
       "\t\t<dd>0.94554900296775</dd>\n",
       "\t<dt>HabitG</dt>\n",
       "\t\t<dd>1.1475532515851</dd>\n",
       "\t<dt>HabitC</dt>\n",
       "\t\t<dd>1.59564149155134</dd>\n",
       "</dl>\n"
      ],
      "text/latex": [
       "\\begin{description*}\n",
       "\\item[IncHomeW] 4.27457765339931\n",
       "\\item[Age] 11.1677747095968\n",
       "\\item[Gender] 0.500539906489827\n",
       "\\item[OwnRent] 0.515828378790491\n",
       "\\item[SqftCate] 1.11690165414373\n",
       "\\item[HouseholdS] 1.20859923554509\n",
       "\\item[Political] 0.825944860401538\n",
       "\\item[Ethnic] 0.377655181267755\n",
       "\\item[Income] 1.97950284150969\n",
       "\\item[Educ] 1.11329652335574\n",
       "\\item[Latitude] 5.0242220269516\n",
       "\\item[MC] 1.07616270709174\n",
       "\\item[EnergyC] 1.39668752866116\n",
       "\\item[ComfNW] 1.74573053798405\n",
       "\\item[Atti] 1.1030316031715\n",
       "\\item[SubNorm] 1.34576668514531\n",
       "\\item[PBC] 0.94554900296775\n",
       "\\item[HabitG] 1.1475532515851\n",
       "\\item[HabitC] 1.59564149155134\n",
       "\\end{description*}\n"
      ],
      "text/markdown": [
       "IncHomeW\n",
       ":   4.27457765339931Age\n",
       ":   11.1677747095968Gender\n",
       ":   0.500539906489827OwnRent\n",
       ":   0.515828378790491SqftCate\n",
       ":   1.11690165414373HouseholdS\n",
       ":   1.20859923554509Political\n",
       ":   0.825944860401538Ethnic\n",
       ":   0.377655181267755Income\n",
       ":   1.97950284150969Educ\n",
       ":   1.11329652335574Latitude\n",
       ":   5.0242220269516MC\n",
       ":   1.07616270709174EnergyC\n",
       ":   1.39668752866116ComfNW\n",
       ":   1.74573053798405Atti\n",
       ":   1.1030316031715SubNorm\n",
       ":   1.34576668514531PBC\n",
       ":   0.94554900296775HabitG\n",
       ":   1.1475532515851HabitC\n",
       ":   1.59564149155134\n",
       "\n"
      ],
      "text/plain": [
       "  IncHomeW        Age     Gender    OwnRent   SqftCate HouseholdS  Political \n",
       "      4.27      11.17       0.50       0.52       1.12       1.21       0.83 \n",
       "    Ethnic     Income       Educ   Latitude         MC    EnergyC     ComfNW \n",
       "      0.38       1.98       1.11       5.02       1.08       1.40       1.75 \n",
       "      Atti    SubNorm        PBC     HabitG     HabitC \n",
       "      1.10       1.35       0.95       1.15       1.60 "
      ]
     },
     "metadata": {},
     "output_type": "display_data"
    }
   ],
   "source": [
    "#convert all data to numeric values\n",
    "\n",
    "sapply(data2,sd)"
   ]
  },
  {
   "cell_type": "code",
   "execution_count": 55,
   "metadata": {
    "collapsed": false
   },
   "outputs": [
    {
     "data": {
      "text/html": [],
      "text/latex": [],
      "text/markdown": [],
      "text/plain": [
       "<0 x 0 matrix>"
      ]
     },
     "metadata": {},
     "output_type": "display_data"
    }
   ],
   "source": [
    "hiCor(data2,.7)"
   ]
  },
  {
   "cell_type": "code",
   "execution_count": 58,
   "metadata": {
    "collapsed": false
   },
   "outputs": [
    {
     "name": "stdout",
     "output_type": "stream",
     "text": [
      "[1] 0.14\n",
      "       MC EnergyC  Atti SubNorm   PBC HabitG HabitC\n",
      "PC1 -0.35   -0.42 -0.45   -0.35 -0.26  -0.32  -0.27\n",
      "[1] 0.26\n",
      "      Age OwnRent SqftCate HouseholdS Income\n",
      "PC2 -0.36   -0.51    -0.51      -0.23  -0.44\n",
      "[1] 0.34\n",
      "    Gender HouseholdS Ethnic Educ ComfNW\n",
      "PC3   0.36       0.51  -0.35 -0.4   0.47\n",
      "[1] 0.41\n",
      "    Political  Educ   MC EnergyC  PBC HabitG HabitC\n",
      "PC4     -0.53 -0.29 0.24   -0.34 0.37   0.38   0.23\n",
      "[1] 0.47\n",
      "    IncHomeW Age HouseholdS Latitude\n",
      "PC5     0.52 0.4      -0.37    -0.51\n",
      "[1] 0.53\n",
      "    IncHomeW   Age Gender Ethnic Income Educ Latitude HabitC\n",
      "PC6    -0.33 -0.21  -0.26   -0.6   0.23 0.23    -0.37   0.31\n",
      "[1] 0.58\n",
      "     Age Gender Educ Latitude ComfNW HabitC\n",
      "PC7 0.24   0.29 0.39     0.37   0.53    0.3\n",
      "[1] 0.64\n",
      "    IncHomeW  Age Gender Political    MC SubNorm\n",
      "PC8    -0.57 0.35   0.49       0.2 -0.26   -0.27\n",
      "[1] 0.68\n",
      "    Income  Educ    MC ComfNW  PBC HabitG HabitC\n",
      "PC9  -0.23 -0.29 -0.26  -0.36 -0.5   0.32   0.44\n",
      "[1] 0.73\n",
      "     Gender Political Ethnic Educ Latitude SubNorm   PBC\n",
      "PC10   0.28     -0.27    0.3 0.21    -0.59    0.39 -0.28\n",
      "[1] 0.77\n",
      "     IncHomeW Political Ethnic    MC SubNorm  PBC HabitG HabitC\n",
      "PC11     0.26      0.37   0.25 -0.25    0.31 0.48  -0.32   0.34\n",
      "[1] 0.8\n",
      "     IncHomeW Age Gender Ethnic    MC ComfNW SubNorm HabitG HabitC\n",
      "PC12    -0.26 0.2  -0.36    0.2 -0.29   0.36    0.43   0.31  -0.36\n",
      "[1] 0.84\n",
      "      Age Political Ethnic   MC  Atti SubNorm HabitG\n",
      "PC13 -0.3      0.48   0.36 0.29 -0.24   -0.29   0.43\n",
      "[1] 0.87\n",
      "     IncHomeW Political Income   MC EnergyC   PBC HabitG\n",
      "PC14    -0.26      0.23  -0.41 0.58   -0.24 -0.22  -0.35\n",
      "[1] 0.9\n",
      "     Gender Ethnic Income EnergyC ComfNW Atti SubNorm HabitC\n",
      "PC15  -0.26   0.24  -0.26    0.33   0.36 0.33   -0.37   0.32\n",
      "[1] 0.93\n",
      "       Age Gender OwnRent HouseholdS\n",
      "PC16 -0.41   0.21    0.71      -0.33\n",
      "[1] 0.95\n",
      "     HouseholdS Income  Educ   MC   PBC HabitG HabitC\n",
      "PC17      -0.33   0.56 -0.52 0.23 -0.23  -0.24    0.2\n",
      "[1] 0.98\n",
      "     OwnRent SqftCate HouseholdS\n",
      "PC18   -0.34     0.73      -0.45\n",
      "[1] 1\n"
     ]
    },
    {
     "ename": "ERROR",
     "evalue": "Error in resAbs[, i]: subscript out of bounds\n",
     "output_type": "error",
     "traceback": [
      "Error in resAbs[, i]: subscript out of bounds\nTraceback:\n",
      "1. print(t(res[resAbs[, i] > 0.2, i, drop = FALSE]))   # at line 9 of file <text>",
      "2. t(res[resAbs[, i] > 0.2, i, drop = FALSE])"
     ]
    }
   ],
   "source": [
    "res<-prcomp(data2, retx=F,scale=T)$rotation[,1:18];\n",
    "resAbs <- res;\n",
    "resAbs[res<0] <- -res[res<0];\n",
    "z <- cumsum(prcomp(data2, retx=F,scale=T)$sdev^2)/\n",
    "     sum(prcomp(data2, retx=F,scale=T)$sdev^2)\n",
    "\n",
    "for (i in 1:21){\n",
    "  print(z[i]);\n",
    "  print(t(res[resAbs[,i]>.2,i,drop=FALSE]));\n",
    "}\n"
   ]
  },
  {
   "cell_type": "code",
   "execution_count": 59,
   "metadata": {
    "collapsed": false
   },
   "outputs": [
    {
     "data": {
      "image/png": "[encoded data removed]",
      "text/plain": [
       "plot without title"
      ]
     },
     "metadata": {},
     "output_type": "display_data"
    }
   ],
   "source": [
    "plot(1:dim(data2)[2],cumsum(prcomp(data2, retx=F,scale=T)$sdev^2)/\n",
    "     sum(prcomp(data2, retx=F,scale=T)$sdev^2),\n",
    "     ylim=c(0,1),xlab=\"Number of coponents\",\n",
    "     ylab=\"Fraction of variance\");"
   ]
  },
  {
   "cell_type": "code",
   "execution_count": 60,
   "metadata": {
    "collapsed": true
   },
   "outputs": [],
   "source": [
    "res <- c();\n",
    "vnam <- names(data2);\n",
    "for (i in 2:dim(data2)[2]){\n",
    "  fmla <- as.formula(paste(vnam[i],paste(vnam[-c(1,i)],collapse=\"+\"),sep=\"~\"));\n",
    "  res <- rbind(res,c(i,round(summary(lm(fmla,data=data2))$r.squared,2)));\n",
    "}"
   ]
  },
  {
   "cell_type": "code",
   "execution_count": 61,
   "metadata": {
    "collapsed": false
   },
   "outputs": [
    {
     "data": {
      "text/html": [
       "<table>\n",
       "<tbody>\n",
       "\t<tr><th scope=row>Atti</th><td>15  </td><td>0.42</td></tr>\n",
       "\t<tr><th scope=row>EnergyC</th><td>13  </td><td>0.40</td></tr>\n",
       "\t<tr><th scope=row>SqftCate</th><td> 5  </td><td>0.36</td></tr>\n",
       "\t<tr><th scope=row>OwnRent</th><td> 4  </td><td>0.31</td></tr>\n",
       "\t<tr><th scope=row>Income</th><td> 9  </td><td>0.26</td></tr>\n",
       "\t<tr><th scope=row>HouseholdS</th><td> 6  </td><td>0.25</td></tr>\n",
       "\t<tr><th scope=row>MC</th><td>12  </td><td>0.24</td></tr>\n",
       "\t<tr><th scope=row>SubNorm</th><td>16  </td><td>0.21</td></tr>\n",
       "\t<tr><th scope=row>HabitG</th><td>18  </td><td>0.20</td></tr>\n",
       "\t<tr><th scope=row>Age</th><td> 2  </td><td>0.19</td></tr>\n",
       "\t<tr><th scope=row>Educ</th><td>10  </td><td>0.18</td></tr>\n",
       "\t<tr><th scope=row>HabitC</th><td>19  </td><td>0.17</td></tr>\n",
       "\t<tr><th scope=row>Gender</th><td> 3  </td><td>0.14</td></tr>\n",
       "\t<tr><th scope=row>Political</th><td> 7  </td><td>0.14</td></tr>\n",
       "\t<tr><th scope=row>PBC</th><td>17  </td><td>0.14</td></tr>\n",
       "\t<tr><th scope=row>Ethnic</th><td> 8  </td><td>0.11</td></tr>\n",
       "\t<tr><th scope=row>ComfNW</th><td>14  </td><td>0.10</td></tr>\n",
       "\t<tr><th scope=row>Latitude</th><td>11  </td><td>0.05</td></tr>\n",
       "</tbody>\n",
       "</table>\n"
      ],
      "text/latex": [
       "\\begin{tabular}{r|ll}\n",
       "\tAtti & 15   & 0.42\\\\\n",
       "\tEnergyC & 13   & 0.40\\\\\n",
       "\tSqftCate &  5   & 0.36\\\\\n",
       "\tOwnRent &  4   & 0.31\\\\\n",
       "\tIncome &  9   & 0.26\\\\\n",
       "\tHouseholdS &  6   & 0.25\\\\\n",
       "\tMC & 12   & 0.24\\\\\n",
       "\tSubNorm & 16   & 0.21\\\\\n",
       "\tHabitG & 18   & 0.20\\\\\n",
       "\tAge &  2   & 0.19\\\\\n",
       "\tEduc & 10   & 0.18\\\\\n",
       "\tHabitC & 19   & 0.17\\\\\n",
       "\tGender &  3   & 0.14\\\\\n",
       "\tPolitical &  7   & 0.14\\\\\n",
       "\tPBC & 17   & 0.14\\\\\n",
       "\tEthnic &  8   & 0.11\\\\\n",
       "\tComfNW & 14   & 0.10\\\\\n",
       "\tLatitude & 11   & 0.05\\\\\n",
       "\\end{tabular}\n"
      ],
      "text/markdown": [
       "1. 15\n",
       "2. 13\n",
       "3. 5\n",
       "4. 4\n",
       "5. 9\n",
       "6. 6\n",
       "7. 12\n",
       "8. 16\n",
       "9. 18\n",
       "10. 2\n",
       "11. 10\n",
       "12. 19\n",
       "13. 3\n",
       "14. 7\n",
       "15. 17\n",
       "16. 8\n",
       "17. 14\n",
       "18. 11\n",
       "19. 0.42\n",
       "20. 0.4\n",
       "21. 0.36\n",
       "22. 0.31\n",
       "23. 0.26\n",
       "24. 0.25\n",
       "25. 0.24\n",
       "26. 0.21\n",
       "27. 0.2\n",
       "28. 0.19\n",
       "29. 0.18\n",
       "30. 0.17\n",
       "31. 0.14\n",
       "32. 0.14\n",
       "33. 0.14\n",
       "34. 0.11\n",
       "35. 0.1\n",
       "36. 0.05\n",
       "\n",
       "\n"
      ],
      "text/plain": [
       "           [,1] [,2]\n",
       "Atti       15   0.42\n",
       "EnergyC    13   0.40\n",
       "SqftCate    5   0.36\n",
       "OwnRent     4   0.31\n",
       "Income      9   0.26\n",
       "HouseholdS  6   0.25\n",
       "MC         12   0.24\n",
       "SubNorm    16   0.21\n",
       "HabitG     18   0.20\n",
       "Age         2   0.19\n",
       "Educ       10   0.18\n",
       "HabitC     19   0.17\n",
       "Gender      3   0.14\n",
       "Political   7   0.14\n",
       "PBC        17   0.14\n",
       "Ethnic      8   0.11\n",
       "ComfNW     14   0.10\n",
       "Latitude   11   0.05"
      ]
     },
     "metadata": {},
     "output_type": "display_data"
    }
   ],
   "source": [
    "row.names(res) <- vnam[res[,1]];\n",
    "o = order(-res[,2]);\n",
    "res[o,][res[o,2]<.7,]"
   ]
  },
  {
   "cell_type": "code",
   "execution_count": 62,
   "metadata": {
    "collapsed": false
   },
   "outputs": [],
   "source": [
    "IndepPred <- row.names(res[o,][res[o,2]<.7,])"
   ]
  },
  {
   "cell_type": "code",
   "execution_count": 63,
   "metadata": {
    "collapsed": true
   },
   "outputs": [],
   "source": [
    "fmla <- as.formula(paste(\"IncHomeW\",paste(IndepPred,collapse=\"+\"),sep=\"~\"));"
   ]
  },
  {
   "cell_type": "code",
   "execution_count": 64,
   "metadata": {
    "collapsed": false
   },
   "outputs": [
    {
     "data": {
      "text/plain": [
       "\n",
       "  1   2   3   4   5   6   7   8  99 \n",
       " 49  43  83 196  77  64  54  32   1 "
      ]
     },
     "metadata": {},
     "output_type": "display_data"
    }
   ],
   "source": [
    "table(data2[,\"IncHomeW\"])"
   ]
  },
  {
   "cell_type": "code",
   "execution_count": 65,
   "metadata": {
    "collapsed": false
   },
   "outputs": [
    {
     "data": {
      "text/plain": [
       "\n",
       "Call:\n",
       "lm(formula = fmla, data = data2)\n",
       "\n",
       "Residuals:\n",
       "   Min     1Q Median     3Q    Max \n",
       " -6.53  -1.43  -0.22   1.07  90.10 \n",
       "\n",
       "Coefficients:\n",
       "            Estimate Std. Error t value Pr(>|t|)   \n",
       "(Intercept)  6.96869    2.36802    2.94   0.0034 **\n",
       "Atti        -0.03276    0.20480   -0.16   0.8730   \n",
       "EnergyC      0.16709    0.15899    1.05   0.2937   \n",
       "SqftCate     0.03433    0.19324    0.18   0.8591   \n",
       "OwnRent      0.72472    0.40189    1.80   0.0719 . \n",
       "Income      -0.23224    0.10155   -2.29   0.0226 * \n",
       "HouseholdS  -0.13243    0.16477   -0.80   0.4219   \n",
       "MC           0.31435    0.18370    1.71   0.0876 . \n",
       "SubNorm      0.00837    0.14407    0.06   0.9537   \n",
       "HabitG      -0.16616    0.16853   -0.99   0.3246   \n",
       "Age          0.02788    0.01717    1.62   0.1049   \n",
       "Educ        -0.13186    0.17069   -0.77   0.4401   \n",
       "HabitC      -0.23842    0.11862   -2.01   0.0449 * \n",
       "Gender      -0.40951    0.37152   -1.10   0.2708   \n",
       "Political   -0.02173    0.22559   -0.10   0.9233   \n",
       "PBC         -0.41095    0.19696   -2.09   0.0374 * \n",
       "Ethnic      -0.18871    0.48433   -0.39   0.6970   \n",
       "ComfNW       0.24507    0.10401    2.36   0.0188 * \n",
       "Latitude    -0.02087    0.03532   -0.59   0.5549   \n",
       "---\n",
       "Signif. codes:  0 '***' 0.001 '**' 0.01 '*' 0.05 '.' 0.1 ' ' 1\n",
       "\n",
       "Residual standard error: 4.2 on 580 degrees of freedom\n",
       "Multiple R-squared:  0.0543,\tAdjusted R-squared:  0.025 \n",
       "F-statistic: 1.85 on 18 and 580 DF,  p-value: 0.0175\n"
      ]
     },
     "metadata": {},
     "output_type": "display_data"
    }
   ],
   "source": [
    "mod = lm(fmla,data=data2)\n",
    "summary(mod)"
   ]
  },
  {
   "cell_type": "code",
   "execution_count": 66,
   "metadata": {
    "collapsed": false
   },
   "outputs": [
    {
     "data": {
      "text/html": [
       "<table>\n",
       "<thead><tr><th></th><th scope=col>Df</th><th scope=col>Sum Sq</th><th scope=col>Mean Sq</th><th scope=col>F value</th><th scope=col>Pr(&gt;F)</th></tr></thead>\n",
       "<tbody>\n",
       "\t<tr><th scope=row>Atti</th><td>  1    </td><td>5.8e-02</td><td>5.8e-02</td><td>3.3e-03</td><td>0.954  </td></tr>\n",
       "\t<tr><th scope=row>EnergyC</th><td>  1    </td><td>8.8e+00</td><td>8.8e+00</td><td>5.0e-01</td><td>0.481  </td></tr>\n",
       "\t<tr><th scope=row>SqftCate</th><td>  1    </td><td>3.1e+00</td><td>3.1e+00</td><td>1.7e-01</td><td>0.677  </td></tr>\n",
       "\t<tr><th scope=row>OwnRent</th><td>  1    </td><td>5.0e+01</td><td>5.0e+01</td><td>2.8e+00</td><td>0.095  </td></tr>\n",
       "\t<tr><th scope=row>Income</th><td>  1    </td><td>1.1e+02</td><td>1.1e+02</td><td>6.4e+00</td><td>0.011  </td></tr>\n",
       "\t<tr><th scope=row>HouseholdS</th><td>  1    </td><td>3.4e+00</td><td>3.4e+00</td><td>1.9e-01</td><td>0.660  </td></tr>\n",
       "\t<tr><th scope=row>MC</th><td>  1    </td><td>1.2e+01</td><td>1.2e+01</td><td>6.7e-01</td><td>0.414  </td></tr>\n",
       "\t<tr><th scope=row>SubNorm</th><td>  1    </td><td>8.6e+00</td><td>8.6e+00</td><td>4.8e-01</td><td>0.489  </td></tr>\n",
       "\t<tr><th scope=row>HabitG</th><td>  1    </td><td>3.7e+01</td><td>3.7e+01</td><td>2.1e+00</td><td>0.150  </td></tr>\n",
       "\t<tr><th scope=row>Age</th><td>  1    </td><td>3.6e+01</td><td>3.6e+01</td><td>2.0e+00</td><td>0.157  </td></tr>\n",
       "\t<tr><th scope=row>Educ</th><td>  1    </td><td>1.6e+01</td><td>1.6e+01</td><td>8.9e-01</td><td>0.347  </td></tr>\n",
       "\t<tr><th scope=row>HabitC</th><td>  1    </td><td>1.0e+02</td><td>1.0e+02</td><td>5.7e+00</td><td>0.017  </td></tr>\n",
       "\t<tr><th scope=row>Gender</th><td>  1    </td><td>1.0e+01</td><td>1.0e+01</td><td>5.6e-01</td><td>0.455  </td></tr>\n",
       "\t<tr><th scope=row>Political</th><td>  1    </td><td>1.6e-03</td><td>1.6e-03</td><td>8.7e-05</td><td>0.993  </td></tr>\n",
       "\t<tr><th scope=row>PBC</th><td>  1    </td><td>7.2e+01</td><td>7.2e+01</td><td>4.1e+00</td><td>0.044  </td></tr>\n",
       "\t<tr><th scope=row>Ethnic</th><td>  1    </td><td>1.6e+01</td><td>1.6e+01</td><td>9.0e-01</td><td>0.344  </td></tr>\n",
       "\t<tr><th scope=row>ComfNW</th><td>  1    </td><td>9.8e+01</td><td>9.8e+01</td><td>5.5e+00</td><td>0.019  </td></tr>\n",
       "\t<tr><th scope=row>Latitude</th><td>  1    </td><td>6.2e+00</td><td>6.2e+00</td><td>3.5e-01</td><td>0.555  </td></tr>\n",
       "\t<tr><th scope=row>Residuals</th><td>580    </td><td>1.0e+04</td><td>1.8e+01</td><td>     NA</td><td>   NA  </td></tr>\n",
       "</tbody>\n",
       "</table>\n"
      ],
      "text/latex": [
       "\\begin{tabular}{r|lllll}\n",
       "  & Df & Sum Sq & Mean Sq & F value & Pr(>F)\\\\\n",
       "\\hline\n",
       "\tAtti &   1     & 5.8e-02 & 5.8e-02 & 3.3e-03 & 0.954  \\\\\n",
       "\tEnergyC &   1     & 8.8e+00 & 8.8e+00 & 5.0e-01 & 0.481  \\\\\n",
       "\tSqftCate &   1     & 3.1e+00 & 3.1e+00 & 1.7e-01 & 0.677  \\\\\n",
       "\tOwnRent &   1     & 5.0e+01 & 5.0e+01 & 2.8e+00 & 0.095  \\\\\n",
       "\tIncome &   1     & 1.1e+02 & 1.1e+02 & 6.4e+00 & 0.011  \\\\\n",
       "\tHouseholdS &   1     & 3.4e+00 & 3.4e+00 & 1.9e-01 & 0.660  \\\\\n",
       "\tMC &   1     & 1.2e+01 & 1.2e+01 & 6.7e-01 & 0.414  \\\\\n",
       "\tSubNorm &   1     & 8.6e+00 & 8.6e+00 & 4.8e-01 & 0.489  \\\\\n",
       "\tHabitG &   1     & 3.7e+01 & 3.7e+01 & 2.1e+00 & 0.150  \\\\\n",
       "\tAge &   1     & 3.6e+01 & 3.6e+01 & 2.0e+00 & 0.157  \\\\\n",
       "\tEduc &   1     & 1.6e+01 & 1.6e+01 & 8.9e-01 & 0.347  \\\\\n",
       "\tHabitC &   1     & 1.0e+02 & 1.0e+02 & 5.7e+00 & 0.017  \\\\\n",
       "\tGender &   1     & 1.0e+01 & 1.0e+01 & 5.6e-01 & 0.455  \\\\\n",
       "\tPolitical &   1     & 1.6e-03 & 1.6e-03 & 8.7e-05 & 0.993  \\\\\n",
       "\tPBC &   1     & 7.2e+01 & 7.2e+01 & 4.1e+00 & 0.044  \\\\\n",
       "\tEthnic &   1     & 1.6e+01 & 1.6e+01 & 9.0e-01 & 0.344  \\\\\n",
       "\tComfNW &   1     & 9.8e+01 & 9.8e+01 & 5.5e+00 & 0.019  \\\\\n",
       "\tLatitude &   1     & 6.2e+00 & 6.2e+00 & 3.5e-01 & 0.555  \\\\\n",
       "\tResiduals & 580     & 1.0e+04 & 1.8e+01 &      NA &    NA  \\\\\n",
       "\\end{tabular}\n"
      ],
      "text/plain": [
       "           Df  Sum Sq  Mean Sq F value Pr(>F)\n",
       "Atti         1 5.8e-02 5.8e-02 3.3e-03 0.954 \n",
       "EnergyC      1 8.8e+00 8.8e+00 5.0e-01 0.481 \n",
       "SqftCate     1 3.1e+00 3.1e+00 1.7e-01 0.677 \n",
       "OwnRent      1 5.0e+01 5.0e+01 2.8e+00 0.095 \n",
       "Income       1 1.1e+02 1.1e+02 6.4e+00 0.011 \n",
       "HouseholdS   1 3.4e+00 3.4e+00 1.9e-01 0.660 \n",
       "MC           1 1.2e+01 1.2e+01 6.7e-01 0.414 \n",
       "SubNorm      1 8.6e+00 8.6e+00 4.8e-01 0.489 \n",
       "HabitG       1 3.7e+01 3.7e+01 2.1e+00 0.150 \n",
       "Age          1 3.6e+01 3.6e+01 2.0e+00 0.157 \n",
       "Educ         1 1.6e+01 1.6e+01 8.9e-01 0.347 \n",
       "HabitC       1 1.0e+02 1.0e+02 5.7e+00 0.017 \n",
       "Gender       1 1.0e+01 1.0e+01 5.6e-01 0.455 \n",
       "Political    1 1.6e-03 1.6e-03 8.7e-05 0.993 \n",
       "PBC          1 7.2e+01 7.2e+01 4.1e+00 0.044 \n",
       "Ethnic       1 1.6e+01 1.6e+01 9.0e-01 0.344 \n",
       "ComfNW       1 9.8e+01 9.8e+01 5.5e+00 0.019 \n",
       "Latitude     1 6.2e+00 6.2e+00 3.5e-01 0.555 \n",
       "Residuals  580 1.0e+04 1.8e+01      NA    NA "
      ]
     },
     "metadata": {},
     "output_type": "display_data"
    }
   ],
   "source": [
    "anova(mod)"
   ]
  },
  {
   "cell_type": "code",
   "execution_count": 87,
   "metadata": {
    "collapsed": false
   },
   "outputs": [
    {
     "data": {
      "text/plain": [
       "\n",
       "Call:\n",
       "lm(formula = fmla, data = data2, subset = data2$Latitude > 37)\n",
       "\n",
       "Residuals:\n",
       "   Min     1Q Median     3Q    Max \n",
       "-4.048 -1.213 -0.133  1.086  4.401 \n",
       "\n",
       "Coefficients:\n",
       "             Estimate Std. Error t value Pr(>|t|)  \n",
       "(Intercept)  4.215977   1.844608    2.29    0.023 *\n",
       "Atti        -0.159382   0.103734   -1.54    0.125  \n",
       "Educ         0.000853   0.090004    0.01    0.992  \n",
       "OwnRent      0.470640   0.220149    2.14    0.033 *\n",
       "Ethnic       0.282727   0.296036    0.96    0.340  \n",
       "Political    0.031133   0.122010    0.26    0.799  \n",
       "Latitude    -0.014040   0.037134   -0.38    0.706  \n",
       "SqftCate     0.070429   0.102637    0.69    0.493  \n",
       "HouseholdS  -0.128531   0.095450   -1.35    0.179  \n",
       "SubNorm      0.108599   0.076196    1.43    0.155  \n",
       "HabitC      -0.158389   0.064504   -2.46    0.015 *\n",
       "PBC          0.010361   0.106064    0.10    0.922  \n",
       "Gender       0.324253   0.200724    1.62    0.107  \n",
       "ComfNW       0.138708   0.057225    2.42    0.016 *\n",
       "---\n",
       "Signif. codes:  0 '***' 0.001 '**' 0.01 '*' 0.05 '.' 0.1 ' ' 1\n",
       "\n",
       "Residual standard error: 1.8 on 334 degrees of freedom\n",
       "Multiple R-squared:  0.0702,\tAdjusted R-squared:  0.034 \n",
       "F-statistic: 1.94 on 13 and 334 DF,  p-value: 0.0252\n"
      ]
     },
     "metadata": {},
     "output_type": "display_data"
    }
   ],
   "source": [
    "IndepPred = c('Atti', 'Educ', 'OwnRent', \"Ethnic\", 'Political', 'Latitude', 'SqftCate', 'HouseholdS', 'SubNorm', 'HabitC', 'PBC', 'Gender', 'ComfNW')\n",
    "fmla <- as.formula(paste(\"IncHomeW\",paste(IndepPred,collapse=\"+\"),sep=\"~\"));\n",
    "mod = lm(fmla,data=data2,subs=data2$Latitude>37)\n",
    "summary(mod)"
   ]
  },
  {
   "cell_type": "code",
   "execution_count": 166,
   "metadata": {
    "collapsed": false
   },
   "outputs": [
    {
     "data": {
      "text/html": [
       "<table>\n",
       "<thead><tr><th></th><th scope=col>Df</th><th scope=col>Sum Sq</th><th scope=col>Mean Sq</th><th scope=col>F value</th><th scope=col>Pr(&gt;F)</th></tr></thead>\n",
       "<tbody>\n",
       "\t<tr><th scope=row>Atti</th><td>  1    </td><td>5.8e-02</td><td>  0.058</td><td>0.0033 </td><td>0.954  </td></tr>\n",
       "\t<tr><th scope=row>EnergyC</th><td>  1    </td><td>8.8e+00</td><td>  8.844</td><td>0.4950 </td><td>0.482  </td></tr>\n",
       "\t<tr><th scope=row>SqftCate</th><td>  1    </td><td>3.1e+00</td><td>  3.103</td><td>0.1737 </td><td>0.677  </td></tr>\n",
       "\t<tr><th scope=row>OwnRent</th><td>  1    </td><td>5.0e+01</td><td> 49.676</td><td>2.7805 </td><td>0.096  </td></tr>\n",
       "\t<tr><th scope=row>MC</th><td>  1    </td><td>1.5e+01</td><td> 15.017</td><td>0.8406 </td><td>0.360  </td></tr>\n",
       "\t<tr><th scope=row>HouseholdS</th><td>  1    </td><td>5.5e+00</td><td>  5.471</td><td>0.3062 </td><td>0.580  </td></tr>\n",
       "\t<tr><th scope=row>Income</th><td>  1    </td><td>1.1e+02</td><td>109.581</td><td>6.1335 </td><td>0.014  </td></tr>\n",
       "\t<tr><th scope=row>SubNorm</th><td>  1    </td><td>8.6e+00</td><td>  8.557</td><td>0.4790 </td><td>0.489  </td></tr>\n",
       "\t<tr><th scope=row>HabitG</th><td>  1    </td><td>3.7e+01</td><td> 37.003</td><td>2.0711 </td><td>0.151  </td></tr>\n",
       "\t<tr><th scope=row>HabitC</th><td>  1    </td><td>1.1e+02</td><td>106.907</td><td>5.9838 </td><td>0.015  </td></tr>\n",
       "\t<tr><th scope=row>Educ</th><td>  1    </td><td>6.6e+00</td><td>  6.628</td><td>0.3710 </td><td>0.543  </td></tr>\n",
       "\t<tr><th scope=row>PBC</th><td>  1    </td><td>6.9e+01</td><td> 69.141</td><td>3.8700 </td><td>0.050  </td></tr>\n",
       "\t<tr><th scope=row>Political</th><td>  1    </td><td>4.7e-01</td><td>  0.465</td><td>0.0260 </td><td>0.872  </td></tr>\n",
       "\t<tr><th scope=row>Gender</th><td>  1    </td><td>5.5e+00</td><td>  5.505</td><td>0.3081 </td><td>0.579  </td></tr>\n",
       "\t<tr><th scope=row>ComfNW</th><td>  1    </td><td>1.1e+02</td><td>110.227</td><td>6.1697 </td><td>0.013  </td></tr>\n",
       "\t<tr><th scope=row>Latitude</th><td>  1    </td><td>9.0e+00</td><td>  8.955</td><td>0.5012 </td><td>0.479  </td></tr>\n",
       "\t<tr><th scope=row>Ethnic</th><td>  1    </td><td>1.4e+00</td><td>  1.406</td><td>0.0787 </td><td>0.779  </td></tr>\n",
       "\t<tr><th scope=row>Residuals</th><td>581    </td><td>1.0e+04</td><td> 17.866</td><td>    NA </td><td>   NA  </td></tr>\n",
       "</tbody>\n",
       "</table>\n"
      ],
      "text/latex": [
       "\\begin{tabular}{r|lllll}\n",
       "  & Df & Sum Sq & Mean Sq & F value & Pr(>F)\\\\\n",
       "\\hline\n",
       "\tAtti &   1     & 5.8e-02 &   0.058 & 0.0033  & 0.954  \\\\\n",
       "\tEnergyC &   1     & 8.8e+00 &   8.844 & 0.4950  & 0.482  \\\\\n",
       "\tSqftCate &   1     & 3.1e+00 &   3.103 & 0.1737  & 0.677  \\\\\n",
       "\tOwnRent &   1     & 5.0e+01 &  49.676 & 2.7805  & 0.096  \\\\\n",
       "\tMC &   1     & 1.5e+01 &  15.017 & 0.8406  & 0.360  \\\\\n",
       "\tHouseholdS &   1     & 5.5e+00 &   5.471 & 0.3062  & 0.580  \\\\\n",
       "\tIncome &   1     & 1.1e+02 & 109.581 & 6.1335  & 0.014  \\\\\n",
       "\tSubNorm &   1     & 8.6e+00 &   8.557 & 0.4790  & 0.489  \\\\\n",
       "\tHabitG &   1     & 3.7e+01 &  37.003 & 2.0711  & 0.151  \\\\\n",
       "\tHabitC &   1     & 1.1e+02 & 106.907 & 5.9838  & 0.015  \\\\\n",
       "\tEduc &   1     & 6.6e+00 &   6.628 & 0.3710  & 0.543  \\\\\n",
       "\tPBC &   1     & 6.9e+01 &  69.141 & 3.8700  & 0.050  \\\\\n",
       "\tPolitical &   1     & 4.7e-01 &   0.465 & 0.0260  & 0.872  \\\\\n",
       "\tGender &   1     & 5.5e+00 &   5.505 & 0.3081  & 0.579  \\\\\n",
       "\tComfNW &   1     & 1.1e+02 & 110.227 & 6.1697  & 0.013  \\\\\n",
       "\tLatitude &   1     & 9.0e+00 &   8.955 & 0.5012  & 0.479  \\\\\n",
       "\tEthnic &   1     & 1.4e+00 &   1.406 & 0.0787  & 0.779  \\\\\n",
       "\tResiduals & 581     & 1.0e+04 &  17.866 &     NA  &    NA  \\\\\n",
       "\\end{tabular}\n"
      ],
      "text/plain": [
       "           Df  Sum Sq  Mean Sq F value Pr(>F)\n",
       "Atti         1 5.8e-02   0.058 0.0033  0.954 \n",
       "EnergyC      1 8.8e+00   8.844 0.4950  0.482 \n",
       "SqftCate     1 3.1e+00   3.103 0.1737  0.677 \n",
       "OwnRent      1 5.0e+01  49.676 2.7805  0.096 \n",
       "MC           1 1.5e+01  15.017 0.8406  0.360 \n",
       "HouseholdS   1 5.5e+00   5.471 0.3062  0.580 \n",
       "Income       1 1.1e+02 109.581 6.1335  0.014 \n",
       "SubNorm      1 8.6e+00   8.557 0.4790  0.489 \n",
       "HabitG       1 3.7e+01  37.003 2.0711  0.151 \n",
       "HabitC       1 1.1e+02 106.907 5.9838  0.015 \n",
       "Educ         1 6.6e+00   6.628 0.3710  0.543 \n",
       "PBC          1 6.9e+01  69.141 3.8700  0.050 \n",
       "Political    1 4.7e-01   0.465 0.0260  0.872 \n",
       "Gender       1 5.5e+00   5.505 0.3081  0.579 \n",
       "ComfNW       1 1.1e+02 110.227 6.1697  0.013 \n",
       "Latitude     1 9.0e+00   8.955 0.5012  0.479 \n",
       "Ethnic       1 1.4e+00   1.406 0.0787  0.779 \n",
       "Residuals  581 1.0e+04  17.866     NA     NA "
      ]
     },
     "metadata": {},
     "output_type": "display_data"
    }
   ],
   "source": [
    "anova(mod)"
   ]
  },
  {
   "cell_type": "code",
   "execution_count": 167,
   "metadata": {
    "collapsed": false
   },
   "outputs": [
    {
     "name": "stdout",
     "output_type": "stream",
     "text": [
      "\n",
      "Call:\n",
      "factanal(x = data2, factors = 2, rotation = \"varimax\")\n",
      "\n",
      "Uniquenesses:\n",
      "  IncHomeW        Age     Gender    OwnRent   SqftCate HouseholdS  Political \n",
      "      1.00       0.86       0.93       0.56       0.47       0.89       0.93 \n",
      "    Ethnic     Income       Educ   Latitude     Frugal         MC    EnergyC \n",
      "      0.99       0.73       0.97       1.00       0.57       0.74       0.54 \n",
      "     Trust     ComfNW       Atti    SubNorm        PBC         SN     HabitG \n",
      "      0.95       0.99       0.44       0.77       0.90       0.88       0.86 \n",
      "    HabitC \n",
      "      0.90 \n",
      "\n",
      "Loadings:\n",
      "           Factor1 Factor2\n",
      "Frugal      0.65          \n",
      "MC          0.51          \n",
      "EnergyC     0.67          \n",
      "Atti        0.75          \n",
      "OwnRent             0.66  \n",
      "SqftCate            0.73  \n",
      "Income              0.52  \n",
      "IncHomeW                  \n",
      "Age                 0.37  \n",
      "Gender                    \n",
      "HouseholdS          0.33  \n",
      "Political                 \n",
      "Ethnic                    \n",
      "Educ                      \n",
      "Latitude                  \n",
      "Trust                     \n",
      "ComfNW                    \n",
      "SubNorm     0.48          \n",
      "PBC         0.31          \n",
      "SN          0.30          \n",
      "HabitG      0.37          \n",
      "HabitC      0.30          \n",
      "\n",
      "               Factor1 Factor2\n",
      "SS loadings       2.55    1.60\n",
      "Proportion Var    0.12    0.07\n",
      "Cumulative Var    0.12    0.19\n",
      "\n",
      "Test of the hypothesis that 2 factors are sufficient.\n",
      "The chi square statistic is 639 on 188 degrees of freedom.\n",
      "The p-value is 1.7e-50 \n"
     ]
    }
   ],
   "source": [
    "fit <- factanal(data2, 2, rotation=\"varimax\")\n",
    "print(fit, digits=2, cutoff=.3, sort=TRUE)"
   ]
  },
  {
   "cell_type": "code",
   "execution_count": 174,
   "metadata": {
    "collapsed": false
   },
   "outputs": [
    {
     "data": {
      "text/plain": [
       "\n",
       "Call:\n",
       "lm(formula = IncHomeW ~ Frugal, data = data2)\n",
       "\n",
       "Residuals:\n",
       "   Min     1Q Median     3Q    Max \n",
       " -4.33  -1.45  -0.30   1.00  93.67 \n",
       "\n",
       "Coefficients:\n",
       "            Estimate Std. Error t value Pr(>|t|)    \n",
       "(Intercept)    7.106      1.135    6.26  7.2e-10 ***\n",
       "Frugal        -0.443      0.188   -2.36    0.018 *  \n",
       "---\n",
       "Signif. codes:  0 '***' 0.001 '**' 0.01 '*' 0.05 '.' 0.1 ' ' 1\n",
       "\n",
       "Residual standard error: 4.3 on 597 degrees of freedom\n",
       "Multiple R-squared:  0.00926,\tAdjusted R-squared:  0.00761 \n",
       "F-statistic: 5.58 on 1 and 597 DF,  p-value: 0.0185\n"
      ]
     },
     "metadata": {},
     "output_type": "display_data"
    }
   ],
   "source": [
    "mod = lm(IncHomeW~Frugal,data=data2)\n",
    "summary(mod)"
   ]
  },
  {
   "cell_type": "code",
   "execution_count": 175,
   "metadata": {
    "collapsed": false
   },
   "outputs": [
    {
     "data": {
      "image/png": "[encoded data removed]",
      "text/plain": [
       "Plot with title \"\""
      ]
     },
     "metadata": {},
     "output_type": "display_data"
    },
    {
     "data": {
      "image/png": "[encoded data removed]",
      "text/plain": [
       "Plot with title \"\""
      ]
     },
     "metadata": {},
     "output_type": "display_data"
    },
    {
     "data": {
      "image/png": "[encoded data removed]",
      "text/plain": [
       "Plot with title \"\""
      ]
     },
     "metadata": {},
     "output_type": "display_data"
    },
    {
     "data": {
      "image/png": "[encoded data removed]",
      "text/plain": [
       "Plot with title \"\""
      ]
     },
     "metadata": {},
     "output_type": "display_data"
    }
   ],
   "source": [
    "plot(mod)"
   ]
  },
  {
   "cell_type": "code",
   "execution_count": 45,
   "metadata": {
    "collapsed": false
   },
   "outputs": [
    {
     "data": {
      "image/png": "[encoded data removed]",
      "text/plain": [
       "plot without title"
      ]
     },
     "metadata": {},
     "output_type": "display_data"
    }
   ],
   "source": [
    "plot(mod$residuals,data2$IncHomeS)\n",
    "z<-tapply(mod$residuals,data2$IncHomeS,mean)\n",
    "points(z,1:8,pch=\"*\",cex=3)"
   ]
  },
  {
   "cell_type": "code",
   "execution_count": 179,
   "metadata": {
    "collapsed": false
   },
   "outputs": [
    {
     "data": {
      "text/plain": [
       "\n",
       "Call:\n",
       "lm(formula = IncHomeW ~ Frugal + Trust + MC + ComfNW + Income + \n",
       "    HabitC + OwnRent + EnergyC + PBC + Age, data = data2)\n",
       "\n",
       "Residuals:\n",
       "   Min     1Q Median     3Q    Max \n",
       " -5.75  -1.48  -0.24   1.23  88.35 \n",
       "\n",
       "Coefficients:\n",
       "            Estimate Std. Error t value Pr(>|t|)    \n",
       "(Intercept)   7.0511     1.6851    4.18  3.3e-05 ***\n",
       "Frugal       -0.6505     0.2241   -2.90   0.0038 ** \n",
       "Trust        -0.3155     0.1242   -2.54   0.0114 *  \n",
       "MC            0.4392     0.1799    2.44   0.0149 *  \n",
       "ComfNW        0.2117     0.0985    2.15   0.0320 *  \n",
       "Income       -0.2282     0.0922   -2.48   0.0136 *  \n",
       "HabitC       -0.2280     0.1103   -2.07   0.0391 *  \n",
       "OwnRent       0.7073     0.3707    1.91   0.0569 .  \n",
       "EnergyC       0.2848     0.1390    2.05   0.0410 *  \n",
       "PBC          -0.3020     0.1908   -1.58   0.1140    \n",
       "Age           0.0259     0.0162    1.60   0.1106    \n",
       "---\n",
       "Signif. codes:  0 '***' 0.001 '**' 0.01 '*' 0.05 '.' 0.1 ' ' 1\n",
       "\n",
       "Residual standard error: 4.2 on 588 degrees of freedom\n",
       "Multiple R-squared:  0.0714,\tAdjusted R-squared:  0.0557 \n",
       "F-statistic: 4.52 on 10 and 588 DF,  p-value: 3.46e-06\n"
      ]
     },
     "metadata": {},
     "output_type": "display_data"
    }
   ],
   "source": [
    "mod = lm(IncHomeW~Frugal+Trust+MC+ComfNW+Income+HabitC+OwnRent+EnergyC+PBC+Age,data=data2)\n",
    "summary(mod)"
   ]
  },
  {
   "cell_type": "code",
   "execution_count": 173,
   "metadata": {
    "collapsed": false
   },
   "outputs": [
    {
     "data": {
      "text/plain": [
       "\n",
       "Call:\n",
       "lm(formula = IncHomeW ~ Frugal + Trust + MC + ComfNW + Income, \n",
       "    data = data2)\n",
       "\n",
       "Residuals:\n",
       "   Min     1Q Median     3Q    Max \n",
       " -5.00  -1.41  -0.21   1.08  90.94 \n",
       "\n",
       "Coefficients:\n",
       "            Estimate Std. Error t value Pr(>|t|)    \n",
       "(Intercept)   7.1053     1.4568    4.88  1.4e-06 ***\n",
       "Frugal       -0.5783     0.2050   -2.82   0.0050 ** \n",
       "Trust        -0.3233     0.1245   -2.60   0.0097 ** \n",
       "MC            0.4083     0.1765    2.31   0.0210 *  \n",
       "ComfNW        0.1955     0.0991    1.97   0.0489 *  \n",
       "Income       -0.1423     0.0872   -1.63   0.1033    \n",
       "---\n",
       "Signif. codes:  0 '***' 0.001 '**' 0.01 '*' 0.05 '.' 0.1 ' ' 1\n",
       "\n",
       "Residual standard error: 4.2 on 593 degrees of freedom\n",
       "Multiple R-squared:  0.0403,\tAdjusted R-squared:  0.0322 \n",
       "F-statistic: 4.98 on 5 and 593 DF,  p-value: 0.000179\n"
      ]
     },
     "metadata": {},
     "output_type": "display_data"
    }
   ],
   "source": [
    "#Probably overfitting\n",
    "mod1 = lm(IncHomeW~Frugal+Trust+MC+ComfNW+Income,data=data2)\n",
    "summary(mod1)"
   ]
  },
  {
   "cell_type": "code",
   "execution_count": 19,
   "metadata": {
    "collapsed": false
   },
   "outputs": [
    {
     "name": "stderr",
     "output_type": "stream",
     "text": [
      "Loading required package: nlme\n",
      "This is mgcv 1.8-14. For overview type 'help(\"mgcv-package\")'.\n"
     ]
    }
   ],
   "source": [
    "library(mgcv)\n"
   ]
  },
  {
   "cell_type": "code",
   "execution_count": 20,
   "metadata": {
    "collapsed": false
   },
   "outputs": [
    {
     "data": {
      "text/plain": [
       "\n",
       "Family: gaussian \n",
       "Link function: identity \n",
       "\n",
       "Formula:\n",
       "IncHomeS ~ I(ComfNS3 <= 3) + I(ComfNS3 == 7) + s(Age)\n",
       "\n",
       "Parametric coefficients:\n",
       "                    Estimate Std. Error t value Pr(>|t|)    \n",
       "(Intercept)           4.1826     0.0906   46.17  < 2e-16 ***\n",
       "I(ComfNS3 <= 3)TRUE  -0.7694     0.1666   -4.62  4.7e-06 ***\n",
       "I(ComfNS3 == 7)TRUE   0.7656     0.1738    4.40  1.2e-05 ***\n",
       "---\n",
       "Signif. codes:  0 '***' 0.001 '**' 0.01 '*' 0.05 '.' 0.1 ' ' 1\n",
       "\n",
       "Approximate significance of smooth terms:\n",
       "       edf Ref.df    F p-value    \n",
       "s(Age)   1      1 13.3 0.00029 ***\n",
       "---\n",
       "Signif. codes:  0 '***' 0.001 '**' 0.01 '*' 0.05 '.' 0.1 ' ' 1\n",
       "\n",
       "R-sq.(adj) =  0.0975   Deviance explained = 10.2%\n",
       "GCV = 2.9649  Scale est. = 2.9465    n = 644"
      ]
     },
     "metadata": {},
     "output_type": "display_data"
    }
   ],
   "source": [
    "mGam = gam(IncHomeS~I(ComfNS3<=3)+I(ComfNS3==7)+s(Age),data=data2)\n",
    "summary(mGam)\n"
   ]
  },
  {
   "cell_type": "code",
   "execution_count": 21,
   "metadata": {
    "collapsed": false
   },
   "outputs": [
    {
     "data": {
      "image/png": "[encoded data removed]",
      "text/plain": [
       "plot without title"
      ]
     },
     "metadata": {},
     "output_type": "display_data"
    }
   ],
   "source": [
    "plot(mGam)"
   ]
  },
  {
   "cell_type": "code",
   "execution_count": 22,
   "metadata": {
    "collapsed": false
   },
   "outputs": [
    {
     "data": {
      "text/plain": [
       "\n",
       "Call:\n",
       "lm(formula = IncHomeS ~ I(ComfNS3 <= 3) + I(ComfNS3 == 7) + Age + \n",
       "    HabitC2 + Political, data = data2)\n",
       "\n",
       "Residuals:\n",
       "   Min     1Q Median     3Q    Max \n",
       "-4.234 -1.162 -0.081  1.001  4.540 \n",
       "\n",
       "Coefficients:\n",
       "                    Estimate Std. Error t value Pr(>|t|)    \n",
       "(Intercept)          4.19372    0.34065   12.31  < 2e-16 ***\n",
       "I(ComfNS3 <= 3)TRUE -0.77483    0.16608   -4.67  3.8e-06 ***\n",
       "I(ComfNS3 == 7)TRUE  0.75141    0.17314    4.34  1.7e-05 ***\n",
       "Age                  0.02211    0.00602    3.67  0.00026 ***\n",
       "HabitC2             -0.09516    0.03689   -2.58  0.01011 *  \n",
       "Political           -0.05864    0.03039   -1.93  0.05408 .  \n",
       "---\n",
       "Signif. codes:  0 '***' 0.001 '**' 0.01 '*' 0.05 '.' 0.1 ' ' 1\n",
       "\n",
       "Residual standard error: 1.7 on 638 degrees of freedom\n",
       "Multiple R-squared:  0.116,\tAdjusted R-squared:  0.109 \n",
       "F-statistic: 16.7 on 5 and 638 DF,  p-value: 1.68e-15\n"
      ]
     },
     "metadata": {},
     "output_type": "display_data"
    }
   ],
   "source": [
    "mod1 = lm(IncHomeS~I(ComfNS3<=3)+I(ComfNS3==7)+Age+HabitC2+ Political,data=data2)\n",
    "summary(mod1)\n"
   ]
  },
  {
   "cell_type": "code",
   "execution_count": 23,
   "metadata": {
    "collapsed": false
   },
   "outputs": [
    {
     "data": {
      "text/html": [
       "<table>\n",
       "<thead><tr><th></th><th scope=col>Df</th><th scope=col>Sum Sq</th><th scope=col>Mean Sq</th><th scope=col>F value</th><th scope=col>Pr(&gt;F)</th></tr></thead>\n",
       "<tbody>\n",
       "\t<tr><th scope=row>I(ComfNS3 &lt;= 3)</th><td>  1    </td><td> 115   </td><td>115.2  </td><td>39.6   </td><td>5.8e-10</td></tr>\n",
       "\t<tr><th scope=row>I(ComfNS3 == 7)</th><td>  1    </td><td>  59   </td><td> 59.2  </td><td>20.3   </td><td>7.7e-06</td></tr>\n",
       "\t<tr><th scope=row>Age</th><td>  1    </td><td>  39   </td><td> 39.1  </td><td>13.4   </td><td>2.7e-04</td></tr>\n",
       "\t<tr><th scope=row>HabitC2</th><td>  1    </td><td>  18   </td><td> 18.4  </td><td> 6.3   </td><td>1.2e-02</td></tr>\n",
       "\t<tr><th scope=row>Political</th><td>  1    </td><td>  11   </td><td> 10.8  </td><td> 3.7   </td><td>5.4e-02</td></tr>\n",
       "\t<tr><th scope=row>Residuals</th><td>638    </td><td>1857   </td><td>  2.9  </td><td>  NA   </td><td>     NA</td></tr>\n",
       "</tbody>\n",
       "</table>\n"
      ],
      "text/latex": [
       "\\begin{tabular}{r|lllll}\n",
       "  & Df & Sum Sq & Mean Sq & F value & Pr(>F)\\\\\n",
       "\\hline\n",
       "\tI(ComfNS3 <= 3) &   1     &  115    & 115.2   & 39.6    & 5.8e-10\\\\\n",
       "\tI(ComfNS3 == 7) &   1     &   59    &  59.2   & 20.3    & 7.7e-06\\\\\n",
       "\tAge &   1     &   39    &  39.1   & 13.4    & 2.7e-04\\\\\n",
       "\tHabitC2 &   1     &   18    &  18.4   &  6.3    & 1.2e-02\\\\\n",
       "\tPolitical &   1     &   11    &  10.8   &  3.7    & 5.4e-02\\\\\n",
       "\tResiduals & 638     & 1857    &   2.9   &   NA    &      NA\\\\\n",
       "\\end{tabular}\n"
      ],
      "text/plain": [
       "                Df  Sum Sq Mean Sq F value Pr(>F) \n",
       "I(ComfNS3 <= 3)   1  115   115.2   39.6    5.8e-10\n",
       "I(ComfNS3 == 7)   1   59    59.2   20.3    7.7e-06\n",
       "Age               1   39    39.1   13.4    2.7e-04\n",
       "HabitC2           1   18    18.4    6.3    1.2e-02\n",
       "Political         1   11    10.8    3.7    5.4e-02\n",
       "Residuals       638 1857     2.9     NA         NA"
      ]
     },
     "metadata": {},
     "output_type": "display_data"
    }
   ],
   "source": [
    "anova(mod1)"
   ]
  },
  {
   "cell_type": "code",
   "execution_count": 24,
   "metadata": {
    "collapsed": false
   },
   "outputs": [
    {
     "data": {
      "text/html": [
       "<table>\n",
       "<thead><tr><th></th><th scope=col>Df</th><th scope=col>Sum of Sq</th><th scope=col>RSS</th><th scope=col>AIC</th></tr></thead>\n",
       "<tbody>\n",
       "\t<tr><th scope=row>&lt;none&gt;</th><td>NA  </td><td>NA  </td><td>1857</td><td>694 </td></tr>\n",
       "\t<tr><th scope=row>I(ComfNS3 &lt;= 3)</th><td> 1  </td><td>63  </td><td>1920</td><td>713 </td></tr>\n",
       "\t<tr><th scope=row>I(ComfNS3 == 7)</th><td> 1  </td><td>55  </td><td>1911</td><td>711 </td></tr>\n",
       "\t<tr><th scope=row>Age</th><td> 1  </td><td>39  </td><td>1896</td><td>705 </td></tr>\n",
       "\t<tr><th scope=row>HabitC2</th><td> 1  </td><td>19  </td><td>1876</td><td>699 </td></tr>\n",
       "\t<tr><th scope=row>Political</th><td> 1  </td><td>11  </td><td>1867</td><td>696 </td></tr>\n",
       "</tbody>\n",
       "</table>\n"
      ],
      "text/latex": [
       "\\begin{tabular}{r|llll}\n",
       "  & Df & Sum of Sq & RSS & AIC\\\\\n",
       "\\hline\n",
       "\t<none> & NA   & NA   & 1857 & 694 \\\\\n",
       "\tI(ComfNS3 <= 3) &  1   & 63   & 1920 & 713 \\\\\n",
       "\tI(ComfNS3 == 7) &  1   & 55   & 1911 & 711 \\\\\n",
       "\tAge &  1   & 39   & 1896 & 705 \\\\\n",
       "\tHabitC2 &  1   & 19   & 1876 & 699 \\\\\n",
       "\tPolitical &  1   & 11   & 1867 & 696 \\\\\n",
       "\\end{tabular}\n"
      ],
      "text/plain": [
       "                Df Sum of Sq RSS  AIC\n",
       "<none>          NA NA        1857 694\n",
       "I(ComfNS3 <= 3)  1 63        1920 713\n",
       "I(ComfNS3 == 7)  1 55        1911 711\n",
       "Age              1 39        1896 705\n",
       "HabitC2          1 19        1876 699\n",
       "Political        1 11        1867 696"
      ]
     },
     "metadata": {},
     "output_type": "display_data"
    }
   ],
   "source": [
    "drop1(mod1)"
   ]
  },
  {
   "cell_type": "code",
   "execution_count": 25,
   "metadata": {
    "collapsed": false
   },
   "outputs": [
    {
     "name": "stderr",
     "output_type": "stream",
     "text": [
      "\n",
      "Attaching package: 'bnlearn'\n",
      "\n",
      "The following object is masked from 'package:stats':\n",
      "\n",
      "    sigma\n",
      "\n"
     ]
    }
   ],
   "source": [
    "library(bnlearn)"
   ]
  },
  {
   "cell_type": "code",
   "execution_count": 26,
   "metadata": {
    "collapsed": false
   },
   "outputs": [
    {
     "data": {
      "image/png": "[encoded data removed]",
      "text/plain": [
       "plot without title"
      ]
     },
     "metadata": {},
     "output_type": "display_data"
    }
   ],
   "source": [
    "dd2 = data2[,c('IncHomeS', 'ComfNS3','Age','HabitC2')]\n",
    "for (i in 1:4) dd2[,i] <- as.double(dd2[,i])\n",
    "dag2 = tabu(dd2)\n",
    "plot(dag2)"
   ]
  },
  {
   "cell_type": "code",
   "execution_count": 27,
   "metadata": {
    "collapsed": false
   },
   "outputs": [
    {
     "data": {
      "text/plain": [
       "\n",
       "Call:\n",
       "lm(formula = fmlaF, data = data2)\n",
       "\n",
       "Residuals:\n",
       "   Min     1Q Median     3Q    Max \n",
       "-3.672 -1.120 -0.092  1.051  4.878 \n",
       "\n",
       "Coefficients:\n",
       "             Estimate Std. Error t value Pr(>|t|)   \n",
       "(Intercept)  3.12e+00   1.26e+00    2.49   0.0132 * \n",
       "Age          2.37e-02   7.22e-03    3.28   0.0011 **\n",
       "Gender       1.02e-01   1.56e-01    0.66   0.5117   \n",
       "OwnRent     -1.93e-03   1.64e-01   -0.01   0.9906   \n",
       "BillS        6.56e-04   1.27e-03    0.52   0.6060   \n",
       "NBillS       1.30e-01   1.29e-01    1.01   0.3138   \n",
       "Sqft        -3.13e-05   1.11e-04   -0.28   0.7776   \n",
       "SqftCate    -3.01e-02   1.10e-01   -0.27   0.7853   \n",
       "HouseholdS  -8.02e-02   6.84e-02   -1.17   0.2412   \n",
       "Political   -6.80e-02   3.33e-02   -2.04   0.0417 * \n",
       "Ethnic       1.03e-01   6.05e-02    1.70   0.0901 . \n",
       "Income      -3.16e-02   4.24e-02   -0.74   0.4571   \n",
       "Educ         2.87e-02   6.87e-02    0.42   0.6760   \n",
       "MC1          2.52e-03   7.09e-02    0.04   0.9716   \n",
       "MC2          3.68e-02   7.60e-02    0.48   0.6290   \n",
       "MC3         -5.95e-02   7.00e-02   -0.85   0.3959   \n",
       "MC4          5.98e-02   7.07e-02    0.85   0.3981   \n",
       "MC5         -6.47e-02   8.78e-02   -0.74   0.4614   \n",
       "Frugal1     -3.85e-02   1.10e-01   -0.35   0.7262   \n",
       "Frugal2     -8.59e-02   9.05e-02   -0.95   0.3429   \n",
       "Frugal3     -1.18e-02   9.34e-02   -0.13   0.8995   \n",
       "Trust1       2.10e-01   1.22e-01    1.72   0.0863 . \n",
       "Trust2       1.28e-02   7.90e-02    0.16   0.8712   \n",
       "Trust3      -1.17e-01   7.59e-02   -1.54   0.1229   \n",
       "Trust4      -8.30e-02   1.16e-01   -0.72   0.4729   \n",
       "ComfNS1      5.25e-02   7.68e-02    0.68   0.4946   \n",
       "ComfNS2      8.00e-02   6.17e-02    1.30   0.1956   \n",
       "ComfNS3      1.46e-01   6.92e-02    2.11   0.0353 * \n",
       "ConvB1       3.75e-02   7.85e-02    0.48   0.6333   \n",
       "ConvB2      -5.31e-02   8.29e-02   -0.64   0.5225   \n",
       "ConvB3       1.24e-02   5.19e-02    0.24   0.8110   \n",
       "ConvB4      -8.88e-03   5.75e-02   -0.15   0.8772   \n",
       "ControlN1    8.58e-02   9.14e-02    0.94   0.3482   \n",
       "ControlN2R  -7.14e-02   4.63e-02   -1.54   0.1237   \n",
       "ControlN3    3.67e-02   7.92e-02    0.46   0.6429   \n",
       "ControlN4    7.48e-03   5.41e-02    0.14   0.8901   \n",
       "Atti1       -2.79e-03   1.20e-01   -0.02   0.9814   \n",
       "Atti2       -6.29e-02   1.14e-01   -0.55   0.5810   \n",
       "Atti3       -7.23e-02   1.13e-01   -0.64   0.5209   \n",
       "Atti4       -7.00e-03   1.11e-01   -0.06   0.9499   \n",
       "SubNorm1     9.04e-02   5.86e-02    1.54   0.1235   \n",
       "SubNorm2    -8.76e-03   6.82e-02   -0.13   0.8978   \n",
       "SubNorm3    -3.12e-02   5.47e-02   -0.57   0.5681   \n",
       "PBC1         1.24e-01   6.69e-02    1.85   0.0650 . \n",
       "PBC2        -1.11e-01   1.12e-01   -0.99   0.3216   \n",
       "PBC3R       -3.66e-03   5.19e-02   -0.07   0.9437   \n",
       "PBC4        -1.27e-02   1.11e-01   -0.12   0.9084   \n",
       "PBC5        -8.22e-02   7.38e-02   -1.11   0.2661   \n",
       "SN1          4.08e-02   1.03e-01    0.39   0.6933   \n",
       "SN2         -1.02e-01   1.04e-01   -0.97   0.3310   \n",
       "SN3         -2.25e-02   5.42e-02   -0.41   0.6786   \n",
       "SN4          1.01e-01   7.18e-02    1.41   0.1581   \n",
       "HabitC1      6.74e-02   8.87e-02    0.76   0.4474   \n",
       "HabitC2     -8.93e-02   4.26e-02   -2.10   0.0365 * \n",
       "HabitC3      6.36e-02   4.31e-02    1.48   0.1407   \n",
       "HabitC4      1.20e-02   4.01e-02    0.30   0.7645   \n",
       "HabitC5     -1.66e-02   3.91e-02   -0.42   0.6715   \n",
       "HabitC6     -4.51e-02   3.70e-02   -1.22   0.2239   \n",
       "HabitC7     -7.40e-03   4.43e-02   -0.17   0.8674   \n",
       "HabitE1      1.28e-02   1.64e-01    0.08   0.9377   \n",
       "HabitE2      1.07e-01   1.15e-01    0.93   0.3525   \n",
       "HabitE3     -1.98e-02   1.14e-01   -0.17   0.8620   \n",
       "---\n",
       "Signif. codes:  0 '***' 0.001 '**' 0.01 '*' 0.05 '.' 0.1 ' ' 1\n",
       "\n",
       "Residual standard error: 1.7 on 582 degrees of freedom\n",
       "Multiple R-squared:  0.199,\tAdjusted R-squared:  0.115 \n",
       "F-statistic: 2.37 on 61 and 582 DF,  p-value: 1.42e-07\n"
      ]
     },
     "metadata": {},
     "output_type": "display_data"
    }
   ],
   "source": [
    "fmlaF <- as.formula(paste(\"IncHomeS\",paste(IVS,collapse=\"+\"),sep=\"~\"));\n",
    "mod = lm(fmlaF,data=data2)\n",
    "summary(mod)"
   ]
  },
  {
   "cell_type": "code",
   "execution_count": null,
   "metadata": {
    "collapsed": true
   },
   "outputs": [],
   "source": []
  },
  {
   "cell_type": "code",
   "execution_count": 28,
   "metadata": {
    "collapsed": false
   },
   "outputs": [
    {
     "data": {
      "text/plain": [
       "\n",
       "Call:\n",
       "lm(formula = IncHomeS ~ ComfNS3 + Age + HabitC2 + Political + \n",
       "    Ethnic + Trust1, data = data2)\n",
       "\n",
       "Residuals:\n",
       "   Min     1Q Median     3Q    Max \n",
       "-4.518 -1.152 -0.131  1.015  4.526 \n",
       "\n",
       "Coefficients:\n",
       "            Estimate Std. Error t value Pr(>|t|)    \n",
       "(Intercept)  2.53367    0.43662    5.80  1.0e-08 ***\n",
       "ComfNS3      0.28415    0.03962    7.17  2.1e-12 ***\n",
       "Age          0.02216    0.00608    3.65  0.00029 ***\n",
       "HabitC2     -0.09861    0.03698   -2.67  0.00786 ** \n",
       "Political   -0.05255    0.03052   -1.72  0.08559 .  \n",
       "Ethnic       0.09676    0.05622    1.72  0.08571 .  \n",
       "Trust1       0.02235    0.04340    0.51  0.60675    \n",
       "---\n",
       "Signif. codes:  0 '***' 0.001 '**' 0.01 '*' 0.05 '.' 0.1 ' ' 1\n",
       "\n",
       "Residual standard error: 1.7 on 637 degrees of freedom\n",
       "Multiple R-squared:  0.114,\tAdjusted R-squared:  0.106 \n",
       "F-statistic: 13.7 on 6 and 637 DF,  p-value: 1.1e-14\n"
      ]
     },
     "metadata": {},
     "output_type": "display_data"
    }
   ],
   "source": [
    "#Probably overfitting\n",
    "mod1 = lm(IncHomeS~ComfNS3+Age+HabitC2+Political+Ethnic+Trust1,data=data2)\n",
    "summary(mod1)"
   ]
  },
  {
   "cell_type": "code",
   "execution_count": 29,
   "metadata": {
    "collapsed": false
   },
   "outputs": [
    {
     "ename": "ERROR",
     "evalue": "Error in parse(text = x, srcfile = src): <text>:1:24: unexpected '{'\n1: for (i in 1:length(IVS){\n                           ^\n",
     "output_type": "error",
     "traceback": [
      "Error in parse(text = x, srcfile = src): <text>:1:24: unexpected '{'\n1: for (i in 1:length(IVS){\n                           ^\nTraceback:\n"
     ]
    }
   ],
   "source": [
    "for (i in 1:length(IVS){\n",
    "  fmla <- as.formula(paste(IVS[i],paste(vnam[-c(1,i)],collapse=\"+\"),sep=\"~\"));\n",
    "  res <- rbind(res,c(i,round(summary(lm(fmla,data=data2))$r.squared,2)));\n",
    "}\n",
    "vnam <- (data2);\n",
    "fmlaF <- as.formula(paste(\"Age\",paste(IVS[-\"Age\"],collapse=\"+\"),sep=\"~\"));\n",
    "mod = lm(fmlaF,data=data2)\n",
    "summary(mod)"
   ]
  },
  {
   "cell_type": "code",
   "execution_count": null,
   "metadata": {
    "collapsed": true
   },
   "outputs": [],
   "source": [
    "ind <- 1:length(IVS);names(ind) <- IVS"
   ]
  },
  {
   "cell_type": "code",
   "execution_count": null,
   "metadata": {
    "collapsed": false
   },
   "outputs": [],
   "source": [
    "fmlaF <- as.formula(paste(\"Age\",paste(IVS[-ind[\"Age\"]],collapse=\"+\"),sep=\"~\"));\n",
    "mod = lm(fmlaF,data=data2)\n",
    "res <- summary(mod)$coefficients\n",
    "res[abs(res[,3])>3,]"
   ]
  },
  {
   "cell_type": "code",
   "execution_count": null,
   "metadata": {
    "collapsed": false
   },
   "outputs": [],
   "source": [
    "fmlaF <- as.formula(paste(\"ComfNS3\",paste(IVS[-ind[\"ComfNS3\"]],collapse=\"+\"),sep=\"~\"));\n",
    "mod = lm(fmlaF,data=data2)\n",
    "res <- summary(mod)$coefficients\n",
    "res[abs(res[,3])>3,]"
   ]
  },
  {
   "cell_type": "code",
   "execution_count": 30,
   "metadata": {
    "collapsed": false
   },
   "outputs": [
    {
     "data": {
      "image/png": "[encoded data removed]",
      "text/plain": [
       "plot without title"
      ]
     },
     "metadata": {},
     "output_type": "display_data"
    }
   ],
   "source": [
    "dd2 = data2[,c('IncHomeS', 'ComfNS3','Age','HabitC2',\"Gender\",\"OwnRent\",\"SqftCate\",\n",
    "               \"HouseholdS\",\"Atti3\",\"Atti4\",\"ComfNS1\",\"ComfNS2\")]\n",
    "for (i in 1:12) dd2[,i] <- as.double(dd2[,i])\n",
    "dag2 = tabu(dd2)\n",
    "plot(dag2)"
   ]
  },
  {
   "cell_type": "code",
   "execution_count": null,
   "metadata": {
    "collapsed": true
   },
   "outputs": [],
   "source": []
  }
 ],
 "metadata": {
  "kernelspec": {
   "display_name": "R",
   "language": "R",
   "name": "ir"
  },
  "language_info": {
   "codemirror_mode": "r",
   "file_extension": ".r",
   "mimetype": "text/x-r-source",
   "name": "R",
   "pygments_lexer": "r",
   "version": "3.3.1"
  }
 },
 "nbformat": 4,
 "nbformat_minor": 1
}
